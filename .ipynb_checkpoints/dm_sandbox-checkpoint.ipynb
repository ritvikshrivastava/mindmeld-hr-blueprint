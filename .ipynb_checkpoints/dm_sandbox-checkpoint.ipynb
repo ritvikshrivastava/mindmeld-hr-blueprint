{
 "cells": [
  {
   "cell_type": "code",
   "execution_count": 1,
   "metadata": {},
   "outputs": [
    {
     "name": "stderr",
     "output_type": "stream",
     "text": [
      "/anaconda3/envs/mm_workspace/lib/python3.6/site-packages/sklearn/ensemble/weight_boosting.py:29: DeprecationWarning: numpy.core.umath_tests is an internal NumPy module and should not be imported. It will be removed in a future NumPy release.\n",
      "  from numpy.core.umath_tests import inner1d\n"
     ]
    }
   ],
   "source": [
    "from mindmeld import configure_logs; configure_logs()"
   ]
  },
  {
   "cell_type": "code",
   "execution_count": 24,
   "metadata": {},
   "outputs": [
    {
     "name": "stdout",
     "output_type": "stream",
     "text": [
      "The application package hr_assistant is already imported.\n"
     ]
    },
    {
     "data": {
      "text/plain": [
       "<NaturalLanguageProcessor './hr_assistant' ready: False, dirty: False>"
      ]
     },
     "execution_count": 24,
     "metadata": {},
     "output_type": "execute_result"
    }
   ],
   "source": [
    "from mindmeld.components.nlp import NaturalLanguageProcessor\n",
    "nlp = NaturalLanguageProcessor(app_path='./hr_assistant')\n",
    "nlp"
   ]
  },
  {
   "cell_type": "code",
   "execution_count": 30,
   "metadata": {},
   "outputs": [
    {
     "name": "stdout",
     "output_type": "stream",
     "text": [
      "Fitting domain classifier\n",
      "Loading raw queries from file ./hr_assistant/domains/date/get_date/train.txt\n",
      "Loading raw queries from file ./hr_assistant/domains/date/get_date_range_aggregate/train.txt\n",
      "Loading raw queries from file ./hr_assistant/domains/date/get_date_range_employees/train.txt\n",
      "Loading raw queries from file ./hr_assistant/domains/general/get_aggregate/train.txt\n",
      "Loading raw queries from file ./hr_assistant/domains/general/get_employees/train.txt\n",
      "Loading raw queries from file ./hr_assistant/domains/general/get_info/train.txt\n",
      "Loading raw queries from file ./hr_assistant/domains/hierarchy/get_hierarchy/train.txt\n",
      "Loading raw queries from file ./hr_assistant/domains/salary/get_salary/train.txt\n",
      "Loading raw queries from file ./hr_assistant/domains/salary/get_salary_aggregate/train.txt\n",
      "Loading raw queries from file ./hr_assistant/domains/salary/get_salary_employees/train.txt\n",
      "Loading raw queries from file ./hr_assistant/domains/unsupported/unsupported/train.txt\n",
      "Loading queries from file ./hr_assistant/domains/date/get_date/train.txt\n",
      "Loading queries from file ./hr_assistant/domains/date/get_date_range_aggregate/train.txt\n",
      "Loading queries from file ./hr_assistant/domains/date/get_date_range_employees/train.txt\n",
      "Loading queries from file ./hr_assistant/domains/general/get_aggregate/train.txt\n",
      "Loading queries from file ./hr_assistant/domains/general/get_employees/train.txt\n",
      "Loading queries from file ./hr_assistant/domains/general/get_info/train.txt\n",
      "Loading queries from file ./hr_assistant/domains/hierarchy/get_hierarchy/train.txt\n",
      "Loading queries from file ./hr_assistant/domains/salary/get_salary/train.txt\n",
      "Loading queries from file ./hr_assistant/domains/salary/get_salary_aggregate/train.txt\n",
      "Loading queries from file ./hr_assistant/domains/salary/get_salary_employees/train.txt\n",
      "Loading queries from file ./hr_assistant/domains/unsupported/unsupported/train.txt\n",
      "Fitting intent classifier: domain='general'\n",
      "Selecting hyperparameters using k-fold cross-validation with 5 splits\n",
      "Best accuracy: 98.55%, params: {'C': 1, 'class_weight': {0: 1.1037037037037036, 1: 0.907843137254902, 2: 1.0161716171617161}, 'fit_intercept': True}\n",
      "Fitting entity recognizer: domain='general', intent='get_aggregate'\n",
      "No entity model configuration set. Using default.\n",
      "Selecting hyperparameters using k-fold cross-validation with 5 splits\n",
      "Best accuracy: 93.57%, params: {'C': 10000, 'penalty': 'l2'}\n",
      "No entity_resolution model configuration set. Using default.\n",
      "No entity_resolution model configuration set. Using default.\n",
      "No entity_resolution model configuration set. Using default.\n",
      "No entity_resolution model configuration set. Using default.\n",
      "No entity_resolution model configuration set. Using default.\n",
      "No entity_resolution model configuration set. Using default.\n",
      "No entity_resolution model configuration set. Using default.\n",
      "No entity_resolution model configuration set. Using default.\n",
      "No entity_resolution model configuration set. Using default.\n",
      "No entity_resolution model configuration set. Using default.\n",
      "No entity_resolution model configuration set. Using default.\n",
      "No entity_resolution model configuration set. Using default.\n",
      "No entity_resolution model configuration set. Using default.\n",
      "No entity_resolution model configuration set. Using default.\n",
      "No entity_resolution model configuration set. Using default.\n",
      "No entity_resolution model configuration set. Using default.\n",
      "No entity_resolution model configuration set. Using default.\n",
      "No entity_resolution model configuration set. Using default.\n",
      "No entity_resolution model configuration set. Using default.\n",
      "No entity_resolution model configuration set. Using default.\n",
      "No entity_resolution model configuration set. Using default.\n",
      "Fitting role classifier: domain='general', intent='get_aggregate', entity_type='racedesc'\n",
      "No role model configuration set. Using default.\n",
      "Importing synonym data to synonym index 'synonym_racedesc'\n",
      "Elasticsearch index 'synonym_racedesc' for application 'hr_assistant' already exists!\n",
      "Loading index 'synonym_racedesc'\n"
     ]
    },
    {
     "name": "stderr",
     "output_type": "stream",
     "text": [
      "100%|██████████| 6/6 [00:00<00:00, 185.79it/s]"
     ]
    },
    {
     "name": "stdout",
     "output_type": "stream",
     "text": [
      "Loaded 6 documents\n",
      "Fitting role classifier: domain='general', intent='get_aggregate', entity_type='sys_time'\n",
      "No role model configuration set. Using default.\n",
      "Fitting role classifier: domain='general', intent='get_aggregate', entity_type='comparator'\n",
      "No role model configuration set. Using default.\n",
      "Importing synonym data to synonym index 'synonym_comparator'\n",
      "Elasticsearch index 'synonym_comparator' for application 'hr_assistant' already exists!\n",
      "Loading index 'synonym_comparator'\n"
     ]
    },
    {
     "name": "stderr",
     "output_type": "stream",
     "text": [
      "\n",
      "100%|██████████| 4/4 [00:00<00:00, 153.58it/s]"
     ]
    },
    {
     "name": "stdout",
     "output_type": "stream",
     "text": [
      "Loaded 4 documents\n",
      "Fitting role classifier: domain='general', intent='get_aggregate', entity_type='department'\n",
      "No role model configuration set. Using default.\n",
      "Importing synonym data to synonym index 'synonym_department'\n",
      "Elasticsearch index 'synonym_department' for application 'hr_assistant' already exists!\n",
      "Loading index 'synonym_department'\n"
     ]
    },
    {
     "name": "stderr",
     "output_type": "stream",
     "text": [
      "\n",
      "100%|██████████| 6/6 [00:00<00:00, 183.16it/s]"
     ]
    },
    {
     "name": "stdout",
     "output_type": "stream",
     "text": [
      "Loaded 6 documents\n",
      "Fitting role classifier: domain='general', intent='get_aggregate', entity_type='dob'\n",
      "No role model configuration set. Using default.\n",
      "Importing synonym data to synonym index 'synonym_dob'\n",
      "Elasticsearch index 'synonym_dob' for application 'hr_assistant' already exists!\n",
      "Loading index 'synonym_dob'\n"
     ]
    },
    {
     "name": "stderr",
     "output_type": "stream",
     "text": [
      "\n",
      "100%|██████████| 1/1 [00:00<00:00, 41.69it/s]"
     ]
    },
    {
     "name": "stdout",
     "output_type": "stream",
     "text": [
      "Loaded 1 document\n",
      "Fitting role classifier: domain='general', intent='get_aggregate', entity_type='state'\n",
      "No role model configuration set. Using default.\n",
      "Importing synonym data to synonym index 'synonym_state'\n",
      "Elasticsearch index 'synonym_state' for application 'hr_assistant' already exists!\n",
      "Loading index 'synonym_state'\n"
     ]
    },
    {
     "name": "stderr",
     "output_type": "stream",
     "text": [
      "\n",
      "100%|██████████| 28/28 [00:00<00:00, 435.72it/s]"
     ]
    },
    {
     "name": "stdout",
     "output_type": "stream",
     "text": [
      "Loaded 28 documents\n",
      "Fitting role classifier: domain='general', intent='get_aggregate', entity_type='reason_for_termination'\n",
      "No role model configuration set. Using default.\n",
      "Importing synonym data to synonym index 'synonym_reason_for_termination'\n",
      "Elasticsearch index 'synonym_reason_for_termination' for application 'hr_assistant' already exists!\n",
      "Loading index 'synonym_reason_for_termination'\n"
     ]
    },
    {
     "name": "stderr",
     "output_type": "stream",
     "text": [
      "\n",
      "100%|██████████| 17/17 [00:00<00:00, 318.35it/s]"
     ]
    },
    {
     "name": "stdout",
     "output_type": "stream",
     "text": [
      "Loaded 17 documents\n",
      "Fitting role classifier: domain='general', intent='get_aggregate', entity_type='performance_score'\n",
      "No role model configuration set. Using default.\n"
     ]
    },
    {
     "name": "stderr",
     "output_type": "stream",
     "text": [
      "\n"
     ]
    },
    {
     "name": "stdout",
     "output_type": "stream",
     "text": [
      "Importing synonym data to synonym index 'synonym_performance_score'\n",
      "Elasticsearch index 'synonym_performance_score' for application 'hr_assistant' already exists!\n",
      "Loading index 'synonym_performance_score'\n"
     ]
    },
    {
     "name": "stderr",
     "output_type": "stream",
     "text": [
      "100%|██████████| 7/7 [00:00<00:00, 157.00it/s]"
     ]
    },
    {
     "name": "stdout",
     "output_type": "stream",
     "text": [
      "Loaded 7 documents\n",
      "Fitting role classifier: domain='general', intent='get_aggregate', entity_type='employment_action'\n",
      "No role model configuration set. Using default.\n",
      "Importing synonym data to synonym index 'synonym_employment_action'\n",
      "Elasticsearch index 'synonym_employment_action' for application 'hr_assistant' already exists!\n",
      "Loading index 'synonym_employment_action'\n"
     ]
    },
    {
     "name": "stderr",
     "output_type": "stream",
     "text": [
      "\n",
      "100%|██████████| 2/2 [00:00<00:00, 65.92it/s]"
     ]
    },
    {
     "name": "stdout",
     "output_type": "stream",
     "text": [
      "Loaded 2 documents\n",
      "Fitting role classifier: domain='general', intent='get_aggregate', entity_type='sex'\n",
      "No role model configuration set. Using default.\n",
      "Importing synonym data to synonym index 'synonym_sex'\n",
      "Elasticsearch index 'synonym_sex' for application 'hr_assistant' already exists!\n",
      "Loading index 'synonym_sex'\n"
     ]
    },
    {
     "name": "stderr",
     "output_type": "stream",
     "text": [
      "\n",
      "100%|██████████| 2/2 [00:00<00:00, 61.38it/s]"
     ]
    },
    {
     "name": "stdout",
     "output_type": "stream",
     "text": [
      "Loaded 2 documents\n",
      "Fitting role classifier: domain='general', intent='get_aggregate', entity_type='sys_number'\n",
      "No role model configuration set. Using default.\n",
      "Fitting role classifier: domain='general', intent='get_aggregate', entity_type='function'\n",
      "No role model configuration set. Using default.\n",
      "Importing synonym data to synonym index 'synonym_function'\n",
      "Elasticsearch index 'synonym_function' for application 'hr_assistant' already exists!\n",
      "Loading index 'synonym_function'\n"
     ]
    },
    {
     "name": "stderr",
     "output_type": "stream",
     "text": [
      "\n",
      "100%|██████████| 4/4 [00:00<00:00, 94.30it/s]"
     ]
    },
    {
     "name": "stdout",
     "output_type": "stream",
     "text": [
      "Loaded 4 documents\n",
      "Fitting role classifier: domain='general', intent='get_aggregate', entity_type='maritaldesc'\n",
      "No role model configuration set. Using default.\n",
      "Importing synonym data to synonym index 'synonym_maritaldesc'\n",
      "Elasticsearch index 'synonym_maritaldesc' for application 'hr_assistant' already exists!\n",
      "Loading index 'synonym_maritaldesc'\n"
     ]
    },
    {
     "name": "stderr",
     "output_type": "stream",
     "text": [
      "\n",
      "100%|██████████| 5/5 [00:00<00:00, 153.26it/s]"
     ]
    },
    {
     "name": "stdout",
     "output_type": "stream",
     "text": [
      "Loaded 5 documents\n",
      "Fitting role classifier: domain='general', intent='get_aggregate', entity_type='employment_status'\n",
      "No role model configuration set. Using default.\n",
      "Importing synonym data to synonym index 'synonym_employment_status'\n",
      "Elasticsearch index 'synonym_employment_status' for application 'hr_assistant' already exists!\n",
      "Loading index 'synonym_employment_status'\n"
     ]
    },
    {
     "name": "stderr",
     "output_type": "stream",
     "text": [
      "\n",
      "100%|██████████| 5/5 [00:00<00:00, 133.24it/s]"
     ]
    },
    {
     "name": "stdout",
     "output_type": "stream",
     "text": [
      "Loaded 5 documents\n",
      "Fitting role classifier: domain='general', intent='get_aggregate', entity_type='position'\n",
      "No role model configuration set. Using default.\n",
      "Importing synonym data to synonym index 'synonym_position'\n",
      "Elasticsearch index 'synonym_position' for application 'hr_assistant' already exists!\n",
      "Loading index 'synonym_position'\n"
     ]
    },
    {
     "name": "stderr",
     "output_type": "stream",
     "text": [
      "\n",
      "100%|██████████| 24/24 [00:00<00:00, 587.34it/s]"
     ]
    },
    {
     "name": "stdout",
     "output_type": "stream",
     "text": [
      "Loaded 24 documents\n",
      "Fitting role classifier: domain='general', intent='get_aggregate', entity_type='age'\n",
      "No role model configuration set. Using default.\n",
      "Importing synonym data to synonym index 'synonym_age'\n",
      "Elasticsearch index 'synonym_age' for application 'hr_assistant' already exists!\n",
      "Loading index 'synonym_age'\n"
     ]
    },
    {
     "name": "stderr",
     "output_type": "stream",
     "text": [
      "\n",
      "100%|██████████| 39/39 [00:00<00:00, 833.08it/s]"
     ]
    },
    {
     "name": "stdout",
     "output_type": "stream",
     "text": [
      "Loaded 39 documents\n",
      "Fitting role classifier: domain='general', intent='get_aggregate', entity_type='name'\n",
      "No role model configuration set. Using default.\n",
      "Importing synonym data to synonym index 'synonym_name'\n"
     ]
    },
    {
     "name": "stderr",
     "output_type": "stream",
     "text": [
      "\n"
     ]
    },
    {
     "name": "stdout",
     "output_type": "stream",
     "text": [
      "Elasticsearch index 'synonym_name' for application 'hr_assistant' already exists!\n",
      "Loading index 'synonym_name'\n"
     ]
    },
    {
     "name": "stderr",
     "output_type": "stream",
     "text": [
      "100%|██████████| 245/245 [00:00<00:00, 951.08it/s]"
     ]
    },
    {
     "name": "stdout",
     "output_type": "stream",
     "text": [
      "Loaded 245 documents\n",
      "Fitting role classifier: domain='general', intent='get_aggregate', entity_type='extreme'\n",
      "No role model configuration set. Using default.\n",
      "Importing synonym data to synonym index 'synonym_extreme'\n",
      "Elasticsearch index 'synonym_extreme' for application 'hr_assistant' already exists!\n",
      "Loading index 'synonym_extreme'\n"
     ]
    },
    {
     "name": "stderr",
     "output_type": "stream",
     "text": [
      "\n",
      "100%|██████████| 2/2 [00:00<00:00, 76.37it/s]"
     ]
    },
    {
     "name": "stdout",
     "output_type": "stream",
     "text": [
      "Loaded 2 documents\n",
      "Fitting role classifier: domain='general', intent='get_aggregate', entity_type='employee_source'\n",
      "No role model configuration set. Using default.\n",
      "Importing synonym data to synonym index 'synonym_employee_source'\n",
      "Elasticsearch index 'synonym_employee_source' for application 'hr_assistant' already exists!\n",
      "Loading index 'synonym_employee_source'\n"
     ]
    },
    {
     "name": "stderr",
     "output_type": "stream",
     "text": [
      "\n",
      "100%|██████████| 20/20 [00:00<00:00, 503.88it/s]"
     ]
    },
    {
     "name": "stdout",
     "output_type": "stream",
     "text": [
      "Loaded 20 documents\n",
      "Fitting role classifier: domain='general', intent='get_aggregate', entity_type='manager'\n",
      "No role model configuration set. Using default.\n",
      "Importing synonym data to synonym index 'synonym_manager'\n",
      "Elasticsearch index 'synonym_manager' for application 'hr_assistant' already exists!\n",
      "Loading index 'synonym_manager'\n"
     ]
    },
    {
     "name": "stderr",
     "output_type": "stream",
     "text": [
      "\n",
      "100%|██████████| 1/1 [00:00<00:00, 48.22it/s]"
     ]
    },
    {
     "name": "stdout",
     "output_type": "stream",
     "text": [
      "Loaded 1 document\n",
      "Fitting role classifier: domain='general', intent='get_aggregate', entity_type='citizendesc'\n",
      "No role model configuration set. Using default.\n",
      "Importing synonym data to synonym index 'synonym_citizendesc'\n",
      "Elasticsearch index 'synonym_citizendesc' for application 'hr_assistant' already exists!\n",
      "Loading index 'synonym_citizendesc'\n"
     ]
    },
    {
     "name": "stderr",
     "output_type": "stream",
     "text": [
      "\n",
      "100%|██████████| 3/3 [00:00<00:00, 109.32it/s]"
     ]
    },
    {
     "name": "stdout",
     "output_type": "stream",
     "text": [
      "Loaded 3 documents\n",
      "Fitting entity recognizer: domain='general', intent='get_info'\n",
      "No entity model configuration set. Using default.\n"
     ]
    },
    {
     "name": "stderr",
     "output_type": "stream",
     "text": [
      "\n"
     ]
    },
    {
     "name": "stdout",
     "output_type": "stream",
     "text": [
      "Selecting hyperparameters using k-fold cross-validation with 5 splits\n",
      "Best accuracy: 95.39%, params: {'C': 100, 'penalty': 'l2'}\n",
      "No entity_resolution model configuration set. Using default.\n",
      "No entity_resolution model configuration set. Using default.\n",
      "No entity_resolution model configuration set. Using default.\n",
      "No entity_resolution model configuration set. Using default.\n",
      "No entity_resolution model configuration set. Using default.\n",
      "No entity_resolution model configuration set. Using default.\n",
      "No entity_resolution model configuration set. Using default.\n",
      "No entity_resolution model configuration set. Using default.\n",
      "No entity_resolution model configuration set. Using default.\n",
      "No entity_resolution model configuration set. Using default.\n",
      "No entity_resolution model configuration set. Using default.\n",
      "No entity_resolution model configuration set. Using default.\n",
      "No entity_resolution model configuration set. Using default.\n",
      "No entity_resolution model configuration set. Using default.\n",
      "Fitting role classifier: domain='general', intent='get_info', entity_type='racedesc'\n",
      "No role model configuration set. Using default.\n",
      "Importing synonym data to synonym index 'synonym_racedesc'\n",
      "Elasticsearch index 'synonym_racedesc' for application 'hr_assistant' already exists!\n",
      "Loading index 'synonym_racedesc'\n"
     ]
    },
    {
     "name": "stderr",
     "output_type": "stream",
     "text": [
      "100%|██████████| 6/6 [00:00<00:00, 186.95it/s]"
     ]
    },
    {
     "name": "stdout",
     "output_type": "stream",
     "text": [
      "Loaded 6 documents\n",
      "Fitting role classifier: domain='general', intent='get_info', entity_type='maritaldesc'\n",
      "No role model configuration set. Using default.\n",
      "Importing synonym data to synonym index 'synonym_maritaldesc'\n",
      "Elasticsearch index 'synonym_maritaldesc' for application 'hr_assistant' already exists!\n",
      "Loading index 'synonym_maritaldesc'\n"
     ]
    },
    {
     "name": "stderr",
     "output_type": "stream",
     "text": [
      "\n",
      "100%|██████████| 5/5 [00:00<00:00, 175.28it/s]"
     ]
    },
    {
     "name": "stdout",
     "output_type": "stream",
     "text": [
      "Loaded 5 documents\n",
      "Fitting role classifier: domain='general', intent='get_info', entity_type='reason_for_termination'\n",
      "No role model configuration set. Using default.\n",
      "Importing synonym data to synonym index 'synonym_reason_for_termination'\n",
      "Elasticsearch index 'synonym_reason_for_termination' for application 'hr_assistant' already exists!\n",
      "Loading index 'synonym_reason_for_termination'\n"
     ]
    },
    {
     "name": "stderr",
     "output_type": "stream",
     "text": [
      "\n",
      "100%|██████████| 17/17 [00:00<00:00, 407.73it/s]"
     ]
    },
    {
     "name": "stdout",
     "output_type": "stream",
     "text": [
      "Loaded 17 documents\n",
      "Fitting role classifier: domain='general', intent='get_info', entity_type='employment_status'\n",
      "No role model configuration set. Using default.\n",
      "Importing synonym data to synonym index 'synonym_employment_status'\n",
      "Elasticsearch index 'synonym_employment_status' for application 'hr_assistant' already exists!\n",
      "Loading index 'synonym_employment_status'\n"
     ]
    },
    {
     "name": "stderr",
     "output_type": "stream",
     "text": [
      "\n",
      "100%|██████████| 5/5 [00:00<00:00, 165.62it/s]"
     ]
    },
    {
     "name": "stdout",
     "output_type": "stream",
     "text": [
      "Loaded 5 documents\n",
      "Fitting role classifier: domain='general', intent='get_info', entity_type='age'\n",
      "No role model configuration set. Using default.\n",
      "Importing synonym data to synonym index 'synonym_age'\n",
      "Elasticsearch index 'synonym_age' for application 'hr_assistant' already exists!\n",
      "Loading index 'synonym_age'\n"
     ]
    },
    {
     "name": "stderr",
     "output_type": "stream",
     "text": [
      "\n",
      "100%|██████████| 39/39 [00:00<00:00, 1268.37it/s]"
     ]
    },
    {
     "name": "stdout",
     "output_type": "stream",
     "text": [
      "Loaded 39 documents\n",
      "Fitting role classifier: domain='general', intent='get_info', entity_type='name'\n",
      "No role model configuration set. Using default.\n"
     ]
    },
    {
     "name": "stderr",
     "output_type": "stream",
     "text": [
      "\n"
     ]
    },
    {
     "name": "stdout",
     "output_type": "stream",
     "text": [
      "Importing synonym data to synonym index 'synonym_name'\n",
      "Elasticsearch index 'synonym_name' for application 'hr_assistant' already exists!\n",
      "Loading index 'synonym_name'\n"
     ]
    },
    {
     "name": "stderr",
     "output_type": "stream",
     "text": [
      "100%|██████████| 245/245 [00:00<00:00, 1190.35it/s]"
     ]
    },
    {
     "name": "stdout",
     "output_type": "stream",
     "text": [
      "Loaded 245 documents\n",
      "Fitting role classifier: domain='general', intent='get_info', entity_type='department'\n",
      "No role model configuration set. Using default.\n",
      "Importing synonym data to synonym index 'synonym_department'\n",
      "Elasticsearch index 'synonym_department' for application 'hr_assistant' already exists!\n",
      "Loading index 'synonym_department'\n"
     ]
    },
    {
     "name": "stderr",
     "output_type": "stream",
     "text": [
      "\n",
      "100%|██████████| 6/6 [00:00<00:00, 166.35it/s]"
     ]
    },
    {
     "name": "stdout",
     "output_type": "stream",
     "text": [
      "Loaded 6 documents\n",
      "Fitting role classifier: domain='general', intent='get_info', entity_type='sex'\n",
      "No role model configuration set. Using default.\n",
      "Importing synonym data to synonym index 'synonym_sex'\n",
      "Elasticsearch index 'synonym_sex' for application 'hr_assistant' already exists!\n",
      "Loading index 'synonym_sex'\n"
     ]
    },
    {
     "name": "stderr",
     "output_type": "stream",
     "text": [
      "\n",
      "100%|██████████| 2/2 [00:00<00:00, 65.86it/s]"
     ]
    },
    {
     "name": "stdout",
     "output_type": "stream",
     "text": [
      "Loaded 2 documents\n",
      "Fitting role classifier: domain='general', intent='get_info', entity_type='position'\n",
      "No role model configuration set. Using default.\n",
      "Importing synonym data to synonym index 'synonym_position'\n"
     ]
    },
    {
     "name": "stderr",
     "output_type": "stream",
     "text": [
      "\n"
     ]
    },
    {
     "name": "stdout",
     "output_type": "stream",
     "text": [
      "Elasticsearch index 'synonym_position' for application 'hr_assistant' already exists!\n",
      "Loading index 'synonym_position'\n"
     ]
    },
    {
     "name": "stderr",
     "output_type": "stream",
     "text": [
      "100%|██████████| 24/24 [00:00<00:00, 649.05it/s]"
     ]
    },
    {
     "name": "stdout",
     "output_type": "stream",
     "text": [
      "Loaded 24 documents\n",
      "Fitting role classifier: domain='general', intent='get_info', entity_type='performance_score'\n",
      "No role model configuration set. Using default.\n",
      "Importing synonym data to synonym index 'synonym_performance_score'\n",
      "Elasticsearch index 'synonym_performance_score' for application 'hr_assistant' already exists!\n",
      "Loading index 'synonym_performance_score'\n"
     ]
    },
    {
     "name": "stderr",
     "output_type": "stream",
     "text": [
      "\n",
      "100%|██████████| 7/7 [00:00<00:00, 195.16it/s]"
     ]
    },
    {
     "name": "stdout",
     "output_type": "stream",
     "text": [
      "Loaded 7 documents\n",
      "Fitting role classifier: domain='general', intent='get_info', entity_type='state'\n",
      "No role model configuration set. Using default.\n",
      "Importing synonym data to synonym index 'synonym_state'\n",
      "Elasticsearch index 'synonym_state' for application 'hr_assistant' already exists!\n",
      "Loading index 'synonym_state'\n"
     ]
    },
    {
     "name": "stderr",
     "output_type": "stream",
     "text": [
      "\n",
      "100%|██████████| 28/28 [00:00<00:00, 579.82it/s]"
     ]
    },
    {
     "name": "stdout",
     "output_type": "stream",
     "text": [
      "Loaded 28 documents\n",
      "Fitting role classifier: domain='general', intent='get_info', entity_type='employee_source'\n",
      "No role model configuration set. Using default.\n",
      "Importing synonym data to synonym index 'synonym_employee_source'\n",
      "Elasticsearch index 'synonym_employee_source' for application 'hr_assistant' already exists!\n",
      "Loading index 'synonym_employee_source'\n"
     ]
    },
    {
     "name": "stderr",
     "output_type": "stream",
     "text": [
      "\n",
      "100%|██████████| 20/20 [00:00<00:00, 528.32it/s]"
     ]
    },
    {
     "name": "stdout",
     "output_type": "stream",
     "text": [
      "Loaded 20 documents\n",
      "Fitting role classifier: domain='general', intent='get_info', entity_type='employment_action'\n",
      "No role model configuration set. Using default.\n",
      "Importing synonym data to synonym index 'synonym_employment_action'\n",
      "Elasticsearch index 'synonym_employment_action' for application 'hr_assistant' already exists!\n",
      "Loading index 'synonym_employment_action'\n"
     ]
    },
    {
     "name": "stderr",
     "output_type": "stream",
     "text": [
      "\n",
      "100%|██████████| 2/2 [00:00<00:00, 77.79it/s]"
     ]
    },
    {
     "name": "stdout",
     "output_type": "stream",
     "text": [
      "Loaded 2 documents\n",
      "Fitting role classifier: domain='general', intent='get_info', entity_type='citizendesc'\n",
      "No role model configuration set. Using default.\n",
      "Importing synonym data to synonym index 'synonym_citizendesc'\n",
      "Elasticsearch index 'synonym_citizendesc' for application 'hr_assistant' already exists!\n",
      "Loading index 'synonym_citizendesc'\n"
     ]
    },
    {
     "name": "stderr",
     "output_type": "stream",
     "text": [
      "\n",
      "100%|██████████| 3/3 [00:00<00:00, 76.05it/s]"
     ]
    },
    {
     "name": "stdout",
     "output_type": "stream",
     "text": [
      "Loaded 3 documents\n",
      "Fitting entity recognizer: domain='general', intent='get_employees'\n",
      "No entity model configuration set. Using default.\n"
     ]
    },
    {
     "name": "stderr",
     "output_type": "stream",
     "text": [
      "\n"
     ]
    },
    {
     "name": "stdout",
     "output_type": "stream",
     "text": [
      "Selecting hyperparameters using k-fold cross-validation with 5 splits\n",
      "Best accuracy: 94.61%, params: {'C': 1000000, 'penalty': 'l2'}\n",
      "No entity_resolution model configuration set. Using default.\n",
      "No entity_resolution model configuration set. Using default.\n",
      "No entity_resolution model configuration set. Using default.\n",
      "No entity_resolution model configuration set. Using default.\n",
      "No entity_resolution model configuration set. Using default.\n",
      "No entity_resolution model configuration set. Using default.\n",
      "No entity_resolution model configuration set. Using default.\n",
      "No entity_resolution model configuration set. Using default.\n",
      "No entity_resolution model configuration set. Using default.\n",
      "No entity_resolution model configuration set. Using default.\n",
      "No entity_resolution model configuration set. Using default.\n",
      "No entity_resolution model configuration set. Using default.\n",
      "No entity_resolution model configuration set. Using default.\n",
      "No entity_resolution model configuration set. Using default.\n",
      "No entity_resolution model configuration set. Using default.\n",
      "No entity_resolution model configuration set. Using default.\n",
      "No entity_resolution model configuration set. Using default.\n",
      "No entity_resolution model configuration set. Using default.\n",
      "No entity_resolution model configuration set. Using default.\n",
      "No entity_resolution model configuration set. Using default.\n",
      "No entity_resolution model configuration set. Using default.\n",
      "No entity_resolution model configuration set. Using default.\n",
      "No entity_resolution model configuration set. Using default.\n",
      "Fitting role classifier: domain='general', intent='get_employees', entity_type='racedesc'\n",
      "No role model configuration set. Using default.\n",
      "Importing synonym data to synonym index 'synonym_racedesc'\n",
      "Elasticsearch index 'synonym_racedesc' for application 'hr_assistant' already exists!\n",
      "Loading index 'synonym_racedesc'\n"
     ]
    },
    {
     "name": "stderr",
     "output_type": "stream",
     "text": [
      "100%|██████████| 6/6 [00:00<00:00, 184.17it/s]"
     ]
    },
    {
     "name": "stdout",
     "output_type": "stream",
     "text": [
      "Loaded 6 documents\n",
      "Fitting role classifier: domain='general', intent='get_employees', entity_type='sys_time'\n",
      "No role model configuration set. Using default.\n",
      "Fitting role classifier: domain='general', intent='get_employees', entity_type='sys_duration'\n",
      "No role model configuration set. Using default.\n",
      "Fitting role classifier: domain='general', intent='get_employees', entity_type='comparator'\n",
      "No role model configuration set. Using default.\n",
      "Importing synonym data to synonym index 'synonym_comparator'\n",
      "Elasticsearch index 'synonym_comparator' for application 'hr_assistant' already exists!\n",
      "Loading index 'synonym_comparator'\n"
     ]
    },
    {
     "name": "stderr",
     "output_type": "stream",
     "text": [
      "\n",
      "100%|██████████| 4/4 [00:00<00:00, 170.06it/s]"
     ]
    },
    {
     "name": "stdout",
     "output_type": "stream",
     "text": [
      "Loaded 4 documents\n",
      "Fitting role classifier: domain='general', intent='get_employees', entity_type='department'\n",
      "No role model configuration set. Using default.\n",
      "Importing synonym data to synonym index 'synonym_department'\n",
      "Elasticsearch index 'synonym_department' for application 'hr_assistant' already exists!\n",
      "Loading index 'synonym_department'\n"
     ]
    },
    {
     "name": "stderr",
     "output_type": "stream",
     "text": [
      "\n",
      "100%|██████████| 6/6 [00:00<00:00, 182.97it/s]"
     ]
    },
    {
     "name": "stdout",
     "output_type": "stream",
     "text": [
      "Loaded 6 documents\n",
      "Fitting role classifier: domain='general', intent='get_employees', entity_type='dob'\n",
      "No role model configuration set. Using default.\n",
      "Importing synonym data to synonym index 'synonym_dob'\n",
      "Elasticsearch index 'synonym_dob' for application 'hr_assistant' already exists!\n",
      "Loading index 'synonym_dob'\n"
     ]
    },
    {
     "name": "stderr",
     "output_type": "stream",
     "text": [
      "\n",
      "100%|██████████| 1/1 [00:00<00:00, 52.06it/s]"
     ]
    },
    {
     "name": "stdout",
     "output_type": "stream",
     "text": [
      "Loaded 1 document\n",
      "Fitting role classifier: domain='general', intent='get_employees', entity_type='state'\n",
      "No role model configuration set. Using default.\n",
      "Importing synonym data to synonym index 'synonym_state'\n",
      "Elasticsearch index 'synonym_state' for application 'hr_assistant' already exists!\n",
      "Loading index 'synonym_state'\n"
     ]
    },
    {
     "name": "stderr",
     "output_type": "stream",
     "text": [
      "\n",
      "100%|██████████| 28/28 [00:00<00:00, 827.10it/s]"
     ]
    },
    {
     "name": "stdout",
     "output_type": "stream",
     "text": [
      "Loaded 28 documents\n",
      "Fitting role classifier: domain='general', intent='get_employees', entity_type='performance_score'\n",
      "No role model configuration set. Using default.\n",
      "Importing synonym data to synonym index 'synonym_performance_score'\n",
      "Elasticsearch index 'synonym_performance_score' for application 'hr_assistant' already exists!\n",
      "Loading index 'synonym_performance_score'\n"
     ]
    },
    {
     "name": "stderr",
     "output_type": "stream",
     "text": [
      "\n",
      "100%|██████████| 7/7 [00:00<00:00, 271.11it/s]"
     ]
    },
    {
     "name": "stdout",
     "output_type": "stream",
     "text": [
      "Loaded 7 documents\n",
      "Fitting role classifier: domain='general', intent='get_employees', entity_type='employment_action'\n",
      "No role model configuration set. Using default.\n",
      "Importing synonym data to synonym index 'synonym_employment_action'\n",
      "Elasticsearch index 'synonym_employment_action' for application 'hr_assistant' already exists!\n",
      "Loading index 'synonym_employment_action'\n"
     ]
    },
    {
     "name": "stderr",
     "output_type": "stream",
     "text": [
      "\n",
      "100%|██████████| 2/2 [00:00<00:00, 82.87it/s]"
     ]
    },
    {
     "name": "stdout",
     "output_type": "stream",
     "text": [
      "Loaded 2 documents\n",
      "Fitting role classifier: domain='general', intent='get_employees', entity_type='reason_for_termination'\n",
      "No role model configuration set. Using default.\n",
      "Importing synonym data to synonym index 'synonym_reason_for_termination'\n",
      "Elasticsearch index 'synonym_reason_for_termination' for application 'hr_assistant' already exists!\n",
      "Loading index 'synonym_reason_for_termination'\n"
     ]
    },
    {
     "name": "stderr",
     "output_type": "stream",
     "text": [
      "\n",
      "100%|██████████| 17/17 [00:00<00:00, 537.34it/s]"
     ]
    },
    {
     "name": "stdout",
     "output_type": "stream",
     "text": [
      "Loaded 17 documents\n",
      "Fitting role classifier: domain='general', intent='get_employees', entity_type='sex'\n",
      "No role model configuration set. Using default.\n",
      "Importing synonym data to synonym index 'synonym_sex'\n"
     ]
    },
    {
     "name": "stderr",
     "output_type": "stream",
     "text": [
      "\n"
     ]
    },
    {
     "name": "stdout",
     "output_type": "stream",
     "text": [
      "Elasticsearch index 'synonym_sex' for application 'hr_assistant' already exists!\n",
      "Loading index 'synonym_sex'\n"
     ]
    },
    {
     "name": "stderr",
     "output_type": "stream",
     "text": [
      "100%|██████████| 2/2 [00:00<00:00, 76.95it/s]"
     ]
    },
    {
     "name": "stdout",
     "output_type": "stream",
     "text": [
      "Loaded 2 documents\n",
      "Fitting role classifier: domain='general', intent='get_employees', entity_type='sys_number'\n",
      "No role model configuration set. Using default.\n",
      "Fitting role classifier: domain='general', intent='get_employees', entity_type='function'\n",
      "No role model configuration set. Using default.\n",
      "Importing synonym data to synonym index 'synonym_function'\n",
      "Elasticsearch index 'synonym_function' for application 'hr_assistant' already exists!\n",
      "Loading index 'synonym_function'\n"
     ]
    },
    {
     "name": "stderr",
     "output_type": "stream",
     "text": [
      "\n",
      "100%|██████████| 4/4 [00:00<00:00, 129.24it/s]"
     ]
    },
    {
     "name": "stdout",
     "output_type": "stream",
     "text": [
      "Loaded 4 documents\n",
      "Fitting role classifier: domain='general', intent='get_employees', entity_type='maritaldesc'\n",
      "No role model configuration set. Using default.\n",
      "Importing synonym data to synonym index 'synonym_maritaldesc'\n",
      "Elasticsearch index 'synonym_maritaldesc' for application 'hr_assistant' already exists!\n",
      "Loading index 'synonym_maritaldesc'\n"
     ]
    },
    {
     "name": "stderr",
     "output_type": "stream",
     "text": [
      "\n",
      "100%|██████████| 5/5 [00:00<00:00, 119.72it/s]"
     ]
    },
    {
     "name": "stdout",
     "output_type": "stream",
     "text": [
      "Loaded 5 documents\n"
     ]
    },
    {
     "name": "stderr",
     "output_type": "stream",
     "text": [
      "\n"
     ]
    },
    {
     "name": "stdout",
     "output_type": "stream",
     "text": [
      "Fitting role classifier: domain='general', intent='get_employees', entity_type='employment_status'\n",
      "No role model configuration set. Using default.\n",
      "Importing synonym data to synonym index 'synonym_employment_status'\n",
      "Elasticsearch index 'synonym_employment_status' for application 'hr_assistant' already exists!\n",
      "Loading index 'synonym_employment_status'\n"
     ]
    },
    {
     "name": "stderr",
     "output_type": "stream",
     "text": [
      "100%|██████████| 5/5 [00:00<00:00, 158.37it/s]"
     ]
    },
    {
     "name": "stdout",
     "output_type": "stream",
     "text": [
      "Loaded 5 documents\n",
      "Fitting role classifier: domain='general', intent='get_employees', entity_type='position'\n",
      "No role model configuration set. Using default.\n",
      "Importing synonym data to synonym index 'synonym_position'\n"
     ]
    },
    {
     "name": "stderr",
     "output_type": "stream",
     "text": [
      "\n"
     ]
    },
    {
     "name": "stdout",
     "output_type": "stream",
     "text": [
      "Elasticsearch index 'synonym_position' for application 'hr_assistant' already exists!\n",
      "Loading index 'synonym_position'\n"
     ]
    },
    {
     "name": "stderr",
     "output_type": "stream",
     "text": [
      "100%|██████████| 24/24 [00:00<00:00, 627.22it/s]"
     ]
    },
    {
     "name": "stdout",
     "output_type": "stream",
     "text": [
      "Loaded 24 documents\n",
      "Fitting role classifier: domain='general', intent='get_employees', entity_type='age'\n",
      "No role model configuration set. Using default.\n",
      "Importing synonym data to synonym index 'synonym_age'\n",
      "Elasticsearch index 'synonym_age' for application 'hr_assistant' already exists!\n",
      "Loading index 'synonym_age'\n"
     ]
    },
    {
     "name": "stderr",
     "output_type": "stream",
     "text": [
      "\n",
      "100%|██████████| 39/39 [00:00<00:00, 820.68it/s]"
     ]
    },
    {
     "name": "stdout",
     "output_type": "stream",
     "text": [
      "Loaded 39 documents\n",
      "Fitting role classifier: domain='general', intent='get_employees', entity_type='extreme'\n",
      "No role model configuration set. Using default.\n",
      "Importing synonym data to synonym index 'synonym_extreme'\n",
      "Elasticsearch index 'synonym_extreme' for application 'hr_assistant' already exists!\n",
      "Loading index 'synonym_extreme'\n"
     ]
    },
    {
     "name": "stderr",
     "output_type": "stream",
     "text": [
      "\n",
      "100%|██████████| 2/2 [00:00<00:00, 60.39it/s]"
     ]
    },
    {
     "name": "stdout",
     "output_type": "stream",
     "text": [
      "Loaded 2 documents\n",
      "Fitting role classifier: domain='general', intent='get_employees', entity_type='employee_source'\n",
      "No app configuration file found. Using default role model configuration\n",
      "Internal Python error in the inspect module.\n",
      "Below is the traceback from this internal error.\n",
      "\n",
      "Traceback (most recent call last):\n",
      "  File \"/anaconda3/envs/mm_workspace/lib/python3.6/site-packages/IPython/core/interactiveshell.py\", line 3296, in run_code\n",
      "    exec(code_obj, self.user_global_ns, self.user_ns)\n",
      "  File \"<ipython-input-30-cd905a61f11f>\", line 1, in <module>\n",
      "    nlp.build()\n",
      "  File \"/anaconda3/envs/mm_workspace/lib/python3.6/site-packages/mindmeld/components/nlp.py\", line 139, in build\n",
      "    child.build(incremental=incremental, label_set=label_set)\n",
      "  File \"/anaconda3/envs/mm_workspace/lib/python3.6/site-packages/mindmeld/components/nlp.py\", line 139, in build\n",
      "    child.build(incremental=incremental, label_set=label_set)\n",
      "  File \"/anaconda3/envs/mm_workspace/lib/python3.6/site-packages/mindmeld/components/nlp.py\", line 139, in build\n",
      "    child.build(incremental=incremental, label_set=label_set)\n",
      "  File \"/anaconda3/envs/mm_workspace/lib/python3.6/site-packages/mindmeld/components/nlp.py\", line 129, in build\n",
      "    self._build(incremental=incremental, label_set=label_set)\n",
      "  File \"/anaconda3/envs/mm_workspace/lib/python3.6/site-packages/mindmeld/components/nlp.py\", line 1123, in _build\n",
      "    incremental_timestamp=self.incremental_timestamp)\n",
      "  File \"/anaconda3/envs/mm_workspace/lib/python3.6/site-packages/mindmeld/components/role_classifier.py\", line 94, in fit\n",
      "  File \"/anaconda3/envs/mm_workspace/lib/python3.6/site-packages/mindmeld/components/classifier.py\", line 523, in _get_model_hash\n",
      "  File \"/anaconda3/envs/mm_workspace/lib/python3.6/site-packages/mindmeld/components/role_classifier.py\", line 293, in _get_queries_and_labels_hash\n",
      "  File \"/anaconda3/envs/mm_workspace/lib/python3.6/site-packages/mindmeld/components/role_classifier.py\", line 257, in _get_query_tree\n",
      "  File \"/anaconda3/envs/mm_workspace/lib/python3.6/site-packages/mindmeld/resource_loader.py\", line 336, in get_labeled_queries\n",
      "  File \"/anaconda3/envs/mm_workspace/lib/python3.6/site-packages/mindmeld/resource_loader.py\", line 383, in _traverse_labeled_queries_files\n",
      "KeyError: 'general'\n",
      "\n",
      "During handling of the above exception, another exception occurred:\n",
      "\n",
      "Traceback (most recent call last):\n",
      "  File \"/anaconda3/envs/mm_workspace/lib/python3.6/site-packages/IPython/core/interactiveshell.py\", line 2033, in showtraceback\n",
      "    stb = value._render_traceback_()\n",
      "AttributeError: 'KeyError' object has no attribute '_render_traceback_'\n",
      "\n",
      "During handling of the above exception, another exception occurred:\n",
      "\n",
      "Traceback (most recent call last):\n",
      "  File \"/anaconda3/envs/mm_workspace/lib/python3.6/site-packages/IPython/core/ultratb.py\", line 1095, in get_records\n",
      "  File \"/anaconda3/envs/mm_workspace/lib/python3.6/site-packages/IPython/core/ultratb.py\", line 313, in wrapped\n",
      "  File \"/anaconda3/envs/mm_workspace/lib/python3.6/site-packages/IPython/core/ultratb.py\", line 347, in _fixed_getinnerframes\n",
      "  File \"/anaconda3/envs/mm_workspace/lib/python3.6/inspect.py\", line 1490, in getinnerframes\n",
      "  File \"/anaconda3/envs/mm_workspace/lib/python3.6/inspect.py\", line 1448, in getframeinfo\n",
      "  File \"/anaconda3/envs/mm_workspace/lib/python3.6/inspect.py\", line 696, in getsourcefile\n",
      "  File \"/anaconda3/envs/mm_workspace/lib/python3.6/inspect.py\", line 725, in getmodule\n",
      "  File \"/anaconda3/envs/mm_workspace/lib/python3.6/inspect.py\", line 709, in getabsfile\n",
      "  File \"/anaconda3/envs/mm_workspace/lib/python3.6/posixpath.py\", line 383, in abspath\n",
      "OSError: [Errno 24] Too many open files\n"
     ]
    },
    {
     "name": "stderr",
     "output_type": "stream",
     "text": [
      "\n"
     ]
    },
    {
     "ename": "KeyError",
     "evalue": "'general'",
     "output_type": "error",
     "traceback": [
      "\u001b[0;31m---------------------------------------------------------------------------\u001b[0m"
     ]
    }
   ],
   "source": [
    "nlp.build()"
   ]
  },
  {
   "cell_type": "code",
   "execution_count": 29,
   "metadata": {
    "scrolled": true
   },
   "outputs": [
    {
     "name": "stdout",
     "output_type": "stream",
     "text": [
      "The application package hr_assistant is already imported.\n"
     ]
    }
   ],
   "source": [
    "from mindmeld.components.dialogue import Conversation\n",
    "conv = Conversation(nlp=nlp, app_path='./hr_assistant')"
   ]
  },
  {
   "cell_type": "code",
   "execution_count": 5,
   "metadata": {},
   "outputs": [
    {
     "name": "stdout",
     "output_type": "stream",
     "text": [
      "Elasticsearch index 'user_data' for application 'hr_assistant' already exists!\n",
      "Loading index 'user_data'\n"
     ]
    },
    {
     "name": "stderr",
     "output_type": "stream",
     "text": [
      "100%|██████████| 301/301 [00:00<00:00, 778.76it/s]"
     ]
    },
    {
     "name": "stdout",
     "output_type": "stream",
     "text": [
      "Loaded 301 documents\n"
     ]
    },
    {
     "name": "stderr",
     "output_type": "stream",
     "text": [
      "\n"
     ]
    },
    {
     "data": {
      "text/plain": [
       "['Julia Soto is Married']"
      ]
     },
     "execution_count": 5,
     "metadata": {},
     "output_type": "execute_result"
    }
   ],
   "source": [
    "conv.say(\"is julia married?\")"
   ]
  },
  {
   "cell_type": "code",
   "execution_count": null,
   "metadata": {},
   "outputs": [],
   "source": []
  },
  {
   "cell_type": "code",
   "execution_count": 6,
   "metadata": {},
   "outputs": [
    {
     "data": {
      "text/plain": [
       "['Based on your query, the average yearly is 55904.22']"
      ]
     },
     "execution_count": 6,
     "metadata": {},
     "output_type": "execute_result"
    }
   ],
   "source": [
    "conv.say(\"average yearly salary of married sales female employees\")"
   ]
  },
  {
   "cell_type": "code",
   "execution_count": 7,
   "metadata": {},
   "outputs": [
    {
     "data": {
      "text/plain": [
       "['The average based on your query is 29.12']"
      ]
     },
     "execution_count": 7,
     "metadata": {},
     "output_type": "execute_result"
    }
   ],
   "source": [
    "conv.say(\"average salary of females in the org\")"
   ]
  },
  {
   "cell_type": "code",
   "execution_count": 8,
   "metadata": {},
   "outputs": [
    {
     "data": {
      "text/plain": [
       "['What would you like to know about Daniel Davis?', 'Listening...']"
      ]
     },
     "execution_count": 8,
     "metadata": {},
     "output_type": "execute_result"
    }
   ],
   "source": [
    "conv.say(\"Can you tell me about daniel?\")"
   ]
  },
  {
   "cell_type": "code",
   "execution_count": 9,
   "metadata": {},
   "outputs": [
    {
     "data": {
      "text/plain": [
       "['I found the following details about Daniel Davis: rft : N/A - still employed; performance_score : 90-day meets; citizendesc : Eligible NonCitizen; manager : Kissy Sullivan; sex : Male; maritaldesc : Single; emp_name : Davis, Daniel; dot : 1800-01-01; last_name : Davis; racedesc : Two or more races; money : 25.0; dob : 1979-09-14; employee_source : Newspager/Magazine; id : 1201031274; state : MA; employment_status : Active; position : Production Technician II; doh : 2011-11-07; department : Production       ; first_name : Daniel; age : 38']"
      ]
     },
     "execution_count": 9,
     "metadata": {},
     "output_type": "execute_result"
    }
   ],
   "source": [
    "conv.say(\"is he american\")"
   ]
  },
  {
   "cell_type": "code",
   "execution_count": null,
   "metadata": {},
   "outputs": [],
   "source": []
  },
  {
   "cell_type": "code",
   "execution_count": 10,
   "metadata": {},
   "outputs": [
    {
     "name": "stdout",
     "output_type": "stream",
     "text": [
      "Elasticsearch index 'user_data' for application 'hr_assistant' already exists!\n",
      "Loading index 'user_data'\n"
     ]
    },
    {
     "name": "stderr",
     "output_type": "stream",
     "text": [
      "100%|██████████| 301/301 [00:00<00:00, 953.96it/s]"
     ]
    },
    {
     "name": "stdout",
     "output_type": "stream",
     "text": [
      "Loaded 301 documents\n"
     ]
    },
    {
     "name": "stderr",
     "output_type": "stream",
     "text": [
      "\n"
     ]
    },
    {
     "name": "stdout",
     "output_type": "stream",
     "text": [
      "Elasticsearch index 'user_data' for application 'hr_assistant' already exists!\n",
      "Loading index 'user_data'\n"
     ]
    },
    {
     "name": "stderr",
     "output_type": "stream",
     "text": [
      "100%|██████████| 301/301 [00:00<00:00, 954.11it/s]"
     ]
    },
    {
     "name": "stdout",
     "output_type": "stream",
     "text": [
      "Loaded 301 documents\n"
     ]
    },
    {
     "name": "stderr",
     "output_type": "stream",
     "text": [
      "\n"
     ]
    },
    {
     "data": {
      "text/plain": [
       "[\"Brandon R. LeBlanc is Mia Brown's manager\",\n",
       " \"Eric Dougall is Julia Soto's manager\"]"
      ]
     },
     "execution_count": 10,
     "metadata": {},
     "output_type": "execute_result"
    }
   ],
   "source": [
    "conv.say(\"is mia's manager julia?\")"
   ]
  },
  {
   "cell_type": "code",
   "execution_count": 11,
   "metadata": {},
   "outputs": [],
   "source": [
    "# nlp.inspect(\"youngest employee\", domain='general')"
   ]
  },
  {
   "cell_type": "code",
   "execution_count": 12,
   "metadata": {},
   "outputs": [
    {
     "data": {
      "text/plain": [
       "['The percent based on your query is 29.0']"
      ]
     },
     "execution_count": 12,
     "metadata": {},
     "output_type": "execute_result"
    }
   ],
   "source": [
    "conv.say(\"percent of employees earning less than 20\")"
   ]
  },
  {
   "cell_type": "code",
   "execution_count": 13,
   "metadata": {},
   "outputs": [
    {
     "data": {
      "text/plain": [
       "[\"Hmmm, I didn't quite understand. Would you like to know what you can ask me?\",\n",
       " 'Listening...']"
      ]
     },
     "execution_count": 13,
     "metadata": {},
     "output_type": "execute_result"
    }
   ],
   "source": [
    "conv.say(\"is tomato a fruit?\")"
   ]
  },
  {
   "cell_type": "code",
   "execution_count": 14,
   "metadata": {},
   "outputs": [
    {
     "data": {
      "text/plain": [
       "['Hmmm, did you mean yes or no?', 'Listening...']"
      ]
     },
     "execution_count": 14,
     "metadata": {},
     "output_type": "execute_result"
    }
   ],
   "source": [
    "conv.say(\"let's see\")"
   ]
  },
  {
   "cell_type": "code",
   "execution_count": 15,
   "metadata": {},
   "outputs": [
    {
     "data": {
      "text/plain": [
       "[\"Great! You can ask me about an employee's individual information (eg. Is Ivan married?), \\t\\t\\t\\tsome employee statistic (eg. average salary of females) \\t\\t\\t\\tor names of employees according to your criteria (eg. give me a list of all married employees)\",\n",
       " 'Now, what would you like to know?',\n",
       " 'Listening...']"
      ]
     },
     "execution_count": 15,
     "metadata": {},
     "output_type": "execute_result"
    }
   ],
   "source": [
    "conv.say(\"yes please!\")"
   ]
  },
  {
   "cell_type": "code",
   "execution_count": 16,
   "metadata": {},
   "outputs": [
    {
     "data": {
      "text/plain": [
       "[\"Here's some employees: Lindsay Lynch, Lynn O'hare, Dheepa Nguyen, Leonara Lindsay, Francesco Barone, Daniel Davis, Gerry Friedman, Mike Guilianno, Jac McKinzie, Jacquelyn Williams, Evelyn Girifalco, Karen Mancuso, Jackie Valentin, Ricardo Ruiz, Linda Bachiochi, Barbara Stanford, Desiree Tavares, Howard Mullaney\"]"
      ]
     },
     "execution_count": 16,
     "metadata": {},
     "output_type": "execute_result"
    }
   ],
   "source": [
    "conv.say(\"are there any mixed race employees\")"
   ]
  },
  {
   "cell_type": "code",
   "execution_count": 17,
   "metadata": {},
   "outputs": [
    {
     "name": "stdout",
     "output_type": "stream",
     "text": [
      "Inspecting domain classification\n",
      "                                                                                              Feature  \\\n",
      "bag_of_words|edge:left|length:1|ngram:what                 bag_of_words|edge:left|length:1|ngram:what   \n",
      "bag_of_words|edge:left|length:2|ngram:what perc...  bag_of_words|edge:left|length:2|ngram:what per...   \n",
      "bag_of_words|edge:right|length:1|ngram:#NUM               bag_of_words|edge:right|length:1|ngram:#NUM   \n",
      "bag_of_words|edge:right|length:2|ngram:post #NUM     bag_of_words|edge:right|length:2|ngram:post #NUM   \n",
      "bag_of_words|length:1|ngram:#NUM                                     bag_of_words|length:1|ngram:#NUM   \n",
      "bag_of_words|length:1|ngram:employees                           bag_of_words|length:1|ngram:employees   \n",
      "bag_of_words|length:1|ngram:hired                                   bag_of_words|length:1|ngram:hired   \n",
      "bag_of_words|length:1|ngram:of                                         bag_of_words|length:1|ngram:of   \n",
      "bag_of_words|length:1|ngram:percentage                         bag_of_words|length:1|ngram:percentage   \n",
      "bag_of_words|length:1|ngram:post                                     bag_of_words|length:1|ngram:post   \n",
      "bag_of_words|length:1|ngram:were                                     bag_of_words|length:1|ngram:were   \n",
      "bag_of_words|length:1|ngram:what                                     bag_of_words|length:1|ngram:what   \n",
      "bag_of_words|length:2|ngram:employees were                 bag_of_words|length:2|ngram:employees were   \n",
      "bag_of_words|length:2|ngram:hired post                         bag_of_words|length:2|ngram:hired post   \n",
      "bag_of_words|length:2|ngram:of employees                     bag_of_words|length:2|ngram:of employees   \n",
      "bag_of_words|length:2|ngram:percentage of                   bag_of_words|length:2|ngram:percentage of   \n",
      "bag_of_words|length:2|ngram:post #NUM                           bag_of_words|length:2|ngram:post #NUM   \n",
      "bag_of_words|length:2|ngram:were hired                         bag_of_words|length:2|ngram:were hired   \n",
      "bag_of_words|length:2|ngram:what percentage               bag_of_words|length:2|ngram:what percentage   \n",
      "exact|query:<OOV>                                                                   exact|query:<OOV>   \n",
      "in_gaz|type:age|gaz_freq_bin:0                                         in_gaz|type:age|gaz_freq_bin:0   \n",
      "in_gaz|type:citizendesc|gaz_freq_bin:1                         in_gaz|type:citizendesc|gaz_freq_bin:1   \n",
      "in_gaz|type:date_compare                                                     in_gaz|type:date_compare   \n",
      "in_gaz|type:date_compare|gaz_freq_bin:0                       in_gaz|type:date_compare|gaz_freq_bin:0   \n",
      "in_gaz|type:date_compare|pop                                             in_gaz|type:date_compare|pop   \n",
      "in_gaz|type:date_compare|ratio                                         in_gaz|type:date_compare|ratio   \n",
      "in_gaz|type:date_compare|ratio_pop                                 in_gaz|type:date_compare|ratio_pop   \n",
      "in_gaz|type:date_time|gaz_freq_bin:1                             in_gaz|type:date_time|gaz_freq_bin:1   \n",
      "in_gaz|type:dob|gaz_freq_bin:0                                         in_gaz|type:dob|gaz_freq_bin:0   \n",
      "in_gaz|type:employee_source|gaz_freq_bin:0                 in_gaz|type:employee_source|gaz_freq_bin:0   \n",
      "...                                                                                               ...   \n",
      "in_gaz|type:employment_action|gaz_freq_bin:1             in_gaz|type:employment_action|gaz_freq_bin:1   \n",
      "in_gaz|type:employment_action|pop                                   in_gaz|type:employment_action|pop   \n",
      "in_gaz|type:employment_action|ratio                               in_gaz|type:employment_action|ratio   \n",
      "in_gaz|type:employment_action|ratio_pop                       in_gaz|type:employment_action|ratio_pop   \n",
      "in_gaz|type:employment_status|gaz_freq_bin:0             in_gaz|type:employment_status|gaz_freq_bin:0   \n",
      "in_gaz|type:function                                                             in_gaz|type:function   \n",
      "in_gaz|type:function|gaz_freq_bin:0                               in_gaz|type:function|gaz_freq_bin:0   \n",
      "in_gaz|type:function|pop                                                     in_gaz|type:function|pop   \n",
      "in_gaz|type:function|ratio                                                 in_gaz|type:function|ratio   \n",
      "in_gaz|type:function|ratio_pop                                         in_gaz|type:function|ratio_pop   \n",
      "in_gaz|type:position|gaz_freq_bin:0                               in_gaz|type:position|gaz_freq_bin:0   \n",
      "in_gaz|type:reason_for_termination|gaz_freq_bin:0   in_gaz|type:reason_for_termination|gaz_freq_bin:0   \n",
      "in_gaz|type:state|gaz_freq_bin:0                                     in_gaz|type:state|gaz_freq_bin:0   \n",
      "in_vocab:IV|freq_bin:1                                                         in_vocab:IV|freq_bin:1   \n",
      "in_vocab:IV|freq_bin:2                                                         in_vocab:IV|freq_bin:2   \n",
      "in_vocab:IV|freq_bin:4                                                         in_vocab:IV|freq_bin:4   \n",
      "in_vocab:IV|freq_bin:5                                                         in_vocab:IV|freq_bin:5   \n",
      "in_vocab:IV|in_gaz|type:age|gaz_freq_bin:0                 in_vocab:IV|in_gaz|type:age|gaz_freq_bin:0   \n",
      "in_vocab:IV|in_gaz|type:citizendesc|gaz_freq_bin:1  in_vocab:IV|in_gaz|type:citizendesc|gaz_freq_b...   \n",
      "in_vocab:IV|in_gaz|type:date_compare|gaz_freq_b...  in_vocab:IV|in_gaz|type:date_compare|gaz_freq_...   \n",
      "in_vocab:IV|in_gaz|type:date_time|gaz_freq_bin:1     in_vocab:IV|in_gaz|type:date_time|gaz_freq_bin:1   \n",
      "in_vocab:IV|in_gaz|type:dob|gaz_freq_bin:0                 in_vocab:IV|in_gaz|type:dob|gaz_freq_bin:0   \n",
      "in_vocab:IV|in_gaz|type:employee_source|gaz_fre...  in_vocab:IV|in_gaz|type:employee_source|gaz_fr...   \n",
      "in_vocab:IV|in_gaz|type:employment_action|gaz_f...  in_vocab:IV|in_gaz|type:employment_action|gaz_...   \n",
      "in_vocab:IV|in_gaz|type:employment_action|gaz_f...  in_vocab:IV|in_gaz|type:employment_action|gaz_...   \n",
      "in_vocab:IV|in_gaz|type:employment_status|gaz_f...  in_vocab:IV|in_gaz|type:employment_status|gaz_...   \n",
      "in_vocab:IV|in_gaz|type:function|gaz_freq_bin:0       in_vocab:IV|in_gaz|type:function|gaz_freq_bin:0   \n",
      "in_vocab:IV|in_gaz|type:position|gaz_freq_bin:0       in_vocab:IV|in_gaz|type:position|gaz_freq_bin:0   \n",
      "in_vocab:IV|in_gaz|type:reason_for_termination|...  in_vocab:IV|in_gaz|type:reason_for_termination...   \n",
      "in_vocab:IV|in_gaz|type:state|gaz_freq_bin:0             in_vocab:IV|in_gaz|type:state|gaz_freq_bin:0   \n",
      "\n",
      "                                                     Value Pred_W(date)  \\\n",
      "bag_of_words|edge:left|length:1|ngram:what               1    [-0.4053]   \n",
      "bag_of_words|edge:left|length:2|ngram:what perc...       1     [0.3885]   \n",
      "bag_of_words|edge:right|length:1|ngram:#NUM              1     [1.2926]   \n",
      "bag_of_words|edge:right|length:2|ngram:post #NUM         1     [0.5223]   \n",
      "bag_of_words|length:1|ngram:#NUM                         1     [1.2525]   \n",
      "bag_of_words|length:1|ngram:employees                    1     [0.6967]   \n",
      "bag_of_words|length:1|ngram:hired                        1     [1.3637]   \n",
      "bag_of_words|length:1|ngram:of                           1      [0.382]   \n",
      "bag_of_words|length:1|ngram:percentage                   1     [0.2156]   \n",
      "bag_of_words|length:1|ngram:post                         1    [-0.0918]   \n",
      "bag_of_words|length:1|ngram:were                         1    [-0.4304]   \n",
      "bag_of_words|length:1|ngram:what                         1    [-0.0487]   \n",
      "bag_of_words|length:2|ngram:employees were               1    [-1.3467]   \n",
      "bag_of_words|length:2|ngram:hired post                   1    [-0.1212]   \n",
      "bag_of_words|length:2|ngram:of employees                 1     [0.4147]   \n",
      "bag_of_words|length:2|ngram:percentage of                1     [0.3041]   \n",
      "bag_of_words|length:2|ngram:post #NUM                    1     [0.5223]   \n",
      "bag_of_words|length:2|ngram:were hired                   1     [0.4425]   \n",
      "bag_of_words|length:2|ngram:what percentage              1     [0.3885]   \n",
      "exact|query:<OOV>                                       10    [-0.2959]   \n",
      "in_gaz|type:age|gaz_freq_bin:0                       0.125     [0.0379]   \n",
      "in_gaz|type:citizendesc|gaz_freq_bin:1               0.125      [0.001]   \n",
      "in_gaz|type:date_compare                                 1     [0.5618]   \n",
      "in_gaz|type:date_compare|gaz_freq_bin:0              0.125     [0.4038]   \n",
      "in_gaz|type:date_compare|pop                             1     [0.1489]   \n",
      "in_gaz|type:date_compare|ratio                      0.0816      [0.194]   \n",
      "in_gaz|type:date_compare|ratio_pop                  0.0816      [0.194]   \n",
      "in_gaz|type:date_time|gaz_freq_bin:1                 0.125     [1.1458]   \n",
      "in_gaz|type:dob|gaz_freq_bin:0                       0.125     [0.7463]   \n",
      "in_gaz|type:employee_source|gaz_freq_bin:0           0.125    [-0.2548]   \n",
      "...                                                    ...          ...   \n",
      "in_gaz|type:employment_action|gaz_freq_bin:1         0.125     [0.6675]   \n",
      "in_gaz|type:employment_action|pop                        1     [2.0318]   \n",
      "in_gaz|type:employment_action|ratio                  0.102     [0.2853]   \n",
      "in_gaz|type:employment_action|ratio_pop              0.102     [0.2853]   \n",
      "in_gaz|type:employment_status|gaz_freq_bin:0         0.125    [-0.5111]   \n",
      "in_gaz|type:function                                     1    [-0.2045]   \n",
      "in_gaz|type:function|gaz_freq_bin:0                 0.1981     [0.1023]   \n",
      "in_gaz|type:function|pop                                 1    [-0.3497]   \n",
      "in_gaz|type:function|ratio                          0.2041    [-0.0662]   \n",
      "in_gaz|type:function|ratio_pop                      0.2041    [-0.0662]   \n",
      "in_gaz|type:position|gaz_freq_bin:0                  0.125    [-0.2249]   \n",
      "in_gaz|type:reason_for_termination|gaz_freq_bin:0    0.125    [-0.1819]   \n",
      "in_gaz|type:state|gaz_freq_bin:0                     0.125    [-0.2402]   \n",
      "in_vocab:IV|freq_bin:1                                0.25     [0.0386]   \n",
      "in_vocab:IV|freq_bin:2                               0.125    [-0.9975]   \n",
      "in_vocab:IV|freq_bin:4                               0.125     [0.1317]   \n",
      "in_vocab:IV|freq_bin:5                                0.25    [-0.8583]   \n",
      "in_vocab:IV|in_gaz|type:age|gaz_freq_bin:0           0.125     [0.0494]   \n",
      "in_vocab:IV|in_gaz|type:citizendesc|gaz_freq_bin:1   0.125      [0.001]   \n",
      "in_vocab:IV|in_gaz|type:date_compare|gaz_freq_b...   0.125     [0.4038]   \n",
      "in_vocab:IV|in_gaz|type:date_time|gaz_freq_bin:1     0.125     [1.1458]   \n",
      "in_vocab:IV|in_gaz|type:dob|gaz_freq_bin:0           0.125     [0.7463]   \n",
      "in_vocab:IV|in_gaz|type:employee_source|gaz_fre...   0.125    [-0.2548]   \n",
      "in_vocab:IV|in_gaz|type:employment_action|gaz_f...  0.1981     [0.5303]   \n",
      "in_vocab:IV|in_gaz|type:employment_action|gaz_f...   0.125     [0.6675]   \n",
      "in_vocab:IV|in_gaz|type:employment_status|gaz_f...   0.125    [-0.5111]   \n",
      "in_vocab:IV|in_gaz|type:function|gaz_freq_bin:0     0.1981     [0.1023]   \n",
      "in_vocab:IV|in_gaz|type:position|gaz_freq_bin:0      0.125    [-0.1984]   \n",
      "in_vocab:IV|in_gaz|type:reason_for_termination|...   0.125    [-0.1819]   \n",
      "in_vocab:IV|in_gaz|type:state|gaz_freq_bin:0         0.125    [-0.2402]   \n",
      "\n",
      "                                                       Pred_P Gold_W(date)  \\\n",
      "bag_of_words|edge:left|length:1|ngram:what          [-0.4053]    [-0.4053]   \n",
      "bag_of_words|edge:left|length:2|ngram:what perc...   [0.3885]     [0.3885]   \n",
      "bag_of_words|edge:right|length:1|ngram:#NUM          [1.2926]     [1.2926]   \n",
      "bag_of_words|edge:right|length:2|ngram:post #NUM     [0.5223]     [0.5223]   \n",
      "bag_of_words|length:1|ngram:#NUM                     [1.2525]     [1.2525]   \n",
      "bag_of_words|length:1|ngram:employees                [0.6967]     [0.6967]   \n",
      "bag_of_words|length:1|ngram:hired                    [1.3637]     [1.3637]   \n",
      "bag_of_words|length:1|ngram:of                        [0.382]      [0.382]   \n",
      "bag_of_words|length:1|ngram:percentage               [0.2156]     [0.2156]   \n",
      "bag_of_words|length:1|ngram:post                    [-0.0918]    [-0.0918]   \n",
      "bag_of_words|length:1|ngram:were                    [-0.4304]    [-0.4304]   \n",
      "bag_of_words|length:1|ngram:what                    [-0.0487]    [-0.0487]   \n",
      "bag_of_words|length:2|ngram:employees were          [-1.3467]    [-1.3467]   \n",
      "bag_of_words|length:2|ngram:hired post              [-0.1212]    [-0.1212]   \n",
      "bag_of_words|length:2|ngram:of employees             [0.4147]     [0.4147]   \n",
      "bag_of_words|length:2|ngram:percentage of            [0.3041]     [0.3041]   \n",
      "bag_of_words|length:2|ngram:post #NUM                [0.5223]     [0.5223]   \n",
      "bag_of_words|length:2|ngram:were hired               [0.4425]     [0.4425]   \n",
      "bag_of_words|length:2|ngram:what percentage          [0.3885]     [0.3885]   \n",
      "exact|query:<OOV>                                   [-2.9586]    [-0.2959]   \n",
      "in_gaz|type:age|gaz_freq_bin:0                       [0.0047]     [0.0379]   \n",
      "in_gaz|type:citizendesc|gaz_freq_bin:1               [0.0001]      [0.001]   \n",
      "in_gaz|type:date_compare                             [0.5618]     [0.5618]   \n",
      "in_gaz|type:date_compare|gaz_freq_bin:0              [0.0505]     [0.4038]   \n",
      "in_gaz|type:date_compare|pop                         [0.1489]     [0.1489]   \n",
      "in_gaz|type:date_compare|ratio                       [0.0158]      [0.194]   \n",
      "in_gaz|type:date_compare|ratio_pop                   [0.0158]      [0.194]   \n",
      "in_gaz|type:date_time|gaz_freq_bin:1                 [0.1432]     [1.1458]   \n",
      "in_gaz|type:dob|gaz_freq_bin:0                       [0.0933]     [0.7463]   \n",
      "in_gaz|type:employee_source|gaz_freq_bin:0          [-0.0318]    [-0.2548]   \n",
      "...                                                       ...          ...   \n",
      "in_gaz|type:employment_action|gaz_freq_bin:1         [0.0834]     [0.6675]   \n",
      "in_gaz|type:employment_action|pop                    [2.0318]     [2.0318]   \n",
      "in_gaz|type:employment_action|ratio                  [0.0291]     [0.2853]   \n",
      "in_gaz|type:employment_action|ratio_pop              [0.0291]     [0.2853]   \n",
      "in_gaz|type:employment_status|gaz_freq_bin:0        [-0.0639]    [-0.5111]   \n",
      "in_gaz|type:function                                [-0.2045]    [-0.2045]   \n",
      "in_gaz|type:function|gaz_freq_bin:0                  [0.0203]     [0.1023]   \n",
      "in_gaz|type:function|pop                            [-0.3497]    [-0.3497]   \n",
      "in_gaz|type:function|ratio                          [-0.0135]    [-0.0662]   \n",
      "in_gaz|type:function|ratio_pop                      [-0.0135]    [-0.0662]   \n",
      "in_gaz|type:position|gaz_freq_bin:0                 [-0.0281]    [-0.2249]   \n",
      "in_gaz|type:reason_for_termination|gaz_freq_bin:0   [-0.0227]    [-0.1819]   \n",
      "in_gaz|type:state|gaz_freq_bin:0                      [-0.03]    [-0.2402]   \n",
      "in_vocab:IV|freq_bin:1                               [0.0097]     [0.0386]   \n",
      "in_vocab:IV|freq_bin:2                              [-0.1247]    [-0.9975]   \n",
      "in_vocab:IV|freq_bin:4                               [0.0165]     [0.1317]   \n",
      "in_vocab:IV|freq_bin:5                              [-0.2146]    [-0.8583]   \n",
      "in_vocab:IV|in_gaz|type:age|gaz_freq_bin:0           [0.0062]     [0.0494]   \n",
      "in_vocab:IV|in_gaz|type:citizendesc|gaz_freq_bin:1   [0.0001]      [0.001]   \n",
      "in_vocab:IV|in_gaz|type:date_compare|gaz_freq_b...   [0.0505]     [0.4038]   \n",
      "in_vocab:IV|in_gaz|type:date_time|gaz_freq_bin:1     [0.1432]     [1.1458]   \n",
      "in_vocab:IV|in_gaz|type:dob|gaz_freq_bin:0           [0.0933]     [0.7463]   \n",
      "in_vocab:IV|in_gaz|type:employee_source|gaz_fre...  [-0.0318]    [-0.2548]   \n",
      "in_vocab:IV|in_gaz|type:employment_action|gaz_f...   [0.1051]     [0.5303]   \n",
      "in_vocab:IV|in_gaz|type:employment_action|gaz_f...   [0.0834]     [0.6675]   \n",
      "in_vocab:IV|in_gaz|type:employment_status|gaz_f...  [-0.0639]    [-0.5111]   \n",
      "in_vocab:IV|in_gaz|type:function|gaz_freq_bin:0      [0.0203]     [0.1023]   \n",
      "in_vocab:IV|in_gaz|type:position|gaz_freq_bin:0     [-0.0248]    [-0.1984]   \n",
      "in_vocab:IV|in_gaz|type:reason_for_termination|...  [-0.0227]    [-0.1819]   \n",
      "in_vocab:IV|in_gaz|type:state|gaz_freq_bin:0          [-0.03]    [-0.2402]   \n",
      "\n",
      "                                                       Gold_P   Diff  \n",
      "bag_of_words|edge:left|length:1|ngram:what          [-0.4053]  [0.0]  \n",
      "bag_of_words|edge:left|length:2|ngram:what perc...   [0.3885]  [0.0]  \n",
      "bag_of_words|edge:right|length:1|ngram:#NUM          [1.2926]  [0.0]  \n",
      "bag_of_words|edge:right|length:2|ngram:post #NUM     [0.5223]  [0.0]  \n",
      "bag_of_words|length:1|ngram:#NUM                     [1.2525]  [0.0]  \n",
      "bag_of_words|length:1|ngram:employees                [0.6967]  [0.0]  \n",
      "bag_of_words|length:1|ngram:hired                    [1.3637]  [0.0]  \n",
      "bag_of_words|length:1|ngram:of                        [0.382]  [0.0]  \n",
      "bag_of_words|length:1|ngram:percentage               [0.2156]  [0.0]  \n",
      "bag_of_words|length:1|ngram:post                    [-0.0918]  [0.0]  \n",
      "bag_of_words|length:1|ngram:were                    [-0.4304]  [0.0]  \n",
      "bag_of_words|length:1|ngram:what                    [-0.0487]  [0.0]  \n",
      "bag_of_words|length:2|ngram:employees were          [-1.3467]  [0.0]  \n",
      "bag_of_words|length:2|ngram:hired post              [-0.1212]  [0.0]  \n",
      "bag_of_words|length:2|ngram:of employees             [0.4147]  [0.0]  \n",
      "bag_of_words|length:2|ngram:percentage of            [0.3041]  [0.0]  \n",
      "bag_of_words|length:2|ngram:post #NUM                [0.5223]  [0.0]  \n",
      "bag_of_words|length:2|ngram:were hired               [0.4425]  [0.0]  \n",
      "bag_of_words|length:2|ngram:what percentage          [0.3885]  [0.0]  \n",
      "exact|query:<OOV>                                   [-2.9586]  [0.0]  \n",
      "in_gaz|type:age|gaz_freq_bin:0                       [0.0047]  [0.0]  \n",
      "in_gaz|type:citizendesc|gaz_freq_bin:1               [0.0001]  [0.0]  \n",
      "in_gaz|type:date_compare                             [0.5618]  [0.0]  \n",
      "in_gaz|type:date_compare|gaz_freq_bin:0              [0.0505]  [0.0]  \n",
      "in_gaz|type:date_compare|pop                         [0.1489]  [0.0]  \n",
      "in_gaz|type:date_compare|ratio                       [0.0158]  [0.0]  \n",
      "in_gaz|type:date_compare|ratio_pop                   [0.0158]  [0.0]  \n",
      "in_gaz|type:date_time|gaz_freq_bin:1                 [0.1432]  [0.0]  \n",
      "in_gaz|type:dob|gaz_freq_bin:0                       [0.0933]  [0.0]  \n",
      "in_gaz|type:employee_source|gaz_freq_bin:0          [-0.0318]  [0.0]  \n",
      "...                                                       ...    ...  \n",
      "in_gaz|type:employment_action|gaz_freq_bin:1         [0.0834]  [0.0]  \n",
      "in_gaz|type:employment_action|pop                    [2.0318]  [0.0]  \n",
      "in_gaz|type:employment_action|ratio                  [0.0291]  [0.0]  \n",
      "in_gaz|type:employment_action|ratio_pop              [0.0291]  [0.0]  \n",
      "in_gaz|type:employment_status|gaz_freq_bin:0        [-0.0639]  [0.0]  \n",
      "in_gaz|type:function                                [-0.2045]  [0.0]  \n",
      "in_gaz|type:function|gaz_freq_bin:0                  [0.0203]  [0.0]  \n",
      "in_gaz|type:function|pop                            [-0.3497]  [0.0]  \n",
      "in_gaz|type:function|ratio                          [-0.0135]  [0.0]  \n",
      "in_gaz|type:function|ratio_pop                      [-0.0135]  [0.0]  \n",
      "in_gaz|type:position|gaz_freq_bin:0                 [-0.0281]  [0.0]  \n",
      "in_gaz|type:reason_for_termination|gaz_freq_bin:0   [-0.0227]  [0.0]  \n",
      "in_gaz|type:state|gaz_freq_bin:0                      [-0.03]  [0.0]  \n",
      "in_vocab:IV|freq_bin:1                               [0.0097]  [0.0]  \n",
      "in_vocab:IV|freq_bin:2                              [-0.1247]  [0.0]  \n",
      "in_vocab:IV|freq_bin:4                               [0.0165]  [0.0]  \n",
      "in_vocab:IV|freq_bin:5                              [-0.2146]  [0.0]  \n",
      "in_vocab:IV|in_gaz|type:age|gaz_freq_bin:0           [0.0062]  [0.0]  \n",
      "in_vocab:IV|in_gaz|type:citizendesc|gaz_freq_bin:1   [0.0001]  [0.0]  \n",
      "in_vocab:IV|in_gaz|type:date_compare|gaz_freq_b...   [0.0505]  [0.0]  \n",
      "in_vocab:IV|in_gaz|type:date_time|gaz_freq_bin:1     [0.1432]  [0.0]  \n",
      "in_vocab:IV|in_gaz|type:dob|gaz_freq_bin:0           [0.0933]  [0.0]  \n",
      "in_vocab:IV|in_gaz|type:employee_source|gaz_fre...  [-0.0318]  [0.0]  \n",
      "in_vocab:IV|in_gaz|type:employment_action|gaz_f...   [0.1051]  [0.0]  \n",
      "in_vocab:IV|in_gaz|type:employment_action|gaz_f...   [0.0834]  [0.0]  \n",
      "in_vocab:IV|in_gaz|type:employment_status|gaz_f...  [-0.0639]  [0.0]  \n",
      "in_vocab:IV|in_gaz|type:function|gaz_freq_bin:0      [0.0203]  [0.0]  \n",
      "in_vocab:IV|in_gaz|type:position|gaz_freq_bin:0     [-0.0248]  [0.0]  \n",
      "in_vocab:IV|in_gaz|type:reason_for_termination|...  [-0.0227]  [0.0]  \n",
      "in_vocab:IV|in_gaz|type:state|gaz_freq_bin:0          [-0.03]  [0.0]  \n",
      "\n",
      "[62 rows x 7 columns]\n",
      "\n"
     ]
    }
   ],
   "source": [
    "# nlp.inspect(\"what percentage of employees were hired post 2012\", domain='date')"
   ]
  },
  {
   "cell_type": "code",
   "execution_count": 18,
   "metadata": {},
   "outputs": [
    {
     "data": {
      "text/plain": [
       "['The percent is 0.0']"
      ]
     },
     "execution_count": 18,
     "metadata": {},
     "output_type": "execute_result"
    }
   ],
   "source": [
    "conv.say(\"what percentage of employees were hired in this year\")"
   ]
  },
  {
   "cell_type": "code",
   "execution_count": 19,
   "metadata": {},
   "outputs": [
    {
     "data": {
      "text/plain": [
       "[\"Here's some employees: Edward True, Mike Guilianno, Charles Bozzi, Miguel Estremera, Ned Miller\"]"
      ]
     },
     "execution_count": 19,
     "metadata": {},
     "output_type": "execute_result"
    }
   ],
   "source": [
    "conv.say(\"males fired in 2014\")"
   ]
  },
  {
   "cell_type": "code",
   "execution_count": null,
   "metadata": {},
   "outputs": [],
   "source": [
    "nlp.inspect(\"give me the average salary of employees who are 30 years of age but hired after 2008\", domain='salary')"
   ]
  },
  {
   "cell_type": "code",
   "execution_count": 21,
   "metadata": {},
   "outputs": [
    {
     "data": {
      "text/plain": [
       "[\"Here's some employees: Kramer Simard, Neville Tredinnick, Jumil Turpin, Jyoti Lajiri, Thomas Barbara, Alex Gilles, John Kretschmer, Sandy Mckenna, Haley Rivera, Kamrin Sander, Shana Petingill, Lenora Tejeda, Edward Buck, Leigh Smith, Amy Foster-Baker, Daniff Hernandez, Noelle Johnson, Thelma Petrowsky, Ivan Rogers, Peter Monroe, Linda Dolan, Anita Pardo, Walter Immediato, Ketsia Liebig, Kelley Spirea, Courtney Wallace, Rachael Baczenski, Elijian Clukey, Lisa Cornett, Jene'ya Darson, Carl Desimone, Marianne Eaton, Susan Ferguson, Libby Fidelia, Kathleen Kinsella, Allison Lydon, Horia Ndzi, Richard Newman, Alain Robinson, Cherly Robinson, Taylor Sparks, Timothy Sullivan, Megan Faller, Susan Good, Adrienne Homberger, Mohammed Latif, Mathew Linden, Lauren Peters, Jessica Bunbury, Ricardo Gonzales, Jac McKinzie, Xana Potts, Caitrin Strong, Estelle Howard, Randall Pearson, Lori Roby, Karthikeyan Ait Sidi, Trina Alagbe, Donna Brill, Nilson Fernandes, Mildred Gentry, David Gordon, Roxana Goyal, Ludwick Harrell, Alexandra Kirill, Shana Maurice, Adeel Osturnka, Nina Panjwani, Seffi Shields, Rick Stoica, Colleen Volk, Sarah Akinkuolie, Juan Gonzalez, Erasumus Monkfish, Brooke Oliver, Ermine Pelletier, Debra Houlihan, Brandon LeBlanc, Bonalyn Boutwell, Janet King, Ann Daniele, Jeremiah Semizoglou, Ebonee Peterson, Kissy Sullivan, Helen Billis, Lily DiNocco, Rex England, Joanne Handschiegl, Judy Jung, Enrico Langton, Marilyn Linares, Debbie Mangal, Barry Wilber, Jennifer Cloninger, Karen Mancuso, Adil Sahoo, Jackie Valentin, Susan Exantus, Adell Saada, Mia Brown, Sean Quinn, Julia Soto, Anthony Cisco, Tanya Morway, Jonathan Hogland, James DeGweck, Kara Harrison, George Johnson, Kayla Peterson, Hong Pham, Desiree Tavares, Kimberly Beak, Benjamin Burkett, Phil Close, Tanya Foreman, Robyn Manchester, Peter Robertson, Alfred Digitale, Jeremy Prater\"]"
      ]
     },
     "execution_count": 21,
     "metadata": {},
     "output_type": "execute_result"
    }
   ],
   "source": [
    "conv.say(\"show me all married employees\")"
   ]
  },
  {
   "cell_type": "code",
   "execution_count": 22,
   "metadata": {},
   "outputs": [
    {
     "data": {
      "text/plain": [
       "['The average based on your query is 29.12']"
      ]
     },
     "execution_count": 22,
     "metadata": {},
     "output_type": "execute_result"
    }
   ],
   "source": [
    "conv.say(\"what is the average salary for women?\")"
   ]
  },
  {
   "cell_type": "code",
   "execution_count": null,
   "metadata": {},
   "outputs": [],
   "source": []
  },
  {
   "cell_type": "code",
   "execution_count": null,
   "metadata": {},
   "outputs": [],
   "source": []
  }
 ],
 "metadata": {
  "kernelspec": {
   "display_name": "Python 3",
   "language": "python",
   "name": "python3"
  },
  "language_info": {
   "codemirror_mode": {
    "name": "ipython",
    "version": 3
   },
   "file_extension": ".py",
   "mimetype": "text/x-python",
   "name": "python",
   "nbconvert_exporter": "python",
   "pygments_lexer": "ipython3",
   "version": "3.6.8"
  }
 },
 "nbformat": 4,
 "nbformat_minor": 2
}
