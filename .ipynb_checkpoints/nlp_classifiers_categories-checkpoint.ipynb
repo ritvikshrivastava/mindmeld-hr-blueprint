{
 "cells": [
  {
   "cell_type": "code",
   "execution_count": 1,
   "metadata": {},
   "outputs": [
    {
     "name": "stderr",
     "output_type": "stream",
     "text": [
      "/anaconda3/envs/mm_workspace/lib/python3.6/site-packages/sklearn/ensemble/weight_boosting.py:29: DeprecationWarning: numpy.core.umath_tests is an internal NumPy module and should not be imported. It will be removed in a future NumPy release.\n",
      "  from numpy.core.umath_tests import inner1d\n"
     ]
    }
   ],
   "source": [
    "from mindmeld import configure_logs; configure_logs()"
   ]
  },
  {
   "cell_type": "code",
   "execution_count": 2,
   "metadata": {},
   "outputs": [],
   "source": [
    "import logging\n",
    "logger = logging.getLogger()\n",
    "logger.setLevel(logging.INFO)\n",
    "logging.debug(\"test\")"
   ]
  },
  {
   "cell_type": "code",
   "execution_count": 3,
   "metadata": {},
   "outputs": [
    {
     "name": "stdout",
     "output_type": "stream",
     "text": [
      "/Users/ritvshri/Documents/mm/mindmeld-hr-blueprint\r\n"
     ]
    },
    {
     "name": "stderr",
     "output_type": "stream",
     "text": [
      "/anaconda3/envs/mm_workspace/lib/python3.6/site-packages/mindmeld/_version.py:64: MindMeldVersionWarning: Current mindmeld (4.1.1) does not satisfy mindmeld==4.1.0 in pip requirements caused by (mindmeld 4.1.1 (/anaconda3/envs/mm_workspace/lib/python3.6/site-packages), Requirement.parse('mindmeld==4.1.0'))\n",
      "  warnings.warn(error_msg, category=MindMeldVersionWarning)\n"
     ]
    },
    {
     "data": {
      "text/plain": [
       "<NaturalLanguageProcessor './hr_assistant_categories' ready: False, dirty: False>"
      ]
     },
     "execution_count": 3,
     "metadata": {},
     "output_type": "execute_result"
    }
   ],
   "source": [
    "!pwd\n",
    "\n",
    "from mindmeld.components.nlp import NaturalLanguageProcessor\n",
    "nlp = NaturalLanguageProcessor(app_path='./hr_assistant_categories')\n",
    "nlp"
   ]
  },
  {
   "cell_type": "code",
   "execution_count": 4,
   "metadata": {},
   "outputs": [
    {
     "data": {
      "text/plain": [
       "{'hierarchy': <DomainProcessor 'hierarchy' ready: False, dirty: False>,\n",
       " 'general': <DomainProcessor 'general' ready: False, dirty: False>,\n",
       " 'date': <DomainProcessor 'date' ready: False, dirty: False>}"
      ]
     },
     "execution_count": 4,
     "metadata": {},
     "output_type": "execute_result"
    }
   ],
   "source": [
    "nlp.domains"
   ]
  },
  {
   "cell_type": "code",
   "execution_count": 5,
   "metadata": {
    "scrolled": false
   },
   "outputs": [
    {
     "data": {
      "text/plain": [
       "<DomainClassifier ready: False, dirty: False>"
      ]
     },
     "execution_count": 5,
     "metadata": {},
     "output_type": "execute_result"
    }
   ],
   "source": [
    "dc = nlp.domain_classifier\n",
    "dc"
   ]
  },
  {
   "cell_type": "code",
   "execution_count": 6,
   "metadata": {},
   "outputs": [
    {
     "name": "stdout",
     "output_type": "stream",
     "text": [
      "Fitting domain classifier\n",
      "Loading raw queries from file ./hr_assistant_categories/domains/date/get date_range_employees/train.txt\n",
      "Loading raw queries from file ./hr_assistant_categories/domains/date/get_date/train.txt\n",
      "Loading raw queries from file ./hr_assistant_categories/domains/date/get_date_range_aggregate/train.txt\n",
      "Loading raw queries from file ./hr_assistant_categories/domains/general/get_aggregate/train.txt\n",
      "Loading raw queries from file ./hr_assistant_categories/domains/general/get_employees/train.txt\n",
      "Loading raw queries from file ./hr_assistant_categories/domains/general/get_info/train.txt\n",
      "Loading raw queries from file ./hr_assistant_categories/domains/hierarchy/get_hierarchy/train.txt\n",
      "Loading queries from file ./hr_assistant_categories/domains/date/get date_range_employees/train.txt\n",
      "Loading queries from file ./hr_assistant_categories/domains/date/get_date/train.txt\n",
      "Loading queries from file ./hr_assistant_categories/domains/date/get_date_range_aggregate/train.txt\n",
      "Loading queries from file ./hr_assistant_categories/domains/general/get_aggregate/train.txt\n",
      "Loading queries from file ./hr_assistant_categories/domains/general/get_employees/train.txt\n",
      "Loading queries from file ./hr_assistant_categories/domains/general/get_info/train.txt\n",
      "Loading queries from file ./hr_assistant_categories/domains/hierarchy/get_hierarchy/train.txt\n",
      "Selecting hyperparameters using k-fold cross-validation with 100 splits\n",
      "Best accuracy: 93.69%, params: {'C': 1, 'fit_intercept': True, 'penalty': 'l2'}\n"
     ]
    }
   ],
   "source": [
    "dc.fit(model_settings={'classifier_type': \"logreg\"}, param_selection={'grid':{\n",
    "  'penalty': ['l1', 'l2'],\n",
    "  'C': [0.1, 1, 10, 100, 1000, 10000, 100000],\n",
    "   'fit_intercept': [True, False]\n",
    "},'type':'k-fold','k' : 100})"
   ]
  },
  {
   "cell_type": "code",
   "execution_count": 7,
   "metadata": {},
   "outputs": [],
   "source": [
    "# # Intent classifier:\n",
    "# ic_salary = nlp.domains['salary'].intent_classifier\n",
    "# ic_salary"
   ]
  },
  {
   "cell_type": "code",
   "execution_count": 8,
   "metadata": {},
   "outputs": [],
   "source": [
    "# ic_salary.fit()"
   ]
  },
  {
   "cell_type": "code",
   "execution_count": 9,
   "metadata": {},
   "outputs": [
    {
     "data": {
      "text/plain": [
       "<IntentClassifier ready: False, dirty: False>"
      ]
     },
     "execution_count": 9,
     "metadata": {},
     "output_type": "execute_result"
    }
   ],
   "source": [
    "# Intent classifier:\n",
    "ic_general = nlp.domains['general'].intent_classifier\n",
    "ic_general"
   ]
  },
  {
   "cell_type": "code",
   "execution_count": 10,
   "metadata": {},
   "outputs": [
    {
     "name": "stdout",
     "output_type": "stream",
     "text": [
      "Fitting intent classifier: domain='general'\n",
      "Selecting hyperparameters using k-fold cross-validation with 5 splits\n",
      "Best accuracy: 94.12%, params: {'C': 1, 'class_weight': {0: 0.7175438596491228, 1: 8.233333333333334, 2: 0.8666666666666667}, 'fit_intercept': True}\n"
     ]
    }
   ],
   "source": [
    "ic_general.fit()"
   ]
  },
  {
   "cell_type": "code",
   "execution_count": 11,
   "metadata": {
    "scrolled": true
   },
   "outputs": [
    {
     "data": {
      "text/plain": [
       "<IntentClassifier ready: False, dirty: False>"
      ]
     },
     "execution_count": 11,
     "metadata": {},
     "output_type": "execute_result"
    }
   ],
   "source": [
    "# Intent classifier:\n",
    "ic_date = nlp.domains['date'].intent_classifier\n",
    "ic_date"
   ]
  },
  {
   "cell_type": "code",
   "execution_count": 12,
   "metadata": {
    "scrolled": true
   },
   "outputs": [
    {
     "name": "stdout",
     "output_type": "stream",
     "text": [
      "Fitting intent classifier: domain='date'\n",
      "Selecting hyperparameters using k-fold cross-validation with 5 splits\n",
      "Best accuracy: 95.45%, params: {'C': 100, 'class_weight': {0: 0.85, 1: 0.8403508771929824, 2: 1.9210526315789473}, 'fit_intercept': True}\n"
     ]
    }
   ],
   "source": [
    "ic_date.fit()"
   ]
  },
  {
   "cell_type": "code",
   "execution_count": 13,
   "metadata": {
    "scrolled": true
   },
   "outputs": [
    {
     "data": {
      "text/plain": [
       "<IntentClassifier ready: False, dirty: False>"
      ]
     },
     "execution_count": 13,
     "metadata": {},
     "output_type": "execute_result"
    }
   ],
   "source": [
    "# Intent classifier:\n",
    "ic_hierarchy = nlp.domains['hierarchy'].intent_classifier\n",
    "ic_hierarchy"
   ]
  },
  {
   "cell_type": "code",
   "execution_count": 14,
   "metadata": {
    "scrolled": true
   },
   "outputs": [
    {
     "name": "stdout",
     "output_type": "stream",
     "text": [
      "Fitting intent classifier: domain='hierarchy'\n",
      "Not doing anything for fit since there is only one class.\n"
     ]
    }
   ],
   "source": [
    "ic_hierarchy.fit()"
   ]
  },
  {
   "cell_type": "code",
   "execution_count": 15,
   "metadata": {},
   "outputs": [],
   "source": [
    "# nlp.inspect('is Mia married', domain='hr_assistant')"
   ]
  },
  {
   "cell_type": "code",
   "execution_count": 16,
   "metadata": {
    "scrolled": true
   },
   "outputs": [
    {
     "name": "stdout",
     "output_type": "stream",
     "text": [
      "Fitting domain classifier\n",
      "Fitting entity recognizer: domain='hierarchy', intent='get_hierarchy'\n",
      "No entity model configuration set. Using default.\n",
      "Selecting hyperparameters using k-fold cross-validation with 5 splits\n",
      "Best accuracy: 94.81%, params: {'C': 100, 'penalty': 'l1'}\n",
      "No entity_resolution model configuration set. Using default.\n",
      "No entity_resolution model configuration set. Using default.\n",
      "Fitting role classifier: domain='hierarchy', intent='get_hierarchy', entity_type='name'\n",
      "No role model configuration set. Using default.\n",
      "Importing synonym data to synonym index 'synonym_name'\n",
      "GET http://localhost:9200/_cluster/health [status:200 request:0.004s]\n",
      "HEAD http://localhost:9200/hr_assistant_categories%24synonym_name [status:200 request:0.002s]\n",
      "Elasticsearch index 'synonym_name' for application 'hr_assistant_categories' already exists!\n",
      "Loading index 'synonym_name'\n"
     ]
    },
    {
     "name": "stderr",
     "output_type": "stream",
     "text": [
      "\r",
      "  0%|          | 0/245 [00:00<?, ?it/s]"
     ]
    },
    {
     "name": "stdout",
     "output_type": "stream",
     "text": [
      "POST http://localhost:9200/hr_assistant_categories%24synonym_name/document/_bulk [status:200 request:0.039s]\n",
      "POST http://localhost:9200/hr_assistant_categories%24synonym_name/document/_bulk [status:200 request:0.036s]\n",
      "POST http://localhost:9200/hr_assistant_categories%24synonym_name/document/_bulk [status:200 request:0.031s]\n"
     ]
    },
    {
     "name": "stderr",
     "output_type": "stream",
     "text": [
      "\r",
      " 41%|████      | 101/245 [00:00<00:00, 889.92it/s]"
     ]
    },
    {
     "name": "stdout",
     "output_type": "stream",
     "text": [
      "POST http://localhost:9200/hr_assistant_categories%24synonym_name/document/_bulk [status:200 request:0.029s]\n",
      "POST http://localhost:9200/hr_assistant_categories%24synonym_name/document/_bulk [status:200 request:0.029s]\n"
     ]
    },
    {
     "name": "stderr",
     "output_type": "stream",
     "text": [
      "\r",
      "100%|██████████| 245/245 [00:00<00:00, 1387.18it/s]"
     ]
    },
    {
     "name": "stdout",
     "output_type": "stream",
     "text": [
      "Loaded 245 documents\n",
      "Fitting role classifier: domain='hierarchy', intent='get_hierarchy', entity_type='manager'\n",
      "No role model configuration set. Using default.\n",
      "Importing synonym data to synonym index 'synonym_manager'\n",
      "GET http://localhost:9200/_cluster/health [status:200 request:0.003s]\n",
      "HEAD http://localhost:9200/hr_assistant_categories%24synonym_manager [status:200 request:0.001s]\n",
      "Elasticsearch index 'synonym_manager' for application 'hr_assistant_categories' already exists!\n",
      "Loading index 'synonym_manager'\n"
     ]
    },
    {
     "name": "stderr",
     "output_type": "stream",
     "text": [
      "\n",
      "\r",
      "  0%|          | 0/20 [00:00<?, ?it/s]"
     ]
    },
    {
     "name": "stdout",
     "output_type": "stream",
     "text": [
      "POST http://localhost:9200/hr_assistant_categories%24synonym_manager/document/_bulk [status:200 request:0.041s]\n"
     ]
    },
    {
     "name": "stderr",
     "output_type": "stream",
     "text": [
      "\r",
      "100%|██████████| 20/20 [00:00<00:00, 473.60it/s]"
     ]
    },
    {
     "name": "stdout",
     "output_type": "stream",
     "text": [
      "Loaded 20 documents\n",
      "Fitting intent classifier: domain='general'\n",
      "Selecting hyperparameters using k-fold cross-validation with 5 splits\n"
     ]
    },
    {
     "name": "stderr",
     "output_type": "stream",
     "text": [
      "\n"
     ]
    },
    {
     "name": "stdout",
     "output_type": "stream",
     "text": [
      "Best accuracy: 94.85%, params: {'C': 1, 'class_weight': {0: 0.7175438596491228, 1: 8.233333333333334, 2: 0.8666666666666667}, 'fit_intercept': True}\n",
      "Fitting entity recognizer: domain='general', intent='get_info'\n",
      "No entity model configuration set. Using default.\n",
      "Selecting hyperparameters using k-fold cross-validation with 5 splits\n",
      "Best accuracy: 92.29%, params: {'C': 100, 'penalty': 'l1'}\n",
      "No entity_resolution model configuration set. Using default.\n",
      "No entity_resolution model configuration set. Using default.\n",
      "No entity_resolution model configuration set. Using default.\n",
      "No entity_resolution model configuration set. Using default.\n",
      "No entity_resolution model configuration set. Using default.\n",
      "No entity_resolution model configuration set. Using default.\n",
      "No entity_resolution model configuration set. Using default.\n",
      "No entity_resolution model configuration set. Using default.\n",
      "No entity_resolution model configuration set. Using default.\n",
      "No entity_resolution model configuration set. Using default.\n",
      "No entity_resolution model configuration set. Using default.\n",
      "No entity_resolution model configuration set. Using default.\n",
      "No entity_resolution model configuration set. Using default.\n",
      "Fitting role classifier: domain='general', intent='get_info', entity_type='name'\n",
      "No role model configuration set. Using default.\n",
      "Importing synonym data to synonym index 'synonym_name'\n",
      "GET http://localhost:9200/_cluster/health [status:200 request:0.003s]\n",
      "HEAD http://localhost:9200/hr_assistant_categories%24synonym_name [status:200 request:0.001s]\n",
      "Elasticsearch index 'synonym_name' for application 'hr_assistant_categories' already exists!\n",
      "Loading index 'synonym_name'\n"
     ]
    },
    {
     "name": "stderr",
     "output_type": "stream",
     "text": [
      "\r",
      "  0%|          | 0/245 [00:00<?, ?it/s]"
     ]
    },
    {
     "name": "stdout",
     "output_type": "stream",
     "text": [
      "POST http://localhost:9200/hr_assistant_categories%24synonym_name/document/_bulk [status:200 request:0.043s]\n",
      "POST http://localhost:9200/hr_assistant_categories%24synonym_name/document/_bulk [status:200 request:0.030s]\n",
      "POST http://localhost:9200/hr_assistant_categories%24synonym_name/document/_bulk [status:200 request:0.031s]\n"
     ]
    },
    {
     "name": "stderr",
     "output_type": "stream",
     "text": [
      "\r",
      " 41%|████      | 101/245 [00:00<00:00, 913.24it/s]"
     ]
    },
    {
     "name": "stdout",
     "output_type": "stream",
     "text": [
      "POST http://localhost:9200/hr_assistant_categories%24synonym_name/document/_bulk [status:200 request:0.032s]\n",
      "POST http://localhost:9200/hr_assistant_categories%24synonym_name/document/_bulk [status:200 request:0.033s]\n"
     ]
    },
    {
     "name": "stderr",
     "output_type": "stream",
     "text": [
      "\r",
      "100%|██████████| 245/245 [00:00<00:00, 1357.00it/s]"
     ]
    },
    {
     "name": "stdout",
     "output_type": "stream",
     "text": [
      "Loaded 245 documents\n",
      "Fitting role classifier: domain='general', intent='get_info', entity_type='state'\n",
      "No role model configuration set. Using default.\n",
      "Importing synonym data to synonym index 'synonym_state'\n",
      "GET http://localhost:9200/_cluster/health [status:200 request:0.003s]\n",
      "HEAD http://localhost:9200/hr_assistant_categories%24synonym_state [status:200 request:0.001s]\n",
      "Elasticsearch index 'synonym_state' for application 'hr_assistant_categories' already exists!\n",
      "Loading index 'synonym_state'\n"
     ]
    },
    {
     "name": "stderr",
     "output_type": "stream",
     "text": [
      "\n",
      "\r",
      "  0%|          | 0/28 [00:00<?, ?it/s]"
     ]
    },
    {
     "name": "stdout",
     "output_type": "stream",
     "text": [
      "POST http://localhost:9200/hr_assistant_categories%24synonym_state/document/_bulk [status:200 request:0.040s]\n"
     ]
    },
    {
     "name": "stderr",
     "output_type": "stream",
     "text": [
      "\r",
      "100%|██████████| 28/28 [00:00<00:00, 667.29it/s]"
     ]
    },
    {
     "name": "stdout",
     "output_type": "stream",
     "text": [
      "Loaded 28 documents\n",
      "Fitting role classifier: domain='general', intent='get_info', entity_type='position'\n",
      "No role model configuration set. Using default.\n",
      "Importing synonym data to synonym index 'synonym_position'\n",
      "GET http://localhost:9200/_cluster/health [status:200 request:0.003s]\n",
      "HEAD http://localhost:9200/hr_assistant_categories%24synonym_position [status:200 request:0.001s]\n",
      "Elasticsearch index 'synonym_position' for application 'hr_assistant_categories' already exists!\n",
      "Loading index 'synonym_position'\n"
     ]
    },
    {
     "name": "stderr",
     "output_type": "stream",
     "text": [
      "\n",
      "\r",
      "  0%|          | 0/24 [00:00<?, ?it/s]"
     ]
    },
    {
     "name": "stdout",
     "output_type": "stream",
     "text": [
      "POST http://localhost:9200/hr_assistant_categories%24synonym_position/document/_bulk [status:200 request:0.036s]\n"
     ]
    },
    {
     "name": "stderr",
     "output_type": "stream",
     "text": [
      "\r",
      "100%|██████████| 24/24 [00:00<00:00, 626.63it/s]"
     ]
    },
    {
     "name": "stdout",
     "output_type": "stream",
     "text": [
      "Loaded 24 documents\n",
      "Fitting role classifier: domain='general', intent='get_info', entity_type='money'\n",
      "No role model configuration set. Using default.\n",
      "Importing synonym data to synonym index 'synonym_money'\n",
      "GET http://localhost:9200/_cluster/health [status:200 request:0.004s]\n",
      "HEAD http://localhost:9200/hr_assistant_categories%24synonym_money [status:200 request:0.002s]\n",
      "Elasticsearch index 'synonym_money' for application 'hr_assistant_categories' already exists!\n",
      "Loading index 'synonym_money'\n"
     ]
    },
    {
     "name": "stderr",
     "output_type": "stream",
     "text": [
      "\n",
      "\r",
      "  0%|          | 0/1 [00:00<?, ?it/s]"
     ]
    },
    {
     "name": "stdout",
     "output_type": "stream",
     "text": [
      "POST http://localhost:9200/hr_assistant_categories%24synonym_money/document/_bulk [status:200 request:0.018s]\n"
     ]
    },
    {
     "name": "stderr",
     "output_type": "stream",
     "text": [
      "\r",
      "100%|██████████| 1/1 [00:00<00:00, 50.90it/s]"
     ]
    },
    {
     "name": "stdout",
     "output_type": "stream",
     "text": [
      "Loaded 1 document\n",
      "Fitting role classifier: domain='general', intent='get_info', entity_type='department'\n",
      "No role model configuration set. Using default.\n",
      "Importing synonym data to synonym index 'synonym_department'\n",
      "GET http://localhost:9200/_cluster/health [status:200 request:0.004s]\n",
      "HEAD http://localhost:9200/hr_assistant_categories%24synonym_department [status:200 request:0.001s]\n",
      "Elasticsearch index 'synonym_department' for application 'hr_assistant_categories' already exists!\n",
      "Loading index 'synonym_department'\n"
     ]
    },
    {
     "name": "stderr",
     "output_type": "stream",
     "text": [
      "\n",
      "\r",
      "  0%|          | 0/6 [00:00<?, ?it/s]"
     ]
    },
    {
     "name": "stdout",
     "output_type": "stream",
     "text": [
      "POST http://localhost:9200/hr_assistant_categories%24synonym_department/document/_bulk [status:200 request:0.039s]\n"
     ]
    },
    {
     "name": "stderr",
     "output_type": "stream",
     "text": [
      "\r",
      "100%|██████████| 6/6 [00:00<00:00, 149.37it/s]"
     ]
    },
    {
     "name": "stdout",
     "output_type": "stream",
     "text": [
      "Loaded 6 documents\n",
      "Fitting role classifier: domain='general', intent='get_info', entity_type='manager'\n",
      "No role model configuration set. Using default.\n",
      "Importing synonym data to synonym index 'synonym_manager'\n",
      "GET http://localhost:9200/_cluster/health [status:200 request:0.003s]\n",
      "HEAD http://localhost:9200/hr_assistant_categories%24synonym_manager [status:200 request:0.002s]\n",
      "Elasticsearch index 'synonym_manager' for application 'hr_assistant_categories' already exists!\n",
      "Loading index 'synonym_manager'\n"
     ]
    },
    {
     "name": "stderr",
     "output_type": "stream",
     "text": [
      "\n",
      "\r",
      "  0%|          | 0/20 [00:00<?, ?it/s]"
     ]
    },
    {
     "name": "stdout",
     "output_type": "stream",
     "text": [
      "POST http://localhost:9200/hr_assistant_categories%24synonym_manager/document/_bulk [status:200 request:0.037s]\n"
     ]
    },
    {
     "name": "stderr",
     "output_type": "stream",
     "text": [
      "\r",
      "100%|██████████| 20/20 [00:00<00:00, 514.08it/s]"
     ]
    },
    {
     "name": "stdout",
     "output_type": "stream",
     "text": [
      "Loaded 20 documents\n",
      "Fitting role classifier: domain='general', intent='get_info', entity_type='reason_for_termination'\n",
      "No role model configuration set. Using default.\n",
      "Importing synonym data to synonym index 'synonym_reason_for_termination'\n",
      "GET http://localhost:9200/_cluster/health [status:200 request:0.003s]\n",
      "HEAD http://localhost:9200/hr_assistant_categories%24synonym_reason_for_termination [status:200 request:0.001s]\n",
      "Elasticsearch index 'synonym_reason_for_termination' for application 'hr_assistant_categories' already exists!\n",
      "Loading index 'synonym_reason_for_termination'\n"
     ]
    },
    {
     "name": "stderr",
     "output_type": "stream",
     "text": [
      "\n",
      "\r",
      "  0%|          | 0/17 [00:00<?, ?it/s]"
     ]
    },
    {
     "name": "stdout",
     "output_type": "stream",
     "text": [
      "POST http://localhost:9200/hr_assistant_categories%24synonym_reason_for_termination/document/_bulk [status:200 request:0.045s]\n"
     ]
    },
    {
     "name": "stderr",
     "output_type": "stream",
     "text": [
      "\r",
      "100%|██████████| 17/17 [00:00<00:00, 361.89it/s]"
     ]
    },
    {
     "name": "stdout",
     "output_type": "stream",
     "text": [
      "Loaded 17 documents\n",
      "Fitting role classifier: domain='general', intent='get_info', entity_type='racedesc'\n",
      "No role model configuration set. Using default.\n",
      "Importing synonym data to synonym index 'synonym_racedesc'\n",
      "GET http://localhost:9200/_cluster/health [status:200 request:0.004s]\n",
      "HEAD http://localhost:9200/hr_assistant_categories%24synonym_racedesc [status:200 request:0.002s]\n",
      "Elasticsearch index 'synonym_racedesc' for application 'hr_assistant_categories' already exists!\n",
      "Loading index 'synonym_racedesc'\n"
     ]
    },
    {
     "name": "stderr",
     "output_type": "stream",
     "text": [
      "\n",
      "  0%|          | 0/6 [00:00<?, ?it/s]"
     ]
    },
    {
     "name": "stdout",
     "output_type": "stream",
     "text": [
      "POST http://localhost:9200/hr_assistant_categories%24synonym_racedesc/document/_bulk [status:200 request:0.034s]\n"
     ]
    },
    {
     "name": "stderr",
     "output_type": "stream",
     "text": [
      "\r",
      "100%|██████████| 6/6 [00:00<00:00, 168.14it/s]"
     ]
    },
    {
     "name": "stdout",
     "output_type": "stream",
     "text": [
      "Loaded 6 documents\n",
      "Fitting role classifier: domain='general', intent='get_info', entity_type='employment_action'\n",
      "No role model configuration set. Using default.\n",
      "Importing synonym data to synonym index 'synonym_employment_action'\n",
      "GET http://localhost:9200/_cluster/health [status:200 request:0.003s]\n",
      "HEAD http://localhost:9200/hr_assistant_categories%24synonym_employment_action [status:200 request:0.002s]\n",
      "Elasticsearch index 'synonym_employment_action' for application 'hr_assistant_categories' already exists!\n",
      "Loading index 'synonym_employment_action'\n"
     ]
    },
    {
     "name": "stderr",
     "output_type": "stream",
     "text": [
      "\n",
      "\r",
      "  0%|          | 0/2 [00:00<?, ?it/s]"
     ]
    },
    {
     "name": "stdout",
     "output_type": "stream",
     "text": [
      "POST http://localhost:9200/hr_assistant_categories%24synonym_employment_action/document/_bulk [status:200 request:0.017s]\n"
     ]
    },
    {
     "name": "stderr",
     "output_type": "stream",
     "text": [
      "\r",
      "100%|██████████| 2/2 [00:00<00:00, 104.89it/s]"
     ]
    },
    {
     "name": "stdout",
     "output_type": "stream",
     "text": [
      "Loaded 2 documents\n",
      "Fitting role classifier: domain='general', intent='get_info', entity_type='age'\n",
      "No role model configuration set. Using default.\n",
      "Importing synonym data to synonym index 'synonym_age'\n",
      "GET http://localhost:9200/_cluster/health [status:200 request:0.004s]\n",
      "HEAD http://localhost:9200/hr_assistant_categories%24synonym_age [status:200 request:0.002s]\n",
      "Elasticsearch index 'synonym_age' for application 'hr_assistant_categories' already exists!\n",
      "Loading index 'synonym_age'\n"
     ]
    },
    {
     "name": "stderr",
     "output_type": "stream",
     "text": [
      "\n",
      "\r",
      "  0%|          | 0/39 [00:00<?, ?it/s]"
     ]
    },
    {
     "name": "stdout",
     "output_type": "stream",
     "text": [
      "POST http://localhost:9200/hr_assistant_categories%24synonym_age/document/_bulk [status:200 request:0.039s]\n"
     ]
    },
    {
     "name": "stderr",
     "output_type": "stream",
     "text": [
      "\r",
      "100%|██████████| 39/39 [00:00<00:00, 913.28it/s]"
     ]
    },
    {
     "name": "stdout",
     "output_type": "stream",
     "text": [
      "Loaded 39 documents\n",
      "Fitting role classifier: domain='general', intent='get_info', entity_type='employment_status'\n",
      "No role model configuration set. Using default.\n",
      "Importing synonym data to synonym index 'synonym_employment_status'\n",
      "GET http://localhost:9200/_cluster/health [status:200 request:0.003s]\n",
      "HEAD http://localhost:9200/hr_assistant_categories%24synonym_employment_status [status:200 request:0.002s]\n",
      "Elasticsearch index 'synonym_employment_status' for application 'hr_assistant_categories' already exists!\n",
      "Loading index 'synonym_employment_status'\n"
     ]
    },
    {
     "name": "stderr",
     "output_type": "stream",
     "text": [
      "\n",
      "\r",
      "  0%|          | 0/5 [00:00<?, ?it/s]"
     ]
    },
    {
     "name": "stdout",
     "output_type": "stream",
     "text": [
      "POST http://localhost:9200/hr_assistant_categories%24synonym_employment_status/document/_bulk [status:200 request:0.038s]\n"
     ]
    },
    {
     "name": "stderr",
     "output_type": "stream",
     "text": [
      "\r",
      "100%|██████████| 5/5 [00:00<00:00, 128.23it/s]"
     ]
    },
    {
     "name": "stdout",
     "output_type": "stream",
     "text": [
      "Loaded 5 documents\n",
      "Fitting role classifier: domain='general', intent='get_info', entity_type='employee_source'\n",
      "No role model configuration set. Using default.\n"
     ]
    },
    {
     "name": "stderr",
     "output_type": "stream",
     "text": [
      "\n"
     ]
    },
    {
     "name": "stdout",
     "output_type": "stream",
     "text": [
      "Importing synonym data to synonym index 'synonym_employee_source'\n",
      "GET http://localhost:9200/_cluster/health [status:200 request:0.004s]\n",
      "HEAD http://localhost:9200/hr_assistant_categories%24synonym_employee_source [status:200 request:0.002s]\n",
      "Elasticsearch index 'synonym_employee_source' for application 'hr_assistant_categories' already exists!\n",
      "Loading index 'synonym_employee_source'\n"
     ]
    },
    {
     "name": "stderr",
     "output_type": "stream",
     "text": [
      "\r",
      "  0%|          | 0/20 [00:00<?, ?it/s]"
     ]
    },
    {
     "name": "stdout",
     "output_type": "stream",
     "text": [
      "POST http://localhost:9200/hr_assistant_categories%24synonym_employee_source/document/_bulk [status:200 request:0.052s]\n"
     ]
    },
    {
     "name": "stderr",
     "output_type": "stream",
     "text": [
      "\r",
      "100%|██████████| 20/20 [00:00<00:00, 365.47it/s]"
     ]
    },
    {
     "name": "stdout",
     "output_type": "stream",
     "text": [
      "Loaded 20 documents\n",
      "Fitting role classifier: domain='general', intent='get_info', entity_type='maritaldesc'\n",
      "No role model configuration set. Using default.\n"
     ]
    },
    {
     "name": "stderr",
     "output_type": "stream",
     "text": [
      "\n"
     ]
    },
    {
     "name": "stdout",
     "output_type": "stream",
     "text": [
      "Importing synonym data to synonym index 'synonym_maritaldesc'\n",
      "GET http://localhost:9200/_cluster/health [status:200 request:0.003s]\n",
      "HEAD http://localhost:9200/hr_assistant_categories%24synonym_maritaldesc [status:200 request:0.001s]\n",
      "Elasticsearch index 'synonym_maritaldesc' for application 'hr_assistant_categories' already exists!\n",
      "Loading index 'synonym_maritaldesc'\n"
     ]
    },
    {
     "name": "stderr",
     "output_type": "stream",
     "text": [
      "\r",
      "  0%|          | 0/5 [00:00<?, ?it/s]"
     ]
    },
    {
     "name": "stdout",
     "output_type": "stream",
     "text": [
      "POST http://localhost:9200/hr_assistant_categories%24synonym_maritaldesc/document/_bulk [status:200 request:0.042s]\n"
     ]
    },
    {
     "name": "stderr",
     "output_type": "stream",
     "text": [
      "\r",
      "100%|██████████| 5/5 [00:00<00:00, 112.79it/s]"
     ]
    },
    {
     "name": "stdout",
     "output_type": "stream",
     "text": [
      "Loaded 5 documents\n",
      "Fitting entity recognizer: domain='general', intent='get_aggregate'\n",
      "No entity model configuration set. Using default.\n"
     ]
    },
    {
     "name": "stderr",
     "output_type": "stream",
     "text": [
      "\n"
     ]
    },
    {
     "name": "stdout",
     "output_type": "stream",
     "text": [
      "Selecting hyperparameters using k-fold cross-validation with 5 splits\n",
      "Best accuracy: 87.80%, params: {'C': 100000000, 'penalty': 'l2'}\n",
      "No entity_resolution model configuration set. Using default.\n",
      "No entity_resolution model configuration set. Using default.\n",
      "No entity_resolution model configuration set. Using default.\n",
      "No entity_resolution model configuration set. Using default.\n",
      "No entity_resolution model configuration set. Using default.\n",
      "No entity_resolution model configuration set. Using default.\n",
      "No entity_resolution model configuration set. Using default.\n",
      "No entity_resolution model configuration set. Using default.\n",
      "No entity_resolution model configuration set. Using default.\n",
      "No entity_resolution model configuration set. Using default.\n",
      "No entity_resolution model configuration set. Using default.\n",
      "No entity_resolution model configuration set. Using default.\n",
      "No entity_resolution model configuration set. Using default.\n",
      "No entity_resolution model configuration set. Using default.\n",
      "No entity_resolution model configuration set. Using default.\n",
      "No entity_resolution model configuration set. Using default.\n",
      "No entity_resolution model configuration set. Using default.\n",
      "No entity_resolution model configuration set. Using default.\n",
      "No entity_resolution model configuration set. Using default.\n",
      "No entity_resolution model configuration set. Using default.\n",
      "Fitting role classifier: domain='general', intent='get_aggregate', entity_type='sex'\n",
      "No role model configuration set. Using default.\n",
      "Importing synonym data to synonym index 'synonym_sex'\n",
      "GET http://localhost:9200/_cluster/health [status:200 request:0.003s]\n",
      "HEAD http://localhost:9200/hr_assistant_categories%24synonym_sex [status:200 request:0.001s]\n",
      "Elasticsearch index 'synonym_sex' for application 'hr_assistant_categories' already exists!\n",
      "Loading index 'synonym_sex'\n"
     ]
    },
    {
     "name": "stderr",
     "output_type": "stream",
     "text": [
      "\r",
      "  0%|          | 0/2 [00:00<?, ?it/s]"
     ]
    },
    {
     "name": "stdout",
     "output_type": "stream",
     "text": [
      "POST http://localhost:9200/hr_assistant_categories%24synonym_sex/document/_bulk [status:200 request:0.028s]\n"
     ]
    },
    {
     "name": "stderr",
     "output_type": "stream",
     "text": [
      "\r",
      "100%|██████████| 2/2 [00:00<00:00, 68.00it/s]"
     ]
    },
    {
     "name": "stdout",
     "output_type": "stream",
     "text": [
      "Loaded 2 documents\n",
      "Fitting role classifier: domain='general', intent='get_aggregate', entity_type='name'\n",
      "No role model configuration set. Using default.\n",
      "Importing synonym data to synonym index 'synonym_name'\n",
      "GET http://localhost:9200/_cluster/health [status:200 request:0.003s]\n",
      "HEAD http://localhost:9200/hr_assistant_categories%24synonym_name [status:200 request:0.001s]\n",
      "Elasticsearch index 'synonym_name' for application 'hr_assistant_categories' already exists!\n",
      "Loading index 'synonym_name'\n"
     ]
    },
    {
     "name": "stderr",
     "output_type": "stream",
     "text": [
      "\n",
      "\r",
      "  0%|          | 0/245 [00:00<?, ?it/s]"
     ]
    },
    {
     "name": "stdout",
     "output_type": "stream",
     "text": [
      "POST http://localhost:9200/hr_assistant_categories%24synonym_name/document/_bulk [status:200 request:0.052s]\n",
      "POST http://localhost:9200/hr_assistant_categories%24synonym_name/document/_bulk [status:200 request:0.032s]\n",
      "POST http://localhost:9200/hr_assistant_categories%24synonym_name/document/_bulk [status:200 request:0.040s]\n"
     ]
    },
    {
     "name": "stderr",
     "output_type": "stream",
     "text": [
      "\r",
      " 41%|████      | 101/245 [00:00<00:00, 777.29it/s]"
     ]
    },
    {
     "name": "stdout",
     "output_type": "stream",
     "text": [
      "POST http://localhost:9200/hr_assistant_categories%24synonym_name/document/_bulk [status:200 request:0.031s]\n",
      "POST http://localhost:9200/hr_assistant_categories%24synonym_name/document/_bulk [status:200 request:0.041s]\n"
     ]
    },
    {
     "name": "stderr",
     "output_type": "stream",
     "text": [
      "\r",
      "100%|██████████| 245/245 [00:00<00:00, 1182.16it/s]"
     ]
    },
    {
     "name": "stdout",
     "output_type": "stream",
     "text": [
      "Loaded 245 documents\n",
      "Fitting role classifier: domain='general', intent='get_aggregate', entity_type='sys_time'\n",
      "No role model configuration set. Using default.\n",
      "Fitting role classifier: domain='general', intent='get_aggregate', entity_type='sys_number'\n",
      "No role model configuration set. Using default.\n",
      "Fitting role classifier: domain='general', intent='get_aggregate', entity_type='age'\n",
      "No role model configuration set. Using default.\n",
      "Importing synonym data to synonym index 'synonym_age'\n",
      "GET http://localhost:9200/_cluster/health [status:200 request:0.003s]\n",
      "HEAD http://localhost:9200/hr_assistant_categories%24synonym_age [status:200 request:0.001s]\n",
      "Elasticsearch index 'synonym_age' for application 'hr_assistant_categories' already exists!\n",
      "Loading index 'synonym_age'\n"
     ]
    },
    {
     "name": "stderr",
     "output_type": "stream",
     "text": [
      "\n",
      "\r",
      "  0%|          | 0/39 [00:00<?, ?it/s]"
     ]
    },
    {
     "name": "stdout",
     "output_type": "stream",
     "text": [
      "POST http://localhost:9200/hr_assistant_categories%24synonym_age/document/_bulk [status:200 request:0.037s]\n"
     ]
    },
    {
     "name": "stderr",
     "output_type": "stream",
     "text": [
      "\r",
      "100%|██████████| 39/39 [00:00<00:00, 997.13it/s]"
     ]
    },
    {
     "name": "stdout",
     "output_type": "stream",
     "text": [
      "Loaded 39 documents\n",
      "Fitting role classifier: domain='general', intent='get_aggregate', entity_type='state'\n",
      "No role model configuration set. Using default.\n",
      "Importing synonym data to synonym index 'synonym_state'\n",
      "GET http://localhost:9200/_cluster/health [status:200 request:0.003s]\n",
      "HEAD http://localhost:9200/hr_assistant_categories%24synonym_state [status:200 request:0.002s]\n",
      "Elasticsearch index 'synonym_state' for application 'hr_assistant_categories' already exists!\n",
      "Loading index 'synonym_state'\n"
     ]
    },
    {
     "name": "stderr",
     "output_type": "stream",
     "text": [
      "\n",
      "\r",
      "  0%|          | 0/28 [00:00<?, ?it/s]"
     ]
    },
    {
     "name": "stdout",
     "output_type": "stream",
     "text": [
      "POST http://localhost:9200/hr_assistant_categories%24synonym_state/document/_bulk [status:200 request:0.030s]\n"
     ]
    },
    {
     "name": "stderr",
     "output_type": "stream",
     "text": [
      "\r",
      "100%|██████████| 28/28 [00:00<00:00, 897.31it/s]"
     ]
    },
    {
     "name": "stdout",
     "output_type": "stream",
     "text": [
      "Loaded 28 documents\n",
      "Fitting role classifier: domain='general', intent='get_aggregate', entity_type='position'\n",
      "No role model configuration set. Using default.\n",
      "Importing synonym data to synonym index 'synonym_position'\n",
      "GET http://localhost:9200/_cluster/health [status:200 request:0.003s]\n",
      "HEAD http://localhost:9200/hr_assistant_categories%24synonym_position [status:200 request:0.002s]\n",
      "Elasticsearch index 'synonym_position' for application 'hr_assistant_categories' already exists!\n",
      "Loading index 'synonym_position'\n"
     ]
    },
    {
     "name": "stderr",
     "output_type": "stream",
     "text": [
      "\n",
      "\r",
      "  0%|          | 0/24 [00:00<?, ?it/s]"
     ]
    },
    {
     "name": "stdout",
     "output_type": "stream",
     "text": [
      "POST http://localhost:9200/hr_assistant_categories%24synonym_position/document/_bulk [status:200 request:0.036s]\n"
     ]
    },
    {
     "name": "stderr",
     "output_type": "stream",
     "text": [
      "\r",
      "100%|██████████| 24/24 [00:00<00:00, 625.89it/s]"
     ]
    },
    {
     "name": "stdout",
     "output_type": "stream",
     "text": [
      "Loaded 24 documents\n",
      "Fitting role classifier: domain='general', intent='get_aggregate', entity_type='citizendesc'\n",
      "No role model configuration set. Using default.\n",
      "Importing synonym data to synonym index 'synonym_citizendesc'\n",
      "GET http://localhost:9200/_cluster/health [status:200 request:0.003s]\n",
      "HEAD http://localhost:9200/hr_assistant_categories%24synonym_citizendesc [status:200 request:0.002s]\n",
      "Elasticsearch index 'synonym_citizendesc' for application 'hr_assistant_categories' already exists!\n",
      "Loading index 'synonym_citizendesc'\n"
     ]
    },
    {
     "name": "stderr",
     "output_type": "stream",
     "text": [
      "\n",
      "\r",
      "  0%|          | 0/3 [00:00<?, ?it/s]"
     ]
    },
    {
     "name": "stdout",
     "output_type": "stream",
     "text": [
      "POST http://localhost:9200/hr_assistant_categories%24synonym_citizendesc/document/_bulk [status:200 request:0.029s]\n"
     ]
    },
    {
     "name": "stderr",
     "output_type": "stream",
     "text": [
      "\r",
      "100%|██████████| 3/3 [00:00<00:00, 98.25it/s]"
     ]
    },
    {
     "name": "stdout",
     "output_type": "stream",
     "text": [
      "Loaded 3 documents\n",
      "Fitting role classifier: domain='general', intent='get_aggregate', entity_type='department'\n",
      "No role model configuration set. Using default.\n",
      "Importing synonym data to synonym index 'synonym_department'\n",
      "GET http://localhost:9200/_cluster/health [status:200 request:0.003s]\n",
      "HEAD http://localhost:9200/hr_assistant_categories%24synonym_department [status:200 request:0.002s]\n",
      "Elasticsearch index 'synonym_department' for application 'hr_assistant_categories' already exists!\n",
      "Loading index 'synonym_department'\n"
     ]
    },
    {
     "name": "stderr",
     "output_type": "stream",
     "text": [
      "\n",
      "\r",
      "  0%|          | 0/6 [00:00<?, ?it/s]"
     ]
    },
    {
     "name": "stdout",
     "output_type": "stream",
     "text": [
      "POST http://localhost:9200/hr_assistant_categories%24synonym_department/document/_bulk [status:200 request:0.030s]\n"
     ]
    },
    {
     "name": "stderr",
     "output_type": "stream",
     "text": [
      "\r",
      "100%|██████████| 6/6 [00:00<00:00, 191.17it/s]"
     ]
    },
    {
     "name": "stdout",
     "output_type": "stream",
     "text": [
      "Loaded 6 documents\n",
      "Fitting role classifier: domain='general', intent='get_aggregate', entity_type='manager'\n",
      "No role model configuration set. Using default.\n",
      "Importing synonym data to synonym index 'synonym_manager'\n",
      "GET http://localhost:9200/_cluster/health [status:200 request:0.003s]\n",
      "HEAD http://localhost:9200/hr_assistant_categories%24synonym_manager [status:200 request:0.002s]\n",
      "Elasticsearch index 'synonym_manager' for application 'hr_assistant_categories' already exists!\n",
      "Loading index 'synonym_manager'\n"
     ]
    },
    {
     "name": "stderr",
     "output_type": "stream",
     "text": [
      "\n",
      "\r",
      "  0%|          | 0/20 [00:00<?, ?it/s]"
     ]
    },
    {
     "name": "stdout",
     "output_type": "stream",
     "text": [
      "POST http://localhost:9200/hr_assistant_categories%24synonym_manager/document/_bulk [status:200 request:0.036s]\n"
     ]
    },
    {
     "name": "stderr",
     "output_type": "stream",
     "text": [
      "\r",
      "100%|██████████| 20/20 [00:00<00:00, 519.94it/s]"
     ]
    },
    {
     "name": "stdout",
     "output_type": "stream",
     "text": [
      "Loaded 20 documents\n",
      "Fitting role classifier: domain='general', intent='get_aggregate', entity_type='reason_for_termination'\n",
      "No role model configuration set. Using default.\n",
      "Importing synonym data to synonym index 'synonym_reason_for_termination'\n",
      "GET http://localhost:9200/_cluster/health [status:200 request:0.004s]\n",
      "HEAD http://localhost:9200/hr_assistant_categories%24synonym_reason_for_termination [status:200 request:0.002s]\n",
      "Elasticsearch index 'synonym_reason_for_termination' for application 'hr_assistant_categories' already exists!\n",
      "Loading index 'synonym_reason_for_termination'\n"
     ]
    },
    {
     "name": "stderr",
     "output_type": "stream",
     "text": [
      "\n",
      "\r",
      "  0%|          | 0/17 [00:00<?, ?it/s]"
     ]
    },
    {
     "name": "stdout",
     "output_type": "stream",
     "text": [
      "POST http://localhost:9200/hr_assistant_categories%24synonym_reason_for_termination/document/_bulk [status:200 request:0.029s]\n"
     ]
    },
    {
     "name": "stderr",
     "output_type": "stream",
     "text": [
      "\r",
      "100%|██████████| 17/17 [00:00<00:00, 552.20it/s]"
     ]
    },
    {
     "name": "stdout",
     "output_type": "stream",
     "text": [
      "Loaded 17 documents\n",
      "Fitting role classifier: domain='general', intent='get_aggregate', entity_type='racedesc'\n",
      "No role model configuration set. Using default.\n",
      "Importing synonym data to synonym index 'synonym_racedesc'\n",
      "GET http://localhost:9200/_cluster/health [status:200 request:0.003s]\n",
      "HEAD http://localhost:9200/hr_assistant_categories%24synonym_racedesc [status:200 request:0.002s]\n",
      "Elasticsearch index 'synonym_racedesc' for application 'hr_assistant_categories' already exists!\n",
      "Loading index 'synonym_racedesc'\n"
     ]
    },
    {
     "name": "stderr",
     "output_type": "stream",
     "text": [
      "\n",
      "\r",
      "  0%|          | 0/6 [00:00<?, ?it/s]"
     ]
    },
    {
     "name": "stdout",
     "output_type": "stream",
     "text": [
      "POST http://localhost:9200/hr_assistant_categories%24synonym_racedesc/document/_bulk [status:200 request:0.048s]\n"
     ]
    },
    {
     "name": "stderr",
     "output_type": "stream",
     "text": [
      "\r",
      "100%|██████████| 6/6 [00:00<00:00, 119.85it/s]"
     ]
    },
    {
     "name": "stdout",
     "output_type": "stream",
     "text": [
      "Loaded 6 documents\n",
      "Fitting role classifier: domain='general', intent='get_aggregate', entity_type='function'\n",
      "No role model configuration set. Using default.\n",
      "Importing synonym data to synonym index 'synonym_function'\n",
      "GET http://localhost:9200/_cluster/health [status:200 request:0.003s]\n",
      "HEAD http://localhost:9200/hr_assistant_categories%24synonym_function [status:200 request:0.002s]\n",
      "Elasticsearch index 'synonym_function' for application 'hr_assistant_categories' already exists!\n",
      "Loading index 'synonym_function'\n"
     ]
    },
    {
     "name": "stderr",
     "output_type": "stream",
     "text": [
      "\n",
      "\r",
      "  0%|          | 0/3 [00:00<?, ?it/s]"
     ]
    },
    {
     "name": "stdout",
     "output_type": "stream",
     "text": [
      "POST http://localhost:9200/hr_assistant_categories%24synonym_function/document/_bulk [status:200 request:0.033s]\n"
     ]
    },
    {
     "name": "stderr",
     "output_type": "stream",
     "text": [
      "\r",
      "100%|██████████| 3/3 [00:00<00:00, 87.33it/s]"
     ]
    },
    {
     "name": "stdout",
     "output_type": "stream",
     "text": [
      "Loaded 3 documents\n",
      "Fitting role classifier: domain='general', intent='get_aggregate', entity_type='employment_action'\n",
      "No role model configuration set. Using default.\n",
      "Importing synonym data to synonym index 'synonym_employment_action'\n",
      "GET http://localhost:9200/_cluster/health [status:200 request:0.003s]\n",
      "HEAD http://localhost:9200/hr_assistant_categories%24synonym_employment_action [status:200 request:0.001s]\n",
      "Elasticsearch index 'synonym_employment_action' for application 'hr_assistant_categories' already exists!\n",
      "Loading index 'synonym_employment_action'\n"
     ]
    },
    {
     "name": "stderr",
     "output_type": "stream",
     "text": [
      "\n",
      "\r",
      "  0%|          | 0/2 [00:00<?, ?it/s]"
     ]
    },
    {
     "name": "stdout",
     "output_type": "stream",
     "text": [
      "POST http://localhost:9200/hr_assistant_categories%24synonym_employment_action/document/_bulk [status:200 request:0.031s]\n"
     ]
    },
    {
     "name": "stderr",
     "output_type": "stream",
     "text": [
      "\r",
      "100%|██████████| 2/2 [00:00<00:00, 60.18it/s]"
     ]
    },
    {
     "name": "stdout",
     "output_type": "stream",
     "text": [
      "Loaded 2 documents\n",
      "Fitting role classifier: domain='general', intent='get_aggregate', entity_type='performance_score'\n",
      "No role model configuration set. Using default.\n",
      "Importing synonym data to synonym index 'synonym_performance_score'\n",
      "GET http://localhost:9200/_cluster/health [status:200 request:0.004s]\n",
      "HEAD http://localhost:9200/hr_assistant_categories%24synonym_performance_score [status:200 request:0.002s]\n",
      "Elasticsearch index 'synonym_performance_score' for application 'hr_assistant_categories' already exists!\n",
      "Loading index 'synonym_performance_score'\n"
     ]
    },
    {
     "name": "stderr",
     "output_type": "stream",
     "text": [
      "\n",
      "\r",
      "  0%|          | 0/7 [00:00<?, ?it/s]"
     ]
    },
    {
     "name": "stdout",
     "output_type": "stream",
     "text": [
      "POST http://localhost:9200/hr_assistant_categories%24synonym_performance_score/document/_bulk [status:200 request:0.036s]\n"
     ]
    },
    {
     "name": "stderr",
     "output_type": "stream",
     "text": [
      "\r",
      "100%|██████████| 7/7 [00:00<00:00, 186.16it/s]"
     ]
    },
    {
     "name": "stdout",
     "output_type": "stream",
     "text": [
      "Loaded 7 documents\n",
      "Fitting role classifier: domain='general', intent='get_aggregate', entity_type='date_time'\n",
      "No role model configuration set. Using default.\n",
      "Importing synonym data to synonym index 'synonym_date_time'\n",
      "GET http://localhost:9200/_cluster/health [status:200 request:0.003s]\n",
      "HEAD http://localhost:9200/hr_assistant_categories%24synonym_date_time [status:200 request:0.002s]\n",
      "Elasticsearch index 'synonym_date_time' for application 'hr_assistant_categories' already exists!\n",
      "Loading index 'synonym_date_time'\n"
     ]
    },
    {
     "name": "stderr",
     "output_type": "stream",
     "text": [
      "\n",
      "\r",
      "  0%|          | 0/3 [00:00<?, ?it/s]"
     ]
    },
    {
     "name": "stdout",
     "output_type": "stream",
     "text": [
      "POST http://localhost:9200/hr_assistant_categories%24synonym_date_time/document/_bulk [status:200 request:0.027s]\n"
     ]
    },
    {
     "name": "stderr",
     "output_type": "stream",
     "text": [
      "\r",
      "100%|██████████| 3/3 [00:00<00:00, 107.41it/s]"
     ]
    },
    {
     "name": "stdout",
     "output_type": "stream",
     "text": [
      "Loaded 3 documents\n",
      "Fitting role classifier: domain='general', intent='get_aggregate', entity_type='maritaldesc'\n",
      "No role model configuration set. Using default.\n",
      "Importing synonym data to synonym index 'synonym_maritaldesc'\n",
      "GET http://localhost:9200/_cluster/health [status:200 request:0.004s]\n",
      "HEAD http://localhost:9200/hr_assistant_categories%24synonym_maritaldesc [status:200 request:0.002s]\n",
      "Elasticsearch index 'synonym_maritaldesc' for application 'hr_assistant_categories' already exists!\n",
      "Loading index 'synonym_maritaldesc'\n"
     ]
    },
    {
     "name": "stderr",
     "output_type": "stream",
     "text": [
      "\n",
      "\r",
      "  0%|          | 0/5 [00:00<?, ?it/s]"
     ]
    },
    {
     "name": "stdout",
     "output_type": "stream",
     "text": [
      "POST http://localhost:9200/hr_assistant_categories%24synonym_maritaldesc/document/_bulk [status:200 request:0.032s]\n"
     ]
    },
    {
     "name": "stderr",
     "output_type": "stream",
     "text": [
      "\r",
      "100%|██████████| 5/5 [00:00<00:00, 150.72it/s]"
     ]
    },
    {
     "name": "stdout",
     "output_type": "stream",
     "text": [
      "Loaded 5 documents\n",
      "Fitting role classifier: domain='general', intent='get_aggregate', entity_type='employment_status'\n",
      "No role model configuration set. Using default.\n",
      "Importing synonym data to synonym index 'synonym_employment_status'\n",
      "GET http://localhost:9200/_cluster/health [status:200 request:0.004s]\n",
      "HEAD http://localhost:9200/hr_assistant_categories%24synonym_employment_status [status:200 request:0.002s]\n",
      "Elasticsearch index 'synonym_employment_status' for application 'hr_assistant_categories' already exists!\n",
      "Loading index 'synonym_employment_status'\n"
     ]
    },
    {
     "name": "stderr",
     "output_type": "stream",
     "text": [
      "\n",
      "\r",
      "  0%|          | 0/5 [00:00<?, ?it/s]"
     ]
    },
    {
     "name": "stdout",
     "output_type": "stream",
     "text": [
      "POST http://localhost:9200/hr_assistant_categories%24synonym_employment_status/document/_bulk [status:200 request:0.042s]\n"
     ]
    },
    {
     "name": "stderr",
     "output_type": "stream",
     "text": [
      "\r",
      "100%|██████████| 5/5 [00:00<00:00, 113.09it/s]"
     ]
    },
    {
     "name": "stdout",
     "output_type": "stream",
     "text": [
      "Loaded 5 documents\n",
      "Fitting role classifier: domain='general', intent='get_aggregate', entity_type='comparator'\n",
      "No role model configuration set. Using default.\n",
      "Importing synonym data to synonym index 'synonym_comparator'\n",
      "GET http://localhost:9200/_cluster/health [status:200 request:0.004s]\n",
      "HEAD http://localhost:9200/hr_assistant_categories%24synonym_comparator [status:200 request:0.002s]\n",
      "Elasticsearch index 'synonym_comparator' for application 'hr_assistant_categories' already exists!\n",
      "Loading index 'synonym_comparator'\n"
     ]
    },
    {
     "name": "stderr",
     "output_type": "stream",
     "text": [
      "\n",
      "\r",
      "  0%|          | 0/3 [00:00<?, ?it/s]"
     ]
    },
    {
     "name": "stdout",
     "output_type": "stream",
     "text": [
      "POST http://localhost:9200/hr_assistant_categories%24synonym_comparator/document/_bulk [status:200 request:0.027s]\n"
     ]
    },
    {
     "name": "stderr",
     "output_type": "stream",
     "text": [
      "\r",
      "100%|██████████| 3/3 [00:00<00:00, 103.62it/s]"
     ]
    },
    {
     "name": "stdout",
     "output_type": "stream",
     "text": [
      "Loaded 3 documents\n",
      "Fitting role classifier: domain='general', intent='get_aggregate', entity_type='employee_source'\n",
      "No role model configuration set. Using default.\n",
      "Importing synonym data to synonym index 'synonym_employee_source'\n",
      "GET http://localhost:9200/_cluster/health [status:200 request:0.003s]\n",
      "HEAD http://localhost:9200/hr_assistant_categories%24synonym_employee_source [status:200 request:0.002s]\n",
      "Elasticsearch index 'synonym_employee_source' for application 'hr_assistant_categories' already exists!\n",
      "Loading index 'synonym_employee_source'\n"
     ]
    },
    {
     "name": "stderr",
     "output_type": "stream",
     "text": [
      "\n",
      "\r",
      "  0%|          | 0/20 [00:00<?, ?it/s]"
     ]
    },
    {
     "name": "stdout",
     "output_type": "stream",
     "text": [
      "POST http://localhost:9200/hr_assistant_categories%24synonym_employee_source/document/_bulk [status:200 request:0.038s]\n"
     ]
    },
    {
     "name": "stderr",
     "output_type": "stream",
     "text": [
      "\r",
      "100%|██████████| 20/20 [00:00<00:00, 492.21it/s]"
     ]
    },
    {
     "name": "stdout",
     "output_type": "stream",
     "text": [
      "Loaded 20 documents\n",
      "Fitting entity recognizer: domain='general', intent='get_employees'\n",
      "No entity model configuration set. Using default.\n"
     ]
    },
    {
     "name": "stderr",
     "output_type": "stream",
     "text": [
      "\n"
     ]
    },
    {
     "name": "stdout",
     "output_type": "stream",
     "text": [
      "Selecting hyperparameters using k-fold cross-validation with 5 splits\n",
      "Best accuracy: 58.33%, params: {'C': 0.01, 'penalty': 'l2'}\n",
      "No entity_resolution model configuration set. Using default.\n",
      "No entity_resolution model configuration set. Using default.\n",
      "No entity_resolution model configuration set. Using default.\n",
      "No entity_resolution model configuration set. Using default.\n",
      "Fitting role classifier: domain='general', intent='get_employees', entity_type='citizendesc'\n",
      "No role model configuration set. Using default.\n",
      "Importing synonym data to synonym index 'synonym_citizendesc'\n",
      "GET http://localhost:9200/_cluster/health [status:200 request:0.003s]\n",
      "HEAD http://localhost:9200/hr_assistant_categories%24synonym_citizendesc [status:200 request:0.002s]\n",
      "Elasticsearch index 'synonym_citizendesc' for application 'hr_assistant_categories' already exists!\n",
      "Loading index 'synonym_citizendesc'\n"
     ]
    },
    {
     "name": "stderr",
     "output_type": "stream",
     "text": [
      "\r",
      "  0%|          | 0/3 [00:00<?, ?it/s]"
     ]
    },
    {
     "name": "stdout",
     "output_type": "stream",
     "text": [
      "POST http://localhost:9200/hr_assistant_categories%24synonym_citizendesc/document/_bulk [status:200 request:0.035s]\n"
     ]
    },
    {
     "name": "stderr",
     "output_type": "stream",
     "text": [
      "\r",
      "100%|██████████| 3/3 [00:00<00:00, 81.38it/s]"
     ]
    },
    {
     "name": "stdout",
     "output_type": "stream",
     "text": [
      "Loaded 3 documents\n",
      "Fitting role classifier: domain='general', intent='get_employees', entity_type='reason_for_termination'\n",
      "No role model configuration set. Using default.\n",
      "Importing synonym data to synonym index 'synonym_reason_for_termination'\n",
      "GET http://localhost:9200/_cluster/health [status:200 request:0.003s]\n",
      "HEAD http://localhost:9200/hr_assistant_categories%24synonym_reason_for_termination [status:200 request:0.002s]\n",
      "Elasticsearch index 'synonym_reason_for_termination' for application 'hr_assistant_categories' already exists!\n",
      "Loading index 'synonym_reason_for_termination'\n"
     ]
    },
    {
     "name": "stderr",
     "output_type": "stream",
     "text": [
      "\n",
      "\r",
      "  0%|          | 0/17 [00:00<?, ?it/s]"
     ]
    },
    {
     "name": "stdout",
     "output_type": "stream",
     "text": [
      "POST http://localhost:9200/hr_assistant_categories%24synonym_reason_for_termination/document/_bulk [status:200 request:0.037s]\n"
     ]
    },
    {
     "name": "stderr",
     "output_type": "stream",
     "text": [
      "\r",
      "100%|██████████| 17/17 [00:00<00:00, 439.91it/s]"
     ]
    },
    {
     "name": "stdout",
     "output_type": "stream",
     "text": [
      "Loaded 17 documents\n",
      "Fitting role classifier: domain='general', intent='get_employees', entity_type='employment_action'\n",
      "No role model configuration set. Using default.\n",
      "Importing synonym data to synonym index 'synonym_employment_action'\n",
      "GET http://localhost:9200/_cluster/health [status:200 request:0.004s]\n",
      "HEAD http://localhost:9200/hr_assistant_categories%24synonym_employment_action [status:200 request:0.002s]\n",
      "Elasticsearch index 'synonym_employment_action' for application 'hr_assistant_categories' already exists!\n",
      "Loading index 'synonym_employment_action'\n"
     ]
    },
    {
     "name": "stderr",
     "output_type": "stream",
     "text": [
      "\n",
      "\r",
      "  0%|          | 0/2 [00:00<?, ?it/s]"
     ]
    },
    {
     "name": "stdout",
     "output_type": "stream",
     "text": [
      "POST http://localhost:9200/hr_assistant_categories%24synonym_employment_action/document/_bulk [status:200 request:0.024s]\n"
     ]
    },
    {
     "name": "stderr",
     "output_type": "stream",
     "text": [
      "\r",
      "100%|██████████| 2/2 [00:00<00:00, 80.72it/s]"
     ]
    },
    {
     "name": "stdout",
     "output_type": "stream",
     "text": [
      "Loaded 2 documents\n",
      "Fitting role classifier: domain='general', intent='get_employees', entity_type='maritaldesc'\n",
      "No role model configuration set. Using default.\n",
      "Importing synonym data to synonym index 'synonym_maritaldesc'\n",
      "GET http://localhost:9200/_cluster/health [status:200 request:0.003s]\n",
      "HEAD http://localhost:9200/hr_assistant_categories%24synonym_maritaldesc [status:200 request:0.001s]\n",
      "Elasticsearch index 'synonym_maritaldesc' for application 'hr_assistant_categories' already exists!\n",
      "Loading index 'synonym_maritaldesc'\n"
     ]
    },
    {
     "name": "stderr",
     "output_type": "stream",
     "text": [
      "\n",
      "\r",
      "  0%|          | 0/5 [00:00<?, ?it/s]"
     ]
    },
    {
     "name": "stdout",
     "output_type": "stream",
     "text": [
      "POST http://localhost:9200/hr_assistant_categories%24synonym_maritaldesc/document/_bulk [status:200 request:0.042s]\n"
     ]
    },
    {
     "name": "stderr",
     "output_type": "stream",
     "text": [
      "\r",
      "100%|██████████| 5/5 [00:00<00:00, 115.45it/s]"
     ]
    },
    {
     "name": "stdout",
     "output_type": "stream",
     "text": [
      "Loaded 5 documents\n",
      "Fitting intent classifier: domain='date'\n"
     ]
    },
    {
     "name": "stderr",
     "output_type": "stream",
     "text": [
      "\n"
     ]
    },
    {
     "name": "stdout",
     "output_type": "stream",
     "text": [
      "Selecting hyperparameters using k-fold cross-validation with 5 splits\n",
      "Best accuracy: 93.18%, params: {'C': 1, 'class_weight': {0: 0.85, 1: 0.8403508771929824, 2: 1.9210526315789473}, 'fit_intercept': True}\n",
      "Fitting entity recognizer: domain='date', intent='get_date_range_aggregate'\n",
      "No entity model configuration set. Using default.\n",
      "Selecting hyperparameters using k-fold cross-validation with 5 splits\n",
      "Best accuracy: 77.11%, params: {'C': 100, 'penalty': 'l1'}\n",
      "No entity_resolution model configuration set. Using default.\n",
      "No entity_resolution model configuration set. Using default.\n",
      "No entity_resolution model configuration set. Using default.\n",
      "No entity_resolution model configuration set. Using default.\n",
      "No entity_resolution model configuration set. Using default.\n",
      "No entity_resolution model configuration set. Using default.\n",
      "No entity_resolution model configuration set. Using default.\n",
      "No entity_resolution model configuration set. Using default.\n",
      "No entity_resolution model configuration set. Using default.\n",
      "No entity_resolution model configuration set. Using default.\n",
      "Fitting role classifier: domain='date', intent='get_date_range_aggregate', entity_type='sys_time'\n",
      "No role model configuration set. Using default.\n",
      "Fitting role classifier: domain='date', intent='get_date_range_aggregate', entity_type='sys_number'\n",
      "No role model configuration set. Using default.\n",
      "Fitting role classifier: domain='date', intent='get_date_range_aggregate', entity_type='time_interval'\n",
      "No role model configuration set. Using default.\n",
      "Importing synonym data to synonym index 'synonym_time_interval'\n",
      "GET http://localhost:9200/_cluster/health [status:200 request:0.003s]\n",
      "HEAD http://localhost:9200/hr_assistant_categories%24synonym_time_interval [status:200 request:0.002s]\n",
      "Elasticsearch index 'synonym_time_interval' for application 'hr_assistant_categories' already exists!\n",
      "Loading index 'synonym_time_interval'\n"
     ]
    },
    {
     "name": "stderr",
     "output_type": "stream",
     "text": [
      "\r",
      "  0%|          | 0/1 [00:00<?, ?it/s]"
     ]
    },
    {
     "name": "stdout",
     "output_type": "stream",
     "text": [
      "POST http://localhost:9200/hr_assistant_categories%24synonym_time_interval/document/_bulk [status:200 request:0.018s]\n"
     ]
    },
    {
     "name": "stderr",
     "output_type": "stream",
     "text": [
      "\r",
      "100%|██████████| 1/1 [00:00<00:00, 51.61it/s]"
     ]
    },
    {
     "name": "stdout",
     "output_type": "stream",
     "text": [
      "Loaded 1 document\n",
      "Fitting role classifier: domain='date', intent='get_date_range_aggregate', entity_type='state'\n",
      "No role model configuration set. Using default.\n",
      "Importing synonym data to synonym index 'synonym_state'\n",
      "GET http://localhost:9200/_cluster/health [status:200 request:0.003s]\n",
      "HEAD http://localhost:9200/hr_assistant_categories%24synonym_state [status:200 request:0.002s]\n",
      "Elasticsearch index 'synonym_state' for application 'hr_assistant_categories' already exists!\n",
      "Loading index 'synonym_state'\n"
     ]
    },
    {
     "name": "stderr",
     "output_type": "stream",
     "text": [
      "\n",
      "\r",
      "  0%|          | 0/28 [00:00<?, ?it/s]"
     ]
    },
    {
     "name": "stdout",
     "output_type": "stream",
     "text": [
      "POST http://localhost:9200/hr_assistant_categories%24synonym_state/document/_bulk [status:200 request:0.032s]\n"
     ]
    },
    {
     "name": "stderr",
     "output_type": "stream",
     "text": [
      "\r",
      "100%|██████████| 28/28 [00:00<00:00, 816.53it/s]"
     ]
    },
    {
     "name": "stdout",
     "output_type": "stream",
     "text": [
      "Loaded 28 documents\n",
      "Fitting role classifier: domain='date', intent='get_date_range_aggregate', entity_type='sys_interval'\n",
      "No role model configuration set. Using default.\n",
      "Fitting role classifier: domain='date', intent='get_date_range_aggregate', entity_type='sys_duration'\n",
      "No role model configuration set. Using default.\n",
      "Fitting role classifier: domain='date', intent='get_date_range_aggregate', entity_type='function'\n",
      "No role model configuration set. Using default.\n",
      "Importing synonym data to synonym index 'synonym_function'\n",
      "GET http://localhost:9200/_cluster/health [status:200 request:0.003s]\n",
      "HEAD http://localhost:9200/hr_assistant_categories%24synonym_function [status:200 request:0.001s]\n",
      "Elasticsearch index 'synonym_function' for application 'hr_assistant_categories' already exists!\n",
      "Loading index 'synonym_function'\n"
     ]
    },
    {
     "name": "stderr",
     "output_type": "stream",
     "text": [
      "\n",
      "\r",
      "  0%|          | 0/3 [00:00<?, ?it/s]"
     ]
    },
    {
     "name": "stdout",
     "output_type": "stream",
     "text": [
      "POST http://localhost:9200/hr_assistant_categories%24synonym_function/document/_bulk [status:200 request:0.037s]\n"
     ]
    },
    {
     "name": "stderr",
     "output_type": "stream",
     "text": [
      "\r",
      "100%|██████████| 3/3 [00:00<00:00, 77.70it/s]"
     ]
    },
    {
     "name": "stdout",
     "output_type": "stream",
     "text": [
      "Loaded 3 documents\n",
      "Fitting role classifier: domain='date', intent='get_date_range_aggregate', entity_type='employment_action'\n",
      "No role model configuration set. Using default.\n",
      "Importing synonym data to synonym index 'synonym_employment_action'\n",
      "GET http://localhost:9200/_cluster/health [status:200 request:0.003s]\n",
      "HEAD http://localhost:9200/hr_assistant_categories%24synonym_employment_action [status:200 request:0.001s]\n",
      "Elasticsearch index 'synonym_employment_action' for application 'hr_assistant_categories' already exists!\n",
      "Loading index 'synonym_employment_action'\n"
     ]
    },
    {
     "name": "stderr",
     "output_type": "stream",
     "text": [
      "\n",
      "\r",
      "  0%|          | 0/2 [00:00<?, ?it/s]"
     ]
    },
    {
     "name": "stdout",
     "output_type": "stream",
     "text": [
      "POST http://localhost:9200/hr_assistant_categories%24synonym_employment_action/document/_bulk [status:200 request:0.024s]\n"
     ]
    },
    {
     "name": "stderr",
     "output_type": "stream",
     "text": [
      "\r",
      "100%|██████████| 2/2 [00:00<00:00, 80.75it/s]"
     ]
    },
    {
     "name": "stdout",
     "output_type": "stream",
     "text": [
      "Loaded 2 documents\n",
      "Fitting role classifier: domain='date', intent='get_date_range_aggregate', entity_type='date_time'\n",
      "No role model configuration set. Using default.\n",
      "Importing synonym data to synonym index 'synonym_date_time'\n",
      "GET http://localhost:9200/_cluster/health [status:200 request:0.003s]\n",
      "HEAD http://localhost:9200/hr_assistant_categories%24synonym_date_time [status:200 request:0.001s]\n",
      "Elasticsearch index 'synonym_date_time' for application 'hr_assistant_categories' already exists!\n",
      "Loading index 'synonym_date_time'\n"
     ]
    },
    {
     "name": "stderr",
     "output_type": "stream",
     "text": [
      "\n",
      "\r",
      "  0%|          | 0/3 [00:00<?, ?it/s]"
     ]
    },
    {
     "name": "stdout",
     "output_type": "stream",
     "text": [
      "POST http://localhost:9200/hr_assistant_categories%24synonym_date_time/document/_bulk [status:200 request:0.025s]\n"
     ]
    },
    {
     "name": "stderr",
     "output_type": "stream",
     "text": [
      "\r",
      "100%|██████████| 3/3 [00:00<00:00, 114.36it/s]"
     ]
    },
    {
     "name": "stdout",
     "output_type": "stream",
     "text": [
      "Loaded 3 documents\n",
      "Fitting role classifier: domain='date', intent='get_date_range_aggregate', entity_type='comparator'\n",
      "No role model configuration set. Using default.\n"
     ]
    },
    {
     "name": "stderr",
     "output_type": "stream",
     "text": [
      "\n"
     ]
    },
    {
     "name": "stdout",
     "output_type": "stream",
     "text": [
      "Importing synonym data to synonym index 'synonym_comparator'\n",
      "GET http://localhost:9200/_cluster/health [status:200 request:0.004s]\n",
      "HEAD http://localhost:9200/hr_assistant_categories%24synonym_comparator [status:200 request:0.002s]\n",
      "Elasticsearch index 'synonym_comparator' for application 'hr_assistant_categories' already exists!\n",
      "Loading index 'synonym_comparator'\n"
     ]
    },
    {
     "name": "stderr",
     "output_type": "stream",
     "text": [
      "\r",
      "  0%|          | 0/3 [00:00<?, ?it/s]"
     ]
    },
    {
     "name": "stdout",
     "output_type": "stream",
     "text": [
      "POST http://localhost:9200/hr_assistant_categories%24synonym_comparator/document/_bulk [status:200 request:0.031s]\n"
     ]
    },
    {
     "name": "stderr",
     "output_type": "stream",
     "text": [
      "\r",
      "100%|██████████| 3/3 [00:00<00:00, 93.44it/s]"
     ]
    },
    {
     "name": "stdout",
     "output_type": "stream",
     "text": [
      "Loaded 3 documents\n",
      "Fitting entity recognizer: domain='date', intent='get date_range_employees'\n"
     ]
    },
    {
     "name": "stderr",
     "output_type": "stream",
     "text": [
      "\n"
     ]
    },
    {
     "name": "stdout",
     "output_type": "stream",
     "text": [
      "No entity model configuration set. Using default.\n",
      "Selecting hyperparameters using k-fold cross-validation with 5 splits\n",
      "Best accuracy: 82.74%, params: {'C': 100, 'penalty': 'l1'}\n",
      "No entity_resolution model configuration set. Using default.\n",
      "No entity_resolution model configuration set. Using default.\n",
      "No entity_resolution model configuration set. Using default.\n",
      "No entity_resolution model configuration set. Using default.\n",
      "No entity_resolution model configuration set. Using default.\n",
      "No entity_resolution model configuration set. Using default.\n",
      "No entity_resolution model configuration set. Using default.\n",
      "No entity_resolution model configuration set. Using default.\n",
      "No entity_resolution model configuration set. Using default.\n",
      "No entity_resolution model configuration set. Using default.\n",
      "No entity_resolution model configuration set. Using default.\n",
      "No entity_resolution model configuration set. Using default.\n",
      "No entity_resolution model configuration set. Using default.\n",
      "No entity_resolution model configuration set. Using default.\n",
      "No entity_resolution model configuration set. Using default.\n",
      "No entity_resolution model configuration set. Using default.\n",
      "No entity_resolution model configuration set. Using default.\n",
      "Fitting role classifier: domain='date', intent='get date_range_employees', entity_type='sex'\n",
      "No role model configuration set. Using default.\n",
      "Importing synonym data to synonym index 'synonym_sex'\n",
      "GET http://localhost:9200/_cluster/health [status:200 request:0.004s]\n",
      "HEAD http://localhost:9200/hr_assistant_categories%24synonym_sex [status:200 request:0.001s]\n",
      "Elasticsearch index 'synonym_sex' for application 'hr_assistant_categories' already exists!\n",
      "Loading index 'synonym_sex'\n"
     ]
    },
    {
     "name": "stderr",
     "output_type": "stream",
     "text": [
      "\r",
      "  0%|          | 0/2 [00:00<?, ?it/s]"
     ]
    },
    {
     "name": "stdout",
     "output_type": "stream",
     "text": [
      "POST http://localhost:9200/hr_assistant_categories%24synonym_sex/document/_bulk [status:200 request:0.015s]\n"
     ]
    },
    {
     "name": "stderr",
     "output_type": "stream",
     "text": [
      "\r",
      "100%|██████████| 2/2 [00:00<00:00, 125.44it/s]"
     ]
    },
    {
     "name": "stdout",
     "output_type": "stream",
     "text": [
      "Loaded 2 documents\n",
      "Fitting role classifier: domain='date', intent='get date_range_employees', entity_type='sys_time'\n",
      "No role model configuration set. Using default.\n",
      "Fitting role classifier: domain='date', intent='get date_range_employees', entity_type='sys_number'\n",
      "No role model configuration set. Using default.\n",
      "Fitting role classifier: domain='date', intent='get date_range_employees', entity_type='time_interval'\n",
      "No role model configuration set. Using default.\n",
      "Importing synonym data to synonym index 'synonym_time_interval'\n",
      "GET http://localhost:9200/_cluster/health [status:200 request:0.003s]\n",
      "HEAD http://localhost:9200/hr_assistant_categories%24synonym_time_interval [status:200 request:0.001s]\n",
      "Elasticsearch index 'synonym_time_interval' for application 'hr_assistant_categories' already exists!\n",
      "Loading index 'synonym_time_interval'\n"
     ]
    },
    {
     "name": "stderr",
     "output_type": "stream",
     "text": [
      "\n",
      "\r",
      "  0%|          | 0/1 [00:00<?, ?it/s]"
     ]
    },
    {
     "name": "stdout",
     "output_type": "stream",
     "text": [
      "POST http://localhost:9200/hr_assistant_categories%24synonym_time_interval/document/_bulk [status:200 request:0.014s]\n"
     ]
    },
    {
     "name": "stderr",
     "output_type": "stream",
     "text": [
      "\r",
      "100%|██████████| 1/1 [00:00<00:00, 67.42it/s]"
     ]
    },
    {
     "name": "stdout",
     "output_type": "stream",
     "text": [
      "Loaded 1 document\n",
      "Fitting role classifier: domain='date', intent='get date_range_employees', entity_type='state'\n",
      "No role model configuration set. Using default.\n",
      "Importing synonym data to synonym index 'synonym_state'\n",
      "GET http://localhost:9200/_cluster/health [status:200 request:0.003s]\n",
      "HEAD http://localhost:9200/hr_assistant_categories%24synonym_state [status:200 request:0.001s]\n",
      "Elasticsearch index 'synonym_state' for application 'hr_assistant_categories' already exists!\n",
      "Loading index 'synonym_state'\n"
     ]
    },
    {
     "name": "stderr",
     "output_type": "stream",
     "text": [
      "\n",
      "\r",
      "  0%|          | 0/28 [00:00<?, ?it/s]"
     ]
    },
    {
     "name": "stdout",
     "output_type": "stream",
     "text": [
      "POST http://localhost:9200/hr_assistant_categories%24synonym_state/document/_bulk [status:200 request:0.036s]\n"
     ]
    },
    {
     "name": "stderr",
     "output_type": "stream",
     "text": [
      "\r",
      "100%|██████████| 28/28 [00:00<00:00, 745.36it/s]"
     ]
    },
    {
     "name": "stdout",
     "output_type": "stream",
     "text": [
      "Loaded 28 documents\n",
      "Fitting role classifier: domain='date', intent='get date_range_employees', entity_type='sys_interval'\n",
      "No role model configuration set. Using default.\n",
      "Fitting role classifier: domain='date', intent='get date_range_employees', entity_type='citizendesc'\n",
      "No role model configuration set. Using default.\n",
      "Importing synonym data to synonym index 'synonym_citizendesc'\n",
      "GET http://localhost:9200/_cluster/health [status:200 request:0.004s]\n",
      "HEAD http://localhost:9200/hr_assistant_categories%24synonym_citizendesc [status:200 request:0.002s]\n",
      "Elasticsearch index 'synonym_citizendesc' for application 'hr_assistant_categories' already exists!\n",
      "Loading index 'synonym_citizendesc'\n"
     ]
    },
    {
     "name": "stderr",
     "output_type": "stream",
     "text": [
      "\n",
      "\r",
      "  0%|          | 0/3 [00:00<?, ?it/s]"
     ]
    },
    {
     "name": "stdout",
     "output_type": "stream",
     "text": [
      "POST http://localhost:9200/hr_assistant_categories%24synonym_citizendesc/document/_bulk [status:200 request:0.026s]\n"
     ]
    },
    {
     "name": "stderr",
     "output_type": "stream",
     "text": [
      "\r",
      "100%|██████████| 3/3 [00:00<00:00, 111.84it/s]"
     ]
    },
    {
     "name": "stdout",
     "output_type": "stream",
     "text": [
      "Loaded 3 documents\n",
      "Fitting role classifier: domain='date', intent='get date_range_employees', entity_type='position'\n",
      "No role model configuration set. Using default.\n",
      "Importing synonym data to synonym index 'synonym_position'\n",
      "GET http://localhost:9200/_cluster/health [status:200 request:0.003s]\n",
      "HEAD http://localhost:9200/hr_assistant_categories%24synonym_position [status:200 request:0.001s]\n",
      "Elasticsearch index 'synonym_position' for application 'hr_assistant_categories' already exists!\n",
      "Loading index 'synonym_position'\n"
     ]
    },
    {
     "name": "stderr",
     "output_type": "stream",
     "text": [
      "\n",
      "\r",
      "  0%|          | 0/24 [00:00<?, ?it/s]"
     ]
    },
    {
     "name": "stdout",
     "output_type": "stream",
     "text": [
      "POST http://localhost:9200/hr_assistant_categories%24synonym_position/document/_bulk [status:200 request:0.035s]\n"
     ]
    },
    {
     "name": "stderr",
     "output_type": "stream",
     "text": [
      "\r",
      "100%|██████████| 24/24 [00:00<00:00, 656.44it/s]"
     ]
    },
    {
     "name": "stdout",
     "output_type": "stream",
     "text": [
      "Loaded 24 documents\n",
      "Fitting role classifier: domain='date', intent='get date_range_employees', entity_type='department'\n",
      "No role model configuration set. Using default.\n"
     ]
    },
    {
     "name": "stderr",
     "output_type": "stream",
     "text": [
      "\n"
     ]
    },
    {
     "name": "stdout",
     "output_type": "stream",
     "text": [
      "Importing synonym data to synonym index 'synonym_department'\n",
      "GET http://localhost:9200/_cluster/health [status:200 request:0.004s]\n",
      "HEAD http://localhost:9200/hr_assistant_categories%24synonym_department [status:200 request:0.002s]\n",
      "Elasticsearch index 'synonym_department' for application 'hr_assistant_categories' already exists!\n",
      "Loading index 'synonym_department'\n"
     ]
    },
    {
     "name": "stderr",
     "output_type": "stream",
     "text": [
      "\r",
      "  0%|          | 0/6 [00:00<?, ?it/s]"
     ]
    },
    {
     "name": "stdout",
     "output_type": "stream",
     "text": [
      "POST http://localhost:9200/hr_assistant_categories%24synonym_department/document/_bulk [status:200 request:0.035s]\n"
     ]
    },
    {
     "name": "stderr",
     "output_type": "stream",
     "text": [
      "\r",
      "100%|██████████| 6/6 [00:00<00:00, 162.17it/s]"
     ]
    },
    {
     "name": "stdout",
     "output_type": "stream",
     "text": [
      "Loaded 6 documents\n",
      "Fitting role classifier: domain='date', intent='get date_range_employees', entity_type='comparator'\n",
      "No role model configuration set. Using default.\n",
      "Importing synonym data to synonym index 'synonym_comparator'\n",
      "GET http://localhost:9200/_cluster/health [status:200 request:0.003s]\n",
      "HEAD http://localhost:9200/hr_assistant_categories%24synonym_comparator [status:200 request:0.001s]\n",
      "Elasticsearch index 'synonym_comparator' for application 'hr_assistant_categories' already exists!\n",
      "Loading index 'synonym_comparator'\n"
     ]
    },
    {
     "name": "stderr",
     "output_type": "stream",
     "text": [
      "\n",
      "\r",
      "  0%|          | 0/3 [00:00<?, ?it/s]"
     ]
    },
    {
     "name": "stdout",
     "output_type": "stream",
     "text": [
      "POST http://localhost:9200/hr_assistant_categories%24synonym_comparator/document/_bulk [status:200 request:0.022s]\n"
     ]
    },
    {
     "name": "stderr",
     "output_type": "stream",
     "text": [
      "\r",
      "100%|██████████| 3/3 [00:00<00:00, 128.60it/s]"
     ]
    },
    {
     "name": "stdout",
     "output_type": "stream",
     "text": [
      "Loaded 3 documents\n",
      "Fitting role classifier: domain='date', intent='get date_range_employees', entity_type='sys_duration'\n"
     ]
    },
    {
     "name": "stderr",
     "output_type": "stream",
     "text": [
      "\n"
     ]
    },
    {
     "name": "stdout",
     "output_type": "stream",
     "text": [
      "No role model configuration set. Using default.\n",
      "Fitting role classifier: domain='date', intent='get date_range_employees', entity_type='racedesc'\n",
      "No role model configuration set. Using default.\n",
      "Importing synonym data to synonym index 'synonym_racedesc'\n",
      "GET http://localhost:9200/_cluster/health [status:200 request:0.004s]\n",
      "HEAD http://localhost:9200/hr_assistant_categories%24synonym_racedesc [status:200 request:0.001s]\n",
      "Elasticsearch index 'synonym_racedesc' for application 'hr_assistant_categories' already exists!\n",
      "Loading index 'synonym_racedesc'\n"
     ]
    },
    {
     "name": "stderr",
     "output_type": "stream",
     "text": [
      "\r",
      "  0%|          | 0/6 [00:00<?, ?it/s]"
     ]
    },
    {
     "name": "stdout",
     "output_type": "stream",
     "text": [
      "POST http://localhost:9200/hr_assistant_categories%24synonym_racedesc/document/_bulk [status:200 request:0.034s]\n"
     ]
    },
    {
     "name": "stderr",
     "output_type": "stream",
     "text": [
      "\r",
      "100%|██████████| 6/6 [00:00<00:00, 166.36it/s]"
     ]
    },
    {
     "name": "stdout",
     "output_type": "stream",
     "text": [
      "Loaded 6 documents\n",
      "Fitting role classifier: domain='date', intent='get date_range_employees', entity_type='employment_action'\n",
      "No role model configuration set. Using default.\n",
      "Importing synonym data to synonym index 'synonym_employment_action'\n",
      "GET http://localhost:9200/_cluster/health [status:200 request:0.003s]\n",
      "HEAD http://localhost:9200/hr_assistant_categories%24synonym_employment_action [status:200 request:0.001s]\n",
      "Elasticsearch index 'synonym_employment_action' for application 'hr_assistant_categories' already exists!\n",
      "Loading index 'synonym_employment_action'\n"
     ]
    },
    {
     "name": "stderr",
     "output_type": "stream",
     "text": [
      "\n",
      "\r",
      "  0%|          | 0/2 [00:00<?, ?it/s]"
     ]
    },
    {
     "name": "stdout",
     "output_type": "stream",
     "text": [
      "POST http://localhost:9200/hr_assistant_categories%24synonym_employment_action/document/_bulk [status:200 request:0.015s]\n"
     ]
    },
    {
     "name": "stderr",
     "output_type": "stream",
     "text": [
      "\r",
      "100%|██████████| 2/2 [00:00<00:00, 111.72it/s]"
     ]
    },
    {
     "name": "stdout",
     "output_type": "stream",
     "text": [
      "Loaded 2 documents\n",
      "Fitting role classifier: domain='date', intent='get date_range_employees', entity_type='date_time'\n",
      "No role model configuration set. Using default.\n"
     ]
    },
    {
     "name": "stderr",
     "output_type": "stream",
     "text": [
      "\n"
     ]
    },
    {
     "name": "stdout",
     "output_type": "stream",
     "text": [
      "Importing synonym data to synonym index 'synonym_date_time'\n",
      "GET http://localhost:9200/_cluster/health [status:200 request:0.004s]\n",
      "HEAD http://localhost:9200/hr_assistant_categories%24synonym_date_time [status:200 request:0.002s]\n",
      "Elasticsearch index 'synonym_date_time' for application 'hr_assistant_categories' already exists!\n",
      "Loading index 'synonym_date_time'\n"
     ]
    },
    {
     "name": "stderr",
     "output_type": "stream",
     "text": [
      "\r",
      "  0%|          | 0/3 [00:00<?, ?it/s]"
     ]
    },
    {
     "name": "stdout",
     "output_type": "stream",
     "text": [
      "POST http://localhost:9200/hr_assistant_categories%24synonym_date_time/document/_bulk [status:200 request:0.028s]\n"
     ]
    },
    {
     "name": "stderr",
     "output_type": "stream",
     "text": [
      "\r",
      "100%|██████████| 3/3 [00:00<00:00, 102.55it/s]"
     ]
    },
    {
     "name": "stdout",
     "output_type": "stream",
     "text": [
      "Loaded 3 documents\n",
      "Fitting role classifier: domain='date', intent='get date_range_employees', entity_type='age'\n",
      "No role model configuration set. Using default.\n",
      "Importing synonym data to synonym index 'synonym_age'\n"
     ]
    },
    {
     "name": "stderr",
     "output_type": "stream",
     "text": [
      "\n"
     ]
    },
    {
     "name": "stdout",
     "output_type": "stream",
     "text": [
      "GET http://localhost:9200/_cluster/health [status:200 request:0.004s]\n",
      "HEAD http://localhost:9200/hr_assistant_categories%24synonym_age [status:200 request:0.001s]\n",
      "Elasticsearch index 'synonym_age' for application 'hr_assistant_categories' already exists!\n",
      "Loading index 'synonym_age'\n"
     ]
    },
    {
     "name": "stderr",
     "output_type": "stream",
     "text": [
      "\r",
      "  0%|          | 0/39 [00:00<?, ?it/s]"
     ]
    },
    {
     "name": "stdout",
     "output_type": "stream",
     "text": [
      "POST http://localhost:9200/hr_assistant_categories%24synonym_age/document/_bulk [status:200 request:0.039s]\n"
     ]
    },
    {
     "name": "stderr",
     "output_type": "stream",
     "text": [
      "\r",
      "100%|██████████| 39/39 [00:00<00:00, 957.01it/s]"
     ]
    },
    {
     "name": "stdout",
     "output_type": "stream",
     "text": [
      "Loaded 39 documents\n",
      "Fitting role classifier: domain='date', intent='get date_range_employees', entity_type='extreme'\n",
      "No role model configuration set. Using default.\n",
      "Importing synonym data to synonym index 'synonym_extreme'\n",
      "GET http://localhost:9200/_cluster/health [status:200 request:0.004s]\n",
      "HEAD http://localhost:9200/hr_assistant_categories%24synonym_extreme [status:200 request:0.001s]\n",
      "Elasticsearch index 'synonym_extreme' for application 'hr_assistant_categories' already exists!\n",
      "Loading index 'synonym_extreme'\n"
     ]
    },
    {
     "name": "stderr",
     "output_type": "stream",
     "text": [
      "\n",
      "  0%|          | 0/2 [00:00<?, ?it/s]"
     ]
    },
    {
     "name": "stdout",
     "output_type": "stream",
     "text": [
      "POST http://localhost:9200/hr_assistant_categories%24synonym_extreme/document/_bulk [status:200 request:0.024s]\n"
     ]
    },
    {
     "name": "stderr",
     "output_type": "stream",
     "text": [
      "\r",
      "100%|██████████| 2/2 [00:00<00:00, 79.71it/s]"
     ]
    },
    {
     "name": "stdout",
     "output_type": "stream",
     "text": [
      "Loaded 2 documents\n",
      "Fitting role classifier: domain='date', intent='get date_range_employees', entity_type='maritaldesc'\n",
      "No role model configuration set. Using default.\n",
      "Importing synonym data to synonym index 'synonym_maritaldesc'\n",
      "GET http://localhost:9200/_cluster/health [status:200 request:0.003s]\n"
     ]
    },
    {
     "name": "stderr",
     "output_type": "stream",
     "text": [
      "\n"
     ]
    },
    {
     "name": "stdout",
     "output_type": "stream",
     "text": [
      "HEAD http://localhost:9200/hr_assistant_categories%24synonym_maritaldesc [status:200 request:0.002s]\n",
      "Elasticsearch index 'synonym_maritaldesc' for application 'hr_assistant_categories' already exists!\n",
      "Loading index 'synonym_maritaldesc'\n"
     ]
    },
    {
     "name": "stderr",
     "output_type": "stream",
     "text": [
      "\r",
      "  0%|          | 0/5 [00:00<?, ?it/s]"
     ]
    },
    {
     "name": "stdout",
     "output_type": "stream",
     "text": [
      "POST http://localhost:9200/hr_assistant_categories%24synonym_maritaldesc/document/_bulk [status:200 request:0.030s]\n"
     ]
    },
    {
     "name": "stderr",
     "output_type": "stream",
     "text": [
      "\r",
      "100%|██████████| 5/5 [00:00<00:00, 159.02it/s]"
     ]
    },
    {
     "name": "stdout",
     "output_type": "stream",
     "text": [
      "Loaded 5 documents\n",
      "Fitting entity recognizer: domain='date', intent='get_date'\n",
      "No entity model configuration set. Using default.\n"
     ]
    },
    {
     "name": "stderr",
     "output_type": "stream",
     "text": [
      "\n"
     ]
    },
    {
     "name": "stdout",
     "output_type": "stream",
     "text": [
      "Selecting hyperparameters using k-fold cross-validation with 5 splits\n",
      "Best accuracy: 89.82%, params: {'C': 1000000, 'penalty': 'l2'}\n",
      "No entity_resolution model configuration set. Using default.\n",
      "No entity_resolution model configuration set. Using default.\n",
      "No entity_resolution model configuration set. Using default.\n",
      "No entity_resolution model configuration set. Using default.\n",
      "No entity_resolution model configuration set. Using default.\n",
      "Fitting role classifier: domain='date', intent='get_date', entity_type='name'\n",
      "No role model configuration set. Using default.\n",
      "Importing synonym data to synonym index 'synonym_name'\n",
      "GET http://localhost:9200/_cluster/health [status:200 request:0.003s]\n",
      "HEAD http://localhost:9200/hr_assistant_categories%24synonym_name [status:200 request:0.001s]\n",
      "Elasticsearch index 'synonym_name' for application 'hr_assistant_categories' already exists!\n",
      "Loading index 'synonym_name'\n"
     ]
    },
    {
     "name": "stderr",
     "output_type": "stream",
     "text": [
      "\r",
      "  0%|          | 0/245 [00:00<?, ?it/s]"
     ]
    },
    {
     "name": "stdout",
     "output_type": "stream",
     "text": [
      "POST http://localhost:9200/hr_assistant_categories%24synonym_name/document/_bulk [status:200 request:0.048s]\n",
      "POST http://localhost:9200/hr_assistant_categories%24synonym_name/document/_bulk [status:200 request:0.035s]\n",
      "POST http://localhost:9200/hr_assistant_categories%24synonym_name/document/_bulk [status:200 request:0.034s]\n"
     ]
    },
    {
     "name": "stderr",
     "output_type": "stream",
     "text": [
      "\r",
      " 41%|████      | 101/245 [00:00<00:00, 812.55it/s]"
     ]
    },
    {
     "name": "stdout",
     "output_type": "stream",
     "text": [
      "POST http://localhost:9200/hr_assistant_categories%24synonym_name/document/_bulk [status:200 request:0.035s]\n",
      "POST http://localhost:9200/hr_assistant_categories%24synonym_name/document/_bulk [status:200 request:0.028s]\n"
     ]
    },
    {
     "name": "stderr",
     "output_type": "stream",
     "text": [
      "\r",
      "100%|██████████| 245/245 [00:00<00:00, 1275.47it/s]"
     ]
    },
    {
     "name": "stdout",
     "output_type": "stream",
     "text": [
      "Loaded 245 documents\n",
      "Fitting role classifier: domain='date', intent='get_date', entity_type='sys_time'\n",
      "No role model configuration set. Using default.\n",
      "Fitting role classifier: domain='date', intent='get_date', entity_type='sys_duration'\n",
      "No role model configuration set. Using default.\n"
     ]
    },
    {
     "name": "stderr",
     "output_type": "stream",
     "text": [
      "\n"
     ]
    },
    {
     "name": "stdout",
     "output_type": "stream",
     "text": [
      "Fitting role classifier: domain='date', intent='get_date', entity_type='employment_action'\n",
      "No role model configuration set. Using default.\n",
      "Importing synonym data to synonym index 'synonym_employment_action'\n",
      "GET http://localhost:9200/_cluster/health [status:200 request:0.003s]\n",
      "HEAD http://localhost:9200/hr_assistant_categories%24synonym_employment_action [status:200 request:0.001s]\n",
      "Elasticsearch index 'synonym_employment_action' for application 'hr_assistant_categories' already exists!\n",
      "Loading index 'synonym_employment_action'\n"
     ]
    },
    {
     "name": "stderr",
     "output_type": "stream",
     "text": [
      "\r",
      "  0%|          | 0/2 [00:00<?, ?it/s]"
     ]
    },
    {
     "name": "stdout",
     "output_type": "stream",
     "text": [
      "POST http://localhost:9200/hr_assistant_categories%24synonym_employment_action/document/_bulk [status:200 request:0.024s]\n"
     ]
    },
    {
     "name": "stderr",
     "output_type": "stream",
     "text": [
      "\r",
      "100%|██████████| 2/2 [00:00<00:00, 79.33it/s]"
     ]
    },
    {
     "name": "stdout",
     "output_type": "stream",
     "text": [
      "Loaded 2 documents\n",
      "Fitting role classifier: domain='date', intent='get_date', entity_type='date_time'\n",
      "No role model configuration set. Using default.\n",
      "Importing synonym data to synonym index 'synonym_date_time'\n",
      "GET http://localhost:9200/_cluster/health [status:200 request:0.003s]\n",
      "HEAD http://localhost:9200/hr_assistant_categories%24synonym_date_time [status:200 request:0.002s]\n",
      "Elasticsearch index 'synonym_date_time' for application 'hr_assistant_categories' already exists!\n",
      "Loading index 'synonym_date_time'\n"
     ]
    },
    {
     "name": "stderr",
     "output_type": "stream",
     "text": [
      "\n",
      "\r",
      "  0%|          | 0/3 [00:00<?, ?it/s]"
     ]
    },
    {
     "name": "stdout",
     "output_type": "stream",
     "text": [
      "POST http://localhost:9200/hr_assistant_categories%24synonym_date_time/document/_bulk [status:200 request:0.030s]\n"
     ]
    },
    {
     "name": "stderr",
     "output_type": "stream",
     "text": [
      "\r",
      "100%|██████████| 3/3 [00:00<00:00, 95.37it/s]"
     ]
    },
    {
     "name": "stdout",
     "output_type": "stream",
     "text": [
      "Loaded 3 documents\n"
     ]
    },
    {
     "name": "stderr",
     "output_type": "stream",
     "text": [
      "\n"
     ]
    }
   ],
   "source": [
    "nlp.build()"
   ]
  },
  {
   "cell_type": "code",
   "execution_count": 17,
   "metadata": {},
   "outputs": [],
   "source": [
    "# nlp.domains['hr_assistant'].intents['get_info'].entities\n",
    "\n"
   ]
  },
  {
   "cell_type": "code",
   "execution_count": 18,
   "metadata": {},
   "outputs": [],
   "source": [
    "# nlp.domains['hr_assistant'].intents['get_date_range_aggregate'].entities"
   ]
  },
  {
   "cell_type": "code",
   "execution_count": 19,
   "metadata": {},
   "outputs": [
    {
     "name": "stdout",
     "output_type": "stream",
     "text": [
      "The application package hr_assistant_categories is already imported.\n"
     ]
    },
    {
     "name": "stderr",
     "output_type": "stream",
     "text": [
      "/anaconda3/envs/mm_workspace/lib/python3.6/site-packages/mindmeld/_version.py:64: MindMeldVersionWarning: Current mindmeld (4.1.1) does not satisfy mindmeld==4.1.0 in pip requirements caused by (mindmeld 4.1.1 (/anaconda3/envs/mm_workspace/lib/python3.6/site-packages), Requirement.parse('mindmeld==4.1.0'))\n",
      "  warnings.warn(error_msg, category=MindMeldVersionWarning)\n"
     ]
    }
   ],
   "source": [
    "from mindmeld.components.dialogue import Conversation\n",
    "conv = None\n",
    "conv = Conversation(nlp=nlp, app_path='./hr_assistant_categories')"
   ]
  },
  {
   "cell_type": "code",
   "execution_count": 20,
   "metadata": {},
   "outputs": [
    {
     "name": "stdout",
     "output_type": "stream",
     "text": [
      "GET http://localhost:9200/hr_assistant_categories%24synonym_name/_search [status:200 request:0.013s]\n"
     ]
    },
    {
     "name": "stderr",
     "output_type": "stream",
     "text": [
      "--- Logging error ---\n",
      "Traceback (most recent call last):\n",
      "  File \"/anaconda3/envs/mm_workspace/lib/python3.6/logging/__init__.py\", line 994, in emit\n",
      "    msg = self.format(record)\n",
      "  File \"/anaconda3/envs/mm_workspace/lib/python3.6/logging/__init__.py\", line 840, in format\n",
      "    return fmt.format(record)\n",
      "  File \"/anaconda3/envs/mm_workspace/lib/python3.6/logging/__init__.py\", line 577, in format\n",
      "    record.message = record.getMessage()\n",
      "  File \"/anaconda3/envs/mm_workspace/lib/python3.6/logging/__init__.py\", line 338, in getMessage\n",
      "    msg = msg % self.args\n",
      "TypeError: not all arguments converted during string formatting\n",
      "Call stack:\n",
      "  File \"/anaconda3/envs/mm_workspace/lib/python3.6/runpy.py\", line 193, in _run_module_as_main\n",
      "    \"__main__\", mod_spec)\n",
      "  File \"/anaconda3/envs/mm_workspace/lib/python3.6/runpy.py\", line 85, in _run_code\n",
      "    exec(code, run_globals)\n",
      "  File \"/anaconda3/envs/mm_workspace/lib/python3.6/site-packages/ipykernel_launcher.py\", line 16, in <module>\n",
      "    app.launch_new_instance()\n",
      "  File \"/anaconda3/envs/mm_workspace/lib/python3.6/site-packages/traitlets/config/application.py\", line 658, in launch_instance\n",
      "    app.start()\n",
      "  File \"/anaconda3/envs/mm_workspace/lib/python3.6/site-packages/ipykernel/kernelapp.py\", line 505, in start\n",
      "    self.io_loop.start()\n",
      "  File \"/anaconda3/envs/mm_workspace/lib/python3.6/site-packages/tornado/platform/asyncio.py\", line 148, in start\n",
      "    self.asyncio_loop.run_forever()\n",
      "  File \"/anaconda3/envs/mm_workspace/lib/python3.6/asyncio/base_events.py\", line 438, in run_forever\n",
      "    self._run_once()\n",
      "  File \"/anaconda3/envs/mm_workspace/lib/python3.6/asyncio/base_events.py\", line 1451, in _run_once\n",
      "    handle._run()\n",
      "  File \"/anaconda3/envs/mm_workspace/lib/python3.6/asyncio/events.py\", line 145, in _run\n",
      "    self._callback(*self._args)\n",
      "  File \"/anaconda3/envs/mm_workspace/lib/python3.6/site-packages/tornado/ioloop.py\", line 690, in <lambda>\n",
      "    lambda f: self._run_callback(functools.partial(callback, future))\n",
      "  File \"/anaconda3/envs/mm_workspace/lib/python3.6/site-packages/tornado/ioloop.py\", line 743, in _run_callback\n",
      "    ret = callback()\n",
      "  File \"/anaconda3/envs/mm_workspace/lib/python3.6/site-packages/tornado/gen.py\", line 781, in inner\n",
      "    self.run()\n",
      "  File \"/anaconda3/envs/mm_workspace/lib/python3.6/site-packages/tornado/gen.py\", line 742, in run\n",
      "    yielded = self.gen.send(value)\n",
      "  File \"/anaconda3/envs/mm_workspace/lib/python3.6/site-packages/ipykernel/kernelbase.py\", line 378, in dispatch_queue\n",
      "    yield self.process_one()\n",
      "  File \"/anaconda3/envs/mm_workspace/lib/python3.6/site-packages/tornado/gen.py\", line 225, in wrapper\n",
      "    runner = Runner(result, future, yielded)\n",
      "  File \"/anaconda3/envs/mm_workspace/lib/python3.6/site-packages/tornado/gen.py\", line 708, in __init__\n",
      "    self.run()\n",
      "  File \"/anaconda3/envs/mm_workspace/lib/python3.6/site-packages/tornado/gen.py\", line 742, in run\n",
      "    yielded = self.gen.send(value)\n",
      "  File \"/anaconda3/envs/mm_workspace/lib/python3.6/site-packages/ipykernel/kernelbase.py\", line 365, in process_one\n",
      "    yield gen.maybe_future(dispatch(*args))\n",
      "  File \"/anaconda3/envs/mm_workspace/lib/python3.6/site-packages/tornado/gen.py\", line 209, in wrapper\n",
      "    yielded = next(result)\n",
      "  File \"/anaconda3/envs/mm_workspace/lib/python3.6/site-packages/ipykernel/kernelbase.py\", line 272, in dispatch_shell\n",
      "    yield gen.maybe_future(handler(stream, idents, msg))\n",
      "  File \"/anaconda3/envs/mm_workspace/lib/python3.6/site-packages/tornado/gen.py\", line 209, in wrapper\n",
      "    yielded = next(result)\n",
      "  File \"/anaconda3/envs/mm_workspace/lib/python3.6/site-packages/ipykernel/kernelbase.py\", line 542, in execute_request\n",
      "    user_expressions, allow_stdin,\n",
      "  File \"/anaconda3/envs/mm_workspace/lib/python3.6/site-packages/tornado/gen.py\", line 209, in wrapper\n",
      "    yielded = next(result)\n",
      "  File \"/anaconda3/envs/mm_workspace/lib/python3.6/site-packages/ipykernel/ipkernel.py\", line 294, in do_execute\n",
      "    res = shell.run_cell(code, store_history=store_history, silent=silent)\n",
      "  File \"/anaconda3/envs/mm_workspace/lib/python3.6/site-packages/ipykernel/zmqshell.py\", line 536, in run_cell\n",
      "    return super(ZMQInteractiveShell, self).run_cell(*args, **kwargs)\n",
      "  File \"/anaconda3/envs/mm_workspace/lib/python3.6/site-packages/IPython/core/interactiveshell.py\", line 2848, in run_cell\n",
      "    raw_cell, store_history, silent, shell_futures)\n",
      "  File \"/anaconda3/envs/mm_workspace/lib/python3.6/site-packages/IPython/core/interactiveshell.py\", line 2874, in _run_cell\n",
      "    return runner(coro)\n",
      "  File \"/anaconda3/envs/mm_workspace/lib/python3.6/site-packages/IPython/core/async_helpers.py\", line 67, in _pseudo_sync_runner\n",
      "    coro.send(None)\n",
      "  File \"/anaconda3/envs/mm_workspace/lib/python3.6/site-packages/IPython/core/interactiveshell.py\", line 3049, in run_cell_async\n",
      "    interactivity=interactivity, compiler=compiler, result=result)\n",
      "  File \"/anaconda3/envs/mm_workspace/lib/python3.6/site-packages/IPython/core/interactiveshell.py\", line 3220, in run_ast_nodes\n",
      "    if (yield from self.run_code(code, result)):\n",
      "  File \"/anaconda3/envs/mm_workspace/lib/python3.6/site-packages/IPython/core/interactiveshell.py\", line 3296, in run_code\n",
      "    exec(code_obj, self.user_global_ns, self.user_ns)\n",
      "  File \"<ipython-input-20-45ef8263b2f7>\", line 1, in <module>\n",
      "    conv.say('Mia state')\n",
      "  File \"/anaconda3/envs/mm_workspace/lib/python3.6/site-packages/mindmeld/components/dialogue.py\", line 769, in say\n",
      "    response = self.process(text, params=params)\n",
      "  File \"/anaconda3/envs/mm_workspace/lib/python3.6/site-packages/mindmeld/components/dialogue.py\", line 832, in process\n",
      "    frame=self.frame, history=self.history)\n",
      "  File \"/anaconda3/envs/mm_workspace/lib/python3.6/site-packages/mindmeld/app_manager.py\", line 173, in parse\n",
      "    dm_response = self.dialogue_manager.apply_handler(request, response, **dm_params)\n",
      "  File \"/anaconda3/envs/mm_workspace/lib/python3.6/site-packages/mindmeld/components/dialogue.py\", line 326, in apply_handler\n",
      "    dialogue_state = self._get_dialogue_state(request, target_dialogue_state)\n",
      "  File \"/anaconda3/envs/mm_workspace/lib/python3.6/site-packages/mindmeld/components/dialogue.py\", line 363, in _get_dialogue_state\n",
      "    self.logger.info(msg, request)\n",
      "Message: 'Failed to find dialogue state for general.get_info'\n",
      "Arguments: (Request(domain='general', intent='get_info', entities=({'text': 'Mia', 'type': 'name', 'role': None, 'value': [{'cname': 'Mia Brown', 'score': 12.979502, 'top_synonym': 'Mia Brown'}, {'cname': 'Jeremiah Semizoglou', 'score': 8.848778, 'top_synonym': 'Jeremiah Semizoglou'}], 'span': {'start': 0, 'end': 2}},), history=(), text='Mia state', frame=<immutables.Map({}) at 0x139f29e58>, params=FrozenParams(allowed_intents=(), target_dialogue_state=None, time_zone=None, timestamp=0, dynamic_resource=<immutables.Map({}) at 0x139f449d8>), context=<immutables.Map({}) at 0x139f29b88>, confidences=<immutables.Map({}) at 0x139f29048>, nbest_transcripts_text=(), nbest_transcripts_entities=(), nbest_aligned_entities=()),)\n"
     ]
    },
    {
     "data": {
      "text/plain": [
       "[]"
      ]
     },
     "execution_count": 20,
     "metadata": {},
     "output_type": "execute_result"
    }
   ],
   "source": [
    "conv.say('Mia department')"
   ]
  },
  {
   "cell_type": "code",
   "execution_count": null,
   "metadata": {},
   "outputs": [],
   "source": []
  },
  {
   "cell_type": "code",
   "execution_count": null,
   "metadata": {},
   "outputs": [],
   "source": []
  }
 ],
 "metadata": {
  "kernelspec": {
   "display_name": "Python 3",
   "language": "python",
   "name": "python3"
  },
  "language_info": {
   "codemirror_mode": {
    "name": "ipython",
    "version": 3
   },
   "file_extension": ".py",
   "mimetype": "text/x-python",
   "name": "python",
   "nbconvert_exporter": "python",
   "pygments_lexer": "ipython3",
   "version": "3.6.8"
  }
 },
 "nbformat": 4,
 "nbformat_minor": 2
}
