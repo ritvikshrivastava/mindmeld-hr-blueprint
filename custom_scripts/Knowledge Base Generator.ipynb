{
 "cells": [
  {
   "cell_type": "code",
   "execution_count": 1,
   "metadata": {},
   "outputs": [
    {
     "ename": "KeyboardInterrupt",
     "evalue": "",
     "output_type": "error",
     "traceback": [
      "\u001b[0;31m---------------------------------------------------------------------------\u001b[0m",
      "\u001b[0;31mKeyboardInterrupt\u001b[0m                         Traceback (most recent call last)",
      "\u001b[0;32m<ipython-input-1-91191b74c9b7>\u001b[0m in \u001b[0;36m<module>\u001b[0;34m\u001b[0m\n\u001b[1;32m      1\u001b[0m \u001b[0;32mimport\u001b[0m \u001b[0mnumpy\u001b[0m \u001b[0;32mas\u001b[0m \u001b[0mnp\u001b[0m\u001b[0;34m\u001b[0m\u001b[0;34m\u001b[0m\u001b[0m\n\u001b[0;32m----> 2\u001b[0;31m \u001b[0;32mimport\u001b[0m \u001b[0mpandas\u001b[0m \u001b[0;32mas\u001b[0m \u001b[0mpd\u001b[0m\u001b[0;34m\u001b[0m\u001b[0;34m\u001b[0m\u001b[0m\n\u001b[0m\u001b[1;32m      3\u001b[0m \u001b[0;32mimport\u001b[0m \u001b[0mjson\u001b[0m\u001b[0;34m\u001b[0m\u001b[0;34m\u001b[0m\u001b[0m\n\u001b[1;32m      4\u001b[0m \u001b[0;32mfrom\u001b[0m \u001b[0mdatetime\u001b[0m \u001b[0;32mimport\u001b[0m \u001b[0mdatetime\u001b[0m\u001b[0;34m,\u001b[0m \u001b[0mtimedelta\u001b[0m\u001b[0;34m\u001b[0m\u001b[0;34m\u001b[0m\u001b[0m\n\u001b[1;32m      5\u001b[0m \u001b[0;32mfrom\u001b[0m \u001b[0mdateutil\u001b[0m\u001b[0;34m.\u001b[0m\u001b[0mparser\u001b[0m \u001b[0;32mimport\u001b[0m \u001b[0mparse\u001b[0m\u001b[0;34m\u001b[0m\u001b[0;34m\u001b[0m\u001b[0m\n",
      "\u001b[0;32m/anaconda3/envs/mm_workspace/lib/python3.6/site-packages/pandas/__init__.py\u001b[0m in \u001b[0;36m<module>\u001b[0;34m\u001b[0m\n\u001b[1;32m     11\u001b[0m \u001b[0;32mfor\u001b[0m \u001b[0mdependency\u001b[0m \u001b[0;32min\u001b[0m \u001b[0mhard_dependencies\u001b[0m\u001b[0;34m:\u001b[0m\u001b[0;34m\u001b[0m\u001b[0;34m\u001b[0m\u001b[0m\n\u001b[1;32m     12\u001b[0m     \u001b[0;32mtry\u001b[0m\u001b[0;34m:\u001b[0m\u001b[0;34m\u001b[0m\u001b[0;34m\u001b[0m\u001b[0m\n\u001b[0;32m---> 13\u001b[0;31m         \u001b[0m__import__\u001b[0m\u001b[0;34m(\u001b[0m\u001b[0mdependency\u001b[0m\u001b[0;34m)\u001b[0m\u001b[0;34m\u001b[0m\u001b[0;34m\u001b[0m\u001b[0m\n\u001b[0m\u001b[1;32m     14\u001b[0m     \u001b[0;32mexcept\u001b[0m \u001b[0mImportError\u001b[0m \u001b[0;32mas\u001b[0m \u001b[0me\u001b[0m\u001b[0;34m:\u001b[0m\u001b[0;34m\u001b[0m\u001b[0;34m\u001b[0m\u001b[0m\n\u001b[1;32m     15\u001b[0m         \u001b[0mmissing_dependencies\u001b[0m\u001b[0;34m.\u001b[0m\u001b[0mappend\u001b[0m\u001b[0;34m(\u001b[0m\u001b[0mdependency\u001b[0m\u001b[0;34m)\u001b[0m\u001b[0;34m\u001b[0m\u001b[0;34m\u001b[0m\u001b[0m\n",
      "\u001b[0;32m/anaconda3/envs/mm_workspace/lib/python3.6/site-packages/pytz/__init__.py\u001b[0m in \u001b[0;36m<module>\u001b[0;34m\u001b[0m\n\u001b[1;32m   1099\u001b[0m \u001b[0;34m\u001b[0m\u001b[0m\n\u001b[1;32m   1100\u001b[0m \u001b[0mall_timezones_set\u001b[0m \u001b[0;34m=\u001b[0m \u001b[0mLazySet\u001b[0m\u001b[0;34m(\u001b[0m\u001b[0mall_timezones\u001b[0m\u001b[0;34m)\u001b[0m\u001b[0;34m\u001b[0m\u001b[0;34m\u001b[0m\u001b[0m\n\u001b[0;32m-> 1101\u001b[0;31m \u001b[0m_all_timezones_lower_to_standard\u001b[0m \u001b[0;34m=\u001b[0m \u001b[0mdict\u001b[0m\u001b[0;34m(\u001b[0m\u001b[0;34m(\u001b[0m\u001b[0mtz\u001b[0m\u001b[0;34m.\u001b[0m\u001b[0mlower\u001b[0m\u001b[0;34m(\u001b[0m\u001b[0;34m)\u001b[0m\u001b[0;34m,\u001b[0m \u001b[0mtz\u001b[0m\u001b[0;34m)\u001b[0m \u001b[0;32mfor\u001b[0m \u001b[0mtz\u001b[0m \u001b[0;32min\u001b[0m \u001b[0mall_timezones\u001b[0m\u001b[0;34m)\u001b[0m\u001b[0;34m\u001b[0m\u001b[0;34m\u001b[0m\u001b[0m\n\u001b[0m\u001b[1;32m   1102\u001b[0m \u001b[0mcommon_timezones\u001b[0m \u001b[0;34m=\u001b[0m\u001b[0;31m \u001b[0m\u001b[0;31m\\\u001b[0m\u001b[0;34m\u001b[0m\u001b[0;34m\u001b[0m\u001b[0m\n\u001b[1;32m   1103\u001b[0m ['Africa/Abidjan',\n",
      "\u001b[0;32m/anaconda3/envs/mm_workspace/lib/python3.6/site-packages/pytz/lazy.py\u001b[0m in \u001b[0;36m_lazy\u001b[0;34m(self, *args, **kw)\u001b[0m\n\u001b[1;32m     99\u001b[0m                 \u001b[0;32mtry\u001b[0m\u001b[0;34m:\u001b[0m\u001b[0;34m\u001b[0m\u001b[0;34m\u001b[0m\u001b[0m\n\u001b[1;32m    100\u001b[0m                     \u001b[0;32mif\u001b[0m \u001b[0mlen\u001b[0m\u001b[0;34m(\u001b[0m\u001b[0mfill_iter\u001b[0m\u001b[0;34m)\u001b[0m \u001b[0;34m>\u001b[0m \u001b[0;36m0\u001b[0m\u001b[0;34m:\u001b[0m\u001b[0;34m\u001b[0m\u001b[0;34m\u001b[0m\u001b[0m\n\u001b[0;32m--> 101\u001b[0;31m                         \u001b[0mlist\u001b[0m\u001b[0;34m.\u001b[0m\u001b[0mextend\u001b[0m\u001b[0;34m(\u001b[0m\u001b[0mself\u001b[0m\u001b[0;34m,\u001b[0m \u001b[0mfill_iter\u001b[0m\u001b[0;34m.\u001b[0m\u001b[0mpop\u001b[0m\u001b[0;34m(\u001b[0m\u001b[0;34m)\u001b[0m\u001b[0;34m)\u001b[0m\u001b[0;34m\u001b[0m\u001b[0;34m\u001b[0m\u001b[0m\n\u001b[0m\u001b[1;32m    102\u001b[0m                         \u001b[0;32mfor\u001b[0m \u001b[0mmethod_name\u001b[0m \u001b[0;32min\u001b[0m \u001b[0mcls\u001b[0m\u001b[0;34m.\u001b[0m\u001b[0m_props\u001b[0m\u001b[0;34m:\u001b[0m\u001b[0;34m\u001b[0m\u001b[0;34m\u001b[0m\u001b[0m\n\u001b[1;32m    103\u001b[0m                             \u001b[0mdelattr\u001b[0m\u001b[0;34m(\u001b[0m\u001b[0mLazyList\u001b[0m\u001b[0;34m,\u001b[0m \u001b[0mmethod_name\u001b[0m\u001b[0;34m)\u001b[0m\u001b[0;34m\u001b[0m\u001b[0;34m\u001b[0m\u001b[0m\n",
      "\u001b[0;32m/anaconda3/envs/mm_workspace/lib/python3.6/site-packages/pytz/__init__.py\u001b[0m in \u001b[0;36m<genexpr>\u001b[0;34m(.0)\u001b[0m\n\u001b[1;32m   1096\u001b[0m  'Zulu']\n\u001b[1;32m   1097\u001b[0m all_timezones = LazyList(\n\u001b[0;32m-> 1098\u001b[0;31m         tz for tz in all_timezones if resource_exists(tz))\n\u001b[0m\u001b[1;32m   1099\u001b[0m \u001b[0;34m\u001b[0m\u001b[0m\n\u001b[1;32m   1100\u001b[0m \u001b[0mall_timezones_set\u001b[0m \u001b[0;34m=\u001b[0m \u001b[0mLazySet\u001b[0m\u001b[0;34m(\u001b[0m\u001b[0mall_timezones\u001b[0m\u001b[0;34m)\u001b[0m\u001b[0;34m\u001b[0m\u001b[0;34m\u001b[0m\u001b[0m\n",
      "\u001b[0;32m/anaconda3/envs/mm_workspace/lib/python3.6/site-packages/pytz/__init__.py\u001b[0m in \u001b[0;36mresource_exists\u001b[0;34m(name)\u001b[0m\n\u001b[1;32m    112\u001b[0m     \u001b[0;34m\"\"\"Return true if the given resource exists\"\"\"\u001b[0m\u001b[0;34m\u001b[0m\u001b[0;34m\u001b[0m\u001b[0m\n\u001b[1;32m    113\u001b[0m     \u001b[0;32mtry\u001b[0m\u001b[0;34m:\u001b[0m\u001b[0;34m\u001b[0m\u001b[0;34m\u001b[0m\u001b[0m\n\u001b[0;32m--> 114\u001b[0;31m         \u001b[0mopen_resource\u001b[0m\u001b[0;34m(\u001b[0m\u001b[0mname\u001b[0m\u001b[0;34m)\u001b[0m\u001b[0;34m.\u001b[0m\u001b[0mclose\u001b[0m\u001b[0;34m(\u001b[0m\u001b[0;34m)\u001b[0m\u001b[0;34m\u001b[0m\u001b[0;34m\u001b[0m\u001b[0m\n\u001b[0m\u001b[1;32m    115\u001b[0m         \u001b[0;32mreturn\u001b[0m \u001b[0;32mTrue\u001b[0m\u001b[0;34m\u001b[0m\u001b[0;34m\u001b[0m\u001b[0m\n\u001b[1;32m    116\u001b[0m     \u001b[0;32mexcept\u001b[0m \u001b[0mIOError\u001b[0m\u001b[0;34m:\u001b[0m\u001b[0;34m\u001b[0m\u001b[0;34m\u001b[0m\u001b[0m\n",
      "\u001b[0;32m/anaconda3/envs/mm_workspace/lib/python3.6/site-packages/pytz/__init__.py\u001b[0m in \u001b[0;36mopen_resource\u001b[0;34m(name)\u001b[0m\n\u001b[1;32m    106\u001b[0m             \u001b[0;32mif\u001b[0m \u001b[0mresource_stream\u001b[0m \u001b[0;32mis\u001b[0m \u001b[0;32mnot\u001b[0m \u001b[0;32mNone\u001b[0m\u001b[0;34m:\u001b[0m\u001b[0;34m\u001b[0m\u001b[0;34m\u001b[0m\u001b[0m\n\u001b[1;32m    107\u001b[0m                 \u001b[0;32mreturn\u001b[0m \u001b[0mresource_stream\u001b[0m\u001b[0;34m(\u001b[0m\u001b[0m__name__\u001b[0m\u001b[0;34m,\u001b[0m \u001b[0;34m'zoneinfo/'\u001b[0m \u001b[0;34m+\u001b[0m \u001b[0mname\u001b[0m\u001b[0;34m)\u001b[0m\u001b[0;34m\u001b[0m\u001b[0;34m\u001b[0m\u001b[0m\n\u001b[0;32m--> 108\u001b[0;31m     \u001b[0;32mreturn\u001b[0m \u001b[0mopen\u001b[0m\u001b[0;34m(\u001b[0m\u001b[0mfilename\u001b[0m\u001b[0;34m,\u001b[0m \u001b[0;34m'rb'\u001b[0m\u001b[0;34m)\u001b[0m\u001b[0;34m\u001b[0m\u001b[0;34m\u001b[0m\u001b[0m\n\u001b[0m\u001b[1;32m    109\u001b[0m \u001b[0;34m\u001b[0m\u001b[0m\n\u001b[1;32m    110\u001b[0m \u001b[0;34m\u001b[0m\u001b[0m\n",
      "\u001b[0;31mKeyboardInterrupt\u001b[0m: "
     ]
    }
   ],
   "source": [
    "import numpy as np\n",
    "import pandas as pd\n",
    "import json\n",
    "from datetime import datetime, timedelta\n",
    "from dateutil.parser import parse"
   ]
  },
  {
   "cell_type": "markdown",
   "metadata": {},
   "source": [
    "<h2>Functions</h2>"
   ]
  },
  {
   "cell_type": "code",
   "execution_count": null,
   "metadata": {},
   "outputs": [],
   "source": [
    "# Get the Names of Employees in the HR Dataset\n",
    "# param df (dataframe) - Dataframe with names\n",
    "# param column (str) - Column can be 'Employee Name' or 'Manager Name'\n",
    "# Returns names (list) - Array of names (['First', 'Last'])\n",
    "def df_get_names(df, column='Employee Name'):\n",
    "    names = [df[[column]].iloc[i][0] for i in range(df.shape[0])]\n",
    "    for i in range(len(names)):\n",
    "        try:\n",
    "            full_name = names[i].split(',')\n",
    "            first = full_name[1].strip().split()[0]\n",
    "            last = full_name[0]\n",
    "            names[i] = [first, last]\n",
    "        except:\n",
    "            names[i] = ['Jeremy', 'Prater']\n",
    "    return names\n",
    "\n",
    "# Split the Name Column in the Dataframe\n",
    "# param df (dataframe) - Dataframe with names\n",
    "# Returns updated_df (dataframe) - Dataframe with a 'first_name' and 'last_name' column\n",
    "def df_split_name_col(df):\n",
    "    names = df_get_names(df, 'emp_name')\n",
    "    for i in range(len(names)):\n",
    "        df.at[i, 'first_name'] = names[i][0]\n",
    "        df.at[i, 'last_name'] = names[i][1]\n",
    "    return df\n",
    "\n",
    "# Reformat Date from 'MM/DD/YY' to 'YYYY-MM-DD' for DOB, DOH, DOT\n",
    "# param date (str) - Date to reformat in the form 'MM/DD/YYYY'\n",
    "# param df (dataframe) - Dataframe with Dates\n",
    "def reformat_date(date_str):\n",
    "    date_split = date_str.split('/')\n",
    "    if(int(date_split[2]) < 20): date_split[2] = '20' + date_split[2]\n",
    "    else: date_split[2] = '19' + date_split[2]\n",
    "    date_str = '/'.join(date_split)\n",
    "    return datetime.strptime(date_str, '%m/%d/%Y').strftime('%Y-%m-%d')\n",
    "\n",
    "# Reformat Date from 'MM/DD/YYYY' to 'YYYY-MM-DD' for DOB, DOH, DOT\n",
    "# param df (dataframe) - Dataframe with Dates\n",
    "# Returns updated_df (dataframe) - Dataframe with a 'first_name' and 'last_name' column\n",
    "def df_reformat_date(df):\n",
    "    cols = ['doh', 'dob', 'dot']\n",
    "    for col in cols:\n",
    "        for i in range(len(df)):\n",
    "            if(df[col][i] != '1800-01-01' ): df.at[i, col] = reformat_date(df[col][i])\n",
    "    return df"
   ]
  },
  {
   "cell_type": "markdown",
   "metadata": {},
   "source": [
    "<h3>File Writing</h3>"
   ]
  },
  {
   "cell_type": "code",
   "execution_count": null,
   "metadata": {},
   "outputs": [],
   "source": [
    "# Convert a Knowledge Base Dataframe to JSON File\n",
    "# param df (dataframe) -  Dataframe to write to file\n",
    "def df_to_json_file(df):\n",
    "    json_dict = df.to_dict(orient='records')\n",
    "    with open(\"../hr_assistant/data/user_data.json\", \"w+\") as f:\n",
    "        json_str = json.dumps(json_dict, indent=4)\n",
    "        f.write(json_str)"
   ]
  },
  {
   "cell_type": "markdown",
   "metadata": {},
   "source": [
    "<h3>Knowledge Base Query Helpers</h3>"
   ]
  },
  {
   "cell_type": "code",
   "execution_count": null,
   "metadata": {},
   "outputs": [],
   "source": [
    "# Get a List of Names from a QA Result\n",
    "# param qa_out (list) Output of QA from a query\n",
    "def _get_names(qa_out):\n",
    "    return [out['emp_name'] for out in qa_out]\n",
    "  \n",
    "# Filter the output of the Question Answerer\n",
    "# param ent (str) Entity to filter on\n",
    "# param val (str) Value to filter for\n",
    "# param qa_out (list) List of Json Objects Representing Users\n",
    "# Return qa_out_filtered (list) List if JSON Objects filtered by entity and value\n",
    "def _categ_filter(ent, val, qa_out): \n",
    "    return [x for x in users if x[ent] == val]\n",
    "\n",
    "# Convert Date object to Str Date Format 'YYYY-MM-DD'\n",
    "# param date_obj (Datetime object) - Datetime object to convert\n",
    "def _d_to_ymd(d): return d.strftime('%Y-%m-%d')\n",
    "\n",
    "# Get the Datetime Str for a Certain number of Years, Months, Days ago from the present time\n",
    "# param years (int) - Number of years ago \n",
    "# param months (int) - Number of months ago \n",
    "# param weeks (int) - Number of weeks ago\n",
    "# param days (int) - Number of days ago \n",
    "# return date_obj (Datetime Object) - Datetime Object\n",
    "def _get_ago_t(years=0, months=0, weeks=0, days=0):\n",
    "    total_days = years*52*7 + months*4*7 + weeks*7 + days\n",
    "    d = get_now_time() - timedelta(days=total_days)\n",
    "    return d\n",
    "\n",
    "# Get the Datetime Object for the current time\n",
    "# return date_obj (Datetime Object) - Datetime Object\n",
    "def _get_now_t(): return datetime.now()\n",
    "\n",
    "# Get the Datetime Str for the current time\n",
    "# return date_str (str) - Str of date in the format'YYYY-MM-DD'\n",
    "def _get_now_t_str(): return d_to_ymd(get_now_time())\n",
    "\n",
    "\n",
    "# Filter the output of the Question Answerer by Date\n",
    "# param date_type (str) Date Type to Filter On: 'doh', 'dob', 'dot'\n",
    "# param qa_out (list) List of Json Objects Representing Users\n",
    "# param start_d (str) Start Date in the format 'YYYY-MM-DD'\n",
    "# param end_d (str) End Date in the format 'YYYY-MM-DD'\n",
    "# Return qa_out_filtered (list) List if JSON Objects filtered by Date Type\n",
    "def _filter_by_d(date_type, qa_out, start_d='1900-01-01', end_d=get_now_t()):\n",
    "    s = qa.build_search(index='user_data_3')\n",
    "    return s.filter(field=date_type, lte=end_d, gte=start_d).execute()\n",
    "\n",
    "# Filter the output of the Question Answerer by Date\n",
    "# param d_type (str) Date Type to Filter On: 'doh', 'dob', 'dot'\n",
    "# param qa_out (list) List of Json Objects Representing Users\n",
    "# param gt (str) Greater than Start Date in the format 'YYYY-MM-DD'\n",
    "# param gte (str) Greater than or equal to Start Date in the format 'YYYY-MM-DD'\n",
    "# param lt (str) Greater than Start Date in the format 'YYYY-MM-DD'\n",
    "# param lte (str) Greater than or equal to Start Date in the format 'YYYY-MM-DD'\n",
    "# Return qa_out_filtered (list) List if JSON Objects filtered by Date Type\n",
    "def _filter_by_d_custom(d_type, qa_out, gt, gte, lt, lte):\n",
    "    # Less than (or equal to)\n",
    "    if lt is not None:\n",
    "        lt = _ymd_to_d(lt)\n",
    "        qa_out = [x for x in qa_out if _ymd_to_d(x[d_type]) < lt]\n",
    "    elif lte is not None:\n",
    "        lte = _ymd_to_d(lte)\n",
    "        qa_out = [x for x in qa_out if _ymd_to_d(x[d_type]) <= lte]\n",
    "    # Greater than (or equal to)\n",
    "    if gt is not None:\n",
    "        gt = _ymd_to_d(gt)\n",
    "        qa_out = [x for x in qa_out if _ymd_to_d(x[d_type]) > gt]\n",
    "    elif gte is not None:\n",
    "        gte = _ymd_to_d(gte)\n",
    "        qa_out = [x for x in qa_out if _ymd_to_d(x[d_type]) >= gte]\n",
    "    # Remove \"Null\" values in DOT that were replaced with \"1800-01-01\"\n",
    "    if d_type == 'dot': qa_out = [x for x in qa_out if _ymd_to_d(x[d_type]) > _ymd_to_d(\"1800-01-01\")] \n",
    "    return qa_out\n",
    "\n",
    "# Function Helper that does Sum, Average and Percent Calculations\n",
    "# param qa_out (list) List of Json Objects Representing Users\n",
    "# param func (str) - Function Type: 'avg','sum', 'ct', 'pct'\n",
    "# param num_col (str) - Numerical Column Type : 'money', or 'age'\n",
    "# returns result (float) - Resulting Value from function operation\n",
    "def _agg_function(qa_out, func='avg', num_col='money'):\n",
    "    if(func=='avg'): return np.mean([emp[num_col] for emp in qa_out])\n",
    "    elif(func=='sum'): return np.sum([emp[num_col] for emp in qa_out])\n",
    "    elif(func=='ct'): return len(qa_out)\n",
    "    elif(func=='pct'): return len(qa_out)/300\n",
    "\n",
    "# Get the Salary Amount Based on a Recurring Period of Time\n",
    "# param recur_ent (str): 'yearly', 'monthly', 'weely', 'daily', 'hourly'\n",
    "# param money (float): Hourly Salary of an employee\n",
    "def _get_interval_amount(recur_ent, money):\n",
    "    intv_mult = { \"yearly\": 12*4*5*8, \"monthly\": 4*5*8, \"weekly\":5*8, \"daily\": 8,\"hourly\": 1}\n",
    "    return round(intv_mult[recur_ent] * money, 2)         "
   ]
  },
  {
   "cell_type": "markdown",
   "metadata": {},
   "source": [
    "<h2>Workflow</h2>"
   ]
  },
  {
   "cell_type": "markdown",
   "metadata": {},
   "source": [
    "<h4>Create Json</h4>"
   ]
  },
  {
   "cell_type": "code",
   "execution_count": null,
   "metadata": {},
   "outputs": [],
   "source": [
    "kb = pd.read_csv('core_dataset.csv')\n",
    "kb.fillna(\"1800-01-01\", inplace=True)\n",
    "kb = df_split_name_col(kb)\n",
    "kb = df_reformat_date(kb)\n",
    "kb"
   ]
  },
  {
   "cell_type": "code",
   "execution_count": null,
   "metadata": {
    "scrolled": true
   },
   "outputs": [],
   "source": [
    "df_to_json_file(kb)"
   ]
  },
  {
   "cell_type": "code",
   "execution_count": null,
   "metadata": {
    "scrolled": true
   },
   "outputs": [],
   "source": [
    "#kb['doh'][3]"
   ]
  },
  {
   "cell_type": "markdown",
   "metadata": {},
   "source": [
    "<h4>Knowledge Base</h4>"
   ]
  },
  {
   "cell_type": "code",
   "execution_count": null,
   "metadata": {
    "scrolled": false
   },
   "outputs": [],
   "source": [
    "from mindmeld.components import QuestionAnswerer\n",
    "qa = QuestionAnswerer(app_path='hr_assistant')\n",
    "qa.load_kb('hr_assistant', 'user_data_3', '../hr_assistant/data/user_data.json')"
   ]
  },
  {
   "cell_type": "code",
   "execution_count": null,
   "metadata": {},
   "outputs": [],
   "source": [
    "qa_out = qa.get(index='user_data_3', sex='Male')\n",
    "qa_out"
   ]
  },
  {
   "cell_type": "code",
   "execution_count": null,
   "metadata": {},
   "outputs": [],
   "source": [
    "#qa._kb_field_info.get(field='dob')"
   ]
  },
  {
   "cell_type": "code",
   "execution_count": null,
   "metadata": {},
   "outputs": [],
   "source": [
    "s = qa.build_search(index='user_data_3')"
   ]
  },
  {
   "cell_type": "code",
   "execution_count": null,
   "metadata": {},
   "outputs": [],
   "source": [
    "s.filter(field='doh', lte='2019-01-01').execute()"
   ]
  },
  {
   "cell_type": "code",
   "execution_count": null,
   "metadata": {},
   "outputs": [],
   "source": [
    "qa_out = s.query(sex='Male').execute(size=300)"
   ]
  },
  {
   "cell_type": "code",
   "execution_count": null,
   "metadata": {},
   "outputs": [],
   "source": [
    "qa_out"
   ]
  },
  {
   "cell_type": "code",
   "execution_count": null,
   "metadata": {},
   "outputs": [],
   "source": [
    "qa_out[0]['doh']"
   ]
  },
  {
   "cell_type": "code",
   "execution_count": null,
   "metadata": {},
   "outputs": [],
   "source": [
    "war_start = '2011-01-03'\n",
    "datetime.strptime(war_start, '%Y-%m-%d')"
   ]
  },
  {
   "cell_type": "code",
   "execution_count": null,
   "metadata": {},
   "outputs": [],
   "source": [
    "_ymd_to_d(qa_out[0]['doh'])"
   ]
  },
  {
   "cell_type": "code",
   "execution_count": null,
   "metadata": {},
   "outputs": [],
   "source": [
    "# for user in qa_out:\n",
    "#     print(datetime.strptime((user['doh'])))"
   ]
  },
  {
   "cell_type": "code",
   "execution_count": null,
   "metadata": {},
   "outputs": [],
   "source": [
    "#[x for x in qa_out if _ymd_to_d(x['dob']) > _ymd_to_d('1990-01-01')]"
   ]
  },
  {
   "cell_type": "code",
   "execution_count": null,
   "metadata": {},
   "outputs": [],
   "source": [
    "date_str = qa_out[0]['dob']"
   ]
  },
  {
   "cell_type": "code",
   "execution_count": null,
   "metadata": {},
   "outputs": [],
   "source": [
    "_ymd_to_d(date_str) == _ymd_to_d(date_str)"
   ]
  },
  {
   "cell_type": "code",
   "execution_count": null,
   "metadata": {},
   "outputs": [],
   "source": [
    "datetime.strptime(\"1800-01-01\", '%Y-%m-%d')"
   ]
  },
  {
   "cell_type": "code",
   "execution_count": null,
   "metadata": {},
   "outputs": [],
   "source": [
    "_get_interval_amount(\"daily\", 32.4545)"
   ]
  },
  {
   "cell_type": "code",
   "execution_count": null,
   "metadata": {
    "scrolled": true
   },
   "outputs": [],
   "source": [
    "_filter_by_d_custom(d_type='dot', qa_out=qa_out, gt=\"1980-01-01\", gte=None, lt=None, lte=\"2020-01-01\")"
   ]
  },
  {
   "cell_type": "code",
   "execution_count": null,
   "metadata": {
    "scrolled": true
   },
   "outputs": [],
   "source": [
    "len(s.query(sex=\"Female\", size=300).execute() )  #.filter(field=\"age\", lte='100', size=300).filter(field=\"money\", gte=10, size=300).execute())"
   ]
  },
  {
   "cell_type": "code",
   "execution_count": null,
   "metadata": {},
   "outputs": [],
   "source": [
    "users = qa.get(index='user_data_3', sex='Female',size=301)"
   ]
  },
  {
   "cell_type": "code",
   "execution_count": null,
   "metadata": {},
   "outputs": [],
   "source": [
    "qa.get(index='user_data_3', sex='Female',size=301)"
   ]
  },
  {
   "cell_type": "code",
   "execution_count": null,
   "metadata": {},
   "outputs": [],
   "source": [
    "s = qa.build_search(index='user_data_3')\n",
    "len(s.query(sex='Male', size=300).execute())"
   ]
  },
  {
   "cell_type": "code",
   "execution_count": null,
   "metadata": {},
   "outputs": [],
   "source": [
    "users"
   ]
  },
  {
   "cell_type": "code",
   "execution_count": null,
   "metadata": {
    "scrolled": true
   },
   "outputs": [],
   "source": [
    "qa_out = qa.get(index='user_data', sex='Male')\n",
    "qa_out"
   ]
  },
  {
   "cell_type": "code",
   "execution_count": null,
   "metadata": {},
   "outputs": [],
   "source": [
    "s = qa.build_search(index='user_data_3')"
   ]
  },
  {
   "cell_type": "code",
   "execution_count": null,
   "metadata": {},
   "outputs": [],
   "source": [
    "len(s.filter(field=\"age\", lt='50').execute(size=300))"
   ]
  },
  {
   "cell_type": "code",
   "execution_count": null,
   "metadata": {},
   "outputs": [],
   "source": [
    "np.sum([emp['money'] for emp in qa_out])"
   ]
  },
  {
   "cell_type": "code",
   "execution_count": null,
   "metadata": {},
   "outputs": [],
   "source": [
    "get_now_t_str()"
   ]
  },
  {
   "cell_type": "code",
   "execution_count": null,
   "metadata": {},
   "outputs": [],
   "source": [
    "d_to_ymd(get_ago_t(years=5))"
   ]
  },
  {
   "cell_type": "code",
   "execution_count": null,
   "metadata": {},
   "outputs": [],
   "source": [
    "users = qa.get(index='user_data_3',size=301)\n",
    "users"
   ]
  },
  {
   "cell_type": "code",
   "execution_count": null,
   "metadata": {},
   "outputs": [],
   "source": [
    "filter_qa_out('sex','Male', users)"
   ]
  },
  {
   "cell_type": "code",
   "execution_count": null,
   "metadata": {},
   "outputs": [],
   "source": [
    "Also, entering the size parameter on the execute function means that we will not be able to add on another filter after the execute. "
   ]
  }
 ],
 "metadata": {
  "kernelspec": {
   "display_name": "Python 3",
   "language": "python",
   "name": "python3"
  },
  "language_info": {
   "codemirror_mode": {
    "name": "ipython",
    "version": 3
   },
   "file_extension": ".py",
   "mimetype": "text/x-python",
   "name": "python",
   "nbconvert_exporter": "python",
   "pygments_lexer": "ipython3",
   "version": "3.6.8"
  }
 },
 "nbformat": 4,
 "nbformat_minor": 2
}
