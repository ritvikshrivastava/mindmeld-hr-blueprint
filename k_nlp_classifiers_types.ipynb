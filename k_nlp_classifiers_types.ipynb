{
 "cells": [
  {
   "cell_type": "code",
   "execution_count": 2,
   "metadata": {},
   "outputs": [
    {
     "name": "stderr",
     "output_type": "stream",
     "text": [
      "/anaconda3/envs/mindmeld2/lib/python3.6/site-packages/sklearn/ensemble/weight_boosting.py:29: DeprecationWarning: numpy.core.umath_tests is an internal NumPy module and should not be imported. It will be removed in a future NumPy release.\n",
      "  from numpy.core.umath_tests import inner1d\n"
     ]
    }
   ],
   "source": [
    "from mindmeld import configure_logs; configure_logs()"
   ]
  },
  {
   "cell_type": "code",
   "execution_count": 3,
   "metadata": {},
   "outputs": [],
   "source": [
    "import logging\n",
    "logger = logging.getLogger()\n",
    "logger.setLevel(logging.INFO)\n",
    "logging.debug(\"test\")"
   ]
  },
  {
   "cell_type": "code",
   "execution_count": 4,
   "metadata": {},
   "outputs": [
    {
     "name": "stderr",
     "output_type": "stream",
     "text": [
      "/anaconda3/envs/mindmeld2/lib/python3.6/site-packages/mindmeld/_version.py:64: MindMeldVersionWarning: Current mindmeld (4.1.1) does not satisfy mindmeld==4.1.0 in pip requirements caused by (mindmeld 4.1.1 (/anaconda3/envs/mindmeld2/lib/python3.6/site-packages), Requirement.parse('mindmeld==4.1.0'))\n",
      "  warnings.warn(error_msg, category=MindMeldVersionWarning)\n"
     ]
    },
    {
     "data": {
      "text/plain": [
       "<NaturalLanguageProcessor './hr_assistant_types' ready: False, dirty: False>"
      ]
     },
     "execution_count": 4,
     "metadata": {},
     "output_type": "execute_result"
    }
   ],
   "source": [
    "from mindmeld.components.nlp import NaturalLanguageProcessor\n",
    "nlp = NaturalLanguageProcessor(app_path='./hr_assistant_types')\n",
    "nlp"
   ]
  },
  {
   "cell_type": "code",
   "execution_count": 5,
   "metadata": {},
   "outputs": [
    {
     "data": {
      "text/plain": [
       "{'agg': <DomainProcessor 'agg' ready: False, dirty: False>,\n",
       " 'employee': <DomainProcessor 'employee' ready: False, dirty: False>,\n",
       " 'hierarchy': <DomainProcessor 'hierarchy' ready: False, dirty: False>,\n",
       " 'info': <DomainProcessor 'info' ready: False, dirty: False>}"
      ]
     },
     "execution_count": 5,
     "metadata": {},
     "output_type": "execute_result"
    }
   ],
   "source": [
    "nlp.domains"
   ]
  },
  {
   "cell_type": "code",
   "execution_count": 6,
   "metadata": {
    "scrolled": false
   },
   "outputs": [
    {
     "data": {
      "text/plain": [
       "<DomainClassifier ready: False, dirty: False>"
      ]
     },
     "execution_count": 6,
     "metadata": {},
     "output_type": "execute_result"
    }
   ],
   "source": [
    "dc = nlp.domain_classifier\n",
    "dc"
   ]
  },
  {
   "cell_type": "code",
   "execution_count": 7,
   "metadata": {},
   "outputs": [
    {
     "name": "stdout",
     "output_type": "stream",
     "text": [
      "Fitting domain classifier\n",
      "Loading raw queries from file ./hr_assistant_types/domains/agg/get_aggregate/train.txt\n",
      "Loading raw queries from file ./hr_assistant_types/domains/agg/get_date_range_aggregate/train.txt\n",
      "Loading raw queries from file ./hr_assistant_types/domains/agg/get_salary_aggregate/train.txt\n",
      "Loading raw queries from file ./hr_assistant_types/domains/employee/get date_range_employees/train.txt\n",
      "Loading raw queries from file ./hr_assistant_types/domains/employee/get_employees/train.txt\n",
      "Loading raw queries from file ./hr_assistant_types/domains/employee/get_salary_employees/train.txt\n",
      "Loading raw queries from file ./hr_assistant_types/domains/hierarchy/get_hierarchy/train.txt\n",
      "Loading raw queries from file ./hr_assistant_types/domains/info/get_date/train.txt\n",
      "Loading raw queries from file ./hr_assistant_types/domains/info/get_info/train.txt\n",
      "Loading raw queries from file ./hr_assistant_types/domains/info/get_salary/train.txt\n",
      "Loading queries from file ./hr_assistant_types/domains/agg/get_aggregate/train.txt\n",
      "Loading queries from file ./hr_assistant_types/domains/agg/get_date_range_aggregate/train.txt\n",
      "Loading queries from file ./hr_assistant_types/domains/agg/get_salary_aggregate/train.txt\n",
      "Loading queries from file ./hr_assistant_types/domains/employee/get date_range_employees/train.txt\n",
      "Loading queries from file ./hr_assistant_types/domains/employee/get_employees/train.txt\n",
      "Loading queries from file ./hr_assistant_types/domains/employee/get_salary_employees/train.txt\n",
      "Loading queries from file ./hr_assistant_types/domains/hierarchy/get_hierarchy/train.txt\n",
      "Loading queries from file ./hr_assistant_types/domains/info/get_date/train.txt\n",
      "Loading queries from file ./hr_assistant_types/domains/info/get_info/train.txt\n",
      "Loading queries from file ./hr_assistant_types/domains/info/get_salary/train.txt\n",
      "Building gazetteer 'racedesc'\n",
      "Loading entity data from './hr_assistant_types/entities/racedesc/gazetteer.txt'\n",
      "31/31 entities in entity data file exceeded popularity cutoff and were added to the gazetteer\n",
      "Loading synonyms from entity mapping\n",
      "Added 18/18 synonyms from file into gazetteer\n",
      "Building gazetteer 'employment_status'\n",
      "Loading entity data from './hr_assistant_types/entities/employment_status/gazetteer.txt'\n",
      "25/25 entities in entity data file exceeded popularity cutoff and were added to the gazetteer\n",
      "Loading synonyms from entity mapping\n",
      "Added 17/17 synonyms from file into gazetteer\n",
      "Building gazetteer 'comparator'\n",
      "Loading entity data from './hr_assistant_types/entities/comparator/gazetteer.txt'\n",
      "15/15 entities in entity data file exceeded popularity cutoff and were added to the gazetteer\n",
      "Loading synonyms from entity mapping\n",
      "Added 12/12 synonyms from file into gazetteer\n",
      "Building gazetteer 'reason_for_termination'\n",
      "Loading entity data from './hr_assistant_types/entities/reason_for_termination/gazetteer.txt'\n",
      "56/56 entities in entity data file exceeded popularity cutoff and were added to the gazetteer\n",
      "Loading synonyms from entity mapping\n",
      "Added 39/39 synonyms from file into gazetteer\n",
      "Building gazetteer 'maritaldesc'\n",
      "Loading entity data from './hr_assistant_types/entities/maritaldesc/gazetteer.txt'\n",
      "25/25 entities in entity data file exceeded popularity cutoff and were added to the gazetteer\n",
      "Loading synonyms from entity mapping\n",
      "Added 8/8 synonyms from file into gazetteer\n",
      "Building gazetteer 'extreme'\n",
      "Loading entity data from './hr_assistant_types/entities/extreme/gazetteer.txt'\n",
      "12/12 entities in entity data file exceeded popularity cutoff and were added to the gazetteer\n",
      "Loading synonyms from entity mapping\n",
      "Added 10/10 synonyms from file into gazetteer\n",
      "Building gazetteer 'sex'\n",
      "Loading entity data from './hr_assistant_types/entities/sex/gazetteer.txt'\n",
      "22/22 entities in entity data file exceeded popularity cutoff and were added to the gazetteer\n",
      "Loading synonyms from entity mapping\n",
      "Added 15/15 synonyms from file into gazetteer\n",
      "Building gazetteer 'position'\n",
      "Loading entity data from './hr_assistant_types/entities/position/gazetteer.txt'\n",
      "49/49 entities in entity data file exceeded popularity cutoff and were added to the gazetteer\n",
      "Loading synonyms from entity mapping\n",
      "Added 22/22 synonyms from file into gazetteer\n",
      "Building gazetteer 'department'\n",
      "Loading entity data from './hr_assistant_types/entities/department/gazetteer.txt'\n",
      "15/15 entities in entity data file exceeded popularity cutoff and were added to the gazetteer\n",
      "Loading synonyms from entity mapping\n",
      "Added 3/3 synonyms from file into gazetteer\n",
      "Building gazetteer 'function'\n",
      "Loading entity data from './hr_assistant_types/entities/function/gazetteer.txt'\n",
      "19/19 entities in entity data file exceeded popularity cutoff and were added to the gazetteer\n",
      "Loading synonyms from entity mapping\n",
      "Added 13/13 synonyms from file into gazetteer\n",
      "Building gazetteer 'state'\n",
      "Loading entity data from './hr_assistant_types/entities/state/gazetteer.txt'\n",
      "61/61 entities in entity data file exceeded popularity cutoff and were added to the gazetteer\n",
      "Loading synonyms from entity mapping\n",
      "Added 28/28 synonyms from file into gazetteer\n",
      "Building gazetteer 'date_time'\n",
      "Loading entity data from './hr_assistant_types/entities/date_time/gazetteer.txt'\n",
      "20/20 entities in entity data file exceeded popularity cutoff and were added to the gazetteer\n",
      "Loading synonyms from entity mapping\n",
      "Added 16/16 synonyms from file into gazetteer\n",
      "Building gazetteer 'manager'\n",
      "Loading entity data from './hr_assistant_types/entities/manager/gazetteer.txt'\n",
      "45/45 entities in entity data file exceeded popularity cutoff and were added to the gazetteer\n",
      "Loading synonyms from entity mapping\n",
      "Added 0/0 synonyms from file into gazetteer\n",
      "Building gazetteer 'zip'\n",
      "Loading entity data from './hr_assistant_types/entities/zip/gazetteer.txt'\n",
      "0/0 entities in entity data file exceeded popularity cutoff and were added to the gazetteer\n",
      "Loading synonyms from entity mapping\n",
      "Added 0/0 synonyms from file into gazetteer\n",
      "Building gazetteer 'citizendesc'\n",
      "Loading entity data from './hr_assistant_types/entities/citizendesc/gazetteer.txt'\n",
      "13/13 entities in entity data file exceeded popularity cutoff and were added to the gazetteer\n",
      "Loading synonyms from entity mapping\n",
      "Added 0/0 synonyms from file into gazetteer\n",
      "Building gazetteer 'age'\n",
      "Loading entity data from './hr_assistant_types/entities/age/gazetteer.txt'\n",
      "43/43 entities in entity data file exceeded popularity cutoff and were added to the gazetteer\n",
      "Loading synonyms from entity mapping\n",
      "Added 0/0 synonyms from file into gazetteer\n",
      "Building gazetteer 'money'\n",
      "Loading entity data from './hr_assistant_types/entities/money/gazetteer.txt'\n",
      "17/17 entities in entity data file exceeded popularity cutoff and were added to the gazetteer\n",
      "Loading synonyms from entity mapping\n",
      "Added 13/13 synonyms from file into gazetteer\n",
      "Building gazetteer 'time_interval'\n",
      "Loading entity data from './hr_assistant_types/entities/time_interval/gazetteer.txt'\n",
      "62/62 entities in entity data file exceeded popularity cutoff and were added to the gazetteer\n",
      "Loading synonyms from entity mapping\n",
      "Added 7/7 synonyms from file into gazetteer\n",
      "Building gazetteer 'performance_score'\n",
      "Loading entity data from './hr_assistant_types/entities/performance_score/gazetteer.txt'\n",
      "16/16 entities in entity data file exceeded popularity cutoff and were added to the gazetteer\n",
      "Loading synonyms from entity mapping\n",
      "Added 7/7 synonyms from file into gazetteer\n",
      "Building gazetteer 'name'\n",
      "Loading entity data from './hr_assistant_types/entities/name/gazetteer.txt'\n",
      "245/245 entities in entity data file exceeded popularity cutoff and were added to the gazetteer\n",
      "Loading synonyms from entity mapping\n",
      "Added 0/0 synonyms from file into gazetteer\n",
      "Building gazetteer 'employment_action'\n",
      "Loading entity data from './hr_assistant_types/entities/employment_action/gazetteer.txt'\n",
      "7/7 entities in entity data file exceeded popularity cutoff and were added to the gazetteer\n",
      "Loading synonyms from entity mapping\n",
      "Added 4/4 synonyms from file into gazetteer\n",
      "Building gazetteer 'employee_source'\n",
      "Loading entity data from './hr_assistant_types/entities/employee_source/gazetteer.txt'\n",
      "57/57 entities in entity data file exceeded popularity cutoff and were added to the gazetteer\n",
      "Loading synonyms from entity mapping\n",
      "Added 33/33 synonyms from file into gazetteer\n"
     ]
    }
   ],
   "source": [
    "dc.fit()"
   ]
  },
  {
   "cell_type": "code",
   "execution_count": 8,
   "metadata": {},
   "outputs": [
    {
     "name": "stdout",
     "output_type": "stream",
     "text": [
      "Loading queries from file ./hr_assistant_types/domains/agg/get_aggregate/test.txt\n",
      "Loading queries from file ./hr_assistant_types/domains/agg/get_date_range_aggregate/test.txt\n",
      "Loading queries from file ./hr_assistant_types/domains/agg/get_salary_aggregate/test.txt\n",
      "Loading queries from file ./hr_assistant_types/domains/employee/get date_range_employees/test.txt\n",
      "Loading queries from file ./hr_assistant_types/domains/employee/get_employees/test.txt\n",
      "Loading queries from file ./hr_assistant_types/domains/employee/get_salary_employees/test.txt\n",
      "Loading queries from file ./hr_assistant_types/domains/hierarchy/get_hierarchy/test.txt\n",
      "Loading queries from file ./hr_assistant_types/domains/info/get_date/test.txt\n",
      "Loading queries from file ./hr_assistant_types/domains/info/get_info/test.txt\n",
      "Loading queries from file ./hr_assistant_types/domains/info/get_salary/test.txt\n"
     ]
    },
    {
     "data": {
      "text/plain": [
       "<StandardModelEvaluation score: 92.86%, 130 of 140 examples correct>"
      ]
     },
     "execution_count": 8,
     "metadata": {},
     "output_type": "execute_result"
    }
   ],
   "source": [
    "dc.evaluate()"
   ]
  },
  {
   "cell_type": "code",
   "execution_count": 9,
   "metadata": {},
   "outputs": [
    {
     "name": "stdout",
     "output_type": "stream",
     "text": [
      "Overall statistics: \n",
      "\n",
      "    accuracy f1_weighted          tp          tn          fp          fn    f1_macro    f1_micro\n",
      "       0.929       0.928         130         410          10          10       0.919       0.929\n",
      "\n",
      "\n",
      "\n",
      "Statistics by class: \n",
      "\n",
      "               class      f_beta   precision      recall     support          tp          tn          fp          fn\n",
      "                 agg       0.907       0.919       0.895          38          34          99           3           4\n",
      "                info       0.945       0.915       0.977          44          43          92           4           1\n",
      "            employee       0.944       0.955       0.933          45          42          93           2           3\n",
      "           hierarchy       0.880       0.917       0.846          13          11         126           1           2\n",
      "\n",
      "\n",
      "\n",
      "Confusion matrix: \n",
      "\n",
      "                           agg           info       employee      hierarchy\n",
      "            agg             34              2              2              0\n",
      "           info              1             43              0              0\n",
      "       employee              2              0             42              1\n",
      "      hierarchy              0              2              0             11\n",
      "\n",
      "\n",
      "\n"
     ]
    }
   ],
   "source": [
    "dc.evaluate().print_stats()"
   ]
  },
  {
   "cell_type": "code",
   "execution_count": 8,
   "metadata": {},
   "outputs": [
    {
     "data": {
      "text/plain": [
       "<IntentClassifier ready: False, dirty: False>"
      ]
     },
     "execution_count": 8,
     "metadata": {},
     "output_type": "execute_result"
    }
   ],
   "source": [
    "# Intent classifier:\n",
    "ic_info = nlp.domains['info'].intent_classifier\n",
    "ic_info"
   ]
  },
  {
   "cell_type": "code",
   "execution_count": 9,
   "metadata": {},
   "outputs": [
    {
     "name": "stdout",
     "output_type": "stream",
     "text": [
      "Fitting intent classifier: domain='info'\n",
      "Selecting hyperparameters using k-fold cross-validation with 5 splits\n",
      "Best accuracy: 92.94%, params: {'C': 10, 'class_weight': {0: 0.995906432748538, 1: 1.0083333333333333, 2: 0.995906432748538}, 'fit_intercept': True}\n"
     ]
    }
   ],
   "source": [
    "ic_info.fit()"
   ]
  },
  {
   "cell_type": "code",
   "execution_count": 10,
   "metadata": {},
   "outputs": [
    {
     "data": {
      "text/plain": [
       "<IntentClassifier ready: False, dirty: False>"
      ]
     },
     "execution_count": 10,
     "metadata": {},
     "output_type": "execute_result"
    }
   ],
   "source": [
    "# Intent classifier:\n",
    "ic_agg = nlp.domains['agg'].intent_classifier\n",
    "ic_agg"
   ]
  },
  {
   "cell_type": "code",
   "execution_count": 11,
   "metadata": {},
   "outputs": [
    {
     "name": "stdout",
     "output_type": "stream",
     "text": [
      "Fitting intent classifier: domain='agg'\n",
      "Selecting hyperparameters using k-fold cross-validation with 5 splits\n",
      "Best accuracy: 80.67%, params: {'C': 10, 'class_weight': {0: 1.0, 1: 1.0, 2: 1.0}, 'fit_intercept': True}\n"
     ]
    }
   ],
   "source": [
    "ic_agg.fit()"
   ]
  },
  {
   "cell_type": "code",
   "execution_count": 12,
   "metadata": {
    "scrolled": true
   },
   "outputs": [
    {
     "data": {
      "text/plain": [
       "<IntentClassifier ready: False, dirty: False>"
      ]
     },
     "execution_count": 12,
     "metadata": {},
     "output_type": "execute_result"
    }
   ],
   "source": [
    "# Intent classifier:\n",
    "ic_employee = nlp.domains['employee'].intent_classifier\n",
    "ic_employee"
   ]
  },
  {
   "cell_type": "code",
   "execution_count": 13,
   "metadata": {
    "scrolled": true
   },
   "outputs": [
    {
     "name": "stdout",
     "output_type": "stream",
     "text": [
      "Fitting intent classifier: domain='employee'\n",
      "Selecting hyperparameters using k-fold cross-validation with 5 splits\n",
      "Best accuracy: 83.24%, params: {'C': 10, 'class_weight': {0: 1.019642857142857, 1: 0.9671641791044776, 2: 1.019642857142857}, 'fit_intercept': True}\n"
     ]
    }
   ],
   "source": [
    "ic_employee.fit()"
   ]
  },
  {
   "cell_type": "code",
   "execution_count": 14,
   "metadata": {
    "scrolled": true
   },
   "outputs": [
    {
     "data": {
      "text/plain": [
       "<IntentClassifier ready: False, dirty: False>"
      ]
     },
     "execution_count": 14,
     "metadata": {},
     "output_type": "execute_result"
    }
   ],
   "source": [
    "# Intent classifier:\n",
    "ic_hierarchy = nlp.domains['hierarchy'].intent_classifier\n",
    "ic_hierarchy"
   ]
  },
  {
   "cell_type": "code",
   "execution_count": null,
   "metadata": {
    "scrolled": true
   },
   "outputs": [],
   "source": [
    "ic_hierarchy.fit()"
   ]
  },
  {
   "cell_type": "code",
   "execution_count": null,
   "metadata": {},
   "outputs": [],
   "source": [
    "# nlp.inspect('is Mia married', domain='hr_assistant')"
   ]
  },
  {
   "cell_type": "code",
   "execution_count": null,
   "metadata": {
    "scrolled": false
   },
   "outputs": [],
   "source": [
    "nlp.build()"
   ]
  },
  {
   "cell_type": "code",
   "execution_count": null,
   "metadata": {},
   "outputs": [],
   "source": [
    "nlp.domains['hr_assistant'].intents['get_info'].entities\n",
    "\n"
   ]
  },
  {
   "cell_type": "code",
   "execution_count": null,
   "metadata": {},
   "outputs": [],
   "source": [
    "nlp.domains['hr_assistant'].intents['get_date_range_aggregate'].entities"
   ]
  },
  {
   "cell_type": "code",
   "execution_count": null,
   "metadata": {},
   "outputs": [],
   "source": []
  }
 ],
 "metadata": {
  "kernelspec": {
   "display_name": "Python 3",
   "language": "python",
   "name": "python3"
  },
  "language_info": {
   "codemirror_mode": {
    "name": "ipython",
    "version": 3
   },
   "file_extension": ".py",
   "mimetype": "text/x-python",
   "name": "python",
   "nbconvert_exporter": "python",
   "pygments_lexer": "ipython3",
   "version": "3.6.8"
  }
 },
 "nbformat": 4,
 "nbformat_minor": 2
}
