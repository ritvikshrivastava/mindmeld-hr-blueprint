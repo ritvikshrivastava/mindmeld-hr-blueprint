{
 "cells": [
  {
   "cell_type": "code",
   "execution_count": 1,
   "metadata": {},
   "outputs": [
    {
     "name": "stderr",
     "output_type": "stream",
     "text": [
      "/anaconda3/envs/mm_workspace/lib/python3.6/site-packages/sklearn/ensemble/weight_boosting.py:29: DeprecationWarning: numpy.core.umath_tests is an internal NumPy module and should not be imported. It will be removed in a future NumPy release.\n",
      "  from numpy.core.umath_tests import inner1d\n"
     ]
    }
   ],
   "source": [
    "from mindmeld import configure_logs; configure_logs()"
   ]
  },
  {
   "cell_type": "code",
   "execution_count": 2,
   "metadata": {},
   "outputs": [],
   "source": [
    "import logging\n",
    "logger = logging.getLogger()\n",
    "logger.setLevel(logging.INFO)\n",
    "logging.debug(\"test\")"
   ]
  },
  {
   "cell_type": "code",
   "execution_count": 3,
   "metadata": {},
   "outputs": [
    {
     "name": "stdout",
     "output_type": "stream",
     "text": [
      "/Users/ritvshri/Documents/mm/mindmeld-hr-blueprint\r\n"
     ]
    },
    {
     "name": "stderr",
     "output_type": "stream",
     "text": [
      "/anaconda3/envs/mm_workspace/lib/python3.6/site-packages/mindmeld/_version.py:64: MindMeldVersionWarning: Current mindmeld (4.1.1) does not satisfy mindmeld==4.1.0 in pip requirements caused by (mindmeld 4.1.1 (/anaconda3/envs/mm_workspace/lib/python3.6/site-packages), Requirement.parse('mindmeld==4.1.0'))\n",
      "  warnings.warn(error_msg, category=MindMeldVersionWarning)\n"
     ]
    },
    {
     "data": {
      "text/plain": [
       "<NaturalLanguageProcessor './hr_assistant_categories' ready: False, dirty: False>"
      ]
     },
     "execution_count": 3,
     "metadata": {},
     "output_type": "execute_result"
    }
   ],
   "source": [
    "!pwd\n",
    "\n",
    "from mindmeld.components.nlp import NaturalLanguageProcessor\n",
    "nlp = NaturalLanguageProcessor(app_path='./hr_assistant_categories')\n",
    "nlp"
   ]
  },
  {
   "cell_type": "code",
   "execution_count": 4,
   "metadata": {},
   "outputs": [
    {
     "data": {
      "text/plain": [
       "{'date': <DomainProcessor 'date' ready: False, dirty: False>,\n",
       " 'hierarchy': <DomainProcessor 'hierarchy' ready: False, dirty: False>,\n",
       " 'general': <DomainProcessor 'general' ready: False, dirty: False>}"
      ]
     },
     "execution_count": 4,
     "metadata": {},
     "output_type": "execute_result"
    }
   ],
   "source": [
    "nlp.domains"
   ]
  },
  {
   "cell_type": "code",
   "execution_count": 5,
   "metadata": {
    "scrolled": false
   },
   "outputs": [
    {
     "data": {
      "text/plain": [
       "<DomainClassifier ready: False, dirty: False>"
      ]
     },
     "execution_count": 5,
     "metadata": {},
     "output_type": "execute_result"
    }
   ],
   "source": [
    "dc = nlp.domain_classifier\n",
    "dc"
   ]
  },
  {
   "cell_type": "code",
   "execution_count": 6,
   "metadata": {},
   "outputs": [
    {
     "name": "stdout",
     "output_type": "stream",
     "text": [
      "Fitting domain classifier\n",
      "Loading raw queries from file ./hr_assistant_categories/domains/date/get date_range_employees/train.txt\n",
      "Loading raw queries from file ./hr_assistant_categories/domains/date/get_date/train.txt\n",
      "Loading raw queries from file ./hr_assistant_categories/domains/date/get_date_range_aggregate/train.txt\n",
      "Loading raw queries from file ./hr_assistant_categories/domains/general/get_aggregate/train.txt\n",
      "Loading raw queries from file ./hr_assistant_categories/domains/general/get_employees/train.txt\n",
      "Loading raw queries from file ./hr_assistant_categories/domains/general/get_info/train.txt\n",
      "Loading raw queries from file ./hr_assistant_categories/domains/hierarchy/get_hierarchy/train.txt\n",
      "Loading queries from file ./hr_assistant_categories/domains/date/get date_range_employees/train.txt\n",
      "Loading queries from file ./hr_assistant_categories/domains/date/get_date/train.txt\n",
      "Loading queries from file ./hr_assistant_categories/domains/date/get_date_range_aggregate/train.txt\n",
      "Loading queries from file ./hr_assistant_categories/domains/general/get_aggregate/train.txt\n",
      "Loading queries from file ./hr_assistant_categories/domains/general/get_employees/train.txt\n",
      "Loading queries from file ./hr_assistant_categories/domains/general/get_info/train.txt\n",
      "Loading queries from file ./hr_assistant_categories/domains/hierarchy/get_hierarchy/train.txt\n",
      "Selecting hyperparameters using k-fold cross-validation with 100 splits\n",
      "Best accuracy: 93.69%, params: {'C': 1000, 'fit_intercept': False, 'penalty': 'l1'}\n"
     ]
    }
   ],
   "source": [
    "dc.fit(model_settings={'classifier_type': \"logreg\"}, param_selection={'grid':{\n",
    "  'penalty': ['l1', 'l2'],\n",
    "  'C': [0.1, 1, 10, 100, 1000, 10000, 100000],\n",
    "   'fit_intercept': [True, False]\n",
    "},'type':'k-fold','k' : 100})"
   ]
  },
  {
   "cell_type": "code",
   "execution_count": 7,
   "metadata": {},
   "outputs": [],
   "source": [
    "# # Intent classifier:\n",
    "# ic_salary = nlp.domains['salary'].intent_classifier\n",
    "# ic_salary"
   ]
  },
  {
   "cell_type": "code",
   "execution_count": 8,
   "metadata": {},
   "outputs": [],
   "source": [
    "# ic_salary.fit()"
   ]
  },
  {
   "cell_type": "code",
   "execution_count": 9,
   "metadata": {},
   "outputs": [
    {
     "data": {
      "text/plain": [
       "<IntentClassifier ready: False, dirty: False>"
      ]
     },
     "execution_count": 9,
     "metadata": {},
     "output_type": "execute_result"
    }
   ],
   "source": [
    "# Intent classifier:\n",
    "ic_general = nlp.domains['general'].intent_classifier\n",
    "ic_general"
   ]
  },
  {
   "cell_type": "code",
   "execution_count": 10,
   "metadata": {},
   "outputs": [
    {
     "name": "stdout",
     "output_type": "stream",
     "text": [
      "Fitting intent classifier: domain='general'\n",
      "Selecting hyperparameters using k-fold cross-validation with 5 splits\n",
      "Best accuracy: 94.85%, params: {'C': 1, 'class_weight': {0: 0.7175438596491228, 1: 8.233333333333334, 2: 0.8666666666666667}, 'fit_intercept': True}\n"
     ]
    }
   ],
   "source": [
    "ic_general.fit()"
   ]
  },
  {
   "cell_type": "code",
   "execution_count": 11,
   "metadata": {
    "scrolled": true
   },
   "outputs": [
    {
     "data": {
      "text/plain": [
       "<IntentClassifier ready: False, dirty: False>"
      ]
     },
     "execution_count": 11,
     "metadata": {},
     "output_type": "execute_result"
    }
   ],
   "source": [
    "# Intent classifier:\n",
    "ic_date = nlp.domains['date'].intent_classifier\n",
    "ic_date"
   ]
  },
  {
   "cell_type": "code",
   "execution_count": 12,
   "metadata": {
    "scrolled": true
   },
   "outputs": [
    {
     "name": "stdout",
     "output_type": "stream",
     "text": [
      "Fitting intent classifier: domain='date'\n",
      "Selecting hyperparameters using k-fold cross-validation with 5 splits\n",
      "Best accuracy: 91.67%, params: {'C': 100, 'class_weight': {0: 0.85, 1: 0.8403508771929824, 2: 1.9210526315789473}, 'fit_intercept': True}\n"
     ]
    }
   ],
   "source": [
    "ic_date.fit()"
   ]
  },
  {
   "cell_type": "code",
   "execution_count": 13,
   "metadata": {
    "scrolled": true
   },
   "outputs": [
    {
     "data": {
      "text/plain": [
       "<IntentClassifier ready: False, dirty: False>"
      ]
     },
     "execution_count": 13,
     "metadata": {},
     "output_type": "execute_result"
    }
   ],
   "source": [
    "# Intent classifier:\n",
    "ic_hierarchy = nlp.domains['hierarchy'].intent_classifier\n",
    "ic_hierarchy"
   ]
  },
  {
   "cell_type": "code",
   "execution_count": 14,
   "metadata": {
    "scrolled": true
   },
   "outputs": [
    {
     "name": "stdout",
     "output_type": "stream",
     "text": [
      "Fitting intent classifier: domain='hierarchy'\n",
      "Not doing anything for fit since there is only one class.\n"
     ]
    }
   ],
   "source": [
    "ic_hierarchy.fit()"
   ]
  },
  {
   "cell_type": "code",
   "execution_count": 74,
   "metadata": {},
   "outputs": [
    {
     "name": "stdout",
     "output_type": "stream",
     "text": [
      "Fitting entity recognizer: domain='general', intent='get_info'\n",
      "No entity model configuration set. Using default.\n",
      "Selecting hyperparameters using k-fold cross-validation with 5 splits\n",
      "Best accuracy: 93.14%, params: {'C': 10000, 'penalty': 'l1'}\n"
     ]
    }
   ],
   "source": [
    "er = nlp.domains['general'].intents['get_info'].entity_recognizer\n",
    "er.fit()"
   ]
  },
  {
   "cell_type": "code",
   "execution_count": 75,
   "metadata": {},
   "outputs": [
    {
     "name": "stdout",
     "output_type": "stream",
     "text": [
      "No entity model configuration set. Using default.\n"
     ]
    },
    {
     "name": "stderr",
     "output_type": "stream",
     "text": [
      "/anaconda3/envs/mm_workspace/lib/python3.6/site-packages/sklearn/metrics/classification.py:1135: UndefinedMetricWarning: F-score is ill-defined and being set to 0.0 in labels with no predicted samples.\n",
      "  'precision', 'predicted', average, warn_for)\n",
      "/anaconda3/envs/mm_workspace/lib/python3.6/site-packages/sklearn/metrics/classification.py:1137: UndefinedMetricWarning: F-score is ill-defined and being set to 0.0 in labels with no true samples.\n",
      "  'recall', 'true', average, warn_for)\n",
      "/anaconda3/envs/mm_workspace/lib/python3.6/site-packages/sklearn/metrics/classification.py:1135: UndefinedMetricWarning: Precision and F-score are ill-defined and being set to 0.0 in labels with no predicted samples.\n",
      "  'precision', 'predicted', average, warn_for)\n",
      "/anaconda3/envs/mm_workspace/lib/python3.6/site-packages/sklearn/metrics/classification.py:1137: UndefinedMetricWarning: Recall and F-score are ill-defined and being set to 0.0 in labels with no true samples.\n",
      "  'recall', 'true', average, warn_for)\n"
     ]
    },
    {
     "data": {
      "text/plain": [
       "{'stats_overall': {'f1_weighted': 0.935840768702814,\n",
       "  'f1_macro': 0.5606484295845998,\n",
       "  'f1_micro': 0.946236559139785,\n",
       "  'accuracy': 0.946236559139785,\n",
       "  'tp': 88,\n",
       "  'tn': 553.0,\n",
       "  'fp': 5.0,\n",
       "  'fn': 5.0},\n",
       " 'class_labels': ['O|',\n",
       "  'B|name',\n",
       "  'I|name',\n",
       "  'B|age',\n",
       "  'B|manager',\n",
       "  'B|money',\n",
       "  'B|citizendesc'],\n",
       " 'class_stats': {'precision': array([0.94444444, 1.        , 1.        , 1.        , 0.        ,\n",
       "         0.        , 0.        ]),\n",
       "  'recall': array([0.98550725, 0.92307692, 1.        , 1.        , 0.        ,\n",
       "         0.        , 0.        ]),\n",
       "  'f_beta': array([0.96453901, 0.96      , 1.        , 1.        , 0.        ,\n",
       "         0.        , 0.        ]),\n",
       "  'support': array([69, 13,  6,  2,  2,  0,  1]),\n",
       "  'tp': [68, 12, 6, 2, 0, 0, 0],\n",
       "  'tn': [20.0, 80.0, 87.0, 91.0, 91.0, 92.0, 92.0],\n",
       "  'fp': [4.0, 0.0, 0.0, 0.0, 0.0, 1.0, 0.0],\n",
       "  'fn': [1.0, 1.0, 0.0, 0.0, 2.0, 0.0, 1.0]},\n",
       " 'confusion_matrix': array([[68,  0,  0,  0,  0,  1,  0],\n",
       "        [ 1, 12,  0,  0,  0,  0,  0],\n",
       "        [ 0,  0,  6,  0,  0,  0,  0],\n",
       "        [ 0,  0,  0,  2,  0,  0,  0],\n",
       "        [ 2,  0,  0,  0,  0,  0,  0],\n",
       "        [ 0,  0,  0,  0,  0,  0,  0],\n",
       "        [ 1,  0,  0,  0,  0,  0,  0]]),\n",
       " 'sequence_stats': {'sequence_accuracy': 0.6428571428571429},\n",
       " 'boundary_stats': {'le': 0,\n",
       "  'be': 0,\n",
       "  'lbe': 0,\n",
       "  'tp': 14,\n",
       "  'tn': 30,\n",
       "  'fp': 1,\n",
       "  'fn': 4}}"
      ]
     },
     "execution_count": 75,
     "metadata": {},
     "output_type": "execute_result"
    }
   ],
   "source": [
    "er.evaluate().get_stats()"
   ]
  },
  {
   "cell_type": "code",
   "execution_count": 15,
   "metadata": {},
   "outputs": [],
   "source": [
    "# nlp.inspect('is Mia married', domain='hr_assistant')"
   ]
  },
  {
   "cell_type": "code",
   "execution_count": 16,
   "metadata": {
    "scrolled": true
   },
   "outputs": [
    {
     "name": "stdout",
     "output_type": "stream",
     "text": [
      "Fitting domain classifier\n",
      "Fitting intent classifier: domain='date'\n",
      "Selecting hyperparameters using k-fold cross-validation with 5 splits\n",
      "Best accuracy: 90.91%, params: {'C': 10, 'class_weight': {0: 0.85, 1: 0.8403508771929824, 2: 1.9210526315789473}, 'fit_intercept': True}\n",
      "Fitting entity recognizer: domain='date', intent='get date_range_employees'\n",
      "No entity model configuration set. Using default.\n",
      "Selecting hyperparameters using k-fold cross-validation with 5 splits\n",
      "Best accuracy: 82.95%, params: {'C': 100, 'penalty': 'l1'}\n",
      "No entity_resolution model configuration set. Using default.\n",
      "No entity_resolution model configuration set. Using default.\n",
      "No entity_resolution model configuration set. Using default.\n",
      "No entity_resolution model configuration set. Using default.\n",
      "No entity_resolution model configuration set. Using default.\n",
      "No entity_resolution model configuration set. Using default.\n",
      "No entity_resolution model configuration set. Using default.\n",
      "No entity_resolution model configuration set. Using default.\n",
      "No entity_resolution model configuration set. Using default.\n",
      "No entity_resolution model configuration set. Using default.\n",
      "No entity_resolution model configuration set. Using default.\n",
      "No entity_resolution model configuration set. Using default.\n",
      "No entity_resolution model configuration set. Using default.\n",
      "No entity_resolution model configuration set. Using default.\n",
      "No entity_resolution model configuration set. Using default.\n",
      "No entity_resolution model configuration set. Using default.\n",
      "No entity_resolution model configuration set. Using default.\n",
      "Fitting role classifier: domain='date', intent='get date_range_employees', entity_type='employment_action'\n",
      "No role model configuration set. Using default.\n",
      "Importing synonym data to synonym index 'synonym_employment_action'\n",
      "GET http://localhost:9200/_cluster/health [status:200 request:0.004s]\n",
      "HEAD http://localhost:9200/hr_assistant_categories%24synonym_employment_action [status:200 request:0.001s]\n",
      "Elasticsearch index 'synonym_employment_action' for application 'hr_assistant_categories' already exists!\n",
      "Loading index 'synonym_employment_action'\n"
     ]
    },
    {
     "name": "stderr",
     "output_type": "stream",
     "text": [
      "\r",
      "  0%|          | 0/2 [00:00<?, ?it/s]"
     ]
    },
    {
     "name": "stdout",
     "output_type": "stream",
     "text": [
      "POST http://localhost:9200/hr_assistant_categories%24synonym_employment_action/document/_bulk [status:200 request:0.028s]\n"
     ]
    },
    {
     "name": "stderr",
     "output_type": "stream",
     "text": [
      "\r",
      "100%|██████████| 2/2 [00:00<00:00, 67.67it/s]"
     ]
    },
    {
     "name": "stdout",
     "output_type": "stream",
     "text": [
      "Loaded 2 documents\n",
      "Fitting role classifier: domain='date', intent='get date_range_employees', entity_type='sex'\n",
      "No role model configuration set. Using default.\n",
      "Importing synonym data to synonym index 'synonym_sex'\n",
      "GET http://localhost:9200/_cluster/health [status:200 request:0.003s]\n",
      "HEAD http://localhost:9200/hr_assistant_categories%24synonym_sex [status:200 request:0.001s]\n",
      "Elasticsearch index 'synonym_sex' for application 'hr_assistant_categories' already exists!\n",
      "Loading index 'synonym_sex'\n"
     ]
    },
    {
     "name": "stderr",
     "output_type": "stream",
     "text": [
      "\n",
      "\r",
      "  0%|          | 0/2 [00:00<?, ?it/s]"
     ]
    },
    {
     "name": "stdout",
     "output_type": "stream",
     "text": [
      "POST http://localhost:9200/hr_assistant_categories%24synonym_sex/document/_bulk [status:200 request:0.022s]\n"
     ]
    },
    {
     "name": "stderr",
     "output_type": "stream",
     "text": [
      "\r",
      "100%|██████████| 2/2 [00:00<00:00, 88.34it/s]"
     ]
    },
    {
     "name": "stdout",
     "output_type": "stream",
     "text": [
      "Loaded 2 documents\n",
      "Fitting role classifier: domain='date', intent='get date_range_employees', entity_type='state'\n",
      "No role model configuration set. Using default.\n",
      "Importing synonym data to synonym index 'synonym_state'\n",
      "GET http://localhost:9200/_cluster/health [status:200 request:0.003s]\n",
      "HEAD http://localhost:9200/hr_assistant_categories%24synonym_state [status:200 request:0.001s]\n",
      "Elasticsearch index 'synonym_state' for application 'hr_assistant_categories' already exists!\n",
      "Loading index 'synonym_state'\n"
     ]
    },
    {
     "name": "stderr",
     "output_type": "stream",
     "text": [
      "\n",
      "\r",
      "  0%|          | 0/28 [00:00<?, ?it/s]"
     ]
    },
    {
     "name": "stdout",
     "output_type": "stream",
     "text": [
      "POST http://localhost:9200/hr_assistant_categories%24synonym_state/document/_bulk [status:200 request:0.035s]\n"
     ]
    },
    {
     "name": "stderr",
     "output_type": "stream",
     "text": [
      "\r",
      "100%|██████████| 28/28 [00:00<00:00, 747.89it/s]"
     ]
    },
    {
     "name": "stdout",
     "output_type": "stream",
     "text": [
      "Loaded 28 documents\n",
      "Fitting role classifier: domain='date', intent='get date_range_employees', entity_type='age'\n",
      "No role model configuration set. Using default.\n",
      "Importing synonym data to synonym index 'synonym_age'\n",
      "GET http://localhost:9200/_cluster/health [status:200 request:0.003s]\n",
      "HEAD http://localhost:9200/hr_assistant_categories%24synonym_age [status:200 request:0.001s]\n",
      "Elasticsearch index 'synonym_age' for application 'hr_assistant_categories' already exists!\n",
      "Loading index 'synonym_age'\n"
     ]
    },
    {
     "name": "stderr",
     "output_type": "stream",
     "text": [
      "\n",
      "\r",
      "  0%|          | 0/39 [00:00<?, ?it/s]"
     ]
    },
    {
     "name": "stdout",
     "output_type": "stream",
     "text": [
      "POST http://localhost:9200/hr_assistant_categories%24synonym_age/document/_bulk [status:200 request:0.036s]\n"
     ]
    },
    {
     "name": "stderr",
     "output_type": "stream",
     "text": [
      "\r",
      "100%|██████████| 39/39 [00:00<00:00, 1001.05it/s]"
     ]
    },
    {
     "name": "stdout",
     "output_type": "stream",
     "text": [
      "Loaded 39 documents\n",
      "Fitting role classifier: domain='date', intent='get date_range_employees', entity_type='maritaldesc'\n",
      "No role model configuration set. Using default.\n",
      "Importing synonym data to synonym index 'synonym_maritaldesc'\n",
      "GET http://localhost:9200/_cluster/health [status:200 request:0.003s]\n",
      "HEAD http://localhost:9200/hr_assistant_categories%24synonym_maritaldesc [status:200 request:0.001s]\n",
      "Elasticsearch index 'synonym_maritaldesc' for application 'hr_assistant_categories' already exists!\n",
      "Loading index 'synonym_maritaldesc'\n"
     ]
    },
    {
     "name": "stderr",
     "output_type": "stream",
     "text": [
      "\n",
      "\r",
      "  0%|          | 0/5 [00:00<?, ?it/s]"
     ]
    },
    {
     "name": "stdout",
     "output_type": "stream",
     "text": [
      "POST http://localhost:9200/hr_assistant_categories%24synonym_maritaldesc/document/_bulk [status:200 request:0.034s]\n"
     ]
    },
    {
     "name": "stderr",
     "output_type": "stream",
     "text": [
      "\r",
      "100%|██████████| 5/5 [00:00<00:00, 139.12it/s]"
     ]
    },
    {
     "name": "stdout",
     "output_type": "stream",
     "text": [
      "Loaded 5 documents\n",
      "Fitting role classifier: domain='date', intent='get date_range_employees', entity_type='position'\n"
     ]
    },
    {
     "name": "stderr",
     "output_type": "stream",
     "text": [
      "\n"
     ]
    },
    {
     "name": "stdout",
     "output_type": "stream",
     "text": [
      "No role model configuration set. Using default.\n",
      "Importing synonym data to synonym index 'synonym_position'\n",
      "GET http://localhost:9200/_cluster/health [status:200 request:0.003s]\n",
      "HEAD http://localhost:9200/hr_assistant_categories%24synonym_position [status:200 request:0.001s]\n",
      "Elasticsearch index 'synonym_position' for application 'hr_assistant_categories' already exists!\n",
      "Loading index 'synonym_position'\n"
     ]
    },
    {
     "name": "stderr",
     "output_type": "stream",
     "text": [
      "\r",
      "  0%|          | 0/24 [00:00<?, ?it/s]"
     ]
    },
    {
     "name": "stdout",
     "output_type": "stream",
     "text": [
      "POST http://localhost:9200/hr_assistant_categories%24synonym_position/document/_bulk [status:200 request:0.042s]\n"
     ]
    },
    {
     "name": "stderr",
     "output_type": "stream",
     "text": [
      "\r",
      "100%|██████████| 24/24 [00:00<00:00, 545.23it/s]"
     ]
    },
    {
     "name": "stdout",
     "output_type": "stream",
     "text": [
      "Loaded 24 documents\n",
      "Fitting role classifier: domain='date', intent='get date_range_employees', entity_type='sys_interval'\n",
      "No role model configuration set. Using default.\n",
      "Fitting role classifier: domain='date', intent='get date_range_employees', entity_type='department'\n",
      "No role model configuration set. Using default.\n",
      "Importing synonym data to synonym index 'synonym_department'\n",
      "GET http://localhost:9200/_cluster/health [status:200 request:0.003s]\n",
      "HEAD http://localhost:9200/hr_assistant_categories%24synonym_department [status:200 request:0.001s]\n",
      "Elasticsearch index 'synonym_department' for application 'hr_assistant_categories' already exists!\n",
      "Loading index 'synonym_department'\n"
     ]
    },
    {
     "name": "stderr",
     "output_type": "stream",
     "text": [
      "\n",
      "\r",
      "  0%|          | 0/6 [00:00<?, ?it/s]"
     ]
    },
    {
     "name": "stdout",
     "output_type": "stream",
     "text": [
      "POST http://localhost:9200/hr_assistant_categories%24synonym_department/document/_bulk [status:200 request:0.035s]\n"
     ]
    },
    {
     "name": "stderr",
     "output_type": "stream",
     "text": [
      "\r",
      "100%|██████████| 6/6 [00:00<00:00, 162.05it/s]"
     ]
    },
    {
     "name": "stdout",
     "output_type": "stream",
     "text": [
      "Loaded 6 documents\n",
      "Fitting role classifier: domain='date', intent='get date_range_employees', entity_type='comparator'\n",
      "No role model configuration set. Using default.\n",
      "Importing synonym data to synonym index 'synonym_comparator'\n",
      "GET http://localhost:9200/_cluster/health [status:200 request:0.003s]\n",
      "HEAD http://localhost:9200/hr_assistant_categories%24synonym_comparator [status:200 request:0.001s]\n",
      "Elasticsearch index 'synonym_comparator' for application 'hr_assistant_categories' already exists!\n",
      "Loading index 'synonym_comparator'\n"
     ]
    },
    {
     "name": "stderr",
     "output_type": "stream",
     "text": [
      "\n",
      "\r",
      "  0%|          | 0/3 [00:00<?, ?it/s]"
     ]
    },
    {
     "name": "stdout",
     "output_type": "stream",
     "text": [
      "POST http://localhost:9200/hr_assistant_categories%24synonym_comparator/document/_bulk [status:200 request:0.027s]\n"
     ]
    },
    {
     "name": "stderr",
     "output_type": "stream",
     "text": [
      "\r",
      "100%|██████████| 3/3 [00:00<00:00, 105.02it/s]"
     ]
    },
    {
     "name": "stdout",
     "output_type": "stream",
     "text": [
      "Loaded 3 documents\n",
      "Fitting role classifier: domain='date', intent='get date_range_employees', entity_type='racedesc'\n",
      "No role model configuration set. Using default.\n",
      "Importing synonym data to synonym index 'synonym_racedesc'\n",
      "GET http://localhost:9200/_cluster/health [status:200 request:0.003s]\n",
      "HEAD http://localhost:9200/hr_assistant_categories%24synonym_racedesc [status:200 request:0.001s]\n",
      "Elasticsearch index 'synonym_racedesc' for application 'hr_assistant_categories' already exists!\n",
      "Loading index 'synonym_racedesc'\n"
     ]
    },
    {
     "name": "stderr",
     "output_type": "stream",
     "text": [
      "\n",
      "\r",
      "  0%|          | 0/6 [00:00<?, ?it/s]"
     ]
    },
    {
     "name": "stdout",
     "output_type": "stream",
     "text": [
      "POST http://localhost:9200/hr_assistant_categories%24synonym_racedesc/document/_bulk [status:200 request:0.030s]\n"
     ]
    },
    {
     "name": "stderr",
     "output_type": "stream",
     "text": [
      "\r",
      "100%|██████████| 6/6 [00:00<00:00, 185.21it/s]"
     ]
    },
    {
     "name": "stdout",
     "output_type": "stream",
     "text": [
      "Loaded 6 documents\n",
      "Fitting role classifier: domain='date', intent='get date_range_employees', entity_type='time_interval'\n",
      "No role model configuration set. Using default.\n"
     ]
    },
    {
     "name": "stderr",
     "output_type": "stream",
     "text": [
      "\n"
     ]
    },
    {
     "name": "stdout",
     "output_type": "stream",
     "text": [
      "Importing synonym data to synonym index 'synonym_time_interval'\n",
      "GET http://localhost:9200/_cluster/health [status:200 request:0.003s]\n",
      "HEAD http://localhost:9200/hr_assistant_categories%24synonym_time_interval [status:200 request:0.001s]\n",
      "Elasticsearch index 'synonym_time_interval' for application 'hr_assistant_categories' already exists!\n",
      "Loading index 'synonym_time_interval'\n"
     ]
    },
    {
     "name": "stderr",
     "output_type": "stream",
     "text": [
      "\r",
      "  0%|          | 0/1 [00:00<?, ?it/s]"
     ]
    },
    {
     "name": "stdout",
     "output_type": "stream",
     "text": [
      "POST http://localhost:9200/hr_assistant_categories%24synonym_time_interval/document/_bulk [status:200 request:0.014s]\n"
     ]
    },
    {
     "name": "stderr",
     "output_type": "stream",
     "text": [
      "\r",
      "100%|██████████| 1/1 [00:00<00:00, 65.53it/s]"
     ]
    },
    {
     "name": "stdout",
     "output_type": "stream",
     "text": [
      "Loaded 1 document\n",
      "Fitting role classifier: domain='date', intent='get date_range_employees', entity_type='sys_time'\n",
      "No role model configuration set. Using default.\n",
      "Fitting role classifier: domain='date', intent='get date_range_employees', entity_type='citizendesc'\n",
      "No role model configuration set. Using default.\n",
      "Importing synonym data to synonym index 'synonym_citizendesc'\n",
      "GET http://localhost:9200/_cluster/health [status:200 request:0.002s]\n",
      "HEAD http://localhost:9200/hr_assistant_categories%24synonym_citizendesc [status:200 request:0.001s]\n",
      "Elasticsearch index 'synonym_citizendesc' for application 'hr_assistant_categories' already exists!\n",
      "Loading index 'synonym_citizendesc'\n"
     ]
    },
    {
     "name": "stderr",
     "output_type": "stream",
     "text": [
      "\n",
      "\r",
      "  0%|          | 0/3 [00:00<?, ?it/s]"
     ]
    },
    {
     "name": "stdout",
     "output_type": "stream",
     "text": [
      "POST http://localhost:9200/hr_assistant_categories%24synonym_citizendesc/document/_bulk [status:200 request:0.031s]\n"
     ]
    },
    {
     "name": "stderr",
     "output_type": "stream",
     "text": [
      "\r",
      "100%|██████████| 3/3 [00:00<00:00, 92.90it/s]"
     ]
    },
    {
     "name": "stdout",
     "output_type": "stream",
     "text": [
      "Loaded 3 documents\n",
      "Fitting role classifier: domain='date', intent='get date_range_employees', entity_type='date_time'\n",
      "No role model configuration set. Using default.\n",
      "Importing synonym data to synonym index 'synonym_date_time'\n",
      "GET http://localhost:9200/_cluster/health [status:200 request:0.002s]\n",
      "HEAD http://localhost:9200/hr_assistant_categories%24synonym_date_time [status:200 request:0.001s]\n",
      "Elasticsearch index 'synonym_date_time' for application 'hr_assistant_categories' already exists!\n",
      "Loading index 'synonym_date_time'\n"
     ]
    },
    {
     "name": "stderr",
     "output_type": "stream",
     "text": [
      "\n",
      "\r",
      "  0%|          | 0/3 [00:00<?, ?it/s]"
     ]
    },
    {
     "name": "stdout",
     "output_type": "stream",
     "text": [
      "POST http://localhost:9200/hr_assistant_categories%24synonym_date_time/document/_bulk [status:200 request:0.028s]\n"
     ]
    },
    {
     "name": "stderr",
     "output_type": "stream",
     "text": [
      "\r",
      "100%|██████████| 3/3 [00:00<00:00, 99.79it/s]"
     ]
    },
    {
     "name": "stdout",
     "output_type": "stream",
     "text": [
      "Loaded 3 documents\n",
      "Fitting role classifier: domain='date', intent='get date_range_employees', entity_type='sys_number'\n",
      "No role model configuration set. Using default.\n",
      "Fitting role classifier: domain='date', intent='get date_range_employees', entity_type='sys_duration'\n",
      "No role model configuration set. Using default.\n",
      "Fitting role classifier: domain='date', intent='get date_range_employees', entity_type='extreme'\n",
      "No role model configuration set. Using default.\n",
      "Importing synonym data to synonym index 'synonym_extreme'\n",
      "GET http://localhost:9200/_cluster/health [status:200 request:0.003s]\n",
      "HEAD http://localhost:9200/hr_assistant_categories%24synonym_extreme [status:200 request:0.002s]\n",
      "Elasticsearch index 'synonym_extreme' for application 'hr_assistant_categories' already exists!\n",
      "Loading index 'synonym_extreme'\n"
     ]
    },
    {
     "name": "stderr",
     "output_type": "stream",
     "text": [
      "\n",
      "\r",
      "  0%|          | 0/2 [00:00<?, ?it/s]"
     ]
    },
    {
     "name": "stdout",
     "output_type": "stream",
     "text": [
      "POST http://localhost:9200/hr_assistant_categories%24synonym_extreme/document/_bulk [status:200 request:0.036s]\n"
     ]
    },
    {
     "name": "stderr",
     "output_type": "stream",
     "text": [
      "\r",
      "100%|██████████| 2/2 [00:00<00:00, 53.92it/s]"
     ]
    },
    {
     "name": "stdout",
     "output_type": "stream",
     "text": [
      "Loaded 2 documents\n",
      "Fitting entity recognizer: domain='date', intent='get_date'\n",
      "No entity model configuration set. Using default.\n"
     ]
    },
    {
     "name": "stderr",
     "output_type": "stream",
     "text": [
      "\n"
     ]
    },
    {
     "name": "stdout",
     "output_type": "stream",
     "text": [
      "Selecting hyperparameters using k-fold cross-validation with 5 splits\n",
      "Best accuracy: 88.51%, params: {'C': 1000000, 'penalty': 'l2'}\n",
      "No entity_resolution model configuration set. Using default.\n",
      "No entity_resolution model configuration set. Using default.\n",
      "No entity_resolution model configuration set. Using default.\n",
      "No entity_resolution model configuration set. Using default.\n",
      "No entity_resolution model configuration set. Using default.\n",
      "Fitting role classifier: domain='date', intent='get_date', entity_type='employment_action'\n",
      "No role model configuration set. Using default.\n",
      "Importing synonym data to synonym index 'synonym_employment_action'\n",
      "GET http://localhost:9200/_cluster/health [status:200 request:0.003s]\n",
      "HEAD http://localhost:9200/hr_assistant_categories%24synonym_employment_action [status:200 request:0.001s]\n",
      "Elasticsearch index 'synonym_employment_action' for application 'hr_assistant_categories' already exists!\n",
      "Loading index 'synonym_employment_action'\n"
     ]
    },
    {
     "name": "stderr",
     "output_type": "stream",
     "text": [
      "\r",
      "  0%|          | 0/2 [00:00<?, ?it/s]"
     ]
    },
    {
     "name": "stdout",
     "output_type": "stream",
     "text": [
      "POST http://localhost:9200/hr_assistant_categories%24synonym_employment_action/document/_bulk [status:200 request:0.026s]\n"
     ]
    },
    {
     "name": "stderr",
     "output_type": "stream",
     "text": [
      "\r",
      "100%|██████████| 2/2 [00:00<00:00, 72.62it/s]"
     ]
    },
    {
     "name": "stdout",
     "output_type": "stream",
     "text": [
      "Loaded 2 documents\n",
      "Fitting role classifier: domain='date', intent='get_date', entity_type='sys_time'\n",
      "No role model configuration set. Using default.\n",
      "Fitting role classifier: domain='date', intent='get_date', entity_type='date_time'\n",
      "No role model configuration set. Using default.\n",
      "Importing synonym data to synonym index 'synonym_date_time'\n",
      "GET http://localhost:9200/_cluster/health [status:200 request:0.003s]\n",
      "HEAD http://localhost:9200/hr_assistant_categories%24synonym_date_time [status:200 request:0.001s]\n",
      "Elasticsearch index 'synonym_date_time' for application 'hr_assistant_categories' already exists!\n",
      "Loading index 'synonym_date_time'\n"
     ]
    },
    {
     "name": "stderr",
     "output_type": "stream",
     "text": [
      "\n",
      "\r",
      "  0%|          | 0/3 [00:00<?, ?it/s]"
     ]
    },
    {
     "name": "stdout",
     "output_type": "stream",
     "text": [
      "POST http://localhost:9200/hr_assistant_categories%24synonym_date_time/document/_bulk [status:200 request:0.029s]\n"
     ]
    },
    {
     "name": "stderr",
     "output_type": "stream",
     "text": [
      "\r",
      "100%|██████████| 3/3 [00:00<00:00, 95.98it/s]"
     ]
    },
    {
     "name": "stdout",
     "output_type": "stream",
     "text": [
      "Loaded 3 documents\n",
      "Fitting role classifier: domain='date', intent='get_date', entity_type='sys_duration'\n",
      "No role model configuration set. Using default.\n",
      "Fitting role classifier: domain='date', intent='get_date', entity_type='name'\n",
      "No role model configuration set. Using default.\n",
      "Importing synonym data to synonym index 'synonym_name'\n",
      "GET http://localhost:9200/_cluster/health [status:200 request:0.003s]\n",
      "HEAD http://localhost:9200/hr_assistant_categories%24synonym_name [status:200 request:0.001s]\n",
      "Elasticsearch index 'synonym_name' for application 'hr_assistant_categories' already exists!\n",
      "Loading index 'synonym_name'\n"
     ]
    },
    {
     "name": "stderr",
     "output_type": "stream",
     "text": [
      "\n",
      "\r",
      "  0%|          | 0/245 [00:00<?, ?it/s]"
     ]
    },
    {
     "name": "stdout",
     "output_type": "stream",
     "text": [
      "POST http://localhost:9200/hr_assistant_categories%24synonym_name/document/_bulk [status:200 request:0.032s]\n",
      "POST http://localhost:9200/hr_assistant_categories%24synonym_name/document/_bulk [status:200 request:0.031s]\n",
      "POST http://localhost:9200/hr_assistant_categories%24synonym_name/document/_bulk [status:200 request:0.046s]\n"
     ]
    },
    {
     "name": "stderr",
     "output_type": "stream",
     "text": [
      "\r",
      " 41%|████      | 101/245 [00:00<00:00, 870.17it/s]"
     ]
    },
    {
     "name": "stdout",
     "output_type": "stream",
     "text": [
      "POST http://localhost:9200/hr_assistant_categories%24synonym_name/document/_bulk [status:200 request:0.029s]\n",
      "POST http://localhost:9200/hr_assistant_categories%24synonym_name/document/_bulk [status:200 request:0.033s]\n"
     ]
    },
    {
     "name": "stderr",
     "output_type": "stream",
     "text": [
      "\r",
      "100%|██████████| 245/245 [00:00<00:00, 1339.14it/s]"
     ]
    },
    {
     "name": "stdout",
     "output_type": "stream",
     "text": [
      "Loaded 245 documents\n",
      "Fitting entity recognizer: domain='date', intent='get_date_range_aggregate'\n",
      "No entity model configuration set. Using default.\n",
      "Selecting hyperparameters using k-fold cross-validation with 5 splits\n"
     ]
    },
    {
     "name": "stderr",
     "output_type": "stream",
     "text": [
      "\n"
     ]
    },
    {
     "name": "stdout",
     "output_type": "stream",
     "text": [
      "Best accuracy: 78.11%, params: {'C': 100, 'penalty': 'l1'}\n",
      "No entity_resolution model configuration set. Using default.\n",
      "No entity_resolution model configuration set. Using default.\n",
      "No entity_resolution model configuration set. Using default.\n",
      "No entity_resolution model configuration set. Using default.\n",
      "No entity_resolution model configuration set. Using default.\n",
      "No entity_resolution model configuration set. Using default.\n",
      "No entity_resolution model configuration set. Using default.\n",
      "No entity_resolution model configuration set. Using default.\n",
      "No entity_resolution model configuration set. Using default.\n",
      "No entity_resolution model configuration set. Using default.\n",
      "Fitting role classifier: domain='date', intent='get_date_range_aggregate', entity_type='employment_action'\n",
      "No role model configuration set. Using default.\n",
      "Importing synonym data to synonym index 'synonym_employment_action'\n",
      "GET http://localhost:9200/_cluster/health [status:200 request:0.003s]\n",
      "HEAD http://localhost:9200/hr_assistant_categories%24synonym_employment_action [status:200 request:0.001s]\n",
      "Elasticsearch index 'synonym_employment_action' for application 'hr_assistant_categories' already exists!\n",
      "Loading index 'synonym_employment_action'\n"
     ]
    },
    {
     "name": "stderr",
     "output_type": "stream",
     "text": [
      "\r",
      "  0%|          | 0/2 [00:00<?, ?it/s]"
     ]
    },
    {
     "name": "stdout",
     "output_type": "stream",
     "text": [
      "POST http://localhost:9200/hr_assistant_categories%24synonym_employment_action/document/_bulk [status:200 request:0.019s]\n"
     ]
    },
    {
     "name": "stderr",
     "output_type": "stream",
     "text": [
      "\r",
      "100%|██████████| 2/2 [00:00<00:00, 100.48it/s]"
     ]
    },
    {
     "name": "stdout",
     "output_type": "stream",
     "text": [
      "Loaded 2 documents\n",
      "Fitting role classifier: domain='date', intent='get_date_range_aggregate', entity_type='state'\n",
      "No role model configuration set. Using default.\n",
      "Importing synonym data to synonym index 'synonym_state'\n",
      "GET http://localhost:9200/_cluster/health [status:200 request:0.003s]\n",
      "HEAD http://localhost:9200/hr_assistant_categories%24synonym_state [status:200 request:0.002s]\n",
      "Elasticsearch index 'synonym_state' for application 'hr_assistant_categories' already exists!\n",
      "Loading index 'synonym_state'\n"
     ]
    },
    {
     "name": "stderr",
     "output_type": "stream",
     "text": [
      "\n",
      "\r",
      "  0%|          | 0/28 [00:00<?, ?it/s]"
     ]
    },
    {
     "name": "stdout",
     "output_type": "stream",
     "text": [
      "POST http://localhost:9200/hr_assistant_categories%24synonym_state/document/_bulk [status:200 request:0.025s]\n"
     ]
    },
    {
     "name": "stderr",
     "output_type": "stream",
     "text": [
      "\r",
      "100%|██████████| 28/28 [00:00<00:00, 1038.34it/s]"
     ]
    },
    {
     "name": "stdout",
     "output_type": "stream",
     "text": [
      "Loaded 28 documents\n",
      "Fitting role classifier: domain='date', intent='get_date_range_aggregate', entity_type='sys_interval'\n",
      "No role model configuration set. Using default.\n",
      "Fitting role classifier: domain='date', intent='get_date_range_aggregate', entity_type='comparator'\n",
      "No role model configuration set. Using default.\n",
      "Importing synonym data to synonym index 'synonym_comparator'\n",
      "GET http://localhost:9200/_cluster/health [status:200 request:0.003s]\n",
      "HEAD http://localhost:9200/hr_assistant_categories%24synonym_comparator [status:200 request:0.001s]\n",
      "Elasticsearch index 'synonym_comparator' for application 'hr_assistant_categories' already exists!\n",
      "Loading index 'synonym_comparator'\n"
     ]
    },
    {
     "name": "stderr",
     "output_type": "stream",
     "text": [
      "\n",
      "\r",
      "  0%|          | 0/3 [00:00<?, ?it/s]"
     ]
    },
    {
     "name": "stdout",
     "output_type": "stream",
     "text": [
      "POST http://localhost:9200/hr_assistant_categories%24synonym_comparator/document/_bulk [status:200 request:0.029s]\n"
     ]
    },
    {
     "name": "stderr",
     "output_type": "stream",
     "text": [
      "\r",
      "100%|██████████| 3/3 [00:00<00:00, 99.67it/s]"
     ]
    },
    {
     "name": "stdout",
     "output_type": "stream",
     "text": [
      "Loaded 3 documents\n",
      "Fitting role classifier: domain='date', intent='get_date_range_aggregate', entity_type='time_interval'\n",
      "No role model configuration set. Using default.\n",
      "Importing synonym data to synonym index 'synonym_time_interval'\n",
      "GET http://localhost:9200/_cluster/health [status:200 request:0.003s]\n",
      "HEAD http://localhost:9200/hr_assistant_categories%24synonym_time_interval [status:200 request:0.001s]\n",
      "Elasticsearch index 'synonym_time_interval' for application 'hr_assistant_categories' already exists!\n",
      "Loading index 'synonym_time_interval'\n"
     ]
    },
    {
     "name": "stderr",
     "output_type": "stream",
     "text": [
      "\n",
      "\r",
      "  0%|          | 0/1 [00:00<?, ?it/s]"
     ]
    },
    {
     "name": "stdout",
     "output_type": "stream",
     "text": [
      "POST http://localhost:9200/hr_assistant_categories%24synonym_time_interval/document/_bulk [status:200 request:0.020s]\n"
     ]
    },
    {
     "name": "stderr",
     "output_type": "stream",
     "text": [
      "\r",
      "100%|██████████| 1/1 [00:00<00:00, 47.65it/s]"
     ]
    },
    {
     "name": "stdout",
     "output_type": "stream",
     "text": [
      "Loaded 1 document\n",
      "Fitting role classifier: domain='date', intent='get_date_range_aggregate', entity_type='function'\n",
      "No role model configuration set. Using default.\n",
      "Importing synonym data to synonym index 'synonym_function'\n",
      "GET http://localhost:9200/_cluster/health [status:200 request:0.003s]\n",
      "HEAD http://localhost:9200/hr_assistant_categories%24synonym_function [status:200 request:0.001s]\n",
      "Elasticsearch index 'synonym_function' for application 'hr_assistant_categories' already exists!\n",
      "Loading index 'synonym_function'\n"
     ]
    },
    {
     "name": "stderr",
     "output_type": "stream",
     "text": [
      "\n",
      "\r",
      "  0%|          | 0/3 [00:00<?, ?it/s]"
     ]
    },
    {
     "name": "stdout",
     "output_type": "stream",
     "text": [
      "POST http://localhost:9200/hr_assistant_categories%24synonym_function/document/_bulk [status:200 request:0.038s]\n"
     ]
    },
    {
     "name": "stderr",
     "output_type": "stream",
     "text": [
      "\r",
      "100%|██████████| 3/3 [00:00<00:00, 75.83it/s]"
     ]
    },
    {
     "name": "stdout",
     "output_type": "stream",
     "text": [
      "Loaded 3 documents\n",
      "Fitting role classifier: domain='date', intent='get_date_range_aggregate', entity_type='sys_time'\n",
      "No role model configuration set. Using default.\n",
      "Fitting role classifier: domain='date', intent='get_date_range_aggregate', entity_type='sys_number'\n",
      "No role model configuration set. Using default.\n",
      "Fitting role classifier: domain='date', intent='get_date_range_aggregate', entity_type='date_time'\n",
      "No role model configuration set. Using default.\n"
     ]
    },
    {
     "name": "stderr",
     "output_type": "stream",
     "text": [
      "\n"
     ]
    },
    {
     "name": "stdout",
     "output_type": "stream",
     "text": [
      "Importing synonym data to synonym index 'synonym_date_time'\n",
      "GET http://localhost:9200/_cluster/health [status:200 request:0.003s]\n",
      "HEAD http://localhost:9200/hr_assistant_categories%24synonym_date_time [status:200 request:0.001s]\n",
      "Elasticsearch index 'synonym_date_time' for application 'hr_assistant_categories' already exists!\n",
      "Loading index 'synonym_date_time'\n"
     ]
    },
    {
     "name": "stderr",
     "output_type": "stream",
     "text": [
      "\r",
      "  0%|          | 0/3 [00:00<?, ?it/s]"
     ]
    },
    {
     "name": "stdout",
     "output_type": "stream",
     "text": [
      "POST http://localhost:9200/hr_assistant_categories%24synonym_date_time/document/_bulk [status:200 request:0.032s]\n"
     ]
    },
    {
     "name": "stderr",
     "output_type": "stream",
     "text": [
      "\r",
      "100%|██████████| 3/3 [00:00<00:00, 90.30it/s]"
     ]
    },
    {
     "name": "stdout",
     "output_type": "stream",
     "text": [
      "Loaded 3 documents\n",
      "Fitting role classifier: domain='date', intent='get_date_range_aggregate', entity_type='sys_duration'\n",
      "No role model configuration set. Using default.\n",
      "Fitting entity recognizer: domain='hierarchy', intent='get_hierarchy'\n",
      "No entity model configuration set. Using default.\n"
     ]
    },
    {
     "name": "stderr",
     "output_type": "stream",
     "text": [
      "\n"
     ]
    },
    {
     "name": "stdout",
     "output_type": "stream",
     "text": [
      "Selecting hyperparameters using k-fold cross-validation with 5 splits\n",
      "Best accuracy: 94.07%, params: {'C': 100, 'penalty': 'l2'}\n",
      "No entity_resolution model configuration set. Using default.\n",
      "No entity_resolution model configuration set. Using default.\n",
      "Fitting role classifier: domain='hierarchy', intent='get_hierarchy', entity_type='manager'\n",
      "No role model configuration set. Using default.\n",
      "Importing synonym data to synonym index 'synonym_manager'\n",
      "GET http://localhost:9200/_cluster/health [status:200 request:0.004s]\n",
      "HEAD http://localhost:9200/hr_assistant_categories%24synonym_manager [status:200 request:0.001s]\n",
      "Elasticsearch index 'synonym_manager' for application 'hr_assistant_categories' already exists!\n",
      "Loading index 'synonym_manager'\n"
     ]
    },
    {
     "name": "stderr",
     "output_type": "stream",
     "text": [
      "\r",
      "  0%|          | 0/20 [00:00<?, ?it/s]"
     ]
    },
    {
     "name": "stdout",
     "output_type": "stream",
     "text": [
      "POST http://localhost:9200/hr_assistant_categories%24synonym_manager/document/_bulk [status:200 request:0.029s]\n"
     ]
    },
    {
     "name": "stderr",
     "output_type": "stream",
     "text": [
      "\r",
      "100%|██████████| 20/20 [00:00<00:00, 649.20it/s]"
     ]
    },
    {
     "name": "stdout",
     "output_type": "stream",
     "text": [
      "Loaded 20 documents\n",
      "Fitting role classifier: domain='hierarchy', intent='get_hierarchy', entity_type='name'\n",
      "No role model configuration set. Using default.\n",
      "Importing synonym data to synonym index 'synonym_name'\n",
      "GET http://localhost:9200/_cluster/health [status:200 request:0.002s]\n",
      "HEAD http://localhost:9200/hr_assistant_categories%24synonym_name [status:200 request:0.001s]\n",
      "Elasticsearch index 'synonym_name' for application 'hr_assistant_categories' already exists!\n",
      "Loading index 'synonym_name'\n"
     ]
    },
    {
     "name": "stderr",
     "output_type": "stream",
     "text": [
      "\n",
      "\r",
      "  0%|          | 0/245 [00:00<?, ?it/s]"
     ]
    },
    {
     "name": "stdout",
     "output_type": "stream",
     "text": [
      "POST http://localhost:9200/hr_assistant_categories%24synonym_name/document/_bulk [status:200 request:0.037s]\n",
      "POST http://localhost:9200/hr_assistant_categories%24synonym_name/document/_bulk [status:200 request:0.039s]\n",
      "POST http://localhost:9200/hr_assistant_categories%24synonym_name/document/_bulk [status:200 request:0.039s]\n"
     ]
    },
    {
     "name": "stderr",
     "output_type": "stream",
     "text": [
      "\r",
      " 41%|████      | 101/245 [00:00<00:00, 807.84it/s]"
     ]
    },
    {
     "name": "stdout",
     "output_type": "stream",
     "text": [
      "POST http://localhost:9200/hr_assistant_categories%24synonym_name/document/_bulk [status:200 request:0.032s]\n",
      "POST http://localhost:9200/hr_assistant_categories%24synonym_name/document/_bulk [status:200 request:0.027s]\n"
     ]
    },
    {
     "name": "stderr",
     "output_type": "stream",
     "text": [
      "\r",
      "100%|██████████| 245/245 [00:00<00:00, 1292.00it/s]"
     ]
    },
    {
     "name": "stdout",
     "output_type": "stream",
     "text": [
      "Loaded 245 documents\n",
      "Fitting intent classifier: domain='general'\n",
      "Selecting hyperparameters using k-fold cross-validation with 5 splits\n"
     ]
    },
    {
     "name": "stderr",
     "output_type": "stream",
     "text": [
      "\n"
     ]
    },
    {
     "name": "stdout",
     "output_type": "stream",
     "text": [
      "Best accuracy: 94.85%, params: {'C': 1, 'class_weight': {0: 0.7175438596491228, 1: 8.233333333333334, 2: 0.8666666666666667}, 'fit_intercept': True}\n",
      "Fitting entity recognizer: domain='general', intent='get_aggregate'\n",
      "No entity model configuration set. Using default.\n",
      "Selecting hyperparameters using k-fold cross-validation with 5 splits\n",
      "Best accuracy: 88.98%, params: {'C': 1000000, 'penalty': 'l2'}\n",
      "No entity_resolution model configuration set. Using default.\n",
      "No entity_resolution model configuration set. Using default.\n",
      "No entity_resolution model configuration set. Using default.\n",
      "No entity_resolution model configuration set. Using default.\n",
      "No entity_resolution model configuration set. Using default.\n",
      "No entity_resolution model configuration set. Using default.\n",
      "No entity_resolution model configuration set. Using default.\n",
      "No entity_resolution model configuration set. Using default.\n",
      "No entity_resolution model configuration set. Using default.\n",
      "No entity_resolution model configuration set. Using default.\n",
      "No entity_resolution model configuration set. Using default.\n",
      "No entity_resolution model configuration set. Using default.\n",
      "No entity_resolution model configuration set. Using default.\n",
      "No entity_resolution model configuration set. Using default.\n",
      "No entity_resolution model configuration set. Using default.\n",
      "No entity_resolution model configuration set. Using default.\n",
      "No entity_resolution model configuration set. Using default.\n",
      "No entity_resolution model configuration set. Using default.\n",
      "No entity_resolution model configuration set. Using default.\n",
      "No entity_resolution model configuration set. Using default.\n",
      "Fitting role classifier: domain='general', intent='get_aggregate', entity_type='employment_action'\n",
      "No role model configuration set. Using default.\n",
      "Importing synonym data to synonym index 'synonym_employment_action'\n",
      "GET http://localhost:9200/_cluster/health [status:200 request:0.003s]\n",
      "HEAD http://localhost:9200/hr_assistant_categories%24synonym_employment_action [status:200 request:0.001s]\n",
      "Elasticsearch index 'synonym_employment_action' for application 'hr_assistant_categories' already exists!\n",
      "Loading index 'synonym_employment_action'\n"
     ]
    },
    {
     "name": "stderr",
     "output_type": "stream",
     "text": [
      "\r",
      "  0%|          | 0/2 [00:00<?, ?it/s]"
     ]
    },
    {
     "name": "stdout",
     "output_type": "stream",
     "text": [
      "POST http://localhost:9200/hr_assistant_categories%24synonym_employment_action/document/_bulk [status:200 request:0.029s]\n"
     ]
    },
    {
     "name": "stderr",
     "output_type": "stream",
     "text": [
      "\r",
      "100%|██████████| 2/2 [00:00<00:00, 65.88it/s]"
     ]
    },
    {
     "name": "stdout",
     "output_type": "stream",
     "text": [
      "Loaded 2 documents\n",
      "Fitting role classifier: domain='general', intent='get_aggregate', entity_type='sex'\n",
      "No role model configuration set. Using default.\n",
      "Importing synonym data to synonym index 'synonym_sex'\n",
      "GET http://localhost:9200/_cluster/health [status:200 request:0.003s]\n",
      "HEAD http://localhost:9200/hr_assistant_categories%24synonym_sex [status:200 request:0.001s]\n",
      "Elasticsearch index 'synonym_sex' for application 'hr_assistant_categories' already exists!\n",
      "Loading index 'synonym_sex'\n"
     ]
    },
    {
     "name": "stderr",
     "output_type": "stream",
     "text": [
      "\n",
      "\r",
      "  0%|          | 0/2 [00:00<?, ?it/s]"
     ]
    },
    {
     "name": "stdout",
     "output_type": "stream",
     "text": [
      "POST http://localhost:9200/hr_assistant_categories%24synonym_sex/document/_bulk [status:200 request:0.023s]\n"
     ]
    },
    {
     "name": "stderr",
     "output_type": "stream",
     "text": [
      "\r",
      "100%|██████████| 2/2 [00:00<00:00, 81.96it/s]"
     ]
    },
    {
     "name": "stdout",
     "output_type": "stream",
     "text": [
      "Loaded 2 documents\n",
      "Fitting role classifier: domain='general', intent='get_aggregate', entity_type='employee_source'\n",
      "No role model configuration set. Using default.\n",
      "Importing synonym data to synonym index 'synonym_employee_source'\n",
      "GET http://localhost:9200/_cluster/health [status:200 request:0.003s]\n",
      "HEAD http://localhost:9200/hr_assistant_categories%24synonym_employee_source [status:200 request:0.001s]\n",
      "Elasticsearch index 'synonym_employee_source' for application 'hr_assistant_categories' already exists!\n",
      "Loading index 'synonym_employee_source'\n"
     ]
    },
    {
     "name": "stderr",
     "output_type": "stream",
     "text": [
      "\n",
      "\r",
      "  0%|          | 0/20 [00:00<?, ?it/s]"
     ]
    },
    {
     "name": "stdout",
     "output_type": "stream",
     "text": [
      "POST http://localhost:9200/hr_assistant_categories%24synonym_employee_source/document/_bulk [status:200 request:0.048s]\n"
     ]
    },
    {
     "name": "stderr",
     "output_type": "stream",
     "text": [
      "\r",
      "100%|██████████| 20/20 [00:00<00:00, 396.74it/s]"
     ]
    },
    {
     "name": "stdout",
     "output_type": "stream",
     "text": [
      "Loaded 20 documents\n",
      "Fitting role classifier: domain='general', intent='get_aggregate', entity_type='state'\n",
      "No role model configuration set. Using default.\n",
      "Importing synonym data to synonym index 'synonym_state'\n",
      "GET http://localhost:9200/_cluster/health [status:200 request:0.003s]\n",
      "HEAD http://localhost:9200/hr_assistant_categories%24synonym_state [status:200 request:0.002s]\n",
      "Elasticsearch index 'synonym_state' for application 'hr_assistant_categories' already exists!\n",
      "Loading index 'synonym_state'\n"
     ]
    },
    {
     "name": "stderr",
     "output_type": "stream",
     "text": [
      "\n",
      "\r",
      "  0%|          | 0/28 [00:00<?, ?it/s]"
     ]
    },
    {
     "name": "stdout",
     "output_type": "stream",
     "text": [
      "POST http://localhost:9200/hr_assistant_categories%24synonym_state/document/_bulk [status:200 request:0.030s]\n"
     ]
    },
    {
     "name": "stderr",
     "output_type": "stream",
     "text": [
      "\r",
      "100%|██████████| 28/28 [00:00<00:00, 866.44it/s]"
     ]
    },
    {
     "name": "stdout",
     "output_type": "stream",
     "text": [
      "Loaded 28 documents\n",
      "Fitting role classifier: domain='general', intent='get_aggregate', entity_type='performance_score'\n",
      "No role model configuration set. Using default.\n",
      "Importing synonym data to synonym index 'synonym_performance_score'\n",
      "GET http://localhost:9200/_cluster/health [status:200 request:0.003s]\n"
     ]
    },
    {
     "name": "stderr",
     "output_type": "stream",
     "text": [
      "\n"
     ]
    },
    {
     "name": "stdout",
     "output_type": "stream",
     "text": [
      "HEAD http://localhost:9200/hr_assistant_categories%24synonym_performance_score [status:200 request:0.001s]\n",
      "Elasticsearch index 'synonym_performance_score' for application 'hr_assistant_categories' already exists!\n",
      "Loading index 'synonym_performance_score'\n"
     ]
    },
    {
     "name": "stderr",
     "output_type": "stream",
     "text": [
      "\r",
      "  0%|          | 0/7 [00:00<?, ?it/s]"
     ]
    },
    {
     "name": "stdout",
     "output_type": "stream",
     "text": [
      "POST http://localhost:9200/hr_assistant_categories%24synonym_performance_score/document/_bulk [status:200 request:0.041s]\n"
     ]
    },
    {
     "name": "stderr",
     "output_type": "stream",
     "text": [
      "\r",
      "100%|██████████| 7/7 [00:00<00:00, 161.21it/s]"
     ]
    },
    {
     "name": "stdout",
     "output_type": "stream",
     "text": [
      "Loaded 7 documents\n",
      "Fitting role classifier: domain='general', intent='get_aggregate', entity_type='age'\n",
      "No role model configuration set. Using default.\n",
      "Importing synonym data to synonym index 'synonym_age'\n",
      "GET http://localhost:9200/_cluster/health [status:200 request:0.004s]\n",
      "HEAD http://localhost:9200/hr_assistant_categories%24synonym_age [status:200 request:0.001s]\n",
      "Elasticsearch index 'synonym_age' for application 'hr_assistant_categories' already exists!\n",
      "Loading index 'synonym_age'\n"
     ]
    },
    {
     "name": "stderr",
     "output_type": "stream",
     "text": [
      "\n",
      "\r",
      "  0%|          | 0/39 [00:00<?, ?it/s]"
     ]
    },
    {
     "name": "stdout",
     "output_type": "stream",
     "text": [
      "POST http://localhost:9200/hr_assistant_categories%24synonym_age/document/_bulk [status:200 request:0.051s]\n"
     ]
    },
    {
     "name": "stderr",
     "output_type": "stream",
     "text": [
      "\r",
      "100%|██████████| 39/39 [00:00<00:00, 731.59it/s]"
     ]
    },
    {
     "name": "stdout",
     "output_type": "stream",
     "text": [
      "Loaded 39 documents\n",
      "Fitting role classifier: domain='general', intent='get_aggregate', entity_type='position'\n",
      "No role model configuration set. Using default.\n",
      "Importing synonym data to synonym index 'synonym_position'\n",
      "GET http://localhost:9200/_cluster/health [status:200 request:0.003s]\n",
      "HEAD http://localhost:9200/hr_assistant_categories%24synonym_position [status:200 request:0.001s]\n"
     ]
    },
    {
     "name": "stderr",
     "output_type": "stream",
     "text": [
      "\n"
     ]
    },
    {
     "name": "stdout",
     "output_type": "stream",
     "text": [
      "Elasticsearch index 'synonym_position' for application 'hr_assistant_categories' already exists!\n",
      "Loading index 'synonym_position'\n"
     ]
    },
    {
     "name": "stderr",
     "output_type": "stream",
     "text": [
      "\r",
      "  0%|          | 0/24 [00:00<?, ?it/s]"
     ]
    },
    {
     "name": "stdout",
     "output_type": "stream",
     "text": [
      "POST http://localhost:9200/hr_assistant_categories%24synonym_position/document/_bulk [status:200 request:0.046s]\n"
     ]
    },
    {
     "name": "stderr",
     "output_type": "stream",
     "text": [
      "\r",
      "100%|██████████| 24/24 [00:00<00:00, 488.14it/s]"
     ]
    },
    {
     "name": "stdout",
     "output_type": "stream",
     "text": [
      "Loaded 24 documents\n",
      "Fitting role classifier: domain='general', intent='get_aggregate', entity_type='maritaldesc'\n",
      "No role model configuration set. Using default.\n",
      "Importing synonym data to synonym index 'synonym_maritaldesc'\n",
      "GET http://localhost:9200/_cluster/health [status:200 request:0.004s]\n",
      "HEAD http://localhost:9200/hr_assistant_categories%24synonym_maritaldesc [status:200 request:0.002s]\n"
     ]
    },
    {
     "name": "stderr",
     "output_type": "stream",
     "text": [
      "\n"
     ]
    },
    {
     "name": "stdout",
     "output_type": "stream",
     "text": [
      "Elasticsearch index 'synonym_maritaldesc' for application 'hr_assistant_categories' already exists!\n",
      "Loading index 'synonym_maritaldesc'\n"
     ]
    },
    {
     "name": "stderr",
     "output_type": "stream",
     "text": [
      "\r",
      "  0%|          | 0/5 [00:00<?, ?it/s]"
     ]
    },
    {
     "name": "stdout",
     "output_type": "stream",
     "text": [
      "POST http://localhost:9200/hr_assistant_categories%24synonym_maritaldesc/document/_bulk [status:200 request:0.031s]\n"
     ]
    },
    {
     "name": "stderr",
     "output_type": "stream",
     "text": [
      "\r",
      "100%|██████████| 5/5 [00:00<00:00, 149.23it/s]"
     ]
    },
    {
     "name": "stdout",
     "output_type": "stream",
     "text": [
      "Loaded 5 documents\n",
      "Fitting role classifier: domain='general', intent='get_aggregate', entity_type='reason_for_termination'\n",
      "No role model configuration set. Using default.\n"
     ]
    },
    {
     "name": "stderr",
     "output_type": "stream",
     "text": [
      "\n"
     ]
    },
    {
     "name": "stdout",
     "output_type": "stream",
     "text": [
      "Importing synonym data to synonym index 'synonym_reason_for_termination'\n",
      "GET http://localhost:9200/_cluster/health [status:200 request:0.004s]\n",
      "HEAD http://localhost:9200/hr_assistant_categories%24synonym_reason_for_termination [status:200 request:0.002s]\n",
      "Elasticsearch index 'synonym_reason_for_termination' for application 'hr_assistant_categories' already exists!\n",
      "Loading index 'synonym_reason_for_termination'\n"
     ]
    },
    {
     "name": "stderr",
     "output_type": "stream",
     "text": [
      "\r",
      "  0%|          | 0/17 [00:00<?, ?it/s]"
     ]
    },
    {
     "name": "stdout",
     "output_type": "stream",
     "text": [
      "POST http://localhost:9200/hr_assistant_categories%24synonym_reason_for_termination/document/_bulk [status:200 request:0.036s]\n"
     ]
    },
    {
     "name": "stderr",
     "output_type": "stream",
     "text": [
      "\r",
      "100%|██████████| 17/17 [00:00<00:00, 441.66it/s]"
     ]
    },
    {
     "name": "stdout",
     "output_type": "stream",
     "text": [
      "Loaded 17 documents\n",
      "Fitting role classifier: domain='general', intent='get_aggregate', entity_type='department'\n",
      "No role model configuration set. Using default.\n",
      "Importing synonym data to synonym index 'synonym_department'\n",
      "GET http://localhost:9200/_cluster/health [status:200 request:0.003s]\n",
      "HEAD http://localhost:9200/hr_assistant_categories%24synonym_department [status:200 request:0.002s]\n",
      "Elasticsearch index 'synonym_department' for application 'hr_assistant_categories' already exists!\n",
      "Loading index 'synonym_department'\n"
     ]
    },
    {
     "name": "stderr",
     "output_type": "stream",
     "text": [
      "\n",
      "\r",
      "  0%|          | 0/6 [00:00<?, ?it/s]"
     ]
    },
    {
     "name": "stdout",
     "output_type": "stream",
     "text": [
      "POST http://localhost:9200/hr_assistant_categories%24synonym_department/document/_bulk [status:200 request:0.032s]\n"
     ]
    },
    {
     "name": "stderr",
     "output_type": "stream",
     "text": [
      "\r",
      "100%|██████████| 6/6 [00:00<00:00, 179.45it/s]"
     ]
    },
    {
     "name": "stdout",
     "output_type": "stream",
     "text": [
      "Loaded 6 documents\n",
      "Fitting role classifier: domain='general', intent='get_aggregate', entity_type='comparator'\n",
      "No role model configuration set. Using default.\n",
      "Importing synonym data to synonym index 'synonym_comparator'\n",
      "GET http://localhost:9200/_cluster/health [status:200 request:0.003s]\n",
      "HEAD http://localhost:9200/hr_assistant_categories%24synonym_comparator [status:200 request:0.002s]\n",
      "Elasticsearch index 'synonym_comparator' for application 'hr_assistant_categories' already exists!\n",
      "Loading index 'synonym_comparator'\n"
     ]
    },
    {
     "name": "stderr",
     "output_type": "stream",
     "text": [
      "\n",
      "\r",
      "  0%|          | 0/3 [00:00<?, ?it/s]"
     ]
    },
    {
     "name": "stdout",
     "output_type": "stream",
     "text": [
      "POST http://localhost:9200/hr_assistant_categories%24synonym_comparator/document/_bulk [status:200 request:0.020s]\n"
     ]
    },
    {
     "name": "stderr",
     "output_type": "stream",
     "text": [
      "\r",
      "100%|██████████| 3/3 [00:00<00:00, 133.76it/s]"
     ]
    },
    {
     "name": "stdout",
     "output_type": "stream",
     "text": [
      "Loaded 3 documents\n",
      "Fitting role classifier: domain='general', intent='get_aggregate', entity_type='racedesc'\n",
      "No role model configuration set. Using default.\n",
      "Importing synonym data to synonym index 'synonym_racedesc'\n",
      "GET http://localhost:9200/_cluster/health [status:200 request:0.003s]\n",
      "HEAD http://localhost:9200/hr_assistant_categories%24synonym_racedesc [status:200 request:0.002s]\n"
     ]
    },
    {
     "name": "stderr",
     "output_type": "stream",
     "text": [
      "\n"
     ]
    },
    {
     "name": "stdout",
     "output_type": "stream",
     "text": [
      "Elasticsearch index 'synonym_racedesc' for application 'hr_assistant_categories' already exists!\n",
      "Loading index 'synonym_racedesc'\n"
     ]
    },
    {
     "name": "stderr",
     "output_type": "stream",
     "text": [
      "\r",
      "  0%|          | 0/6 [00:00<?, ?it/s]"
     ]
    },
    {
     "name": "stdout",
     "output_type": "stream",
     "text": [
      "POST http://localhost:9200/hr_assistant_categories%24synonym_racedesc/document/_bulk [status:200 request:0.031s]\n"
     ]
    },
    {
     "name": "stderr",
     "output_type": "stream",
     "text": [
      "\r",
      "100%|██████████| 6/6 [00:00<00:00, 186.10it/s]"
     ]
    },
    {
     "name": "stdout",
     "output_type": "stream",
     "text": [
      "Loaded 6 documents\n"
     ]
    },
    {
     "name": "stderr",
     "output_type": "stream",
     "text": [
      "\n"
     ]
    },
    {
     "name": "stdout",
     "output_type": "stream",
     "text": [
      "Fitting role classifier: domain='general', intent='get_aggregate', entity_type='employment_status'\n",
      "No role model configuration set. Using default.\n",
      "Importing synonym data to synonym index 'synonym_employment_status'\n",
      "GET http://localhost:9200/_cluster/health [status:200 request:0.003s]\n",
      "HEAD http://localhost:9200/hr_assistant_categories%24synonym_employment_status [status:200 request:0.001s]\n",
      "Elasticsearch index 'synonym_employment_status' for application 'hr_assistant_categories' already exists!\n",
      "Loading index 'synonym_employment_status'\n"
     ]
    },
    {
     "name": "stderr",
     "output_type": "stream",
     "text": [
      "\r",
      "  0%|          | 0/5 [00:00<?, ?it/s]"
     ]
    },
    {
     "name": "stdout",
     "output_type": "stream",
     "text": [
      "POST http://localhost:9200/hr_assistant_categories%24synonym_employment_status/document/_bulk [status:200 request:0.030s]\n"
     ]
    },
    {
     "name": "stderr",
     "output_type": "stream",
     "text": [
      "\r",
      "100%|██████████| 5/5 [00:00<00:00, 156.88it/s]"
     ]
    },
    {
     "name": "stdout",
     "output_type": "stream",
     "text": [
      "Loaded 5 documents\n",
      "Fitting role classifier: domain='general', intent='get_aggregate', entity_type='manager'\n",
      "No role model configuration set. Using default.\n",
      "Importing synonym data to synonym index 'synonym_manager'\n"
     ]
    },
    {
     "name": "stderr",
     "output_type": "stream",
     "text": [
      "\n"
     ]
    },
    {
     "name": "stdout",
     "output_type": "stream",
     "text": [
      "GET http://localhost:9200/_cluster/health [status:200 request:0.003s]\n",
      "HEAD http://localhost:9200/hr_assistant_categories%24synonym_manager [status:200 request:0.001s]\n",
      "Elasticsearch index 'synonym_manager' for application 'hr_assistant_categories' already exists!\n",
      "Loading index 'synonym_manager'\n"
     ]
    },
    {
     "name": "stderr",
     "output_type": "stream",
     "text": [
      "\r",
      "  0%|          | 0/20 [00:00<?, ?it/s]"
     ]
    },
    {
     "name": "stdout",
     "output_type": "stream",
     "text": [
      "POST http://localhost:9200/hr_assistant_categories%24synonym_manager/document/_bulk [status:200 request:0.039s]\n"
     ]
    },
    {
     "name": "stderr",
     "output_type": "stream",
     "text": [
      "\r",
      "100%|██████████| 20/20 [00:00<00:00, 478.02it/s]"
     ]
    },
    {
     "name": "stdout",
     "output_type": "stream",
     "text": [
      "Loaded 20 documents\n"
     ]
    },
    {
     "name": "stderr",
     "output_type": "stream",
     "text": [
      "\n"
     ]
    },
    {
     "name": "stdout",
     "output_type": "stream",
     "text": [
      "Fitting role classifier: domain='general', intent='get_aggregate', entity_type='function'\n",
      "No role model configuration set. Using default.\n",
      "Importing synonym data to synonym index 'synonym_function'\n",
      "GET http://localhost:9200/_cluster/health [status:200 request:0.003s]\n",
      "HEAD http://localhost:9200/hr_assistant_categories%24synonym_function [status:200 request:0.002s]\n",
      "Elasticsearch index 'synonym_function' for application 'hr_assistant_categories' already exists!\n",
      "Loading index 'synonym_function'\n"
     ]
    },
    {
     "name": "stderr",
     "output_type": "stream",
     "text": [
      "\r",
      "  0%|          | 0/3 [00:00<?, ?it/s]"
     ]
    },
    {
     "name": "stdout",
     "output_type": "stream",
     "text": [
      "POST http://localhost:9200/hr_assistant_categories%24synonym_function/document/_bulk [status:200 request:0.043s]\n"
     ]
    },
    {
     "name": "stderr",
     "output_type": "stream",
     "text": [
      "\r",
      "100%|██████████| 3/3 [00:00<00:00, 67.74it/s]"
     ]
    },
    {
     "name": "stdout",
     "output_type": "stream",
     "text": [
      "Loaded 3 documents\n",
      "Fitting role classifier: domain='general', intent='get_aggregate', entity_type='sys_time'\n",
      "No role model configuration set. Using default.\n",
      "Fitting role classifier: domain='general', intent='get_aggregate', entity_type='citizendesc'\n",
      "No role model configuration set. Using default.\n",
      "Importing synonym data to synonym index 'synonym_citizendesc'\n",
      "GET http://localhost:9200/_cluster/health [status:200 request:0.003s]\n",
      "HEAD http://localhost:9200/hr_assistant_categories%24synonym_citizendesc [status:200 request:0.002s]\n",
      "Elasticsearch index 'synonym_citizendesc' for application 'hr_assistant_categories' already exists!\n",
      "Loading index 'synonym_citizendesc'\n"
     ]
    },
    {
     "name": "stderr",
     "output_type": "stream",
     "text": [
      "\n",
      "\r",
      "  0%|          | 0/3 [00:00<?, ?it/s]"
     ]
    },
    {
     "name": "stdout",
     "output_type": "stream",
     "text": [
      "POST http://localhost:9200/hr_assistant_categories%24synonym_citizendesc/document/_bulk [status:200 request:0.036s]\n"
     ]
    },
    {
     "name": "stderr",
     "output_type": "stream",
     "text": [
      "\r",
      "100%|██████████| 3/3 [00:00<00:00, 77.69it/s]"
     ]
    },
    {
     "name": "stdout",
     "output_type": "stream",
     "text": [
      "Loaded 3 documents\n",
      "Fitting role classifier: domain='general', intent='get_aggregate', entity_type='date_time'\n",
      "No role model configuration set. Using default.\n",
      "Importing synonym data to synonym index 'synonym_date_time'\n"
     ]
    },
    {
     "name": "stderr",
     "output_type": "stream",
     "text": [
      "\n"
     ]
    },
    {
     "name": "stdout",
     "output_type": "stream",
     "text": [
      "GET http://localhost:9200/_cluster/health [status:200 request:0.004s]\n",
      "HEAD http://localhost:9200/hr_assistant_categories%24synonym_date_time [status:200 request:0.002s]\n",
      "Elasticsearch index 'synonym_date_time' for application 'hr_assistant_categories' already exists!\n",
      "Loading index 'synonym_date_time'\n"
     ]
    },
    {
     "name": "stderr",
     "output_type": "stream",
     "text": [
      "\r",
      "  0%|          | 0/3 [00:00<?, ?it/s]"
     ]
    },
    {
     "name": "stdout",
     "output_type": "stream",
     "text": [
      "POST http://localhost:9200/hr_assistant_categories%24synonym_date_time/document/_bulk [status:200 request:0.044s]\n"
     ]
    },
    {
     "name": "stderr",
     "output_type": "stream",
     "text": [
      "\r",
      "100%|██████████| 3/3 [00:00<00:00, 64.71it/s]"
     ]
    },
    {
     "name": "stdout",
     "output_type": "stream",
     "text": [
      "Loaded 3 documents\n",
      "Fitting role classifier: domain='general', intent='get_aggregate', entity_type='sys_number'\n"
     ]
    },
    {
     "name": "stderr",
     "output_type": "stream",
     "text": [
      "\n"
     ]
    },
    {
     "name": "stdout",
     "output_type": "stream",
     "text": [
      "No role model configuration set. Using default.\n",
      "Fitting role classifier: domain='general', intent='get_aggregate', entity_type='name'\n",
      "No role model configuration set. Using default.\n",
      "Importing synonym data to synonym index 'synonym_name'\n",
      "GET http://localhost:9200/_cluster/health [status:200 request:0.005s]\n",
      "HEAD http://localhost:9200/hr_assistant_categories%24synonym_name [status:200 request:0.002s]\n",
      "Elasticsearch index 'synonym_name' for application 'hr_assistant_categories' already exists!\n",
      "Loading index 'synonym_name'\n"
     ]
    },
    {
     "name": "stderr",
     "output_type": "stream",
     "text": [
      "\r",
      "  0%|          | 0/245 [00:00<?, ?it/s]"
     ]
    },
    {
     "name": "stdout",
     "output_type": "stream",
     "text": [
      "POST http://localhost:9200/hr_assistant_categories%24synonym_name/document/_bulk [status:200 request:0.055s]\n",
      "POST http://localhost:9200/hr_assistant_categories%24synonym_name/document/_bulk [status:200 request:0.050s]\n"
     ]
    },
    {
     "name": "stderr",
     "output_type": "stream",
     "text": [
      "\r",
      " 21%|██        | 51/245 [00:00<00:00, 451.20it/s]"
     ]
    },
    {
     "name": "stdout",
     "output_type": "stream",
     "text": [
      "POST http://localhost:9200/hr_assistant_categories%24synonym_name/document/_bulk [status:200 request:0.041s]\n",
      "POST http://localhost:9200/hr_assistant_categories%24synonym_name/document/_bulk [status:200 request:0.035s]\n",
      "POST http://localhost:9200/hr_assistant_categories%24synonym_name/document/_bulk [status:200 request:0.037s]\n"
     ]
    },
    {
     "name": "stderr",
     "output_type": "stream",
     "text": [
      "100%|██████████| 245/245 [00:00<00:00, 1010.50it/s]"
     ]
    },
    {
     "name": "stdout",
     "output_type": "stream",
     "text": [
      "Loaded 245 documents\n",
      "Fitting entity recognizer: domain='general', intent='get_info'\n",
      "No entity model configuration set. Using default.\n"
     ]
    },
    {
     "name": "stderr",
     "output_type": "stream",
     "text": [
      "\n"
     ]
    },
    {
     "name": "stdout",
     "output_type": "stream",
     "text": [
      "Selecting hyperparameters using k-fold cross-validation with 5 splits\n",
      "Best accuracy: 91.71%, params: {'C': 100, 'penalty': 'l1'}\n",
      "No entity_resolution model configuration set. Using default.\n",
      "No entity_resolution model configuration set. Using default.\n",
      "No entity_resolution model configuration set. Using default.\n",
      "No entity_resolution model configuration set. Using default.\n",
      "No entity_resolution model configuration set. Using default.\n",
      "No entity_resolution model configuration set. Using default.\n",
      "No entity_resolution model configuration set. Using default.\n",
      "No entity_resolution model configuration set. Using default.\n",
      "No entity_resolution model configuration set. Using default.\n",
      "No entity_resolution model configuration set. Using default.\n",
      "No entity_resolution model configuration set. Using default.\n",
      "No entity_resolution model configuration set. Using default.\n",
      "No entity_resolution model configuration set. Using default.\n",
      "Fitting role classifier: domain='general', intent='get_info', entity_type='employment_action'\n",
      "No role model configuration set. Using default.\n",
      "Importing synonym data to synonym index 'synonym_employment_action'\n",
      "GET http://localhost:9200/_cluster/health [status:200 request:0.004s]\n",
      "HEAD http://localhost:9200/hr_assistant_categories%24synonym_employment_action [status:200 request:0.001s]\n",
      "Elasticsearch index 'synonym_employment_action' for application 'hr_assistant_categories' already exists!\n",
      "Loading index 'synonym_employment_action'\n"
     ]
    },
    {
     "name": "stderr",
     "output_type": "stream",
     "text": [
      "\r",
      "  0%|          | 0/2 [00:00<?, ?it/s]"
     ]
    },
    {
     "name": "stdout",
     "output_type": "stream",
     "text": [
      "POST http://localhost:9200/hr_assistant_categories%24synonym_employment_action/document/_bulk [status:200 request:0.018s]\n"
     ]
    },
    {
     "name": "stderr",
     "output_type": "stream",
     "text": [
      "\r",
      "100%|██████████| 2/2 [00:00<00:00, 101.27it/s]"
     ]
    },
    {
     "name": "stdout",
     "output_type": "stream",
     "text": [
      "Loaded 2 documents\n",
      "Fitting role classifier: domain='general', intent='get_info', entity_type='employee_source'\n",
      "No role model configuration set. Using default.\n",
      "Importing synonym data to synonym index 'synonym_employee_source'\n",
      "GET http://localhost:9200/_cluster/health [status:200 request:0.003s]\n",
      "HEAD http://localhost:9200/hr_assistant_categories%24synonym_employee_source [status:200 request:0.001s]\n",
      "Elasticsearch index 'synonym_employee_source' for application 'hr_assistant_categories' already exists!\n",
      "Loading index 'synonym_employee_source'\n"
     ]
    },
    {
     "name": "stderr",
     "output_type": "stream",
     "text": [
      "\n",
      "\r",
      "  0%|          | 0/20 [00:00<?, ?it/s]"
     ]
    },
    {
     "name": "stdout",
     "output_type": "stream",
     "text": [
      "POST http://localhost:9200/hr_assistant_categories%24synonym_employee_source/document/_bulk [status:200 request:0.051s]\n"
     ]
    },
    {
     "name": "stderr",
     "output_type": "stream",
     "text": [
      "\r",
      "100%|██████████| 20/20 [00:00<00:00, 381.07it/s]"
     ]
    },
    {
     "name": "stdout",
     "output_type": "stream",
     "text": [
      "Loaded 20 documents\n",
      "Fitting role classifier: domain='general', intent='get_info', entity_type='state'\n",
      "No role model configuration set. Using default.\n",
      "Importing synonym data to synonym index 'synonym_state'\n",
      "GET http://localhost:9200/_cluster/health [status:200 request:0.003s]\n",
      "HEAD http://localhost:9200/hr_assistant_categories%24synonym_state [status:200 request:0.001s]\n",
      "Elasticsearch index 'synonym_state' for application 'hr_assistant_categories' already exists!\n",
      "Loading index 'synonym_state'\n"
     ]
    },
    {
     "name": "stderr",
     "output_type": "stream",
     "text": [
      "\n",
      "\r",
      "  0%|          | 0/28 [00:00<?, ?it/s]"
     ]
    },
    {
     "name": "stdout",
     "output_type": "stream",
     "text": [
      "POST http://localhost:9200/hr_assistant_categories%24synonym_state/document/_bulk [status:200 request:0.034s]\n"
     ]
    },
    {
     "name": "stderr",
     "output_type": "stream",
     "text": [
      "\r",
      "100%|██████████| 28/28 [00:00<00:00, 754.98it/s]"
     ]
    },
    {
     "name": "stdout",
     "output_type": "stream",
     "text": [
      "Loaded 28 documents\n",
      "Fitting role classifier: domain='general', intent='get_info', entity_type='age'\n",
      "No role model configuration set. Using default.\n",
      "Importing synonym data to synonym index 'synonym_age'\n",
      "GET http://localhost:9200/_cluster/health [status:200 request:0.003s]\n",
      "HEAD http://localhost:9200/hr_assistant_categories%24synonym_age [status:200 request:0.001s]\n",
      "Elasticsearch index 'synonym_age' for application 'hr_assistant_categories' already exists!\n",
      "Loading index 'synonym_age'\n"
     ]
    },
    {
     "name": "stderr",
     "output_type": "stream",
     "text": [
      "\n",
      "\r",
      "  0%|          | 0/39 [00:00<?, ?it/s]"
     ]
    },
    {
     "name": "stdout",
     "output_type": "stream",
     "text": [
      "POST http://localhost:9200/hr_assistant_categories%24synonym_age/document/_bulk [status:200 request:0.031s]\n"
     ]
    },
    {
     "name": "stderr",
     "output_type": "stream",
     "text": [
      "\r",
      "100%|██████████| 39/39 [00:00<00:00, 1147.19it/s]"
     ]
    },
    {
     "name": "stdout",
     "output_type": "stream",
     "text": [
      "Loaded 39 documents\n",
      "Fitting role classifier: domain='general', intent='get_info', entity_type='maritaldesc'\n",
      "No role model configuration set. Using default.\n"
     ]
    },
    {
     "name": "stderr",
     "output_type": "stream",
     "text": [
      "\n"
     ]
    },
    {
     "name": "stdout",
     "output_type": "stream",
     "text": [
      "Importing synonym data to synonym index 'synonym_maritaldesc'\n",
      "GET http://localhost:9200/_cluster/health [status:200 request:0.003s]\n",
      "HEAD http://localhost:9200/hr_assistant_categories%24synonym_maritaldesc [status:200 request:0.002s]\n",
      "Elasticsearch index 'synonym_maritaldesc' for application 'hr_assistant_categories' already exists!\n",
      "Loading index 'synonym_maritaldesc'\n"
     ]
    },
    {
     "name": "stderr",
     "output_type": "stream",
     "text": [
      "\r",
      "  0%|          | 0/5 [00:00<?, ?it/s]"
     ]
    },
    {
     "name": "stdout",
     "output_type": "stream",
     "text": [
      "POST http://localhost:9200/hr_assistant_categories%24synonym_maritaldesc/document/_bulk [status:200 request:0.028s]\n"
     ]
    },
    {
     "name": "stderr",
     "output_type": "stream",
     "text": [
      "\r",
      "100%|██████████| 5/5 [00:00<00:00, 169.38it/s]"
     ]
    },
    {
     "name": "stdout",
     "output_type": "stream",
     "text": [
      "Loaded 5 documents\n",
      "Fitting role classifier: domain='general', intent='get_info', entity_type='position'\n",
      "No role model configuration set. Using default.\n",
      "Importing synonym data to synonym index 'synonym_position'\n",
      "GET http://localhost:9200/_cluster/health [status:200 request:0.004s]\n",
      "HEAD http://localhost:9200/hr_assistant_categories%24synonym_position [status:200 request:0.002s]\n",
      "Elasticsearch index 'synonym_position' for application 'hr_assistant_categories' already exists!\n",
      "Loading index 'synonym_position'\n"
     ]
    },
    {
     "name": "stderr",
     "output_type": "stream",
     "text": [
      "\n",
      "\r",
      "  0%|          | 0/24 [00:00<?, ?it/s]"
     ]
    },
    {
     "name": "stdout",
     "output_type": "stream",
     "text": [
      "POST http://localhost:9200/hr_assistant_categories%24synonym_position/document/_bulk [status:200 request:0.034s]\n"
     ]
    },
    {
     "name": "stderr",
     "output_type": "stream",
     "text": [
      "\r",
      "100%|██████████| 24/24 [00:00<00:00, 662.03it/s]"
     ]
    },
    {
     "name": "stdout",
     "output_type": "stream",
     "text": [
      "Loaded 24 documents\n",
      "Fitting role classifier: domain='general', intent='get_info', entity_type='money'\n",
      "No role model configuration set. Using default.\n",
      "Importing synonym data to synonym index 'synonym_money'\n",
      "GET http://localhost:9200/_cluster/health [status:200 request:0.004s]\n",
      "HEAD http://localhost:9200/hr_assistant_categories%24synonym_money [status:200 request:0.001s]\n",
      "Elasticsearch index 'synonym_money' for application 'hr_assistant_categories' already exists!\n",
      "Loading index 'synonym_money'\n"
     ]
    },
    {
     "name": "stderr",
     "output_type": "stream",
     "text": [
      "\n",
      "\r",
      "  0%|          | 0/1 [00:00<?, ?it/s]"
     ]
    },
    {
     "name": "stdout",
     "output_type": "stream",
     "text": [
      "POST http://localhost:9200/hr_assistant_categories%24synonym_money/document/_bulk [status:200 request:0.016s]\n"
     ]
    },
    {
     "name": "stderr",
     "output_type": "stream",
     "text": [
      "\r",
      "100%|██████████| 1/1 [00:00<00:00, 56.50it/s]"
     ]
    },
    {
     "name": "stdout",
     "output_type": "stream",
     "text": [
      "Loaded 1 document\n",
      "Fitting role classifier: domain='general', intent='get_info', entity_type='reason_for_termination'\n",
      "No role model configuration set. Using default.\n",
      "Importing synonym data to synonym index 'synonym_reason_for_termination'\n",
      "GET http://localhost:9200/_cluster/health [status:200 request:0.003s]\n"
     ]
    },
    {
     "name": "stderr",
     "output_type": "stream",
     "text": [
      "\n"
     ]
    },
    {
     "name": "stdout",
     "output_type": "stream",
     "text": [
      "HEAD http://localhost:9200/hr_assistant_categories%24synonym_reason_for_termination [status:200 request:0.001s]\n",
      "Elasticsearch index 'synonym_reason_for_termination' for application 'hr_assistant_categories' already exists!\n",
      "Loading index 'synonym_reason_for_termination'\n"
     ]
    },
    {
     "name": "stderr",
     "output_type": "stream",
     "text": [
      "\r",
      "  0%|          | 0/17 [00:00<?, ?it/s]"
     ]
    },
    {
     "name": "stdout",
     "output_type": "stream",
     "text": [
      "POST http://localhost:9200/hr_assistant_categories%24synonym_reason_for_termination/document/_bulk [status:200 request:0.042s]\n"
     ]
    },
    {
     "name": "stderr",
     "output_type": "stream",
     "text": [
      "\r",
      "100%|██████████| 17/17 [00:00<00:00, 384.18it/s]"
     ]
    },
    {
     "name": "stdout",
     "output_type": "stream",
     "text": [
      "Loaded 17 documents\n",
      "Fitting role classifier: domain='general', intent='get_info', entity_type='employment_status'\n",
      "No role model configuration set. Using default.\n"
     ]
    },
    {
     "name": "stderr",
     "output_type": "stream",
     "text": [
      "\n"
     ]
    },
    {
     "name": "stdout",
     "output_type": "stream",
     "text": [
      "Importing synonym data to synonym index 'synonym_employment_status'\n",
      "GET http://localhost:9200/_cluster/health [status:200 request:0.003s]\n",
      "HEAD http://localhost:9200/hr_assistant_categories%24synonym_employment_status [status:200 request:0.002s]\n",
      "Elasticsearch index 'synonym_employment_status' for application 'hr_assistant_categories' already exists!\n",
      "Loading index 'synonym_employment_status'\n"
     ]
    },
    {
     "name": "stderr",
     "output_type": "stream",
     "text": [
      "\r",
      "  0%|          | 0/5 [00:00<?, ?it/s]"
     ]
    },
    {
     "name": "stdout",
     "output_type": "stream",
     "text": [
      "POST http://localhost:9200/hr_assistant_categories%24synonym_employment_status/document/_bulk [status:200 request:0.030s]\n"
     ]
    },
    {
     "name": "stderr",
     "output_type": "stream",
     "text": [
      "\r",
      "100%|██████████| 5/5 [00:00<00:00, 157.24it/s]"
     ]
    },
    {
     "name": "stdout",
     "output_type": "stream",
     "text": [
      "Loaded 5 documents\n",
      "Fitting role classifier: domain='general', intent='get_info', entity_type='manager'\n",
      "No role model configuration set. Using default.\n"
     ]
    },
    {
     "name": "stderr",
     "output_type": "stream",
     "text": [
      "\n"
     ]
    },
    {
     "name": "stdout",
     "output_type": "stream",
     "text": [
      "Importing synonym data to synonym index 'synonym_manager'\n",
      "GET http://localhost:9200/_cluster/health [status:200 request:0.003s]\n",
      "HEAD http://localhost:9200/hr_assistant_categories%24synonym_manager [status:200 request:0.002s]\n",
      "Elasticsearch index 'synonym_manager' for application 'hr_assistant_categories' already exists!\n",
      "Loading index 'synonym_manager'\n"
     ]
    },
    {
     "name": "stderr",
     "output_type": "stream",
     "text": [
      "\r",
      "  0%|          | 0/20 [00:00<?, ?it/s]"
     ]
    },
    {
     "name": "stdout",
     "output_type": "stream",
     "text": [
      "POST http://localhost:9200/hr_assistant_categories%24synonym_manager/document/_bulk [status:200 request:0.040s]\n"
     ]
    },
    {
     "name": "stderr",
     "output_type": "stream",
     "text": [
      "\r",
      "100%|██████████| 20/20 [00:00<00:00, 469.27it/s]"
     ]
    },
    {
     "name": "stdout",
     "output_type": "stream",
     "text": [
      "Loaded 20 documents\n",
      "Fitting role classifier: domain='general', intent='get_info', entity_type='racedesc'\n",
      "No role model configuration set. Using default.\n",
      "Importing synonym data to synonym index 'synonym_racedesc'\n",
      "GET http://localhost:9200/_cluster/health [status:200 request:0.003s]\n",
      "HEAD http://localhost:9200/hr_assistant_categories%24synonym_racedesc [status:200 request:0.001s]\n",
      "Elasticsearch index 'synonym_racedesc' for application 'hr_assistant_categories' already exists!\n",
      "Loading index 'synonym_racedesc'\n"
     ]
    },
    {
     "name": "stderr",
     "output_type": "stream",
     "text": [
      "\n",
      "\r",
      "  0%|          | 0/6 [00:00<?, ?it/s]"
     ]
    },
    {
     "name": "stdout",
     "output_type": "stream",
     "text": [
      "POST http://localhost:9200/hr_assistant_categories%24synonym_racedesc/document/_bulk [status:200 request:0.033s]\n"
     ]
    },
    {
     "name": "stderr",
     "output_type": "stream",
     "text": [
      "\r",
      "100%|██████████| 6/6 [00:00<00:00, 174.29it/s]"
     ]
    },
    {
     "name": "stdout",
     "output_type": "stream",
     "text": [
      "Loaded 6 documents\n",
      "Fitting role classifier: domain='general', intent='get_info', entity_type='department'\n",
      "No role model configuration set. Using default.\n",
      "Importing synonym data to synonym index 'synonym_department'\n",
      "GET http://localhost:9200/_cluster/health [status:200 request:0.003s]\n",
      "HEAD http://localhost:9200/hr_assistant_categories%24synonym_department [status:200 request:0.001s]\n",
      "Elasticsearch index 'synonym_department' for application 'hr_assistant_categories' already exists!\n",
      "Loading index 'synonym_department'\n"
     ]
    },
    {
     "name": "stderr",
     "output_type": "stream",
     "text": [
      "\n",
      "\r",
      "  0%|          | 0/6 [00:00<?, ?it/s]"
     ]
    },
    {
     "name": "stdout",
     "output_type": "stream",
     "text": [
      "POST http://localhost:9200/hr_assistant_categories%24synonym_department/document/_bulk [status:200 request:0.033s]\n"
     ]
    },
    {
     "name": "stderr",
     "output_type": "stream",
     "text": [
      "\r",
      "100%|██████████| 6/6 [00:00<00:00, 174.21it/s]"
     ]
    },
    {
     "name": "stdout",
     "output_type": "stream",
     "text": [
      "Loaded 6 documents\n",
      "Fitting role classifier: domain='general', intent='get_info', entity_type='name'\n",
      "No role model configuration set. Using default.\n"
     ]
    },
    {
     "name": "stderr",
     "output_type": "stream",
     "text": [
      "\n"
     ]
    },
    {
     "name": "stdout",
     "output_type": "stream",
     "text": [
      "Importing synonym data to synonym index 'synonym_name'\n",
      "GET http://localhost:9200/_cluster/health [status:200 request:0.003s]\n",
      "HEAD http://localhost:9200/hr_assistant_categories%24synonym_name [status:200 request:0.002s]\n",
      "Elasticsearch index 'synonym_name' for application 'hr_assistant_categories' already exists!\n",
      "Loading index 'synonym_name'\n"
     ]
    },
    {
     "name": "stderr",
     "output_type": "stream",
     "text": [
      "\r",
      "  0%|          | 0/245 [00:00<?, ?it/s]"
     ]
    },
    {
     "name": "stdout",
     "output_type": "stream",
     "text": [
      "POST http://localhost:9200/hr_assistant_categories%24synonym_name/document/_bulk [status:200 request:0.057s]\n",
      "POST http://localhost:9200/hr_assistant_categories%24synonym_name/document/_bulk [status:200 request:0.042s]\n"
     ]
    },
    {
     "name": "stderr",
     "output_type": "stream",
     "text": [
      "\r",
      " 21%|██        | 51/245 [00:00<00:00, 473.52it/s]"
     ]
    },
    {
     "name": "stdout",
     "output_type": "stream",
     "text": [
      "POST http://localhost:9200/hr_assistant_categories%24synonym_name/document/_bulk [status:200 request:0.057s]\n",
      "POST http://localhost:9200/hr_assistant_categories%24synonym_name/document/_bulk [status:200 request:0.051s]\n"
     ]
    },
    {
     "name": "stderr",
     "output_type": "stream",
     "text": [
      "\r",
      " 62%|██████▏   | 151/245 [00:00<00:00, 547.47it/s]"
     ]
    },
    {
     "name": "stdout",
     "output_type": "stream",
     "text": [
      "POST http://localhost:9200/hr_assistant_categories%24synonym_name/document/_bulk [status:200 request:0.054s]\n"
     ]
    },
    {
     "name": "stderr",
     "output_type": "stream",
     "text": [
      "\r",
      "100%|██████████| 245/245 [00:00<00:00, 861.00it/s]"
     ]
    },
    {
     "name": "stdout",
     "output_type": "stream",
     "text": [
      "Loaded 245 documents\n",
      "Fitting entity recognizer: domain='general', intent='get_employees'\n",
      "No entity model configuration set. Using default.\n",
      "Selecting hyperparameters using k-fold cross-validation with 5 splits\n"
     ]
    },
    {
     "name": "stderr",
     "output_type": "stream",
     "text": [
      "\n"
     ]
    },
    {
     "name": "stdout",
     "output_type": "stream",
     "text": [
      "Best accuracy: 58.33%, params: {'C': 0.01, 'penalty': 'l2'}\n",
      "No entity_resolution model configuration set. Using default.\n",
      "No entity_resolution model configuration set. Using default.\n",
      "No entity_resolution model configuration set. Using default.\n",
      "No entity_resolution model configuration set. Using default.\n",
      "Fitting role classifier: domain='general', intent='get_employees', entity_type='employment_action'\n",
      "No role model configuration set. Using default.\n",
      "Importing synonym data to synonym index 'synonym_employment_action'\n",
      "GET http://localhost:9200/_cluster/health [status:200 request:0.004s]\n",
      "HEAD http://localhost:9200/hr_assistant_categories%24synonym_employment_action [status:200 request:0.001s]\n",
      "Elasticsearch index 'synonym_employment_action' for application 'hr_assistant_categories' already exists!\n",
      "Loading index 'synonym_employment_action'\n"
     ]
    },
    {
     "name": "stderr",
     "output_type": "stream",
     "text": [
      "\r",
      "  0%|          | 0/2 [00:00<?, ?it/s]"
     ]
    },
    {
     "name": "stdout",
     "output_type": "stream",
     "text": [
      "POST http://localhost:9200/hr_assistant_categories%24synonym_employment_action/document/_bulk [status:200 request:0.033s]\n"
     ]
    },
    {
     "name": "stderr",
     "output_type": "stream",
     "text": [
      "\r",
      "100%|██████████| 2/2 [00:00<00:00, 56.86it/s]"
     ]
    },
    {
     "name": "stdout",
     "output_type": "stream",
     "text": [
      "Loaded 2 documents\n",
      "Fitting role classifier: domain='general', intent='get_employees', entity_type='reason_for_termination'\n",
      "No role model configuration set. Using default.\n",
      "Importing synonym data to synonym index 'synonym_reason_for_termination'\n",
      "GET http://localhost:9200/_cluster/health [status:200 request:0.003s]\n",
      "HEAD http://localhost:9200/hr_assistant_categories%24synonym_reason_for_termination [status:200 request:0.001s]\n",
      "Elasticsearch index 'synonym_reason_for_termination' for application 'hr_assistant_categories' already exists!\n",
      "Loading index 'synonym_reason_for_termination'\n"
     ]
    },
    {
     "name": "stderr",
     "output_type": "stream",
     "text": [
      "\n",
      "\r",
      "  0%|          | 0/17 [00:00<?, ?it/s]"
     ]
    },
    {
     "name": "stdout",
     "output_type": "stream",
     "text": [
      "POST http://localhost:9200/hr_assistant_categories%24synonym_reason_for_termination/document/_bulk [status:200 request:0.043s]\n"
     ]
    },
    {
     "name": "stderr",
     "output_type": "stream",
     "text": [
      "\r",
      "100%|██████████| 17/17 [00:00<00:00, 373.54it/s]"
     ]
    },
    {
     "name": "stdout",
     "output_type": "stream",
     "text": [
      "Loaded 17 documents\n",
      "Fitting role classifier: domain='general', intent='get_employees', entity_type='maritaldesc'\n",
      "No role model configuration set. Using default.\n",
      "Importing synonym data to synonym index 'synonym_maritaldesc'\n",
      "GET http://localhost:9200/_cluster/health [status:200 request:0.004s]\n",
      "HEAD http://localhost:9200/hr_assistant_categories%24synonym_maritaldesc [status:200 request:0.002s]\n",
      "Elasticsearch index 'synonym_maritaldesc' for application 'hr_assistant_categories' already exists!\n",
      "Loading index 'synonym_maritaldesc'\n"
     ]
    },
    {
     "name": "stderr",
     "output_type": "stream",
     "text": [
      "\n",
      "\r",
      "  0%|          | 0/5 [00:00<?, ?it/s]"
     ]
    },
    {
     "name": "stdout",
     "output_type": "stream",
     "text": [
      "POST http://localhost:9200/hr_assistant_categories%24synonym_maritaldesc/document/_bulk [status:200 request:0.036s]\n"
     ]
    },
    {
     "name": "stderr",
     "output_type": "stream",
     "text": [
      "\r",
      "100%|██████████| 5/5 [00:00<00:00, 127.55it/s]"
     ]
    },
    {
     "name": "stdout",
     "output_type": "stream",
     "text": [
      "Loaded 5 documents\n",
      "Fitting role classifier: domain='general', intent='get_employees', entity_type='citizendesc'\n",
      "No role model configuration set. Using default.\n",
      "Importing synonym data to synonym index 'synonym_citizendesc'\n",
      "GET http://localhost:9200/_cluster/health [status:200 request:0.006s]\n",
      "HEAD http://localhost:9200/hr_assistant_categories%24synonym_citizendesc [status:200 request:0.001s]\n",
      "Elasticsearch index 'synonym_citizendesc' for application 'hr_assistant_categories' already exists!\n",
      "Loading index 'synonym_citizendesc'\n"
     ]
    },
    {
     "name": "stderr",
     "output_type": "stream",
     "text": [
      "\n",
      "\r",
      "  0%|          | 0/3 [00:00<?, ?it/s]"
     ]
    },
    {
     "name": "stdout",
     "output_type": "stream",
     "text": [
      "POST http://localhost:9200/hr_assistant_categories%24synonym_citizendesc/document/_bulk [status:200 request:0.029s]\n"
     ]
    },
    {
     "name": "stderr",
     "output_type": "stream",
     "text": [
      "\r",
      "100%|██████████| 3/3 [00:00<00:00, 96.65it/s]"
     ]
    },
    {
     "name": "stdout",
     "output_type": "stream",
     "text": [
      "Loaded 3 documents\n"
     ]
    },
    {
     "name": "stderr",
     "output_type": "stream",
     "text": [
      "\n"
     ]
    }
   ],
   "source": [
    "nlp.build()"
   ]
  },
  {
   "cell_type": "code",
   "execution_count": 56,
   "metadata": {},
   "outputs": [
    {
     "ename": "NameError",
     "evalue": "name 'er' is not defined",
     "output_type": "error",
     "traceback": [
      "\u001b[0;31m---------------------------------------------------------------------------\u001b[0m",
      "\u001b[0;31mNameError\u001b[0m                                 Traceback (most recent call last)",
      "\u001b[0;32m<ipython-input-56-156e072821d0>\u001b[0m in \u001b[0;36m<module>\u001b[0;34m\u001b[0m\n\u001b[0;32m----> 1\u001b[0;31m \u001b[0mer\u001b[0m\u001b[0;34m.\u001b[0m\u001b[0mevaluate\u001b[0m\u001b[0;34m(\u001b[0m\u001b[0;34m)\u001b[0m\u001b[0;34m\u001b[0m\u001b[0;34m\u001b[0m\u001b[0m\n\u001b[0m",
      "\u001b[0;31mNameError\u001b[0m: name 'er' is not defined"
     ]
    }
   ],
   "source": []
  },
  {
   "cell_type": "code",
   "execution_count": 17,
   "metadata": {},
   "outputs": [
    {
     "name": "stdout",
     "output_type": "stream",
     "text": [
      "The application package hr_assistant_categories is already imported.\n"
     ]
    },
    {
     "name": "stderr",
     "output_type": "stream",
     "text": [
      "/anaconda3/envs/mm_workspace/lib/python3.6/site-packages/mindmeld/_version.py:64: MindMeldVersionWarning: Current mindmeld (4.1.1) does not satisfy mindmeld==4.1.0 in pip requirements caused by (mindmeld 4.1.1 (/anaconda3/envs/mm_workspace/lib/python3.6/site-packages), Requirement.parse('mindmeld==4.1.0'))\n",
      "  warnings.warn(error_msg, category=MindMeldVersionWarning)\n"
     ]
    }
   ],
   "source": [
    "from mindmeld.components.dialogue import Conversation\n",
    "conv = None\n",
    "conv = Conversation(nlp=nlp, app_path='./hr_assistant_categories')"
   ]
  },
  {
   "cell_type": "code",
   "execution_count": 79,
   "metadata": {},
   "outputs": [
    {
     "name": "stdout",
     "output_type": "stream",
     "text": [
      "GET http://localhost:9200/_cluster/health [status:200 request:0.003s]\n",
      "HEAD http://localhost:9200/hr_assistant_categories%24user_data [status:200 request:0.001s]\n",
      "Elasticsearch index 'user_data' for application 'hr_assistant_categories' already exists!\n",
      "Loading index 'user_data'\n"
     ]
    },
    {
     "name": "stderr",
     "output_type": "stream",
     "text": [
      "\r",
      "  0%|          | 0/301 [00:00<?, ?it/s]"
     ]
    },
    {
     "name": "stdout",
     "output_type": "stream",
     "text": [
      "POST http://localhost:9200/hr_assistant_categories%24user_data/document/_bulk [status:200 request:0.043s]\n",
      "POST http://localhost:9200/hr_assistant_categories%24user_data/document/_bulk [status:200 request:0.043s]\n",
      "POST http://localhost:9200/hr_assistant_categories%24user_data/document/_bulk [status:200 request:0.047s]\n"
     ]
    },
    {
     "name": "stderr",
     "output_type": "stream",
     "text": [
      "\r",
      " 34%|███▎      | 101/301 [00:00<00:00, 709.14it/s]"
     ]
    },
    {
     "name": "stdout",
     "output_type": "stream",
     "text": [
      "POST http://localhost:9200/hr_assistant_categories%24user_data/document/_bulk [status:200 request:0.043s]\n",
      "POST http://localhost:9200/hr_assistant_categories%24user_data/document/_bulk [status:200 request:0.046s]\n",
      "POST http://localhost:9200/hr_assistant_categories%24user_data/document/_bulk [status:200 request:0.041s]\n"
     ]
    },
    {
     "name": "stderr",
     "output_type": "stream",
     "text": [
      "\r",
      " 83%|████████▎ | 251/301 [00:00<00:00, 792.06it/s]"
     ]
    },
    {
     "name": "stdout",
     "output_type": "stream",
     "text": [
      "POST http://localhost:9200/hr_assistant_categories%24user_data/document/_bulk [status:200 request:0.015s]\n"
     ]
    },
    {
     "name": "stderr",
     "output_type": "stream",
     "text": [
      "\r",
      "100%|██████████| 301/301 [00:00<00:00, 1012.70it/s]"
     ]
    },
    {
     "name": "stdout",
     "output_type": "stream",
     "text": [
      "Loaded 301 documents\n",
      "GET http://localhost:9200/_cluster/health [status:200 request:0.003s]\n",
      "HEAD http://localhost:9200/hr_assistant_categories%24user_data [status:200 request:0.001s]\n",
      "GET http://localhost:9200/hr_assistant_categories%24user_data/_search [status:200 request:0.003s]\n"
     ]
    },
    {
     "name": "stderr",
     "output_type": "stream",
     "text": [
      "\n"
     ]
    },
    {
     "data": {
      "text/plain": [
       "['Ivan Rogers is Married']"
      ]
     },
     "execution_count": 79,
     "metadata": {},
     "output_type": "execute_result"
    }
   ],
   "source": [
    "conv.say('Is Ivan joined in holy matrimony?')"
   ]
  },
  {
   "cell_type": "code",
   "execution_count": null,
   "metadata": {},
   "outputs": [],
   "source": []
  },
  {
   "cell_type": "code",
   "execution_count": null,
   "metadata": {},
   "outputs": [],
   "source": []
  },
  {
   "cell_type": "code",
   "execution_count": null,
   "metadata": {},
   "outputs": [],
   "source": []
  },
  {
   "cell_type": "code",
   "execution_count": null,
   "metadata": {},
   "outputs": [],
   "source": []
  }
 ],
 "metadata": {
  "kernelspec": {
   "display_name": "Python 3",
   "language": "python",
   "name": "python3"
  },
  "language_info": {
   "codemirror_mode": {
    "name": "ipython",
    "version": 3
   },
   "file_extension": ".py",
   "mimetype": "text/x-python",
   "name": "python",
   "nbconvert_exporter": "python",
   "pygments_lexer": "ipython3",
   "version": "3.6.8"
  }
 },
 "nbformat": 4,
 "nbformat_minor": 2
}
