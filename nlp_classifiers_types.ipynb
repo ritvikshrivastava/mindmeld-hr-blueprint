{
 "cells": [
  {
   "cell_type": "code",
   "execution_count": 1,
   "metadata": {},
   "outputs": [
    {
     "name": "stderr",
     "output_type": "stream",
     "text": [
      "/anaconda3/envs/mm_workspace/lib/python3.6/site-packages/sklearn/ensemble/weight_boosting.py:29: DeprecationWarning: numpy.core.umath_tests is an internal NumPy module and should not be imported. It will be removed in a future NumPy release.\n",
      "  from numpy.core.umath_tests import inner1d\n"
     ]
    }
   ],
   "source": [
    "from mindmeld import configure_logs; configure_logs()"
   ]
  },
  {
   "cell_type": "code",
   "execution_count": 2,
   "metadata": {},
   "outputs": [],
   "source": [
    "# import logging\n",
    "# logger = logging.getLogger()\n",
    "# logger.setLevel(logging.INFO)\n",
    "# logging.info(\"test\")"
   ]
  },
  {
   "cell_type": "code",
   "execution_count": 3,
   "metadata": {},
   "outputs": [
    {
     "name": "stderr",
     "output_type": "stream",
     "text": [
      "/anaconda3/envs/mm_workspace/lib/python3.6/site-packages/mindmeld/_version.py:64: MindMeldVersionWarning: Current mindmeld (4.1.1) does not satisfy mindmeld==4.1.0 in pip requirements caused by (mindmeld 4.1.1 (/anaconda3/envs/mm_workspace/lib/python3.6/site-packages), Requirement.parse('mindmeld==4.1.0'))\n",
      "  warnings.warn(error_msg, category=MindMeldVersionWarning)\n"
     ]
    },
    {
     "data": {
      "text/plain": [
       "<NaturalLanguageProcessor './hr_assistant_types' ready: False, dirty: False>"
      ]
     },
     "execution_count": 3,
     "metadata": {},
     "output_type": "execute_result"
    }
   ],
   "source": [
    "from mindmeld.components.nlp import NaturalLanguageProcessor\n",
    "nlp = NaturalLanguageProcessor(app_path='./hr_assistant_types')\n",
    "nlp"
   ]
  },
  {
   "cell_type": "code",
   "execution_count": 4,
   "metadata": {},
   "outputs": [
    {
     "data": {
      "text/plain": [
       "{'employee': <DomainProcessor 'employee' ready: False, dirty: False>,\n",
       " 'agg': <DomainProcessor 'agg' ready: False, dirty: False>,\n",
       " 'hierarchy': <DomainProcessor 'hierarchy' ready: False, dirty: False>,\n",
       " 'info': <DomainProcessor 'info' ready: False, dirty: False>}"
      ]
     },
     "execution_count": 4,
     "metadata": {},
     "output_type": "execute_result"
    }
   ],
   "source": [
    "nlp.domains"
   ]
  },
  {
   "cell_type": "code",
   "execution_count": 5,
   "metadata": {
    "scrolled": false
   },
   "outputs": [
    {
     "data": {
      "text/plain": [
       "<DomainClassifier ready: False, dirty: False>"
      ]
     },
     "execution_count": 5,
     "metadata": {},
     "output_type": "execute_result"
    }
   ],
   "source": [
    "dc = nlp.domain_classifier\n",
    "dc"
   ]
  },
  {
   "cell_type": "code",
   "execution_count": 6,
   "metadata": {
    "scrolled": false
   },
   "outputs": [
    {
     "name": "stdout",
     "output_type": "stream",
     "text": [
      "Fitting domain classifier\n",
      "Loading raw queries from file ./hr_assistant_types/domains/agg/get_aggregate/train.txt\n",
      "Loading raw queries from file ./hr_assistant_types/domains/agg/get_date_range_aggregate/train.txt\n",
      "Loading raw queries from file ./hr_assistant_types/domains/agg/get_salary_aggregate/train.txt\n",
      "Loading raw queries from file ./hr_assistant_types/domains/employee/get date_range_employees/train.txt\n",
      "Loading raw queries from file ./hr_assistant_types/domains/employee/get_employees/train.txt\n",
      "Loading raw queries from file ./hr_assistant_types/domains/employee/get_salary_employees/train.txt\n",
      "Loading raw queries from file ./hr_assistant_types/domains/hierarchy/get_hierarchy/train.txt\n",
      "Loading raw queries from file ./hr_assistant_types/domains/info/get_date/train.txt\n",
      "Loading raw queries from file ./hr_assistant_types/domains/info/get_info/train.txt\n",
      "Loading raw queries from file ./hr_assistant_types/domains/info/get_salary/train.txt\n",
      "Loading queries from file ./hr_assistant_types/domains/agg/get_aggregate/train.txt\n",
      "Loading queries from file ./hr_assistant_types/domains/agg/get_date_range_aggregate/train.txt\n",
      "Loading queries from file ./hr_assistant_types/domains/agg/get_salary_aggregate/train.txt\n",
      "Loading queries from file ./hr_assistant_types/domains/employee/get date_range_employees/train.txt\n",
      "Loading queries from file ./hr_assistant_types/domains/employee/get_employees/train.txt\n",
      "Loading queries from file ./hr_assistant_types/domains/employee/get_salary_employees/train.txt\n",
      "Loading queries from file ./hr_assistant_types/domains/hierarchy/get_hierarchy/train.txt\n",
      "Loading queries from file ./hr_assistant_types/domains/info/get_date/train.txt\n",
      "Loading queries from file ./hr_assistant_types/domains/info/get_info/train.txt\n",
      "Loading queries from file ./hr_assistant_types/domains/info/get_salary/train.txt\n",
      "Selecting hyperparameters using k-fold cross-validation with 100 splits\n",
      "Best accuracy: 94.16%, params: {'C': 1000, 'fit_intercept': False, 'penalty': 'l1'}\n"
     ]
    }
   ],
   "source": [
    "dc.fit(model_settings={'classifier_type': \"logreg\"}, param_selection={'grid':{\n",
    "  'penalty': ['l1', 'l2'],\n",
    "  'C': [0.1, 1, 10, 100, 1000, 10000, 100000],\n",
    "   'fit_intercept': [True, False]\n",
    "},'type':'k-fold','k' : 100})"
   ]
  },
  {
   "cell_type": "code",
   "execution_count": 77,
   "metadata": {},
   "outputs": [
    {
     "name": "stdout",
     "output_type": "stream",
     "text": [
      "Overall statistics: \n",
      "\n",
      "    accuracy f1_weighted          tp          tn          fp          fn    f1_macro    f1_micro\n",
      "       0.929       0.928         130         410          10          10       0.919       0.929\n",
      "\n",
      "\n",
      "\n",
      "Statistics by class: \n",
      "\n",
      "               class      f_beta   precision      recall     support          tp          tn          fp          fn\n",
      "                 agg       0.907       0.919       0.895          38          34          99           3           4\n",
      "                info       0.945       0.915       0.977          44          43          92           4           1\n",
      "            employee       0.944       0.955       0.933          45          42          93           2           3\n",
      "           hierarchy       0.880       0.917       0.846          13          11         126           1           2\n",
      "\n",
      "\n",
      "\n",
      "Confusion matrix: \n",
      "\n",
      "                           agg           info       employee      hierarchy\n",
      "            agg             34              2              2              0\n",
      "           info              1             43              0              0\n",
      "       employee              2              0             42              1\n",
      "      hierarchy              0              2              0             11\n",
      "\n",
      "\n",
      "\n"
     ]
    }
   ],
   "source": [
    "dc.evaluate().print_stats()"
   ]
  },
  {
   "cell_type": "code",
   "execution_count": 37,
   "metadata": {},
   "outputs": [
    {
     "data": {
      "text/plain": [
       "<IntentClassifier ready: True, dirty: True>"
      ]
     },
     "execution_count": 37,
     "metadata": {},
     "output_type": "execute_result"
    }
   ],
   "source": [
    "# Intent classifier:\n",
    "ic_info = nlp.domains['info'].intent_classifier\n",
    "ic_info"
   ]
  },
  {
   "cell_type": "code",
   "execution_count": 45,
   "metadata": {},
   "outputs": [
    {
     "name": "stdout",
     "output_type": "stream",
     "text": [
      "Fitting intent classifier: domain='info'\n",
      "Selecting hyperparameters using k-fold cross-validation with 5 splits\n",
      "Best accuracy: 91.76%, params: {'C': 100, 'class_weight': {0: 0.995906432748538, 1: 1.0083333333333333, 2: 0.995906432748538}, 'fit_intercept': True}\n"
     ]
    }
   ],
   "source": [
    "ic_info.fit(model_settings={'classifier_type': \"logreg\"})"
   ]
  },
  {
   "cell_type": "code",
   "execution_count": 46,
   "metadata": {},
   "outputs": [
    {
     "data": {
      "text/plain": [
       "<IntentClassifier ready: False, dirty: False>"
      ]
     },
     "execution_count": 46,
     "metadata": {},
     "output_type": "execute_result"
    }
   ],
   "source": [
    "# Intent classifier:\n",
    "ic_agg = nlp.domains['agg'].intent_classifier\n",
    "ic_agg"
   ]
  },
  {
   "cell_type": "code",
   "execution_count": 52,
   "metadata": {},
   "outputs": [
    {
     "name": "stdout",
     "output_type": "stream",
     "text": [
      "Fitting intent classifier: domain='agg'\n",
      "Selecting hyperparameters using k-fold cross-validation with 5 splits\n",
      "Best accuracy: 79.33%, params: {'C': 1, 'class_weight': {0: 0.7861111111111111, 1: 1.890909090909091, 2: 0.925}, 'fit_intercept': True}\n"
     ]
    }
   ],
   "source": [
    "ic_agg.fit(model_settings={'classifier_type': \"logreg\"})"
   ]
  },
  {
   "cell_type": "code",
   "execution_count": 53,
   "metadata": {
    "scrolled": true
   },
   "outputs": [
    {
     "data": {
      "text/plain": [
       "<IntentClassifier ready: False, dirty: False>"
      ]
     },
     "execution_count": 53,
     "metadata": {},
     "output_type": "execute_result"
    }
   ],
   "source": [
    "# Intent classifier:\n",
    "ic_employee = nlp.domains['employee'].intent_classifier\n",
    "ic_employee"
   ]
  },
  {
   "cell_type": "code",
   "execution_count": 64,
   "metadata": {
    "scrolled": true
   },
   "outputs": [
    {
     "name": "stdout",
     "output_type": "stream",
     "text": [
      "Fitting intent classifier: domain='employee'\n",
      "Selecting hyperparameters using k-fold cross-validation with 5 splits\n",
      "Unexpected param `fit_intercept`, dropping it from model config.\n",
      "Best accuracy: 86.59%, params: {'C': 100, 'class_weight': {0: 1.0458333333333334, 1: 0.9233830845771144, 2: 1.0458333333333334}}\n"
     ]
    }
   ],
   "source": [
    "ic_employee.fit(model_settings={'classifier_type': \"svm\"})"
   ]
  },
  {
   "cell_type": "code",
   "execution_count": null,
   "metadata": {
    "scrolled": true
   },
   "outputs": [],
   "source": [
    "# Intent classifier:\n",
    "ic_hierarchy = nlp.domains['hierarchy'].intent_classifier\n",
    "ic_hierarchy"
   ]
  },
  {
   "cell_type": "code",
   "execution_count": null,
   "metadata": {
    "scrolled": true
   },
   "outputs": [],
   "source": [
    "ic_hierarchy.fit()"
   ]
  },
  {
   "cell_type": "code",
   "execution_count": null,
   "metadata": {},
   "outputs": [],
   "source": [
    "# nlp.inspect('is Mia married', domain='hr_assistant')"
   ]
  },
  {
   "cell_type": "code",
   "execution_count": null,
   "metadata": {
    "scrolled": false
   },
   "outputs": [],
   "source": [
    "nlp.build()"
   ]
  },
  {
   "cell_type": "code",
   "execution_count": null,
   "metadata": {},
   "outputs": [],
   "source": [
    "nlp.domains['hr_assistant'].intents['get_info'].entities\n",
    "\n"
   ]
  },
  {
   "cell_type": "code",
   "execution_count": null,
   "metadata": {},
   "outputs": [],
   "source": [
    "nlp.domains['hr_assistant'].intents['get_date_range_aggregate'].entities"
   ]
  },
  {
   "cell_type": "code",
   "execution_count": null,
   "metadata": {},
   "outputs": [],
   "source": []
  }
 ],
 "metadata": {
  "kernelspec": {
   "display_name": "Python 3",
   "language": "python",
   "name": "python3"
  },
  "language_info": {
   "codemirror_mode": {
    "name": "ipython",
    "version": 3
   },
   "file_extension": ".py",
   "mimetype": "text/x-python",
   "name": "python",
   "nbconvert_exporter": "python",
   "pygments_lexer": "ipython3",
   "version": "3.6.8"
  }
 },
 "nbformat": 4,
 "nbformat_minor": 2
}
