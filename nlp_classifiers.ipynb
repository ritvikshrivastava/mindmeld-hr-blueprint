{
 "cells": [
  {
   "cell_type": "code",
   "execution_count": 80,
   "metadata": {},
   "outputs": [
    {
     "name": "stdout",
     "output_type": "stream",
     "text": [
      "The application package hr_assistant is already imported.\n"
     ]
    },
    {
     "name": "stderr",
     "output_type": "stream",
     "text": [
      "/anaconda3/envs/mm_workspace/lib/python3.6/site-packages/mindmeld/_version.py:64: MindMeldVersionWarning: Current mindmeld (4.1.1) does not satisfy mindmeld==4.1.0 in pip requirements caused by (mindmeld 4.1.1 (/anaconda3/envs/mm_workspace/lib/python3.6/site-packages), Requirement.parse('mindmeld==4.1.0'))\n",
      "  warnings.warn(error_msg, category=MindMeldVersionWarning)\n"
     ]
    },
    {
     "data": {
      "text/plain": [
       "<NaturalLanguageProcessor './hr_assistant' ready: False, dirty: False>"
      ]
     },
     "execution_count": 80,
     "metadata": {},
     "output_type": "execute_result"
    }
   ],
   "source": [
    "from mindmeld.components.nlp import NaturalLanguageProcessor\n",
    "nlp = NaturalLanguageProcessor(app_path='./hr_assistant')\n",
    "nlp"
   ]
  },
  {
   "cell_type": "code",
   "execution_count": 81,
   "metadata": {},
   "outputs": [
    {
     "data": {
      "text/plain": [
       "{'hr_assistant': <DomainProcessor 'hr_assistant' ready: False, dirty: False>}"
      ]
     },
     "execution_count": 81,
     "metadata": {},
     "output_type": "execute_result"
    }
   ],
   "source": [
    "nlp.domains"
   ]
  },
  {
   "cell_type": "code",
   "execution_count": 82,
   "metadata": {},
   "outputs": [
    {
     "name": "stdout",
     "output_type": "stream",
     "text": [
      "Fitting domain classifier\n",
      "Loading raw queries from file ./hr_assistant/domains/hr_assistant/get date_range_employees/train.txt\n",
      "Loading raw queries from file ./hr_assistant/domains/hr_assistant/get_aggregate/train.txt\n",
      "Loading raw queries from file ./hr_assistant/domains/hr_assistant/get_date/train.txt\n",
      "Loading raw queries from file ./hr_assistant/domains/hr_assistant/get_date_range_aggregate/train.txt\n",
      "Loading raw queries from file ./hr_assistant/domains/hr_assistant/get_employees/train.txt\n",
      "Loading raw queries from file ./hr_assistant/domains/hr_assistant/get_hierarchy/train.txt\n",
      "Loading raw queries from file ./hr_assistant/domains/hr_assistant/get_info/train.txt\n",
      "Loading raw queries from file ./hr_assistant/domains/hr_assistant/get_salary/train.txt\n",
      "Loading raw queries from file ./hr_assistant/domains/hr_assistant/get_salary_aggregate/train.txt\n",
      "Loading raw queries from file ./hr_assistant/domains/hr_assistant/get_salary_employees/train.txt\n",
      "Loading queries from file ./hr_assistant/domains/hr_assistant/get date_range_employees/train.txt\n",
      "Unable to load query: Unable to resolve system entity of type 'sys_interval' for 'July'. Entities found for the following types ['sys_time']\n",
      "Unable to load query: Unable to resolve system entity of type 'sys_interval' for \"90's\".\n",
      "Unable to load query: Unable to resolve system entity of type 'sys_interval' for 'November'. Entities found for the following types ['sys_time']\n",
      "Unable to load query: Unable to resolve system entity of type 'sys_interval' for 'this year'. Entities found for the following types ['sys_time']\n",
      "Unable to load query: Unable to resolve system entity of type 'sys_interval' for 'second week of feb'. Entities found for the following types ['sys_time']\n",
      "Unable to load query: Unable to resolve system entity of type 'sys_interval' for 'July'. Entities found for the following types ['sys_time']\n",
      "Unable to load query: Unable to resolve system entity of type 'sys_interval' for 'last year'. Entities found for the following types ['sys_time']\n",
      "Unable to load query: Unable to resolve system entity of type 'sys_interval' for 'this year'. Entities found for the following types ['sys_time']\n",
      "Unable to load query: Unable to resolve system entity of type 'sys_interval' for 'August'. Entities found for the following types ['sys_time']\n",
      "Unable to load query: Unable to resolve system entity of type 'sys_interval' for 'eighties'.\n",
      "Unable to load query: Unable to resolve system entity of type 'sys_interval' for 'four years ago'. Entities found for the following types ['sys_time']\n",
      "Unable to load query: Unable to resolve system entity of type 'sys_interval' for \"1970's\".\n",
      "Unable to load query: Unable to resolve system entity of type 'sys_interval' for 'last year'. Entities found for the following types ['sys_time']\n",
      "Unable to load query: Unable to resolve system entity of type 'sys_interval' for '2017'. Entities found for the following types ['sys_temperature', 'sys_amount-of-money', 'sys_number', 'sys_time']\n",
      "Unable to load query: Unable to resolve system entity of type 'sys_interval' for 'feb'. Entities found for the following types ['sys_time']\n",
      "Unable to load query: Unable to resolve system entity of type 'sys_interval' for 'this month'. Entities found for the following types ['sys_time']\n",
      "Unable to load query: Unable to resolve system entity of type 'sys_interval' for 'seventies'.\n",
      "Unable to load query: Unable to resolve system entity of type 'sys_interval' for '4 years ago'. Entities found for the following types ['sys_time']\n",
      "Unable to load query: Unable to resolve system entity of type 'sys_interval' for '2015'. Entities found for the following types ['sys_temperature', 'sys_amount-of-money', 'sys_number', 'sys_time']\n",
      "Unable to load query: Unable to resolve system entity of type 'sys_interval' for 'August'. Entities found for the following types ['sys_time']\n",
      "Unable to load query: Unable to resolve system entity of type 'sys_interval' for 'May'. Entities found for the following types ['sys_time']\n",
      "Unable to load query: Unable to resolve system entity of type 'sys_interval' for \"80's\".\n",
      "Unable to load query: Unable to resolve system entity of type 'sys_interval' for 'May'. Entities found for the following types ['sys_time']\n",
      "Unable to load query: Unable to resolve system entity of type 'sys_interval' for \"90's\".\n",
      "Unable to load query: Unable to resolve system entity of type 'sys_interval' for \"90's\".\n",
      "Unable to load query: Unable to resolve system entity of type 'sys_interval' for \"90's\".\n",
      "Unable to load query: Unable to resolve system entity of type 'sys_interval' for '2016'. Entities found for the following types ['sys_temperature', 'sys_amount-of-money', 'sys_number', 'sys_time']\n",
      "Unable to load query: Unable to resolve system entity of type 'sys_interval' for 'last year'. Entities found for the following types ['sys_time']\n",
      "Unable to load query: Unable to resolve system entity of type 'sys_interval' for 'three yrs ago'. Entities found for the following types ['sys_time']\n",
      "Unknown entity 'employement_action' found in query 'MA employees hired 4 years ago'\n",
      "Loading queries from file ./hr_assistant/domains/hr_assistant/get_aggregate/train.txt\n",
      "Unknown entity 'race' found in query 'How many employees are asian?'\n",
      "Loading queries from file ./hr_assistant/domains/hr_assistant/get_date/train.txt\n",
      "Unable to load query: Unable to resolve system entity of type 'sys_interval' for 'May'. Entities found for the following types ['sys_time']\n",
      "Unable to load query: Unable to resolve system entity of type 'sys_interval' for 'May'. Entities found for the following types ['sys_time']\n",
      "Unable to load query: Unable to resolve system entity of type 'sys_interval' for 'June'. Entities found for the following types ['sys_time']\n",
      "Loading queries from file ./hr_assistant/domains/hr_assistant/get_date_range_aggregate/train.txt\n",
      "Unable to load query: Unable to resolve system entity of type 'sys_interval' for 'five years of 1980'.\n",
      "Unable to load query: Unable to resolve system entity of type 'sys_interval' for \"2000's\".\n",
      "Unable to load query: Unable to resolve system entity of type 'sys_interval' for 'year of 2014'.\n",
      "Unable to load query: Unable to resolve system entity of type 'sys_interval' for '1980'. Entities found for the following types ['sys_temperature', 'sys_amount-of-money', 'sys_number', 'sys_time']\n",
      "Unknown entity 'dob' found in query 'What percentage of employees were born after 2010?'\n",
      "Loading queries from file ./hr_assistant/domains/hr_assistant/get_employees/train.txt\n",
      "Unable to load query: Unable to resolve system entity of type 'sys_duration' for 'September'. Entities found for the following types ['sys_time']\n",
      "Unknown entity 'race' found in query 'Which employee(s) are from Asia?'\n",
      "Loading queries from file ./hr_assistant/domains/hr_assistant/get_hierarchy/train.txt\n",
      "Unable to load query: Unable to resolve system entity of type 'sys_number' for 'Amy'.\n",
      "Loading queries from file ./hr_assistant/domains/hr_assistant/get_info/train.txt\n",
      "Unknown entity 'race' found in query \"Is Nan's race Asian?\"\n",
      "Loading queries from file ./hr_assistant/domains/hr_assistant/get_salary/train.txt\n",
      "Unable to load query: Unable to resolve system entity of type 'sys_interval' for 'every year'.\n",
      "Unable to load query: Unable to resolve system entity of type 'sys_interval' for 'every month'.\n",
      "Unable to load query: Unable to resolve system entity of type 'sys_interval' for 'Each year'.\n",
      "Unable to load query: Unable to resolve system entity of type 'sys_interval' for 'hourly'.\n",
      "Unable to load query: Unable to resolve system entity of type 'sys_interval' for 'yearly'.\n",
      "Unable to load query: Unable to resolve system entity of type 'sys_interval' for 'every year'.\n",
      "Unable to load query: Unable to resolve system entity of type 'sys_interval' for 'monthly'.\n",
      "Unable to load query: Unable to resolve system entity of type 'sys_interval' for 'annual'.\n",
      "Unable to load query: Unable to resolve system entity of type 'sys_interval' for 'year to year'.\n",
      "Unable to load query: Unable to resolve system entity of type 'sys_interval' for 'on the hour'.\n",
      "Unable to load query: Unable to resolve system entity of type 'sys_interval' for 'each year'.\n",
      "Unable to load query: Unable to resolve system entity of type 'sys_interval' for 'daily'.\n"
     ]
    },
    {
     "name": "stdout",
     "output_type": "stream",
     "text": [
      "Unable to load query: Unable to resolve system entity of type 'sys_interval' for 'hourly'.\n",
      "Unable to load query: Unable to resolve system entity of type 'sys_interval' for 'month to month'.\n",
      "Unable to load query: Unable to resolve system entity of type 'sys_interval' for 'hourly'.\n",
      "Unable to load query: Unable to resolve system entity of type 'sys_duration' for 'year'.\n",
      "Unable to load query: Unable to resolve system entity of type 'sys_duration' for 'monthly'.\n",
      "Unable to load query: Unable to resolve system entity of type 'sys_interval' for 'Daily'.\n",
      "Unable to load query: Unable to resolve system entity of type 'sys_interval' for 'Yearly'.\n",
      "Unable to load query: Unable to resolve system entity of type 'sys_interval' for 'every year'.\n",
      "Loading queries from file ./hr_assistant/domains/hr_assistant/get_salary_aggregate/train.txt\n",
      "Unable to load query: Unable to resolve system entity of type 'sys_interval' for 'an hour'. Entities found for the following types ['sys_duration']\n",
      "Unable to load query: Unable to resolve system entity of type 'sys_interval' for 'yearly'.\n",
      "Unable to load query: Unable to resolve system entity of type 'sys_duration' for 'year'.\n",
      "Unable to load query: Unable to resolve system entity of type 'sys_interval' for 'yearly'.\n",
      "Unable to load query: Unable to resolve system entity of type 'sys_interval' for 'last year'. Entities found for the following types ['sys_time']\n",
      "Unknown entity 'manger' found in query 'what portion of employees that work for Mr. Butler make more than 50k?'\n",
      "Loading queries from file ./hr_assistant/domains/hr_assistant/get_salary_employees/train.txt\n",
      "Unable to load query: Unable to resolve system entity of type 'sys_interval' for 'yearly'.\n",
      "Unable to load query: Unable to resolve system entity of type 'sys_interval' for 'yearly'.\n",
      "Unknown entity 'race' found in query \"who are the company's top 20 asian earners\"\n",
      "Not doing anything for fit since there is only one class.\n"
     ]
    }
   ],
   "source": [
    "dc = nlp.domain_classifier\n",
    "dc.fit()"
   ]
  },
  {
   "cell_type": "code",
   "execution_count": 83,
   "metadata": {},
   "outputs": [
    {
     "data": {
      "text/plain": [
       "<IntentClassifier ready: False, dirty: False>"
      ]
     },
     "execution_count": 83,
     "metadata": {},
     "output_type": "execute_result"
    }
   ],
   "source": [
    "# Intent classifier:\n",
    "ic = nlp.domains['hr_assistant'].intent_classifier\n",
    "ic"
   ]
  },
  {
   "cell_type": "code",
   "execution_count": 84,
   "metadata": {},
   "outputs": [
    {
     "name": "stdout",
     "output_type": "stream",
     "text": [
      "Fitting intent classifier: domain='hr_assistant'\n",
      "Selecting hyperparameters using k-fold cross-validation with 5 splits\n",
      "Best accuracy: 80.66%, params: {'C': 10, 'class_weight': {0: 1.0, 1: 1.0, 2: 1.0, 3: 1.0, 4: 1.0, 5: 1.0, 6: 1.0, 7: 1.0, 8: 1.0, 9: 1.0}, 'fit_intercept': True}\n"
     ]
    }
   ],
   "source": [
    "ic.fit()"
   ]
  },
  {
   "cell_type": "code",
   "execution_count": 79,
   "metadata": {},
   "outputs": [
    {
     "name": "stdout",
     "output_type": "stream",
     "text": [
      "Inspecting domain classification\n"
     ]
    },
    {
     "ename": "AttributeError",
     "evalue": "'NoneType' object has no attribute 'inspect'",
     "output_type": "error",
     "traceback": [
      "\u001b[0;31m---------------------------------------------------------------------------\u001b[0m",
      "\u001b[0;31mAttributeError\u001b[0m                            Traceback (most recent call last)",
      "\u001b[0;32m<ipython-input-79-d293e5552508>\u001b[0m in \u001b[0;36m<module>\u001b[0;34m\u001b[0m\n\u001b[0;32m----> 1\u001b[0;31m \u001b[0mnlp\u001b[0m\u001b[0;34m.\u001b[0m\u001b[0minspect\u001b[0m\u001b[0;34m(\u001b[0m\u001b[0;34m'is Mia married'\u001b[0m\u001b[0;34m,\u001b[0m \u001b[0mdomain\u001b[0m\u001b[0;34m=\u001b[0m\u001b[0;34m'hr_assistant'\u001b[0m\u001b[0;34m)\u001b[0m\u001b[0;34m\u001b[0m\u001b[0;34m\u001b[0m\u001b[0m\n\u001b[0m",
      "\u001b[0;32m/anaconda3/envs/mm_workspace/lib/python3.6/site-packages/mindmeld/components/nlp.py\u001b[0m in \u001b[0;36minspect\u001b[0;34m(self, markup, domain, intent, dynamic_resource)\u001b[0m\n\u001b[1;32m    557\u001b[0m             \u001b[0mprint\u001b[0m\u001b[0;34m(\u001b[0m\u001b[0;34m'Inspecting domain classification'\u001b[0m\u001b[0;34m)\u001b[0m\u001b[0;34m\u001b[0m\u001b[0;34m\u001b[0m\u001b[0m\n\u001b[1;32m    558\u001b[0m             domain_inspection = self.domain_classifier.inspect(\n\u001b[0;32m--> 559\u001b[0;31m                 query, domain=domain, dynamic_resource=dynamic_resource)\n\u001b[0m\u001b[1;32m    560\u001b[0m             \u001b[0mprint\u001b[0m\u001b[0;34m(\u001b[0m\u001b[0mdomain_inspection\u001b[0m\u001b[0;34m)\u001b[0m\u001b[0;34m\u001b[0m\u001b[0;34m\u001b[0m\u001b[0m\n\u001b[1;32m    561\u001b[0m             \u001b[0mprint\u001b[0m\u001b[0;34m(\u001b[0m\u001b[0;34m''\u001b[0m\u001b[0;34m)\u001b[0m\u001b[0;34m\u001b[0m\u001b[0;34m\u001b[0m\u001b[0m\n",
      "\u001b[0;32m/anaconda3/envs/mm_workspace/lib/python3.6/site-packages/mindmeld/components/domain_classifier.py\u001b[0m in \u001b[0;36minspect\u001b[0;34m(self, query, domain, dynamic_resource)\u001b[0m\n\u001b[1;32m     98\u001b[0m                 \u001b[0mprobability\u001b[0m\u001b[0;34m.\u001b[0m\u001b[0;34m\u001b[0m\u001b[0;34m\u001b[0m\u001b[0m\n\u001b[1;32m     99\u001b[0m         \"\"\"\n\u001b[0;32m--> 100\u001b[0;31m         return self._model.inspect(\n\u001b[0m\u001b[1;32m    101\u001b[0m             example=query, gold_label=domain, dynamic_resource=dynamic_resource)\n\u001b[1;32m    102\u001b[0m \u001b[0;34m\u001b[0m\u001b[0m\n",
      "\u001b[0;31mAttributeError\u001b[0m: 'NoneType' object has no attribute 'inspect'"
     ]
    }
   ],
   "source": [
    "# nlp.inspect('is Mia married', domain='hr_assistant')"
   ]
  },
  {
   "cell_type": "code",
   "execution_count": 69,
   "metadata": {},
   "outputs": [
    {
     "data": {
      "text/plain": [
       "{}"
      ]
     },
     "execution_count": 69,
     "metadata": {},
     "output_type": "execute_result"
    }
   ],
   "source": [
    "nlp.domains['hr_assistant'].intents['get_salary'].entities\n"
   ]
  },
  {
   "cell_type": "code",
   "execution_count": 10,
   "metadata": {},
   "outputs": [
    {
     "data": {
      "text/plain": [
       "['/anaconda3/envs/mindmeld2/lib/python36.zip',\n",
       " '/anaconda3/envs/mindmeld2/lib/python3.6',\n",
       " '/anaconda3/envs/mindmeld2/lib/python3.6/lib-dynload',\n",
       " '',\n",
       " '/anaconda3/envs/mindmeld2/lib/python3.6/site-packages',\n",
       " '/anaconda3/envs/mindmeld2/lib/python3.6/site-packages/IPython/extensions',\n",
       " '/Users/kunshar2/.ipython']"
      ]
     },
     "execution_count": 10,
     "metadata": {},
     "output_type": "execute_result"
    }
   ],
   "source": []
  }
 ],
 "metadata": {
  "kernelspec": {
   "display_name": "Python 3",
   "language": "python",
   "name": "python3"
  },
  "language_info": {
   "codemirror_mode": {
    "name": "ipython",
    "version": 3
   },
   "file_extension": ".py",
   "mimetype": "text/x-python",
   "name": "python",
   "nbconvert_exporter": "python",
   "pygments_lexer": "ipython3",
   "version": "3.6.8"
  }
 },
 "nbformat": 4,
 "nbformat_minor": 2
}
