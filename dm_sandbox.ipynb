{
 "cells": [
  {
   "cell_type": "code",
   "execution_count": 1,
   "metadata": {},
   "outputs": [
    {
     "name": "stderr",
     "output_type": "stream",
     "text": [
      "/anaconda3/envs/mm_workspace/lib/python3.6/site-packages/sklearn/ensemble/weight_boosting.py:29: DeprecationWarning: numpy.core.umath_tests is an internal NumPy module and should not be imported. It will be removed in a future NumPy release.\n",
      "  from numpy.core.umath_tests import inner1d\n"
     ]
    }
   ],
   "source": [
    "from mindmeld import configure_logs; configure_logs()"
   ]
  },
  {
   "cell_type": "code",
   "execution_count": 2,
   "metadata": {},
   "outputs": [
    {
     "name": "stderr",
     "output_type": "stream",
     "text": [
      "/anaconda3/envs/mm_workspace/lib/python3.6/site-packages/mindmeld/_version.py:64: MindMeldVersionWarning: Current mindmeld (4.1.1) does not satisfy mindmeld==4.1.0 in pip requirements caused by (mindmeld 4.1.1 (/anaconda3/envs/mm_workspace/lib/python3.6/site-packages), Requirement.parse('mindmeld==4.1.0'))\n",
      "  warnings.warn(error_msg, category=MindMeldVersionWarning)\n"
     ]
    },
    {
     "data": {
      "text/plain": [
       "<NaturalLanguageProcessor './hr_assistant_categories' ready: False, dirty: False>"
      ]
     },
     "execution_count": 2,
     "metadata": {},
     "output_type": "execute_result"
    }
   ],
   "source": [
    "from mindmeld.components.nlp import NaturalLanguageProcessor\n",
    "nlp = NaturalLanguageProcessor(app_path='./hr_assistant_categories')\n",
    "nlp"
   ]
  },
  {
   "cell_type": "code",
   "execution_count": 3,
   "metadata": {},
   "outputs": [
    {
     "name": "stdout",
     "output_type": "stream",
     "text": [
      "Fitting domain classifier\n",
      "Loading raw queries from file ./hr_assistant_categories/domains/date/get_date/train.txt\n",
      "Loading raw queries from file ./hr_assistant_categories/domains/date/get_date_range_aggregate/train.txt\n",
      "Loading raw queries from file ./hr_assistant_categories/domains/date/get_date_range_employees/train.txt\n",
      "Loading raw queries from file ./hr_assistant_categories/domains/general/get_aggregate/train.txt\n",
      "Loading raw queries from file ./hr_assistant_categories/domains/general/get_employees/train.txt\n",
      "Loading raw queries from file ./hr_assistant_categories/domains/general/get_info/train.txt\n",
      "Loading raw queries from file ./hr_assistant_categories/domains/hierarchy/get_hierarchy/train.txt\n",
      "Loading raw queries from file ./hr_assistant_categories/domains/salary/get_salary/train.txt\n",
      "Loading raw queries from file ./hr_assistant_categories/domains/salary/get_salary_aggregate/train.txt\n",
      "Loading raw queries from file ./hr_assistant_categories/domains/salary/get_salary_employees/train.txt\n",
      "Loading raw queries from file ./hr_assistant_categories/domains/unsupported/unsupported/train.txt\n",
      "Loading queries from file ./hr_assistant_categories/domains/date/get_date/train.txt\n",
      "Loading queries from file ./hr_assistant_categories/domains/date/get_date_range_aggregate/train.txt\n",
      "Loading queries from file ./hr_assistant_categories/domains/date/get_date_range_employees/train.txt\n",
      "Loading queries from file ./hr_assistant_categories/domains/general/get_aggregate/train.txt\n",
      "Loading queries from file ./hr_assistant_categories/domains/general/get_employees/train.txt\n",
      "Loading queries from file ./hr_assistant_categories/domains/general/get_info/train.txt\n",
      "Loading queries from file ./hr_assistant_categories/domains/hierarchy/get_hierarchy/train.txt\n",
      "Loading queries from file ./hr_assistant_categories/domains/salary/get_salary/train.txt\n",
      "Loading queries from file ./hr_assistant_categories/domains/salary/get_salary_aggregate/train.txt\n",
      "Loading queries from file ./hr_assistant_categories/domains/salary/get_salary_employees/train.txt\n",
      "Loading queries from file ./hr_assistant_categories/domains/unsupported/unsupported/train.txt\n",
      "Fitting intent classifier: domain='general'\n",
      "Selecting hyperparameters using k-fold cross-validation with 5 splits\n",
      "Best accuracy: 99.51%, params: {'C': 1, 'class_weight': {0: 1.0998148148148148, 1: 0.9049019607843137, 2: 1.0234505862646566}, 'fit_intercept': True}\n",
      "Fitting entity recognizer: domain='general', intent='get_aggregate'\n",
      "No entity model configuration set. Using default.\n",
      "Selecting hyperparameters using k-fold cross-validation with 5 splits\n",
      "Best accuracy: 93.16%, params: {'C': 10000, 'penalty': 'l2'}\n",
      "No entity_resolution model configuration set. Using default.\n",
      "No entity_resolution model configuration set. Using default.\n",
      "No entity_resolution model configuration set. Using default.\n",
      "No entity_resolution model configuration set. Using default.\n",
      "No entity_resolution model configuration set. Using default.\n",
      "No entity_resolution model configuration set. Using default.\n",
      "No entity_resolution model configuration set. Using default.\n",
      "No entity_resolution model configuration set. Using default.\n",
      "No entity_resolution model configuration set. Using default.\n",
      "No entity_resolution model configuration set. Using default.\n",
      "No entity_resolution model configuration set. Using default.\n",
      "No entity_resolution model configuration set. Using default.\n",
      "No entity_resolution model configuration set. Using default.\n",
      "No entity_resolution model configuration set. Using default.\n",
      "No entity_resolution model configuration set. Using default.\n",
      "No entity_resolution model configuration set. Using default.\n",
      "No entity_resolution model configuration set. Using default.\n",
      "No entity_resolution model configuration set. Using default.\n",
      "No entity_resolution model configuration set. Using default.\n",
      "No entity_resolution model configuration set. Using default.\n",
      "No entity_resolution model configuration set. Using default.\n",
      "Fitting role classifier: domain='general', intent='get_aggregate', entity_type='name'\n",
      "No role model configuration set. Using default.\n",
      "Importing synonym data to synonym index 'synonym_name'\n",
      "Elasticsearch index 'synonym_name' for application 'hr_assistant_categories' already exists!\n",
      "Loading index 'synonym_name'\n"
     ]
    },
    {
     "name": "stderr",
     "output_type": "stream",
     "text": [
      "100%|██████████| 245/245 [00:00<00:00, 1218.23it/s]"
     ]
    },
    {
     "name": "stdout",
     "output_type": "stream",
     "text": [
      "Loaded 245 documents\n",
      "Fitting role classifier: domain='general', intent='get_aggregate', entity_type='sys_number'\n",
      "No role model configuration set. Using default.\n",
      "Fitting role classifier: domain='general', intent='get_aggregate', entity_type='comparator'\n",
      "No role model configuration set. Using default.\n",
      "Importing synonym data to synonym index 'synonym_comparator'\n",
      "Elasticsearch index 'synonym_comparator' for application 'hr_assistant_categories' already exists!\n",
      "Loading index 'synonym_comparator'\n"
     ]
    },
    {
     "name": "stderr",
     "output_type": "stream",
     "text": [
      "\n",
      "100%|██████████| 4/4 [00:00<00:00, 152.95it/s]"
     ]
    },
    {
     "name": "stdout",
     "output_type": "stream",
     "text": [
      "Loaded 4 documents\n",
      "Fitting role classifier: domain='general', intent='get_aggregate', entity_type='extreme'\n",
      "No role model configuration set. Using default.\n",
      "Importing synonym data to synonym index 'synonym_extreme'\n",
      "Elasticsearch index 'synonym_extreme' for application 'hr_assistant_categories' already exists!\n",
      "Loading index 'synonym_extreme'\n"
     ]
    },
    {
     "name": "stderr",
     "output_type": "stream",
     "text": [
      "\n",
      "100%|██████████| 2/2 [00:00<00:00, 86.77it/s]"
     ]
    },
    {
     "name": "stdout",
     "output_type": "stream",
     "text": [
      "Loaded 2 documents\n",
      "Fitting role classifier: domain='general', intent='get_aggregate', entity_type='function'\n",
      "No role model configuration set. Using default.\n",
      "Importing synonym data to synonym index 'synonym_function'\n",
      "Elasticsearch index 'synonym_function' for application 'hr_assistant_categories' already exists!\n",
      "Loading index 'synonym_function'\n"
     ]
    },
    {
     "name": "stderr",
     "output_type": "stream",
     "text": [
      "\n",
      "100%|██████████| 4/4 [00:00<00:00, 155.28it/s]"
     ]
    },
    {
     "name": "stdout",
     "output_type": "stream",
     "text": [
      "Loaded 4 documents\n",
      "Fitting role classifier: domain='general', intent='get_aggregate', entity_type='age'\n",
      "No role model configuration set. Using default.\n"
     ]
    },
    {
     "name": "stderr",
     "output_type": "stream",
     "text": [
      "\n"
     ]
    },
    {
     "name": "stdout",
     "output_type": "stream",
     "text": [
      "Importing synonym data to synonym index 'synonym_age'\n",
      "Elasticsearch index 'synonym_age' for application 'hr_assistant_categories' already exists!\n",
      "Loading index 'synonym_age'\n"
     ]
    },
    {
     "name": "stderr",
     "output_type": "stream",
     "text": [
      "100%|██████████| 39/39 [00:00<00:00, 1176.54it/s]"
     ]
    },
    {
     "name": "stdout",
     "output_type": "stream",
     "text": [
      "Loaded 39 documents\n",
      "Fitting role classifier: domain='general', intent='get_aggregate', entity_type='reason_for_termination'\n",
      "No role model configuration set. Using default.\n",
      "Importing synonym data to synonym index 'synonym_reason_for_termination'\n",
      "Elasticsearch index 'synonym_reason_for_termination' for application 'hr_assistant_categories' already exists!\n",
      "Loading index 'synonym_reason_for_termination'\n"
     ]
    },
    {
     "name": "stderr",
     "output_type": "stream",
     "text": [
      "\n",
      "100%|██████████| 17/17 [00:00<00:00, 539.42it/s]"
     ]
    },
    {
     "name": "stdout",
     "output_type": "stream",
     "text": [
      "Loaded 17 documents\n",
      "Fitting role classifier: domain='general', intent='get_aggregate', entity_type='employment_status'\n",
      "No role model configuration set. Using default.\n",
      "Importing synonym data to synonym index 'synonym_employment_status'\n",
      "Elasticsearch index 'synonym_employment_status' for application 'hr_assistant_categories' already exists!\n",
      "Loading index 'synonym_employment_status'\n"
     ]
    },
    {
     "name": "stderr",
     "output_type": "stream",
     "text": [
      "\n",
      "100%|██████████| 5/5 [00:00<00:00, 151.80it/s]"
     ]
    },
    {
     "name": "stdout",
     "output_type": "stream",
     "text": [
      "Loaded 5 documents\n",
      "Fitting role classifier: domain='general', intent='get_aggregate', entity_type='racedesc'\n",
      "No role model configuration set. Using default.\n",
      "Importing synonym data to synonym index 'synonym_racedesc'\n"
     ]
    },
    {
     "name": "stderr",
     "output_type": "stream",
     "text": [
      "\n"
     ]
    },
    {
     "name": "stdout",
     "output_type": "stream",
     "text": [
      "Elasticsearch index 'synonym_racedesc' for application 'hr_assistant_categories' already exists!\n",
      "Loading index 'synonym_racedesc'\n"
     ]
    },
    {
     "name": "stderr",
     "output_type": "stream",
     "text": [
      "100%|██████████| 6/6 [00:00<00:00, 142.86it/s]"
     ]
    },
    {
     "name": "stdout",
     "output_type": "stream",
     "text": [
      "Loaded 6 documents\n",
      "Fitting role classifier: domain='general', intent='get_aggregate', entity_type='employment_action'\n",
      "No role model configuration set. Using default.\n"
     ]
    },
    {
     "name": "stderr",
     "output_type": "stream",
     "text": [
      "\n"
     ]
    },
    {
     "name": "stdout",
     "output_type": "stream",
     "text": [
      "Importing synonym data to synonym index 'synonym_employment_action'\n",
      "Elasticsearch index 'synonym_employment_action' for application 'hr_assistant_categories' already exists!\n",
      "Loading index 'synonym_employment_action'\n"
     ]
    },
    {
     "name": "stderr",
     "output_type": "stream",
     "text": [
      "100%|██████████| 2/2 [00:00<00:00, 59.17it/s]"
     ]
    },
    {
     "name": "stdout",
     "output_type": "stream",
     "text": [
      "Loaded 2 documents\n",
      "Fitting role classifier: domain='general', intent='get_aggregate', entity_type='citizendesc'\n",
      "No role model configuration set. Using default.\n",
      "Importing synonym data to synonym index 'synonym_citizendesc'\n",
      "Elasticsearch index 'synonym_citizendesc' for application 'hr_assistant_categories' already exists!\n",
      "Loading index 'synonym_citizendesc'\n"
     ]
    },
    {
     "name": "stderr",
     "output_type": "stream",
     "text": [
      "\n",
      "100%|██████████| 3/3 [00:00<00:00, 88.50it/s]"
     ]
    },
    {
     "name": "stdout",
     "output_type": "stream",
     "text": [
      "Loaded 3 documents\n",
      "Fitting role classifier: domain='general', intent='get_aggregate', entity_type='sex'\n",
      "No role model configuration set. Using default.\n",
      "Importing synonym data to synonym index 'synonym_sex'\n",
      "Elasticsearch index 'synonym_sex' for application 'hr_assistant_categories' already exists!\n",
      "Loading index 'synonym_sex'\n"
     ]
    },
    {
     "name": "stderr",
     "output_type": "stream",
     "text": [
      "\n",
      "100%|██████████| 2/2 [00:00<00:00, 78.37it/s]"
     ]
    },
    {
     "name": "stdout",
     "output_type": "stream",
     "text": [
      "Loaded 2 documents\n",
      "Fitting role classifier: domain='general', intent='get_aggregate', entity_type='maritaldesc'\n",
      "No role model configuration set. Using default.\n"
     ]
    },
    {
     "name": "stderr",
     "output_type": "stream",
     "text": [
      "\n"
     ]
    },
    {
     "name": "stdout",
     "output_type": "stream",
     "text": [
      "Importing synonym data to synonym index 'synonym_maritaldesc'\n",
      "Elasticsearch index 'synonym_maritaldesc' for application 'hr_assistant_categories' already exists!\n",
      "Loading index 'synonym_maritaldesc'\n"
     ]
    },
    {
     "name": "stderr",
     "output_type": "stream",
     "text": [
      "100%|██████████| 5/5 [00:00<00:00, 126.66it/s]"
     ]
    },
    {
     "name": "stdout",
     "output_type": "stream",
     "text": [
      "Loaded 5 documents\n",
      "Fitting role classifier: domain='general', intent='get_aggregate', entity_type='department'\n",
      "No role model configuration set. Using default.\n",
      "Importing synonym data to synonym index 'synonym_department'\n"
     ]
    },
    {
     "name": "stderr",
     "output_type": "stream",
     "text": [
      "\n"
     ]
    },
    {
     "name": "stdout",
     "output_type": "stream",
     "text": [
      "Elasticsearch index 'synonym_department' for application 'hr_assistant_categories' already exists!\n",
      "Loading index 'synonym_department'\n"
     ]
    },
    {
     "name": "stderr",
     "output_type": "stream",
     "text": [
      "100%|██████████| 6/6 [00:00<00:00, 127.22it/s]"
     ]
    },
    {
     "name": "stdout",
     "output_type": "stream",
     "text": [
      "Loaded 6 documents\n",
      "Fitting role classifier: domain='general', intent='get_aggregate', entity_type='state'\n",
      "No role model configuration set. Using default.\n",
      "Importing synonym data to synonym index 'synonym_state'\n",
      "Elasticsearch index 'synonym_state' for application 'hr_assistant_categories' already exists!\n",
      "Loading index 'synonym_state'\n"
     ]
    },
    {
     "name": "stderr",
     "output_type": "stream",
     "text": [
      "\n",
      "100%|██████████| 28/28 [00:00<00:00, 560.59it/s]"
     ]
    },
    {
     "name": "stdout",
     "output_type": "stream",
     "text": [
      "Loaded 28 documents\n",
      "Fitting role classifier: domain='general', intent='get_aggregate', entity_type='performance_score'\n",
      "No role model configuration set. Using default.\n"
     ]
    },
    {
     "name": "stderr",
     "output_type": "stream",
     "text": [
      "\n"
     ]
    },
    {
     "name": "stdout",
     "output_type": "stream",
     "text": [
      "Importing synonym data to synonym index 'synonym_performance_score'\n",
      "Elasticsearch index 'synonym_performance_score' for application 'hr_assistant_categories' already exists!\n",
      "Loading index 'synonym_performance_score'\n"
     ]
    },
    {
     "name": "stderr",
     "output_type": "stream",
     "text": [
      "100%|██████████| 7/7 [00:00<00:00, 141.14it/s]"
     ]
    },
    {
     "name": "stdout",
     "output_type": "stream",
     "text": [
      "Loaded 7 documents\n",
      "Fitting role classifier: domain='general', intent='get_aggregate', entity_type='manager'\n",
      "No role model configuration set. Using default.\n",
      "Importing synonym data to synonym index 'synonym_manager'\n"
     ]
    },
    {
     "name": "stderr",
     "output_type": "stream",
     "text": [
      "\n"
     ]
    },
    {
     "name": "stdout",
     "output_type": "stream",
     "text": [
      "Elasticsearch index 'synonym_manager' for application 'hr_assistant_categories' already exists!\n",
      "Loading index 'synonym_manager'\n"
     ]
    },
    {
     "name": "stderr",
     "output_type": "stream",
     "text": [
      "100%|██████████| 1/1 [00:00<00:00, 41.70it/s]"
     ]
    },
    {
     "name": "stdout",
     "output_type": "stream",
     "text": [
      "Loaded 1 document\n",
      "Fitting role classifier: domain='general', intent='get_aggregate', entity_type='dob'\n",
      "No role model configuration set. Using default.\n",
      "Importing synonym data to synonym index 'synonym_dob'\n"
     ]
    },
    {
     "name": "stderr",
     "output_type": "stream",
     "text": [
      "\n"
     ]
    },
    {
     "name": "stdout",
     "output_type": "stream",
     "text": [
      "Elasticsearch index 'synonym_dob' for application 'hr_assistant_categories' already exists!\n",
      "Loading index 'synonym_dob'\n"
     ]
    },
    {
     "name": "stderr",
     "output_type": "stream",
     "text": [
      "100%|██████████| 1/1 [00:00<00:00, 42.96it/s]"
     ]
    },
    {
     "name": "stdout",
     "output_type": "stream",
     "text": [
      "Loaded 1 document\n",
      "Fitting role classifier: domain='general', intent='get_aggregate', entity_type='employee_source'\n",
      "No role model configuration set. Using default.\n",
      "Importing synonym data to synonym index 'synonym_employee_source'\n",
      "Elasticsearch index 'synonym_employee_source' for application 'hr_assistant_categories' already exists!\n",
      "Loading index 'synonym_employee_source'\n"
     ]
    },
    {
     "name": "stderr",
     "output_type": "stream",
     "text": [
      "\n",
      "100%|██████████| 20/20 [00:00<00:00, 355.25it/s]"
     ]
    },
    {
     "name": "stdout",
     "output_type": "stream",
     "text": [
      "Loaded 20 documents\n",
      "Fitting role classifier: domain='general', intent='get_aggregate', entity_type='position'\n",
      "No role model configuration set. Using default.\n",
      "Importing synonym data to synonym index 'synonym_position'\n",
      "Elasticsearch index 'synonym_position' for application 'hr_assistant_categories' already exists!\n",
      "Loading index 'synonym_position'\n"
     ]
    },
    {
     "name": "stderr",
     "output_type": "stream",
     "text": [
      "\n",
      "100%|██████████| 24/24 [00:00<00:00, 575.72it/s]"
     ]
    },
    {
     "name": "stdout",
     "output_type": "stream",
     "text": [
      "Loaded 24 documents\n",
      "Fitting role classifier: domain='general', intent='get_aggregate', entity_type='sys_time'\n",
      "No role model configuration set. Using default.\n",
      "Fitting entity recognizer: domain='general', intent='get_info'\n",
      "No entity model configuration set. Using default.\n"
     ]
    },
    {
     "name": "stderr",
     "output_type": "stream",
     "text": [
      "\n"
     ]
    },
    {
     "name": "stdout",
     "output_type": "stream",
     "text": [
      "Selecting hyperparameters using k-fold cross-validation with 5 splits\n",
      "Best accuracy: 94.72%, params: {'C': 10000, 'penalty': 'l1'}\n",
      "No entity_resolution model configuration set. Using default.\n",
      "No entity_resolution model configuration set. Using default.\n",
      "No entity_resolution model configuration set. Using default.\n",
      "No entity_resolution model configuration set. Using default.\n",
      "No entity_resolution model configuration set. Using default.\n",
      "No entity_resolution model configuration set. Using default.\n",
      "No entity_resolution model configuration set. Using default.\n",
      "No entity_resolution model configuration set. Using default.\n",
      "No entity_resolution model configuration set. Using default.\n",
      "No entity_resolution model configuration set. Using default.\n",
      "No entity_resolution model configuration set. Using default.\n",
      "No entity_resolution model configuration set. Using default.\n",
      "No entity_resolution model configuration set. Using default.\n",
      "No entity_resolution model configuration set. Using default.\n",
      "Fitting role classifier: domain='general', intent='get_info', entity_type='department'\n",
      "No role model configuration set. Using default.\n",
      "Importing synonym data to synonym index 'synonym_department'\n",
      "Elasticsearch index 'synonym_department' for application 'hr_assistant_categories' already exists!\n",
      "Loading index 'synonym_department'\n"
     ]
    },
    {
     "name": "stderr",
     "output_type": "stream",
     "text": [
      "100%|██████████| 6/6 [00:00<00:00, 158.52it/s]"
     ]
    },
    {
     "name": "stdout",
     "output_type": "stream",
     "text": [
      "Loaded 6 documents\n",
      "Fitting role classifier: domain='general', intent='get_info', entity_type='name'\n",
      "No role model configuration set. Using default.\n",
      "Importing synonym data to synonym index 'synonym_name'\n",
      "Elasticsearch index 'synonym_name' for application 'hr_assistant_categories' already exists!\n",
      "Loading index 'synonym_name'\n"
     ]
    },
    {
     "name": "stderr",
     "output_type": "stream",
     "text": [
      "\n",
      "100%|██████████| 245/245 [00:00<00:00, 1143.48it/s]"
     ]
    },
    {
     "name": "stdout",
     "output_type": "stream",
     "text": [
      "Loaded 245 documents\n",
      "Fitting role classifier: domain='general', intent='get_info', entity_type='state'\n",
      "No role model configuration set. Using default.\n",
      "Importing synonym data to synonym index 'synonym_state'\n",
      "Elasticsearch index 'synonym_state' for application 'hr_assistant_categories' already exists!\n",
      "Loading index 'synonym_state'\n"
     ]
    },
    {
     "name": "stderr",
     "output_type": "stream",
     "text": [
      "\n",
      "100%|██████████| 28/28 [00:00<00:00, 819.62it/s]"
     ]
    },
    {
     "name": "stdout",
     "output_type": "stream",
     "text": [
      "Loaded 28 documents\n",
      "Fitting role classifier: domain='general', intent='get_info', entity_type='employment_action'\n",
      "No role model configuration set. Using default.\n",
      "Importing synonym data to synonym index 'synonym_employment_action'\n",
      "Elasticsearch index 'synonym_employment_action' for application 'hr_assistant_categories' already exists!\n",
      "Loading index 'synonym_employment_action'\n"
     ]
    },
    {
     "name": "stderr",
     "output_type": "stream",
     "text": [
      "\n",
      "100%|██████████| 2/2 [00:00<00:00, 81.94it/s]"
     ]
    },
    {
     "name": "stdout",
     "output_type": "stream",
     "text": [
      "Loaded 2 documents\n",
      "Fitting role classifier: domain='general', intent='get_info', entity_type='racedesc'\n",
      "No role model configuration set. Using default.\n",
      "Importing synonym data to synonym index 'synonym_racedesc'\n",
      "Elasticsearch index 'synonym_racedesc' for application 'hr_assistant_categories' already exists!\n",
      "Loading index 'synonym_racedesc'\n"
     ]
    },
    {
     "name": "stderr",
     "output_type": "stream",
     "text": [
      "\n",
      "100%|██████████| 6/6 [00:00<00:00, 144.72it/s]"
     ]
    },
    {
     "name": "stdout",
     "output_type": "stream",
     "text": [
      "Loaded 6 documents\n",
      "Fitting role classifier: domain='general', intent='get_info', entity_type='citizendesc'\n",
      "No role model configuration set. Using default.\n",
      "Importing synonym data to synonym index 'synonym_citizendesc'\n",
      "Elasticsearch index 'synonym_citizendesc' for application 'hr_assistant_categories' already exists!\n",
      "Loading index 'synonym_citizendesc'\n"
     ]
    },
    {
     "name": "stderr",
     "output_type": "stream",
     "text": [
      "\n",
      "100%|██████████| 3/3 [00:00<00:00, 90.56it/s]\n"
     ]
    },
    {
     "name": "stdout",
     "output_type": "stream",
     "text": [
      "Loaded 3 documents\n",
      "Fitting role classifier: domain='general', intent='get_info', entity_type='age'\n",
      "No role model configuration set. Using default.\n",
      "Importing synonym data to synonym index 'synonym_age'\n",
      "Elasticsearch index 'synonym_age' for application 'hr_assistant_categories' already exists!\n",
      "Loading index 'synonym_age'\n"
     ]
    },
    {
     "name": "stderr",
     "output_type": "stream",
     "text": [
      "100%|██████████| 39/39 [00:00<00:00, 1022.82it/s]"
     ]
    },
    {
     "name": "stdout",
     "output_type": "stream",
     "text": [
      "Loaded 39 documents\n",
      "Fitting role classifier: domain='general', intent='get_info', entity_type='reason_for_termination'\n",
      "No role model configuration set. Using default.\n",
      "Importing synonym data to synonym index 'synonym_reason_for_termination'\n",
      "Elasticsearch index 'synonym_reason_for_termination' for application 'hr_assistant_categories' already exists!\n",
      "Loading index 'synonym_reason_for_termination'\n"
     ]
    },
    {
     "name": "stderr",
     "output_type": "stream",
     "text": [
      "\n",
      "100%|██████████| 17/17 [00:00<00:00, 364.51it/s]"
     ]
    },
    {
     "name": "stdout",
     "output_type": "stream",
     "text": [
      "Loaded 17 documents\n",
      "Fitting role classifier: domain='general', intent='get_info', entity_type='employment_status'\n",
      "No role model configuration set. Using default.\n",
      "Importing synonym data to synonym index 'synonym_employment_status'\n",
      "Elasticsearch index 'synonym_employment_status' for application 'hr_assistant_categories' already exists!\n",
      "Loading index 'synonym_employment_status'\n"
     ]
    },
    {
     "name": "stderr",
     "output_type": "stream",
     "text": [
      "\n",
      "100%|██████████| 5/5 [00:00<00:00, 119.23it/s]"
     ]
    },
    {
     "name": "stdout",
     "output_type": "stream",
     "text": [
      "Loaded 5 documents\n",
      "Fitting role classifier: domain='general', intent='get_info', entity_type='employee_source'\n",
      "No role model configuration set. Using default.\n",
      "Importing synonym data to synonym index 'synonym_employee_source'\n",
      "Elasticsearch index 'synonym_employee_source' for application 'hr_assistant_categories' already exists!\n",
      "Loading index 'synonym_employee_source'\n"
     ]
    },
    {
     "name": "stderr",
     "output_type": "stream",
     "text": [
      "\n",
      "100%|██████████| 20/20 [00:00<00:00, 478.26it/s]"
     ]
    },
    {
     "name": "stdout",
     "output_type": "stream",
     "text": [
      "Loaded 20 documents\n",
      "Fitting role classifier: domain='general', intent='get_info', entity_type='sex'\n",
      "No role model configuration set. Using default.\n",
      "Importing synonym data to synonym index 'synonym_sex'\n",
      "Elasticsearch index 'synonym_sex' for application 'hr_assistant_categories' already exists!\n",
      "Loading index 'synonym_sex'\n"
     ]
    },
    {
     "name": "stderr",
     "output_type": "stream",
     "text": [
      "\n",
      "100%|██████████| 2/2 [00:00<00:00, 67.90it/s]"
     ]
    },
    {
     "name": "stdout",
     "output_type": "stream",
     "text": [
      "Loaded 2 documents\n",
      "Fitting role classifier: domain='general', intent='get_info', entity_type='performance_score'\n",
      "No role model configuration set. Using default.\n",
      "Importing synonym data to synonym index 'synonym_performance_score'\n",
      "Elasticsearch index 'synonym_performance_score' for application 'hr_assistant_categories' already exists!\n",
      "Loading index 'synonym_performance_score'\n"
     ]
    },
    {
     "name": "stderr",
     "output_type": "stream",
     "text": [
      "\n",
      "100%|██████████| 7/7 [00:00<00:00, 140.07it/s]"
     ]
    },
    {
     "name": "stdout",
     "output_type": "stream",
     "text": [
      "Loaded 7 documents\n",
      "Fitting role classifier: domain='general', intent='get_info', entity_type='position'\n",
      "No role model configuration set. Using default.\n",
      "Importing synonym data to synonym index 'synonym_position'\n",
      "Elasticsearch index 'synonym_position' for application 'hr_assistant_categories' already exists!\n",
      "Loading index 'synonym_position'\n"
     ]
    },
    {
     "name": "stderr",
     "output_type": "stream",
     "text": [
      "\n",
      "100%|██████████| 24/24 [00:00<00:00, 518.07it/s]"
     ]
    },
    {
     "name": "stdout",
     "output_type": "stream",
     "text": [
      "Loaded 24 documents\n",
      "Fitting role classifier: domain='general', intent='get_info', entity_type='maritaldesc'\n",
      "No role model configuration set. Using default.\n",
      "Importing synonym data to synonym index 'synonym_maritaldesc'\n",
      "Elasticsearch index 'synonym_maritaldesc' for application 'hr_assistant_categories' already exists!\n",
      "Loading index 'synonym_maritaldesc'\n"
     ]
    },
    {
     "name": "stderr",
     "output_type": "stream",
     "text": [
      "\n",
      "100%|██████████| 5/5 [00:00<00:00, 128.24it/s]"
     ]
    },
    {
     "name": "stdout",
     "output_type": "stream",
     "text": [
      "Loaded 5 documents\n",
      "Fitting entity recognizer: domain='general', intent='get_employees'\n",
      "No entity model configuration set. Using default.\n"
     ]
    },
    {
     "name": "stderr",
     "output_type": "stream",
     "text": [
      "\n"
     ]
    },
    {
     "name": "stdout",
     "output_type": "stream",
     "text": [
      "Selecting hyperparameters using k-fold cross-validation with 5 splits\n",
      "Best accuracy: 94.13%, params: {'C': 100, 'penalty': 'l1'}\n",
      "No entity_resolution model configuration set. Using default.\n",
      "No entity_resolution model configuration set. Using default.\n",
      "No entity_resolution model configuration set. Using default.\n",
      "No entity_resolution model configuration set. Using default.\n",
      "No entity_resolution model configuration set. Using default.\n",
      "No entity_resolution model configuration set. Using default.\n",
      "No entity_resolution model configuration set. Using default.\n",
      "No entity_resolution model configuration set. Using default.\n",
      "No entity_resolution model configuration set. Using default.\n",
      "No entity_resolution model configuration set. Using default.\n",
      "No entity_resolution model configuration set. Using default.\n",
      "No entity_resolution model configuration set. Using default.\n",
      "No entity_resolution model configuration set. Using default.\n",
      "No entity_resolution model configuration set. Using default.\n",
      "No entity_resolution model configuration set. Using default.\n",
      "No entity_resolution model configuration set. Using default.\n",
      "No entity_resolution model configuration set. Using default.\n",
      "No entity_resolution model configuration set. Using default.\n",
      "No entity_resolution model configuration set. Using default.\n",
      "No entity_resolution model configuration set. Using default.\n",
      "No entity_resolution model configuration set. Using default.\n",
      "No entity_resolution model configuration set. Using default.\n",
      "No entity_resolution model configuration set. Using default.\n",
      "Fitting role classifier: domain='general', intent='get_employees', entity_type='sys_number'\n",
      "No role model configuration set. Using default.\n",
      "Fitting role classifier: domain='general', intent='get_employees', entity_type='comparator'\n",
      "No role model configuration set. Using default.\n",
      "Importing synonym data to synonym index 'synonym_comparator'\n",
      "Elasticsearch index 'synonym_comparator' for application 'hr_assistant_categories' already exists!\n",
      "Loading index 'synonym_comparator'\n"
     ]
    },
    {
     "name": "stderr",
     "output_type": "stream",
     "text": [
      "100%|██████████| 4/4 [00:00<00:00, 189.34it/s]"
     ]
    },
    {
     "name": "stdout",
     "output_type": "stream",
     "text": [
      "Loaded 4 documents\n",
      "Fitting role classifier: domain='general', intent='get_employees', entity_type='extreme'\n",
      "No role model configuration set. Using default.\n",
      "Importing synonym data to synonym index 'synonym_extreme'\n",
      "Elasticsearch index 'synonym_extreme' for application 'hr_assistant_categories' already exists!\n",
      "Loading index 'synonym_extreme'\n"
     ]
    },
    {
     "name": "stderr",
     "output_type": "stream",
     "text": [
      "\n",
      "100%|██████████| 2/2 [00:00<00:00, 87.72it/s]"
     ]
    },
    {
     "name": "stdout",
     "output_type": "stream",
     "text": [
      "Loaded 2 documents\n",
      "Fitting role classifier: domain='general', intent='get_employees', entity_type='function'\n",
      "No role model configuration set. Using default.\n",
      "Importing synonym data to synonym index 'synonym_function'\n",
      "Elasticsearch index 'synonym_function' for application 'hr_assistant_categories' already exists!\n",
      "Loading index 'synonym_function'\n"
     ]
    },
    {
     "name": "stderr",
     "output_type": "stream",
     "text": [
      "\n",
      "100%|██████████| 4/4 [00:00<00:00, 135.79it/s]"
     ]
    },
    {
     "name": "stdout",
     "output_type": "stream",
     "text": [
      "Loaded 4 documents\n",
      "Fitting role classifier: domain='general', intent='get_employees', entity_type='age'\n",
      "No role model configuration set. Using default.\n",
      "Importing synonym data to synonym index 'synonym_age'\n",
      "Elasticsearch index 'synonym_age' for application 'hr_assistant_categories' already exists!\n",
      "Loading index 'synonym_age'\n"
     ]
    },
    {
     "name": "stderr",
     "output_type": "stream",
     "text": [
      "\n",
      "100%|██████████| 39/39 [00:00<00:00, 906.41it/s]"
     ]
    },
    {
     "name": "stdout",
     "output_type": "stream",
     "text": [
      "Loaded 39 documents\n",
      "Fitting role classifier: domain='general', intent='get_employees', entity_type='reason_for_termination'\n",
      "No role model configuration set. Using default.\n",
      "Importing synonym data to synonym index 'synonym_reason_for_termination'\n",
      "Elasticsearch index 'synonym_reason_for_termination' for application 'hr_assistant_categories' already exists!\n",
      "Loading index 'synonym_reason_for_termination'\n"
     ]
    },
    {
     "name": "stderr",
     "output_type": "stream",
     "text": [
      "\n",
      "100%|██████████| 17/17 [00:00<00:00, 486.36it/s]"
     ]
    },
    {
     "name": "stdout",
     "output_type": "stream",
     "text": [
      "Loaded 17 documents\n",
      "Fitting role classifier: domain='general', intent='get_employees', entity_type='employment_status'\n",
      "No role model configuration set. Using default.\n",
      "Importing synonym data to synonym index 'synonym_employment_status'\n",
      "Elasticsearch index 'synonym_employment_status' for application 'hr_assistant_categories' already exists!\n",
      "Loading index 'synonym_employment_status'\n"
     ]
    },
    {
     "name": "stderr",
     "output_type": "stream",
     "text": [
      "\n",
      "100%|██████████| 5/5 [00:00<00:00, 199.46it/s]"
     ]
    },
    {
     "name": "stdout",
     "output_type": "stream",
     "text": [
      "Loaded 5 documents\n",
      "Fitting role classifier: domain='general', intent='get_employees', entity_type='racedesc'\n",
      "No role model configuration set. Using default.\n",
      "Importing synonym data to synonym index 'synonym_racedesc'\n"
     ]
    },
    {
     "name": "stderr",
     "output_type": "stream",
     "text": [
      "\n"
     ]
    },
    {
     "name": "stdout",
     "output_type": "stream",
     "text": [
      "Elasticsearch index 'synonym_racedesc' for application 'hr_assistant_categories' already exists!\n",
      "Loading index 'synonym_racedesc'\n"
     ]
    },
    {
     "name": "stderr",
     "output_type": "stream",
     "text": [
      "100%|██████████| 6/6 [00:00<00:00, 194.77it/s]"
     ]
    },
    {
     "name": "stdout",
     "output_type": "stream",
     "text": [
      "Loaded 6 documents\n",
      "Fitting role classifier: domain='general', intent='get_employees', entity_type='sys_duration'\n",
      "No role model configuration set. Using default.\n"
     ]
    },
    {
     "name": "stderr",
     "output_type": "stream",
     "text": [
      "\n"
     ]
    },
    {
     "name": "stdout",
     "output_type": "stream",
     "text": [
      "Fitting role classifier: domain='general', intent='get_employees', entity_type='employment_action'\n",
      "No role model configuration set. Using default.\n",
      "Importing synonym data to synonym index 'synonym_employment_action'\n",
      "Elasticsearch index 'synonym_employment_action' for application 'hr_assistant_categories' already exists!\n",
      "Loading index 'synonym_employment_action'\n"
     ]
    },
    {
     "name": "stderr",
     "output_type": "stream",
     "text": [
      "100%|██████████| 2/2 [00:00<00:00, 99.80it/s]"
     ]
    },
    {
     "name": "stdout",
     "output_type": "stream",
     "text": [
      "Loaded 2 documents\n",
      "Fitting role classifier: domain='general', intent='get_employees', entity_type='citizendesc'\n",
      "No role model configuration set. Using default.\n",
      "Importing synonym data to synonym index 'synonym_citizendesc'\n",
      "Elasticsearch index 'synonym_citizendesc' for application 'hr_assistant_categories' already exists!\n",
      "Loading index 'synonym_citizendesc'\n"
     ]
    },
    {
     "name": "stderr",
     "output_type": "stream",
     "text": [
      "\n",
      "100%|██████████| 3/3 [00:00<00:00, 121.85it/s]"
     ]
    },
    {
     "name": "stdout",
     "output_type": "stream",
     "text": [
      "Loaded 3 documents\n",
      "Fitting role classifier: domain='general', intent='get_employees', entity_type='sex'\n",
      "No role model configuration set. Using default.\n",
      "Importing synonym data to synonym index 'synonym_sex'\n",
      "Elasticsearch index 'synonym_sex' for application 'hr_assistant_categories' already exists!\n",
      "Loading index 'synonym_sex'\n"
     ]
    },
    {
     "name": "stderr",
     "output_type": "stream",
     "text": [
      "\n",
      "100%|██████████| 2/2 [00:00<00:00, 130.80it/s]"
     ]
    },
    {
     "name": "stdout",
     "output_type": "stream",
     "text": [
      "Loaded 2 documents\n",
      "Fitting role classifier: domain='general', intent='get_employees', entity_type='maritaldesc'\n",
      "No role model configuration set. Using default.\n",
      "Importing synonym data to synonym index 'synonym_maritaldesc'\n",
      "Elasticsearch index 'synonym_maritaldesc' for application 'hr_assistant_categories' already exists!\n",
      "Loading index 'synonym_maritaldesc'\n"
     ]
    },
    {
     "name": "stderr",
     "output_type": "stream",
     "text": [
      "\n",
      "100%|██████████| 5/5 [00:00<00:00, 182.68it/s]"
     ]
    },
    {
     "name": "stdout",
     "output_type": "stream",
     "text": [
      "Loaded 5 documents\n"
     ]
    },
    {
     "name": "stderr",
     "output_type": "stream",
     "text": [
      "\n"
     ]
    },
    {
     "name": "stdout",
     "output_type": "stream",
     "text": [
      "Fitting role classifier: domain='general', intent='get_employees', entity_type='department'\n",
      "No role model configuration set. Using default.\n",
      "Importing synonym data to synonym index 'synonym_department'\n",
      "Elasticsearch index 'synonym_department' for application 'hr_assistant_categories' already exists!\n",
      "Loading index 'synonym_department'\n"
     ]
    },
    {
     "name": "stderr",
     "output_type": "stream",
     "text": [
      "100%|██████████| 6/6 [00:00<00:00, 172.65it/s]"
     ]
    },
    {
     "name": "stdout",
     "output_type": "stream",
     "text": [
      "Loaded 6 documents\n",
      "Fitting role classifier: domain='general', intent='get_employees', entity_type='state'\n",
      "No role model configuration set. Using default.\n",
      "Importing synonym data to synonym index 'synonym_state'\n",
      "Elasticsearch index 'synonym_state' for application 'hr_assistant_categories' already exists!\n"
     ]
    },
    {
     "name": "stderr",
     "output_type": "stream",
     "text": [
      "\n"
     ]
    },
    {
     "name": "stdout",
     "output_type": "stream",
     "text": [
      "Loading index 'synonym_state'\n"
     ]
    },
    {
     "name": "stderr",
     "output_type": "stream",
     "text": [
      "100%|██████████| 28/28 [00:00<00:00, 620.57it/s]"
     ]
    },
    {
     "name": "stdout",
     "output_type": "stream",
     "text": [
      "Loaded 28 documents\n",
      "Fitting role classifier: domain='general', intent='get_employees', entity_type='sys_ordinal'\n",
      "No role model configuration set. Using default.\n",
      "Fitting role classifier: domain='general', intent='get_employees', entity_type='performance_score'\n",
      "No role model configuration set. Using default.\n"
     ]
    },
    {
     "name": "stderr",
     "output_type": "stream",
     "text": [
      "\n"
     ]
    },
    {
     "name": "stdout",
     "output_type": "stream",
     "text": [
      "Importing synonym data to synonym index 'synonym_performance_score'\n",
      "Elasticsearch index 'synonym_performance_score' for application 'hr_assistant_categories' already exists!\n",
      "Loading index 'synonym_performance_score'\n"
     ]
    },
    {
     "name": "stderr",
     "output_type": "stream",
     "text": [
      "100%|██████████| 7/7 [00:00<00:00, 184.79it/s]"
     ]
    },
    {
     "name": "stdout",
     "output_type": "stream",
     "text": [
      "Loaded 7 documents\n",
      "Fitting role classifier: domain='general', intent='get_employees', entity_type='manager'\n",
      "No role model configuration set. Using default.\n",
      "Importing synonym data to synonym index 'synonym_manager'\n"
     ]
    },
    {
     "name": "stderr",
     "output_type": "stream",
     "text": [
      "\n"
     ]
    },
    {
     "name": "stdout",
     "output_type": "stream",
     "text": [
      "Elasticsearch index 'synonym_manager' for application 'hr_assistant_categories' already exists!\n",
      "Loading index 'synonym_manager'\n"
     ]
    },
    {
     "name": "stderr",
     "output_type": "stream",
     "text": [
      "100%|██████████| 1/1 [00:00<00:00, 48.90it/s]"
     ]
    },
    {
     "name": "stdout",
     "output_type": "stream",
     "text": [
      "Loaded 1 document\n",
      "Fitting role classifier: domain='general', intent='get_employees', entity_type='dob'\n",
      "No role model configuration set. Using default.\n",
      "Importing synonym data to synonym index 'synonym_dob'\n",
      "Elasticsearch index 'synonym_dob' for application 'hr_assistant_categories' already exists!\n",
      "Loading index 'synonym_dob'\n"
     ]
    },
    {
     "name": "stderr",
     "output_type": "stream",
     "text": [
      "\n",
      "100%|██████████| 1/1 [00:00<00:00, 52.31it/s]\n"
     ]
    },
    {
     "name": "stdout",
     "output_type": "stream",
     "text": [
      "Loaded 1 document\n",
      "Fitting role classifier: domain='general', intent='get_employees', entity_type='date_compare'\n",
      "No role model configuration set. Using default.\n",
      "Importing synonym data to synonym index 'synonym_date_compare'\n",
      "Elasticsearch index 'synonym_date_compare' for application 'hr_assistant_categories' already exists!\n",
      "Loading index 'synonym_date_compare'\n"
     ]
    },
    {
     "name": "stderr",
     "output_type": "stream",
     "text": [
      "100%|██████████| 2/2 [00:00<00:00, 56.00it/s]"
     ]
    },
    {
     "name": "stdout",
     "output_type": "stream",
     "text": [
      "Loaded 2 documents\n",
      "Fitting role classifier: domain='general', intent='get_employees', entity_type='employee_source'\n",
      "No role model configuration set. Using default.\n",
      "Importing synonym data to synonym index 'synonym_employee_source'\n"
     ]
    },
    {
     "name": "stderr",
     "output_type": "stream",
     "text": [
      "\n"
     ]
    },
    {
     "name": "stdout",
     "output_type": "stream",
     "text": [
      "Elasticsearch index 'synonym_employee_source' for application 'hr_assistant_categories' already exists!\n",
      "Loading index 'synonym_employee_source'\n"
     ]
    },
    {
     "name": "stderr",
     "output_type": "stream",
     "text": [
      "100%|██████████| 20/20 [00:00<00:00, 397.61it/s]"
     ]
    },
    {
     "name": "stdout",
     "output_type": "stream",
     "text": [
      "Loaded 20 documents\n",
      "Fitting role classifier: domain='general', intent='get_employees', entity_type='position'\n",
      "No role model configuration set. Using default.\n"
     ]
    },
    {
     "name": "stderr",
     "output_type": "stream",
     "text": [
      "\n"
     ]
    },
    {
     "name": "stdout",
     "output_type": "stream",
     "text": [
      "Importing synonym data to synonym index 'synonym_position'\n",
      "Elasticsearch index 'synonym_position' for application 'hr_assistant_categories' already exists!\n",
      "Loading index 'synonym_position'\n"
     ]
    },
    {
     "name": "stderr",
     "output_type": "stream",
     "text": [
      "100%|██████████| 24/24 [00:00<00:00, 530.77it/s]"
     ]
    },
    {
     "name": "stdout",
     "output_type": "stream",
     "text": [
      "Loaded 24 documents\n",
      "Fitting role classifier: domain='general', intent='get_employees', entity_type='sys_time'\n",
      "No role model configuration set. Using default.\n"
     ]
    },
    {
     "name": "stderr",
     "output_type": "stream",
     "text": [
      "\n"
     ]
    },
    {
     "name": "stdout",
     "output_type": "stream",
     "text": [
      "Fitting intent classifier: domain='salary'\n",
      "Selecting hyperparameters using k-fold cross-validation with 5 splits\n",
      "Best accuracy: 96.64%, params: {'C': 100, 'class_weight': {0: 0.8294469357249626, 1: 1.1142528735632182, 2: 1.1555555555555554}, 'fit_intercept': True}\n",
      "Fitting entity recognizer: domain='salary', intent='get_salary'\n",
      "No entity model configuration set. Using default.\n",
      "Selecting hyperparameters using k-fold cross-validation with 5 splits\n",
      "Best accuracy: 97.32%, params: {'C': 1000000, 'penalty': 'l2'}\n",
      "No entity_resolution model configuration set. Using default.\n",
      "No entity_resolution model configuration set. Using default.\n",
      "No entity_resolution model configuration set. Using default.\n",
      "No entity_resolution model configuration set. Using default.\n",
      "No entity_resolution model configuration set. Using default.\n",
      "No entity_resolution model configuration set. Using default.\n",
      "No entity_resolution model configuration set. Using default.\n",
      "No entity_resolution model configuration set. Using default.\n",
      "No entity_resolution model configuration set. Using default.\n",
      "No entity_resolution model configuration set. Using default.\n",
      "Fitting role classifier: domain='salary', intent='get_salary', entity_type='name'\n",
      "No role model configuration set. Using default.\n",
      "Importing synonym data to synonym index 'synonym_name'\n",
      "Elasticsearch index 'synonym_name' for application 'hr_assistant_categories' already exists!\n",
      "Loading index 'synonym_name'\n"
     ]
    },
    {
     "name": "stderr",
     "output_type": "stream",
     "text": [
      "100%|██████████| 245/245 [00:00<00:00, 1369.18it/s]"
     ]
    },
    {
     "name": "stdout",
     "output_type": "stream",
     "text": [
      "Loaded 245 documents\n",
      "Fitting role classifier: domain='salary', intent='get_salary', entity_type='sys_number'\n",
      "No role model configuration set. Using default.\n",
      "Fitting role classifier: domain='salary', intent='get_salary', entity_type='employment_action'\n",
      "No role model configuration set. Using default.\n",
      "Importing synonym data to synonym index 'synonym_employment_action'\n",
      "Elasticsearch index 'synonym_employment_action' for application 'hr_assistant_categories' already exists!\n",
      "Loading index 'synonym_employment_action'\n"
     ]
    },
    {
     "name": "stderr",
     "output_type": "stream",
     "text": [
      "\n",
      "100%|██████████| 2/2 [00:00<00:00, 78.52it/s]"
     ]
    },
    {
     "name": "stdout",
     "output_type": "stream",
     "text": [
      "Loaded 2 documents\n",
      "Fitting role classifier: domain='salary', intent='get_salary', entity_type='sys_amount-of-money'\n",
      "No role model configuration set. Using default.\n",
      "Fitting role classifier: domain='salary', intent='get_salary', entity_type='comparator'\n",
      "No role model configuration set. Using default.\n",
      "Importing synonym data to synonym index 'synonym_comparator'\n",
      "Elasticsearch index 'synonym_comparator' for application 'hr_assistant_categories' already exists!\n",
      "Loading index 'synonym_comparator'\n"
     ]
    },
    {
     "name": "stderr",
     "output_type": "stream",
     "text": [
      "\n",
      "100%|██████████| 4/4 [00:00<00:00, 158.06it/s]"
     ]
    },
    {
     "name": "stdout",
     "output_type": "stream",
     "text": [
      "Loaded 4 documents\n",
      "Fitting role classifier: domain='salary', intent='get_salary', entity_type='time_recur'\n",
      "No role model configuration set. Using default.\n",
      "Importing synonym data to synonym index 'synonym_time_recur'\n",
      "Elasticsearch index 'synonym_time_recur' for application 'hr_assistant_categories' already exists!\n",
      "Loading index 'synonym_time_recur'\n"
     ]
    },
    {
     "name": "stderr",
     "output_type": "stream",
     "text": [
      "\n",
      "100%|██████████| 5/5 [00:00<00:00, 110.99it/s]"
     ]
    },
    {
     "name": "stdout",
     "output_type": "stream",
     "text": [
      "Loaded 5 documents\n",
      "Fitting role classifier: domain='salary', intent='get_salary', entity_type='extreme'\n",
      "No role model configuration set. Using default.\n",
      "Importing synonym data to synonym index 'synonym_extreme'\n",
      "Elasticsearch index 'synonym_extreme' for application 'hr_assistant_categories' already exists!\n",
      "Loading index 'synonym_extreme'\n"
     ]
    },
    {
     "name": "stderr",
     "output_type": "stream",
     "text": [
      "\n",
      "100%|██████████| 2/2 [00:00<00:00, 74.66it/s]"
     ]
    },
    {
     "name": "stdout",
     "output_type": "stream",
     "text": [
      "Loaded 2 documents\n"
     ]
    },
    {
     "name": "stderr",
     "output_type": "stream",
     "text": [
      "\n"
     ]
    },
    {
     "name": "stdout",
     "output_type": "stream",
     "text": [
      "Fitting role classifier: domain='salary', intent='get_salary', entity_type='money'\n",
      "No role model configuration set. Using default.\n",
      "Importing synonym data to synonym index 'synonym_money'\n",
      "Elasticsearch index 'synonym_money' for application 'hr_assistant_categories' already exists!\n",
      "Loading index 'synonym_money'\n"
     ]
    },
    {
     "name": "stderr",
     "output_type": "stream",
     "text": [
      "100%|██████████| 1/1 [00:00<00:00, 63.69it/s]"
     ]
    },
    {
     "name": "stdout",
     "output_type": "stream",
     "text": [
      "Loaded 1 document\n",
      "Fitting role classifier: domain='salary', intent='get_salary', entity_type='sys_time'\n",
      "No role model configuration set. Using default.\n",
      "Fitting role classifier: domain='salary', intent='get_salary', entity_type='sys_duration'\n",
      "No role model configuration set. Using default.\n"
     ]
    },
    {
     "name": "stderr",
     "output_type": "stream",
     "text": [
      "\n"
     ]
    },
    {
     "name": "stdout",
     "output_type": "stream",
     "text": [
      "Fitting entity recognizer: domain='salary', intent='get_salary_aggregate'\n",
      "No entity model configuration set. Using default.\n",
      "Selecting hyperparameters using k-fold cross-validation with 5 splits\n",
      "Best accuracy: 92.19%, params: {'C': 100000000, 'penalty': 'l2'}\n",
      "No entity_resolution model configuration set. Using default.\n",
      "No entity_resolution model configuration set. Using default.\n",
      "No entity_resolution model configuration set. Using default.\n",
      "No entity_resolution model configuration set. Using default.\n",
      "No entity_resolution model configuration set. Using default.\n",
      "No entity_resolution model configuration set. Using default.\n",
      "No entity_resolution model configuration set. Using default.\n",
      "No entity_resolution model configuration set. Using default.\n",
      "No entity_resolution model configuration set. Using default.\n",
      "No entity_resolution model configuration set. Using default.\n",
      "No entity_resolution model configuration set. Using default.\n",
      "No entity_resolution model configuration set. Using default.\n",
      "No entity_resolution model configuration set. Using default.\n",
      "No entity_resolution model configuration set. Using default.\n",
      "No entity_resolution model configuration set. Using default.\n",
      "No entity_resolution model configuration set. Using default.\n",
      "No entity_resolution model configuration set. Using default.\n",
      "No entity_resolution model configuration set. Using default.\n",
      "No entity_resolution model configuration set. Using default.\n",
      "No entity_resolution model configuration set. Using default.\n",
      "Fitting role classifier: domain='salary', intent='get_salary_aggregate', entity_type='department'\n",
      "No role model configuration set. Using default.\n",
      "Importing synonym data to synonym index 'synonym_department'\n",
      "Elasticsearch index 'synonym_department' for application 'hr_assistant_categories' already exists!\n",
      "Loading index 'synonym_department'\n"
     ]
    },
    {
     "name": "stderr",
     "output_type": "stream",
     "text": [
      "100%|██████████| 6/6 [00:00<00:00, 164.56it/s]"
     ]
    },
    {
     "name": "stdout",
     "output_type": "stream",
     "text": [
      "Loaded 6 documents\n",
      "Fitting role classifier: domain='salary', intent='get_salary_aggregate', entity_type='name'\n",
      "No role model configuration set. Using default.\n",
      "Importing synonym data to synonym index 'synonym_name'\n",
      "Elasticsearch index 'synonym_name' for application 'hr_assistant_categories' already exists!\n",
      "Loading index 'synonym_name'\n"
     ]
    },
    {
     "name": "stderr",
     "output_type": "stream",
     "text": [
      "\n",
      "100%|██████████| 245/245 [00:00<00:00, 1247.95it/s]"
     ]
    },
    {
     "name": "stdout",
     "output_type": "stream",
     "text": [
      "Loaded 245 documents\n",
      "Fitting role classifier: domain='salary', intent='get_salary_aggregate', entity_type='manager'\n",
      "No role model configuration set. Using default.\n",
      "Importing synonym data to synonym index 'synonym_manager'\n",
      "Elasticsearch index 'synonym_manager' for application 'hr_assistant_categories' already exists!\n",
      "Loading index 'synonym_manager'\n"
     ]
    },
    {
     "name": "stderr",
     "output_type": "stream",
     "text": [
      "\n",
      "100%|██████████| 1/1 [00:00<00:00, 63.74it/s]"
     ]
    },
    {
     "name": "stdout",
     "output_type": "stream",
     "text": [
      "Loaded 1 document\n",
      "Fitting role classifier: domain='salary', intent='get_salary_aggregate', entity_type='employment_action'\n",
      "No role model configuration set. Using default.\n",
      "Importing synonym data to synonym index 'synonym_employment_action'\n",
      "Elasticsearch index 'synonym_employment_action' for application 'hr_assistant_categories' already exists!\n",
      "Loading index 'synonym_employment_action'\n"
     ]
    },
    {
     "name": "stderr",
     "output_type": "stream",
     "text": [
      "\n",
      "100%|██████████| 2/2 [00:00<00:00, 74.46it/s]"
     ]
    },
    {
     "name": "stdout",
     "output_type": "stream",
     "text": [
      "Loaded 2 documents\n",
      "Fitting role classifier: domain='salary', intent='get_salary_aggregate', entity_type='sys_number'\n",
      "No role model configuration set. Using default.\n",
      "Fitting role classifier: domain='salary', intent='get_salary_aggregate', entity_type='sys_amount-of-money'\n",
      "No role model configuration set. Using default.\n",
      "Fitting role classifier: domain='salary', intent='get_salary_aggregate', entity_type='state'\n",
      "No role model configuration set. Using default.\n",
      "Importing synonym data to synonym index 'synonym_state'\n",
      "Elasticsearch index 'synonym_state' for application 'hr_assistant_categories' already exists!\n",
      "Loading index 'synonym_state'\n"
     ]
    },
    {
     "name": "stderr",
     "output_type": "stream",
     "text": [
      "\n",
      "100%|██████████| 28/28 [00:00<00:00, 719.62it/s]"
     ]
    },
    {
     "name": "stdout",
     "output_type": "stream",
     "text": [
      "Loaded 28 documents\n",
      "Fitting role classifier: domain='salary', intent='get_salary_aggregate', entity_type='comparator'\n",
      "No role model configuration set. Using default.\n",
      "Importing synonym data to synonym index 'synonym_comparator'\n",
      "Elasticsearch index 'synonym_comparator' for application 'hr_assistant_categories' already exists!\n",
      "Loading index 'synonym_comparator'\n"
     ]
    },
    {
     "name": "stderr",
     "output_type": "stream",
     "text": [
      "\n",
      "100%|██████████| 4/4 [00:00<00:00, 151.55it/s]"
     ]
    },
    {
     "name": "stdout",
     "output_type": "stream",
     "text": [
      "Loaded 4 documents\n",
      "Fitting role classifier: domain='salary', intent='get_salary_aggregate', entity_type='dob'\n",
      "No role model configuration set. Using default.\n",
      "Importing synonym data to synonym index 'synonym_dob'\n",
      "Elasticsearch index 'synonym_dob' for application 'hr_assistant_categories' already exists!\n",
      "Loading index 'synonym_dob'\n"
     ]
    },
    {
     "name": "stderr",
     "output_type": "stream",
     "text": [
      "\n",
      "100%|██████████| 1/1 [00:00<00:00, 70.42it/s]"
     ]
    },
    {
     "name": "stdout",
     "output_type": "stream",
     "text": [
      "Loaded 1 document\n",
      "Fitting role classifier: domain='salary', intent='get_salary_aggregate', entity_type='extreme'\n",
      "No role model configuration set. Using default.\n",
      "Importing synonym data to synonym index 'synonym_extreme'\n",
      "Elasticsearch index 'synonym_extreme' for application 'hr_assistant_categories' already exists!\n",
      "Loading index 'synonym_extreme'\n"
     ]
    },
    {
     "name": "stderr",
     "output_type": "stream",
     "text": [
      "\n",
      "100%|██████████| 2/2 [00:00<00:00, 73.21it/s]"
     ]
    },
    {
     "name": "stdout",
     "output_type": "stream",
     "text": [
      "Loaded 2 documents\n",
      "Fitting role classifier: domain='salary', intent='get_salary_aggregate', entity_type='time_recur'\n",
      "No role model configuration set. Using default.\n",
      "Importing synonym data to synonym index 'synonym_time_recur'\n",
      "Elasticsearch index 'synonym_time_recur' for application 'hr_assistant_categories' already exists!\n",
      "Loading index 'synonym_time_recur'\n"
     ]
    },
    {
     "name": "stderr",
     "output_type": "stream",
     "text": [
      "\n",
      "100%|██████████| 5/5 [00:00<00:00, 138.45it/s]"
     ]
    },
    {
     "name": "stdout",
     "output_type": "stream",
     "text": [
      "Loaded 5 documents\n",
      "Fitting role classifier: domain='salary', intent='get_salary_aggregate', entity_type='citizendesc'\n",
      "No role model configuration set. Using default.\n",
      "Importing synonym data to synonym index 'synonym_citizendesc'\n",
      "Elasticsearch index 'synonym_citizendesc' for application 'hr_assistant_categories' already exists!\n",
      "Loading index 'synonym_citizendesc'\n"
     ]
    },
    {
     "name": "stderr",
     "output_type": "stream",
     "text": [
      "\n",
      "100%|██████████| 3/3 [00:00<00:00, 112.59it/s]"
     ]
    },
    {
     "name": "stdout",
     "output_type": "stream",
     "text": [
      "Loaded 3 documents\n",
      "Fitting role classifier: domain='salary', intent='get_salary_aggregate', entity_type='function'\n",
      "No role model configuration set. Using default.\n",
      "Importing synonym data to synonym index 'synonym_function'\n",
      "Elasticsearch index 'synonym_function' for application 'hr_assistant_categories' already exists!\n",
      "Loading index 'synonym_function'\n"
     ]
    },
    {
     "name": "stderr",
     "output_type": "stream",
     "text": [
      "\n",
      "100%|██████████| 4/4 [00:00<00:00, 103.18it/s]"
     ]
    },
    {
     "name": "stdout",
     "output_type": "stream",
     "text": [
      "Loaded 4 documents\n",
      "Fitting role classifier: domain='salary', intent='get_salary_aggregate', entity_type='date_compare'\n",
      "No role model configuration set. Using default.\n"
     ]
    },
    {
     "name": "stderr",
     "output_type": "stream",
     "text": [
      "\n"
     ]
    },
    {
     "name": "stdout",
     "output_type": "stream",
     "text": [
      "Importing synonym data to synonym index 'synonym_date_compare'\n",
      "Elasticsearch index 'synonym_date_compare' for application 'hr_assistant_categories' already exists!\n",
      "Loading index 'synonym_date_compare'\n"
     ]
    },
    {
     "name": "stderr",
     "output_type": "stream",
     "text": [
      "100%|██████████| 2/2 [00:00<00:00, 65.83it/s]"
     ]
    },
    {
     "name": "stdout",
     "output_type": "stream",
     "text": [
      "Loaded 2 documents\n",
      "Fitting role classifier: domain='salary', intent='get_salary_aggregate', entity_type='employee_source'\n",
      "No role model configuration set. Using default.\n",
      "Importing synonym data to synonym index 'synonym_employee_source'\n",
      "Elasticsearch index 'synonym_employee_source' for application 'hr_assistant_categories' already exists!\n",
      "Loading index 'synonym_employee_source'\n"
     ]
    },
    {
     "name": "stderr",
     "output_type": "stream",
     "text": [
      "\n",
      "100%|██████████| 20/20 [00:00<00:00, 420.01it/s]"
     ]
    },
    {
     "name": "stdout",
     "output_type": "stream",
     "text": [
      "Loaded 20 documents\n",
      "Fitting role classifier: domain='salary', intent='get_salary_aggregate', entity_type='sex'\n",
      "No role model configuration set. Using default.\n",
      "Importing synonym data to synonym index 'synonym_sex'\n",
      "Elasticsearch index 'synonym_sex' for application 'hr_assistant_categories' already exists!\n",
      "Loading index 'synonym_sex'\n"
     ]
    },
    {
     "name": "stderr",
     "output_type": "stream",
     "text": [
      "\n",
      "100%|██████████| 2/2 [00:00<00:00, 69.04it/s]"
     ]
    },
    {
     "name": "stdout",
     "output_type": "stream",
     "text": [
      "Loaded 2 documents\n",
      "Fitting role classifier: domain='salary', intent='get_salary_aggregate', entity_type='position'\n",
      "No role model configuration set. Using default.\n",
      "Importing synonym data to synonym index 'synonym_position'\n",
      "Elasticsearch index 'synonym_position' for application 'hr_assistant_categories' already exists!\n",
      "Loading index 'synonym_position'\n"
     ]
    },
    {
     "name": "stderr",
     "output_type": "stream",
     "text": [
      "\n",
      "100%|██████████| 24/24 [00:00<00:00, 458.48it/s]"
     ]
    },
    {
     "name": "stdout",
     "output_type": "stream",
     "text": [
      "Loaded 24 documents\n",
      "Fitting role classifier: domain='salary', intent='get_salary_aggregate', entity_type='money'\n",
      "No role model configuration set. Using default.\n",
      "Importing synonym data to synonym index 'synonym_money'\n",
      "Elasticsearch index 'synonym_money' for application 'hr_assistant_categories' already exists!\n",
      "Loading index 'synonym_money'\n"
     ]
    },
    {
     "name": "stderr",
     "output_type": "stream",
     "text": [
      "\n",
      "100%|██████████| 1/1 [00:00<00:00, 45.57it/s]"
     ]
    },
    {
     "name": "stdout",
     "output_type": "stream",
     "text": [
      "Loaded 1 document\n",
      "Fitting role classifier: domain='salary', intent='get_salary_aggregate', entity_type='sys_time'\n",
      "No role model configuration set. Using default.\n",
      "Fitting role classifier: domain='salary', intent='get_salary_aggregate', entity_type='sys_duration'\n",
      "No role model configuration set. Using default.\n",
      "Fitting entity recognizer: domain='salary', intent='get_salary_employees'\n",
      "No entity model configuration set. Using default.\n"
     ]
    },
    {
     "name": "stderr",
     "output_type": "stream",
     "text": [
      "\n"
     ]
    },
    {
     "name": "stdout",
     "output_type": "stream",
     "text": [
      "Selecting hyperparameters using k-fold cross-validation with 5 splits\n",
      "Best accuracy: 93.32%, params: {'C': 100, 'penalty': 'l2'}\n",
      "No entity_resolution model configuration set. Using default.\n",
      "No entity_resolution model configuration set. Using default.\n",
      "No entity_resolution model configuration set. Using default.\n",
      "No entity_resolution model configuration set. Using default.\n",
      "No entity_resolution model configuration set. Using default.\n",
      "No entity_resolution model configuration set. Using default.\n",
      "No entity_resolution model configuration set. Using default.\n",
      "No entity_resolution model configuration set. Using default.\n",
      "No entity_resolution model configuration set. Using default.\n",
      "No entity_resolution model configuration set. Using default.\n",
      "No entity_resolution model configuration set. Using default.\n",
      "No entity_resolution model configuration set. Using default.\n",
      "No entity_resolution model configuration set. Using default.\n",
      "No entity_resolution model configuration set. Using default.\n",
      "No entity_resolution model configuration set. Using default.\n",
      "No entity_resolution model configuration set. Using default.\n",
      "No entity_resolution model configuration set. Using default.\n",
      "No entity_resolution model configuration set. Using default.\n",
      "No entity_resolution model configuration set. Using default.\n",
      "No entity_resolution model configuration set. Using default.\n",
      "Fitting role classifier: domain='salary', intent='get_salary_employees', entity_type='department'\n",
      "No role model configuration set. Using default.\n",
      "Importing synonym data to synonym index 'synonym_department'\n",
      "Elasticsearch index 'synonym_department' for application 'hr_assistant_categories' already exists!\n",
      "Loading index 'synonym_department'\n"
     ]
    },
    {
     "name": "stderr",
     "output_type": "stream",
     "text": [
      "100%|██████████| 6/6 [00:00<00:00, 202.96it/s]"
     ]
    },
    {
     "name": "stdout",
     "output_type": "stream",
     "text": [
      "Loaded 6 documents\n",
      "Fitting role classifier: domain='salary', intent='get_salary_employees', entity_type='name'\n",
      "No role model configuration set. Using default.\n",
      "Importing synonym data to synonym index 'synonym_name'\n",
      "Elasticsearch index 'synonym_name' for application 'hr_assistant_categories' already exists!\n",
      "Loading index 'synonym_name'\n"
     ]
    },
    {
     "name": "stderr",
     "output_type": "stream",
     "text": [
      "\n",
      "100%|██████████| 245/245 [00:00<00:00, 1034.75it/s]"
     ]
    },
    {
     "name": "stdout",
     "output_type": "stream",
     "text": [
      "Loaded 245 documents\n",
      "Fitting role classifier: domain='salary', intent='get_salary_employees', entity_type='manager'\n",
      "No role model configuration set. Using default.\n",
      "Importing synonym data to synonym index 'synonym_manager'\n",
      "Elasticsearch index 'synonym_manager' for application 'hr_assistant_categories' already exists!\n",
      "Loading index 'synonym_manager'\n"
     ]
    },
    {
     "name": "stderr",
     "output_type": "stream",
     "text": [
      "\n",
      "100%|██████████| 1/1 [00:00<00:00, 46.72it/s]"
     ]
    },
    {
     "name": "stdout",
     "output_type": "stream",
     "text": [
      "Loaded 1 document\n",
      "Fitting role classifier: domain='salary', intent='get_salary_employees', entity_type='sys_number'\n",
      "No role model configuration set. Using default.\n",
      "Fitting role classifier: domain='salary', intent='get_salary_employees', entity_type='employment_action'\n",
      "No role model configuration set. Using default.\n",
      "Importing synonym data to synonym index 'synonym_employment_action'\n",
      "Elasticsearch index 'synonym_employment_action' for application 'hr_assistant_categories' already exists!\n",
      "Loading index 'synonym_employment_action'\n"
     ]
    },
    {
     "name": "stderr",
     "output_type": "stream",
     "text": [
      "\n",
      "100%|██████████| 2/2 [00:00<00:00, 78.66it/s]"
     ]
    },
    {
     "name": "stdout",
     "output_type": "stream",
     "text": [
      "Loaded 2 documents\n",
      "Fitting role classifier: domain='salary', intent='get_salary_employees', entity_type='comparator'\n",
      "No role model configuration set. Using default.\n",
      "Importing synonym data to synonym index 'synonym_comparator'\n",
      "Elasticsearch index 'synonym_comparator' for application 'hr_assistant_categories' already exists!\n",
      "Loading index 'synonym_comparator'\n"
     ]
    },
    {
     "name": "stderr",
     "output_type": "stream",
     "text": [
      "\n",
      "100%|██████████| 4/4 [00:00<00:00, 156.65it/s]"
     ]
    },
    {
     "name": "stdout",
     "output_type": "stream",
     "text": [
      "Loaded 4 documents\n",
      "Fitting role classifier: domain='salary', intent='get_salary_employees', entity_type='racedesc'\n",
      "No role model configuration set. Using default.\n",
      "Importing synonym data to synonym index 'synonym_racedesc'\n",
      "Elasticsearch index 'synonym_racedesc' for application 'hr_assistant_categories' already exists!\n",
      "Loading index 'synonym_racedesc'\n"
     ]
    },
    {
     "name": "stderr",
     "output_type": "stream",
     "text": [
      "\n",
      "100%|██████████| 6/6 [00:00<00:00, 187.82it/s]"
     ]
    },
    {
     "name": "stdout",
     "output_type": "stream",
     "text": [
      "Loaded 6 documents\n",
      "Fitting role classifier: domain='salary', intent='get_salary_employees', entity_type='extreme'\n",
      "No role model configuration set. Using default.\n",
      "Importing synonym data to synonym index 'synonym_extreme'\n",
      "Elasticsearch index 'synonym_extreme' for application 'hr_assistant_categories' already exists!\n",
      "Loading index 'synonym_extreme'\n"
     ]
    },
    {
     "name": "stderr",
     "output_type": "stream",
     "text": [
      "\n",
      "100%|██████████| 2/2 [00:00<00:00, 101.26it/s]"
     ]
    },
    {
     "name": "stdout",
     "output_type": "stream",
     "text": [
      "Loaded 2 documents\n",
      "Fitting role classifier: domain='salary', intent='get_salary_employees', entity_type='time_recur'\n",
      "No role model configuration set. Using default.\n",
      "Importing synonym data to synonym index 'synonym_time_recur'\n",
      "Elasticsearch index 'synonym_time_recur' for application 'hr_assistant_categories' already exists!\n",
      "Loading index 'synonym_time_recur'\n"
     ]
    },
    {
     "name": "stderr",
     "output_type": "stream",
     "text": [
      "\n",
      "100%|██████████| 5/5 [00:00<00:00, 129.94it/s]"
     ]
    },
    {
     "name": "stdout",
     "output_type": "stream",
     "text": [
      "Loaded 5 documents\n",
      "Fitting role classifier: domain='salary', intent='get_salary_employees', entity_type='citizendesc'\n",
      "No role model configuration set. Using default.\n",
      "Importing synonym data to synonym index 'synonym_citizendesc'\n",
      "Elasticsearch index 'synonym_citizendesc' for application 'hr_assistant_categories' already exists!\n",
      "Loading index 'synonym_citizendesc'\n"
     ]
    },
    {
     "name": "stderr",
     "output_type": "stream",
     "text": [
      "\n",
      "100%|██████████| 3/3 [00:00<00:00, 94.45it/s]"
     ]
    },
    {
     "name": "stdout",
     "output_type": "stream",
     "text": [
      "Loaded 3 documents\n",
      "Fitting role classifier: domain='salary', intent='get_salary_employees', entity_type='function'\n",
      "No role model configuration set. Using default.\n",
      "Importing synonym data to synonym index 'synonym_function'\n"
     ]
    },
    {
     "name": "stderr",
     "output_type": "stream",
     "text": [
      "\n"
     ]
    },
    {
     "name": "stdout",
     "output_type": "stream",
     "text": [
      "Elasticsearch index 'synonym_function' for application 'hr_assistant_categories' already exists!\n",
      "Loading index 'synonym_function'\n"
     ]
    },
    {
     "name": "stderr",
     "output_type": "stream",
     "text": [
      "100%|██████████| 4/4 [00:00<00:00, 109.16it/s]"
     ]
    },
    {
     "name": "stdout",
     "output_type": "stream",
     "text": [
      "Loaded 4 documents\n",
      "Fitting role classifier: domain='salary', intent='get_salary_employees', entity_type='sys_duration'\n",
      "No role model configuration set. Using default.\n"
     ]
    },
    {
     "name": "stderr",
     "output_type": "stream",
     "text": [
      "\n"
     ]
    },
    {
     "name": "stdout",
     "output_type": "stream",
     "text": [
      "Fitting role classifier: domain='salary', intent='get_salary_employees', entity_type='date_compare'\n",
      "No role model configuration set. Using default.\n",
      "Importing synonym data to synonym index 'synonym_date_compare'\n",
      "Elasticsearch index 'synonym_date_compare' for application 'hr_assistant_categories' already exists!\n",
      "Loading index 'synonym_date_compare'\n"
     ]
    },
    {
     "name": "stderr",
     "output_type": "stream",
     "text": [
      "100%|██████████| 2/2 [00:00<00:00, 81.98it/s]"
     ]
    },
    {
     "name": "stdout",
     "output_type": "stream",
     "text": [
      "Loaded 2 documents\n",
      "Fitting role classifier: domain='salary', intent='get_salary_employees', entity_type='employment_status'\n",
      "No role model configuration set. Using default.\n",
      "Importing synonym data to synonym index 'synonym_employment_status'\n",
      "Elasticsearch index 'synonym_employment_status' for application 'hr_assistant_categories' already exists!\n",
      "Loading index 'synonym_employment_status'\n"
     ]
    },
    {
     "name": "stderr",
     "output_type": "stream",
     "text": [
      "\n",
      "100%|██████████| 5/5 [00:00<00:00, 165.22it/s]"
     ]
    },
    {
     "name": "stdout",
     "output_type": "stream",
     "text": [
      "Loaded 5 documents\n",
      "Fitting role classifier: domain='salary', intent='get_salary_employees', entity_type='employee_source'\n",
      "No role model configuration set. Using default.\n",
      "Importing synonym data to synonym index 'synonym_employee_source'\n"
     ]
    },
    {
     "name": "stderr",
     "output_type": "stream",
     "text": [
      "\n"
     ]
    },
    {
     "name": "stdout",
     "output_type": "stream",
     "text": [
      "Elasticsearch index 'synonym_employee_source' for application 'hr_assistant_categories' already exists!\n",
      "Loading index 'synonym_employee_source'\n"
     ]
    },
    {
     "name": "stderr",
     "output_type": "stream",
     "text": [
      "100%|██████████| 20/20 [00:00<00:00, 540.11it/s]"
     ]
    },
    {
     "name": "stdout",
     "output_type": "stream",
     "text": [
      "Loaded 20 documents\n",
      "Fitting role classifier: domain='salary', intent='get_salary_employees', entity_type='sex'\n"
     ]
    },
    {
     "name": "stderr",
     "output_type": "stream",
     "text": [
      "\n"
     ]
    },
    {
     "name": "stdout",
     "output_type": "stream",
     "text": [
      "No role model configuration set. Using default.\n",
      "Importing synonym data to synonym index 'synonym_sex'\n",
      "Elasticsearch index 'synonym_sex' for application 'hr_assistant_categories' already exists!\n",
      "Loading index 'synonym_sex'\n"
     ]
    },
    {
     "name": "stderr",
     "output_type": "stream",
     "text": [
      "100%|██████████| 2/2 [00:00<00:00, 101.42it/s]"
     ]
    },
    {
     "name": "stdout",
     "output_type": "stream",
     "text": [
      "Loaded 2 documents\n",
      "Fitting role classifier: domain='salary', intent='get_salary_employees', entity_type='position'\n",
      "No role model configuration set. Using default.\n",
      "Importing synonym data to synonym index 'synonym_position'\n",
      "Elasticsearch index 'synonym_position' for application 'hr_assistant_categories' already exists!\n",
      "Loading index 'synonym_position'\n"
     ]
    },
    {
     "name": "stderr",
     "output_type": "stream",
     "text": [
      "\n",
      "100%|██████████| 24/24 [00:00<00:00, 555.84it/s]"
     ]
    },
    {
     "name": "stdout",
     "output_type": "stream",
     "text": [
      "Loaded 24 documents\n"
     ]
    },
    {
     "name": "stderr",
     "output_type": "stream",
     "text": [
      "\n"
     ]
    },
    {
     "name": "stdout",
     "output_type": "stream",
     "text": [
      "Fitting role classifier: domain='salary', intent='get_salary_employees', entity_type='money'\n",
      "No role model configuration set. Using default.\n",
      "Importing synonym data to synonym index 'synonym_money'\n",
      "Elasticsearch index 'synonym_money' for application 'hr_assistant_categories' already exists!\n",
      "Loading index 'synonym_money'\n"
     ]
    },
    {
     "name": "stderr",
     "output_type": "stream",
     "text": [
      "100%|██████████| 1/1 [00:00<00:00, 50.09it/s]"
     ]
    },
    {
     "name": "stdout",
     "output_type": "stream",
     "text": [
      "Loaded 1 document\n",
      "Fitting role classifier: domain='salary', intent='get_salary_employees', entity_type='sys_time'\n",
      "No role model configuration set. Using default.\n"
     ]
    },
    {
     "name": "stderr",
     "output_type": "stream",
     "text": [
      "\n"
     ]
    },
    {
     "name": "stdout",
     "output_type": "stream",
     "text": [
      "Fitting role classifier: domain='salary', intent='get_salary_employees', entity_type='sys_amount-of-money'\n",
      "No role model configuration set. Using default.\n",
      "Fitting intent classifier: domain='date'\n",
      "Selecting hyperparameters using k-fold cross-validation with 5 splits\n",
      "Best accuracy: 98.63%, params: {'C': 10, 'class_weight': {0: 0.8130522088353414, 1: 1.9378205128205128, 2: 0.8793650793650793}, 'fit_intercept': True}\n",
      "Fitting entity recognizer: domain='date', intent='get_date'\n",
      "No entity model configuration set. Using default.\n",
      "Selecting hyperparameters using k-fold cross-validation with 5 splits\n",
      "Best accuracy: 94.18%, params: {'C': 100000000, 'penalty': 'l2'}\n",
      "No entity_resolution model configuration set. Using default.\n",
      "No entity_resolution model configuration set. Using default.\n",
      "No entity_resolution model configuration set. Using default.\n",
      "No entity_resolution model configuration set. Using default.\n",
      "No entity_resolution model configuration set. Using default.\n",
      "Fitting role classifier: domain='date', intent='get_date', entity_type='name'\n",
      "No role model configuration set. Using default.\n",
      "Importing synonym data to synonym index 'synonym_name'\n",
      "Elasticsearch index 'synonym_name' for application 'hr_assistant_categories' already exists!\n",
      "Loading index 'synonym_name'\n"
     ]
    },
    {
     "name": "stderr",
     "output_type": "stream",
     "text": [
      "100%|██████████| 245/245 [00:00<00:00, 1204.58it/s]"
     ]
    },
    {
     "name": "stdout",
     "output_type": "stream",
     "text": [
      "Loaded 245 documents\n",
      "Fitting role classifier: domain='date', intent='get_date', entity_type='employment_action'\n",
      "No role model configuration set. Using default.\n",
      "Importing synonym data to synonym index 'synonym_employment_action'\n",
      "Elasticsearch index 'synonym_employment_action' for application 'hr_assistant_categories' already exists!\n",
      "Loading index 'synonym_employment_action'\n"
     ]
    },
    {
     "name": "stderr",
     "output_type": "stream",
     "text": [
      "\n",
      "100%|██████████| 2/2 [00:00<00:00, 81.36it/s]"
     ]
    },
    {
     "name": "stdout",
     "output_type": "stream",
     "text": [
      "Loaded 2 documents\n",
      "Fitting role classifier: domain='date', intent='get_date', entity_type='dob'\n",
      "No role model configuration set. Using default.\n",
      "Importing synonym data to synonym index 'synonym_dob'\n",
      "Elasticsearch index 'synonym_dob' for application 'hr_assistant_categories' already exists!\n",
      "Loading index 'synonym_dob'\n"
     ]
    },
    {
     "name": "stderr",
     "output_type": "stream",
     "text": [
      "\n",
      "100%|██████████| 1/1 [00:00<00:00, 68.83it/s]"
     ]
    },
    {
     "name": "stdout",
     "output_type": "stream",
     "text": [
      "Loaded 1 document\n",
      "Fitting role classifier: domain='date', intent='get_date', entity_type='sys_time'\n",
      "No role model configuration set. Using default.\n",
      "Fitting role classifier: domain='date', intent='get_date', entity_type='sys_duration'\n",
      "No role model configuration set. Using default.\n",
      "Fitting entity recognizer: domain='date', intent='get_date_range_employees'\n",
      "No entity model configuration set. Using default.\n"
     ]
    },
    {
     "name": "stderr",
     "output_type": "stream",
     "text": [
      "\n"
     ]
    },
    {
     "name": "stdout",
     "output_type": "stream",
     "text": [
      "Selecting hyperparameters using k-fold cross-validation with 5 splits\n",
      "Best accuracy: 93.04%, params: {'C': 10000, 'penalty': 'l2'}\n",
      "No entity_resolution model configuration set. Using default.\n",
      "No entity_resolution model configuration set. Using default.\n",
      "No entity_resolution model configuration set. Using default.\n",
      "No entity_resolution model configuration set. Using default.\n",
      "No entity_resolution model configuration set. Using default.\n",
      "No entity_resolution model configuration set. Using default.\n",
      "No entity_resolution model configuration set. Using default.\n",
      "No entity_resolution model configuration set. Using default.\n",
      "No entity_resolution model configuration set. Using default.\n",
      "No entity_resolution model configuration set. Using default.\n",
      "No entity_resolution model configuration set. Using default.\n",
      "No entity_resolution model configuration set. Using default.\n",
      "No entity_resolution model configuration set. Using default.\n",
      "No entity_resolution model configuration set. Using default.\n",
      "No entity_resolution model configuration set. Using default.\n",
      "No entity_resolution model configuration set. Using default.\n",
      "No entity_resolution model configuration set. Using default.\n",
      "Fitting role classifier: domain='date', intent='get_date_range_employees', entity_type='department'\n",
      "No role model configuration set. Using default.\n",
      "Importing synonym data to synonym index 'synonym_department'\n",
      "Elasticsearch index 'synonym_department' for application 'hr_assistant_categories' already exists!\n",
      "Loading index 'synonym_department'\n"
     ]
    },
    {
     "name": "stderr",
     "output_type": "stream",
     "text": [
      "100%|██████████| 6/6 [00:00<00:00, 165.82it/s]"
     ]
    },
    {
     "name": "stdout",
     "output_type": "stream",
     "text": [
      "Loaded 6 documents\n",
      "Fitting role classifier: domain='date', intent='get_date_range_employees', entity_type='state'\n",
      "No role model configuration set. Using default.\n",
      "Importing synonym data to synonym index 'synonym_state'\n",
      "Elasticsearch index 'synonym_state' for application 'hr_assistant_categories' already exists!\n",
      "Loading index 'synonym_state'\n"
     ]
    },
    {
     "name": "stderr",
     "output_type": "stream",
     "text": [
      "\n",
      "100%|██████████| 28/28 [00:00<00:00, 862.04it/s]"
     ]
    },
    {
     "name": "stdout",
     "output_type": "stream",
     "text": [
      "Loaded 28 documents\n",
      "Fitting role classifier: domain='date', intent='get_date_range_employees', entity_type='employment_action'\n",
      "No role model configuration set. Using default.\n",
      "Importing synonym data to synonym index 'synonym_employment_action'\n",
      "Elasticsearch index 'synonym_employment_action' for application 'hr_assistant_categories' already exists!\n",
      "Loading index 'synonym_employment_action'\n"
     ]
    },
    {
     "name": "stderr",
     "output_type": "stream",
     "text": [
      "\n",
      "100%|██████████| 2/2 [00:00<00:00, 74.26it/s]"
     ]
    },
    {
     "name": "stdout",
     "output_type": "stream",
     "text": [
      "Loaded 2 documents\n",
      "Fitting role classifier: domain='date', intent='get_date_range_employees', entity_type='sys_number'\n",
      "No role model configuration set. Using default.\n",
      "Fitting role classifier: domain='date', intent='get_date_range_employees', entity_type='dob'\n",
      "No role model configuration set. Using default.\n",
      "Importing synonym data to synonym index 'synonym_dob'\n",
      "Elasticsearch index 'synonym_dob' for application 'hr_assistant_categories' already exists!\n",
      "Loading index 'synonym_dob'\n"
     ]
    },
    {
     "name": "stderr",
     "output_type": "stream",
     "text": [
      "\n",
      "100%|██████████| 1/1 [00:00<00:00, 73.09it/s]"
     ]
    },
    {
     "name": "stdout",
     "output_type": "stream",
     "text": [
      "Loaded 1 document\n",
      "Fitting role classifier: domain='date', intent='get_date_range_employees', entity_type='comparator'\n",
      "No role model configuration set. Using default.\n",
      "Importing synonym data to synonym index 'synonym_comparator'\n",
      "Elasticsearch index 'synonym_comparator' for application 'hr_assistant_categories' already exists!\n",
      "Loading index 'synonym_comparator'\n"
     ]
    },
    {
     "name": "stderr",
     "output_type": "stream",
     "text": [
      "\n",
      "100%|██████████| 4/4 [00:00<00:00, 149.24it/s]"
     ]
    },
    {
     "name": "stdout",
     "output_type": "stream",
     "text": [
      "Loaded 4 documents\n",
      "Fitting role classifier: domain='date', intent='get_date_range_employees', entity_type='time_interval'\n",
      "No role model configuration set. Using default.\n",
      "Importing synonym data to synonym index 'synonym_time_interval'\n",
      "Elasticsearch index 'synonym_time_interval' for application 'hr_assistant_categories' already exists!\n",
      "Loading index 'synonym_time_interval'\n"
     ]
    },
    {
     "name": "stderr",
     "output_type": "stream",
     "text": [
      "\n",
      "100%|██████████| 10/10 [00:00<00:00, 297.12it/s]"
     ]
    },
    {
     "name": "stdout",
     "output_type": "stream",
     "text": [
      "Loaded 10 documents\n",
      "Fitting role classifier: domain='date', intent='get_date_range_employees', entity_type='extreme'\n",
      "No role model configuration set. Using default.\n",
      "Importing synonym data to synonym index 'synonym_extreme'\n",
      "Elasticsearch index 'synonym_extreme' for application 'hr_assistant_categories' already exists!\n",
      "Loading index 'synonym_extreme'\n"
     ]
    },
    {
     "name": "stderr",
     "output_type": "stream",
     "text": [
      "\n",
      "100%|██████████| 2/2 [00:00<00:00, 96.74it/s]"
     ]
    },
    {
     "name": "stdout",
     "output_type": "stream",
     "text": [
      "Loaded 2 documents\n",
      "Fitting role classifier: domain='date', intent='get_date_range_employees', entity_type='sys_interval'\n",
      "No role model configuration set. Using default.\n",
      "Fitting role classifier: domain='date', intent='get_date_range_employees', entity_type='maritaldesc'\n",
      "No role model configuration set. Using default.\n",
      "Importing synonym data to synonym index 'synonym_maritaldesc'\n",
      "Elasticsearch index 'synonym_maritaldesc' for application 'hr_assistant_categories' already exists!\n",
      "Loading index 'synonym_maritaldesc'\n"
     ]
    },
    {
     "name": "stderr",
     "output_type": "stream",
     "text": [
      "\n",
      "100%|██████████| 5/5 [00:00<00:00, 135.25it/s]"
     ]
    },
    {
     "name": "stdout",
     "output_type": "stream",
     "text": [
      "Loaded 5 documents\n",
      "Fitting role classifier: domain='date', intent='get_date_range_employees', entity_type='citizendesc'\n",
      "No role model configuration set. Using default.\n",
      "Importing synonym data to synonym index 'synonym_citizendesc'\n"
     ]
    },
    {
     "name": "stderr",
     "output_type": "stream",
     "text": [
      "\n"
     ]
    },
    {
     "name": "stdout",
     "output_type": "stream",
     "text": [
      "Elasticsearch index 'synonym_citizendesc' for application 'hr_assistant_categories' already exists!\n",
      "Loading index 'synonym_citizendesc'\n"
     ]
    },
    {
     "name": "stderr",
     "output_type": "stream",
     "text": [
      "100%|██████████| 3/3 [00:00<00:00, 95.05it/s]"
     ]
    },
    {
     "name": "stdout",
     "output_type": "stream",
     "text": [
      "Loaded 3 documents\n"
     ]
    },
    {
     "name": "stderr",
     "output_type": "stream",
     "text": [
      "\n"
     ]
    },
    {
     "name": "stdout",
     "output_type": "stream",
     "text": [
      "Fitting role classifier: domain='date', intent='get_date_range_employees', entity_type='date_compare'\n",
      "No role model configuration set. Using default.\n",
      "Importing synonym data to synonym index 'synonym_date_compare'\n",
      "Elasticsearch index 'synonym_date_compare' for application 'hr_assistant_categories' already exists!\n",
      "Loading index 'synonym_date_compare'\n"
     ]
    },
    {
     "name": "stderr",
     "output_type": "stream",
     "text": [
      "100%|██████████| 2/2 [00:00<00:00, 75.26it/s]"
     ]
    },
    {
     "name": "stdout",
     "output_type": "stream",
     "text": [
      "Loaded 2 documents\n",
      "Fitting role classifier: domain='date', intent='get_date_range_employees', entity_type='sex'\n",
      "No role model configuration set. Using default.\n"
     ]
    },
    {
     "name": "stderr",
     "output_type": "stream",
     "text": [
      "\n"
     ]
    },
    {
     "name": "stdout",
     "output_type": "stream",
     "text": [
      "Importing synonym data to synonym index 'synonym_sex'\n",
      "Elasticsearch index 'synonym_sex' for application 'hr_assistant_categories' already exists!\n",
      "Loading index 'synonym_sex'\n"
     ]
    },
    {
     "name": "stderr",
     "output_type": "stream",
     "text": [
      "100%|██████████| 2/2 [00:00<00:00, 62.63it/s]"
     ]
    },
    {
     "name": "stdout",
     "output_type": "stream",
     "text": [
      "Loaded 2 documents\n",
      "Fitting role classifier: domain='date', intent='get_date_range_employees', entity_type='position'\n",
      "No role model configuration set. Using default.\n",
      "Importing synonym data to synonym index 'synonym_position'\n",
      "Elasticsearch index 'synonym_position' for application 'hr_assistant_categories' already exists!\n",
      "Loading index 'synonym_position'\n"
     ]
    },
    {
     "name": "stderr",
     "output_type": "stream",
     "text": [
      "\n",
      "100%|██████████| 24/24 [00:00<00:00, 515.97it/s]"
     ]
    },
    {
     "name": "stdout",
     "output_type": "stream",
     "text": [
      "Loaded 24 documents\n",
      "Fitting role classifier: domain='date', intent='get_date_range_employees', entity_type='racedesc'\n",
      "No role model configuration set. Using default.\n"
     ]
    },
    {
     "name": "stderr",
     "output_type": "stream",
     "text": [
      "\n"
     ]
    },
    {
     "name": "stdout",
     "output_type": "stream",
     "text": [
      "Importing synonym data to synonym index 'synonym_racedesc'\n",
      "Elasticsearch index 'synonym_racedesc' for application 'hr_assistant_categories' already exists!\n",
      "Loading index 'synonym_racedesc'\n"
     ]
    },
    {
     "name": "stderr",
     "output_type": "stream",
     "text": [
      "100%|██████████| 6/6 [00:00<00:00, 133.49it/s]"
     ]
    },
    {
     "name": "stdout",
     "output_type": "stream",
     "text": [
      "Loaded 6 documents\n",
      "Fitting role classifier: domain='date', intent='get_date_range_employees', entity_type='sys_time'\n",
      "No role model configuration set. Using default.\n",
      "Fitting role classifier: domain='date', intent='get_date_range_employees', entity_type='sys_duration'\n",
      "No role model configuration set. Using default.\n",
      "Fitting entity recognizer: domain='date', intent='get_date_range_aggregate'\n",
      "No entity model configuration set. Using default.\n"
     ]
    },
    {
     "name": "stderr",
     "output_type": "stream",
     "text": [
      "\n"
     ]
    },
    {
     "name": "stdout",
     "output_type": "stream",
     "text": [
      "Selecting hyperparameters using k-fold cross-validation with 5 splits\n",
      "Best accuracy: 92.79%, params: {'C': 1000000, 'penalty': 'l1'}\n",
      "No entity_resolution model configuration set. Using default.\n",
      "No entity_resolution model configuration set. Using default.\n",
      "No entity_resolution model configuration set. Using default.\n",
      "No entity_resolution model configuration set. Using default.\n",
      "No entity_resolution model configuration set. Using default.\n",
      "No entity_resolution model configuration set. Using default.\n",
      "No entity_resolution model configuration set. Using default.\n",
      "No entity_resolution model configuration set. Using default.\n",
      "No entity_resolution model configuration set. Using default.\n",
      "No entity_resolution model configuration set. Using default.\n",
      "No entity_resolution model configuration set. Using default.\n",
      "Fitting role classifier: domain='date', intent='get_date_range_aggregate', entity_type='state'\n",
      "No role model configuration set. Using default.\n",
      "Importing synonym data to synonym index 'synonym_state'\n",
      "Elasticsearch index 'synonym_state' for application 'hr_assistant_categories' already exists!\n",
      "Loading index 'synonym_state'\n"
     ]
    },
    {
     "name": "stderr",
     "output_type": "stream",
     "text": [
      "100%|██████████| 28/28 [00:00<00:00, 784.09it/s]"
     ]
    },
    {
     "name": "stdout",
     "output_type": "stream",
     "text": [
      "Loaded 28 documents\n",
      "Fitting role classifier: domain='date', intent='get_date_range_aggregate', entity_type='employment_action'\n",
      "No role model configuration set. Using default.\n",
      "Importing synonym data to synonym index 'synonym_employment_action'\n",
      "Elasticsearch index 'synonym_employment_action' for application 'hr_assistant_categories' already exists!\n",
      "Loading index 'synonym_employment_action'\n"
     ]
    },
    {
     "name": "stderr",
     "output_type": "stream",
     "text": [
      "\n",
      "100%|██████████| 2/2 [00:00<00:00, 58.28it/s]"
     ]
    },
    {
     "name": "stdout",
     "output_type": "stream",
     "text": [
      "Loaded 2 documents\n",
      "Fitting role classifier: domain='date', intent='get_date_range_aggregate', entity_type='sys_number'\n",
      "No role model configuration set. Using default.\n",
      "Fitting role classifier: domain='date', intent='get_date_range_aggregate', entity_type='dob'\n",
      "No role model configuration set. Using default.\n",
      "Importing synonym data to synonym index 'synonym_dob'\n",
      "Elasticsearch index 'synonym_dob' for application 'hr_assistant_categories' already exists!\n",
      "Loading index 'synonym_dob'\n"
     ]
    },
    {
     "name": "stderr",
     "output_type": "stream",
     "text": [
      "\n",
      "100%|██████████| 1/1 [00:00<00:00, 63.12it/s]"
     ]
    },
    {
     "name": "stdout",
     "output_type": "stream",
     "text": [
      "Loaded 1 document\n",
      "Fitting role classifier: domain='date', intent='get_date_range_aggregate', entity_type='comparator'\n",
      "No role model configuration set. Using default.\n",
      "Importing synonym data to synonym index 'synonym_comparator'\n",
      "Elasticsearch index 'synonym_comparator' for application 'hr_assistant_categories' already exists!\n",
      "Loading index 'synonym_comparator'\n"
     ]
    },
    {
     "name": "stderr",
     "output_type": "stream",
     "text": [
      "\n",
      "100%|██████████| 4/4 [00:00<00:00, 173.18it/s]"
     ]
    },
    {
     "name": "stdout",
     "output_type": "stream",
     "text": [
      "Loaded 4 documents\n",
      "Fitting role classifier: domain='date', intent='get_date_range_aggregate', entity_type='time_interval'\n",
      "No role model configuration set. Using default.\n",
      "Importing synonym data to synonym index 'synonym_time_interval'\n",
      "Elasticsearch index 'synonym_time_interval' for application 'hr_assistant_categories' already exists!\n",
      "Loading index 'synonym_time_interval'\n"
     ]
    },
    {
     "name": "stderr",
     "output_type": "stream",
     "text": [
      "\n",
      "100%|██████████| 10/10 [00:00<00:00, 297.76it/s]"
     ]
    },
    {
     "name": "stdout",
     "output_type": "stream",
     "text": [
      "Loaded 10 documents\n",
      "Fitting role classifier: domain='date', intent='get_date_range_aggregate', entity_type='function'\n"
     ]
    },
    {
     "name": "stderr",
     "output_type": "stream",
     "text": [
      "\n"
     ]
    },
    {
     "name": "stdout",
     "output_type": "stream",
     "text": [
      "No role model configuration set. Using default.\n",
      "Importing synonym data to synonym index 'synonym_function'\n",
      "Elasticsearch index 'synonym_function' for application 'hr_assistant_categories' already exists!\n",
      "Loading index 'synonym_function'\n"
     ]
    },
    {
     "name": "stderr",
     "output_type": "stream",
     "text": [
      "100%|██████████| 4/4 [00:00<00:00, 130.37it/s]"
     ]
    },
    {
     "name": "stdout",
     "output_type": "stream",
     "text": [
      "Loaded 4 documents\n",
      "Fitting role classifier: domain='date', intent='get_date_range_aggregate', entity_type='date_compare'\n",
      "No role model configuration set. Using default.\n",
      "Importing synonym data to synonym index 'synonym_date_compare'\n",
      "Elasticsearch index 'synonym_date_compare' for application 'hr_assistant_categories' already exists!\n",
      "Loading index 'synonym_date_compare'\n"
     ]
    },
    {
     "name": "stderr",
     "output_type": "stream",
     "text": [
      "\n",
      "100%|██████████| 2/2 [00:00<00:00, 75.50it/s]"
     ]
    },
    {
     "name": "stdout",
     "output_type": "stream",
     "text": [
      "Loaded 2 documents\n",
      "Fitting role classifier: domain='date', intent='get_date_range_aggregate', entity_type='sex'\n",
      "No role model configuration set. Using default.\n",
      "Importing synonym data to synonym index 'synonym_sex'\n",
      "Elasticsearch index 'synonym_sex' for application 'hr_assistant_categories' already exists!\n",
      "Loading index 'synonym_sex'\n"
     ]
    },
    {
     "name": "stderr",
     "output_type": "stream",
     "text": [
      "\n",
      "100%|██████████| 2/2 [00:00<00:00, 79.13it/s]"
     ]
    },
    {
     "name": "stdout",
     "output_type": "stream",
     "text": [
      "Loaded 2 documents\n",
      "Fitting role classifier: domain='date', intent='get_date_range_aggregate', entity_type='sys_time'\n",
      "No role model configuration set. Using default.\n",
      "Fitting role classifier: domain='date', intent='get_date_range_aggregate', entity_type='sys_duration'\n",
      "No role model configuration set. Using default.\n",
      "Fitting entity recognizer: domain='hierarchy', intent='get_hierarchy'\n",
      "No entity model configuration set. Using default.\n"
     ]
    },
    {
     "name": "stderr",
     "output_type": "stream",
     "text": [
      "\n"
     ]
    },
    {
     "name": "stdout",
     "output_type": "stream",
     "text": [
      "Selecting hyperparameters using k-fold cross-validation with 5 splits\n",
      "Best accuracy: 95.31%, params: {'C': 10000, 'penalty': 'l2'}\n",
      "No entity_resolution model configuration set. Using default.\n",
      "No entity_resolution model configuration set. Using default.\n",
      "No entity_resolution model configuration set. Using default.\n",
      "Fitting role classifier: domain='hierarchy', intent='get_hierarchy', entity_type='name'\n",
      "No role model configuration set. Using default.\n",
      "Importing synonym data to synonym index 'synonym_name'\n",
      "Elasticsearch index 'synonym_name' for application 'hr_assistant_categories' already exists!\n",
      "Loading index 'synonym_name'\n"
     ]
    },
    {
     "name": "stderr",
     "output_type": "stream",
     "text": [
      "100%|██████████| 245/245 [00:00<00:00, 1199.09it/s]"
     ]
    },
    {
     "name": "stdout",
     "output_type": "stream",
     "text": [
      "Loaded 245 documents\n",
      "Fitting role classifier: domain='hierarchy', intent='get_hierarchy', entity_type='manager'\n",
      "No role model configuration set. Using default.\n",
      "Importing synonym data to synonym index 'synonym_manager'\n",
      "Elasticsearch index 'synonym_manager' for application 'hr_assistant_categories' already exists!\n",
      "Loading index 'synonym_manager'\n"
     ]
    },
    {
     "name": "stderr",
     "output_type": "stream",
     "text": [
      "\n",
      "100%|██████████| 1/1 [00:00<00:00, 59.63it/s]"
     ]
    },
    {
     "name": "stdout",
     "output_type": "stream",
     "text": [
      "Loaded 1 document\n",
      "Fitting role classifier: domain='hierarchy', intent='get_hierarchy', entity_type='comparator'\n",
      "No role model configuration set. Using default.\n",
      "Importing synonym data to synonym index 'synonym_comparator'\n",
      "Elasticsearch index 'synonym_comparator' for application 'hr_assistant_categories' already exists!\n",
      "Loading index 'synonym_comparator'\n"
     ]
    },
    {
     "name": "stderr",
     "output_type": "stream",
     "text": [
      "\n",
      "100%|██████████| 4/4 [00:00<00:00, 146.23it/s]"
     ]
    },
    {
     "name": "stdout",
     "output_type": "stream",
     "text": [
      "Loaded 4 documents\n",
      "Fitting entity recognizer: domain='unsupported', intent='unsupported'\n",
      "No entity model configuration set. Using default.\n",
      "There are no labels in this label set, so we don't fit the model.\n"
     ]
    },
    {
     "name": "stderr",
     "output_type": "stream",
     "text": [
      "\n"
     ]
    }
   ],
   "source": [
    "nlp.build()"
   ]
  },
  {
   "cell_type": "code",
   "execution_count": 4,
   "metadata": {
    "scrolled": true
   },
   "outputs": [
    {
     "name": "stdout",
     "output_type": "stream",
     "text": [
      "The application package hr_assistant_categories is already imported.\n"
     ]
    },
    {
     "name": "stderr",
     "output_type": "stream",
     "text": [
      "/anaconda3/envs/mm_workspace/lib/python3.6/site-packages/mindmeld/_version.py:64: MindMeldVersionWarning: Current mindmeld (4.1.1) does not satisfy mindmeld==4.1.0 in pip requirements caused by (mindmeld 4.1.1 (/anaconda3/envs/mm_workspace/lib/python3.6/site-packages), Requirement.parse('mindmeld==4.1.0'))\n",
      "  warnings.warn(error_msg, category=MindMeldVersionWarning)\n"
     ]
    }
   ],
   "source": [
    "from mindmeld.components.dialogue import Conversation\n",
    "conv = Conversation(nlp=nlp, app_path='./hr_assistant_categories')"
   ]
  },
  {
   "cell_type": "code",
   "execution_count": 5,
   "metadata": {},
   "outputs": [
    {
     "data": {
      "text/plain": [
       "['The average yearly is 105760.0']"
      ]
     },
     "execution_count": 5,
     "metadata": {},
     "output_type": "execute_result"
    }
   ],
   "source": [
    "conv.say(\"average yearly salary of married sales female employees\")"
   ]
  },
  {
   "cell_type": "code",
   "execution_count": 6,
   "metadata": {},
   "outputs": [
    {
     "data": {
      "text/plain": [
       "['The average is 29.12']"
      ]
     },
     "execution_count": 6,
     "metadata": {},
     "output_type": "execute_result"
    }
   ],
   "source": [
    "conv.say(\"average salary of females in the org\")"
   ]
  },
  {
   "cell_type": "code",
   "execution_count": 7,
   "metadata": {},
   "outputs": [
    {
     "data": {
      "text/plain": [
       "['What information would you like to know about Elisa Bramante?',\n",
       " 'Listening...']"
      ]
     },
     "execution_count": 7,
     "metadata": {},
     "output_type": "execute_result"
    }
   ],
   "source": [
    "conv.say(\"what is Elisa Bramante's\")"
   ]
  },
  {
   "cell_type": "code",
   "execution_count": 8,
   "metadata": {},
   "outputs": [
    {
     "name": "stdout",
     "output_type": "stream",
     "text": [
      "Elasticsearch index 'user_data' for application 'hr_assistant_categories' already exists!\n",
      "Loading index 'user_data'\n"
     ]
    },
    {
     "name": "stderr",
     "output_type": "stream",
     "text": [
      "100%|██████████| 301/301 [00:00<00:00, 958.94it/s]"
     ]
    },
    {
     "name": "stdout",
     "output_type": "stream",
     "text": [
      "Loaded 301 documents\n"
     ]
    },
    {
     "name": "stderr",
     "output_type": "stream",
     "text": [
      "\n"
     ]
    },
    {
     "data": {
      "text/plain": [
       "['Elisa Bramante is Single']"
      ]
     },
     "execution_count": 8,
     "metadata": {},
     "output_type": "execute_result"
    }
   ],
   "source": [
    "conv.say(\"marital status\")"
   ]
  },
  {
   "cell_type": "code",
   "execution_count": 9,
   "metadata": {},
   "outputs": [
    {
     "name": "stdout",
     "output_type": "stream",
     "text": [
      "Elasticsearch index 'user_data' for application 'hr_assistant_categories' already exists!\n",
      "Loading index 'user_data'\n"
     ]
    },
    {
     "name": "stderr",
     "output_type": "stream",
     "text": [
      "100%|██████████| 301/301 [00:00<00:00, 845.31it/s]"
     ]
    },
    {
     "name": "stdout",
     "output_type": "stream",
     "text": [
      "Loaded 301 documents\n",
      "Elasticsearch index 'user_data' for application 'hr_assistant_categories' already exists!\n",
      "Loading index 'user_data'\n"
     ]
    },
    {
     "name": "stderr",
     "output_type": "stream",
     "text": [
      "\n",
      "100%|██████████| 301/301 [00:00<00:00, 988.79it/s]"
     ]
    },
    {
     "name": "stdout",
     "output_type": "stream",
     "text": [
      "Loaded 301 documents\n"
     ]
    },
    {
     "name": "stderr",
     "output_type": "stream",
     "text": [
      "\n"
     ]
    },
    {
     "data": {
      "text/plain": [
       "[\"Brandon R. LeBlanc is Mia Brown's manager\",\n",
       " \"Eric Dougall is Julia Soto's manager\"]"
      ]
     },
     "execution_count": 9,
     "metadata": {},
     "output_type": "execute_result"
    }
   ],
   "source": [
    "conv.say(\"is mia's manager julia?\")"
   ]
  },
  {
   "cell_type": "code",
   "execution_count": 10,
   "metadata": {},
   "outputs": [],
   "source": [
    "# nlp.inspect(\"youngest employee\", domain='general')"
   ]
  },
  {
   "cell_type": "code",
   "execution_count": 11,
   "metadata": {},
   "outputs": [
    {
     "data": {
      "text/plain": [
       "['The percent is 29.0']"
      ]
     },
     "execution_count": 11,
     "metadata": {},
     "output_type": "execute_result"
    }
   ],
   "source": [
    "conv.say(\"percent of employees earning less than 20\")"
   ]
  },
  {
   "cell_type": "code",
   "execution_count": 12,
   "metadata": {},
   "outputs": [
    {
     "data": {
      "text/plain": [
       "[\"Sorry! I don't quite understand what you mean? You can ask for an employee's individual information (eg. Is Ivan married?), some statistic about the employees (eg. average salary of females) or get a list of employees according to your criteria (eg. give me a list of all married employees)\",\n",
       " 'Listening...']"
      ]
     },
     "execution_count": 12,
     "metadata": {},
     "output_type": "execute_result"
    }
   ],
   "source": [
    "conv.say(\"female\")"
   ]
  },
  {
   "cell_type": "code",
   "execution_count": 30,
   "metadata": {},
   "outputs": [
    {
     "data": {
      "text/plain": [
       "['Here\\'s some employees: [\\'Lynch, Lindsay\\', \"O\\'hare, Lynn\", \\'Nguyen, Dheepa\\', \\'Lindsay, Leonara \\', \\'Barone, Francesco  A\\', \\'Davis, Daniel\\', \\'Friedman, Gerry\\', \\'Guilianno, Mike\\', \\'McKinzie, Jac\\', \\'Williams, Jacquelyn  \\', \\'Girifalco, Evelyn\\', \\'Mancuso, Karen\\', \\'Valentin,Jackie\\', \\'Ruiz, Ricardo\\', \\'Bachiochi, Linda\\', \\'Stanford,Barbara  M\\', \\'Tavares, Desiree  \\', \\'Mullaney, Howard\\']']"
      ]
     },
     "execution_count": 30,
     "metadata": {},
     "output_type": "execute_result"
    }
   ],
   "source": [
    "conv.say(\"are there any mixed race employees\")"
   ]
  },
  {
   "cell_type": "code",
   "execution_count": 14,
   "metadata": {},
   "outputs": [
    {
     "data": {
      "text/plain": [
       "['The percent is 28.666666666666668']"
      ]
     },
     "execution_count": 14,
     "metadata": {},
     "output_type": "execute_result"
    }
   ],
   "source": [
    "conv.say(\"what percentage of employees were fired post 2012\")"
   ]
  },
  {
   "cell_type": "code",
   "execution_count": 15,
   "metadata": {},
   "outputs": [
    {
     "data": {
      "text/plain": [
       "['The percent is 0.0']"
      ]
     },
     "execution_count": 15,
     "metadata": {},
     "output_type": "execute_result"
    }
   ],
   "source": [
    "conv.say(\"what percentage of employees were hired in this year\")"
   ]
  },
  {
   "cell_type": "code",
   "execution_count": 16,
   "metadata": {},
   "outputs": [
    {
     "data": {
      "text/plain": [
       "[\"Here's some employees: ['Simard, Kramer', 'Tredinnick, Neville ', 'Turpin, Jumil', 'Hernandez, Daniff', 'Rogers, Ivan', 'Merlos, Carlos', 'Sullivan, Timothy', 'Ait Sidi, Karthikeyan   ', 'Fernandes, Nilson  ', 'Garcia, Raul', 'Gray, Elijiah  ', 'Ozark, Travis', 'Salter, Jason', 'Bacong, Alejandro ', 'Cisco, Anthony']\"]"
      ]
     },
     "execution_count": 16,
     "metadata": {},
     "output_type": "execute_result"
    }
   ],
   "source": [
    "conv.say(\"males hired in 2015\")"
   ]
  },
  {
   "cell_type": "code",
   "execution_count": 17,
   "metadata": {},
   "outputs": [
    {
     "name": "stderr",
     "output_type": "stream",
     "text": [
      "/anaconda3/envs/mm_workspace/lib/python3.6/site-packages/numpy/core/fromnumeric.py:3118: RuntimeWarning: Mean of empty slice.\n",
      "  out=out, **kwargs)\n",
      "/anaconda3/envs/mm_workspace/lib/python3.6/site-packages/numpy/core/_methods.py:85: RuntimeWarning: invalid value encountered in double_scalars\n",
      "  ret = ret.dtype.type(ret / rcount)\n"
     ]
    },
    {
     "data": {
      "text/plain": [
       "[\"Sorry, I'm not sure about that. Can you please repeat the salary statistic that you would like to know?\",\n",
       " 'Listening...']"
      ]
     },
     "execution_count": 17,
     "metadata": {},
     "output_type": "execute_result"
    }
   ],
   "source": [
    "conv.say(\"give me the average salary of employees who are 30 years of age but hired after 2008\")"
   ]
  },
  {
   "cell_type": "code",
   "execution_count": 18,
   "metadata": {},
   "outputs": [
    {
     "data": {
      "text/plain": [
       "['Here\\'s some employees: [\\'Tejeda, Lenora \\', \\'Buck, Edward\\', \\'Simard, Kramer\\', \\'Tredinnick, Neville \\', \\'Turpin, Jumil\\', \\'Lajiri,  Jyoti\\', \\'Barbara, Thomas\\', \\'Gilles, Alex\\', \\'Kretschmer, John\\', \\'Mckenna, Sandy\\', \\'Rivera, Haley  \\', \\'Sander, Kamrin\\', \\'Petingill, Shana  \\', \\'Smith, Leigh Ann\\', \\'Foster-Baker, Amy\\', \\'Hernandez, Daniff\\', \\'Johnson, Noelle \\', \\'Petrowsky, Thelma\\', \\'Rogers, Ivan\\', \\'Monroe, Peter\\', \\'Dolan, Linda\\', \\'Shepard, Anita \\', \\'Immediato, Walter\\', \\'Liebig, Ketsia\\', \\'Spirea, Kelley\\', \\'Wallace, Courtney  E\\', \\'Baczenski, Rachael  \\', \\'Clukey, Elijian\\', \\'Cornett, Lisa \\', \"Darson, Jene\\'ya \", \\'Desimone, Carl \\', \\'Eaton, Marianne\\', \\'Ferguson, Susan\\', \\'Fidelia,  Libby\\', \\'Kinsella, Kathleen  \\', \\'Lydon, Allison\\', \\'Ndzi, Horia\\', \\'Newman, Richard \\', \\'Robinson, Alain  \\', \\'Robinson, Cherly\\', \\'Sparks, Taylor  \\', \\'Sullivan, Timothy\\', \\'Faller, Megan \\', \\'Good, Susan\\', \\'Homberger, Adrienne  J\\', \\'Latif, Mohammed\\', \\'Linden, Mathew\\', \\'Peters, Lauren\\', \\'Bunbury, Jessica\\', \\'Gonzales, Ricardo\\', \\'McKinzie, Jac\\', \\'Potts, Xana\\', \\'Strong, Caitrin\\', \\'Howard, Estelle\\', \\'Pearson, Randall\\', \\'Roby, Lori \\', \\'Ait Sidi, Karthikeyan   \\', \\'Alagbe,Trina\\', \\'Brill, Donna\\', \\'Fernandes, Nilson  \\', \\'Gentry, Mildred\\', \\'Gordon, David\\', \\'Goyal, Roxana\\', \\'Harrell, Ludwick\\', \\'Kirill, Alexandra  \\', \\'Maurice, Shana\\', \\'Osturnka, Adeel\\', \\'Panjwani, Nina\\', \\'Shields, Seffi\\', \\'Stoica, Rick\\', \\'Volk, Colleen\\', \\'Akinkuolie, Sarah\\', \\'Gonzalez, Juan\\', \\'Monkfish, Erasumus  \\', \\'Oliver, Brooke \\', \\'Pelletier, Ermine\\', \\'Houlihan, Debra\\', \\'LeBlanc, Brandon  R\\', \\'Boutwell, Bonalyn\\', \\'King, Janet\\', \\'Daniele, Ann  \\', \\'Semizoglou, Jeremiah  \\', \\'Peterson, Ebonee  \\', \\'Sullivan, Kissy \\', \\'Billis, Helen\\', \\'DiNocco, Lily \\', \\'England, Rex\\', \\'Handschiegl, Joanne\\', \\'Jung, Judy  \\', \\'Langton, Enrico\\', \\'Linares, Marilyn \\', \\'Mangal, Debbie\\', \\'Wilber, Barry\\', \\'Cloninger, Jennifer\\', \\'Mancuso, Karen\\', \\'Sahoo, Adil\\', \\'Valentin,Jackie\\', \\'Exantus, Susan\\', \\'Saada, Adell\\', \\'Brown, Mia\\', \\'Quinn, Sean\\', \\'Soto, Julia \\', \\'Cisco, Anthony\\', \\'Morway, Tanya\\', \\'Hogland, Jonathan \\', \\'DeGweck,  James\\', \\'Harrison, Kara\\', \\'Johnson, George\\', \\'Peterson, Kayla \\', \\'Pham, Hong\\', \\'Tavares, Desiree  \\', \\'Beak, Kimberly  \\', \\'Burkett, Benjamin \\', \\'Close, Phil\\', \\'Foreman, Tanya\\', \\'Manchester, Robyn\\', \\'Robertson, Peter\\', \\'Digitale, Alfred\\', \\'Jeremy Prater\\']']"
      ]
     },
     "execution_count": 18,
     "metadata": {},
     "output_type": "execute_result"
    }
   ],
   "source": [
    "conv.say(\"give me a list of all married employees\")"
   ]
  },
  {
   "cell_type": "code",
   "execution_count": 19,
   "metadata": {},
   "outputs": [
    {
     "data": {
      "text/plain": [
       "['Here\\'s some employees: [\\'Tejeda, Lenora \\', \\'Trzeciak, Cybil\\', \\'Buck, Edward\\', \\'Khemmich, Bartholemew\\', \\'Martins, Joseph\\', \\'Nguyen, Dheepa\\', \\'Kampew, Donysha    \\', \\'Patronick, Luke\\', \\'True, Edward\\', \\'Singh, Nan \\', \\'Simard, Kramer\\', \\'Clayton, Rick\\', \\'Tredinnick, Neville \\', \\'Turpin, Jumil\\', \\'Roehrich, Bianca\\', \\'Lajiri,  Jyoti\\', \\'Warfield, Sarah\\', \\'Bramante, Elisa\\', \\'Adinolfi, Wilson  K\\', \\'Barbara, Thomas\\', \\'Chan, Lin\\', \\'Garneau, Hamish\\', \\'Gilles, Alex\\', \\'Gonzalez, Cayo\\', \\'Ivey, Rose \\', \\'Kretschmer, John\\', \\'Lynch, Lindsay\\', \\'Mckenna, Sandy\\', \\'Medeiros, Jennifer\\', \"O\\'hare, Lynn\", \\'Owad, Clinton\\', \\'Pitt, Brad \\', \\'Rivera, Haley  \\', \\'Rose, Ashley  \\', \\'Sander, Kamrin\\', \\'Smith, Sade\\', \\'Bondwell, Betsy\\', \\'Hutter, Rosalie\\', \\'Johnston, Yen\\', \\'Lunquist, Lisa\\', \\'Petingill, Shana  \\', \\'Smith, Leigh Ann\\', \\'Foster-Baker, Amy\\', \\'Hernandez, Daniff\\', \\'Johnson, Noelle \\', \\'Petrowsky, Thelma\\', \\'Rogers, Ivan\\', \\'Monroe, Peter\\', \\'Galia, Lisa\\', \\'Lindsay, Leonara \\', \\'Dolan, Linda\\', \\'Merlos, Carlos\\', \\'Shepard, Anita \\', \\'Favis, Donald  \\', \\'Immediato, Walter\\', \\'Liebig, Ketsia\\', \\'Spirea, Kelley\\', \\'Wallace, Courtney  E\\', \\'Anderson, Carol \\', \\'Baczenski, Rachael  \\', \\'Barone, Francesco  A\\', \\'Bugali, Josephine \\', \\'Chang, Donovan  E\\', \\'Chivukula, Enola\\', \\'Cierpiszewski, Caroline  \\', \\'Clukey, Elijian\\', \\'Cole, Spencer\\', \\'Cornett, Lisa \\', \\'Crimmings,   Jean\\', \"Darson, Jene\\'ya \", \\'Desimone, Carl \\', \\'Eaton, Marianne\\', \\'Engdahl, Jean\\', \\'Evensen, April\\', \\'Ferguson, Susan\\', \\'Fidelia,  Libby\\', \\'Gerke, Melisa\\', \\'Gold, Shenice  \\', \\'Harrington, Christie \\', \\'Heitzman, Anthony\\', \\'Jackson, Maryellen\\', \\'Jacobi, Hannah  \\', \\'Keatts, Kramer \\', \\'Kinsella, Kathleen  \\', \\'Leach, Dallas\\', \\'LeBel, Jonathan  R\\', \\'Lydon, Allison\\', \\'Meads, Elizabeth\\', \\'Ndzi, Horia\\', \\'Newman, Richard \\', \\'Perry, Shakira\\', \\'Power, Morissa\\', \\'Rhoads, Thomas\\', \\'Robinson, Alain  \\', \\'Robinson, Cherly\\', \\'Robinson, Elias\\', \\'Rossetti, Bruno\\', \\'Saar-Beckles, Melinda\\', \\'Sparks, Taylor  \\', \\'Sullivan, Timothy\\', \\'Sutwell, Barbara\\', \\'Tippett, Jeanette\\', \\'Blount, Dianna\\', \\'Davis, Daniel\\', \\'Faller, Megan \\', \\'Good, Susan\\', \\'Homberger, Adrienne  J\\', \\'Latif, Mohammed\\', \\'Linden, Mathew\\', \\'McCarthy, Brigit\\', \\'Monterro, Luisa\\', \\'Moumanil, Maliki \\', \\'Peters, Lauren\\', \\'Bunbury, Jessica\\', \\'Costa, Latia\\', \\'Friedman, Gerry\\', \\'Gonzales, Ricardo\\', \\'Guilianno, Mike\\', \\'Leruth, Giovanni\\', \\'McKinzie, Jac\\', \\'Onque, Jasmine\\', \\'Potts, Xana\\', \\'Strong, Caitrin\\', \\'Martin, Sandra\\', \\'Steans, Tyrone  \\', \\'Howard, Estelle\\', \\'Zamora, Jennifer\\', \\'Pearson, Randall\\', \\'Roby, Lori \\', \\'Ait Sidi, Karthikeyan   \\', \\'Albert, Michael  \\', \\'Miller, Brannon\\', \\'Stanley, David \\', \\'Alagbe,Trina\\', \\'Becker, Scott\\', \\'Brill, Donna\\', \\'Carey, Michael  \\', \\'Cockel, James\\', \\'Dickinson, Geoff \\', \\'Dobrin, Denisa  S\\', \\'Fernandes, Nilson  \\', \\'Garcia, Raul\\', \\'Gaul, Barbara\\', \\'Gentry, Mildred\\', \\'Gordon, David\\', \\'Goyal, Roxana\\', \\'Gross, Paula\\', \\'Harrell, Ludwick\\', \\'Jhaveri, Sneha  \\', \\'Kirill, Alexandra  \\', \\'Knapp, Bradley  J\\', \\'Maurice, Shana\\', \\'Osturnka, Adeel\\', \\'Panjwani, Nina\\', \\'Rarrick, Quinn\\', \\'Sewkumar, Nori\\', \\'Shields, Seffi\\', \\'Stoica, Rick\\', \\'Volk, Colleen\\', \\'Von Massenbach, Anna\\', \\'Williams, Jacquelyn  \\', \\'Akinkuolie, Sarah\\', \\'Demita, Carla\\', \\'Erilus, Angela\\', \\'Fancett, Nicole\\', \\'Fitzpatrick, Michael  J\\', \\'Gonzalez, Juan\\', \\'Hendrickson, Trina\\', \\'Monkfish, Erasumus  \\', \\'Moran, Patrick\\', \\'Oliver, Brooke \\', \\'Pelletier, Ermine\\', \\'Smith, Joe\\', \\'Thibaud, Kenneth\\', \\'Winthrop, Jordan  \\', \\'Dietrich, Jenna  \\', \\'Houlihan, Debra\\', \\'Carabbio, Judith\\', \\'Del Bosque, Keyla\\', \\'LeBlanc, Brandon  R\\', \\'Boutwell, Bonalyn\\', \\'King, Janet\\', \\'Becker, Renee\\', \\'Horton, Jayne\\', \\'Dougall, Eric\\', \\'Gonzalez, Maria\\', \\'Daniele, Ann  \\', \\'Semizoglou, Jeremiah  \\', \\'South, Joe\\', \\'Bozzi, Charles\\', \\'Butler, Webster  L\\', \\'Dunn, Amy  \\', \\'Gray, Elijiah  \\', \\'Peterson, Ebonee  \\', \\'Sullivan, Kissy \\', \\'Beatrice, Courtney \\', \\'Bernstein, Sean\\', \\'Biden, Lowan  M\\', \\'Billis, Helen\\', \\'DiNocco, Lily \\', \\'England, Rex\\', \\'Estremera, Miguel\\', \\'Girifalco, Evelyn\\', \\'Handschiegl, Joanne\\', \\'Jung, Judy  \\', \\'Langton, Enrico\\', \\'Linares, Marilyn \\', \\'Mangal, Debbie\\', \\'Pelech, Emil\\', \\'Punjabhi, Louis  \\', \\'Sadki, Nore  \\', \\'Squatrito, Kristen\\', \\'Trang, Mei\\', \\'Wallace, Theresa\\', \\'Wilber, Barry\\', \\'Zima, Colleen\\', \\'Buccheri, Joseph  \\', \\'Cloninger, Jennifer\\', \\'Gosciminski, Phylicia  \\', \\'Huynh, Ming\\', \\'Jeannite, Tayana\\', \\'Mancuso, Karen\\', \\'Roberson, May\\', \\'Sahoo, Adil\\', \\'Sloan, Constance\\', \\'Walker, Roger\\', \\'Wolk, Hang  T\\', \\'Woodson, Jason\\', \\'Carter, Michelle \\', \\'Ozark, Travis\\', \\'Terry, Sharlene \\', \\'Valentin,Jackie\\', \\'Villanueva, Noah\\', \\'Exantus, Susan\\', \\'Saada, Adell\\', \\'Szabo, Andrew\\', \\'Brown, Mia\\', \\'LaRotonda, William  \\', \\'Quinn, Sean\\', \\'Goble, Taisha\\', \\'Murray, Thomas\\', \\'Salter, Jason\\', \\'Zhou, Julia\\', \\'Foss, Jason\\', \\'Roup,Simon\\', \\'Ruiz, Ricardo\\', \\'Soto, Julia \\', \\'Bacong, Alejandro \\', \\'Cisco, Anthony\\', \\'Morway, Tanya\\', \\'Carr, Claudia  N\\', \\'Hogland, Jonathan \\', \\'Anderson, Linda  \\', \\'Athwal, Sam\\', \\'Bachiochi, Linda\\', \\'Barton, Nader\\', \\'Chace, Beatrice \\', \\'DeGweck,  James\\', \\'Ferreira, Violeta\\', \\'Harrison, Kara\\', \\'Johnson, George\\', \\'MacLennan, Samuel\\', \\'Mahoney, Lauren  \\', \\'Motlagh,  Dawn\\', \\'Ngodup, Shari \\', \\'Nguyen, Lei-Ming\\', \\'Peterson, Kayla \\', \\'Pham, Hong\\', \\'Purinton, Janine\\', \\'Stanford,Barbara  M\\', \\'Tavares, Desiree  \\', \\'Theamstern, Sophia\\', \\'Tinto, Theresa  \\', \\'Veera, Abdellah \\', \\'Whittier, Scott\\', \\'Ybarra, Catherine \\', \\'Beak, Kimberly  \\', \\'Burke, Joelle\\', \\'Burkett, Benjamin \\', \\'Close, Phil\\', \\'Foreman, Tanya\\', \\'Hankard, Earnest\\', \\'Hunts, Julissa\\', \\'Langford, Lindsey\\', \\'Lundy, Susan\\', \\'Manchester, Robyn\\', \\'Miller, Ned\\', \\'Nowlan, Kristie\\', \\'Robertson, Peter\\', \\'Digitale, Alfred\\', \\'Fraval, Maruk \\', \\'Gill, Whitney  \\', \\'Givens, Myriam\\', \\'Jeremy Prater\\', \\'Mullaney, Howard\\', \\'Riordan, Michael\\', \\'Daneault, Lynn\\', \\'Smith, John\\', \\'Andreola, Colby\\', \\'Sweetwater, Alex\\']']"
      ]
     },
     "execution_count": 19,
     "metadata": {},
     "output_type": "execute_result"
    }
   ],
   "source": [
    "conv.say(\"fired 2010 2015\")"
   ]
  },
  {
   "cell_type": "code",
   "execution_count": null,
   "metadata": {},
   "outputs": [],
   "source": []
  }
 ],
 "metadata": {
  "kernelspec": {
   "display_name": "Python 3",
   "language": "python",
   "name": "python3"
  },
  "language_info": {
   "codemirror_mode": {
    "name": "ipython",
    "version": 3
   },
   "file_extension": ".py",
   "mimetype": "text/x-python",
   "name": "python",
   "nbconvert_exporter": "python",
   "pygments_lexer": "ipython3",
   "version": "3.6.8"
  }
 },
 "nbformat": 4,
 "nbformat_minor": 2
}
