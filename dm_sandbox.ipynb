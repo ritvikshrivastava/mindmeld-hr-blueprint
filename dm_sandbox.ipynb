{
 "cells": [
  {
   "cell_type": "code",
   "execution_count": 1,
   "metadata": {},
   "outputs": [
    {
     "name": "stderr",
     "output_type": "stream",
     "text": [
      "/anaconda3/envs/mm_workspace/lib/python3.6/site-packages/sklearn/ensemble/weight_boosting.py:29: DeprecationWarning: numpy.core.umath_tests is an internal NumPy module and should not be imported. It will be removed in a future NumPy release.\n",
      "  from numpy.core.umath_tests import inner1d\n"
     ]
    }
   ],
   "source": [
    "from mindmeld import configure_logs; configure_logs()"
   ]
  },
  {
   "cell_type": "code",
   "execution_count": 2,
   "metadata": {},
   "outputs": [
    {
     "name": "stderr",
     "output_type": "stream",
     "text": [
      "/anaconda3/envs/mm_workspace/lib/python3.6/site-packages/mindmeld/_version.py:64: MindMeldVersionWarning: Current mindmeld (4.1.1) does not satisfy mindmeld==4.1.0 in pip requirements caused by (mindmeld 4.1.1 (/anaconda3/envs/mm_workspace/lib/python3.6/site-packages), Requirement.parse('mindmeld==4.1.0'))\n",
      "  warnings.warn(error_msg, category=MindMeldVersionWarning)\n"
     ]
    },
    {
     "ename": "IndentationError",
     "evalue": "unindent does not match any outer indentation level (salary.py, line 216)",
     "output_type": "error",
     "traceback": [
      "Traceback \u001b[0;36m(most recent call last)\u001b[0m:\n",
      "  File \u001b[1;32m\"/anaconda3/envs/mm_workspace/lib/python3.6/site-packages/IPython/core/interactiveshell.py\"\u001b[0m, line \u001b[1;32m3296\u001b[0m, in \u001b[1;35mrun_code\u001b[0m\n    exec(code_obj, self.user_global_ns, self.user_ns)\n",
      "  File \u001b[1;32m\"<ipython-input-2-e385030b1b30>\"\u001b[0m, line \u001b[1;32m2\u001b[0m, in \u001b[1;35m<module>\u001b[0m\n    nlp = NaturalLanguageProcessor(app_path='./hr_assistant')\n",
      "  File \u001b[1;32m\"/anaconda3/envs/mm_workspace/lib/python3.6/site-packages/mindmeld/components/nlp.py\"\u001b[0m, line \u001b[1;32m356\u001b[0m, in \u001b[1;35m__init__\u001b[0m\n    self._load_custom_features()\n",
      "  File \u001b[1;32m\"/anaconda3/envs/mm_workspace/lib/python3.6/site-packages/mindmeld/components/nlp.py\"\u001b[0m, line \u001b[1;32m375\u001b[0m, in \u001b[1;35m_load_custom_features\u001b[0m\n    get_app(self._app_path)\n",
      "  File \u001b[1;32m\"/anaconda3/envs/mm_workspace/lib/python3.6/site-packages/mindmeld/path.py\"\u001b[0m, line \u001b[1;32m552\u001b[0m, in \u001b[1;35mget_app\u001b[0m\n    return loader.load_module(package_name).app  # pylint: disable=deprecated-method\n",
      "  File \u001b[1;32m\"<frozen importlib._bootstrap_external>\"\u001b[0m, line \u001b[1;32m399\u001b[0m, in \u001b[1;35m_check_name_wrapper\u001b[0m\n",
      "  File \u001b[1;32m\"<frozen importlib._bootstrap_external>\"\u001b[0m, line \u001b[1;32m823\u001b[0m, in \u001b[1;35mload_module\u001b[0m\n",
      "  File \u001b[1;32m\"<frozen importlib._bootstrap_external>\"\u001b[0m, line \u001b[1;32m682\u001b[0m, in \u001b[1;35mload_module\u001b[0m\n",
      "  File \u001b[1;32m\"<frozen importlib._bootstrap>\"\u001b[0m, line \u001b[1;32m265\u001b[0m, in \u001b[1;35m_load_module_shim\u001b[0m\n",
      "  File \u001b[1;32m\"<frozen importlib._bootstrap>\"\u001b[0m, line \u001b[1;32m684\u001b[0m, in \u001b[1;35m_load\u001b[0m\n",
      "  File \u001b[1;32m\"<frozen importlib._bootstrap>\"\u001b[0m, line \u001b[1;32m665\u001b[0m, in \u001b[1;35m_load_unlocked\u001b[0m\n",
      "  File \u001b[1;32m\"<frozen importlib._bootstrap_external>\"\u001b[0m, line \u001b[1;32m678\u001b[0m, in \u001b[1;35mexec_module\u001b[0m\n",
      "  File \u001b[1;32m\"<frozen importlib._bootstrap>\"\u001b[0m, line \u001b[1;32m219\u001b[0m, in \u001b[1;35m_call_with_frames_removed\u001b[0m\n",
      "\u001b[0;36m  File \u001b[0;32m\"/Users/ritvshri/Documents/mm/mindmeld-hr-blueprint/hr_assistant/__init__.py\"\u001b[0;36m, line \u001b[0;32m6\u001b[0;36m, in \u001b[0;35m<module>\u001b[0;36m\u001b[0m\n\u001b[0;31m    import hr_assistant.salary\u001b[0m\n",
      "\u001b[0;36m  File \u001b[0;32m\"/Users/ritvshri/Documents/mm/mindmeld-hr-blueprint/hr_assistant/salary.py\"\u001b[0;36m, line \u001b[0;32m216\u001b[0m\n\u001b[0;31m    intv_mult = { \"yearly\": 12*4*5*8, \"monthly\": 4*5*8, \"weekly\":5*8, \"daily\": 8,\"hourly\": 1}\u001b[0m\n\u001b[0m                                                                                             ^\u001b[0m\n\u001b[0;31mIndentationError\u001b[0m\u001b[0;31m:\u001b[0m unindent does not match any outer indentation level\n"
     ]
    }
   ],
   "source": [
    "from mindmeld.components.nlp import NaturalLanguageProcessor\n",
    "nlp = NaturalLanguageProcessor(app_path='./hr_assistant')\n",
    "nlp"
   ]
  },
  {
   "cell_type": "code",
   "execution_count": null,
   "metadata": {},
   "outputs": [],
   "source": [
    "nlp.build()"
   ]
  },
  {
   "cell_type": "code",
   "execution_count": null,
   "metadata": {
    "scrolled": true
   },
   "outputs": [],
   "source": [
    "from mindmeld.components.dialogue import Conversation\n",
    "conv = Conversation(nlp=nlp, app_path='./hr_assistant')"
   ]
  },
  {
   "cell_type": "code",
   "execution_count": null,
   "metadata": {},
   "outputs": [],
   "source": [
    "conv.say(\"is julia married?\")"
   ]
  },
  {
   "cell_type": "code",
   "execution_count": null,
   "metadata": {},
   "outputs": [],
   "source": []
  },
  {
   "cell_type": "code",
   "execution_count": null,
   "metadata": {},
   "outputs": [],
   "source": [
    "conv.say(\"average yearly salary of married sales female employees\")"
   ]
  },
  {
   "cell_type": "code",
   "execution_count": null,
   "metadata": {},
   "outputs": [],
   "source": [
    "conv.say(\"average salary of females in the org\")"
   ]
  },
  {
   "cell_type": "code",
   "execution_count": null,
   "metadata": {},
   "outputs": [],
   "source": [
    "conv.say(\"Can you tell me about daniel?\")"
   ]
  },
  {
   "cell_type": "code",
   "execution_count": null,
   "metadata": {},
   "outputs": [],
   "source": [
    "conv.say(\"what's his race\")"
   ]
  },
  {
   "cell_type": "code",
   "execution_count": null,
   "metadata": {},
   "outputs": [],
   "source": [
    "conv.say(\"is mia's manager julia?\")"
   ]
  },
  {
   "cell_type": "code",
   "execution_count": null,
   "metadata": {},
   "outputs": [],
   "source": [
    "# nlp.inspect(\"youngest employee\", domain='general')"
   ]
  },
  {
   "cell_type": "code",
   "execution_count": null,
   "metadata": {},
   "outputs": [],
   "source": [
    "conv.say(\"percent of employees earning less than 20\")"
   ]
  },
  {
   "cell_type": "code",
   "execution_count": null,
   "metadata": {},
   "outputs": [],
   "source": [
    "conv.say(\"is tomato a fruit?\")"
   ]
  },
  {
   "cell_type": "code",
   "execution_count": null,
   "metadata": {},
   "outputs": [],
   "source": [
    "conv.say(\"let's see\")"
   ]
  },
  {
   "cell_type": "code",
   "execution_count": null,
   "metadata": {},
   "outputs": [],
   "source": [
    "conv.say(\"yes please!\")"
   ]
  },
  {
   "cell_type": "code",
   "execution_count": null,
   "metadata": {},
   "outputs": [],
   "source": [
    "conv.say(\"are there any mixed race employees\")"
   ]
  },
  {
   "cell_type": "code",
   "execution_count": null,
   "metadata": {},
   "outputs": [],
   "source": [
    "conv.say(\"give me the average salary of employees who are 30 years of age but hired after 2008\")"
   ]
  },
  {
   "cell_type": "code",
   "execution_count": null,
   "metadata": {},
   "outputs": [],
   "source": [
    "# nlp.inspect(\"what percentage of employees were hired post 2012\", domain='date')"
   ]
  },
  {
   "cell_type": "code",
   "execution_count": null,
   "metadata": {},
   "outputs": [],
   "source": [
    "conv.say(\"what percentage of employees were hired in this year\")"
   ]
  },
  {
   "cell_type": "code",
   "execution_count": null,
   "metadata": {},
   "outputs": [],
   "source": [
    "conv.say(\"males fired in 2014\")"
   ]
  },
  {
   "cell_type": "code",
   "execution_count": null,
   "metadata": {},
   "outputs": [],
   "source": [
    "nlp.inspect(\"give me the average salary of employees who are 30 years of age but hired after 2008\", domain='salary')"
   ]
  },
  {
   "cell_type": "code",
   "execution_count": null,
   "metadata": {},
   "outputs": [],
   "source": [
    "conv.say(\"show me all married employees\")"
   ]
  },
  {
   "cell_type": "code",
   "execution_count": null,
   "metadata": {},
   "outputs": [],
   "source": [
    "conv.say(\"what is the average salary for women?\")"
   ]
  },
  {
   "cell_type": "code",
   "execution_count": null,
   "metadata": {},
   "outputs": [],
   "source": [
    "conv.say(\"\")"
   ]
  },
  {
   "cell_type": "code",
   "execution_count": null,
   "metadata": {},
   "outputs": [],
   "source": []
  },
  {
   "cell_type": "code",
   "execution_count": null,
   "metadata": {},
   "outputs": [],
   "source": []
  }
 ],
 "metadata": {
  "kernelspec": {
   "display_name": "Python 3",
   "language": "python",
   "name": "python3"
  },
  "language_info": {
   "codemirror_mode": {
    "name": "ipython",
    "version": 3
   },
   "file_extension": ".py",
   "mimetype": "text/x-python",
   "name": "python",
   "nbconvert_exporter": "python",
   "pygments_lexer": "ipython3",
   "version": "3.6.8"
  }
 },
 "nbformat": 4,
 "nbformat_minor": 2
}
