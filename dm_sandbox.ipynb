{
 "cells": [
  {
   "cell_type": "code",
   "execution_count": 1,
   "metadata": {},
   "outputs": [
    {
     "name": "stderr",
     "output_type": "stream",
     "text": [
      "/anaconda3/envs/mindmeld2/lib/python3.6/site-packages/sklearn/ensemble/weight_boosting.py:29: DeprecationWarning: numpy.core.umath_tests is an internal NumPy module and should not be imported. It will be removed in a future NumPy release.\n",
      "  from numpy.core.umath_tests import inner1d\n"
     ]
    }
   ],
   "source": [
    "from mindmeld import configure_logs; configure_logs()"
   ]
  },
  {
   "cell_type": "code",
   "execution_count": 2,
   "metadata": {},
   "outputs": [
    {
     "name": "stderr",
     "output_type": "stream",
     "text": [
      "/anaconda3/envs/mindmeld2/lib/python3.6/site-packages/mindmeld/_version.py:64: MindMeldVersionWarning: Current mindmeld (4.1.1) does not satisfy mindmeld>=4.1.1 in pip requirements caused by (urllib3 1.24.3 (/anaconda3/envs/mindmeld2/lib/python3.6/site-packages), Requirement.parse('urllib3==1.23'), {'mindmeld'})\n",
      "  warnings.warn(error_msg, category=MindMeldVersionWarning)\n"
     ]
    },
    {
     "data": {
      "text/plain": [
       "<NaturalLanguageProcessor 'hr_assistant' ready: False, dirty: False>"
      ]
     },
     "execution_count": 2,
     "metadata": {},
     "output_type": "execute_result"
    }
   ],
   "source": [
    "from mindmeld.components.nlp import NaturalLanguageProcessor\n",
    "nlp = NaturalLanguageProcessor(app_path='hr_assistant')\n",
    "nlp"
   ]
  },
  {
   "cell_type": "code",
   "execution_count": 3,
   "metadata": {
    "scrolled": true
   },
   "outputs": [
    {
     "name": "stdout",
     "output_type": "stream",
     "text": [
      "Fitting domain classifier\n",
      "Loading raw queries from file hr_assistant/domains/date/get_date/train.txt\n",
      "Loading raw queries from file hr_assistant/domains/date/get_date_range_aggregate/train.txt\n",
      "Loading raw queries from file hr_assistant/domains/date/get_date_range_employees/train.txt\n",
      "Loading raw queries from file hr_assistant/domains/general/get_aggregate/train.txt\n",
      "Loading raw queries from file hr_assistant/domains/general/get_employees/train.txt\n",
      "Loading raw queries from file hr_assistant/domains/general/get_info/train.txt\n",
      "Loading raw queries from file hr_assistant/domains/greeting/exit/train.txt\n",
      "Loading raw queries from file hr_assistant/domains/greeting/greet/train.txt\n",
      "Loading raw queries from file hr_assistant/domains/hierarchy/get_hierarchy_down/train.txt\n",
      "Loading raw queries from file hr_assistant/domains/hierarchy/get_hierarchy_up/train.txt\n",
      "Loading raw queries from file hr_assistant/domains/salary/get_salary/train.txt\n",
      "Loading raw queries from file hr_assistant/domains/salary/get_salary_aggregate/train.txt\n",
      "Loading raw queries from file hr_assistant/domains/salary/get_salary_employees/train.txt\n",
      "Loading raw queries from file hr_assistant/domains/unsupported/unsupported/train.txt\n",
      "Loading queries from file hr_assistant/domains/date/get_date/train.txt\n",
      "Loading queries from file hr_assistant/domains/date/get_date_range_aggregate/train.txt\n",
      "Loading queries from file hr_assistant/domains/date/get_date_range_employees/train.txt\n",
      "Loading queries from file hr_assistant/domains/general/get_aggregate/train.txt\n",
      "Loading queries from file hr_assistant/domains/general/get_employees/train.txt\n",
      "Loading queries from file hr_assistant/domains/general/get_info/train.txt\n",
      "Loading queries from file hr_assistant/domains/greeting/exit/train.txt\n",
      "Loading queries from file hr_assistant/domains/greeting/greet/train.txt\n",
      "Loading queries from file hr_assistant/domains/hierarchy/get_hierarchy_down/train.txt\n",
      "Loading queries from file hr_assistant/domains/hierarchy/get_hierarchy_up/train.txt\n",
      "Loading queries from file hr_assistant/domains/salary/get_salary/train.txt\n",
      "Loading queries from file hr_assistant/domains/salary/get_salary_aggregate/train.txt\n",
      "Loading queries from file hr_assistant/domains/salary/get_salary_employees/train.txt\n",
      "Loading queries from file hr_assistant/domains/unsupported/unsupported/train.txt\n",
      "Building gazetteer 'racedesc'\n",
      "Loading entity data from 'hr_assistant/entities/racedesc/gazetteer.txt'\n",
      "32/32 entities in entity data file exceeded popularity cutoff and were added to the gazetteer\n",
      "Loading synonyms from entity mapping\n",
      "Added 18/18 synonyms from file into gazetteer\n",
      "Building gazetteer 'employment_status'\n",
      "Loading entity data from 'hr_assistant/entities/employment_status/gazetteer.txt'\n",
      "29/29 entities in entity data file exceeded popularity cutoff and were added to the gazetteer\n",
      "Loading synonyms from entity mapping\n",
      "Added 21/21 synonyms from file into gazetteer\n",
      "Building gazetteer 'comparator'\n",
      "Loading entity data from 'hr_assistant/entities/comparator/gazetteer.txt'\n",
      "23/23 entities in entity data file exceeded popularity cutoff and were added to the gazetteer\n",
      "Loading synonyms from entity mapping\n",
      "Added 19/19 synonyms from file into gazetteer\n",
      "Building gazetteer 'reason_for_termination'\n",
      "Loading entity data from 'hr_assistant/entities/reason_for_termination/gazetteer.txt'\n",
      "56/56 entities in entity data file exceeded popularity cutoff and were added to the gazetteer\n",
      "Loading synonyms from entity mapping\n",
      "Added 39/39 synonyms from file into gazetteer\n",
      "Building gazetteer 'maritaldesc'\n",
      "Loading entity data from 'hr_assistant/entities/maritaldesc/gazetteer.txt'\n",
      "25/25 entities in entity data file exceeded popularity cutoff and were added to the gazetteer\n",
      "Loading synonyms from entity mapping\n",
      "Added 8/8 synonyms from file into gazetteer\n",
      "Building gazetteer 'extreme'\n",
      "Loading entity data from 'hr_assistant/entities/extreme/gazetteer.txt'\n",
      "17/17 entities in entity data file exceeded popularity cutoff and were added to the gazetteer\n",
      "Loading synonyms from entity mapping\n",
      "Added 15/15 synonyms from file into gazetteer\n",
      "Building gazetteer 'sex'\n",
      "Loading entity data from 'hr_assistant/entities/sex/gazetteer.txt'\n",
      "30/30 entities in entity data file exceeded popularity cutoff and were added to the gazetteer\n",
      "Loading synonyms from entity mapping\n",
      "Added 19/19 synonyms from file into gazetteer\n",
      "Building gazetteer 'position'\n",
      "Loading entity data from 'hr_assistant/entities/position/gazetteer.txt'\n",
      "62/62 entities in entity data file exceeded popularity cutoff and were added to the gazetteer\n",
      "Loading synonyms from entity mapping\n",
      "Added 30/30 synonyms from file into gazetteer\n",
      "Building gazetteer 'time_recur'\n",
      "Loading entity data from 'hr_assistant/entities/time_recur/gazetteer.txt'\n",
      "48/48 entities in entity data file exceeded popularity cutoff and were added to the gazetteer\n",
      "Loading synonyms from entity mapping\n",
      "Added 43/43 synonyms from file into gazetteer\n",
      "Building gazetteer 'department'\n",
      "Loading entity data from 'hr_assistant/entities/department/gazetteer.txt'\n",
      "37/37 entities in entity data file exceeded popularity cutoff and were added to the gazetteer\n",
      "Loading synonyms from entity mapping\n",
      "Added 14/14 synonyms from file into gazetteer\n",
      "Building gazetteer 'function'\n",
      "Loading entity data from 'hr_assistant/entities/function/gazetteer.txt'\n",
      "34/34 entities in entity data file exceeded popularity cutoff and were added to the gazetteer\n",
      "Loading synonyms from entity mapping\n",
      "Added 29/29 synonyms from file into gazetteer\n",
      "Building gazetteer 'state'\n",
      "Loading entity data from 'hr_assistant/entities/state/gazetteer.txt'\n",
      "72/72 entities in entity data file exceeded popularity cutoff and were added to the gazetteer\n",
      "Loading synonyms from entity mapping\n",
      "Added 28/28 synonyms from file into gazetteer\n",
      "Building gazetteer 'date_compare'\n",
      "Loading entity data from 'hr_assistant/entities/date_compare/gazetteer.txt'\n",
      "13/13 entities in entity data file exceeded popularity cutoff and were added to the gazetteer\n",
      "Loading synonyms from entity mapping\n",
      "Added 11/11 synonyms from file into gazetteer\n",
      "Building gazetteer 'manager'\n",
      "Loading entity data from 'hr_assistant/entities/manager/gazetteer.txt'\n",
      "27/27 entities in entity data file exceeded popularity cutoff and were added to the gazetteer\n",
      "Loading synonyms from entity mapping\n",
      "Added 26/26 synonyms from file into gazetteer\n",
      "Building gazetteer 'citizendesc'\n",
      "Loading entity data from 'hr_assistant/entities/citizendesc/gazetteer.txt'\n",
      "25/25 entities in entity data file exceeded popularity cutoff and were added to the gazetteer\n",
      "Loading synonyms from entity mapping\n",
      "Added 17/17 synonyms from file into gazetteer\n",
      "Building gazetteer 'age'\n",
      "Loading entity data from 'hr_assistant/entities/age/gazetteer.txt'\n",
      "45/45 entities in entity data file exceeded popularity cutoff and were added to the gazetteer\n",
      "Loading synonyms from entity mapping\n",
      "Added 0/0 synonyms from file into gazetteer\n",
      "Building gazetteer 'money'\n",
      "Loading entity data from 'hr_assistant/entities/money/gazetteer.txt'\n",
      "20/20 entities in entity data file exceeded popularity cutoff and were added to the gazetteer\n",
      "Loading synonyms from entity mapping\n",
      "Added 16/16 synonyms from file into gazetteer\n",
      "Building gazetteer 'dob'\n",
      "Loading entity data from 'hr_assistant/entities/dob/gazetteer.txt'\n",
      "12/12 entities in entity data file exceeded popularity cutoff and were added to the gazetteer\n",
      "Loading synonyms from entity mapping\n",
      "Added 11/11 synonyms from file into gazetteer\n",
      "Building gazetteer 'time_interval'\n",
      "Loading entity data from 'hr_assistant/entities/time_interval/gazetteer.txt'\n",
      "49/49 entities in entity data file exceeded popularity cutoff and were added to the gazetteer\n",
      "Loading synonyms from entity mapping\n",
      "Added 39/39 synonyms from file into gazetteer\n",
      "Building gazetteer 'performance_score'\n",
      "Loading entity data from 'hr_assistant/entities/performance_score/gazetteer.txt'\n",
      "37/37 entities in entity data file exceeded popularity cutoff and were added to the gazetteer\n",
      "Loading synonyms from entity mapping\n",
      "Added 19/19 synonyms from file into gazetteer\n",
      "Building gazetteer 'name'\n",
      "Loading entity data from 'hr_assistant/entities/name/gazetteer.txt'\n",
      "8061/8061 entities in entity data file exceeded popularity cutoff and were added to the gazetteer\n",
      "Loading synonyms from entity mapping\n",
      "Added 7815/7815 synonyms from file into gazetteer\n"
     ]
    },
    {
     "name": "stdout",
     "output_type": "stream",
     "text": [
      "Building gazetteer 'employment_action'\n",
      "Loading entity data from 'hr_assistant/entities/employment_action/gazetteer.txt'\n",
      "43/43 entities in entity data file exceeded popularity cutoff and were added to the gazetteer\n",
      "Loading synonyms from entity mapping\n",
      "Added 41/41 synonyms from file into gazetteer\n",
      "Building gazetteer 'employee_source'\n",
      "Loading entity data from 'hr_assistant/entities/employee_source/gazetteer.txt'\n",
      "62/62 entities in entity data file exceeded popularity cutoff and were added to the gazetteer\n",
      "Loading synonyms from entity mapping\n",
      "Added 33/33 synonyms from file into gazetteer\n",
      "Fitting intent classifier: domain='salary'\n",
      "Selecting hyperparameters using k-fold cross-validation with 5 splits\n",
      "Best accuracy: 96.77%, params: {'C': 1, 'class_weight': {0: 0.9542138364779874, 1: 1.0105191256830601, 2: 1.0408831908831908}, 'fit_intercept': True}\n",
      "Fitting entity recognizer: domain='salary', intent='get_salary_aggregate'\n",
      "No entity model configuration set. Using default.\n",
      "Selecting hyperparameters using k-fold cross-validation with 5 splits\n",
      "Best accuracy: 95.35%, params: {'C': 100, 'penalty': 'l2'}\n",
      "No entity_resolution model configuration set. Using default.\n",
      "No entity_resolution model configuration set. Using default.\n",
      "No entity_resolution model configuration set. Using default.\n",
      "No entity_resolution model configuration set. Using default.\n",
      "No entity_resolution model configuration set. Using default.\n",
      "No entity_resolution model configuration set. Using default.\n",
      "No entity_resolution model configuration set. Using default.\n",
      "No entity_resolution model configuration set. Using default.\n",
      "No entity_resolution model configuration set. Using default.\n",
      "No entity_resolution model configuration set. Using default.\n",
      "No entity_resolution model configuration set. Using default.\n",
      "No entity_resolution model configuration set. Using default.\n",
      "No entity_resolution model configuration set. Using default.\n",
      "No entity_resolution model configuration set. Using default.\n",
      "No entity_resolution model configuration set. Using default.\n",
      "No entity_resolution model configuration set. Using default.\n",
      "No entity_resolution model configuration set. Using default.\n",
      "No entity_resolution model configuration set. Using default.\n",
      "No entity_resolution model configuration set. Using default.\n",
      "No entity_resolution model configuration set. Using default.\n",
      "No entity_resolution model configuration set. Using default.\n",
      "Fitting role classifier: domain='salary', intent='get_salary_aggregate', entity_type='comparator'\n",
      "No role model configuration set. Using default.\n",
      "Importing synonym data to synonym index 'synonym_comparator'\n",
      "Elasticsearch index 'synonym_comparator' for application 'hr_assistant' already exists!\n",
      "Loading index 'synonym_comparator'\n"
     ]
    },
    {
     "name": "stderr",
     "output_type": "stream",
     "text": [
      "100%|██████████| 4/4 [00:00<00:00, 159.89it/s]"
     ]
    },
    {
     "name": "stdout",
     "output_type": "stream",
     "text": [
      "Loaded 4 documents\n",
      "Fitting role classifier: domain='salary', intent='get_salary_aggregate', entity_type='position'\n",
      "No role model configuration set. Using default.\n",
      "Importing synonym data to synonym index 'synonym_position'\n",
      "Elasticsearch index 'synonym_position' for application 'hr_assistant' already exists!\n",
      "Loading index 'synonym_position'\n"
     ]
    },
    {
     "name": "stderr",
     "output_type": "stream",
     "text": [
      "\n",
      "100%|██████████| 24/24 [00:00<00:00, 552.41it/s]"
     ]
    },
    {
     "name": "stdout",
     "output_type": "stream",
     "text": [
      "Loaded 24 documents\n",
      "Fitting role classifier: domain='salary', intent='get_salary_aggregate', entity_type='sys_amount-of-money'\n",
      "No role model configuration set. Using default.\n",
      "Fitting role classifier: domain='salary', intent='get_salary_aggregate', entity_type='sys_time'\n",
      "No role model configuration set. Using default.\n",
      "Fitting role classifier: domain='salary', intent='get_salary_aggregate', entity_type='dob'\n",
      "No role model configuration set. Using default.\n",
      "Importing synonym data to synonym index 'synonym_dob'\n",
      "Elasticsearch index 'synonym_dob' for application 'hr_assistant' already exists!\n",
      "Loading index 'synonym_dob'\n"
     ]
    },
    {
     "name": "stderr",
     "output_type": "stream",
     "text": [
      "\n",
      "100%|██████████| 1/1 [00:00<00:00, 48.69it/s]"
     ]
    },
    {
     "name": "stdout",
     "output_type": "stream",
     "text": [
      "Loaded 1 document\n",
      "Fitting role classifier: domain='salary', intent='get_salary_aggregate', entity_type='date_compare'\n",
      "No role model configuration set. Using default.\n",
      "Importing synonym data to synonym index 'synonym_date_compare'\n",
      "Elasticsearch index 'synonym_date_compare' for application 'hr_assistant' already exists!\n",
      "Loading index 'synonym_date_compare'\n"
     ]
    },
    {
     "name": "stderr",
     "output_type": "stream",
     "text": [
      "\n",
      "100%|██████████| 2/2 [00:00<00:00, 57.49it/s]"
     ]
    },
    {
     "name": "stdout",
     "output_type": "stream",
     "text": [
      "Loaded 2 documents\n",
      "Fitting role classifier: domain='salary', intent='get_salary_aggregate', entity_type='sys_number'\n",
      "No role model configuration set. Using default.\n"
     ]
    },
    {
     "name": "stderr",
     "output_type": "stream",
     "text": [
      "\n"
     ]
    },
    {
     "name": "stdout",
     "output_type": "stream",
     "text": [
      "Fitting role classifier: domain='salary', intent='get_salary_aggregate', entity_type='employee_source'\n",
      "No role model configuration set. Using default.\n",
      "Importing synonym data to synonym index 'synonym_employee_source'\n",
      "Elasticsearch index 'synonym_employee_source' for application 'hr_assistant' already exists!\n",
      "Loading index 'synonym_employee_source'\n"
     ]
    },
    {
     "name": "stderr",
     "output_type": "stream",
     "text": [
      "100%|██████████| 20/20 [00:00<00:00, 443.40it/s]"
     ]
    },
    {
     "name": "stdout",
     "output_type": "stream",
     "text": [
      "Loaded 20 documents\n",
      "Fitting role classifier: domain='salary', intent='get_salary_aggregate', entity_type='manager'\n",
      "No role model configuration set. Using default.\n",
      "Importing synonym data to synonym index 'synonym_manager'\n",
      "Elasticsearch index 'synonym_manager' for application 'hr_assistant' already exists!\n",
      "Loading index 'synonym_manager'\n"
     ]
    },
    {
     "name": "stderr",
     "output_type": "stream",
     "text": [
      "\n",
      "100%|██████████| 1/1 [00:00<00:00, 44.67it/s]"
     ]
    },
    {
     "name": "stdout",
     "output_type": "stream",
     "text": [
      "Loaded 1 document\n",
      "Fitting role classifier: domain='salary', intent='get_salary_aggregate', entity_type='name'\n",
      "No role model configuration set. Using default.\n",
      "Importing synonym data to synonym index 'synonym_name'\n",
      "Elasticsearch index 'synonym_name' for application 'hr_assistant' already exists!\n",
      "Loading index 'synonym_name'\n"
     ]
    },
    {
     "name": "stderr",
     "output_type": "stream",
     "text": [
      "\n",
      "100%|██████████| 246/246 [00:00<00:00, 537.52it/s]"
     ]
    },
    {
     "name": "stdout",
     "output_type": "stream",
     "text": [
      "Loaded 246 documents\n",
      "Fitting role classifier: domain='salary', intent='get_salary_aggregate', entity_type='state'\n",
      "No role model configuration set. Using default.\n",
      "Importing synonym data to synonym index 'synonym_state'\n",
      "Elasticsearch index 'synonym_state' for application 'hr_assistant' already exists!\n",
      "Loading index 'synonym_state'\n"
     ]
    },
    {
     "name": "stderr",
     "output_type": "stream",
     "text": [
      "\n",
      "100%|██████████| 28/28 [00:00<00:00, 693.83it/s]"
     ]
    },
    {
     "name": "stdout",
     "output_type": "stream",
     "text": [
      "Loaded 28 documents\n",
      "Fitting role classifier: domain='salary', intent='get_salary_aggregate', entity_type='time_interval'\n",
      "No role model configuration set. Using default.\n",
      "Importing synonym data to synonym index 'synonym_time_interval'\n",
      "Elasticsearch index 'synonym_time_interval' for application 'hr_assistant' already exists!\n",
      "Loading index 'synonym_time_interval'\n"
     ]
    },
    {
     "name": "stderr",
     "output_type": "stream",
     "text": [
      "\n",
      "100%|██████████| 10/10 [00:00<00:00, 237.10it/s]"
     ]
    },
    {
     "name": "stdout",
     "output_type": "stream",
     "text": [
      "Loaded 10 documents\n",
      "Fitting role classifier: domain='salary', intent='get_salary_aggregate', entity_type='sex'\n",
      "No role model configuration set. Using default.\n",
      "Importing synonym data to synonym index 'synonym_sex'\n",
      "Elasticsearch index 'synonym_sex' for application 'hr_assistant' already exists!\n",
      "Loading index 'synonym_sex'\n"
     ]
    },
    {
     "name": "stderr",
     "output_type": "stream",
     "text": [
      "\n",
      "100%|██████████| 2/2 [00:00<00:00, 77.69it/s]"
     ]
    },
    {
     "name": "stdout",
     "output_type": "stream",
     "text": [
      "Loaded 2 documents\n",
      "Fitting role classifier: domain='salary', intent='get_salary_aggregate', entity_type='money'\n",
      "No role model configuration set. Using default.\n",
      "Importing synonym data to synonym index 'synonym_money'\n",
      "Elasticsearch index 'synonym_money' for application 'hr_assistant' already exists!\n",
      "Loading index 'synonym_money'\n"
     ]
    },
    {
     "name": "stderr",
     "output_type": "stream",
     "text": [
      "\n",
      "100%|██████████| 1/1 [00:00<00:00, 48.47it/s]"
     ]
    },
    {
     "name": "stdout",
     "output_type": "stream",
     "text": [
      "Loaded 1 document\n",
      "Fitting role classifier: domain='salary', intent='get_salary_aggregate', entity_type='department'\n",
      "No role model configuration set. Using default.\n",
      "Importing synonym data to synonym index 'synonym_department'\n",
      "Elasticsearch index 'synonym_department' for application 'hr_assistant' already exists!\n",
      "Loading index 'synonym_department'\n"
     ]
    },
    {
     "name": "stderr",
     "output_type": "stream",
     "text": [
      "\n",
      "100%|██████████| 6/6 [00:00<00:00, 160.55it/s]"
     ]
    },
    {
     "name": "stdout",
     "output_type": "stream",
     "text": [
      "Loaded 6 documents\n",
      "Fitting role classifier: domain='salary', intent='get_salary_aggregate', entity_type='function'\n",
      "No role model configuration set. Using default.\n"
     ]
    },
    {
     "name": "stderr",
     "output_type": "stream",
     "text": [
      "\n"
     ]
    },
    {
     "name": "stdout",
     "output_type": "stream",
     "text": [
      "Importing synonym data to synonym index 'synonym_function'\n",
      "Elasticsearch index 'synonym_function' for application 'hr_assistant' already exists!\n",
      "Loading index 'synonym_function'\n"
     ]
    },
    {
     "name": "stderr",
     "output_type": "stream",
     "text": [
      "100%|██████████| 4/4 [00:00<00:00, 130.37it/s]"
     ]
    },
    {
     "name": "stdout",
     "output_type": "stream",
     "text": [
      "Loaded 4 documents\n",
      "Fitting role classifier: domain='salary', intent='get_salary_aggregate', entity_type='time_recur'\n",
      "No role model configuration set. Using default.\n",
      "Importing synonym data to synonym index 'synonym_time_recur'\n",
      "Elasticsearch index 'synonym_time_recur' for application 'hr_assistant' already exists!\n",
      "Loading index 'synonym_time_recur'\n"
     ]
    },
    {
     "name": "stderr",
     "output_type": "stream",
     "text": [
      "\n",
      "100%|██████████| 5/5 [00:00<00:00, 123.51it/s]"
     ]
    },
    {
     "name": "stdout",
     "output_type": "stream",
     "text": [
      "Loaded 5 documents\n",
      "Fitting role classifier: domain='salary', intent='get_salary_aggregate', entity_type='extreme'\n",
      "No role model configuration set. Using default.\n"
     ]
    },
    {
     "name": "stderr",
     "output_type": "stream",
     "text": [
      "\n"
     ]
    },
    {
     "name": "stdout",
     "output_type": "stream",
     "text": [
      "Importing synonym data to synonym index 'synonym_extreme'\n",
      "Elasticsearch index 'synonym_extreme' for application 'hr_assistant' already exists!\n",
      "Loading index 'synonym_extreme'\n"
     ]
    },
    {
     "name": "stderr",
     "output_type": "stream",
     "text": [
      "100%|██████████| 2/2 [00:00<00:00, 65.32it/s]"
     ]
    },
    {
     "name": "stdout",
     "output_type": "stream",
     "text": [
      "Loaded 2 documents\n",
      "Fitting role classifier: domain='salary', intent='get_salary_aggregate', entity_type='citizendesc'\n",
      "No role model configuration set. Using default.\n",
      "Importing synonym data to synonym index 'synonym_citizendesc'\n",
      "Elasticsearch index 'synonym_citizendesc' for application 'hr_assistant' already exists!\n",
      "Loading index 'synonym_citizendesc'\n"
     ]
    },
    {
     "name": "stderr",
     "output_type": "stream",
     "text": [
      "\n",
      "100%|██████████| 2/2 [00:00<00:00, 95.47it/s]"
     ]
    },
    {
     "name": "stdout",
     "output_type": "stream",
     "text": [
      "Loaded 2 documents\n",
      "Fitting role classifier: domain='salary', intent='get_salary_aggregate', entity_type='sys_duration'\n",
      "No role model configuration set. Using default.\n"
     ]
    },
    {
     "name": "stderr",
     "output_type": "stream",
     "text": [
      "\n"
     ]
    },
    {
     "name": "stdout",
     "output_type": "stream",
     "text": [
      "Fitting role classifier: domain='salary', intent='get_salary_aggregate', entity_type='employment_action'\n",
      "No role model configuration set. Using default.\n",
      "Importing synonym data to synonym index 'synonym_employment_action'\n",
      "Elasticsearch index 'synonym_employment_action' for application 'hr_assistant' already exists!\n",
      "Loading index 'synonym_employment_action'\n"
     ]
    },
    {
     "name": "stderr",
     "output_type": "stream",
     "text": [
      "100%|██████████| 2/2 [00:00<00:00, 48.25it/s]"
     ]
    },
    {
     "name": "stdout",
     "output_type": "stream",
     "text": [
      "Loaded 2 documents\n",
      "Fitting entity recognizer: domain='salary', intent='get_salary_employees'\n",
      "No entity model configuration set. Using default.\n"
     ]
    },
    {
     "name": "stderr",
     "output_type": "stream",
     "text": [
      "\n"
     ]
    },
    {
     "name": "stdout",
     "output_type": "stream",
     "text": [
      "Selecting hyperparameters using k-fold cross-validation with 5 splits\n",
      "Best accuracy: 95.56%, params: {'C': 100, 'penalty': 'l1'}\n",
      "No entity_resolution model configuration set. Using default.\n",
      "No entity_resolution model configuration set. Using default.\n",
      "No entity_resolution model configuration set. Using default.\n",
      "No entity_resolution model configuration set. Using default.\n",
      "No entity_resolution model configuration set. Using default.\n",
      "No entity_resolution model configuration set. Using default.\n",
      "No entity_resolution model configuration set. Using default.\n",
      "No entity_resolution model configuration set. Using default.\n",
      "No entity_resolution model configuration set. Using default.\n",
      "No entity_resolution model configuration set. Using default.\n",
      "No entity_resolution model configuration set. Using default.\n",
      "No entity_resolution model configuration set. Using default.\n",
      "No entity_resolution model configuration set. Using default.\n",
      "No entity_resolution model configuration set. Using default.\n",
      "No entity_resolution model configuration set. Using default.\n",
      "No entity_resolution model configuration set. Using default.\n",
      "No entity_resolution model configuration set. Using default.\n",
      "No entity_resolution model configuration set. Using default.\n",
      "No entity_resolution model configuration set. Using default.\n",
      "No entity_resolution model configuration set. Using default.\n",
      "Fitting role classifier: domain='salary', intent='get_salary_employees', entity_type='manager'\n",
      "No role model configuration set. Using default.\n",
      "Importing synonym data to synonym index 'synonym_manager'\n",
      "Elasticsearch index 'synonym_manager' for application 'hr_assistant' already exists!\n",
      "Loading index 'synonym_manager'\n"
     ]
    },
    {
     "name": "stderr",
     "output_type": "stream",
     "text": [
      "100%|██████████| 1/1 [00:00<00:00, 49.89it/s]"
     ]
    },
    {
     "name": "stdout",
     "output_type": "stream",
     "text": [
      "Loaded 1 document\n",
      "Fitting role classifier: domain='salary', intent='get_salary_employees', entity_type='citizendesc'\n",
      "No role model configuration set. Using default.\n",
      "Importing synonym data to synonym index 'synonym_citizendesc'\n",
      "Elasticsearch index 'synonym_citizendesc' for application 'hr_assistant' already exists!\n",
      "Loading index 'synonym_citizendesc'\n"
     ]
    },
    {
     "name": "stderr",
     "output_type": "stream",
     "text": [
      "\n",
      "100%|██████████| 2/2 [00:00<00:00, 130.87it/s]"
     ]
    },
    {
     "name": "stdout",
     "output_type": "stream",
     "text": [
      "Loaded 2 documents\n",
      "Fitting role classifier: domain='salary', intent='get_salary_employees', entity_type='name'\n",
      "No role model configuration set. Using default.\n",
      "Importing synonym data to synonym index 'synonym_name'\n",
      "Elasticsearch index 'synonym_name' for application 'hr_assistant' already exists!\n",
      "Loading index 'synonym_name'\n"
     ]
    },
    {
     "name": "stderr",
     "output_type": "stream",
     "text": [
      "\n",
      "100%|██████████| 246/246 [00:00<00:00, 634.57it/s]"
     ]
    },
    {
     "name": "stdout",
     "output_type": "stream",
     "text": [
      "Loaded 246 documents\n",
      "Fitting role classifier: domain='salary', intent='get_salary_employees', entity_type='comparator'\n",
      "No role model configuration set. Using default.\n",
      "Importing synonym data to synonym index 'synonym_comparator'\n",
      "Elasticsearch index 'synonym_comparator' for application 'hr_assistant' already exists!\n",
      "Loading index 'synonym_comparator'\n"
     ]
    },
    {
     "name": "stderr",
     "output_type": "stream",
     "text": [
      "\n",
      "100%|██████████| 4/4 [00:00<00:00, 201.70it/s]"
     ]
    },
    {
     "name": "stdout",
     "output_type": "stream",
     "text": [
      "Loaded 4 documents\n",
      "Fitting role classifier: domain='salary', intent='get_salary_employees', entity_type='position'\n",
      "No role model configuration set. Using default.\n",
      "Importing synonym data to synonym index 'synonym_position'\n",
      "Elasticsearch index 'synonym_position' for application 'hr_assistant' already exists!\n",
      "Loading index 'synonym_position'\n"
     ]
    },
    {
     "name": "stderr",
     "output_type": "stream",
     "text": [
      "\n",
      "100%|██████████| 24/24 [00:00<00:00, 654.47it/s]"
     ]
    },
    {
     "name": "stdout",
     "output_type": "stream",
     "text": [
      "Loaded 24 documents\n",
      "Fitting role classifier: domain='salary', intent='get_salary_employees', entity_type='sex'\n",
      "No role model configuration set. Using default.\n",
      "Importing synonym data to synonym index 'synonym_sex'\n",
      "Elasticsearch index 'synonym_sex' for application 'hr_assistant' already exists!\n",
      "Loading index 'synonym_sex'\n"
     ]
    },
    {
     "name": "stderr",
     "output_type": "stream",
     "text": [
      "\n",
      "100%|██████████| 2/2 [00:00<00:00, 65.82it/s]"
     ]
    },
    {
     "name": "stdout",
     "output_type": "stream",
     "text": [
      "Loaded 2 documents\n",
      "Fitting role classifier: domain='salary', intent='get_salary_employees', entity_type='sys_amount-of-money'\n",
      "No role model configuration set. Using default.\n",
      "Fitting role classifier: domain='salary', intent='get_salary_employees', entity_type='employee_source'\n",
      "No role model configuration set. Using default.\n",
      "Importing synonym data to synonym index 'synonym_employee_source'\n",
      "Elasticsearch index 'synonym_employee_source' for application 'hr_assistant' already exists!\n",
      "Loading index 'synonym_employee_source'\n"
     ]
    },
    {
     "name": "stderr",
     "output_type": "stream",
     "text": [
      "\n",
      "100%|██████████| 20/20 [00:00<00:00, 427.87it/s]"
     ]
    },
    {
     "name": "stdout",
     "output_type": "stream",
     "text": [
      "Loaded 20 documents\n"
     ]
    },
    {
     "name": "stderr",
     "output_type": "stream",
     "text": [
      "\n"
     ]
    },
    {
     "name": "stdout",
     "output_type": "stream",
     "text": [
      "Fitting role classifier: domain='salary', intent='get_salary_employees', entity_type='function'\n",
      "No role model configuration set. Using default.\n",
      "Importing synonym data to synonym index 'synonym_function'\n",
      "Elasticsearch index 'synonym_function' for application 'hr_assistant' already exists!\n",
      "Loading index 'synonym_function'\n"
     ]
    },
    {
     "name": "stderr",
     "output_type": "stream",
     "text": [
      "100%|██████████| 4/4 [00:00<00:00, 104.01it/s]"
     ]
    },
    {
     "name": "stdout",
     "output_type": "stream",
     "text": [
      "Loaded 4 documents\n",
      "Fitting role classifier: domain='salary', intent='get_salary_employees', entity_type='sys_time'\n",
      "No role model configuration set. Using default.\n",
      "Fitting role classifier: domain='salary', intent='get_salary_employees', entity_type='employment_action'\n",
      "No role model configuration set. Using default.\n",
      "Importing synonym data to synonym index 'synonym_employment_action'\n",
      "Elasticsearch index 'synonym_employment_action' for application 'hr_assistant' already exists!\n",
      "Loading index 'synonym_employment_action'\n"
     ]
    },
    {
     "name": "stderr",
     "output_type": "stream",
     "text": [
      "\n",
      "100%|██████████| 2/2 [00:00<00:00, 60.40it/s]"
     ]
    },
    {
     "name": "stdout",
     "output_type": "stream",
     "text": [
      "Loaded 2 documents\n",
      "Fitting role classifier: domain='salary', intent='get_salary_employees', entity_type='time_recur'\n",
      "No role model configuration set. Using default.\n",
      "Importing synonym data to synonym index 'synonym_time_recur'\n",
      "Elasticsearch index 'synonym_time_recur' for application 'hr_assistant' already exists!\n",
      "Loading index 'synonym_time_recur'\n"
     ]
    },
    {
     "name": "stderr",
     "output_type": "stream",
     "text": [
      "\n",
      "100%|██████████| 5/5 [00:00<00:00, 99.97it/s]"
     ]
    },
    {
     "name": "stdout",
     "output_type": "stream",
     "text": [
      "Loaded 5 documents\n",
      "Fitting role classifier: domain='salary', intent='get_salary_employees', entity_type='date_compare'\n",
      "No role model configuration set. Using default.\n",
      "Importing synonym data to synonym index 'synonym_date_compare'\n",
      "Elasticsearch index 'synonym_date_compare' for application 'hr_assistant' already exists!\n",
      "Loading index 'synonym_date_compare'\n"
     ]
    },
    {
     "name": "stderr",
     "output_type": "stream",
     "text": [
      "\n",
      "100%|██████████| 2/2 [00:00<00:00, 55.14it/s]"
     ]
    },
    {
     "name": "stdout",
     "output_type": "stream",
     "text": [
      "Loaded 2 documents\n",
      "Fitting role classifier: domain='salary', intent='get_salary_employees', entity_type='extreme'\n",
      "No role model configuration set. Using default.\n",
      "Importing synonym data to synonym index 'synonym_extreme'\n",
      "Elasticsearch index 'synonym_extreme' for application 'hr_assistant' already exists!\n",
      "Loading index 'synonym_extreme'\n"
     ]
    },
    {
     "name": "stderr",
     "output_type": "stream",
     "text": [
      "\n",
      "100%|██████████| 2/2 [00:00<00:00, 68.12it/s]"
     ]
    },
    {
     "name": "stdout",
     "output_type": "stream",
     "text": [
      "Loaded 2 documents\n",
      "Fitting role classifier: domain='salary', intent='get_salary_employees', entity_type='racedesc'\n",
      "No role model configuration set. Using default.\n",
      "Importing synonym data to synonym index 'synonym_racedesc'\n",
      "Elasticsearch index 'synonym_racedesc' for application 'hr_assistant' already exists!\n",
      "Loading index 'synonym_racedesc'\n"
     ]
    },
    {
     "name": "stderr",
     "output_type": "stream",
     "text": [
      "\n",
      "100%|██████████| 6/6 [00:00<00:00, 119.99it/s]"
     ]
    },
    {
     "name": "stdout",
     "output_type": "stream",
     "text": [
      "Loaded 6 documents\n",
      "Fitting role classifier: domain='salary', intent='get_salary_employees', entity_type='employment_status'\n",
      "No role model configuration set. Using default.\n",
      "Importing synonym data to synonym index 'synonym_employment_status'\n",
      "Elasticsearch index 'synonym_employment_status' for application 'hr_assistant' already exists!\n",
      "Loading index 'synonym_employment_status'\n"
     ]
    },
    {
     "name": "stderr",
     "output_type": "stream",
     "text": [
      "\n",
      "100%|██████████| 5/5 [00:00<00:00, 132.30it/s]"
     ]
    },
    {
     "name": "stdout",
     "output_type": "stream",
     "text": [
      "Loaded 5 documents\n",
      "Fitting role classifier: domain='salary', intent='get_salary_employees', entity_type='money'\n",
      "No role model configuration set. Using default.\n",
      "Importing synonym data to synonym index 'synonym_money'\n",
      "Elasticsearch index 'synonym_money' for application 'hr_assistant' already exists!\n",
      "Loading index 'synonym_money'\n"
     ]
    },
    {
     "name": "stderr",
     "output_type": "stream",
     "text": [
      "\n",
      "100%|██████████| 1/1 [00:00<00:00, 49.89it/s]"
     ]
    },
    {
     "name": "stdout",
     "output_type": "stream",
     "text": [
      "Loaded 1 document\n",
      "Fitting role classifier: domain='salary', intent='get_salary_employees', entity_type='department'\n",
      "No role model configuration set. Using default.\n",
      "Importing synonym data to synonym index 'synonym_department'\n",
      "Elasticsearch index 'synonym_department' for application 'hr_assistant' already exists!\n",
      "Loading index 'synonym_department'\n"
     ]
    },
    {
     "name": "stderr",
     "output_type": "stream",
     "text": [
      "\n",
      "100%|██████████| 6/6 [00:00<00:00, 133.82it/s]"
     ]
    },
    {
     "name": "stdout",
     "output_type": "stream",
     "text": [
      "Loaded 6 documents\n",
      "Fitting role classifier: domain='salary', intent='get_salary_employees', entity_type='sys_duration'\n",
      "No role model configuration set. Using default.\n",
      "Fitting role classifier: domain='salary', intent='get_salary_employees', entity_type='sys_number'\n",
      "No role model configuration set. Using default.\n",
      "Fitting entity recognizer: domain='salary', intent='get_salary'\n",
      "No entity model configuration set. Using default.\n"
     ]
    },
    {
     "name": "stderr",
     "output_type": "stream",
     "text": [
      "\n"
     ]
    },
    {
     "name": "stdout",
     "output_type": "stream",
     "text": [
      "Selecting hyperparameters using k-fold cross-validation with 5 splits\n",
      "Best accuracy: 97.35%, params: {'C': 10000, 'penalty': 'l1'}\n",
      "No entity_resolution model configuration set. Using default.\n",
      "No entity_resolution model configuration set. Using default.\n",
      "No entity_resolution model configuration set. Using default.\n",
      "No entity_resolution model configuration set. Using default.\n",
      "No entity_resolution model configuration set. Using default.\n",
      "No entity_resolution model configuration set. Using default.\n",
      "No entity_resolution model configuration set. Using default.\n",
      "No entity_resolution model configuration set. Using default.\n",
      "No entity_resolution model configuration set. Using default.\n",
      "No entity_resolution model configuration set. Using default.\n",
      "Fitting role classifier: domain='salary', intent='get_salary', entity_type='comparator'\n",
      "No role model configuration set. Using default.\n",
      "Importing synonym data to synonym index 'synonym_comparator'\n",
      "Elasticsearch index 'synonym_comparator' for application 'hr_assistant' already exists!\n",
      "Loading index 'synonym_comparator'\n"
     ]
    },
    {
     "name": "stderr",
     "output_type": "stream",
     "text": [
      "100%|██████████| 4/4 [00:00<00:00, 165.82it/s]"
     ]
    },
    {
     "name": "stdout",
     "output_type": "stream",
     "text": [
      "Loaded 4 documents\n",
      "Fitting role classifier: domain='salary', intent='get_salary', entity_type='sys_amount-of-money'\n",
      "No role model configuration set. Using default.\n",
      "Fitting role classifier: domain='salary', intent='get_salary', entity_type='sys_time'\n",
      "No role model configuration set. Using default.\n",
      "Fitting role classifier: domain='salary', intent='get_salary', entity_type='time_recur'\n",
      "No role model configuration set. Using default.\n",
      "Importing synonym data to synonym index 'synonym_time_recur'\n",
      "Elasticsearch index 'synonym_time_recur' for application 'hr_assistant' already exists!\n",
      "Loading index 'synonym_time_recur'\n"
     ]
    },
    {
     "name": "stderr",
     "output_type": "stream",
     "text": [
      "\n",
      "100%|██████████| 5/5 [00:00<00:00, 115.88it/s]"
     ]
    },
    {
     "name": "stdout",
     "output_type": "stream",
     "text": [
      "Loaded 5 documents\n",
      "Fitting role classifier: domain='salary', intent='get_salary', entity_type='employment_action'\n",
      "No role model configuration set. Using default.\n",
      "Importing synonym data to synonym index 'synonym_employment_action'\n",
      "Elasticsearch index 'synonym_employment_action' for application 'hr_assistant' already exists!\n",
      "Loading index 'synonym_employment_action'\n"
     ]
    },
    {
     "name": "stderr",
     "output_type": "stream",
     "text": [
      "\n",
      "100%|██████████| 2/2 [00:00<00:00, 71.46it/s]"
     ]
    },
    {
     "name": "stdout",
     "output_type": "stream",
     "text": [
      "Loaded 2 documents\n",
      "Fitting role classifier: domain='salary', intent='get_salary', entity_type='extreme'\n",
      "No role model configuration set. Using default.\n",
      "Importing synonym data to synonym index 'synonym_extreme'\n",
      "Elasticsearch index 'synonym_extreme' for application 'hr_assistant' already exists!\n",
      "Loading index 'synonym_extreme'\n"
     ]
    },
    {
     "name": "stderr",
     "output_type": "stream",
     "text": [
      "\n",
      "100%|██████████| 2/2 [00:00<00:00, 68.17it/s]"
     ]
    },
    {
     "name": "stdout",
     "output_type": "stream",
     "text": [
      "Loaded 2 documents\n",
      "Fitting role classifier: domain='salary', intent='get_salary', entity_type='money'\n",
      "No role model configuration set. Using default.\n",
      "Importing synonym data to synonym index 'synonym_money'\n",
      "Elasticsearch index 'synonym_money' for application 'hr_assistant' already exists!\n"
     ]
    },
    {
     "name": "stderr",
     "output_type": "stream",
     "text": [
      "\n"
     ]
    },
    {
     "name": "stdout",
     "output_type": "stream",
     "text": [
      "Loading index 'synonym_money'\n"
     ]
    },
    {
     "name": "stderr",
     "output_type": "stream",
     "text": [
      "100%|██████████| 1/1 [00:00<00:00, 51.50it/s]"
     ]
    },
    {
     "name": "stdout",
     "output_type": "stream",
     "text": [
      "Loaded 1 document\n",
      "Fitting role classifier: domain='salary', intent='get_salary', entity_type='name'\n"
     ]
    },
    {
     "name": "stderr",
     "output_type": "stream",
     "text": [
      "\n"
     ]
    },
    {
     "name": "stdout",
     "output_type": "stream",
     "text": [
      "No role model configuration set. Using default.\n",
      "Importing synonym data to synonym index 'synonym_name'\n",
      "Elasticsearch index 'synonym_name' for application 'hr_assistant' already exists!\n",
      "Loading index 'synonym_name'\n"
     ]
    },
    {
     "name": "stderr",
     "output_type": "stream",
     "text": [
      "100%|██████████| 246/246 [00:00<00:00, 632.25it/s]"
     ]
    },
    {
     "name": "stdout",
     "output_type": "stream",
     "text": [
      "Loaded 246 documents\n",
      "Fitting role classifier: domain='salary', intent='get_salary', entity_type='sys_duration'\n",
      "No role model configuration set. Using default.\n",
      "Fitting role classifier: domain='salary', intent='get_salary', entity_type='sys_number'\n",
      "No role model configuration set. Using default.\n",
      "Fitting entity recognizer: domain='unsupported', intent='unsupported'\n",
      "No entity model configuration set. Using default.\n",
      "There are no labels in this label set, so we don't fit the model.\n",
      "Fitting intent classifier: domain='date'\n"
     ]
    },
    {
     "name": "stderr",
     "output_type": "stream",
     "text": [
      "\n"
     ]
    },
    {
     "name": "stdout",
     "output_type": "stream",
     "text": [
      "Selecting hyperparameters using k-fold cross-validation with 5 splits\n",
      "Best accuracy: 98.62%, params: {'C': 10, 'class_weight': {0: 0.967816091954023, 1: 1.3509043927648579, 2: 0.8444444444444444}, 'fit_intercept': True}\n",
      "Fitting entity recognizer: domain='date', intent='get_date_range_employees'\n",
      "No entity model configuration set. Using default.\n",
      "Selecting hyperparameters using k-fold cross-validation with 5 splits\n",
      "Best accuracy: 96.63%, params: {'C': 100, 'penalty': 'l1'}\n",
      "No entity_resolution model configuration set. Using default.\n",
      "No entity_resolution model configuration set. Using default.\n",
      "No entity_resolution model configuration set. Using default.\n",
      "No entity_resolution model configuration set. Using default.\n",
      "No entity_resolution model configuration set. Using default.\n",
      "No entity_resolution model configuration set. Using default.\n",
      "No entity_resolution model configuration set. Using default.\n",
      "No entity_resolution model configuration set. Using default.\n",
      "No entity_resolution model configuration set. Using default.\n",
      "No entity_resolution model configuration set. Using default.\n",
      "No entity_resolution model configuration set. Using default.\n",
      "No entity_resolution model configuration set. Using default.\n",
      "No entity_resolution model configuration set. Using default.\n",
      "No entity_resolution model configuration set. Using default.\n",
      "No entity_resolution model configuration set. Using default.\n",
      "No entity_resolution model configuration set. Using default.\n",
      "No entity_resolution model configuration set. Using default.\n",
      "Fitting role classifier: domain='date', intent='get_date_range_employees', entity_type='sys_number'\n",
      "No role model configuration set. Using default.\n",
      "Fitting role classifier: domain='date', intent='get_date_range_employees', entity_type='citizendesc'\n",
      "No role model configuration set. Using default.\n",
      "Importing synonym data to synonym index 'synonym_citizendesc'\n",
      "Elasticsearch index 'synonym_citizendesc' for application 'hr_assistant' already exists!\n",
      "Loading index 'synonym_citizendesc'\n"
     ]
    },
    {
     "name": "stderr",
     "output_type": "stream",
     "text": [
      "100%|██████████| 2/2 [00:00<00:00, 116.37it/s]"
     ]
    },
    {
     "name": "stdout",
     "output_type": "stream",
     "text": [
      "Loaded 2 documents\n",
      "Fitting role classifier: domain='date', intent='get_date_range_employees', entity_type='comparator'\n",
      "No role model configuration set. Using default.\n",
      "Importing synonym data to synonym index 'synonym_comparator'\n",
      "Elasticsearch index 'synonym_comparator' for application 'hr_assistant' already exists!\n",
      "Loading index 'synonym_comparator'\n"
     ]
    },
    {
     "name": "stderr",
     "output_type": "stream",
     "text": [
      "\n",
      "100%|██████████| 4/4 [00:00<00:00, 133.19it/s]"
     ]
    },
    {
     "name": "stdout",
     "output_type": "stream",
     "text": [
      "Loaded 4 documents\n",
      "Fitting role classifier: domain='date', intent='get_date_range_employees', entity_type='time_interval'\n",
      "No role model configuration set. Using default.\n",
      "Importing synonym data to synonym index 'synonym_time_interval'\n",
      "Elasticsearch index 'synonym_time_interval' for application 'hr_assistant' already exists!\n",
      "Loading index 'synonym_time_interval'\n"
     ]
    },
    {
     "name": "stderr",
     "output_type": "stream",
     "text": [
      "\n",
      "100%|██████████| 10/10 [00:00<00:00, 263.33it/s]"
     ]
    },
    {
     "name": "stdout",
     "output_type": "stream",
     "text": [
      "Loaded 10 documents\n",
      "Fitting role classifier: domain='date', intent='get_date_range_employees', entity_type='state'\n",
      "No role model configuration set. Using default.\n",
      "Importing synonym data to synonym index 'synonym_state'\n",
      "Elasticsearch index 'synonym_state' for application 'hr_assistant' already exists!\n",
      "Loading index 'synonym_state'\n"
     ]
    },
    {
     "name": "stderr",
     "output_type": "stream",
     "text": [
      "\n",
      "100%|██████████| 28/28 [00:00<00:00, 1020.03it/s]"
     ]
    },
    {
     "name": "stdout",
     "output_type": "stream",
     "text": [
      "Loaded 28 documents\n",
      "Fitting role classifier: domain='date', intent='get_date_range_employees', entity_type='sys_interval'\n",
      "No role model configuration set. Using default.\n",
      "Fitting role classifier: domain='date', intent='get_date_range_employees', entity_type='position'\n",
      "No role model configuration set. Using default.\n",
      "Importing synonym data to synonym index 'synonym_position'\n",
      "Elasticsearch index 'synonym_position' for application 'hr_assistant' already exists!\n",
      "Loading index 'synonym_position'\n"
     ]
    },
    {
     "name": "stderr",
     "output_type": "stream",
     "text": [
      "\n",
      "100%|██████████| 24/24 [00:00<00:00, 648.61it/s]"
     ]
    },
    {
     "name": "stdout",
     "output_type": "stream",
     "text": [
      "Loaded 24 documents\n",
      "Fitting role classifier: domain='date', intent='get_date_range_employees', entity_type='sex'\n",
      "No role model configuration set. Using default.\n",
      "Importing synonym data to synonym index 'synonym_sex'\n",
      "Elasticsearch index 'synonym_sex' for application 'hr_assistant' already exists!\n",
      "Loading index 'synonym_sex'\n"
     ]
    },
    {
     "name": "stderr",
     "output_type": "stream",
     "text": [
      "\n",
      "100%|██████████| 2/2 [00:00<00:00, 100.06it/s]"
     ]
    },
    {
     "name": "stdout",
     "output_type": "stream",
     "text": [
      "Loaded 2 documents\n",
      "Fitting role classifier: domain='date', intent='get_date_range_employees', entity_type='sys_time'\n",
      "No role model configuration set. Using default.\n"
     ]
    },
    {
     "name": "stderr",
     "output_type": "stream",
     "text": [
      "\n"
     ]
    },
    {
     "name": "stdout",
     "output_type": "stream",
     "text": [
      "Fitting role classifier: domain='date', intent='get_date_range_employees', entity_type='maritaldesc'\n",
      "No role model configuration set. Using default.\n",
      "Importing synonym data to synonym index 'synonym_maritaldesc'\n",
      "Elasticsearch index 'synonym_maritaldesc' for application 'hr_assistant' already exists!\n",
      "Loading index 'synonym_maritaldesc'\n"
     ]
    },
    {
     "name": "stderr",
     "output_type": "stream",
     "text": [
      "100%|██████████| 5/5 [00:00<00:00, 200.79it/s]"
     ]
    },
    {
     "name": "stdout",
     "output_type": "stream",
     "text": [
      "Loaded 5 documents\n",
      "Fitting role classifier: domain='date', intent='get_date_range_employees', entity_type='dob'\n",
      "No role model configuration set. Using default.\n",
      "Importing synonym data to synonym index 'synonym_dob'\n",
      "Elasticsearch index 'synonym_dob' for application 'hr_assistant' already exists!\n",
      "Loading index 'synonym_dob'\n"
     ]
    },
    {
     "name": "stderr",
     "output_type": "stream",
     "text": [
      "\n",
      "100%|██████████| 1/1 [00:00<00:00, 49.85it/s]"
     ]
    },
    {
     "name": "stdout",
     "output_type": "stream",
     "text": [
      "Loaded 1 document\n",
      "Fitting role classifier: domain='date', intent='get_date_range_employees', entity_type='extreme'\n",
      "No role model configuration set. Using default.\n",
      "Importing synonym data to synonym index 'synonym_extreme'\n",
      "Elasticsearch index 'synonym_extreme' for application 'hr_assistant' already exists!\n",
      "Loading index 'synonym_extreme'\n"
     ]
    },
    {
     "name": "stderr",
     "output_type": "stream",
     "text": [
      "\n",
      "100%|██████████| 2/2 [00:00<00:00, 69.15it/s]"
     ]
    },
    {
     "name": "stdout",
     "output_type": "stream",
     "text": [
      "Loaded 2 documents\n",
      "Fitting role classifier: domain='date', intent='get_date_range_employees', entity_type='racedesc'\n",
      "No role model configuration set. Using default.\n",
      "Importing synonym data to synonym index 'synonym_racedesc'\n",
      "Elasticsearch index 'synonym_racedesc' for application 'hr_assistant' already exists!\n",
      "Loading index 'synonym_racedesc'\n"
     ]
    },
    {
     "name": "stderr",
     "output_type": "stream",
     "text": [
      "\n",
      "100%|██████████| 6/6 [00:00<00:00, 101.63it/s]"
     ]
    },
    {
     "name": "stdout",
     "output_type": "stream",
     "text": [
      "Loaded 6 documents\n",
      "Fitting role classifier: domain='date', intent='get_date_range_employees', entity_type='date_compare'\n",
      "No role model configuration set. Using default.\n",
      "Importing synonym data to synonym index 'synonym_date_compare'\n",
      "Elasticsearch index 'synonym_date_compare' for application 'hr_assistant' already exists!\n",
      "Loading index 'synonym_date_compare'\n"
     ]
    },
    {
     "name": "stderr",
     "output_type": "stream",
     "text": [
      "\n",
      "100%|██████████| 2/2 [00:00<00:00, 62.01it/s]"
     ]
    },
    {
     "name": "stdout",
     "output_type": "stream",
     "text": [
      "Loaded 2 documents\n",
      "Fitting role classifier: domain='date', intent='get_date_range_employees', entity_type='department'\n",
      "No role model configuration set. Using default.\n",
      "Importing synonym data to synonym index 'synonym_department'\n"
     ]
    },
    {
     "name": "stderr",
     "output_type": "stream",
     "text": [
      "\n"
     ]
    },
    {
     "name": "stdout",
     "output_type": "stream",
     "text": [
      "Elasticsearch index 'synonym_department' for application 'hr_assistant' already exists!\n",
      "Loading index 'synonym_department'\n"
     ]
    },
    {
     "name": "stderr",
     "output_type": "stream",
     "text": [
      "100%|██████████| 6/6 [00:00<00:00, 197.27it/s]"
     ]
    },
    {
     "name": "stdout",
     "output_type": "stream",
     "text": [
      "Loaded 6 documents\n",
      "Fitting role classifier: domain='date', intent='get_date_range_employees', entity_type='sys_duration'\n",
      "No role model configuration set. Using default.\n",
      "Fitting role classifier: domain='date', intent='get_date_range_employees', entity_type='employment_action'\n",
      "No role model configuration set. Using default.\n",
      "Importing synonym data to synonym index 'synonym_employment_action'\n",
      "Elasticsearch index 'synonym_employment_action' for application 'hr_assistant' already exists!\n"
     ]
    },
    {
     "name": "stderr",
     "output_type": "stream",
     "text": [
      "\n"
     ]
    },
    {
     "name": "stdout",
     "output_type": "stream",
     "text": [
      "Loading index 'synonym_employment_action'\n"
     ]
    },
    {
     "name": "stderr",
     "output_type": "stream",
     "text": [
      "100%|██████████| 2/2 [00:00<00:00, 63.00it/s]"
     ]
    },
    {
     "name": "stdout",
     "output_type": "stream",
     "text": [
      "Loaded 2 documents\n",
      "Fitting entity recognizer: domain='date', intent='get_date_range_aggregate'\n",
      "No entity model configuration set. Using default.\n"
     ]
    },
    {
     "name": "stderr",
     "output_type": "stream",
     "text": [
      "\n"
     ]
    },
    {
     "name": "stdout",
     "output_type": "stream",
     "text": [
      "Selecting hyperparameters using k-fold cross-validation with 5 splits\n",
      "Best accuracy: 96.04%, params: {'C': 100, 'penalty': 'l1'}\n",
      "No entity_resolution model configuration set. Using default.\n",
      "No entity_resolution model configuration set. Using default.\n",
      "No entity_resolution model configuration set. Using default.\n",
      "No entity_resolution model configuration set. Using default.\n",
      "No entity_resolution model configuration set. Using default.\n",
      "No entity_resolution model configuration set. Using default.\n",
      "No entity_resolution model configuration set. Using default.\n",
      "No entity_resolution model configuration set. Using default.\n",
      "No entity_resolution model configuration set. Using default.\n",
      "No entity_resolution model configuration set. Using default.\n",
      "No entity_resolution model configuration set. Using default.\n",
      "No entity_resolution model configuration set. Using default.\n",
      "Fitting role classifier: domain='date', intent='get_date_range_aggregate', entity_type='comparator'\n",
      "No role model configuration set. Using default.\n",
      "Importing synonym data to synonym index 'synonym_comparator'\n",
      "Elasticsearch index 'synonym_comparator' for application 'hr_assistant' already exists!\n",
      "Loading index 'synonym_comparator'\n"
     ]
    },
    {
     "name": "stderr",
     "output_type": "stream",
     "text": [
      "100%|██████████| 4/4 [00:00<00:00, 133.25it/s]"
     ]
    },
    {
     "name": "stdout",
     "output_type": "stream",
     "text": [
      "Loaded 4 documents\n",
      "Fitting role classifier: domain='date', intent='get_date_range_aggregate', entity_type='state'\n",
      "No role model configuration set. Using default.\n",
      "Importing synonym data to synonym index 'synonym_state'\n",
      "Elasticsearch index 'synonym_state' for application 'hr_assistant' already exists!\n",
      "Loading index 'synonym_state'\n"
     ]
    },
    {
     "name": "stderr",
     "output_type": "stream",
     "text": [
      "\n",
      "100%|██████████| 28/28 [00:00<00:00, 726.91it/s]"
     ]
    },
    {
     "name": "stdout",
     "output_type": "stream",
     "text": [
      "Loaded 28 documents\n",
      "Fitting role classifier: domain='date', intent='get_date_range_aggregate', entity_type='time_interval'\n",
      "No role model configuration set. Using default.\n",
      "Importing synonym data to synonym index 'synonym_time_interval'\n",
      "Elasticsearch index 'synonym_time_interval' for application 'hr_assistant' already exists!\n",
      "Loading index 'synonym_time_interval'\n"
     ]
    },
    {
     "name": "stderr",
     "output_type": "stream",
     "text": [
      "\n",
      "100%|██████████| 10/10 [00:00<00:00, 298.35it/s]"
     ]
    },
    {
     "name": "stdout",
     "output_type": "stream",
     "text": [
      "Loaded 10 documents\n",
      "Fitting role classifier: domain='date', intent='get_date_range_aggregate', entity_type='sex'\n",
      "No role model configuration set. Using default.\n",
      "Importing synonym data to synonym index 'synonym_sex'\n",
      "Elasticsearch index 'synonym_sex' for application 'hr_assistant' already exists!\n",
      "Loading index 'synonym_sex'\n"
     ]
    },
    {
     "name": "stderr",
     "output_type": "stream",
     "text": [
      "\n",
      "100%|██████████| 2/2 [00:00<00:00, 77.20it/s]"
     ]
    },
    {
     "name": "stdout",
     "output_type": "stream",
     "text": [
      "Loaded 2 documents\n",
      "Fitting role classifier: domain='date', intent='get_date_range_aggregate', entity_type='function'\n",
      "No role model configuration set. Using default.\n",
      "Importing synonym data to synonym index 'synonym_function'\n",
      "Elasticsearch index 'synonym_function' for application 'hr_assistant' already exists!\n",
      "Loading index 'synonym_function'\n"
     ]
    },
    {
     "name": "stderr",
     "output_type": "stream",
     "text": [
      "\n",
      "100%|██████████| 4/4 [00:00<00:00, 131.74it/s]"
     ]
    },
    {
     "name": "stdout",
     "output_type": "stream",
     "text": [
      "Loaded 4 documents\n",
      "Fitting role classifier: domain='date', intent='get_date_range_aggregate', entity_type='sys_time'\n",
      "No role model configuration set. Using default.\n",
      "Fitting role classifier: domain='date', intent='get_date_range_aggregate', entity_type='date_compare'\n",
      "No role model configuration set. Using default.\n"
     ]
    },
    {
     "name": "stderr",
     "output_type": "stream",
     "text": [
      "\n"
     ]
    },
    {
     "name": "stdout",
     "output_type": "stream",
     "text": [
      "Importing synonym data to synonym index 'synonym_date_compare'\n",
      "Elasticsearch index 'synonym_date_compare' for application 'hr_assistant' already exists!\n",
      "Loading index 'synonym_date_compare'\n"
     ]
    },
    {
     "name": "stderr",
     "output_type": "stream",
     "text": [
      "100%|██████████| 2/2 [00:00<00:00, 103.37it/s]"
     ]
    },
    {
     "name": "stdout",
     "output_type": "stream",
     "text": [
      "Loaded 2 documents\n",
      "Fitting role classifier: domain='date', intent='get_date_range_aggregate', entity_type='dob'\n",
      "No role model configuration set. Using default.\n",
      "Importing synonym data to synonym index 'synonym_dob'\n",
      "Elasticsearch index 'synonym_dob' for application 'hr_assistant' already exists!\n",
      "Loading index 'synonym_dob'\n"
     ]
    },
    {
     "name": "stderr",
     "output_type": "stream",
     "text": [
      "\n",
      "100%|██████████| 1/1 [00:00<00:00, 67.05it/s]"
     ]
    },
    {
     "name": "stdout",
     "output_type": "stream",
     "text": [
      "Loaded 1 document\n",
      "Fitting role classifier: domain='date', intent='get_date_range_aggregate', entity_type='sys_number'\n",
      "No role model configuration set. Using default.\n",
      "Fitting role classifier: domain='date', intent='get_date_range_aggregate', entity_type='citizendesc'\n",
      "No role model configuration set. Using default.\n",
      "Importing synonym data to synonym index 'synonym_citizendesc'\n",
      "Elasticsearch index 'synonym_citizendesc' for application 'hr_assistant' already exists!\n",
      "Loading index 'synonym_citizendesc'\n"
     ]
    },
    {
     "name": "stderr",
     "output_type": "stream",
     "text": [
      "\n",
      "100%|██████████| 2/2 [00:00<00:00, 113.12it/s]"
     ]
    },
    {
     "name": "stdout",
     "output_type": "stream",
     "text": [
      "Loaded 2 documents\n"
     ]
    },
    {
     "name": "stderr",
     "output_type": "stream",
     "text": [
      "\n"
     ]
    },
    {
     "name": "stdout",
     "output_type": "stream",
     "text": [
      "Fitting role classifier: domain='date', intent='get_date_range_aggregate', entity_type='sys_duration'\n",
      "No role model configuration set. Using default.\n",
      "Fitting role classifier: domain='date', intent='get_date_range_aggregate', entity_type='employment_action'\n",
      "No role model configuration set. Using default.\n",
      "Importing synonym data to synonym index 'synonym_employment_action'\n",
      "Elasticsearch index 'synonym_employment_action' for application 'hr_assistant' already exists!\n",
      "Loading index 'synonym_employment_action'\n"
     ]
    },
    {
     "name": "stderr",
     "output_type": "stream",
     "text": [
      "100%|██████████| 2/2 [00:00<00:00, 87.66it/s]"
     ]
    },
    {
     "name": "stdout",
     "output_type": "stream",
     "text": [
      "Loaded 2 documents\n",
      "Fitting entity recognizer: domain='date', intent='get_date'\n",
      "No entity model configuration set. Using default.\n"
     ]
    },
    {
     "name": "stderr",
     "output_type": "stream",
     "text": [
      "\n"
     ]
    },
    {
     "name": "stdout",
     "output_type": "stream",
     "text": [
      "Selecting hyperparameters using k-fold cross-validation with 5 splits\n",
      "Best accuracy: 95.72%, params: {'C': 1, 'penalty': 'l2'}\n",
      "No entity_resolution model configuration set. Using default.\n",
      "No entity_resolution model configuration set. Using default.\n",
      "No entity_resolution model configuration set. Using default.\n",
      "No entity_resolution model configuration set. Using default.\n",
      "No entity_resolution model configuration set. Using default.\n",
      "Fitting role classifier: domain='date', intent='get_date', entity_type='sys_time'\n",
      "No role model configuration set. Using default.\n",
      "Fitting role classifier: domain='date', intent='get_date', entity_type='dob'\n",
      "No role model configuration set. Using default.\n",
      "Importing synonym data to synonym index 'synonym_dob'\n",
      "Elasticsearch index 'synonym_dob' for application 'hr_assistant' already exists!\n",
      "Loading index 'synonym_dob'\n"
     ]
    },
    {
     "name": "stderr",
     "output_type": "stream",
     "text": [
      "100%|██████████| 1/1 [00:00<00:00, 48.85it/s]"
     ]
    },
    {
     "name": "stdout",
     "output_type": "stream",
     "text": [
      "Loaded 1 document\n",
      "Fitting role classifier: domain='date', intent='get_date', entity_type='name'\n",
      "No role model configuration set. Using default.\n",
      "Importing synonym data to synonym index 'synonym_name'\n",
      "Elasticsearch index 'synonym_name' for application 'hr_assistant' already exists!\n",
      "Loading index 'synonym_name'\n"
     ]
    },
    {
     "name": "stderr",
     "output_type": "stream",
     "text": [
      "\n",
      "100%|██████████| 246/246 [00:00<00:00, 621.85it/s]"
     ]
    },
    {
     "name": "stdout",
     "output_type": "stream",
     "text": [
      "Loaded 246 documents\n",
      "Fitting role classifier: domain='date', intent='get_date', entity_type='sys_duration'\n",
      "No role model configuration set. Using default.\n",
      "Fitting role classifier: domain='date', intent='get_date', entity_type='employment_action'\n",
      "No role model configuration set. Using default.\n",
      "Importing synonym data to synonym index 'synonym_employment_action'\n",
      "Elasticsearch index 'synonym_employment_action' for application 'hr_assistant' already exists!\n",
      "Loading index 'synonym_employment_action'\n"
     ]
    },
    {
     "name": "stderr",
     "output_type": "stream",
     "text": [
      "\n",
      "100%|██████████| 2/2 [00:00<00:00, 94.95it/s]"
     ]
    },
    {
     "name": "stdout",
     "output_type": "stream",
     "text": [
      "Loaded 2 documents\n",
      "Fitting intent classifier: domain='greeting'\n"
     ]
    },
    {
     "name": "stderr",
     "output_type": "stream",
     "text": [
      "\n"
     ]
    },
    {
     "name": "stdout",
     "output_type": "stream",
     "text": [
      "Selecting hyperparameters using k-fold cross-validation with 5 splits\n",
      "Best accuracy: 98.86%, params: {'C': 1, 'class_weight': {0: 2.1763537906137183, 1: 0.7302566225165563}, 'fit_intercept': False}\n",
      "Fitting entity recognizer: domain='greeting', intent='greet'\n",
      "No entity model configuration set. Using default.\n",
      "There are no labels in this label set, so we don't fit the model.\n",
      "Fitting entity recognizer: domain='greeting', intent='exit'\n",
      "No entity model configuration set. Using default.\n",
      "There are no labels in this label set, so we don't fit the model.\n",
      "Fitting intent classifier: domain='general'\n",
      "Selecting hyperparameters using k-fold cross-validation with 5 splits\n",
      "Best accuracy: 99.15%, params: {'C': 100, 'class_weight': {0: 1.5260022909507445, 1: 1.1941520467836257, 2: 0.7252284465633692}, 'fit_intercept': True}\n",
      "Fitting entity recognizer: domain='general', intent='get_employees'\n",
      "No entity model configuration set. Using default.\n",
      "Selecting hyperparameters using k-fold cross-validation with 5 splits\n",
      "Best accuracy: 96.15%, params: {'C': 10000, 'penalty': 'l2'}\n",
      "No entity_resolution model configuration set. Using default.\n",
      "No entity_resolution model configuration set. Using default.\n",
      "No entity_resolution model configuration set. Using default.\n",
      "No entity_resolution model configuration set. Using default.\n",
      "No entity_resolution model configuration set. Using default.\n",
      "No entity_resolution model configuration set. Using default.\n",
      "No entity_resolution model configuration set. Using default.\n",
      "No entity_resolution model configuration set. Using default.\n",
      "No entity_resolution model configuration set. Using default.\n",
      "No entity_resolution model configuration set. Using default.\n",
      "No entity_resolution model configuration set. Using default.\n",
      "No entity_resolution model configuration set. Using default.\n",
      "No entity_resolution model configuration set. Using default.\n",
      "No entity_resolution model configuration set. Using default.\n",
      "No entity_resolution model configuration set. Using default.\n",
      "No entity_resolution model configuration set. Using default.\n",
      "No entity_resolution model configuration set. Using default.\n",
      "No entity_resolution model configuration set. Using default.\n",
      "No entity_resolution model configuration set. Using default.\n",
      "No entity_resolution model configuration set. Using default.\n",
      "No entity_resolution model configuration set. Using default.\n",
      "No entity_resolution model configuration set. Using default.\n",
      "No entity_resolution model configuration set. Using default.\n",
      "Fitting role classifier: domain='general', intent='get_employees', entity_type='comparator'\n",
      "No role model configuration set. Using default.\n",
      "Importing synonym data to synonym index 'synonym_comparator'\n",
      "Elasticsearch index 'synonym_comparator' for application 'hr_assistant' already exists!\n",
      "Loading index 'synonym_comparator'\n"
     ]
    },
    {
     "name": "stderr",
     "output_type": "stream",
     "text": [
      "100%|██████████| 4/4 [00:00<00:00, 174.64it/s]"
     ]
    },
    {
     "name": "stdout",
     "output_type": "stream",
     "text": [
      "Loaded 4 documents\n",
      "Fitting role classifier: domain='general', intent='get_employees', entity_type='position'\n",
      "No role model configuration set. Using default.\n",
      "Importing synonym data to synonym index 'synonym_position'\n",
      "Elasticsearch index 'synonym_position' for application 'hr_assistant' already exists!\n",
      "Loading index 'synonym_position'\n"
     ]
    },
    {
     "name": "stderr",
     "output_type": "stream",
     "text": [
      "\n",
      "100%|██████████| 24/24 [00:00<00:00, 547.02it/s]"
     ]
    },
    {
     "name": "stdout",
     "output_type": "stream",
     "text": [
      "Loaded 24 documents\n",
      "Fitting role classifier: domain='general', intent='get_employees', entity_type='age'\n",
      "No role model configuration set. Using default.\n",
      "Importing synonym data to synonym index 'synonym_age'\n",
      "Elasticsearch index 'synonym_age' for application 'hr_assistant' already exists!\n",
      "Loading index 'synonym_age'\n"
     ]
    },
    {
     "name": "stderr",
     "output_type": "stream",
     "text": [
      "\n",
      "100%|██████████| 39/39 [00:00<00:00, 1197.13it/s]"
     ]
    },
    {
     "name": "stdout",
     "output_type": "stream",
     "text": [
      "Loaded 39 documents\n",
      "Fitting role classifier: domain='general', intent='get_employees', entity_type='sys_time'\n",
      "No role model configuration set. Using default.\n",
      "Fitting role classifier: domain='general', intent='get_employees', entity_type='dob'\n",
      "No role model configuration set. Using default.\n",
      "Importing synonym data to synonym index 'synonym_dob'\n",
      "Elasticsearch index 'synonym_dob' for application 'hr_assistant' already exists!\n",
      "Loading index 'synonym_dob'\n"
     ]
    },
    {
     "name": "stderr",
     "output_type": "stream",
     "text": [
      "\n",
      "100%|██████████| 1/1 [00:00<00:00, 71.81it/s]"
     ]
    },
    {
     "name": "stdout",
     "output_type": "stream",
     "text": [
      "Loaded 1 document\n",
      "Fitting role classifier: domain='general', intent='get_employees', entity_type='date_compare'\n",
      "No role model configuration set. Using default.\n",
      "Importing synonym data to synonym index 'synonym_date_compare'\n",
      "Elasticsearch index 'synonym_date_compare' for application 'hr_assistant' already exists!\n",
      "Loading index 'synonym_date_compare'\n"
     ]
    },
    {
     "name": "stderr",
     "output_type": "stream",
     "text": [
      "\n",
      "100%|██████████| 2/2 [00:00<00:00, 101.94it/s]"
     ]
    },
    {
     "name": "stdout",
     "output_type": "stream",
     "text": [
      "Loaded 2 documents\n",
      "Fitting role classifier: domain='general', intent='get_employees', entity_type='sys_number'\n",
      "No role model configuration set. Using default.\n",
      "Fitting role classifier: domain='general', intent='get_employees', entity_type='employee_source'\n",
      "No role model configuration set. Using default.\n",
      "Importing synonym data to synonym index 'synonym_employee_source'\n",
      "Elasticsearch index 'synonym_employee_source' for application 'hr_assistant' already exists!\n",
      "Loading index 'synonym_employee_source'\n"
     ]
    },
    {
     "name": "stderr",
     "output_type": "stream",
     "text": [
      "\n",
      "100%|██████████| 20/20 [00:00<00:00, 547.42it/s]"
     ]
    },
    {
     "name": "stdout",
     "output_type": "stream",
     "text": [
      "Loaded 20 documents\n",
      "Fitting role classifier: domain='general', intent='get_employees', entity_type='manager'\n",
      "No role model configuration set. Using default.\n",
      "Importing synonym data to synonym index 'synonym_manager'\n",
      "Elasticsearch index 'synonym_manager' for application 'hr_assistant' already exists!\n",
      "Loading index 'synonym_manager'\n"
     ]
    },
    {
     "name": "stderr",
     "output_type": "stream",
     "text": [
      "\n",
      "100%|██████████| 1/1 [00:00<00:00, 62.23it/s]"
     ]
    },
    {
     "name": "stdout",
     "output_type": "stream",
     "text": [
      "Loaded 1 document\n",
      "Fitting role classifier: domain='general', intent='get_employees', entity_type='sys_ordinal'\n",
      "No role model configuration set. Using default.\n",
      "Fitting role classifier: domain='general', intent='get_employees', entity_type='reason_for_termination'\n",
      "No role model configuration set. Using default.\n",
      "Importing synonym data to synonym index 'synonym_reason_for_termination'\n",
      "Elasticsearch index 'synonym_reason_for_termination' for application 'hr_assistant' already exists!\n",
      "Loading index 'synonym_reason_for_termination'\n"
     ]
    },
    {
     "name": "stderr",
     "output_type": "stream",
     "text": [
      "\n",
      "100%|██████████| 17/17 [00:00<00:00, 394.39it/s]"
     ]
    },
    {
     "name": "stdout",
     "output_type": "stream",
     "text": [
      "Loaded 17 documents\n",
      "Fitting role classifier: domain='general', intent='get_employees', entity_type='state'\n",
      "No role model configuration set. Using default.\n",
      "Importing synonym data to synonym index 'synonym_state'\n"
     ]
    },
    {
     "name": "stderr",
     "output_type": "stream",
     "text": [
      "\n"
     ]
    },
    {
     "name": "stdout",
     "output_type": "stream",
     "text": [
      "Elasticsearch index 'synonym_state' for application 'hr_assistant' already exists!\n",
      "Loading index 'synonym_state'\n"
     ]
    },
    {
     "name": "stderr",
     "output_type": "stream",
     "text": [
      "100%|██████████| 28/28 [00:00<00:00, 770.31it/s]"
     ]
    },
    {
     "name": "stdout",
     "output_type": "stream",
     "text": [
      "Loaded 28 documents\n",
      "Fitting role classifier: domain='general', intent='get_employees', entity_type='sex'\n",
      "No role model configuration set. Using default.\n",
      "Importing synonym data to synonym index 'synonym_sex'\n",
      "Elasticsearch index 'synonym_sex' for application 'hr_assistant' already exists!\n",
      "Loading index 'synonym_sex'\n"
     ]
    },
    {
     "name": "stderr",
     "output_type": "stream",
     "text": [
      "\n",
      "100%|██████████| 2/2 [00:00<00:00, 77.05it/s]"
     ]
    },
    {
     "name": "stdout",
     "output_type": "stream",
     "text": [
      "Loaded 2 documents\n",
      "Fitting role classifier: domain='general', intent='get_employees', entity_type='maritaldesc'\n",
      "No role model configuration set. Using default.\n",
      "Importing synonym data to synonym index 'synonym_maritaldesc'\n"
     ]
    },
    {
     "name": "stderr",
     "output_type": "stream",
     "text": [
      "\n"
     ]
    },
    {
     "name": "stdout",
     "output_type": "stream",
     "text": [
      "Elasticsearch index 'synonym_maritaldesc' for application 'hr_assistant' already exists!\n",
      "Loading index 'synonym_maritaldesc'\n"
     ]
    },
    {
     "name": "stderr",
     "output_type": "stream",
     "text": [
      "100%|██████████| 5/5 [00:00<00:00, 196.90it/s]"
     ]
    },
    {
     "name": "stdout",
     "output_type": "stream",
     "text": [
      "Loaded 5 documents\n",
      "Fitting role classifier: domain='general', intent='get_employees', entity_type='department'\n"
     ]
    },
    {
     "name": "stderr",
     "output_type": "stream",
     "text": [
      "\n"
     ]
    },
    {
     "name": "stdout",
     "output_type": "stream",
     "text": [
      "No role model configuration set. Using default.\n",
      "Importing synonym data to synonym index 'synonym_department'\n",
      "Elasticsearch index 'synonym_department' for application 'hr_assistant' already exists!\n",
      "Loading index 'synonym_department'\n"
     ]
    },
    {
     "name": "stderr",
     "output_type": "stream",
     "text": [
      "100%|██████████| 6/6 [00:00<00:00, 189.67it/s]"
     ]
    },
    {
     "name": "stdout",
     "output_type": "stream",
     "text": [
      "Loaded 6 documents\n",
      "Fitting role classifier: domain='general', intent='get_employees', entity_type='function'\n",
      "No role model configuration set. Using default.\n",
      "Importing synonym data to synonym index 'synonym_function'\n",
      "Elasticsearch index 'synonym_function' for application 'hr_assistant' already exists!\n",
      "Loading index 'synonym_function'\n"
     ]
    },
    {
     "name": "stderr",
     "output_type": "stream",
     "text": [
      "\n",
      "100%|██████████| 4/4 [00:00<00:00, 128.11it/s]"
     ]
    },
    {
     "name": "stdout",
     "output_type": "stream",
     "text": [
      "Loaded 4 documents\n",
      "Fitting role classifier: domain='general', intent='get_employees', entity_type='performance_score'\n",
      "No role model configuration set. Using default.\n",
      "Importing synonym data to synonym index 'synonym_performance_score'\n",
      "Elasticsearch index 'synonym_performance_score' for application 'hr_assistant' already exists!\n",
      "Loading index 'synonym_performance_score'\n"
     ]
    },
    {
     "name": "stderr",
     "output_type": "stream",
     "text": [
      "\n",
      "100%|██████████| 7/7 [00:00<00:00, 138.64it/s]"
     ]
    },
    {
     "name": "stdout",
     "output_type": "stream",
     "text": [
      "Loaded 7 documents\n",
      "Fitting role classifier: domain='general', intent='get_employees', entity_type='extreme'\n",
      "No role model configuration set. Using default.\n"
     ]
    },
    {
     "name": "stderr",
     "output_type": "stream",
     "text": [
      "\n"
     ]
    },
    {
     "name": "stdout",
     "output_type": "stream",
     "text": [
      "Importing synonym data to synonym index 'synonym_extreme'\n",
      "Elasticsearch index 'synonym_extreme' for application 'hr_assistant' already exists!\n",
      "Loading index 'synonym_extreme'\n"
     ]
    },
    {
     "name": "stderr",
     "output_type": "stream",
     "text": [
      "100%|██████████| 2/2 [00:00<00:00, 57.25it/s]"
     ]
    },
    {
     "name": "stdout",
     "output_type": "stream",
     "text": [
      "Loaded 2 documents\n",
      "Fitting role classifier: domain='general', intent='get_employees', entity_type='racedesc'\n",
      "No role model configuration set. Using default.\n",
      "Importing synonym data to synonym index 'synonym_racedesc'\n",
      "Elasticsearch index 'synonym_racedesc' for application 'hr_assistant' already exists!\n",
      "Loading index 'synonym_racedesc'\n"
     ]
    },
    {
     "name": "stderr",
     "output_type": "stream",
     "text": [
      "\n",
      "100%|██████████| 6/6 [00:00<00:00, 188.91it/s]"
     ]
    },
    {
     "name": "stdout",
     "output_type": "stream",
     "text": [
      "Loaded 6 documents\n",
      "Fitting role classifier: domain='general', intent='get_employees', entity_type='employment_status'\n",
      "No role model configuration set. Using default.\n",
      "Importing synonym data to synonym index 'synonym_employment_status'\n",
      "Elasticsearch index 'synonym_employment_status' for application 'hr_assistant' already exists!\n",
      "Loading index 'synonym_employment_status'\n"
     ]
    },
    {
     "name": "stderr",
     "output_type": "stream",
     "text": [
      "\n",
      "100%|██████████| 5/5 [00:00<00:00, 95.95it/s]"
     ]
    },
    {
     "name": "stdout",
     "output_type": "stream",
     "text": [
      "Loaded 5 documents\n",
      "Fitting role classifier: domain='general', intent='get_employees', entity_type='citizendesc'\n",
      "No role model configuration set. Using default.\n",
      "Importing synonym data to synonym index 'synonym_citizendesc'\n"
     ]
    },
    {
     "name": "stderr",
     "output_type": "stream",
     "text": [
      "\n"
     ]
    },
    {
     "name": "stdout",
     "output_type": "stream",
     "text": [
      "Elasticsearch index 'synonym_citizendesc' for application 'hr_assistant' already exists!\n",
      "Loading index 'synonym_citizendesc'\n"
     ]
    },
    {
     "name": "stderr",
     "output_type": "stream",
     "text": [
      "100%|██████████| 2/2 [00:00<00:00, 84.83it/s]"
     ]
    },
    {
     "name": "stdout",
     "output_type": "stream",
     "text": [
      "Loaded 2 documents\n",
      "Fitting role classifier: domain='general', intent='get_employees', entity_type='sys_duration'\n",
      "No role model configuration set. Using default.\n",
      "Fitting role classifier: domain='general', intent='get_employees', entity_type='employment_action'\n",
      "No role model configuration set. Using default.\n",
      "Importing synonym data to synonym index 'synonym_employment_action'\n",
      "Elasticsearch index 'synonym_employment_action' for application 'hr_assistant' already exists!\n"
     ]
    },
    {
     "name": "stderr",
     "output_type": "stream",
     "text": [
      "\n"
     ]
    },
    {
     "name": "stdout",
     "output_type": "stream",
     "text": [
      "Loading index 'synonym_employment_action'\n"
     ]
    },
    {
     "name": "stderr",
     "output_type": "stream",
     "text": [
      "100%|██████████| 2/2 [00:00<00:00, 57.16it/s]"
     ]
    },
    {
     "name": "stdout",
     "output_type": "stream",
     "text": [
      "Loaded 2 documents\n",
      "Fitting entity recognizer: domain='general', intent='get_aggregate'\n",
      "No entity model configuration set. Using default.\n"
     ]
    },
    {
     "name": "stderr",
     "output_type": "stream",
     "text": [
      "\n"
     ]
    },
    {
     "name": "stdout",
     "output_type": "stream",
     "text": [
      "Selecting hyperparameters using k-fold cross-validation with 5 splits\n",
      "Best accuracy: 94.87%, params: {'C': 100, 'penalty': 'l2'}\n",
      "No entity_resolution model configuration set. Using default.\n",
      "No entity_resolution model configuration set. Using default.\n",
      "No entity_resolution model configuration set. Using default.\n",
      "No entity_resolution model configuration set. Using default.\n",
      "No entity_resolution model configuration set. Using default.\n",
      "No entity_resolution model configuration set. Using default.\n",
      "No entity_resolution model configuration set. Using default.\n",
      "No entity_resolution model configuration set. Using default.\n",
      "No entity_resolution model configuration set. Using default.\n",
      "No entity_resolution model configuration set. Using default.\n",
      "No entity_resolution model configuration set. Using default.\n",
      "No entity_resolution model configuration set. Using default.\n",
      "No entity_resolution model configuration set. Using default.\n",
      "No entity_resolution model configuration set. Using default.\n",
      "No entity_resolution model configuration set. Using default.\n",
      "No entity_resolution model configuration set. Using default.\n",
      "No entity_resolution model configuration set. Using default.\n",
      "No entity_resolution model configuration set. Using default.\n",
      "No entity_resolution model configuration set. Using default.\n",
      "No entity_resolution model configuration set. Using default.\n",
      "No entity_resolution model configuration set. Using default.\n",
      "Fitting role classifier: domain='general', intent='get_aggregate', entity_type='comparator'\n",
      "No role model configuration set. Using default.\n",
      "Importing synonym data to synonym index 'synonym_comparator'\n",
      "Elasticsearch index 'synonym_comparator' for application 'hr_assistant' already exists!\n",
      "Loading index 'synonym_comparator'\n"
     ]
    },
    {
     "name": "stderr",
     "output_type": "stream",
     "text": [
      "100%|██████████| 4/4 [00:00<00:00, 152.82it/s]"
     ]
    },
    {
     "name": "stdout",
     "output_type": "stream",
     "text": [
      "Loaded 4 documents\n",
      "Fitting role classifier: domain='general', intent='get_aggregate', entity_type='position'\n",
      "No role model configuration set. Using default.\n",
      "Importing synonym data to synonym index 'synonym_position'\n",
      "Elasticsearch index 'synonym_position' for application 'hr_assistant' already exists!\n",
      "Loading index 'synonym_position'\n"
     ]
    },
    {
     "name": "stderr",
     "output_type": "stream",
     "text": [
      "\n",
      "100%|██████████| 24/24 [00:00<00:00, 696.86it/s]"
     ]
    },
    {
     "name": "stdout",
     "output_type": "stream",
     "text": [
      "Loaded 24 documents\n",
      "Fitting role classifier: domain='general', intent='get_aggregate', entity_type='age'\n",
      "No role model configuration set. Using default.\n",
      "Importing synonym data to synonym index 'synonym_age'\n",
      "Elasticsearch index 'synonym_age' for application 'hr_assistant' already exists!\n",
      "Loading index 'synonym_age'\n"
     ]
    },
    {
     "name": "stderr",
     "output_type": "stream",
     "text": [
      "\n",
      "100%|██████████| 39/39 [00:00<00:00, 1064.68it/s]"
     ]
    },
    {
     "name": "stdout",
     "output_type": "stream",
     "text": [
      "Loaded 39 documents\n",
      "Fitting role classifier: domain='general', intent='get_aggregate', entity_type='sys_time'\n",
      "No role model configuration set. Using default.\n",
      "Fitting role classifier: domain='general', intent='get_aggregate', entity_type='dob'\n",
      "No role model configuration set. Using default.\n",
      "Importing synonym data to synonym index 'synonym_dob'\n",
      "Elasticsearch index 'synonym_dob' for application 'hr_assistant' already exists!\n",
      "Loading index 'synonym_dob'\n"
     ]
    },
    {
     "name": "stderr",
     "output_type": "stream",
     "text": [
      "\n",
      "100%|██████████| 1/1 [00:00<00:00, 65.67it/s]"
     ]
    },
    {
     "name": "stdout",
     "output_type": "stream",
     "text": [
      "Loaded 1 document\n",
      "Fitting role classifier: domain='general', intent='get_aggregate', entity_type='sys_number'\n",
      "No role model configuration set. Using default.\n",
      "Fitting role classifier: domain='general', intent='get_aggregate', entity_type='employee_source'\n",
      "No role model configuration set. Using default.\n",
      "Importing synonym data to synonym index 'synonym_employee_source'\n",
      "Elasticsearch index 'synonym_employee_source' for application 'hr_assistant' already exists!\n",
      "Loading index 'synonym_employee_source'\n"
     ]
    },
    {
     "name": "stderr",
     "output_type": "stream",
     "text": [
      "\n",
      "100%|██████████| 20/20 [00:00<00:00, 612.59it/s]"
     ]
    },
    {
     "name": "stdout",
     "output_type": "stream",
     "text": [
      "Loaded 20 documents\n",
      "Fitting role classifier: domain='general', intent='get_aggregate', entity_type='employment_action'\n",
      "No role model configuration set. Using default.\n",
      "Importing synonym data to synonym index 'synonym_employment_action'\n"
     ]
    },
    {
     "name": "stderr",
     "output_type": "stream",
     "text": [
      "\n"
     ]
    },
    {
     "name": "stdout",
     "output_type": "stream",
     "text": [
      "Elasticsearch index 'synonym_employment_action' for application 'hr_assistant' already exists!\n",
      "Loading index 'synonym_employment_action'\n"
     ]
    },
    {
     "name": "stderr",
     "output_type": "stream",
     "text": [
      "100%|██████████| 2/2 [00:00<00:00, 98.04it/s]"
     ]
    },
    {
     "name": "stdout",
     "output_type": "stream",
     "text": [
      "Loaded 2 documents\n",
      "Fitting role classifier: domain='general', intent='get_aggregate', entity_type='manager'\n",
      "No role model configuration set. Using default.\n",
      "Importing synonym data to synonym index 'synonym_manager'\n",
      "Elasticsearch index 'synonym_manager' for application 'hr_assistant' already exists!\n",
      "Loading index 'synonym_manager'\n"
     ]
    },
    {
     "name": "stderr",
     "output_type": "stream",
     "text": [
      "\n",
      "100%|██████████| 1/1 [00:00<00:00, 65.85it/s]"
     ]
    },
    {
     "name": "stdout",
     "output_type": "stream",
     "text": [
      "Loaded 1 document\n",
      "Fitting role classifier: domain='general', intent='get_aggregate', entity_type='reason_for_termination'\n",
      "No role model configuration set. Using default.\n",
      "Importing synonym data to synonym index 'synonym_reason_for_termination'\n",
      "Elasticsearch index 'synonym_reason_for_termination' for application 'hr_assistant' already exists!\n",
      "Loading index 'synonym_reason_for_termination'\n"
     ]
    },
    {
     "name": "stderr",
     "output_type": "stream",
     "text": [
      "\n",
      "100%|██████████| 17/17 [00:00<00:00, 459.76it/s]"
     ]
    },
    {
     "name": "stdout",
     "output_type": "stream",
     "text": [
      "Loaded 17 documents\n",
      "Fitting role classifier: domain='general', intent='get_aggregate', entity_type='state'\n",
      "No role model configuration set. Using default.\n",
      "Importing synonym data to synonym index 'synonym_state'\n",
      "Elasticsearch index 'synonym_state' for application 'hr_assistant' already exists!\n",
      "Loading index 'synonym_state'\n"
     ]
    },
    {
     "name": "stderr",
     "output_type": "stream",
     "text": [
      "\n",
      "100%|██████████| 28/28 [00:00<00:00, 883.90it/s]"
     ]
    },
    {
     "name": "stdout",
     "output_type": "stream",
     "text": [
      "Loaded 28 documents\n",
      "Fitting role classifier: domain='general', intent='get_aggregate', entity_type='sex'\n",
      "No role model configuration set. Using default.\n",
      "Importing synonym data to synonym index 'synonym_sex'\n",
      "Elasticsearch index 'synonym_sex' for application 'hr_assistant' already exists!\n",
      "Loading index 'synonym_sex'\n"
     ]
    },
    {
     "name": "stderr",
     "output_type": "stream",
     "text": [
      "\n",
      "100%|██████████| 2/2 [00:00<00:00, 99.47it/s]"
     ]
    },
    {
     "name": "stdout",
     "output_type": "stream",
     "text": [
      "Loaded 2 documents\n"
     ]
    },
    {
     "name": "stderr",
     "output_type": "stream",
     "text": [
      "\n"
     ]
    },
    {
     "name": "stdout",
     "output_type": "stream",
     "text": [
      "Fitting role classifier: domain='general', intent='get_aggregate', entity_type='maritaldesc'\n",
      "No role model configuration set. Using default.\n",
      "Importing synonym data to synonym index 'synonym_maritaldesc'\n",
      "Elasticsearch index 'synonym_maritaldesc' for application 'hr_assistant' already exists!\n",
      "Loading index 'synonym_maritaldesc'\n"
     ]
    },
    {
     "name": "stderr",
     "output_type": "stream",
     "text": [
      "100%|██████████| 5/5 [00:00<00:00, 132.72it/s]"
     ]
    },
    {
     "name": "stdout",
     "output_type": "stream",
     "text": [
      "Loaded 5 documents\n",
      "Fitting role classifier: domain='general', intent='get_aggregate', entity_type='department'\n",
      "No role model configuration set. Using default.\n",
      "Importing synonym data to synonym index 'synonym_department'\n"
     ]
    },
    {
     "name": "stderr",
     "output_type": "stream",
     "text": [
      "\n"
     ]
    },
    {
     "name": "stdout",
     "output_type": "stream",
     "text": [
      "Elasticsearch index 'synonym_department' for application 'hr_assistant' already exists!\n",
      "Loading index 'synonym_department'\n"
     ]
    },
    {
     "name": "stderr",
     "output_type": "stream",
     "text": [
      "100%|██████████| 6/6 [00:00<00:00, 199.01it/s]"
     ]
    },
    {
     "name": "stdout",
     "output_type": "stream",
     "text": [
      "Loaded 6 documents\n",
      "Fitting role classifier: domain='general', intent='get_aggregate', entity_type='function'\n",
      "No role model configuration set. Using default.\n",
      "Importing synonym data to synonym index 'synonym_function'\n",
      "Elasticsearch index 'synonym_function' for application 'hr_assistant' already exists!\n",
      "Loading index 'synonym_function'\n"
     ]
    },
    {
     "name": "stderr",
     "output_type": "stream",
     "text": [
      "\n",
      "100%|██████████| 4/4 [00:00<00:00, 120.93it/s]"
     ]
    },
    {
     "name": "stdout",
     "output_type": "stream",
     "text": [
      "Loaded 4 documents\n",
      "Fitting role classifier: domain='general', intent='get_aggregate', entity_type='performance_score'\n",
      "No role model configuration set. Using default.\n",
      "Importing synonym data to synonym index 'synonym_performance_score'\n"
     ]
    },
    {
     "name": "stderr",
     "output_type": "stream",
     "text": [
      "\n"
     ]
    },
    {
     "name": "stdout",
     "output_type": "stream",
     "text": [
      "Elasticsearch index 'synonym_performance_score' for application 'hr_assistant' already exists!\n",
      "Loading index 'synonym_performance_score'\n"
     ]
    },
    {
     "name": "stderr",
     "output_type": "stream",
     "text": [
      "100%|██████████| 7/7 [00:00<00:00, 166.42it/s]"
     ]
    },
    {
     "name": "stdout",
     "output_type": "stream",
     "text": [
      "Loaded 7 documents\n",
      "Fitting role classifier: domain='general', intent='get_aggregate', entity_type='extreme'\n",
      "No role model configuration set. Using default.\n"
     ]
    },
    {
     "name": "stderr",
     "output_type": "stream",
     "text": [
      "\n"
     ]
    },
    {
     "name": "stdout",
     "output_type": "stream",
     "text": [
      "Importing synonym data to synonym index 'synonym_extreme'\n",
      "Elasticsearch index 'synonym_extreme' for application 'hr_assistant' already exists!\n",
      "Loading index 'synonym_extreme'\n"
     ]
    },
    {
     "name": "stderr",
     "output_type": "stream",
     "text": [
      "100%|██████████| 2/2 [00:00<00:00, 61.90it/s]"
     ]
    },
    {
     "name": "stdout",
     "output_type": "stream",
     "text": [
      "Loaded 2 documents\n",
      "Fitting role classifier: domain='general', intent='get_aggregate', entity_type='racedesc'\n",
      "No role model configuration set. Using default.\n"
     ]
    },
    {
     "name": "stderr",
     "output_type": "stream",
     "text": [
      "\n"
     ]
    },
    {
     "name": "stdout",
     "output_type": "stream",
     "text": [
      "Importing synonym data to synonym index 'synonym_racedesc'\n",
      "Elasticsearch index 'synonym_racedesc' for application 'hr_assistant' already exists!\n",
      "Loading index 'synonym_racedesc'\n"
     ]
    },
    {
     "name": "stderr",
     "output_type": "stream",
     "text": [
      "100%|██████████| 6/6 [00:00<00:00, 159.85it/s]"
     ]
    },
    {
     "name": "stdout",
     "output_type": "stream",
     "text": [
      "Loaded 6 documents\n",
      "Fitting role classifier: domain='general', intent='get_aggregate', entity_type='employment_status'\n",
      "No role model configuration set. Using default.\n",
      "Importing synonym data to synonym index 'synonym_employment_status'\n",
      "Elasticsearch index 'synonym_employment_status' for application 'hr_assistant' already exists!\n",
      "Loading index 'synonym_employment_status'\n"
     ]
    },
    {
     "name": "stderr",
     "output_type": "stream",
     "text": [
      "\n",
      "100%|██████████| 5/5 [00:00<00:00, 101.05it/s]"
     ]
    },
    {
     "name": "stdout",
     "output_type": "stream",
     "text": [
      "Loaded 5 documents\n",
      "Fitting role classifier: domain='general', intent='get_aggregate', entity_type='citizendesc'\n",
      "No role model configuration set. Using default.\n",
      "Importing synonym data to synonym index 'synonym_citizendesc'\n"
     ]
    },
    {
     "name": "stderr",
     "output_type": "stream",
     "text": [
      "\n"
     ]
    },
    {
     "name": "stdout",
     "output_type": "stream",
     "text": [
      "Elasticsearch index 'synonym_citizendesc' for application 'hr_assistant' already exists!\n",
      "Loading index 'synonym_citizendesc'\n"
     ]
    },
    {
     "name": "stderr",
     "output_type": "stream",
     "text": [
      "100%|██████████| 2/2 [00:00<00:00, 89.03it/s]"
     ]
    },
    {
     "name": "stdout",
     "output_type": "stream",
     "text": [
      "Loaded 2 documents\n",
      "Fitting role classifier: domain='general', intent='get_aggregate', entity_type='name'\n",
      "No role model configuration set. Using default.\n",
      "Importing synonym data to synonym index 'synonym_name'\n"
     ]
    },
    {
     "name": "stderr",
     "output_type": "stream",
     "text": [
      "\n"
     ]
    },
    {
     "name": "stdout",
     "output_type": "stream",
     "text": [
      "Elasticsearch index 'synonym_name' for application 'hr_assistant' already exists!\n",
      "Loading index 'synonym_name'\n"
     ]
    },
    {
     "name": "stderr",
     "output_type": "stream",
     "text": [
      "100%|██████████| 246/246 [00:00<00:00, 495.58it/s]"
     ]
    },
    {
     "name": "stdout",
     "output_type": "stream",
     "text": [
      "Loaded 246 documents\n",
      "Fitting entity recognizer: domain='general', intent='get_info'\n",
      "No entity model configuration set. Using default.\n"
     ]
    },
    {
     "name": "stderr",
     "output_type": "stream",
     "text": [
      "\n"
     ]
    },
    {
     "name": "stdout",
     "output_type": "stream",
     "text": [
      "Selecting hyperparameters using k-fold cross-validation with 5 splits\n",
      "Best accuracy: 96.85%, params: {'C': 100, 'penalty': 'l2'}\n",
      "No entity_resolution model configuration set. Using default.\n",
      "No entity_resolution model configuration set. Using default.\n",
      "No entity_resolution model configuration set. Using default.\n",
      "No entity_resolution model configuration set. Using default.\n",
      "No entity_resolution model configuration set. Using default.\n",
      "No entity_resolution model configuration set. Using default.\n",
      "No entity_resolution model configuration set. Using default.\n",
      "No entity_resolution model configuration set. Using default.\n",
      "No entity_resolution model configuration set. Using default.\n",
      "No entity_resolution model configuration set. Using default.\n",
      "No entity_resolution model configuration set. Using default.\n",
      "No entity_resolution model configuration set. Using default.\n",
      "No entity_resolution model configuration set. Using default.\n",
      "No entity_resolution model configuration set. Using default.\n",
      "Fitting role classifier: domain='general', intent='get_info', entity_type='reason_for_termination'\n",
      "No role model configuration set. Using default.\n",
      "Importing synonym data to synonym index 'synonym_reason_for_termination'\n",
      "Elasticsearch index 'synonym_reason_for_termination' for application 'hr_assistant' already exists!\n",
      "Loading index 'synonym_reason_for_termination'\n"
     ]
    },
    {
     "name": "stderr",
     "output_type": "stream",
     "text": [
      "100%|██████████| 17/17 [00:00<00:00, 391.53it/s]"
     ]
    },
    {
     "name": "stdout",
     "output_type": "stream",
     "text": [
      "Loaded 17 documents\n",
      "Fitting role classifier: domain='general', intent='get_info', entity_type='state'\n",
      "No role model configuration set. Using default.\n",
      "Importing synonym data to synonym index 'synonym_state'\n",
      "Elasticsearch index 'synonym_state' for application 'hr_assistant' already exists!\n",
      "Loading index 'synonym_state'\n"
     ]
    },
    {
     "name": "stderr",
     "output_type": "stream",
     "text": [
      "\n",
      "100%|██████████| 28/28 [00:00<00:00, 715.31it/s]"
     ]
    },
    {
     "name": "stdout",
     "output_type": "stream",
     "text": [
      "Loaded 28 documents\n",
      "Fitting role classifier: domain='general', intent='get_info', entity_type='position'\n",
      "No role model configuration set. Using default.\n",
      "Importing synonym data to synonym index 'synonym_position'\n",
      "Elasticsearch index 'synonym_position' for application 'hr_assistant' already exists!\n",
      "Loading index 'synonym_position'\n"
     ]
    },
    {
     "name": "stderr",
     "output_type": "stream",
     "text": [
      "\n",
      "100%|██████████| 24/24 [00:00<00:00, 542.58it/s]"
     ]
    },
    {
     "name": "stdout",
     "output_type": "stream",
     "text": [
      "Loaded 24 documents\n",
      "Fitting role classifier: domain='general', intent='get_info', entity_type='sex'\n",
      "No role model configuration set. Using default.\n",
      "Importing synonym data to synonym index 'synonym_sex'\n",
      "Elasticsearch index 'synonym_sex' for application 'hr_assistant' already exists!\n",
      "Loading index 'synonym_sex'\n"
     ]
    },
    {
     "name": "stderr",
     "output_type": "stream",
     "text": [
      "\n",
      "100%|██████████| 2/2 [00:00<00:00, 55.30it/s]"
     ]
    },
    {
     "name": "stdout",
     "output_type": "stream",
     "text": [
      "Loaded 2 documents\n",
      "Fitting role classifier: domain='general', intent='get_info', entity_type='employee_source'\n",
      "No role model configuration set. Using default.\n",
      "Importing synonym data to synonym index 'synonym_employee_source'\n",
      "Elasticsearch index 'synonym_employee_source' for application 'hr_assistant' already exists!\n",
      "Loading index 'synonym_employee_source'\n"
     ]
    },
    {
     "name": "stderr",
     "output_type": "stream",
     "text": [
      "\n",
      "100%|██████████| 20/20 [00:00<00:00, 440.92it/s]"
     ]
    },
    {
     "name": "stdout",
     "output_type": "stream",
     "text": [
      "Loaded 20 documents\n",
      "Fitting role classifier: domain='general', intent='get_info', entity_type='age'\n",
      "No role model configuration set. Using default.\n",
      "Importing synonym data to synonym index 'synonym_age'\n",
      "Elasticsearch index 'synonym_age' for application 'hr_assistant' already exists!\n",
      "Loading index 'synonym_age'\n"
     ]
    },
    {
     "name": "stderr",
     "output_type": "stream",
     "text": [
      "\n",
      "100%|██████████| 39/39 [00:00<00:00, 720.01it/s]"
     ]
    },
    {
     "name": "stdout",
     "output_type": "stream",
     "text": [
      "Loaded 39 documents\n",
      "Fitting role classifier: domain='general', intent='get_info', entity_type='maritaldesc'\n",
      "No role model configuration set. Using default.\n"
     ]
    },
    {
     "name": "stderr",
     "output_type": "stream",
     "text": [
      "\n"
     ]
    },
    {
     "name": "stdout",
     "output_type": "stream",
     "text": [
      "Importing synonym data to synonym index 'synonym_maritaldesc'\n",
      "Elasticsearch index 'synonym_maritaldesc' for application 'hr_assistant' already exists!\n",
      "Loading index 'synonym_maritaldesc'\n"
     ]
    },
    {
     "name": "stderr",
     "output_type": "stream",
     "text": [
      "100%|██████████| 5/5 [00:00<00:00, 143.04it/s]"
     ]
    },
    {
     "name": "stdout",
     "output_type": "stream",
     "text": [
      "Loaded 5 documents\n",
      "Fitting role classifier: domain='general', intent='get_info', entity_type='employment_action'\n",
      "No role model configuration set. Using default.\n"
     ]
    },
    {
     "name": "stderr",
     "output_type": "stream",
     "text": [
      "\n"
     ]
    },
    {
     "name": "stdout",
     "output_type": "stream",
     "text": [
      "Importing synonym data to synonym index 'synonym_employment_action'\n",
      "Elasticsearch index 'synonym_employment_action' for application 'hr_assistant' already exists!\n",
      "Loading index 'synonym_employment_action'\n"
     ]
    },
    {
     "name": "stderr",
     "output_type": "stream",
     "text": [
      "100%|██████████| 2/2 [00:00<00:00, 53.89it/s]"
     ]
    },
    {
     "name": "stdout",
     "output_type": "stream",
     "text": [
      "Loaded 2 documents\n",
      "Fitting role classifier: domain='general', intent='get_info', entity_type='performance_score'\n",
      "No role model configuration set. Using default.\n",
      "Importing synonym data to synonym index 'synonym_performance_score'\n"
     ]
    },
    {
     "name": "stderr",
     "output_type": "stream",
     "text": [
      "\n"
     ]
    },
    {
     "name": "stdout",
     "output_type": "stream",
     "text": [
      "Elasticsearch index 'synonym_performance_score' for application 'hr_assistant' already exists!\n",
      "Loading index 'synonym_performance_score'\n"
     ]
    },
    {
     "name": "stderr",
     "output_type": "stream",
     "text": [
      "100%|██████████| 7/7 [00:00<00:00, 150.58it/s]"
     ]
    },
    {
     "name": "stdout",
     "output_type": "stream",
     "text": [
      "Loaded 7 documents\n",
      "Fitting role classifier: domain='general', intent='get_info', entity_type='racedesc'\n",
      "No role model configuration set. Using default.\n",
      "Importing synonym data to synonym index 'synonym_racedesc'\n",
      "Elasticsearch index 'synonym_racedesc' for application 'hr_assistant' already exists!\n",
      "Loading index 'synonym_racedesc'\n"
     ]
    },
    {
     "name": "stderr",
     "output_type": "stream",
     "text": [
      "\n",
      "100%|██████████| 6/6 [00:00<00:00, 139.31it/s]"
     ]
    },
    {
     "name": "stdout",
     "output_type": "stream",
     "text": [
      "Loaded 6 documents\n",
      "Fitting role classifier: domain='general', intent='get_info', entity_type='employment_status'\n",
      "No role model configuration set. Using default.\n"
     ]
    },
    {
     "name": "stderr",
     "output_type": "stream",
     "text": [
      "\n"
     ]
    },
    {
     "name": "stdout",
     "output_type": "stream",
     "text": [
      "Importing synonym data to synonym index 'synonym_employment_status'\n",
      "Elasticsearch index 'synonym_employment_status' for application 'hr_assistant' already exists!\n",
      "Loading index 'synonym_employment_status'\n"
     ]
    },
    {
     "name": "stderr",
     "output_type": "stream",
     "text": [
      "100%|██████████| 5/5 [00:00<00:00, 101.01it/s]"
     ]
    },
    {
     "name": "stdout",
     "output_type": "stream",
     "text": [
      "Loaded 5 documents\n",
      "Fitting role classifier: domain='general', intent='get_info', entity_type='citizendesc'\n",
      "No role model configuration set. Using default.\n",
      "Importing synonym data to synonym index 'synonym_citizendesc'\n"
     ]
    },
    {
     "name": "stderr",
     "output_type": "stream",
     "text": [
      "\n"
     ]
    },
    {
     "name": "stdout",
     "output_type": "stream",
     "text": [
      "Elasticsearch index 'synonym_citizendesc' for application 'hr_assistant' already exists!\n",
      "Loading index 'synonym_citizendesc'\n"
     ]
    },
    {
     "name": "stderr",
     "output_type": "stream",
     "text": [
      "100%|██████████| 2/2 [00:00<00:00, 72.74it/s]"
     ]
    },
    {
     "name": "stdout",
     "output_type": "stream",
     "text": [
      "Loaded 2 documents\n",
      "Fitting role classifier: domain='general', intent='get_info', entity_type='department'\n",
      "No role model configuration set. Using default.\n",
      "Importing synonym data to synonym index 'synonym_department'\n"
     ]
    },
    {
     "name": "stderr",
     "output_type": "stream",
     "text": [
      "\n"
     ]
    },
    {
     "name": "stdout",
     "output_type": "stream",
     "text": [
      "Elasticsearch index 'synonym_department' for application 'hr_assistant' already exists!\n",
      "Loading index 'synonym_department'\n"
     ]
    },
    {
     "name": "stderr",
     "output_type": "stream",
     "text": [
      "100%|██████████| 6/6 [00:00<00:00, 99.24it/s]"
     ]
    },
    {
     "name": "stdout",
     "output_type": "stream",
     "text": [
      "Loaded 6 documents\n",
      "Fitting role classifier: domain='general', intent='get_info', entity_type='name'\n",
      "No role model configuration set. Using default.\n",
      "Importing synonym data to synonym index 'synonym_name'\n"
     ]
    },
    {
     "name": "stderr",
     "output_type": "stream",
     "text": [
      "\n"
     ]
    },
    {
     "name": "stdout",
     "output_type": "stream",
     "text": [
      "Elasticsearch index 'synonym_name' for application 'hr_assistant' already exists!\n",
      "Loading index 'synonym_name'\n"
     ]
    },
    {
     "name": "stderr",
     "output_type": "stream",
     "text": [
      "100%|██████████| 246/246 [00:00<00:00, 579.06it/s]"
     ]
    },
    {
     "name": "stdout",
     "output_type": "stream",
     "text": [
      "Loaded 246 documents\n",
      "Fitting intent classifier: domain='hierarchy'\n"
     ]
    },
    {
     "name": "stderr",
     "output_type": "stream",
     "text": [
      "\n"
     ]
    },
    {
     "name": "stdout",
     "output_type": "stream",
     "text": [
      "Selecting hyperparameters using k-fold cross-validation with 5 splits\n",
      "Best accuracy: 92.22%, params: {'C': 100, 'class_weight': {0: 0.9896995708154506, 1: 1.0110599078341014}, 'fit_intercept': True}\n",
      "Fitting entity recognizer: domain='hierarchy', intent='get_hierarchy_down'\n",
      "No entity model configuration set. Using default.\n",
      "Selecting hyperparameters using k-fold cross-validation with 5 splits\n",
      "Best accuracy: 98.69%, params: {'C': 100, 'penalty': 'l2'}\n",
      "No entity_resolution model configuration set. Using default.\n",
      "No entity_resolution model configuration set. Using default.\n",
      "No entity_resolution model configuration set. Using default.\n",
      "Fitting role classifier: domain='hierarchy', intent='get_hierarchy_down', entity_type='comparator'\n",
      "No role model configuration set. Using default.\n",
      "Importing synonym data to synonym index 'synonym_comparator'\n",
      "Elasticsearch index 'synonym_comparator' for application 'hr_assistant' already exists!\n",
      "Loading index 'synonym_comparator'\n"
     ]
    },
    {
     "name": "stderr",
     "output_type": "stream",
     "text": [
      "100%|██████████| 4/4 [00:00<00:00, 167.29it/s]"
     ]
    },
    {
     "name": "stdout",
     "output_type": "stream",
     "text": [
      "Loaded 4 documents\n",
      "Fitting role classifier: domain='hierarchy', intent='get_hierarchy_down', entity_type='manager'\n",
      "No role model configuration set. Using default.\n",
      "Importing synonym data to synonym index 'synonym_manager'\n",
      "Elasticsearch index 'synonym_manager' for application 'hr_assistant' already exists!\n",
      "Loading index 'synonym_manager'\n"
     ]
    },
    {
     "name": "stderr",
     "output_type": "stream",
     "text": [
      "\n",
      "100%|██████████| 1/1 [00:00<00:00, 60.06it/s]"
     ]
    },
    {
     "name": "stdout",
     "output_type": "stream",
     "text": [
      "Loaded 1 document\n",
      "Fitting role classifier: domain='hierarchy', intent='get_hierarchy_down', entity_type='name'\n",
      "No role model configuration set. Using default.\n",
      "Importing synonym data to synonym index 'synonym_name'\n",
      "Elasticsearch index 'synonym_name' for application 'hr_assistant' already exists!\n",
      "Loading index 'synonym_name'\n"
     ]
    },
    {
     "name": "stderr",
     "output_type": "stream",
     "text": [
      "\n",
      "100%|██████████| 246/246 [00:00<00:00, 635.63it/s]"
     ]
    },
    {
     "name": "stdout",
     "output_type": "stream",
     "text": [
      "Loaded 246 documents\n",
      "Fitting entity recognizer: domain='hierarchy', intent='get_hierarchy_up'\n",
      "No entity model configuration set. Using default.\n"
     ]
    },
    {
     "name": "stderr",
     "output_type": "stream",
     "text": [
      "\n"
     ]
    },
    {
     "name": "stdout",
     "output_type": "stream",
     "text": [
      "Selecting hyperparameters using k-fold cross-validation with 5 splits\n",
      "Best accuracy: 97.91%, params: {'C': 10000, 'penalty': 'l2'}\n",
      "No entity_resolution model configuration set. Using default.\n",
      "No entity_resolution model configuration set. Using default.\n",
      "Fitting role classifier: domain='hierarchy', intent='get_hierarchy_up', entity_type='manager'\n",
      "No role model configuration set. Using default.\n",
      "Importing synonym data to synonym index 'synonym_manager'\n",
      "Elasticsearch index 'synonym_manager' for application 'hr_assistant' already exists!\n",
      "Loading index 'synonym_manager'\n"
     ]
    },
    {
     "name": "stderr",
     "output_type": "stream",
     "text": [
      "100%|██████████| 1/1 [00:00<00:00, 51.65it/s]"
     ]
    },
    {
     "name": "stdout",
     "output_type": "stream",
     "text": [
      "Loaded 1 document\n",
      "Fitting role classifier: domain='hierarchy', intent='get_hierarchy_up', entity_type='name'\n",
      "No role model configuration set. Using default.\n",
      "Importing synonym data to synonym index 'synonym_name'\n",
      "Elasticsearch index 'synonym_name' for application 'hr_assistant' already exists!\n",
      "Loading index 'synonym_name'\n"
     ]
    },
    {
     "name": "stderr",
     "output_type": "stream",
     "text": [
      "\n",
      "100%|██████████| 246/246 [00:00<00:00, 639.13it/s]"
     ]
    },
    {
     "name": "stdout",
     "output_type": "stream",
     "text": [
      "Loaded 246 documents\n"
     ]
    },
    {
     "name": "stderr",
     "output_type": "stream",
     "text": [
      "\n"
     ]
    }
   ],
   "source": [
    "nlp.build()"
   ]
  },
  {
   "cell_type": "code",
   "execution_count": 4,
   "metadata": {},
   "outputs": [
    {
     "name": "stdout",
     "output_type": "stream",
     "text": [
      "The application package hr_assistant is already imported.\n"
     ]
    },
    {
     "name": "stderr",
     "output_type": "stream",
     "text": [
      "/anaconda3/envs/mindmeld2/lib/python3.6/site-packages/mindmeld/_version.py:64: MindMeldVersionWarning: Current mindmeld (4.1.1) does not satisfy mindmeld>=4.1.1 in pip requirements caused by (urllib3 1.24.3 (/anaconda3/envs/mindmeld2/lib/python3.6/site-packages), Requirement.parse('urllib3==1.23'), {'mindmeld'})\n",
      "  warnings.warn(error_msg, category=MindMeldVersionWarning)\n"
     ]
    }
   ],
   "source": [
    "from mindmeld.components.dialogue import Conversation\n",
    "conv = Conversation(nlp=nlp, app_path='hr_assistant')"
   ]
  },
  {
   "cell_type": "code",
   "execution_count": 5,
   "metadata": {
    "scrolled": true
   },
   "outputs": [
    {
     "data": {
      "text/plain": [
       "['What would you like to know about Mia Brown?', 'Listening...']"
      ]
     },
     "execution_count": 5,
     "metadata": {},
     "output_type": "execute_result"
    }
   ],
   "source": [
    "conv.say(\"what is the job title of mia\")"
   ]
  },
  {
   "cell_type": "code",
   "execution_count": 6,
   "metadata": {},
   "outputs": [
    {
     "data": {
      "text/plain": [
       "[\"Mia Brown's race is Black or African American\"]"
      ]
     },
     "execution_count": 6,
     "metadata": {},
     "output_type": "execute_result"
    }
   ],
   "source": [
    "conv.say(\"what is the race of mia\")"
   ]
  },
  {
   "cell_type": "code",
   "execution_count": 7,
   "metadata": {},
   "outputs": [
    {
     "data": {
      "text/plain": [
       "[\"Simon Roup's position in the organisation is: IT Manager - DB\"]"
      ]
     },
     "execution_count": 7,
     "metadata": {},
     "output_type": "execute_result"
    }
   ],
   "source": [
    "conv.say(\"what is simon's job title\")"
   ]
  },
  {
   "cell_type": "code",
   "execution_count": 8,
   "metadata": {},
   "outputs": [
    {
     "data": {
      "text/plain": [
       "[\"Edward True's position in the organisation is: Software Engineer\"]"
      ]
     },
     "execution_count": 8,
     "metadata": {},
     "output_type": "execute_result"
    }
   ],
   "source": [
    "conv.say(\"get me edward's job title\")"
   ]
  },
  {
   "cell_type": "code",
   "execution_count": 9,
   "metadata": {},
   "outputs": [
    {
     "data": {
      "text/plain": [
       "['Taylor Sparks was in the Production        department']"
      ]
     },
     "execution_count": 9,
     "metadata": {},
     "output_type": "execute_result"
    }
   ],
   "source": [
    "conv.say(\"what department is taylor in\")"
   ]
  },
  {
   "cell_type": "code",
   "execution_count": 10,
   "metadata": {},
   "outputs": [
    {
     "data": {
      "text/plain": [
       "['Mia Brown was in the Admin Offices department']"
      ]
     },
     "execution_count": 10,
     "metadata": {},
     "output_type": "execute_result"
    }
   ],
   "source": [
    "conv.say(\"mia works in which department\")"
   ]
  },
  {
   "cell_type": "code",
   "execution_count": 11,
   "metadata": {},
   "outputs": [
    {
     "data": {
      "text/plain": [
       "[\"The hired employees based on your criteria are: Nan Singh, Kramer Simard, Rick Clayton, Neville Tredinnick, Jumil Turpin, Bianca Roehrich, Jyoti Lajiri, Sarah Warfield, Elisa Bramante, Wilson Adinolfi, Thomas Barbara, Lin Chan, Hamish Garneau, Alex Gilles, Cayo Gonzalez, Rose Ivey, John Kretschmer, Lindsay Lynch, Sandy Mckenna, Jennifer Medeiros, Lynn O'hare, Clinton Owad, Brad Pitt, Haley Rivera, Ashley Rose, Kamrin Sander, Sade Smith, Betsy Bondwell, Rosalie Hutter, Yen Johnston, Lisa Lunquist, Shana Petingill, Lenora Tejeda, Cybil Trzeciak, Edward Buck, Bartholemew Khemmich, Joseph Martins, Dheepa Nguyen, Donysha Kampew, Luke Patronick, Edward True, Leigh Smith, Amy Foster-Baker, Daniff Hernandez, Noelle Johnson, Thelma Petrowsky, Ivan Rogers, Peter Monroe, Lisa Galia, Leonara Lindsay, Linda Dolan, Carlos Merlos, Anita Shepard, Donald Favis, Walter Immediato, Ketsia Liebig, Kelley Spirea, Courtney Wallace, Carol Anderson, Rachael Baczenski, Francesco Barone, Josephine Bugali, Donovan Chang, Enola Chivukula, Caroline Cierpiszewski, Elijian Clukey, Spencer Cole, Lisa Cornett, Jean Crimmings, Jene'ya Darson, Carl Desimone, Marianne Eaton, Jean Engdahl, April Evensen, Susan Ferguson, Libby Fidelia, Melisa Gerke, Shenice Gold, Christie Harrington, Anthony Heitzman, Maryellen Jackson, Hannah Jacobi, Kramer Keatts, Kathleen Kinsella, Dallas Leach, Jonathan LeBel, Allison Lydon, Elizabeth Meads, Horia Ndzi, Richard Newman, Shakira Perry, Morissa Power, Thomas Rhoads, Alain Robinson, Cherly Robinson, Elias Robinson, Bruno Rossetti, Melinda Saar-Beckles, Taylor Sparks, Timothy Sullivan, Barbara Sutwell, Jeanette Tippett, Dianna Blount, Daniel Davis, Megan Faller, Susan Good, Adrienne Homberger, Mohammed Latif, Mathew Linden, Brigit McCarthy, Luisa Monterro, Maliki Moumanil, Lauren Peters, Jessica Bunbury, Latia Costa, Gerry Friedman, Ricardo Gonzales, Mike Guilianno, Giovanni Leruth, Jac McKinzie, Jasmine Onque, Xana Potts, Caitrin Strong, Sandra Martin, Tyrone Steans, Estelle Howard, Jennifer Zamora, Randall Pearson, Lori Roby, Karthikeyan Ait Sidi, Michael Albert, Brannon Miller, David Stanley, Trina Alagbe, Scott Becker, Donna Brill, Michael Carey, James Cockel, Geoff Dickinson, Denisa Dobrin, Nilson Fernandes, Raul Garcia, Barbara Gaul, Mildred Gentry, David Gordon, Roxana Goyal, Paula Gross, Ludwick Harrell, Sneha Jhaveri, Alexandra Kirill, Bradley Knapp, Shana Maurice, Adeel Osturnka, Nina Panjwani, Quinn Rarrick, Nori Sewkumar, Seffi Shields, Rick Stoica, Colleen Volk, Anna Von Massenbach, Jacquelyn Williams, Sarah Akinkuolie, Carla Demita, Angela Erilus, Nicole Fancett, Michael Fitzpatrick, Juan Gonzalez, Trina Hendrickson, Erasumus Monkfish, Patrick Moran, Brooke Oliver, Ermine Pelletier, Joe Smith, Kenneth Thibaud, Jordan Winthrop, Jenna Dietrich, Debra Houlihan, Judith Carabbio, Keyla Del Bosque, Brandon LeBlanc, Bonalyn Boutwell, Janet King, Renee Becker, Jayne Horton, Eric Dougall, Maria Gonzalez, Ann Daniele, Jeremiah Semizoglou, Joe South, Charles Bozzi, Webster Butler, Amy Dunn, Elijiah Gray, Ebonee Peterson, Kissy Sullivan, Courtney Beatrice, Sean Bernstein, Lowan Biden, Helen Billis, Lily DiNocco, Rex England, Miguel Estremera, Evelyn Girifalco, Joanne Handschiegl, Judy Jung, Enrico Langton, Marilyn Linares, Debbie Mangal, Emil Pelech, Louis Punjabhi, Nore Sadki, Kristen Squatrito, Mei Trang, Theresa Wallace, Barry Wilber, Colleen Zima, Joseph Buccheri, Jennifer Cloninger, Phylicia Gosciminski, Ming Huynh, Tayana Jeannite, Karen Mancuso, May Roberson, Adil Sahoo, Constance Sloan, Roger Walker, Hang Wolk, Jason Woodson, Michelle Carter, Travis Ozark, Sharlene Terry, Jackie Valentin, Noah Villanueva, Susan Exantus, Adell Saada, Andrew Szabo, Mia Brown, William LaRotonda, Sean Quinn, Taisha Goble, Thomas Murray, Jason Salter, Julia Zhou, Jason Foss, Simon Roup, Ricardo Ruiz, Julia Soto, Alejandro Bacong, Anthony Cisco, Tanya Morway, Claudia Carr, Jonathan Hogland, Linda Anderson, Sam Athwal, Linda Bachiochi, Nader Barton, Beatrice Chace, James DeGweck, Violeta Ferreira, Kara Harrison, George Johnson, Samuel MacLennan, Lauren Mahoney, Dawn Motlagh, Shari Ngodup, Lei-Ming Nguyen, Kayla Peterson, Hong Pham, Janine Purinton, Barbara Stanford, Desiree Tavares, Sophia Theamstern, Theresa Tinto, Abdellah Veera, Scott Whittier, Catherine Ybarra, Kimberly Beak, Joelle Burke, Benjamin Burkett, Phil Close, Tanya Foreman, Earnest Hankard, Julissa Hunts, Lindsey Langford, Susan Lundy, Robyn Manchester, Ned Miller, Kristie Nowlan, Peter Robertson, Alfred Digitale, Maruk Fraval, Whitney Gill, Myriam Givens, Jeremy Prater, Howard Mullaney, Michael Riordan, Lynn Daneault, John Smith, Colby Andreola, Alex Sweetwater\"]"
      ]
     },
     "execution_count": 11,
     "metadata": {},
     "output_type": "execute_result"
    }
   ],
   "source": [
    "conv.say(\"show me all hired employees\")"
   ]
  },
  {
   "cell_type": "code",
   "execution_count": 12,
   "metadata": {},
   "outputs": [
    {
     "data": {
      "text/plain": [
       "\"No such employees found. To get all employees you can say 'show all hired employees'.\""
      ]
     },
     "execution_count": 12,
     "metadata": {},
     "output_type": "execute_result"
    }
   ],
   "source": [
    "\"No such employees found. To get all employees you can say 'show all hired employees'.\""
   ]
  },
  {
   "cell_type": "code",
   "execution_count": 13,
   "metadata": {},
   "outputs": [
    {
     "data": {
      "text/plain": [
       "\"I'm not sure about that. You can filter on our 300 employees with functions like average, sum\""
      ]
     },
     "execution_count": 13,
     "metadata": {},
     "output_type": "execute_result"
    }
   ],
   "source": [
    "\"I'm not sure about that. You can filter on our 300 employees with functions like average, sum\""
   ]
  },
  {
   "cell_type": "code",
   "execution_count": 14,
   "metadata": {},
   "outputs": [
    {
     "data": {
      "text/plain": [
       "{'text': 'is julia a non citizen',\n",
       " 'domain': 'general',\n",
       " 'intent': 'get_info',\n",
       " 'entities': [{'text': 'non citizen',\n",
       "   'type': 'citizendesc',\n",
       "   'role': None,\n",
       "   'value': [{'cname': 'non citizen',\n",
       "     'score': 42.388992,\n",
       "     'top_synonym': 'non citizen'},\n",
       "    {'cname': 'non-citizen', 'score': 30.349262, 'top_synonym': 'non-citizen'},\n",
       "    {'cname': 'eligible noncitizen',\n",
       "     'score': 17.934347,\n",
       "     'top_synonym': 'non citizen'},\n",
       "    {'cname': 'us citizen', 'score': 0.8712451, 'top_synonym': 'citizen'}],\n",
       "   'span': {'start': 11, 'end': 21}}]}"
      ]
     },
     "execution_count": 14,
     "metadata": {},
     "output_type": "execute_result"
    }
   ],
   "source": [
    "nlp.process(\"is julia a non citizen\")"
   ]
  },
  {
   "cell_type": "code",
   "execution_count": null,
   "metadata": {},
   "outputs": [],
   "source": []
  },
  {
   "cell_type": "code",
   "execution_count": 15,
   "metadata": {},
   "outputs": [
    {
     "data": {
      "text/plain": [
       "['Looks like that person does not work in this organisation.']"
      ]
     },
     "execution_count": 15,
     "metadata": {},
     "output_type": "execute_result"
    }
   ],
   "source": [
    "conv.say(\"gender of tommy\")"
   ]
  },
  {
   "cell_type": "code",
   "execution_count": 16,
   "metadata": {},
   "outputs": [
    {
     "data": {
      "text/plain": [
       "['Taylor Sparks is Female']"
      ]
     },
     "execution_count": 16,
     "metadata": {},
     "output_type": "execute_result"
    }
   ],
   "source": [
    "conv.say(\"taylor is female or male?\")"
   ]
  },
  {
   "cell_type": "code",
   "execution_count": 17,
   "metadata": {},
   "outputs": [
    {
     "data": {
      "text/plain": [
       "{'text': 'is jack married',\n",
       " 'domain': 'general',\n",
       " 'intent': 'get_info',\n",
       " 'entities': [{'text': 'jack',\n",
       "   'type': 'name',\n",
       "   'role': None,\n",
       "   'value': [{'cname': '', 'score': 103.390656, 'top_synonym': 'Jack'},\n",
       "    {'cname': 'Jackie Valentin', 'score': 13.956069, 'top_synonym': 'Jackie'},\n",
       "    {'cname': 'Hannah Jacobi', 'score': 12.1938715, 'top_synonym': 'Jacobi'},\n",
       "    {'cname': 'Jacquelyn Williams',\n",
       "     'score': 12.005531,\n",
       "     'top_synonym': 'Jacquelyn'},\n",
       "    {'cname': 'Maryellen Jackson',\n",
       "     'score': 11.934839,\n",
       "     'top_synonym': 'Jackson'},\n",
       "    {'cname': 'Jac McKinzie', 'score': 9.962875, 'top_synonym': 'Jac'}],\n",
       "   'span': {'start': 3, 'end': 6}},\n",
       "  {'text': 'married',\n",
       "   'type': 'maritaldesc',\n",
       "   'role': None,\n",
       "   'value': [{'cname': 'married',\n",
       "     'score': 35.902374,\n",
       "     'top_synonym': 'married'},\n",
       "    {'cname': 'single', 'score': 2.8028467, 'top_synonym': 'unmarried'}],\n",
       "   'span': {'start': 8, 'end': 14}}]}"
      ]
     },
     "execution_count": 17,
     "metadata": {},
     "output_type": "execute_result"
    }
   ],
   "source": [
    "nlp.process(\"is jack married\")"
   ]
  },
  {
   "cell_type": "code",
   "execution_count": 18,
   "metadata": {},
   "outputs": [],
   "source": [
    "#nlp.process(\"what is max's position\")"
   ]
  },
  {
   "cell_type": "code",
   "execution_count": 19,
   "metadata": {},
   "outputs": [
    {
     "data": {
      "text/plain": [
       "['the average yearly salary, based on your criteria, is $55910.4']"
      ]
     },
     "execution_count": 19,
     "metadata": {},
     "output_type": "execute_result"
    }
   ],
   "source": [
    "conv.say(\"average yearly salary of married sales female employees\")"
   ]
  },
  {
   "cell_type": "code",
   "execution_count": 20,
   "metadata": {},
   "outputs": [
    {
     "data": {
      "text/plain": [
       "['Based on your criteria, the average salary is $29.12']"
      ]
     },
     "execution_count": 20,
     "metadata": {},
     "output_type": "execute_result"
    }
   ],
   "source": [
    "conv.say(\"average salary of females in the org\")"
   ]
  },
  {
   "cell_type": "code",
   "execution_count": 21,
   "metadata": {},
   "outputs": [
    {
     "data": {
      "text/plain": [
       "['What would you like to know about Daniel Davis?', 'Listening...']"
      ]
     },
     "execution_count": 21,
     "metadata": {},
     "output_type": "execute_result"
    }
   ],
   "source": [
    "conv.say(\"Can you tell me about daniel?\")"
   ]
  },
  {
   "cell_type": "code",
   "execution_count": 22,
   "metadata": {},
   "outputs": [
    {
     "data": {
      "text/plain": [
       "['Looks like that person does not work in this organisation.']"
      ]
     },
     "execution_count": 22,
     "metadata": {},
     "output_type": "execute_result"
    }
   ],
   "source": [
    "conv.say(\"what's his race\")"
   ]
  },
  {
   "cell_type": "code",
   "execution_count": 23,
   "metadata": {},
   "outputs": [
    {
     "data": {
      "text/plain": [
       "[\"Brandon R. LeBlanc is Mia Brown's manager\",\n",
       " \"Simon Roup is Julia Zhou's manager\"]"
      ]
     },
     "execution_count": 23,
     "metadata": {},
     "output_type": "execute_result"
    }
   ],
   "source": [
    "conv.say(\"is mia's manager julia?\")"
   ]
  },
  {
   "cell_type": "code",
   "execution_count": 24,
   "metadata": {},
   "outputs": [
    {
     "data": {
      "text/plain": [
       "['Here is the employee you are looking for: Rosalie Hutter']"
      ]
     },
     "execution_count": 24,
     "metadata": {},
     "output_type": "execute_result"
    }
   ],
   "source": [
    "conv.say(\"youngest employee\")"
   ]
  },
  {
   "cell_type": "code",
   "execution_count": 25,
   "metadata": {},
   "outputs": [
    {
     "data": {
      "text/plain": [
       "['The percentage of employees is 29.0']"
      ]
     },
     "execution_count": 25,
     "metadata": {},
     "output_type": "execute_result"
    }
   ],
   "source": [
    "conv.say(\"percent of employees earning less than 20\")"
   ]
  },
  {
   "cell_type": "code",
   "execution_count": 26,
   "metadata": {},
   "outputs": [
    {
     "data": {
      "text/plain": [
       "[\"Hmmm, I don't quite understand, you can ask me something like 'is there anyone older than 67 of age'\",\n",
       " 'Listening...']"
      ]
     },
     "execution_count": 26,
     "metadata": {},
     "output_type": "execute_result"
    }
   ],
   "source": [
    "conv.say(\"is tomato a fruit?\")"
   ]
  },
  {
   "cell_type": "code",
   "execution_count": 27,
   "metadata": {},
   "outputs": [
    {
     "data": {
      "text/plain": [
       "[\"Here are some employees that match your criteria: Lindsay Lynch, Lynn O'hare, Dheepa Nguyen, Leonara Lindsay, Francesco Barone, Daniel Davis, Gerry Friedman, Mike Guilianno, Jac McKinzie, Jacquelyn Williams, Evelyn Girifalco, Karen Mancuso, Jackie Valentin, Ricardo Ruiz, Linda Bachiochi, Barbara Stanford, Desiree Tavares, Howard Mullaney\"]"
      ]
     },
     "execution_count": 27,
     "metadata": {},
     "output_type": "execute_result"
    }
   ],
   "source": [
    "conv.say(\"are there any mixed race employees\")"
   ]
  },
  {
   "cell_type": "code",
   "execution_count": 28,
   "metadata": {},
   "outputs": [
    {
     "data": {
      "text/plain": [
       "['Based on your criteria, the average salary is $0']"
      ]
     },
     "execution_count": 28,
     "metadata": {},
     "output_type": "execute_result"
    }
   ],
   "source": [
    "conv.say(\"give me the average salary of employees who are 30 years of age but hired after 2008\")"
   ]
  },
  {
   "cell_type": "code",
   "execution_count": 29,
   "metadata": {},
   "outputs": [],
   "source": [
    "# nlp.inspect(\"what percentage of employees were hired post 2012\", domain='date')"
   ]
  },
  {
   "cell_type": "code",
   "execution_count": 30,
   "metadata": {},
   "outputs": [
    {
     "data": {
      "text/plain": [
       "['The percentage is 0']"
      ]
     },
     "execution_count": 30,
     "metadata": {},
     "output_type": "execute_result"
    }
   ],
   "source": [
    "conv.say(\"what percentage of employees were hired in this year\")"
   ]
  },
  {
   "cell_type": "code",
   "execution_count": 31,
   "metadata": {},
   "outputs": [
    {
     "data": {
      "text/plain": [
       "['Here are some employees that match your criteria: Edward True, Mike Guilianno, Charles Bozzi, Miguel Estremera, Ned Miller']"
      ]
     },
     "execution_count": 31,
     "metadata": {},
     "output_type": "execute_result"
    }
   ],
   "source": [
    "conv.say(\"males fired in 2014\")"
   ]
  },
  {
   "cell_type": "code",
   "execution_count": 32,
   "metadata": {},
   "outputs": [
    {
     "name": "stdout",
     "output_type": "stream",
     "text": [
      "Inspecting domain classification\n",
      "                                                                                              Feature  \\\n",
      "bag_of_words|edge:left|length:1|ngram:give                 bag_of_words|edge:left|length:1|ngram:give   \n",
      "bag_of_words|edge:left|length:2|ngram:give me           bag_of_words|edge:left|length:2|ngram:give me   \n",
      "bag_of_words|edge:right|length:1|ngram:#NUM               bag_of_words|edge:right|length:1|ngram:#NUM   \n",
      "bag_of_words|edge:right|length:2|ngram:after #NUM   bag_of_words|edge:right|length:2|ngram:after #NUM   \n",
      "bag_of_words|length:1|ngram:#NUM                                     bag_of_words|length:1|ngram:#NUM   \n",
      "bag_of_words|length:1|ngram:after                                   bag_of_words|length:1|ngram:after   \n",
      "bag_of_words|length:1|ngram:age                                       bag_of_words|length:1|ngram:age   \n",
      "bag_of_words|length:1|ngram:are                                       bag_of_words|length:1|ngram:are   \n",
      "bag_of_words|length:1|ngram:average                               bag_of_words|length:1|ngram:average   \n",
      "bag_of_words|length:1|ngram:but                                       bag_of_words|length:1|ngram:but   \n",
      "bag_of_words|length:1|ngram:employees                           bag_of_words|length:1|ngram:employees   \n",
      "bag_of_words|length:1|ngram:give                                     bag_of_words|length:1|ngram:give   \n",
      "bag_of_words|length:1|ngram:hired                                   bag_of_words|length:1|ngram:hired   \n",
      "bag_of_words|length:1|ngram:me                                         bag_of_words|length:1|ngram:me   \n",
      "bag_of_words|length:1|ngram:of                                         bag_of_words|length:1|ngram:of   \n",
      "bag_of_words|length:1|ngram:salary                                 bag_of_words|length:1|ngram:salary   \n",
      "bag_of_words|length:1|ngram:the                                       bag_of_words|length:1|ngram:the   \n",
      "bag_of_words|length:1|ngram:who                                       bag_of_words|length:1|ngram:who   \n",
      "bag_of_words|length:1|ngram:years                                   bag_of_words|length:1|ngram:years   \n",
      "bag_of_words|length:2|ngram:#NUM years                         bag_of_words|length:2|ngram:#NUM years   \n",
      "bag_of_words|length:2|ngram:after #NUM                         bag_of_words|length:2|ngram:after #NUM   \n",
      "bag_of_words|length:2|ngram:are #NUM                             bag_of_words|length:2|ngram:are #NUM   \n",
      "bag_of_words|length:2|ngram:average salary                 bag_of_words|length:2|ngram:average salary   \n",
      "bag_of_words|length:2|ngram:employees who                   bag_of_words|length:2|ngram:employees who   \n",
      "bag_of_words|length:2|ngram:give me                               bag_of_words|length:2|ngram:give me   \n",
      "bag_of_words|length:2|ngram:hired after                       bag_of_words|length:2|ngram:hired after   \n",
      "bag_of_words|length:2|ngram:me the                                 bag_of_words|length:2|ngram:me the   \n",
      "bag_of_words|length:2|ngram:of age                                 bag_of_words|length:2|ngram:of age   \n",
      "bag_of_words|length:2|ngram:of employees                     bag_of_words|length:2|ngram:of employees   \n",
      "bag_of_words|length:2|ngram:salary of                           bag_of_words|length:2|ngram:salary of   \n",
      "...                                                                                               ...   \n",
      "in_gaz|type:state|ratio                                                       in_gaz|type:state|ratio   \n",
      "in_gaz|type:state|ratio_pop                                               in_gaz|type:state|ratio_pop   \n",
      "in_gaz|type:time_interval|gaz_freq_bin:0                     in_gaz|type:time_interval|gaz_freq_bin:0   \n",
      "in_gaz|type:time_recur|gaz_freq_bin:1                           in_gaz|type:time_recur|gaz_freq_bin:1   \n",
      "in_vocab:IV|freq_bin:0                                                         in_vocab:IV|freq_bin:0   \n",
      "in_vocab:IV|freq_bin:1                                                         in_vocab:IV|freq_bin:1   \n",
      "in_vocab:IV|freq_bin:2                                                         in_vocab:IV|freq_bin:2   \n",
      "in_vocab:IV|freq_bin:4                                                         in_vocab:IV|freq_bin:4   \n",
      "in_vocab:IV|freq_bin:5                                                         in_vocab:IV|freq_bin:5   \n",
      "in_vocab:IV|in_gaz|type:age|gaz_freq_bin:0                 in_vocab:IV|in_gaz|type:age|gaz_freq_bin:0   \n",
      "in_vocab:IV|in_gaz|type:citizendesc|gaz_freq_bin:0  in_vocab:IV|in_gaz|type:citizendesc|gaz_freq_b...   \n",
      "in_vocab:IV|in_gaz|type:citizendesc|gaz_freq_bin:1  in_vocab:IV|in_gaz|type:citizendesc|gaz_freq_b...   \n",
      "in_vocab:IV|in_gaz|type:date_compare|gaz_freq_b...  in_vocab:IV|in_gaz|type:date_compare|gaz_freq_...   \n",
      "in_vocab:IV|in_gaz|type:department|gaz_freq_bin:0   in_vocab:IV|in_gaz|type:department|gaz_freq_bin:0   \n",
      "in_vocab:IV|in_gaz|type:dob|gaz_freq_bin:0                 in_vocab:IV|in_gaz|type:dob|gaz_freq_bin:0   \n",
      "in_vocab:IV|in_gaz|type:employee_source|gaz_fre...  in_vocab:IV|in_gaz|type:employee_source|gaz_fr...   \n",
      "in_vocab:IV|in_gaz|type:employment_action|gaz_f...  in_vocab:IV|in_gaz|type:employment_action|gaz_...   \n",
      "in_vocab:IV|in_gaz|type:employment_action|gaz_f...  in_vocab:IV|in_gaz|type:employment_action|gaz_...   \n",
      "in_vocab:IV|in_gaz|type:employment_status|gaz_f...  in_vocab:IV|in_gaz|type:employment_status|gaz_...   \n",
      "in_vocab:IV|in_gaz|type:function|gaz_freq_bin:0       in_vocab:IV|in_gaz|type:function|gaz_freq_bin:0   \n",
      "in_vocab:IV|in_gaz|type:manager|gaz_freq_bin:0         in_vocab:IV|in_gaz|type:manager|gaz_freq_bin:0   \n",
      "in_vocab:IV|in_gaz|type:money|gaz_freq_bin:0             in_vocab:IV|in_gaz|type:money|gaz_freq_bin:0   \n",
      "in_vocab:IV|in_gaz|type:performance_score|gaz_f...  in_vocab:IV|in_gaz|type:performance_score|gaz_...   \n",
      "in_vocab:IV|in_gaz|type:position|gaz_freq_bin:0       in_vocab:IV|in_gaz|type:position|gaz_freq_bin:0   \n",
      "in_vocab:IV|in_gaz|type:reason_for_termination|...  in_vocab:IV|in_gaz|type:reason_for_termination...   \n",
      "in_vocab:IV|in_gaz|type:reason_for_termination|...  in_vocab:IV|in_gaz|type:reason_for_termination...   \n",
      "in_vocab:IV|in_gaz|type:state|gaz_freq_bin:0             in_vocab:IV|in_gaz|type:state|gaz_freq_bin:0   \n",
      "in_vocab:IV|in_gaz|type:time_recur|gaz_freq_bin:1   in_vocab:IV|in_gaz|type:time_recur|gaz_freq_bin:1   \n",
      "in_vocab:OOV|in_gaz|type:age|gaz_freq_bin:0               in_vocab:OOV|in_gaz|type:age|gaz_freq_bin:0   \n",
      "in_vocab:OOV|in_gaz|type:time_interval|gaz_freq...  in_vocab:OOV|in_gaz|type:time_interval|gaz_fre...   \n",
      "\n",
      "                                                     Value Pred_W(salary)  \\\n",
      "bag_of_words|edge:left|length:1|ngram:give               1        [0.249]   \n",
      "bag_of_words|edge:left|length:2|ngram:give me            1        [0.445]   \n",
      "bag_of_words|edge:right|length:1|ngram:#NUM              1      [-0.5362]   \n",
      "bag_of_words|edge:right|length:2|ngram:after #NUM        1      [-0.1882]   \n",
      "bag_of_words|length:1|ngram:#NUM                         2       [0.0701]   \n",
      "bag_of_words|length:1|ngram:after                        1      [-0.0568]   \n",
      "bag_of_words|length:1|ngram:age                          1      [-0.4208]   \n",
      "bag_of_words|length:1|ngram:are                          1      [-0.3078]   \n",
      "bag_of_words|length:1|ngram:average                      1       [0.8315]   \n",
      "bag_of_words|length:1|ngram:but                          1       [0.0972]   \n",
      "bag_of_words|length:1|ngram:employees                    1       [0.7342]   \n",
      "bag_of_words|length:1|ngram:give                         1       [0.2471]   \n",
      "bag_of_words|length:1|ngram:hired                        1      [-0.0631]   \n",
      "bag_of_words|length:1|ngram:me                           1       [0.0627]   \n",
      "bag_of_words|length:1|ngram:of                           2      [-0.3957]   \n",
      "bag_of_words|length:1|ngram:salary                       1       [0.8353]   \n",
      "bag_of_words|length:1|ngram:the                          1       [0.5664]   \n",
      "bag_of_words|length:1|ngram:who                          1      [-0.3578]   \n",
      "bag_of_words|length:1|ngram:years                        1      [-0.0767]   \n",
      "bag_of_words|length:2|ngram:#NUM years                   1       [0.2999]   \n",
      "bag_of_words|length:2|ngram:after #NUM                   1       [0.0012]   \n",
      "bag_of_words|length:2|ngram:are #NUM                     1      [-0.0038]   \n",
      "bag_of_words|length:2|ngram:average salary               1       [0.0642]   \n",
      "bag_of_words|length:2|ngram:employees who                1       [0.1493]   \n",
      "bag_of_words|length:2|ngram:give me                      1       [0.4293]   \n",
      "bag_of_words|length:2|ngram:hired after                  1      [-0.1168]   \n",
      "bag_of_words|length:2|ngram:me the                       1       [1.0362]   \n",
      "bag_of_words|length:2|ngram:of age                       1      [-0.0138]   \n",
      "bag_of_words|length:2|ngram:of employees                 1      [-0.5884]   \n",
      "bag_of_words|length:2|ngram:salary of                    1       [0.3033]   \n",
      "...                                                    ...            ...   \n",
      "in_gaz|type:state|ratio                             0.0238      [-0.2105]   \n",
      "in_gaz|type:state|ratio_pop                         0.0238      [-0.2105]   \n",
      "in_gaz|type:time_interval|gaz_freq_bin:0            0.0588      [-0.1183]   \n",
      "in_gaz|type:time_recur|gaz_freq_bin:1               0.0588       [0.0662]   \n",
      "in_vocab:IV|freq_bin:0                              0.1366      [-0.4136]   \n",
      "in_vocab:IV|freq_bin:1                              0.1366      [-0.9651]   \n",
      "in_vocab:IV|freq_bin:2                              0.0588      [-0.5853]   \n",
      "in_vocab:IV|freq_bin:4                              0.1176      [-0.6404]   \n",
      "in_vocab:IV|freq_bin:5                              0.1521      [-0.8172]   \n",
      "in_vocab:IV|in_gaz|type:age|gaz_freq_bin:0          0.1366      [-0.1251]   \n",
      "in_vocab:IV|in_gaz|type:citizendesc|gaz_freq_bin:0  0.0588       [0.2027]   \n",
      "in_vocab:IV|in_gaz|type:citizendesc|gaz_freq_bin:1  0.0932       [0.2532]   \n",
      "in_vocab:IV|in_gaz|type:date_compare|gaz_freq_b...  0.0588      [-0.1495]   \n",
      "in_vocab:IV|in_gaz|type:department|gaz_freq_bin:0   0.0932       [-0.111]   \n",
      "in_vocab:IV|in_gaz|type:dob|gaz_freq_bin:0          0.1366       [0.0006]   \n",
      "in_vocab:IV|in_gaz|type:employee_source|gaz_fre...  0.0932       [0.1242]   \n",
      "in_vocab:IV|in_gaz|type:employment_action|gaz_f...  0.1176      [-0.6132]   \n",
      "in_vocab:IV|in_gaz|type:employment_action|gaz_f...  0.1176      [-0.1187]   \n",
      "in_vocab:IV|in_gaz|type:employment_status|gaz_f...  0.1176        [-0.23]   \n",
      "in_vocab:IV|in_gaz|type:function|gaz_freq_bin:0     0.1176       [0.1109]   \n",
      "in_vocab:IV|in_gaz|type:manager|gaz_freq_bin:0      0.0932      [-0.5575]   \n",
      "in_vocab:IV|in_gaz|type:money|gaz_freq_bin:0        0.0588       [0.3258]   \n",
      "in_vocab:IV|in_gaz|type:performance_score|gaz_f...  0.0588      [-0.0972]   \n",
      "in_vocab:IV|in_gaz|type:position|gaz_freq_bin:0     0.1176      [-0.2616]   \n",
      "in_vocab:IV|in_gaz|type:reason_for_termination|...  0.0932       [-0.769]   \n",
      "in_vocab:IV|in_gaz|type:reason_for_termination|...  0.0588      [-0.3779]   \n",
      "in_vocab:IV|in_gaz|type:state|gaz_freq_bin:0        0.1176      [-0.3568]   \n",
      "in_vocab:IV|in_gaz|type:time_recur|gaz_freq_bin:1   0.0588       [0.0662]   \n",
      "in_vocab:OOV|in_gaz|type:age|gaz_freq_bin:0         0.0588       [0.0181]   \n",
      "in_vocab:OOV|in_gaz|type:time_interval|gaz_freq...  0.0588      [-0.0417]   \n",
      "\n",
      "                                                       Pred_P Gold_W(salary)  \\\n",
      "bag_of_words|edge:left|length:1|ngram:give            [0.249]        [0.249]   \n",
      "bag_of_words|edge:left|length:2|ngram:give me         [0.445]        [0.445]   \n",
      "bag_of_words|edge:right|length:1|ngram:#NUM         [-0.5362]      [-0.5362]   \n",
      "bag_of_words|edge:right|length:2|ngram:after #NUM   [-0.1882]      [-0.1882]   \n",
      "bag_of_words|length:1|ngram:#NUM                     [0.1403]       [0.0701]   \n",
      "bag_of_words|length:1|ngram:after                   [-0.0568]      [-0.0568]   \n",
      "bag_of_words|length:1|ngram:age                     [-0.4208]      [-0.4208]   \n",
      "bag_of_words|length:1|ngram:are                     [-0.3078]      [-0.3078]   \n",
      "bag_of_words|length:1|ngram:average                  [0.8315]       [0.8315]   \n",
      "bag_of_words|length:1|ngram:but                      [0.0972]       [0.0972]   \n",
      "bag_of_words|length:1|ngram:employees                [0.7342]       [0.7342]   \n",
      "bag_of_words|length:1|ngram:give                     [0.2471]       [0.2471]   \n",
      "bag_of_words|length:1|ngram:hired                   [-0.0631]      [-0.0631]   \n",
      "bag_of_words|length:1|ngram:me                       [0.0627]       [0.0627]   \n",
      "bag_of_words|length:1|ngram:of                      [-0.7915]      [-0.3957]   \n",
      "bag_of_words|length:1|ngram:salary                   [0.8353]       [0.8353]   \n",
      "bag_of_words|length:1|ngram:the                      [0.5664]       [0.5664]   \n",
      "bag_of_words|length:1|ngram:who                     [-0.3578]      [-0.3578]   \n",
      "bag_of_words|length:1|ngram:years                   [-0.0767]      [-0.0767]   \n",
      "bag_of_words|length:2|ngram:#NUM years               [0.2999]       [0.2999]   \n",
      "bag_of_words|length:2|ngram:after #NUM               [0.0012]       [0.0012]   \n",
      "bag_of_words|length:2|ngram:are #NUM                [-0.0038]      [-0.0038]   \n",
      "bag_of_words|length:2|ngram:average salary           [0.0642]       [0.0642]   \n",
      "bag_of_words|length:2|ngram:employees who            [0.1493]       [0.1493]   \n",
      "bag_of_words|length:2|ngram:give me                  [0.4293]       [0.4293]   \n",
      "bag_of_words|length:2|ngram:hired after             [-0.1168]      [-0.1168]   \n",
      "bag_of_words|length:2|ngram:me the                   [1.0362]       [1.0362]   \n",
      "bag_of_words|length:2|ngram:of age                  [-0.0138]      [-0.0138]   \n",
      "bag_of_words|length:2|ngram:of employees            [-0.5884]      [-0.5884]   \n",
      "bag_of_words|length:2|ngram:salary of                [0.3033]       [0.3033]   \n",
      "...                                                       ...            ...   \n",
      "in_gaz|type:state|ratio                              [-0.005]      [-0.2105]   \n",
      "in_gaz|type:state|ratio_pop                          [-0.005]      [-0.2105]   \n",
      "in_gaz|type:time_interval|gaz_freq_bin:0             [-0.007]      [-0.1183]   \n",
      "in_gaz|type:time_recur|gaz_freq_bin:1                [0.0039]       [0.0662]   \n",
      "in_vocab:IV|freq_bin:0                              [-0.0565]      [-0.4136]   \n",
      "in_vocab:IV|freq_bin:1                              [-0.1318]      [-0.9651]   \n",
      "in_vocab:IV|freq_bin:2                              [-0.0344]      [-0.5853]   \n",
      "in_vocab:IV|freq_bin:4                              [-0.0753]      [-0.6404]   \n",
      "in_vocab:IV|freq_bin:5                              [-0.1243]      [-0.8172]   \n",
      "in_vocab:IV|in_gaz|type:age|gaz_freq_bin:0          [-0.0171]      [-0.1251]   \n",
      "in_vocab:IV|in_gaz|type:citizendesc|gaz_freq_bin:0   [0.0119]       [0.2027]   \n",
      "in_vocab:IV|in_gaz|type:citizendesc|gaz_freq_bin:1   [0.0236]       [0.2532]   \n",
      "in_vocab:IV|in_gaz|type:date_compare|gaz_freq_b...  [-0.0088]      [-0.1495]   \n",
      "in_vocab:IV|in_gaz|type:department|gaz_freq_bin:0   [-0.0103]       [-0.111]   \n",
      "in_vocab:IV|in_gaz|type:dob|gaz_freq_bin:0           [0.0001]       [0.0006]   \n",
      "in_vocab:IV|in_gaz|type:employee_source|gaz_fre...   [0.0116]       [0.1242]   \n",
      "in_vocab:IV|in_gaz|type:employment_action|gaz_f...  [-0.0721]      [-0.6132]   \n",
      "in_vocab:IV|in_gaz|type:employment_action|gaz_f...   [-0.014]      [-0.1187]   \n",
      "in_vocab:IV|in_gaz|type:employment_status|gaz_f...  [-0.0271]        [-0.23]   \n",
      "in_vocab:IV|in_gaz|type:function|gaz_freq_bin:0       [0.013]       [0.1109]   \n",
      "in_vocab:IV|in_gaz|type:manager|gaz_freq_bin:0       [-0.052]      [-0.5575]   \n",
      "in_vocab:IV|in_gaz|type:money|gaz_freq_bin:0         [0.0192]       [0.3258]   \n",
      "in_vocab:IV|in_gaz|type:performance_score|gaz_f...  [-0.0057]      [-0.0972]   \n",
      "in_vocab:IV|in_gaz|type:position|gaz_freq_bin:0     [-0.0308]      [-0.2616]   \n",
      "in_vocab:IV|in_gaz|type:reason_for_termination|...  [-0.0717]       [-0.769]   \n",
      "in_vocab:IV|in_gaz|type:reason_for_termination|...  [-0.0222]      [-0.3779]   \n",
      "in_vocab:IV|in_gaz|type:state|gaz_freq_bin:0         [-0.042]      [-0.3568]   \n",
      "in_vocab:IV|in_gaz|type:time_recur|gaz_freq_bin:1    [0.0039]       [0.0662]   \n",
      "in_vocab:OOV|in_gaz|type:age|gaz_freq_bin:0          [0.0011]       [0.0181]   \n",
      "in_vocab:OOV|in_gaz|type:time_interval|gaz_freq...  [-0.0025]      [-0.0417]   \n",
      "\n",
      "                                                       Gold_P   Diff  \n",
      "bag_of_words|edge:left|length:1|ngram:give            [0.249]  [0.0]  \n",
      "bag_of_words|edge:left|length:2|ngram:give me         [0.445]  [0.0]  \n",
      "bag_of_words|edge:right|length:1|ngram:#NUM         [-0.5362]  [0.0]  \n",
      "bag_of_words|edge:right|length:2|ngram:after #NUM   [-0.1882]  [0.0]  \n",
      "bag_of_words|length:1|ngram:#NUM                     [0.1403]  [0.0]  \n",
      "bag_of_words|length:1|ngram:after                   [-0.0568]  [0.0]  \n",
      "bag_of_words|length:1|ngram:age                     [-0.4208]  [0.0]  \n",
      "bag_of_words|length:1|ngram:are                     [-0.3078]  [0.0]  \n",
      "bag_of_words|length:1|ngram:average                  [0.8315]  [0.0]  \n",
      "bag_of_words|length:1|ngram:but                      [0.0972]  [0.0]  \n",
      "bag_of_words|length:1|ngram:employees                [0.7342]  [0.0]  \n",
      "bag_of_words|length:1|ngram:give                     [0.2471]  [0.0]  \n",
      "bag_of_words|length:1|ngram:hired                   [-0.0631]  [0.0]  \n",
      "bag_of_words|length:1|ngram:me                       [0.0627]  [0.0]  \n",
      "bag_of_words|length:1|ngram:of                      [-0.7915]  [0.0]  \n",
      "bag_of_words|length:1|ngram:salary                   [0.8353]  [0.0]  \n",
      "bag_of_words|length:1|ngram:the                      [0.5664]  [0.0]  \n",
      "bag_of_words|length:1|ngram:who                     [-0.3578]  [0.0]  \n",
      "bag_of_words|length:1|ngram:years                   [-0.0767]  [0.0]  \n",
      "bag_of_words|length:2|ngram:#NUM years               [0.2999]  [0.0]  \n",
      "bag_of_words|length:2|ngram:after #NUM               [0.0012]  [0.0]  \n",
      "bag_of_words|length:2|ngram:are #NUM                [-0.0038]  [0.0]  \n",
      "bag_of_words|length:2|ngram:average salary           [0.0642]  [0.0]  \n",
      "bag_of_words|length:2|ngram:employees who            [0.1493]  [0.0]  \n",
      "bag_of_words|length:2|ngram:give me                  [0.4293]  [0.0]  \n",
      "bag_of_words|length:2|ngram:hired after             [-0.1168]  [0.0]  \n",
      "bag_of_words|length:2|ngram:me the                   [1.0362]  [0.0]  \n",
      "bag_of_words|length:2|ngram:of age                  [-0.0138]  [0.0]  \n",
      "bag_of_words|length:2|ngram:of employees            [-0.5884]  [0.0]  \n",
      "bag_of_words|length:2|ngram:salary of                [0.3033]  [0.0]  \n",
      "...                                                       ...    ...  \n",
      "in_gaz|type:state|ratio                              [-0.005]  [0.0]  \n",
      "in_gaz|type:state|ratio_pop                          [-0.005]  [0.0]  \n",
      "in_gaz|type:time_interval|gaz_freq_bin:0             [-0.007]  [0.0]  \n",
      "in_gaz|type:time_recur|gaz_freq_bin:1                [0.0039]  [0.0]  \n",
      "in_vocab:IV|freq_bin:0                              [-0.0565]  [0.0]  \n",
      "in_vocab:IV|freq_bin:1                              [-0.1318]  [0.0]  \n",
      "in_vocab:IV|freq_bin:2                              [-0.0344]  [0.0]  \n",
      "in_vocab:IV|freq_bin:4                              [-0.0753]  [0.0]  \n",
      "in_vocab:IV|freq_bin:5                              [-0.1243]  [0.0]  \n",
      "in_vocab:IV|in_gaz|type:age|gaz_freq_bin:0          [-0.0171]  [0.0]  \n",
      "in_vocab:IV|in_gaz|type:citizendesc|gaz_freq_bin:0   [0.0119]  [0.0]  \n",
      "in_vocab:IV|in_gaz|type:citizendesc|gaz_freq_bin:1   [0.0236]  [0.0]  \n",
      "in_vocab:IV|in_gaz|type:date_compare|gaz_freq_b...  [-0.0088]  [0.0]  \n",
      "in_vocab:IV|in_gaz|type:department|gaz_freq_bin:0   [-0.0103]  [0.0]  \n",
      "in_vocab:IV|in_gaz|type:dob|gaz_freq_bin:0           [0.0001]  [0.0]  \n",
      "in_vocab:IV|in_gaz|type:employee_source|gaz_fre...   [0.0116]  [0.0]  \n",
      "in_vocab:IV|in_gaz|type:employment_action|gaz_f...  [-0.0721]  [0.0]  \n",
      "in_vocab:IV|in_gaz|type:employment_action|gaz_f...   [-0.014]  [0.0]  \n",
      "in_vocab:IV|in_gaz|type:employment_status|gaz_f...  [-0.0271]  [0.0]  \n",
      "in_vocab:IV|in_gaz|type:function|gaz_freq_bin:0       [0.013]  [0.0]  \n",
      "in_vocab:IV|in_gaz|type:manager|gaz_freq_bin:0       [-0.052]  [0.0]  \n",
      "in_vocab:IV|in_gaz|type:money|gaz_freq_bin:0         [0.0192]  [0.0]  \n",
      "in_vocab:IV|in_gaz|type:performance_score|gaz_f...  [-0.0057]  [0.0]  \n",
      "in_vocab:IV|in_gaz|type:position|gaz_freq_bin:0     [-0.0308]  [0.0]  \n",
      "in_vocab:IV|in_gaz|type:reason_for_termination|...  [-0.0717]  [0.0]  \n",
      "in_vocab:IV|in_gaz|type:reason_for_termination|...  [-0.0222]  [0.0]  \n",
      "in_vocab:IV|in_gaz|type:state|gaz_freq_bin:0         [-0.042]  [0.0]  \n",
      "in_vocab:IV|in_gaz|type:time_recur|gaz_freq_bin:1    [0.0039]  [0.0]  \n",
      "in_vocab:OOV|in_gaz|type:age|gaz_freq_bin:0          [0.0011]  [0.0]  \n",
      "in_vocab:OOV|in_gaz|type:time_interval|gaz_freq...  [-0.0025]  [0.0]  \n",
      "\n",
      "[104 rows x 7 columns]\n",
      "\n"
     ]
    }
   ],
   "source": [
    "nlp.inspect(\"give me the average salary of employees who are 30 years of age but hired after 2008\", domain='salary')"
   ]
  },
  {
   "cell_type": "code",
   "execution_count": 33,
   "metadata": {},
   "outputs": [
    {
     "data": {
      "text/plain": [
       "[\"Here are some employees that match your criteria: Kramer Simard, Neville Tredinnick, Jumil Turpin, Jyoti Lajiri, Thomas Barbara, Alex Gilles, John Kretschmer, Sandy Mckenna, Haley Rivera, Kamrin Sander, Shana Petingill, Lenora Tejeda, Edward Buck, Leigh Smith, Amy Foster-Baker, Daniff Hernandez, Noelle Johnson, Thelma Petrowsky, Ivan Rogers, Peter Monroe, Linda Dolan, Anita Shepard, Walter Immediato, Ketsia Liebig, Kelley Spirea, Courtney Wallace, Rachael Baczenski, Elijian Clukey, Lisa Cornett, Jene'ya Darson, Carl Desimone, Marianne Eaton, Susan Ferguson, Libby Fidelia, Kathleen Kinsella, Allison Lydon, Horia Ndzi, Richard Newman, Alain Robinson, Cherly Robinson, Taylor Sparks, Timothy Sullivan, Megan Faller, Susan Good, Adrienne Homberger, Mohammed Latif, Mathew Linden, Lauren Peters, Jessica Bunbury, Ricardo Gonzales, Jac McKinzie, Xana Potts, Caitrin Strong, Estelle Howard, Randall Pearson, Lori Roby, Karthikeyan Ait Sidi, Trina Alagbe, Donna Brill, Nilson Fernandes, Mildred Gentry, David Gordon, Roxana Goyal, Ludwick Harrell, Alexandra Kirill, Shana Maurice, Adeel Osturnka, Nina Panjwani, Seffi Shields, Rick Stoica, Colleen Volk, Sarah Akinkuolie, Juan Gonzalez, Erasumus Monkfish, Brooke Oliver, Ermine Pelletier, Debra Houlihan, Brandon LeBlanc, Bonalyn Boutwell, Janet King, Ann Daniele, Jeremiah Semizoglou, Ebonee Peterson, Kissy Sullivan, Helen Billis, Lily DiNocco, Rex England, Joanne Handschiegl, Judy Jung, Enrico Langton, Marilyn Linares, Debbie Mangal, Barry Wilber, Jennifer Cloninger, Karen Mancuso, Adil Sahoo, Jackie Valentin, Susan Exantus, Adell Saada, Mia Brown, Sean Quinn, Julia Soto, Anthony Cisco, Tanya Morway, Jonathan Hogland, James DeGweck, Kara Harrison, George Johnson, Kayla Peterson, Hong Pham, Desiree Tavares, Kimberly Beak, Benjamin Burkett, Phil Close, Tanya Foreman, Robyn Manchester, Peter Robertson, Alfred Digitale, Jeremy Prater\"]"
      ]
     },
     "execution_count": 33,
     "metadata": {},
     "output_type": "execute_result"
    }
   ],
   "source": [
    "conv.say(\"show me all married employees\")"
   ]
  },
  {
   "cell_type": "code",
   "execution_count": 34,
   "metadata": {},
   "outputs": [
    {
     "data": {
      "text/plain": [
       "['Based on your criteria, the average salary is $29.12']"
      ]
     },
     "execution_count": 34,
     "metadata": {},
     "output_type": "execute_result"
    }
   ],
   "source": [
    "conv.say(\"what is the average salary for women?\")"
   ]
  },
  {
   "cell_type": "code",
   "execution_count": 35,
   "metadata": {},
   "outputs": [
    {
     "data": {
      "text/plain": [
       "['Based on your criteria, the average salary is $30.76']"
      ]
     },
     "execution_count": 35,
     "metadata": {},
     "output_type": "execute_result"
    }
   ],
   "source": [
    "conv.say(\"Please tell me the average salary for employees\")"
   ]
  },
  {
   "cell_type": "code",
   "execution_count": 36,
   "metadata": {},
   "outputs": [
    {
     "data": {
      "text/plain": [
       "['The percentage is 83.67']"
      ]
     },
     "execution_count": 36,
     "metadata": {},
     "output_type": "execute_result"
    }
   ],
   "source": [
    "conv.say(\"What percentage of employees were born post 1970\")"
   ]
  },
  {
   "cell_type": "code",
   "execution_count": 37,
   "metadata": {},
   "outputs": [
    {
     "data": {
      "text/plain": [
       "{'text': 'is there anyone older than 50 months of age',\n",
       " 'domain': 'general',\n",
       " 'intent': 'get_employees',\n",
       " 'entities': [{'text': 'older than',\n",
       "   'type': 'comparator',\n",
       "   'role': None,\n",
       "   'value': [{'cname': 'more than',\n",
       "     'score': 26.720318,\n",
       "     'top_synonym': 'older than'},\n",
       "    {'cname': 'less than', 'score': 4.95921, 'top_synonym': 'under'}],\n",
       "   'span': {'start': 16, 'end': 25}},\n",
       "  {'text': '50',\n",
       "   'type': 'sys_number',\n",
       "   'role': None,\n",
       "   'value': [{'value': 50}],\n",
       "   'span': {'start': 27, 'end': 28}},\n",
       "  {'text': 'months of age',\n",
       "   'type': 'age',\n",
       "   'role': None,\n",
       "   'value': [{'cname': 'age', 'score': 3.5178056, 'top_synonym': 'age of'}],\n",
       "   'span': {'start': 30, 'end': 42}}]}"
      ]
     },
     "execution_count": 37,
     "metadata": {},
     "output_type": "execute_result"
    }
   ],
   "source": [
    "nlp.process(\"is there anyone older than 50 months of age\")"
   ]
  },
  {
   "cell_type": "code",
   "execution_count": 38,
   "metadata": {},
   "outputs": [
    {
     "data": {
      "text/plain": [
       "[\"Hmmm, I don't quite understand, you can ask me something like 'what does Ivan make?'\",\n",
       " 'Listening...']"
      ]
     },
     "execution_count": 38,
     "metadata": {},
     "output_type": "execute_result"
    }
   ],
   "source": [
    "conv.say(\"trapped\")"
   ]
  },
  {
   "cell_type": "code",
   "execution_count": 39,
   "metadata": {},
   "outputs": [
    {
     "data": {
      "text/plain": [
       "[\"Hmmm, I don't quite understand, you can ask me something like 'what is the average salary for women?'\",\n",
       " 'Listening...']"
      ]
     },
     "execution_count": 39,
     "metadata": {},
     "output_type": "execute_result"
    }
   ],
   "source": [
    "conv.say('maybe')"
   ]
  },
  {
   "cell_type": "code",
   "execution_count": 40,
   "metadata": {},
   "outputs": [
    {
     "data": {
      "text/plain": [
       "[\"Hmmm, I don't quite understand, you can ask me something like 'show me all married employees'\",\n",
       " 'Listening...']"
      ]
     },
     "execution_count": 40,
     "metadata": {},
     "output_type": "execute_result"
    }
   ],
   "source": [
    "conv.say('yes')"
   ]
  },
  {
   "cell_type": "code",
   "execution_count": 41,
   "metadata": {},
   "outputs": [
    {
     "data": {
      "text/plain": [
       "[\"John Kretschmer's hourly salary is 21.0\"]"
      ]
     },
     "execution_count": 41,
     "metadata": {},
     "output_type": "execute_result"
    }
   ],
   "source": [
    "conv.say(\"is john's salary more than 6k\")"
   ]
  },
  {
   "cell_type": "code",
   "execution_count": 42,
   "metadata": {},
   "outputs": [
    {
     "data": {
      "text/plain": [
       "[\"Here are some employees that match your criteria: Nan Singh, Kramer Simard, Rick Clayton, Neville Tredinnick, Bianca Roehrich, Jyoti Lajiri, Sarah Warfield, Elisa Bramante, Wilson Adinolfi, Thomas Barbara, Lin Chan, Hamish Garneau, Alex Gilles, Cayo Gonzalez, Rose Ivey, John Kretschmer, Lindsay Lynch, Sandy Mckenna, Jennifer Medeiros, Lynn O'hare, Clinton Owad, Brad Pitt, Haley Rivera, Ashley Rose, Kamrin Sander, Sade Smith, Betsy Bondwell, Rosalie Hutter, Yen Johnston, Lisa Lunquist, Lenora Tejeda, Cybil Trzeciak, Edward Buck, Bartholemew Khemmich, Dheepa Nguyen, Donysha Kampew, Luke Patronick, Leigh Smith, Amy Foster-Baker, Daniff Hernandez, Noelle Johnson, Thelma Petrowsky, Ivan Rogers, Lisa Galia, Leonara Lindsay, Linda Dolan, Carlos Merlos, Anita Shepard, Donald Favis, Walter Immediato, Ketsia Liebig, Kelley Spirea, Courtney Wallace, Carol Anderson, Rachael Baczenski, Francesco Barone, Josephine Bugali, Donovan Chang, Enola Chivukula, Elijian Clukey, Spencer Cole, Lisa Cornett, Jean Crimmings, Jene'ya Darson, Carl Desimone, Marianne Eaton, Jean Engdahl, April Evensen, Susan Ferguson, Libby Fidelia, Melisa Gerke, Shenice Gold, Christie Harrington, Anthony Heitzman, Maryellen Jackson, Hannah Jacobi, Kramer Keatts, Kathleen Kinsella, Dallas Leach, Jonathan LeBel, Allison Lydon, Elizabeth Meads, Horia Ndzi, Richard Newman, Shakira Perry, Thomas Rhoads, Alain Robinson, Cherly Robinson, Elias Robinson, Bruno Rossetti, Melinda Saar-Beckles, Taylor Sparks, Timothy Sullivan, Jeanette Tippett, Dianna Blount, Megan Faller, Susan Good, Mohammed Latif, Mathew Linden, Brigit McCarthy, Luisa Monterro, Maliki Moumanil, Lauren Peters, Latia Costa, Gerry Friedman, Ricardo Gonzales, Mike Guilianno, Giovanni Leruth, Jac McKinzie, Jasmine Onque, Xana Potts, Caitrin Strong, Sandra Martin, Tyrone Steans, Estelle Howard, Jennifer Zamora, Randall Pearson, Lori Roby, Karthikeyan Ait Sidi, Michael Albert, Brannon Miller, David Stanley, Trina Alagbe, Scott Becker, Donna Brill, Michael Carey, James Cockel, Geoff Dickinson, Denisa Dobrin, Nilson Fernandes, Raul Garcia, Barbara Gaul, Mildred Gentry, David Gordon, Roxana Goyal, Paula Gross, Ludwick Harrell, Sneha Jhaveri, Alexandra Kirill, Bradley Knapp, Shana Maurice, Adeel Osturnka, Nina Panjwani, Quinn Rarrick, Nori Sewkumar, Seffi Shields, Rick Stoica, Colleen Volk, Anna Von Massenbach, Jacquelyn Williams, Sarah Akinkuolie, Carla Demita, Angela Erilus, Nicole Fancett, Michael Fitzpatrick, Juan Gonzalez, Trina Hendrickson, Erasumus Monkfish, Patrick Moran, Brooke Oliver, Ermine Pelletier, Joe Smith, Kenneth Thibaud, Jordan Winthrop, Jenna Dietrich, Debra Houlihan, Judith Carabbio, Keyla Del Bosque, Brandon LeBlanc, Bonalyn Boutwell, Janet King, Renee Becker, Jayne Horton, Eric Dougall, Maria Gonzalez, Ann Daniele, Jeremiah Semizoglou, Joe South, Charles Bozzi, Webster Butler, Amy Dunn, Elijiah Gray, Ebonee Peterson, Kissy Sullivan, Sean Bernstein, Lowan Biden, Helen Billis, Lily DiNocco, Rex England, Miguel Estremera, Evelyn Girifalco, Joanne Handschiegl, Judy Jung, Enrico Langton, Marilyn Linares, Debbie Mangal, Emil Pelech, Louis Punjabhi, Nore Sadki, Kristen Squatrito, Mei Trang, Theresa Wallace, Colleen Zima, Joseph Buccheri, Jennifer Cloninger, Phylicia Gosciminski, Ming Huynh, Tayana Jeannite, Karen Mancuso, Adil Sahoo, Constance Sloan, Roger Walker, Hang Wolk, Jason Woodson, Michelle Carter, Travis Ozark, Sharlene Terry, Jackie Valentin, Noah Villanueva, Susan Exantus, Adell Saada, Andrew Szabo, Mia Brown, William LaRotonda, Taisha Goble, Thomas Murray, Jason Salter, Julia Zhou, Jason Foss, Simon Roup, Ricardo Ruiz, Julia Soto, Alejandro Bacong, Anthony Cisco, Tanya Morway, Claudia Carr, Jonathan Hogland, Linda Anderson, Sam Athwal, Linda Bachiochi, Nader Barton, Beatrice Chace, James DeGweck, Violeta Ferreira, Kara Harrison, George Johnson, Samuel MacLennan, Lauren Mahoney, Dawn Motlagh, Shari Ngodup, Lei-Ming Nguyen, Kayla Peterson, Hong Pham, Janine Purinton, Barbara Stanford, Sophia Theamstern, Theresa Tinto, Abdellah Veera, Scott Whittier, Catherine Ybarra, Kimberly Beak, Joelle Burke, Benjamin Burkett, Phil Close, Tanya Foreman, Earnest Hankard, Julissa Hunts, Lindsey Langford, Susan Lundy, Robyn Manchester, Ned Miller, Kristie Nowlan, Peter Robertson, Alfred Digitale, Maruk Fraval, Whitney Gill, Myriam Givens, Jeremy Prater, Howard Mullaney, Michael Riordan, Lynn Daneault, John Smith, Colby Andreola, Alex Sweetwater\"]"
      ]
     },
     "execution_count": 42,
     "metadata": {},
     "output_type": "execute_result"
    }
   ],
   "source": [
    "conv.say(\"which employees are non us citizens\")"
   ]
  },
  {
   "cell_type": "code",
   "execution_count": 43,
   "metadata": {},
   "outputs": [
    {
     "data": {
      "text/plain": [
       "['Taylor Sparks is an US Citizen']"
      ]
     },
     "execution_count": 43,
     "metadata": {},
     "output_type": "execute_result"
    }
   ],
   "source": [
    "conv.say(\" is taylor citizens\")"
   ]
  },
  {
   "cell_type": "code",
   "execution_count": 44,
   "metadata": {},
   "outputs": [
    {
     "data": {
      "text/plain": [
       "['Ivan Rogers is Married']"
      ]
     },
     "execution_count": 44,
     "metadata": {},
     "output_type": "execute_result"
    }
   ],
   "source": [
    "conv.say(\"is ivan married\")"
   ]
  },
  {
   "cell_type": "code",
   "execution_count": 45,
   "metadata": {},
   "outputs": [
    {
     "data": {
      "text/plain": [
       "['The hired employees based on your criteria are: Kamrin Sander, Richard Newman, Maliki Moumanil, Roxana Goyal, Sneha Jhaveri, Bradley Knapp, Adeel Osturnka, Rick Stoica, Jeremiah Semizoglou, Debbie Mangal, Colleen Zima, Susan Lundy']"
      ]
     },
     "execution_count": 45,
     "metadata": {},
     "output_type": "execute_result"
    }
   ],
   "source": [
    "conv.say(\"tell me hired employees from career fair\")"
   ]
  },
  {
   "cell_type": "code",
   "execution_count": 46,
   "metadata": {},
   "outputs": [
    {
     "data": {
      "text/plain": [
       "[\"The hired employees based on your criteria are: Nan Singh, Kramer Simard, Rick Clayton, Neville Tredinnick, Jumil Turpin, Bianca Roehrich, Jyoti Lajiri, Sarah Warfield, Elisa Bramante, Wilson Adinolfi, Thomas Barbara, Lin Chan, Hamish Garneau, Alex Gilles, Cayo Gonzalez, Rose Ivey, John Kretschmer, Lindsay Lynch, Sandy Mckenna, Jennifer Medeiros, Lynn O'hare, Clinton Owad, Brad Pitt, Haley Rivera, Ashley Rose, Kamrin Sander, Sade Smith, Betsy Bondwell, Rosalie Hutter, Yen Johnston, Lisa Lunquist, Shana Petingill, Lenora Tejeda, Cybil Trzeciak, Edward Buck, Bartholemew Khemmich, Joseph Martins, Dheepa Nguyen, Donysha Kampew, Luke Patronick, Edward True, Leigh Smith, Amy Foster-Baker, Daniff Hernandez, Noelle Johnson, Thelma Petrowsky, Ivan Rogers, Peter Monroe, Lisa Galia, Leonara Lindsay, Linda Dolan, Carlos Merlos, Anita Shepard, Donald Favis, Walter Immediato, Ketsia Liebig, Kelley Spirea, Courtney Wallace, Carol Anderson, Rachael Baczenski, Francesco Barone, Josephine Bugali, Donovan Chang, Enola Chivukula, Caroline Cierpiszewski, Elijian Clukey, Spencer Cole, Lisa Cornett, Jean Crimmings, Jene'ya Darson, Carl Desimone, Marianne Eaton, Jean Engdahl, April Evensen, Susan Ferguson, Libby Fidelia, Melisa Gerke, Shenice Gold, Christie Harrington, Anthony Heitzman, Maryellen Jackson, Hannah Jacobi, Kramer Keatts, Kathleen Kinsella, Dallas Leach, Jonathan LeBel, Allison Lydon, Elizabeth Meads, Horia Ndzi, Richard Newman, Shakira Perry, Morissa Power, Thomas Rhoads, Alain Robinson, Cherly Robinson, Elias Robinson, Bruno Rossetti, Melinda Saar-Beckles, Taylor Sparks, Timothy Sullivan, Barbara Sutwell, Jeanette Tippett, Dianna Blount, Daniel Davis, Megan Faller, Susan Good, Adrienne Homberger, Mohammed Latif, Mathew Linden, Brigit McCarthy, Luisa Monterro, Maliki Moumanil, Lauren Peters, Jessica Bunbury, Latia Costa, Gerry Friedman, Ricardo Gonzales, Mike Guilianno, Giovanni Leruth, Jac McKinzie, Jasmine Onque, Xana Potts, Caitrin Strong, Sandra Martin, Tyrone Steans, Estelle Howard, Jennifer Zamora, Randall Pearson, Lori Roby, Karthikeyan Ait Sidi, Michael Albert, Brannon Miller, David Stanley, Trina Alagbe, Scott Becker, Donna Brill, Michael Carey, James Cockel, Geoff Dickinson, Denisa Dobrin, Nilson Fernandes, Raul Garcia, Barbara Gaul, Mildred Gentry, David Gordon, Roxana Goyal, Paula Gross, Ludwick Harrell, Sneha Jhaveri, Alexandra Kirill, Bradley Knapp, Shana Maurice, Adeel Osturnka, Nina Panjwani, Quinn Rarrick, Nori Sewkumar, Seffi Shields, Rick Stoica, Colleen Volk, Anna Von Massenbach, Jacquelyn Williams, Sarah Akinkuolie, Carla Demita, Angela Erilus, Nicole Fancett, Michael Fitzpatrick, Juan Gonzalez, Trina Hendrickson, Erasumus Monkfish, Patrick Moran, Brooke Oliver, Ermine Pelletier, Joe Smith, Kenneth Thibaud, Jordan Winthrop, Jenna Dietrich, Debra Houlihan, Judith Carabbio, Keyla Del Bosque, Brandon LeBlanc, Bonalyn Boutwell, Janet King, Renee Becker, Jayne Horton, Eric Dougall, Maria Gonzalez, Ann Daniele, Jeremiah Semizoglou, Joe South, Charles Bozzi, Webster Butler, Amy Dunn, Elijiah Gray, Ebonee Peterson, Kissy Sullivan, Courtney Beatrice, Sean Bernstein, Lowan Biden, Helen Billis, Lily DiNocco, Rex England, Miguel Estremera, Evelyn Girifalco, Joanne Handschiegl, Judy Jung, Enrico Langton, Marilyn Linares, Debbie Mangal, Emil Pelech, Louis Punjabhi, Nore Sadki, Kristen Squatrito, Mei Trang, Theresa Wallace, Barry Wilber, Colleen Zima, Joseph Buccheri, Jennifer Cloninger, Phylicia Gosciminski, Ming Huynh, Tayana Jeannite, Karen Mancuso, May Roberson, Adil Sahoo, Constance Sloan, Roger Walker, Hang Wolk, Jason Woodson, Michelle Carter, Travis Ozark, Sharlene Terry, Jackie Valentin, Noah Villanueva, Susan Exantus, Adell Saada, Andrew Szabo, Mia Brown, William LaRotonda, Sean Quinn, Taisha Goble, Thomas Murray, Jason Salter, Julia Zhou, Jason Foss, Simon Roup, Ricardo Ruiz, Julia Soto, Alejandro Bacong, Anthony Cisco, Tanya Morway, Claudia Carr, Jonathan Hogland, Linda Anderson, Sam Athwal, Linda Bachiochi, Nader Barton, Beatrice Chace, James DeGweck, Violeta Ferreira, Kara Harrison, George Johnson, Samuel MacLennan, Lauren Mahoney, Dawn Motlagh, Shari Ngodup, Lei-Ming Nguyen, Kayla Peterson, Hong Pham, Janine Purinton, Barbara Stanford, Desiree Tavares, Sophia Theamstern, Theresa Tinto, Abdellah Veera, Scott Whittier, Catherine Ybarra, Kimberly Beak, Joelle Burke, Benjamin Burkett, Phil Close, Tanya Foreman, Earnest Hankard, Julissa Hunts, Lindsey Langford, Susan Lundy, Robyn Manchester, Ned Miller, Kristie Nowlan, Peter Robertson, Alfred Digitale, Maruk Fraval, Whitney Gill, Myriam Givens, Jeremy Prater, Howard Mullaney, Michael Riordan, Lynn Daneault, John Smith, Colby Andreola, Alex Sweetwater\"]"
      ]
     },
     "execution_count": 46,
     "metadata": {},
     "output_type": "execute_result"
    }
   ],
   "source": [
    "conv.say(\"tell me hired employees\")"
   ]
  },
  {
   "cell_type": "code",
   "execution_count": 47,
   "metadata": {},
   "outputs": [
    {
     "data": {
      "text/plain": [
       "{'text': 'How many people have worked here since 2016',\n",
       " 'domain': 'date',\n",
       " 'intent': 'get_date_range_aggregate',\n",
       " 'entities': [{'text': 'How many',\n",
       "   'type': 'function',\n",
       "   'role': None,\n",
       "   'value': [{'cname': 'count', 'score': 37.18907, 'top_synonym': 'how many'}],\n",
       "   'span': {'start': 0, 'end': 7}},\n",
       "  {'text': 'worked here',\n",
       "   'type': 'employment_action',\n",
       "   'role': None,\n",
       "   'value': [{'cname': 'hired',\n",
       "     'score': 40.678627,\n",
       "     'top_synonym': 'worked here'},\n",
       "    {'cname': 'fired', 'score': 3.4272, 'top_synonym': 'kicked out'}],\n",
       "   'span': {'start': 21, 'end': 31}},\n",
       "  {'text': 'since',\n",
       "   'type': 'date_compare',\n",
       "   'role': None,\n",
       "   'value': [{'cname': 'post', 'score': 24.746775, 'top_synonym': 'since'}],\n",
       "   'span': {'start': 33, 'end': 37}},\n",
       "  {'text': '2016',\n",
       "   'type': 'sys_time',\n",
       "   'role': None,\n",
       "   'value': [{'value': '2016-01-01T00:00:00.000-08:00', 'grain': 'year'}],\n",
       "   'span': {'start': 39, 'end': 42}}]}"
      ]
     },
     "execution_count": 47,
     "metadata": {},
     "output_type": "execute_result"
    }
   ],
   "source": [
    "nlp.process(\"How many people have worked here since 2016\")"
   ]
  },
  {
   "cell_type": "code",
   "execution_count": 48,
   "metadata": {},
   "outputs": [
    {
     "data": {
      "text/plain": [
       "['Here are some employees that match your criteria: Rosalie Hutter, Shenice Gold, Erasumus Monkfish, Marianne Eaton, Jackie Valentin']"
      ]
     },
     "execution_count": 48,
     "metadata": {},
     "output_type": "execute_result"
    }
   ],
   "source": [
    "conv.say(\"give me the youngest five percent of employees\")"
   ]
  },
  {
   "cell_type": "code",
   "execution_count": 49,
   "metadata": {},
   "outputs": [
    {
     "data": {
      "text/plain": [
       "['Based on your query, the percentage is 5.33']"
      ]
     },
     "execution_count": 49,
     "metadata": {},
     "output_type": "execute_result"
    }
   ],
   "source": [
    "conv.say(\"what's the pct of 29 year old employees that work with us?\")"
   ]
  },
  {
   "cell_type": "code",
   "execution_count": 50,
   "metadata": {},
   "outputs": [
    {
     "data": {
      "text/plain": [
       "{'text': 'pct of our employees who are non-citizen',\n",
       " 'domain': 'general',\n",
       " 'intent': 'get_aggregate',\n",
       " 'entities': [{'text': 'pct',\n",
       "   'type': 'function',\n",
       "   'role': None,\n",
       "   'value': [{'cname': 'percent', 'score': 31.239935, 'top_synonym': 'pct'}],\n",
       "   'span': {'start': 0, 'end': 2}},\n",
       "  {'text': 'non-citizen',\n",
       "   'type': 'citizendesc',\n",
       "   'role': None,\n",
       "   'value': [{'cname': 'non-citizen',\n",
       "     'score': 42.388992,\n",
       "     'top_synonym': 'non-citizen'},\n",
       "    {'cname': 'non citizen', 'score': 30.349262, 'top_synonym': 'non citizen'},\n",
       "    {'cname': 'eligible noncitizen',\n",
       "     'score': 17.934347,\n",
       "     'top_synonym': 'non citizen'},\n",
       "    {'cname': 'us citizen', 'score': 0.8712451, 'top_synonym': 'citizen'}],\n",
       "   'span': {'start': 29, 'end': 39}}]}"
      ]
     },
     "execution_count": 50,
     "metadata": {},
     "output_type": "execute_result"
    }
   ],
   "source": [
    "nlp.process(\"pct of our employees who are non-citizen\")"
   ]
  },
  {
   "cell_type": "code",
   "execution_count": 51,
   "metadata": {},
   "outputs": [
    {
     "data": {
      "text/plain": [
       "[\"Hmmm, I don't quite understand, you can ask me something like 'is john's salary more than 6k'\",\n",
       " 'Listening...']"
      ]
     },
     "execution_count": 51,
     "metadata": {},
     "output_type": "execute_result"
    }
   ],
   "source": [
    "conv.say(\"who has been at the company longest\")"
   ]
  },
  {
   "cell_type": "code",
   "execution_count": 52,
   "metadata": {},
   "outputs": [
    {
     "data": {
      "text/plain": [
       "[\"Hi, I am your HR assistant. You can ask me about an employee's individual information (eg. Is Mia married?), some employee statistic (eg. average salary of females) or names of employees according to your criteria (eg. give me a list of all married employees)\"]"
      ]
     },
     "execution_count": 52,
     "metadata": {},
     "output_type": "execute_result"
    }
   ],
   "source": [
    "conv.say(\"hello!\")"
   ]
  },
  {
   "cell_type": "code",
   "execution_count": 53,
   "metadata": {},
   "outputs": [
    {
     "data": {
      "text/plain": [
       "['Alright, goodbye!']"
      ]
     },
     "execution_count": 53,
     "metadata": {},
     "output_type": "execute_result"
    }
   ],
   "source": [
    "conv.say(\"see you!\")"
   ]
  },
  {
   "cell_type": "code",
   "execution_count": 54,
   "metadata": {},
   "outputs": [
    {
     "data": {
      "text/plain": [
       "['Please repeat your query with a valid date format (YYYY-MM-DD)',\n",
       " 'Listening...']"
      ]
     },
     "execution_count": 54,
     "metadata": {},
     "output_type": "execute_result"
    }
   ],
   "source": [
    "conv.say(\"employees born in november\")"
   ]
  },
  {
   "cell_type": "code",
   "execution_count": 55,
   "metadata": {},
   "outputs": [
    {
     "data": {
      "text/plain": [
       "[\"Ivan Rogers's hourly salary is 42.2\"]"
      ]
     },
     "execution_count": 55,
     "metadata": {},
     "output_type": "execute_result"
    }
   ],
   "source": [
    "conv.say(\"what does ivan make\")"
   ]
  },
  {
   "cell_type": "code",
   "execution_count": 56,
   "metadata": {},
   "outputs": [
    {
     "data": {
      "text/plain": [
       "['Here are some employees with their hourly pay: Luke Patronick: 52.25, Edward True: 45.42, Sandra Martin: 55.51, Judith Carabbio: 56.0, Keyla Del Bosque: 57.12, Susan Exantus: 48.5, Adell Saada: 49.25, Andrew Szabo: 48.0, Colby Andreola: 47.6']"
      ]
     },
     "execution_count": 56,
     "metadata": {},
     "output_type": "execute_result"
    }
   ],
   "source": [
    "conv.say(\"Which software engineers are paid less than $90k\")"
   ]
  },
  {
   "cell_type": "code",
   "execution_count": 57,
   "metadata": {},
   "outputs": [
    {
     "data": {
      "text/plain": [
       "['The age of Nan Singh is 29']"
      ]
     },
     "execution_count": 57,
     "metadata": {},
     "output_type": "execute_result"
    }
   ],
   "source": [
    "conv.say(\"what is the age of nan singh\")"
   ]
  },
  {
   "cell_type": "code",
   "execution_count": 58,
   "metadata": {},
   "outputs": [
    {
     "data": {
      "text/plain": [
       "['Here is the employee you are looking for with their hourly pay: Alex Sweetwater: 27.0']"
      ]
     },
     "execution_count": 58,
     "metadata": {},
     "output_type": "execute_result"
    }
   ],
   "source": [
    "conv.say(\"Get me the lowest $60k earners in the software engineering department\")"
   ]
  },
  {
   "cell_type": "code",
   "execution_count": 59,
   "metadata": {},
   "outputs": [
    {
     "data": {
      "text/plain": [
       "{'text': 'i ',\n",
       " 'domain': 'unsupported',\n",
       " 'intent': 'unsupported',\n",
       " 'entities': []}"
      ]
     },
     "execution_count": 59,
     "metadata": {},
     "output_type": "execute_result"
    }
   ],
   "source": [
    "nlp.process(\"i \")"
   ]
  },
  {
   "cell_type": "code",
   "execution_count": 60,
   "metadata": {},
   "outputs": [
    {
     "data": {
      "text/plain": [
       "[\"Here are some employees that match your criteria: Neville Tredinnick, Bianca Roehrich, Thomas Barbara, Alex Gilles, Lindsay Lynch, Lynn O'hare, Betsy Bondwell, Lenora Tejeda, Cybil Trzeciak, Donysha Kampew, Luke Patronick, Edward True, Leigh Smith, Daniff Hernandez, Donald Favis, Walter Immediato, Courtney Wallace, Carol Anderson, Rachael Baczenski, Enola Chivukula, Spencer Cole, Marianne Eaton, April Evensen, Susan Ferguson, Melisa Gerke, Christie Harrington, Kathleen Kinsella, Dallas Leach, Jonathan LeBel, Elizabeth Meads, Horia Ndzi, Shakira Perry, Morissa Power, Thomas Rhoads, Alain Robinson, Cherly Robinson, Bruno Rossetti, Adrienne Homberger, Mohammed Latif, Lauren Peters, Jessica Bunbury, Mike Guilianno, Estelle Howard, Randall Pearson, Karthikeyan Ait Sidi, Donna Brill, Paula Gross, Alexandra Kirill, Nina Panjwani, Quinn Rarrick, Colleen Volk, Jacquelyn Williams, Sarah Akinkuolie, Carla Demita, Michael Fitzpatrick, Juan Gonzalez, Trina Hendrickson, Brooke Oliver, Ermine Pelletier, Kenneth Thibaud, Jordan Winthrop, Renee Becker, Charles Bozzi, Ebonee Peterson, Miguel Estremera, Judy Jung, Marilyn Linares, Emil Pelech, Nore Sadki, Kristen Squatrito, Theresa Wallace, Barry Wilber, Jennifer Cloninger, Ming Huynh, Karen Mancuso, May Roberson, Constance Sloan, Susan Exantus, Sean Quinn, Taisha Goble, Jason Salter, Ricardo Ruiz, Jonathan Hogland, Nader Barton, James DeGweck, George Johnson, Samuel MacLennan, Hong Pham, Janine Purinton, Desiree Tavares, Sophia Theamstern, Theresa Tinto, Abdellah Veera, Scott Whittier, Catherine Ybarra, Phil Close, Tanya Foreman, Lindsey Langford, Susan Lundy, Ned Miller, Peter Robertson, Whitney Gill\"]"
      ]
     },
     "execution_count": 60,
     "metadata": {},
     "output_type": "execute_result"
    }
   ],
   "source": [
    "conv.say(\"firing date\")"
   ]
  },
  {
   "cell_type": "code",
   "execution_count": 61,
   "metadata": {},
   "outputs": [
    {
     "data": {
      "text/plain": [
       "[\"Here are some employees with their hourly pay: Nan Singh: 16.56, Kramer Simard: 30.2, Rick Clayton: 28.99, Neville Tredinnick: 28.0, Jumil Turpin: 49.1, Bianca Roehrich: 58.5, Jyoti Lajiri: 56.2, Sarah Warfield: 55.2, Elisa Bramante: 60.0, Wilson Adinolfi: 20.0, Thomas Barbara: 22.0, Lin Chan: 19.5, Hamish Garneau: 18.0, Alex Gilles: 15.0, Cayo Gonzalez: 16.0, Rose Ivey: 16.0, John Kretschmer: 21.0, Lindsay Lynch: 19.0, Sandy Mckenna: 24.0, Jennifer Medeiros: 20.0, Lynn O'hare: 18.5, Clinton Owad: 22.0, Brad Pitt: 17.0, Haley Rivera: 22.0, Ashley Rose: 17.0, Kamrin Sander: 21.0, Sade Smith: 24.5, Betsy Bondwell: 26.0, Rosalie Hutter: 28.0, Yen Johnston: 25.0, Lisa Lunquist: 26.1, Shana Petingill: 26.0, Lenora Tejeda: 28.75, Cybil Trzeciak: 22.0, Edward Buck: 55.0, Bartholemew Khemmich: 55.0, Joseph Martins: 56.0, Dheepa Nguyen: 55.0, Donysha Kampew: 60.25, Luke Patronick: 52.25, Edward True: 45.42, Leigh Smith: 20.5, Amy Foster-Baker: 34.95, Daniff Hernandez: 40.1, Noelle Johnson: 40.0, Thelma Petrowsky: 42.75, Ivan Rogers: 42.2, Peter Monroe: 63.0, Lisa Galia: 31.4, Leonara Lindsay: 26.0, Linda Dolan: 37.0, Carlos Merlos: 43.0, Anita Shepard: 47.0, Donald Favis: 58.2, Walter Immediato: 42.0, Ketsia Liebig: 55.0, Kelley Spirea: 52.0, Courtney Wallace: 33.5, Carol Anderson: 16.0, Rachael Baczenski: 17.0, Francesco Barone: 16.76, Josephine Bugali: 20.0, Donovan Chang: 22.0, Enola Chivukula: 21.0, Caroline Cierpiszewski: 22.0, Elijian Clukey: 24.75, Spencer Cole: 15.0, Lisa Cornett: 15.75, Jean Crimmings: 19.75, Jene'ya Darson: 15.0, Carl Desimone: 20.0, Marianne Eaton: 17.0, Jean Engdahl: 21.25, April Evensen: 18.0, Susan Ferguson: 20.0, Libby Fidelia: 24.0, Melisa Gerke: 22.0, Shenice Gold: 17.0, Christie Harrington: 19.75, Anthony Heitzman: 19.0, Maryellen Jackson: 20.0, Hannah Jacobi: 21.0, Kramer Keatts: 19.0, Kathleen Kinsella: 22.0, Dallas Leach: 19.0, Jonathan LeBel: 15.0, Allison Lydon: 20.0, Elizabeth Meads: 14.0, Horia Ndzi: 22.0, Richard Newman: 21.0, Shakira Perry: 22.0, Morissa Power: 19.0, Thomas Rhoads: 20.0, Alain Robinson: 24.0, Cherly Robinson: 16.0, Elias Robinson: 17.0, Bruno Rossetti: 18.0, Melinda Saar-Beckles: 20.0, Taylor Sparks: 16.0, Timothy Sullivan: 19.0, Barbara Sutwell: 14.0, Jeanette Tippett: 24.0, Dianna Blount: 27.0, Daniel Davis: 25.0, Megan Faller: 27.0, Susan Good: 24.25, Adrienne Homberger: 28.0, Mohammed Latif: 28.0, Mathew Linden: 22.0, Brigit McCarthy: 26.0, Luisa Monterro: 25.0, Maliki Moumanil: 29.0, Lauren Peters: 29.0, Jessica Bunbury: 55.0, Latia Costa: 55.0, Gerry Friedman: 55.5, Ricardo Gonzales: 55.5, Mike Guilianno: 55.0, Giovanni Leruth: 55.0, Jac McKinzie: 55.0, Jasmine Onque: 57.0, Xana Potts: 55.0, Caitrin Strong: 54.0, Sandra Martin: 55.51, Tyrone Steans: 29.0, Estelle Howard: 21.5, Jennifer Zamora: 65.0, Randall Pearson: 41.0, Lori Roby: 39.55, Karthikeyan Ait Sidi: 62.0, Michael Albert: 54.5, Brannon Miller: 53.0, David Stanley: 53.0, Trina Alagbe: 21.0, Scott Becker: 17.0, Donna Brill: 20.0, Michael Carey: 20.0, James Cockel: 15.0, Geoff Dickinson: 21.0, Denisa Dobrin: 16.75, Nilson Fernandes: 18.0, Raul Garcia: 19.0, Barbara Gaul: 24.0, Mildred Gentry: 19.0, David Gordon: 15.0, Roxana Goyal: 24.0, Paula Gross: 14.0, Ludwick Harrell: 21.0, Sneha Jhaveri: 19.0, Alexandra Kirill: 24.0, Bradley Knapp: 14.0, Shana Maurice: 20.0, Adeel Osturnka: 16.0, Nina Panjwani: 18.0, Quinn Rarrick: 21.0, Nori Sewkumar: 15.2, Seffi Shields: 15.0, Rick Stoica: 22.0, Colleen Volk: 21.0, Anna Von Massenbach: 20.0, Jacquelyn Williams: 16.0, Sarah Akinkuolie: 29.0, Carla Demita: 29.0, Angela Erilus: 24.0, Nicole Fancett: 24.0, Michael Fitzpatrick: 29.0, Juan Gonzalez: 29.0, Trina Hendrickson: 24.0, Erasumus Monkfish: 27.0, Patrick Moran: 26.0, Brooke Oliver: 25.0, Ermine Pelletier: 28.0, Joe Smith: 22.0, Kenneth Thibaud: 23.0, Jordan Winthrop: 29.0, Jenna Dietrich: 55.0, Debra Houlihan: 60.0, Judith Carabbio: 56.0, Keyla Del Bosque: 57.12, Brandon LeBlanc: 55.0, Bonalyn Boutwell: 34.95, Janet King: 80.0, Renee Becker: 43.0, Jayne Horton: 34.0, Eric Dougall: 64.0, Maria Gonzalez: 39.0, Ann Daniele: 54.1, Jeremiah Semizoglou: 53.8, Joe South: 53.0, Charles Bozzi: 50.5, Webster Butler: 55.0, Amy Dunn: 51.0, Elijiah Gray: 54.0, Ebonee Peterson: 38.5, Kissy Sullivan: 55.0, Courtney Beatrice: 22.0, Sean Bernstein: 16.0, Lowan Biden: 22.0, Helen Billis: 16.0, Lily DiNocco: 22.0, Rex England: 21.0, Miguel Estremera: 17.0, Evelyn Girifalco: 16.0, Joanne Handschiegl: 24.0, Judy Jung: 21.0, Enrico Langton: 17.0, Marilyn Linares: 15.25, Debbie Mangal: 23.0, Emil Pelech: 24.0, Louis Punjabhi: 16.0, Nore Sadki: 21.0, Kristen Squatrito: 21.0, Mei Trang: 22.0, Theresa Wallace: 15.0, Barry Wilber: 21.0, Colleen Zima: 15.0, Joseph Buccheri: 22.0, Jennifer Cloninger: 25.0, Phylicia Gosciminski: 27.0, Ming Huynh: 23.0, Tayana Jeannite: 22.5, Karen Mancuso: 23.0, May Roberson: 26.0, Adil Sahoo: 29.0, Constance Sloan: 23.0, Roger Walker: 22.0, Hang Wolk: 22.0, Jason Woodson: 24.25, Michelle Carter: 55.0, Travis Ozark: 55.0, Sharlene Terry: 55.0, Jackie Valentin: 55.0, Noah Villanueva: 56.0, Susan Exantus: 48.5, Adell Saada: 49.25, Andrew Szabo: 48.0, Mia Brown: 28.5, William LaRotonda: 23.0, Sean Quinn: 55.0, Taisha Goble: 48.5, Thomas Murray: 35.5, Jason Salter: 45.0, Julia Zhou: 31.4, Jason Foss: 65.0, Simon Roup: 62.0, Ricardo Ruiz: 21.0, Julia Soto: 27.49, Alejandro Bacong: 45.0, Anthony Cisco: 42.0, Tanya Morway: 27.0, Claudia Carr: 61.3, Jonathan Hogland: 48.5, Linda Anderson: 23.0, Sam Athwal: 22.0, Linda Bachiochi: 22.0, Nader Barton: 18.0, Beatrice Chace: 16.0, James DeGweck: 23.5, Violeta Ferreira: 23.0, Kara Harrison: 20.0, George Johnson: 17.0, Samuel MacLennan: 15.0, Lauren Mahoney: 17.0, Dawn Motlagh: 15.0, Shari Ngodup: 15.0, Lei-Ming Nguyen: 19.0, Kayla Peterson: 17.0, Hong Pham: 18.0, Janine Purinton: 16.0, Barbara Stanford: 14.0, Desiree Tavares: 15.0, Sophia Theamstern: 20.0, Theresa Tinto: 20.0, Abdellah Veera: 19.0, Scott Whittier: 23.0, Catherine Ybarra: 22.0, Kimberly Beak: 27.0, Joelle Burke: 25.0, Benjamin Burkett: 26.0, Phil Close: 26.0, Tanya Foreman: 24.0, Earnest Hankard: 24.0, Julissa Hunts: 25.0, Lindsey Langford: 22.0, Susan Lundy: 24.0, Robyn Manchester: 23.0, Ned Miller: 25.0, Kristie Nowlan: 26.39, Peter Robertson: 22.0, Alfred Digitale: 56.0, Maruk Fraval: 55.0, Whitney Gill: 55.0, Myriam Givens: 55.0, Jeremy Prater: 56.0, Howard Mullaney: 55.0, Michael Riordan: 55.0, Lynn Daneault: 54.0, John Smith: 56.0, Colby Andreola: 47.6, Alex Sweetwater: 27.0\"]"
      ]
     },
     "execution_count": 61,
     "metadata": {},
     "output_type": "execute_result"
    }
   ],
   "source": [
    "conv.say(\"For employees hired between 3 to 6 years ago, which employees earn the least\")"
   ]
  },
  {
   "cell_type": "code",
   "execution_count": 62,
   "metadata": {},
   "outputs": [
    {
     "data": {
      "text/plain": [
       "['Here are some employees with their hourly pay: Keyla Del Bosque: 57.12, Judith Carabbio: 56.0, Sandra Martin: 55.51, Luke Patronick: 52.25, Adell Saada: 49.25, Susan Exantus: 48.5, Andrew Szabo: 48.0, Colby Andreola: 47.6, Edward True: 45.42, Alex Sweetwater: 27.0']"
      ]
     },
     "execution_count": 62,
     "metadata": {},
     "output_type": "execute_result"
    }
   ],
   "source": [
    "conv.say(\"list of top twenty earners in the Production department\")"
   ]
  },
  {
   "cell_type": "code",
   "execution_count": 63,
   "metadata": {},
   "outputs": [
    {
     "data": {
      "text/plain": [
       "['Based on your query, the count is 10']"
      ]
     },
     "execution_count": 63,
     "metadata": {},
     "output_type": "execute_result"
    }
   ],
   "source": [
    "conv.say(\"How many employees in the production department\")"
   ]
  },
  {
   "cell_type": "code",
   "execution_count": 64,
   "metadata": {},
   "outputs": [
    {
     "data": {
      "text/plain": [
       "['Based on your query, the percentage is 1.33']"
      ]
     },
     "execution_count": 64,
     "metadata": {},
     "output_type": "execute_result"
    }
   ],
   "source": [
    "conv.say(\"What fraction of terminations were due to sexual harrassment\")"
   ]
  },
  {
   "cell_type": "code",
   "execution_count": 65,
   "metadata": {},
   "outputs": [
    {
     "data": {
      "text/plain": [
       "['Based on your query, the count is 41']"
      ]
     },
     "execution_count": 65,
     "metadata": {},
     "output_type": "execute_result"
    }
   ],
   "source": [
    "conv.say(\"How many employees in the IT/IS department\")"
   ]
  },
  {
   "cell_type": "code",
   "execution_count": 66,
   "metadata": {},
   "outputs": [
    {
     "data": {
      "text/plain": [
       "['Here are some employees that match your criteria: Nan Singh, Neville Tredinnick, Rose Ivey, Kamrin Sander, Rosalie Hutter, Dheepa Nguyen, Donysha Kampew, Leigh Smith, Leonara Lindsay, Linda Dolan, Carlos Merlos, Carol Anderson, Caroline Cierpiszewski, Jean Crimmings, Marianne Eaton, April Evensen, Shenice Gold, Bruno Rossetti, Dianna Blount, Brigit McCarthy, Latia Costa, Giovanni Leruth, Jasmine Onque, Xana Potts, Caitrin Strong, Sandra Martin, Trina Alagbe, Donna Brill, Nilson Fernandes, Mildred Gentry, Sarah Akinkuolie, Angela Erilus, Nicole Fancett, Erasumus Monkfish, Ermine Pelletier, Jenna Dietrich, Judith Carabbio, Bonalyn Boutwell, Helen Billis, Emil Pelech, Constance Sloan, Jackie Valentin, Noah Villanueva, Susan Exantus, Thomas Murray, Jason Salter, Alejandro Bacong, Anthony Cisco, Hong Pham, Abdellah Veera, Scott Whittier, Earnest Hankard, Alfred Digitale, Myriam Givens, Lynn Daneault']"
      ]
     },
     "execution_count": 66,
     "metadata": {},
     "output_type": "execute_result"
    }
   ],
   "source": [
    "conv.say(\"list employees under 30\")"
   ]
  },
  {
   "cell_type": "code",
   "execution_count": 67,
   "metadata": {},
   "outputs": [
    {
     "data": {
      "text/plain": [
       "['The fired employee based on your criteria is: Estelle Howard']"
      ]
     },
     "execution_count": 67,
     "metadata": {},
     "output_type": "execute_result"
    }
   ],
   "source": [
    "conv.say(\"which employees were let go for failure to complete compliance training?\")"
   ]
  },
  {
   "cell_type": "code",
   "execution_count": 68,
   "metadata": {},
   "outputs": [
    {
     "data": {
      "text/plain": [
       "['Here are some employees that match your criteria: Kramer Simard, Jumil Turpin, Jyoti Lajiri, Sarah Warfield, Sade Smith, Edward Buck, Joseph Martins, Daniff Hernandez, Thelma Petrowsky, Linda Dolan, Elijian Clukey, Hannah Jacobi, Horia Ndzi, Elias Robinson, Jennifer Zamora, Randall Pearson, Lori Roby, Michael Albert, James Cockel, Raul Garcia, Maria Gonzalez, Joe South, Elijiah Gray, Rex England, Louis Punjabhi, Roger Walker, Julia Zhou, Jonathan Hogland, Sam Athwal, Kimberly Beak, Joelle Burke']"
      ]
     },
     "execution_count": 68,
     "metadata": {},
     "output_type": "execute_result"
    }
   ],
   "source": [
    "conv.say(\"Which employees were found via referrals\")"
   ]
  },
  {
   "cell_type": "code",
   "execution_count": 69,
   "metadata": {},
   "outputs": [
    {
     "data": {
      "text/plain": [
       "['Here are some employees that match your criteria: Rosalie Hutter, Shenice Gold, Erasumus Monkfish, Marianne Eaton, Jackie Valentin, Rose Ivey, Dianna Blount, Jasmine Onque, Donna Brill, Mildred Gentry']"
      ]
     },
     "execution_count": 69,
     "metadata": {},
     "output_type": "execute_result"
    }
   ],
   "source": [
    "conv.say(\"who are the 10 youngest employees\")"
   ]
  },
  {
   "cell_type": "code",
   "execution_count": 70,
   "metadata": {},
   "outputs": [
    {
     "data": {
      "text/plain": [
       "['No such employees found']"
      ]
     },
     "execution_count": 70,
     "metadata": {},
     "output_type": "execute_result"
    }
   ],
   "source": [
    "conv.say(\"tell me who earned the least that was hired this year\")"
   ]
  },
  {
   "cell_type": "code",
   "execution_count": 71,
   "metadata": {},
   "outputs": [
    {
     "data": {
      "text/plain": [
       "[\"Who's manager would you like to know? (You can try saying 'Mia's manager')\"]"
      ]
     },
     "execution_count": 71,
     "metadata": {},
     "output_type": "execute_result"
    }
   ],
   "source": [
    "conv.say(\"who is the manager for me\")"
   ]
  },
  {
   "cell_type": "code",
   "execution_count": 72,
   "metadata": {},
   "outputs": [
    {
     "data": {
      "text/plain": [
       "['Based on your criteria, the average salary is $39.68']"
      ]
     },
     "execution_count": 72,
     "metadata": {},
     "output_type": "execute_result"
    }
   ],
   "source": [
    "conv.say(\"compensation avg amt for network engineers\")"
   ]
  },
  {
   "cell_type": "code",
   "execution_count": 73,
   "metadata": {},
   "outputs": [
    {
     "data": {
      "text/plain": [
       "[\"Anna Von Massenbach's date of hire was 2015-07-05\"]"
      ]
     },
     "execution_count": 73,
     "metadata": {},
     "output_type": "execute_result"
    }
   ],
   "source": [
    "conv.say(\"What was the date when Anna Von Massenbach was starting her experience\")"
   ]
  },
  {
   "cell_type": "code",
   "execution_count": 74,
   "metadata": {},
   "outputs": [
    {
     "data": {
      "text/plain": [
       "[\"Allison Lydon's date of hire was 2015-02-16\"]"
      ]
     },
     "execution_count": 74,
     "metadata": {},
     "output_type": "execute_result"
    }
   ],
   "source": [
    "conv.say(\"The date was what when Allison Lydon began her experience at the company\")"
   ]
  },
  {
   "cell_type": "code",
   "execution_count": 75,
   "metadata": {},
   "outputs": [
    {
     "data": {
      "text/plain": [
       "['Based on your criteria, the average salary is $35.04']"
      ]
     },
     "execution_count": 75,
     "metadata": {},
     "output_type": "execute_result"
    }
   ],
   "source": [
    "conv.say(\"among all of the employees that found their job from an internet search, what is the average salary?\")"
   ]
  },
  {
   "cell_type": "code",
   "execution_count": 76,
   "metadata": {},
   "outputs": [
    {
     "data": {
      "text/plain": [
       "['Here is the employee you are looking for: Rosalie Hutter']"
      ]
     },
     "execution_count": 76,
     "metadata": {},
     "output_type": "execute_result"
    }
   ],
   "source": [
    "conv.say(\"youngest employee\")"
   ]
  },
  {
   "cell_type": "code",
   "execution_count": 77,
   "metadata": {},
   "outputs": [
    {
     "data": {
      "text/plain": [
       "['Based on your criteria, the average salary is $31.0']"
      ]
     },
     "execution_count": 77,
     "metadata": {},
     "output_type": "execute_result"
    }
   ],
   "source": [
    "conv.say(\"What is the typical compensation for company employees born after 1980 but before 1990\")"
   ]
  },
  {
   "cell_type": "code",
   "execution_count": 78,
   "metadata": {},
   "outputs": [
    {
     "data": {
      "text/plain": [
       "{'text': 'What are workers born before 1985 typically paid',\n",
       " 'domain': 'salary',\n",
       " 'intent': 'get_salary_aggregate',\n",
       " 'entities': [{'text': 'born',\n",
       "   'type': 'dob',\n",
       "   'role': None,\n",
       "   'value': [{'cname': 'dob', 'score': 2.5007246, 'top_synonym': 'born on'}],\n",
       "   'span': {'start': 17, 'end': 20}},\n",
       "  {'text': 'before',\n",
       "   'type': 'date_compare',\n",
       "   'role': None,\n",
       "   'value': [{'cname': 'prev', 'score': 15.707399, 'top_synonym': 'before'}],\n",
       "   'span': {'start': 22, 'end': 27}},\n",
       "  {'text': '1985',\n",
       "   'type': 'sys_time',\n",
       "   'role': None,\n",
       "   'value': [{'value': '1985-01-01T00:00:00.000-08:00', 'grain': 'year'}],\n",
       "   'span': {'start': 29, 'end': 32}},\n",
       "  {'text': 'typically',\n",
       "   'type': 'function',\n",
       "   'role': None,\n",
       "   'value': [{'cname': 'average',\n",
       "     'score': 20.79151,\n",
       "     'top_synonym': 'typically'},\n",
       "    {'cname': 'sum', 'score': 2.7957556, 'top_synonym': 'totalled'}],\n",
       "   'span': {'start': 34, 'end': 42}},\n",
       "  {'text': 'paid',\n",
       "   'type': 'money',\n",
       "   'role': None,\n",
       "   'value': [],\n",
       "   'span': {'start': 44, 'end': 47}}]}"
      ]
     },
     "execution_count": 78,
     "metadata": {},
     "output_type": "execute_result"
    }
   ],
   "source": [
    "nlp.process(\"What are workers born before 1985 typically paid\")"
   ]
  },
  {
   "cell_type": "code",
   "execution_count": 79,
   "metadata": {},
   "outputs": [
    {
     "data": {
      "text/plain": [
       "['Based on your criteria, the average salary is $32.55']"
      ]
     },
     "execution_count": 79,
     "metadata": {},
     "output_type": "execute_result"
    }
   ],
   "source": [
    "conv.say(\"Of the employees born before 1970, what is the average pay\")"
   ]
  },
  {
   "cell_type": "code",
   "execution_count": 80,
   "metadata": {},
   "outputs": [
    {
     "data": {
      "text/plain": [
       "['Based on your criteria, the average salary is $0']"
      ]
     },
     "execution_count": 80,
     "metadata": {},
     "output_type": "execute_result"
    }
   ],
   "source": [
    "conv.say(\"What is the average salary of employees hired last year\")"
   ]
  },
  {
   "cell_type": "code",
   "execution_count": 81,
   "metadata": {},
   "outputs": [
    {
     "data": {
      "text/plain": [
       "{'text': 'who is the latest employee to be fired',\n",
       " 'domain': 'date',\n",
       " 'intent': 'get_date_range_employees',\n",
       " 'entities': [{'text': 'latest',\n",
       "   'type': 'extreme',\n",
       "   'role': None,\n",
       "   'value': [{'cname': 'highest', 'score': 22.451416, 'top_synonym': 'latest'},\n",
       "    {'cname': 'lowest', 'score': 1.4194576, 'top_synonym': 'lowest'}],\n",
       "   'span': {'start': 11, 'end': 16}},\n",
       "  {'text': 'fired',\n",
       "   'type': 'employment_action',\n",
       "   'role': None,\n",
       "   'value': [{'cname': 'fired', 'score': 37.11516, 'top_synonym': 'fired'},\n",
       "    {'cname': 'hired', 'score': 4.9561386, 'top_synonym': 'hired'}],\n",
       "   'span': {'start': 33, 'end': 37}}]}"
      ]
     },
     "execution_count": 81,
     "metadata": {},
     "output_type": "execute_result"
    }
   ],
   "source": [
    "nlp.process(\"who is the latest employee to be fired\")"
   ]
  },
  {
   "cell_type": "code",
   "execution_count": null,
   "metadata": {},
   "outputs": [],
   "source": []
  }
 ],
 "metadata": {
  "kernelspec": {
   "display_name": "Python 3",
   "language": "python",
   "name": "python3"
  },
  "language_info": {
   "codemirror_mode": {
    "name": "ipython",
    "version": 3
   },
   "file_extension": ".py",
   "mimetype": "text/x-python",
   "name": "python",
   "nbconvert_exporter": "python",
   "pygments_lexer": "ipython3",
   "version": "3.6.8"
  }
 },
 "nbformat": 4,
 "nbformat_minor": 2
}
