{
 "cells": [
  {
   "cell_type": "code",
   "execution_count": 1,
   "metadata": {},
   "outputs": [
    {
     "name": "stderr",
     "output_type": "stream",
     "text": [
      "/anaconda3/envs/mm_workspace/lib/python3.6/site-packages/sklearn/ensemble/weight_boosting.py:29: DeprecationWarning: numpy.core.umath_tests is an internal NumPy module and should not be imported. It will be removed in a future NumPy release.\n",
      "  from numpy.core.umath_tests import inner1d\n"
     ]
    }
   ],
   "source": [
    "from mindmeld import configure_logs; configure_logs()"
   ]
  },
  {
   "cell_type": "code",
   "execution_count": 2,
   "metadata": {},
   "outputs": [
    {
     "name": "stderr",
     "output_type": "stream",
     "text": [
      "/anaconda3/envs/mm_workspace/lib/python3.6/site-packages/mindmeld/_version.py:64: MindMeldVersionWarning: Current mindmeld (4.1.1) does not satisfy mindmeld==4.1.0 in pip requirements caused by (mindmeld 4.1.1 (/anaconda3/envs/mm_workspace/lib/python3.6/site-packages), Requirement.parse('mindmeld==4.1.0'))\n",
      "  warnings.warn(error_msg, category=MindMeldVersionWarning)\n"
     ]
    },
    {
     "data": {
      "text/plain": [
       "<NaturalLanguageProcessor './hr_assistant' ready: False, dirty: False>"
      ]
     },
     "execution_count": 2,
     "metadata": {},
     "output_type": "execute_result"
    }
   ],
   "source": [
    "from mindmeld.components.nlp import NaturalLanguageProcessor\n",
    "nlp = NaturalLanguageProcessor(app_path='./hr_assistant')\n",
    "nlp"
   ]
  },
  {
   "cell_type": "code",
   "execution_count": 3,
   "metadata": {},
   "outputs": [
    {
     "name": "stdout",
     "output_type": "stream",
     "text": [
      "Fitting domain classifier\n",
      "Loading raw queries from file ./hr_assistant/domains/date/get_date/train.txt\n",
      "Loading raw queries from file ./hr_assistant/domains/date/get_date_range_aggregate/train.txt\n",
      "Loading raw queries from file ./hr_assistant/domains/date/get_date_range_employees/train.txt\n",
      "Loading raw queries from file ./hr_assistant/domains/general/get_aggregate/train.txt\n",
      "Loading raw queries from file ./hr_assistant/domains/general/get_employees/train.txt\n",
      "Loading raw queries from file ./hr_assistant/domains/general/get_info/train.txt\n",
      "Loading raw queries from file ./hr_assistant/domains/hierarchy/get_hierarchy/train.txt\n",
      "Loading raw queries from file ./hr_assistant/domains/salary/get_salary/train.txt\n",
      "Loading raw queries from file ./hr_assistant/domains/salary/get_salary_aggregate/train.txt\n",
      "Loading raw queries from file ./hr_assistant/domains/salary/get_salary_employees/train.txt\n",
      "Loading raw queries from file ./hr_assistant/domains/unsupported/unsupported/train.txt\n",
      "Loading queries from file ./hr_assistant/domains/date/get_date/train.txt\n",
      "Loading queries from file ./hr_assistant/domains/date/get_date_range_aggregate/train.txt\n",
      "Loading queries from file ./hr_assistant/domains/date/get_date_range_employees/train.txt\n",
      "Loading queries from file ./hr_assistant/domains/general/get_aggregate/train.txt\n",
      "Loading queries from file ./hr_assistant/domains/general/get_employees/train.txt\n",
      "Unknown entity 'race' found in query 'show me multi-racial employees'\n",
      "Loading queries from file ./hr_assistant/domains/general/get_info/train.txt\n",
      "Loading queries from file ./hr_assistant/domains/hierarchy/get_hierarchy/train.txt\n",
      "Loading queries from file ./hr_assistant/domains/salary/get_salary/train.txt\n",
      "Loading queries from file ./hr_assistant/domains/salary/get_salary_aggregate/train.txt\n",
      "Loading queries from file ./hr_assistant/domains/salary/get_salary_employees/train.txt\n",
      "Loading queries from file ./hr_assistant/domains/unsupported/unsupported/train.txt\n",
      "Fitting intent classifier: domain='date'\n",
      "Selecting hyperparameters using k-fold cross-validation with 5 splits\n",
      "Best accuracy: 98.36%, params: {'C': 10, 'class_weight': {0: 0.8130522088353414, 1: 1.9378205128205128, 2: 0.8793650793650793}, 'fit_intercept': True}\n",
      "Fitting entity recognizer: domain='date', intent='get_date_range_employees'\n",
      "No entity model configuration set. Using default.\n",
      "Selecting hyperparameters using k-fold cross-validation with 5 splits\n",
      "Best accuracy: 93.68%, params: {'C': 10000, 'penalty': 'l2'}\n",
      "No entity_resolution model configuration set. Using default.\n",
      "No entity_resolution model configuration set. Using default.\n",
      "No entity_resolution model configuration set. Using default.\n",
      "No entity_resolution model configuration set. Using default.\n",
      "No entity_resolution model configuration set. Using default.\n",
      "No entity_resolution model configuration set. Using default.\n",
      "No entity_resolution model configuration set. Using default.\n",
      "No entity_resolution model configuration set. Using default.\n",
      "No entity_resolution model configuration set. Using default.\n",
      "No entity_resolution model configuration set. Using default.\n",
      "No entity_resolution model configuration set. Using default.\n",
      "No entity_resolution model configuration set. Using default.\n",
      "No entity_resolution model configuration set. Using default.\n",
      "No entity_resolution model configuration set. Using default.\n",
      "No entity_resolution model configuration set. Using default.\n",
      "No entity_resolution model configuration set. Using default.\n",
      "No entity_resolution model configuration set. Using default.\n",
      "Fitting role classifier: domain='date', intent='get_date_range_employees', entity_type='sys_number'\n",
      "No role model configuration set. Using default.\n",
      "Fitting role classifier: domain='date', intent='get_date_range_employees', entity_type='sys_duration'\n",
      "No role model configuration set. Using default.\n",
      "Fitting role classifier: domain='date', intent='get_date_range_employees', entity_type='racedesc'\n",
      "No role model configuration set. Using default.\n",
      "Importing synonym data to synonym index 'synonym_racedesc'\n",
      "Elasticsearch index 'synonym_racedesc' for application 'hr_assistant' already exists!\n",
      "Loading index 'synonym_racedesc'\n"
     ]
    },
    {
     "name": "stderr",
     "output_type": "stream",
     "text": [
      "100%|██████████| 6/6 [00:00<00:00, 146.88it/s]"
     ]
    },
    {
     "name": "stdout",
     "output_type": "stream",
     "text": [
      "Loaded 6 documents\n",
      "Fitting role classifier: domain='date', intent='get_date_range_employees', entity_type='department'\n",
      "No role model configuration set. Using default.\n",
      "Importing synonym data to synonym index 'synonym_department'\n",
      "Elasticsearch index 'synonym_department' for application 'hr_assistant' already exists!\n",
      "Loading index 'synonym_department'\n"
     ]
    },
    {
     "name": "stderr",
     "output_type": "stream",
     "text": [
      "\n",
      "100%|██████████| 6/6 [00:00<00:00, 187.18it/s]"
     ]
    },
    {
     "name": "stdout",
     "output_type": "stream",
     "text": [
      "Loaded 6 documents\n",
      "Fitting role classifier: domain='date', intent='get_date_range_employees', entity_type='dob'\n",
      "No role model configuration set. Using default.\n",
      "Importing synonym data to synonym index 'synonym_dob'\n",
      "Elasticsearch index 'synonym_dob' for application 'hr_assistant' already exists!\n",
      "Loading index 'synonym_dob'\n"
     ]
    },
    {
     "name": "stderr",
     "output_type": "stream",
     "text": [
      "\n",
      "100%|██████████| 1/1 [00:00<00:00, 61.89it/s]"
     ]
    },
    {
     "name": "stdout",
     "output_type": "stream",
     "text": [
      "Loaded 1 document\n",
      "Fitting role classifier: domain='date', intent='get_date_range_employees', entity_type='comparator'\n",
      "No role model configuration set. Using default.\n",
      "Importing synonym data to synonym index 'synonym_comparator'\n",
      "Elasticsearch index 'synonym_comparator' for application 'hr_assistant' already exists!\n",
      "Loading index 'synonym_comparator'\n"
     ]
    },
    {
     "name": "stderr",
     "output_type": "stream",
     "text": [
      "\n",
      "100%|██████████| 4/4 [00:00<00:00, 149.03it/s]"
     ]
    },
    {
     "name": "stdout",
     "output_type": "stream",
     "text": [
      "Loaded 4 documents\n",
      "Fitting role classifier: domain='date', intent='get_date_range_employees', entity_type='extreme'\n",
      "No role model configuration set. Using default.\n",
      "Importing synonym data to synonym index 'synonym_extreme'\n",
      "Elasticsearch index 'synonym_extreme' for application 'hr_assistant' already exists!\n",
      "Loading index 'synonym_extreme'\n"
     ]
    },
    {
     "name": "stderr",
     "output_type": "stream",
     "text": [
      "\n",
      "100%|██████████| 2/2 [00:00<00:00, 75.62it/s]"
     ]
    },
    {
     "name": "stdout",
     "output_type": "stream",
     "text": [
      "Loaded 2 documents\n",
      "Fitting role classifier: domain='date', intent='get_date_range_employees', entity_type='date_compare'\n",
      "No role model configuration set. Using default.\n",
      "Importing synonym data to synonym index 'synonym_date_compare'\n",
      "Elasticsearch index 'synonym_date_compare' for application 'hr_assistant' already exists!\n",
      "Loading index 'synonym_date_compare'\n"
     ]
    },
    {
     "name": "stderr",
     "output_type": "stream",
     "text": [
      "\n",
      "100%|██████████| 2/2 [00:00<00:00, 77.60it/s]"
     ]
    },
    {
     "name": "stdout",
     "output_type": "stream",
     "text": [
      "Loaded 2 documents\n",
      "Fitting role classifier: domain='date', intent='get_date_range_employees', entity_type='sys_time'\n",
      "No role model configuration set. Using default.\n",
      "Fitting role classifier: domain='date', intent='get_date_range_employees', entity_type='sys_interval'\n",
      "No role model configuration set. Using default.\n",
      "Fitting role classifier: domain='date', intent='get_date_range_employees', entity_type='maritaldesc'\n",
      "No role model configuration set. Using default.\n",
      "Importing synonym data to synonym index 'synonym_maritaldesc'\n",
      "Elasticsearch index 'synonym_maritaldesc' for application 'hr_assistant' already exists!\n",
      "Loading index 'synonym_maritaldesc'\n"
     ]
    },
    {
     "name": "stderr",
     "output_type": "stream",
     "text": [
      "\n",
      "100%|██████████| 5/5 [00:00<00:00, 157.12it/s]"
     ]
    },
    {
     "name": "stdout",
     "output_type": "stream",
     "text": [
      "Loaded 5 documents\n",
      "Fitting role classifier: domain='date', intent='get_date_range_employees', entity_type='employment_action'\n",
      "No role model configuration set. Using default.\n",
      "Importing synonym data to synonym index 'synonym_employment_action'\n"
     ]
    },
    {
     "name": "stderr",
     "output_type": "stream",
     "text": [
      "\n"
     ]
    },
    {
     "name": "stdout",
     "output_type": "stream",
     "text": [
      "Elasticsearch index 'synonym_employment_action' for application 'hr_assistant' already exists!\n",
      "Loading index 'synonym_employment_action'\n"
     ]
    },
    {
     "name": "stderr",
     "output_type": "stream",
     "text": [
      "100%|██████████| 2/2 [00:00<00:00, 65.51it/s]"
     ]
    },
    {
     "name": "stdout",
     "output_type": "stream",
     "text": [
      "Loaded 2 documents\n",
      "Fitting role classifier: domain='date', intent='get_date_range_employees', entity_type='sex'\n"
     ]
    },
    {
     "name": "stderr",
     "output_type": "stream",
     "text": [
      "\n"
     ]
    },
    {
     "name": "stdout",
     "output_type": "stream",
     "text": [
      "No role model configuration set. Using default.\n",
      "Importing synonym data to synonym index 'synonym_sex'\n",
      "Elasticsearch index 'synonym_sex' for application 'hr_assistant' already exists!\n",
      "Loading index 'synonym_sex'\n"
     ]
    },
    {
     "name": "stderr",
     "output_type": "stream",
     "text": [
      "100%|██████████| 2/2 [00:00<00:00, 77.14it/s]"
     ]
    },
    {
     "name": "stdout",
     "output_type": "stream",
     "text": [
      "Loaded 2 documents\n",
      "Fitting role classifier: domain='date', intent='get_date_range_employees', entity_type='citizendesc'\n"
     ]
    },
    {
     "name": "stderr",
     "output_type": "stream",
     "text": [
      "\n"
     ]
    },
    {
     "name": "stdout",
     "output_type": "stream",
     "text": [
      "No role model configuration set. Using default.\n",
      "Importing synonym data to synonym index 'synonym_citizendesc'\n",
      "Elasticsearch index 'synonym_citizendesc' for application 'hr_assistant' already exists!\n",
      "Loading index 'synonym_citizendesc'\n"
     ]
    },
    {
     "name": "stderr",
     "output_type": "stream",
     "text": [
      "100%|██████████| 3/3 [00:00<00:00, 133.50it/s]"
     ]
    },
    {
     "name": "stdout",
     "output_type": "stream",
     "text": [
      "Loaded 3 documents\n",
      "Fitting role classifier: domain='date', intent='get_date_range_employees', entity_type='state'\n",
      "No role model configuration set. Using default.\n"
     ]
    },
    {
     "name": "stderr",
     "output_type": "stream",
     "text": [
      "\n"
     ]
    },
    {
     "name": "stdout",
     "output_type": "stream",
     "text": [
      "Importing synonym data to synonym index 'synonym_state'\n",
      "Elasticsearch index 'synonym_state' for application 'hr_assistant' already exists!\n",
      "Loading index 'synonym_state'\n"
     ]
    },
    {
     "name": "stderr",
     "output_type": "stream",
     "text": [
      "100%|██████████| 28/28 [00:00<00:00, 694.30it/s]"
     ]
    },
    {
     "name": "stdout",
     "output_type": "stream",
     "text": [
      "Loaded 28 documents\n",
      "Fitting role classifier: domain='date', intent='get_date_range_employees', entity_type='time_interval'\n"
     ]
    },
    {
     "name": "stderr",
     "output_type": "stream",
     "text": [
      "\n"
     ]
    },
    {
     "name": "stdout",
     "output_type": "stream",
     "text": [
      "No role model configuration set. Using default.\n",
      "Importing synonym data to synonym index 'synonym_time_interval'\n",
      "Elasticsearch index 'synonym_time_interval' for application 'hr_assistant' already exists!\n",
      "Loading index 'synonym_time_interval'\n"
     ]
    },
    {
     "name": "stderr",
     "output_type": "stream",
     "text": [
      "100%|██████████| 10/10 [00:00<00:00, 173.34it/s]"
     ]
    },
    {
     "name": "stdout",
     "output_type": "stream",
     "text": [
      "Loaded 10 documents\n",
      "Fitting role classifier: domain='date', intent='get_date_range_employees', entity_type='position'\n",
      "No role model configuration set. Using default.\n",
      "Importing synonym data to synonym index 'synonym_position'\n",
      "Elasticsearch index 'synonym_position' for application 'hr_assistant' already exists!\n",
      "Loading index 'synonym_position'\n"
     ]
    },
    {
     "name": "stderr",
     "output_type": "stream",
     "text": [
      "\n",
      "100%|██████████| 24/24 [00:00<00:00, 539.20it/s]"
     ]
    },
    {
     "name": "stdout",
     "output_type": "stream",
     "text": [
      "Loaded 24 documents\n",
      "Fitting entity recognizer: domain='date', intent='get_date'\n",
      "No entity model configuration set. Using default.\n"
     ]
    },
    {
     "name": "stderr",
     "output_type": "stream",
     "text": [
      "\n"
     ]
    },
    {
     "name": "stdout",
     "output_type": "stream",
     "text": [
      "Selecting hyperparameters using k-fold cross-validation with 5 splits\n",
      "Best accuracy: 96.48%, params: {'C': 10000, 'penalty': 'l2'}\n",
      "No entity_resolution model configuration set. Using default.\n",
      "No entity_resolution model configuration set. Using default.\n",
      "No entity_resolution model configuration set. Using default.\n",
      "No entity_resolution model configuration set. Using default.\n",
      "No entity_resolution model configuration set. Using default.\n",
      "Fitting role classifier: domain='date', intent='get_date', entity_type='sys_duration'\n",
      "No role model configuration set. Using default.\n",
      "Fitting role classifier: domain='date', intent='get_date', entity_type='dob'\n",
      "No role model configuration set. Using default.\n",
      "Importing synonym data to synonym index 'synonym_dob'\n",
      "Elasticsearch index 'synonym_dob' for application 'hr_assistant' already exists!\n",
      "Loading index 'synonym_dob'\n"
     ]
    },
    {
     "name": "stderr",
     "output_type": "stream",
     "text": [
      "100%|██████████| 1/1 [00:00<00:00, 49.09it/s]"
     ]
    },
    {
     "name": "stdout",
     "output_type": "stream",
     "text": [
      "Loaded 1 document\n",
      "Fitting role classifier: domain='date', intent='get_date', entity_type='sys_time'\n",
      "No role model configuration set. Using default.\n",
      "Fitting role classifier: domain='date', intent='get_date', entity_type='employment_action'\n",
      "No role model configuration set. Using default.\n",
      "Importing synonym data to synonym index 'synonym_employment_action'\n",
      "Elasticsearch index 'synonym_employment_action' for application 'hr_assistant' already exists!\n",
      "Loading index 'synonym_employment_action'\n"
     ]
    },
    {
     "name": "stderr",
     "output_type": "stream",
     "text": [
      "\n",
      "100%|██████████| 2/2 [00:00<00:00, 79.57it/s]"
     ]
    },
    {
     "name": "stdout",
     "output_type": "stream",
     "text": [
      "Loaded 2 documents\n",
      "Fitting role classifier: domain='date', intent='get_date', entity_type='name'\n",
      "No role model configuration set. Using default.\n",
      "Importing synonym data to synonym index 'synonym_name'\n",
      "Elasticsearch index 'synonym_name' for application 'hr_assistant' already exists!\n",
      "Loading index 'synonym_name'\n"
     ]
    },
    {
     "name": "stderr",
     "output_type": "stream",
     "text": [
      "\n",
      "100%|██████████| 245/245 [00:00<00:00, 1133.37it/s]"
     ]
    },
    {
     "name": "stdout",
     "output_type": "stream",
     "text": [
      "Loaded 245 documents\n",
      "Fitting entity recognizer: domain='date', intent='get_date_range_aggregate'\n",
      "No entity model configuration set. Using default.\n",
      "Selecting hyperparameters using k-fold cross-validation with 5 splits\n"
     ]
    },
    {
     "name": "stderr",
     "output_type": "stream",
     "text": [
      "\n"
     ]
    },
    {
     "name": "stdout",
     "output_type": "stream",
     "text": [
      "Best accuracy: 92.98%, params: {'C': 1000000, 'penalty': 'l1'}\n",
      "No entity_resolution model configuration set. Using default.\n",
      "No entity_resolution model configuration set. Using default.\n",
      "No entity_resolution model configuration set. Using default.\n",
      "No entity_resolution model configuration set. Using default.\n",
      "No entity_resolution model configuration set. Using default.\n",
      "No entity_resolution model configuration set. Using default.\n",
      "No entity_resolution model configuration set. Using default.\n",
      "No entity_resolution model configuration set. Using default.\n",
      "No entity_resolution model configuration set. Using default.\n",
      "No entity_resolution model configuration set. Using default.\n",
      "No entity_resolution model configuration set. Using default.\n",
      "Fitting role classifier: domain='date', intent='get_date_range_aggregate', entity_type='sys_number'\n",
      "No role model configuration set. Using default.\n",
      "Fitting role classifier: domain='date', intent='get_date_range_aggregate', entity_type='sys_duration'\n",
      "No role model configuration set. Using default.\n",
      "Fitting role classifier: domain='date', intent='get_date_range_aggregate', entity_type='dob'\n",
      "No role model configuration set. Using default.\n",
      "Importing synonym data to synonym index 'synonym_dob'\n",
      "Elasticsearch index 'synonym_dob' for application 'hr_assistant' already exists!\n",
      "Loading index 'synonym_dob'\n"
     ]
    },
    {
     "name": "stderr",
     "output_type": "stream",
     "text": [
      "100%|██████████| 1/1 [00:00<00:00, 64.42it/s]"
     ]
    },
    {
     "name": "stdout",
     "output_type": "stream",
     "text": [
      "Loaded 1 document\n",
      "Fitting role classifier: domain='date', intent='get_date_range_aggregate', entity_type='comparator'\n",
      "No role model configuration set. Using default.\n",
      "Importing synonym data to synonym index 'synonym_comparator'\n",
      "Elasticsearch index 'synonym_comparator' for application 'hr_assistant' already exists!\n",
      "Loading index 'synonym_comparator'\n"
     ]
    },
    {
     "name": "stderr",
     "output_type": "stream",
     "text": [
      "\n",
      "100%|██████████| 4/4 [00:00<00:00, 106.99it/s]"
     ]
    },
    {
     "name": "stdout",
     "output_type": "stream",
     "text": [
      "Loaded 4 documents\n",
      "Fitting role classifier: domain='date', intent='get_date_range_aggregate', entity_type='date_compare'\n",
      "No role model configuration set. Using default.\n",
      "Importing synonym data to synonym index 'synonym_date_compare'\n",
      "Elasticsearch index 'synonym_date_compare' for application 'hr_assistant' already exists!\n",
      "Loading index 'synonym_date_compare'\n"
     ]
    },
    {
     "name": "stderr",
     "output_type": "stream",
     "text": [
      "\n",
      "100%|██████████| 2/2 [00:00<00:00, 137.61it/s]"
     ]
    },
    {
     "name": "stdout",
     "output_type": "stream",
     "text": [
      "Loaded 2 documents\n",
      "Fitting role classifier: domain='date', intent='get_date_range_aggregate', entity_type='sys_time'\n",
      "No role model configuration set. Using default.\n",
      "Fitting role classifier: domain='date', intent='get_date_range_aggregate', entity_type='employment_action'\n",
      "No role model configuration set. Using default.\n",
      "Importing synonym data to synonym index 'synonym_employment_action'\n",
      "Elasticsearch index 'synonym_employment_action' for application 'hr_assistant' already exists!\n",
      "Loading index 'synonym_employment_action'\n"
     ]
    },
    {
     "name": "stderr",
     "output_type": "stream",
     "text": [
      "\n",
      "100%|██████████| 2/2 [00:00<00:00, 76.99it/s]"
     ]
    },
    {
     "name": "stdout",
     "output_type": "stream",
     "text": [
      "Loaded 2 documents\n",
      "Fitting role classifier: domain='date', intent='get_date_range_aggregate', entity_type='sex'\n",
      "No role model configuration set. Using default.\n",
      "Importing synonym data to synonym index 'synonym_sex'\n",
      "Elasticsearch index 'synonym_sex' for application 'hr_assistant' already exists!\n",
      "Loading index 'synonym_sex'\n"
     ]
    },
    {
     "name": "stderr",
     "output_type": "stream",
     "text": [
      "\n",
      "100%|██████████| 2/2 [00:00<00:00, 66.57it/s]"
     ]
    },
    {
     "name": "stdout",
     "output_type": "stream",
     "text": [
      "Loaded 2 documents\n"
     ]
    },
    {
     "name": "stderr",
     "output_type": "stream",
     "text": [
      "\n"
     ]
    },
    {
     "name": "stdout",
     "output_type": "stream",
     "text": [
      "Fitting role classifier: domain='date', intent='get_date_range_aggregate', entity_type='state'\n",
      "No role model configuration set. Using default.\n",
      "Importing synonym data to synonym index 'synonym_state'\n",
      "Elasticsearch index 'synonym_state' for application 'hr_assistant' already exists!\n",
      "Loading index 'synonym_state'\n"
     ]
    },
    {
     "name": "stderr",
     "output_type": "stream",
     "text": [
      "100%|██████████| 28/28 [00:00<00:00, 642.54it/s]"
     ]
    },
    {
     "name": "stdout",
     "output_type": "stream",
     "text": [
      "Loaded 28 documents\n",
      "Fitting role classifier: domain='date', intent='get_date_range_aggregate', entity_type='time_interval'\n",
      "No role model configuration set. Using default.\n"
     ]
    },
    {
     "name": "stderr",
     "output_type": "stream",
     "text": [
      "\n"
     ]
    },
    {
     "name": "stdout",
     "output_type": "stream",
     "text": [
      "Importing synonym data to synonym index 'synonym_time_interval'\n",
      "Elasticsearch index 'synonym_time_interval' for application 'hr_assistant' already exists!\n",
      "Loading index 'synonym_time_interval'\n"
     ]
    },
    {
     "name": "stderr",
     "output_type": "stream",
     "text": [
      "100%|██████████| 10/10 [00:00<00:00, 208.44it/s]"
     ]
    },
    {
     "name": "stdout",
     "output_type": "stream",
     "text": [
      "Loaded 10 documents\n",
      "Fitting role classifier: domain='date', intent='get_date_range_aggregate', entity_type='function'\n",
      "No role model configuration set. Using default.\n",
      "Importing synonym data to synonym index 'synonym_function'\n",
      "Elasticsearch index 'synonym_function' for application 'hr_assistant' already exists!\n",
      "Loading index 'synonym_function'\n"
     ]
    },
    {
     "name": "stderr",
     "output_type": "stream",
     "text": [
      "\n",
      "100%|██████████| 4/4 [00:00<00:00, 87.80it/s]"
     ]
    },
    {
     "name": "stdout",
     "output_type": "stream",
     "text": [
      "Loaded 4 documents\n",
      "Fitting entity recognizer: domain='unsupported', intent='unsupported'\n"
     ]
    },
    {
     "name": "stderr",
     "output_type": "stream",
     "text": [
      "\n"
     ]
    },
    {
     "name": "stdout",
     "output_type": "stream",
     "text": [
      "No entity model configuration set. Using default.\n",
      "There are no labels in this label set, so we don't fit the model.\n",
      "Fitting intent classifier: domain='general'\n",
      "Selecting hyperparameters using k-fold cross-validation with 5 splits\n",
      "Best accuracy: 98.87%, params: {'C': 10, 'class_weight': {0: 1.105, 1: 0.906276150627615, 2: 1.0173267326732673}, 'fit_intercept': True}\n",
      "Fitting entity recognizer: domain='general', intent='get_employees'\n",
      "No entity model configuration set. Using default.\n",
      "Selecting hyperparameters using k-fold cross-validation with 5 splits\n",
      "Best accuracy: 94.31%, params: {'C': 100, 'penalty': 'l1'}\n",
      "No entity_resolution model configuration set. Using default.\n",
      "No entity_resolution model configuration set. Using default.\n",
      "No entity_resolution model configuration set. Using default.\n",
      "No entity_resolution model configuration set. Using default.\n",
      "No entity_resolution model configuration set. Using default.\n",
      "No entity_resolution model configuration set. Using default.\n",
      "No entity_resolution model configuration set. Using default.\n",
      "No entity_resolution model configuration set. Using default.\n",
      "No entity_resolution model configuration set. Using default.\n",
      "No entity_resolution model configuration set. Using default.\n",
      "No entity_resolution model configuration set. Using default.\n",
      "No entity_resolution model configuration set. Using default.\n",
      "No entity_resolution model configuration set. Using default.\n",
      "No entity_resolution model configuration set. Using default.\n",
      "No entity_resolution model configuration set. Using default.\n",
      "No entity_resolution model configuration set. Using default.\n",
      "No entity_resolution model configuration set. Using default.\n",
      "No entity_resolution model configuration set. Using default.\n",
      "No entity_resolution model configuration set. Using default.\n",
      "No entity_resolution model configuration set. Using default.\n",
      "No entity_resolution model configuration set. Using default.\n",
      "No entity_resolution model configuration set. Using default.\n",
      "No entity_resolution model configuration set. Using default.\n",
      "No entity_resolution model configuration set. Using default.\n",
      "Fitting role classifier: domain='general', intent='get_employees', entity_type='sys_number'\n",
      "No role model configuration set. Using default.\n",
      "Fitting role classifier: domain='general', intent='get_employees', entity_type='reason_for_termination'\n",
      "No role model configuration set. Using default.\n",
      "Importing synonym data to synonym index 'synonym_reason_for_termination'\n",
      "Elasticsearch index 'synonym_reason_for_termination' for application 'hr_assistant' already exists!\n",
      "Loading index 'synonym_reason_for_termination'\n"
     ]
    },
    {
     "name": "stderr",
     "output_type": "stream",
     "text": [
      "100%|██████████| 17/17 [00:00<00:00, 367.07it/s]"
     ]
    },
    {
     "name": "stdout",
     "output_type": "stream",
     "text": [
      "Loaded 17 documents\n",
      "Fitting role classifier: domain='general', intent='get_employees', entity_type='department'\n",
      "No role model configuration set. Using default.\n",
      "Importing synonym data to synonym index 'synonym_department'\n",
      "Elasticsearch index 'synonym_department' for application 'hr_assistant' already exists!\n",
      "Loading index 'synonym_department'\n"
     ]
    },
    {
     "name": "stderr",
     "output_type": "stream",
     "text": [
      "\n",
      "100%|██████████| 6/6 [00:00<00:00, 184.34it/s]"
     ]
    },
    {
     "name": "stdout",
     "output_type": "stream",
     "text": [
      "Loaded 6 documents\n",
      "Fitting role classifier: domain='general', intent='get_employees', entity_type='comparator'\n",
      "No role model configuration set. Using default.\n",
      "Importing synonym data to synonym index 'synonym_comparator'\n",
      "Elasticsearch index 'synonym_comparator' for application 'hr_assistant' already exists!\n",
      "Loading index 'synonym_comparator'\n"
     ]
    },
    {
     "name": "stderr",
     "output_type": "stream",
     "text": [
      "\n",
      "100%|██████████| 4/4 [00:00<00:00, 140.84it/s]"
     ]
    },
    {
     "name": "stdout",
     "output_type": "stream",
     "text": [
      "Loaded 4 documents\n",
      "Fitting role classifier: domain='general', intent='get_employees', entity_type='employment_action'\n",
      "No role model configuration set. Using default.\n",
      "Importing synonym data to synonym index 'synonym_employment_action'\n",
      "Elasticsearch index 'synonym_employment_action' for application 'hr_assistant' already exists!\n",
      "Loading index 'synonym_employment_action'\n"
     ]
    },
    {
     "name": "stderr",
     "output_type": "stream",
     "text": [
      "\n",
      "100%|██████████| 2/2 [00:00<00:00, 72.19it/s]"
     ]
    },
    {
     "name": "stdout",
     "output_type": "stream",
     "text": [
      "Loaded 2 documents\n",
      "Fitting role classifier: domain='general', intent='get_employees', entity_type='sys_ordinal'\n",
      "No role model configuration set. Using default.\n",
      "Fitting role classifier: domain='general', intent='get_employees', entity_type='racedesc'\n",
      "No role model configuration set. Using default.\n",
      "Importing synonym data to synonym index 'synonym_racedesc'\n"
     ]
    },
    {
     "name": "stderr",
     "output_type": "stream",
     "text": [
      "\n"
     ]
    },
    {
     "name": "stdout",
     "output_type": "stream",
     "text": [
      "Elasticsearch index 'synonym_racedesc' for application 'hr_assistant' already exists!\n",
      "Loading index 'synonym_racedesc'\n"
     ]
    },
    {
     "name": "stderr",
     "output_type": "stream",
     "text": [
      "100%|██████████| 6/6 [00:00<00:00, 211.71it/s]"
     ]
    },
    {
     "name": "stdout",
     "output_type": "stream",
     "text": [
      "Loaded 6 documents\n",
      "Fitting role classifier: domain='general', intent='get_employees', entity_type='maritaldesc'\n",
      "No role model configuration set. Using default.\n",
      "Importing synonym data to synonym index 'synonym_maritaldesc'\n"
     ]
    },
    {
     "name": "stderr",
     "output_type": "stream",
     "text": [
      "\n"
     ]
    },
    {
     "name": "stdout",
     "output_type": "stream",
     "text": [
      "Elasticsearch index 'synonym_maritaldesc' for application 'hr_assistant' already exists!\n",
      "Loading index 'synonym_maritaldesc'\n"
     ]
    },
    {
     "name": "stderr",
     "output_type": "stream",
     "text": [
      "100%|██████████| 5/5 [00:00<00:00, 158.94it/s]"
     ]
    },
    {
     "name": "stdout",
     "output_type": "stream",
     "text": [
      "Loaded 5 documents\n",
      "Fitting role classifier: domain='general', intent='get_employees', entity_type='employee_source'\n",
      "No role model configuration set. Using default.\n",
      "Importing synonym data to synonym index 'synonym_employee_source'\n"
     ]
    },
    {
     "name": "stderr",
     "output_type": "stream",
     "text": [
      "\n"
     ]
    },
    {
     "name": "stdout",
     "output_type": "stream",
     "text": [
      "Elasticsearch index 'synonym_employee_source' for application 'hr_assistant' already exists!\n",
      "Loading index 'synonym_employee_source'\n"
     ]
    },
    {
     "name": "stderr",
     "output_type": "stream",
     "text": [
      "100%|██████████| 20/20 [00:00<00:00, 387.90it/s]"
     ]
    },
    {
     "name": "stdout",
     "output_type": "stream",
     "text": [
      "Loaded 20 documents\n",
      "Fitting role classifier: domain='general', intent='get_employees', entity_type='function'\n",
      "No role model configuration set. Using default.\n",
      "Importing synonym data to synonym index 'synonym_function'\n",
      "Elasticsearch index 'synonym_function' for application 'hr_assistant' already exists!\n",
      "Loading index 'synonym_function'\n"
     ]
    },
    {
     "name": "stderr",
     "output_type": "stream",
     "text": [
      "\n",
      "100%|██████████| 4/4 [00:00<00:00, 94.70it/s]"
     ]
    },
    {
     "name": "stdout",
     "output_type": "stream",
     "text": [
      "Loaded 4 documents\n",
      "Fitting role classifier: domain='general', intent='get_employees', entity_type='position'\n",
      "No role model configuration set. Using default.\n",
      "Importing synonym data to synonym index 'synonym_position'\n",
      "Elasticsearch index 'synonym_position' for application 'hr_assistant' already exists!\n",
      "Loading index 'synonym_position'\n"
     ]
    },
    {
     "name": "stderr",
     "output_type": "stream",
     "text": [
      "\n",
      "100%|██████████| 24/24 [00:00<00:00, 630.12it/s]"
     ]
    },
    {
     "name": "stdout",
     "output_type": "stream",
     "text": [
      "Loaded 24 documents\n",
      "Fitting role classifier: domain='general', intent='get_employees', entity_type='dob'\n",
      "No role model configuration set. Using default.\n",
      "Importing synonym data to synonym index 'synonym_dob'\n",
      "Elasticsearch index 'synonym_dob' for application 'hr_assistant' already exists!\n",
      "Loading index 'synonym_dob'\n"
     ]
    },
    {
     "name": "stderr",
     "output_type": "stream",
     "text": [
      "\n",
      "100%|██████████| 1/1 [00:00<00:00, 64.38it/s]"
     ]
    },
    {
     "name": "stdout",
     "output_type": "stream",
     "text": [
      "Loaded 1 document\n",
      "Fitting role classifier: domain='general', intent='get_employees', entity_type='manager'\n",
      "No role model configuration set. Using default.\n",
      "Importing synonym data to synonym index 'synonym_manager'\n",
      "Elasticsearch index 'synonym_manager' for application 'hr_assistant' already exists!\n",
      "Loading index 'synonym_manager'\n"
     ]
    },
    {
     "name": "stderr",
     "output_type": "stream",
     "text": [
      "\n",
      "100%|██████████| 1/1 [00:00<00:00, 54.44it/s]"
     ]
    },
    {
     "name": "stdout",
     "output_type": "stream",
     "text": [
      "Loaded 1 document\n",
      "Fitting role classifier: domain='general', intent='get_employees', entity_type='performance_score'\n",
      "No role model configuration set. Using default.\n",
      "Importing synonym data to synonym index 'synonym_performance_score'\n",
      "Elasticsearch index 'synonym_performance_score' for application 'hr_assistant' already exists!\n",
      "Loading index 'synonym_performance_score'\n"
     ]
    },
    {
     "name": "stderr",
     "output_type": "stream",
     "text": [
      "\n",
      "100%|██████████| 7/7 [00:00<00:00, 155.24it/s]"
     ]
    },
    {
     "name": "stdout",
     "output_type": "stream",
     "text": [
      "Loaded 7 documents\n",
      "Fitting role classifier: domain='general', intent='get_employees', entity_type='extreme'\n",
      "No role model configuration set. Using default.\n",
      "Importing synonym data to synonym index 'synonym_extreme'\n",
      "Elasticsearch index 'synonym_extreme' for application 'hr_assistant' already exists!\n",
      "Loading index 'synonym_extreme'\n"
     ]
    },
    {
     "name": "stderr",
     "output_type": "stream",
     "text": [
      "\n",
      "100%|██████████| 2/2 [00:00<00:00, 52.09it/s]"
     ]
    },
    {
     "name": "stdout",
     "output_type": "stream",
     "text": [
      "Loaded 2 documents\n",
      "Fitting role classifier: domain='general', intent='get_employees', entity_type='sys_time'\n",
      "No role model configuration set. Using default.\n",
      "Fitting role classifier: domain='general', intent='get_employees', entity_type='employment_status'\n",
      "No role model configuration set. Using default.\n"
     ]
    },
    {
     "name": "stderr",
     "output_type": "stream",
     "text": [
      "\n"
     ]
    },
    {
     "name": "stdout",
     "output_type": "stream",
     "text": [
      "Importing synonym data to synonym index 'synonym_employment_status'\n",
      "Elasticsearch index 'synonym_employment_status' for application 'hr_assistant' already exists!\n",
      "Loading index 'synonym_employment_status'\n"
     ]
    },
    {
     "name": "stderr",
     "output_type": "stream",
     "text": [
      "100%|██████████| 5/5 [00:00<00:00, 58.48it/s]"
     ]
    },
    {
     "name": "stdout",
     "output_type": "stream",
     "text": [
      "Loaded 5 documents\n",
      "Fitting role classifier: domain='general', intent='get_employees', entity_type='citizendesc'\n",
      "No role model configuration set. Using default.\n",
      "Importing synonym data to synonym index 'synonym_citizendesc'\n",
      "Elasticsearch index 'synonym_citizendesc' for application 'hr_assistant' already exists!\n",
      "Loading index 'synonym_citizendesc'\n"
     ]
    },
    {
     "name": "stderr",
     "output_type": "stream",
     "text": [
      "\n",
      "100%|██████████| 3/3 [00:00<00:00, 100.37it/s]"
     ]
    },
    {
     "name": "stdout",
     "output_type": "stream",
     "text": [
      "Loaded 3 documents\n",
      "Fitting role classifier: domain='general', intent='get_employees', entity_type='sex'\n",
      "No role model configuration set. Using default.\n",
      "Importing synonym data to synonym index 'synonym_sex'\n",
      "Elasticsearch index 'synonym_sex' for application 'hr_assistant' already exists!\n",
      "Loading index 'synonym_sex'\n"
     ]
    },
    {
     "name": "stderr",
     "output_type": "stream",
     "text": [
      "\n",
      "100%|██████████| 2/2 [00:00<00:00, 74.84it/s]"
     ]
    },
    {
     "name": "stdout",
     "output_type": "stream",
     "text": [
      "Loaded 2 documents\n",
      "Fitting role classifier: domain='general', intent='get_employees', entity_type='state'\n",
      "No role model configuration set. Using default.\n",
      "Importing synonym data to synonym index 'synonym_state'\n"
     ]
    },
    {
     "name": "stderr",
     "output_type": "stream",
     "text": [
      "\n"
     ]
    },
    {
     "name": "stdout",
     "output_type": "stream",
     "text": [
      "Elasticsearch index 'synonym_state' for application 'hr_assistant' already exists!\n",
      "Loading index 'synonym_state'\n"
     ]
    },
    {
     "name": "stderr",
     "output_type": "stream",
     "text": [
      "100%|██████████| 28/28 [00:00<00:00, 501.10it/s]"
     ]
    },
    {
     "name": "stdout",
     "output_type": "stream",
     "text": [
      "Loaded 28 documents\n",
      "Fitting role classifier: domain='general', intent='get_employees', entity_type='race'\n",
      "No role model configuration set. Using default.\n",
      "Entity data file not found at './hr_assistant/entities/race/gazetteer.txt'. Proceeding with empty entity data.\n",
      "Entity mapping file not found at './hr_assistant/entities/race/mapping.json'. Proceeding with empty entity data.\n",
      "Entity map file not found at ./hr_assistant/entities/race/mapping.json\n",
      "Importing synonym data to synonym index 'synonym_race'\n",
      "Elasticsearch index 'synonym_race' for application 'hr_assistant' already exists!\n"
     ]
    },
    {
     "name": "stderr",
     "output_type": "stream",
     "text": [
      "\n"
     ]
    },
    {
     "name": "stdout",
     "output_type": "stream",
     "text": [
      "Loading index 'synonym_race'\n"
     ]
    },
    {
     "name": "stderr",
     "output_type": "stream",
     "text": [
      "\r",
      "0it [00:00, ?it/s]"
     ]
    },
    {
     "name": "stdout",
     "output_type": "stream",
     "text": [
      "Loaded 0 documents\n",
      "Fitting role classifier: domain='general', intent='get_employees', entity_type='sys_duration'\n",
      "No role model configuration set. Using default.\n",
      "Fitting role classifier: domain='general', intent='get_employees', entity_type='date_compare'\n",
      "No role model configuration set. Using default.\n",
      "Importing synonym data to synonym index 'synonym_date_compare'\n",
      "Elasticsearch index 'synonym_date_compare' for application 'hr_assistant' already exists!\n",
      "Loading index 'synonym_date_compare'\n"
     ]
    },
    {
     "name": "stderr",
     "output_type": "stream",
     "text": [
      "\n",
      "100%|██████████| 2/2 [00:00<00:00, 59.92it/s]"
     ]
    },
    {
     "name": "stdout",
     "output_type": "stream",
     "text": [
      "Loaded 2 documents\n",
      "Fitting role classifier: domain='general', intent='get_employees', entity_type='age'\n",
      "No role model configuration set. Using default.\n",
      "Importing synonym data to synonym index 'synonym_age'\n",
      "Elasticsearch index 'synonym_age' for application 'hr_assistant' already exists!\n",
      "Loading index 'synonym_age'\n"
     ]
    },
    {
     "name": "stderr",
     "output_type": "stream",
     "text": [
      "\n",
      "100%|██████████| 39/39 [00:00<00:00, 843.64it/s]"
     ]
    },
    {
     "name": "stdout",
     "output_type": "stream",
     "text": [
      "Loaded 39 documents\n",
      "Fitting entity recognizer: domain='general', intent='get_info'\n",
      "No entity model configuration set. Using default.\n"
     ]
    },
    {
     "name": "stderr",
     "output_type": "stream",
     "text": [
      "\n"
     ]
    },
    {
     "name": "stdout",
     "output_type": "stream",
     "text": [
      "Selecting hyperparameters using k-fold cross-validation with 5 splits\n",
      "Best accuracy: 95.24%, params: {'C': 10000, 'penalty': 'l2'}\n",
      "No entity_resolution model configuration set. Using default.\n",
      "No entity_resolution model configuration set. Using default.\n",
      "No entity_resolution model configuration set. Using default.\n",
      "No entity_resolution model configuration set. Using default.\n",
      "No entity_resolution model configuration set. Using default.\n",
      "No entity_resolution model configuration set. Using default.\n",
      "No entity_resolution model configuration set. Using default.\n",
      "No entity_resolution model configuration set. Using default.\n",
      "No entity_resolution model configuration set. Using default.\n",
      "No entity_resolution model configuration set. Using default.\n",
      "No entity_resolution model configuration set. Using default.\n",
      "No entity_resolution model configuration set. Using default.\n",
      "No entity_resolution model configuration set. Using default.\n",
      "No entity_resolution model configuration set. Using default.\n",
      "Fitting role classifier: domain='general', intent='get_info', entity_type='name'\n",
      "No role model configuration set. Using default.\n",
      "Importing synonym data to synonym index 'synonym_name'\n",
      "Elasticsearch index 'synonym_name' for application 'hr_assistant' already exists!\n",
      "Loading index 'synonym_name'\n"
     ]
    },
    {
     "name": "stderr",
     "output_type": "stream",
     "text": [
      "100%|██████████| 245/245 [00:00<00:00, 1137.43it/s]"
     ]
    },
    {
     "name": "stdout",
     "output_type": "stream",
     "text": [
      "Loaded 245 documents\n",
      "Fitting role classifier: domain='general', intent='get_info', entity_type='reason_for_termination'\n",
      "No role model configuration set. Using default.\n",
      "Importing synonym data to synonym index 'synonym_reason_for_termination'\n",
      "Elasticsearch index 'synonym_reason_for_termination' for application 'hr_assistant' already exists!\n",
      "Loading index 'synonym_reason_for_termination'\n"
     ]
    },
    {
     "name": "stderr",
     "output_type": "stream",
     "text": [
      "\n",
      "100%|██████████| 17/17 [00:00<00:00, 421.00it/s]"
     ]
    },
    {
     "name": "stdout",
     "output_type": "stream",
     "text": [
      "Loaded 17 documents\n",
      "Fitting role classifier: domain='general', intent='get_info', entity_type='racedesc'\n",
      "No role model configuration set. Using default.\n",
      "Importing synonym data to synonym index 'synonym_racedesc'\n",
      "Elasticsearch index 'synonym_racedesc' for application 'hr_assistant' already exists!\n",
      "Loading index 'synonym_racedesc'\n"
     ]
    },
    {
     "name": "stderr",
     "output_type": "stream",
     "text": [
      "\n",
      "100%|██████████| 6/6 [00:00<00:00, 160.36it/s]"
     ]
    },
    {
     "name": "stdout",
     "output_type": "stream",
     "text": [
      "Loaded 6 documents\n",
      "Fitting role classifier: domain='general', intent='get_info', entity_type='department'\n",
      "No role model configuration set. Using default.\n",
      "Importing synonym data to synonym index 'synonym_department'\n",
      "Elasticsearch index 'synonym_department' for application 'hr_assistant' already exists!\n",
      "Loading index 'synonym_department'\n"
     ]
    },
    {
     "name": "stderr",
     "output_type": "stream",
     "text": [
      "\n",
      "100%|██████████| 6/6 [00:00<00:00, 161.54it/s]"
     ]
    },
    {
     "name": "stdout",
     "output_type": "stream",
     "text": [
      "Loaded 6 documents\n",
      "Fitting role classifier: domain='general', intent='get_info', entity_type='performance_score'\n",
      "No role model configuration set. Using default.\n",
      "Importing synonym data to synonym index 'synonym_performance_score'\n",
      "Elasticsearch index 'synonym_performance_score' for application 'hr_assistant' already exists!\n",
      "Loading index 'synonym_performance_score'\n"
     ]
    },
    {
     "name": "stderr",
     "output_type": "stream",
     "text": [
      "\n",
      "100%|██████████| 7/7 [00:00<00:00, 195.14it/s]"
     ]
    },
    {
     "name": "stdout",
     "output_type": "stream",
     "text": [
      "Loaded 7 documents\n",
      "Fitting role classifier: domain='general', intent='get_info', entity_type='maritaldesc'\n",
      "No role model configuration set. Using default.\n",
      "Importing synonym data to synonym index 'synonym_maritaldesc'\n",
      "Elasticsearch index 'synonym_maritaldesc' for application 'hr_assistant' already exists!\n",
      "Loading index 'synonym_maritaldesc'\n"
     ]
    },
    {
     "name": "stderr",
     "output_type": "stream",
     "text": [
      "\n",
      "100%|██████████| 5/5 [00:00<00:00, 142.89it/s]"
     ]
    },
    {
     "name": "stdout",
     "output_type": "stream",
     "text": [
      "Loaded 5 documents\n",
      "Fitting role classifier: domain='general', intent='get_info', entity_type='employment_status'\n",
      "No role model configuration set. Using default.\n",
      "Importing synonym data to synonym index 'synonym_employment_status'\n",
      "Elasticsearch index 'synonym_employment_status' for application 'hr_assistant' already exists!\n",
      "Loading index 'synonym_employment_status'\n"
     ]
    },
    {
     "name": "stderr",
     "output_type": "stream",
     "text": [
      "\n",
      "100%|██████████| 5/5 [00:00<00:00, 136.69it/s]"
     ]
    },
    {
     "name": "stdout",
     "output_type": "stream",
     "text": [
      "Loaded 5 documents\n",
      "Fitting role classifier: domain='general', intent='get_info', entity_type='employee_source'\n",
      "No role model configuration set. Using default.\n",
      "Importing synonym data to synonym index 'synonym_employee_source'\n",
      "Elasticsearch index 'synonym_employee_source' for application 'hr_assistant' already exists!\n",
      "Loading index 'synonym_employee_source'\n"
     ]
    },
    {
     "name": "stderr",
     "output_type": "stream",
     "text": [
      "\n",
      "100%|██████████| 20/20 [00:00<00:00, 544.41it/s]"
     ]
    },
    {
     "name": "stdout",
     "output_type": "stream",
     "text": [
      "Loaded 20 documents\n",
      "Fitting role classifier: domain='general', intent='get_info', entity_type='employment_action'\n",
      "No role model configuration set. Using default.\n",
      "Importing synonym data to synonym index 'synonym_employment_action'\n",
      "Elasticsearch index 'synonym_employment_action' for application 'hr_assistant' already exists!\n",
      "Loading index 'synonym_employment_action'\n"
     ]
    },
    {
     "name": "stderr",
     "output_type": "stream",
     "text": [
      "\n",
      "100%|██████████| 2/2 [00:00<00:00, 64.62it/s]"
     ]
    },
    {
     "name": "stdout",
     "output_type": "stream",
     "text": [
      "Loaded 2 documents\n",
      "Fitting role classifier: domain='general', intent='get_info', entity_type='sex'\n",
      "No role model configuration set. Using default.\n",
      "Importing synonym data to synonym index 'synonym_sex'\n",
      "Elasticsearch index 'synonym_sex' for application 'hr_assistant' already exists!\n",
      "Loading index 'synonym_sex'\n"
     ]
    },
    {
     "name": "stderr",
     "output_type": "stream",
     "text": [
      "\n",
      "100%|██████████| 2/2 [00:00<00:00, 72.79it/s]"
     ]
    },
    {
     "name": "stdout",
     "output_type": "stream",
     "text": [
      "Loaded 2 documents\n",
      "Fitting role classifier: domain='general', intent='get_info', entity_type='citizendesc'\n",
      "No role model configuration set. Using default.\n",
      "Importing synonym data to synonym index 'synonym_citizendesc'\n",
      "Elasticsearch index 'synonym_citizendesc' for application 'hr_assistant' already exists!\n",
      "Loading index 'synonym_citizendesc'\n"
     ]
    },
    {
     "name": "stderr",
     "output_type": "stream",
     "text": [
      "\n",
      "100%|██████████| 3/3 [00:00<00:00, 110.70it/s]"
     ]
    },
    {
     "name": "stdout",
     "output_type": "stream",
     "text": [
      "Loaded 3 documents\n",
      "Fitting role classifier: domain='general', intent='get_info', entity_type='state'\n",
      "No role model configuration set. Using default.\n",
      "Importing synonym data to synonym index 'synonym_state'\n",
      "Elasticsearch index 'synonym_state' for application 'hr_assistant' already exists!\n",
      "Loading index 'synonym_state'\n"
     ]
    },
    {
     "name": "stderr",
     "output_type": "stream",
     "text": [
      "\n",
      "100%|██████████| 28/28 [00:00<00:00, 602.19it/s]"
     ]
    },
    {
     "name": "stdout",
     "output_type": "stream",
     "text": [
      "Loaded 28 documents\n",
      "Fitting role classifier: domain='general', intent='get_info', entity_type='age'\n",
      "No role model configuration set. Using default.\n",
      "Importing synonym data to synonym index 'synonym_age'\n",
      "Elasticsearch index 'synonym_age' for application 'hr_assistant' already exists!\n",
      "Loading index 'synonym_age'\n"
     ]
    },
    {
     "name": "stderr",
     "output_type": "stream",
     "text": [
      "\n",
      "100%|██████████| 39/39 [00:00<00:00, 661.04it/s]"
     ]
    },
    {
     "name": "stdout",
     "output_type": "stream",
     "text": [
      "Loaded 39 documents\n",
      "Fitting role classifier: domain='general', intent='get_info', entity_type='position'\n",
      "No role model configuration set. Using default.\n",
      "Importing synonym data to synonym index 'synonym_position'\n",
      "Elasticsearch index 'synonym_position' for application 'hr_assistant' already exists!\n",
      "Loading index 'synonym_position'\n"
     ]
    },
    {
     "name": "stderr",
     "output_type": "stream",
     "text": [
      "\n",
      "100%|██████████| 24/24 [00:00<00:00, 508.60it/s]"
     ]
    },
    {
     "name": "stdout",
     "output_type": "stream",
     "text": [
      "Loaded 24 documents\n",
      "Fitting entity recognizer: domain='general', intent='get_aggregate'\n",
      "No entity model configuration set. Using default.\n"
     ]
    },
    {
     "name": "stderr",
     "output_type": "stream",
     "text": [
      "\n"
     ]
    },
    {
     "name": "stdout",
     "output_type": "stream",
     "text": [
      "Selecting hyperparameters using k-fold cross-validation with 5 splits\n",
      "Best accuracy: 93.50%, params: {'C': 10000, 'penalty': 'l1'}\n",
      "No entity_resolution model configuration set. Using default.\n",
      "No entity_resolution model configuration set. Using default.\n",
      "No entity_resolution model configuration set. Using default.\n",
      "No entity_resolution model configuration set. Using default.\n",
      "No entity_resolution model configuration set. Using default.\n",
      "No entity_resolution model configuration set. Using default.\n",
      "No entity_resolution model configuration set. Using default.\n",
      "No entity_resolution model configuration set. Using default.\n",
      "No entity_resolution model configuration set. Using default.\n",
      "No entity_resolution model configuration set. Using default.\n",
      "No entity_resolution model configuration set. Using default.\n",
      "No entity_resolution model configuration set. Using default.\n",
      "No entity_resolution model configuration set. Using default.\n",
      "No entity_resolution model configuration set. Using default.\n",
      "No entity_resolution model configuration set. Using default.\n",
      "No entity_resolution model configuration set. Using default.\n",
      "No entity_resolution model configuration set. Using default.\n",
      "No entity_resolution model configuration set. Using default.\n",
      "No entity_resolution model configuration set. Using default.\n",
      "No entity_resolution model configuration set. Using default.\n",
      "No entity_resolution model configuration set. Using default.\n",
      "Fitting role classifier: domain='general', intent='get_aggregate', entity_type='sys_number'\n",
      "No role model configuration set. Using default.\n",
      "Fitting role classifier: domain='general', intent='get_aggregate', entity_type='reason_for_termination'\n",
      "No role model configuration set. Using default.\n",
      "Importing synonym data to synonym index 'synonym_reason_for_termination'\n",
      "Elasticsearch index 'synonym_reason_for_termination' for application 'hr_assistant' already exists!\n",
      "Loading index 'synonym_reason_for_termination'\n"
     ]
    },
    {
     "name": "stderr",
     "output_type": "stream",
     "text": [
      "100%|██████████| 17/17 [00:00<00:00, 379.56it/s]"
     ]
    },
    {
     "name": "stdout",
     "output_type": "stream",
     "text": [
      "Loaded 17 documents\n",
      "Fitting role classifier: domain='general', intent='get_aggregate', entity_type='department'\n",
      "No role model configuration set. Using default.\n",
      "Importing synonym data to synonym index 'synonym_department'\n",
      "Elasticsearch index 'synonym_department' for application 'hr_assistant' already exists!\n",
      "Loading index 'synonym_department'\n"
     ]
    },
    {
     "name": "stderr",
     "output_type": "stream",
     "text": [
      "\n",
      "100%|██████████| 6/6 [00:00<00:00, 182.92it/s]"
     ]
    },
    {
     "name": "stdout",
     "output_type": "stream",
     "text": [
      "Loaded 6 documents\n",
      "Fitting role classifier: domain='general', intent='get_aggregate', entity_type='comparator'\n",
      "No role model configuration set. Using default.\n",
      "Importing synonym data to synonym index 'synonym_comparator'\n",
      "Elasticsearch index 'synonym_comparator' for application 'hr_assistant' already exists!\n",
      "Loading index 'synonym_comparator'\n"
     ]
    },
    {
     "name": "stderr",
     "output_type": "stream",
     "text": [
      "\n",
      "100%|██████████| 4/4 [00:00<00:00, 142.00it/s]"
     ]
    },
    {
     "name": "stdout",
     "output_type": "stream",
     "text": [
      "Loaded 4 documents\n",
      "Fitting role classifier: domain='general', intent='get_aggregate', entity_type='employment_action'\n",
      "No role model configuration set. Using default.\n",
      "Importing synonym data to synonym index 'synonym_employment_action'\n",
      "Elasticsearch index 'synonym_employment_action' for application 'hr_assistant' already exists!\n",
      "Loading index 'synonym_employment_action'\n"
     ]
    },
    {
     "name": "stderr",
     "output_type": "stream",
     "text": [
      "\n",
      "100%|██████████| 2/2 [00:00<00:00, 70.20it/s]"
     ]
    },
    {
     "name": "stdout",
     "output_type": "stream",
     "text": [
      "Loaded 2 documents\n",
      "Fitting role classifier: domain='general', intent='get_aggregate', entity_type='racedesc'\n",
      "No role model configuration set. Using default.\n"
     ]
    },
    {
     "name": "stderr",
     "output_type": "stream",
     "text": [
      "\n"
     ]
    },
    {
     "name": "stdout",
     "output_type": "stream",
     "text": [
      "Importing synonym data to synonym index 'synonym_racedesc'\n",
      "Elasticsearch index 'synonym_racedesc' for application 'hr_assistant' already exists!\n",
      "Loading index 'synonym_racedesc'\n"
     ]
    },
    {
     "name": "stderr",
     "output_type": "stream",
     "text": [
      "100%|██████████| 6/6 [00:00<00:00, 224.46it/s]"
     ]
    },
    {
     "name": "stdout",
     "output_type": "stream",
     "text": [
      "Loaded 6 documents\n",
      "Fitting role classifier: domain='general', intent='get_aggregate', entity_type='maritaldesc'\n",
      "No role model configuration set. Using default.\n"
     ]
    },
    {
     "name": "stderr",
     "output_type": "stream",
     "text": [
      "\n"
     ]
    },
    {
     "name": "stdout",
     "output_type": "stream",
     "text": [
      "Importing synonym data to synonym index 'synonym_maritaldesc'\n",
      "Elasticsearch index 'synonym_maritaldesc' for application 'hr_assistant' already exists!\n",
      "Loading index 'synonym_maritaldesc'\n"
     ]
    },
    {
     "name": "stderr",
     "output_type": "stream",
     "text": [
      "100%|██████████| 5/5 [00:00<00:00, 137.45it/s]"
     ]
    },
    {
     "name": "stdout",
     "output_type": "stream",
     "text": [
      "Loaded 5 documents\n",
      "Fitting role classifier: domain='general', intent='get_aggregate', entity_type='employee_source'\n",
      "No role model configuration set. Using default.\n",
      "Importing synonym data to synonym index 'synonym_employee_source'\n",
      "Elasticsearch index 'synonym_employee_source' for application 'hr_assistant' already exists!\n",
      "Loading index 'synonym_employee_source'\n"
     ]
    },
    {
     "name": "stderr",
     "output_type": "stream",
     "text": [
      "\n",
      "100%|██████████| 20/20 [00:00<00:00, 438.88it/s]"
     ]
    },
    {
     "name": "stdout",
     "output_type": "stream",
     "text": [
      "Loaded 20 documents\n",
      "Fitting role classifier: domain='general', intent='get_aggregate', entity_type='function'\n",
      "No role model configuration set. Using default.\n",
      "Importing synonym data to synonym index 'synonym_function'\n",
      "Elasticsearch index 'synonym_function' for application 'hr_assistant' already exists!\n",
      "Loading index 'synonym_function'\n"
     ]
    },
    {
     "name": "stderr",
     "output_type": "stream",
     "text": [
      "\n",
      "100%|██████████| 4/4 [00:00<00:00, 149.22it/s]"
     ]
    },
    {
     "name": "stdout",
     "output_type": "stream",
     "text": [
      "Loaded 4 documents\n",
      "Fitting role classifier: domain='general', intent='get_aggregate', entity_type='position'\n",
      "No role model configuration set. Using default.\n",
      "Importing synonym data to synonym index 'synonym_position'\n",
      "Elasticsearch index 'synonym_position' for application 'hr_assistant' already exists!\n",
      "Loading index 'synonym_position'\n"
     ]
    },
    {
     "name": "stderr",
     "output_type": "stream",
     "text": [
      "\n",
      "100%|██████████| 24/24 [00:00<00:00, 471.10it/s]"
     ]
    },
    {
     "name": "stdout",
     "output_type": "stream",
     "text": [
      "Loaded 24 documents\n",
      "Fitting role classifier: domain='general', intent='get_aggregate', entity_type='dob'\n",
      "No role model configuration set. Using default.\n",
      "Importing synonym data to synonym index 'synonym_dob'\n",
      "Elasticsearch index 'synonym_dob' for application 'hr_assistant' already exists!\n",
      "Loading index 'synonym_dob'\n"
     ]
    },
    {
     "name": "stderr",
     "output_type": "stream",
     "text": [
      "\n",
      "100%|██████████| 1/1 [00:00<00:00, 54.03it/s]"
     ]
    },
    {
     "name": "stdout",
     "output_type": "stream",
     "text": [
      "Loaded 1 document\n",
      "Fitting role classifier: domain='general', intent='get_aggregate', entity_type='manager'\n",
      "No role model configuration set. Using default.\n",
      "Importing synonym data to synonym index 'synonym_manager'\n",
      "Elasticsearch index 'synonym_manager' for application 'hr_assistant' already exists!\n",
      "Loading index 'synonym_manager'\n"
     ]
    },
    {
     "name": "stderr",
     "output_type": "stream",
     "text": [
      "\n",
      "100%|██████████| 1/1 [00:00<00:00, 45.39it/s]"
     ]
    },
    {
     "name": "stdout",
     "output_type": "stream",
     "text": [
      "Loaded 1 document\n",
      "Fitting role classifier: domain='general', intent='get_aggregate', entity_type='performance_score'\n"
     ]
    },
    {
     "name": "stderr",
     "output_type": "stream",
     "text": [
      "\n"
     ]
    },
    {
     "name": "stdout",
     "output_type": "stream",
     "text": [
      "No role model configuration set. Using default.\n",
      "Importing synonym data to synonym index 'synonym_performance_score'\n",
      "Elasticsearch index 'synonym_performance_score' for application 'hr_assistant' already exists!\n",
      "Loading index 'synonym_performance_score'\n"
     ]
    },
    {
     "name": "stderr",
     "output_type": "stream",
     "text": [
      "100%|██████████| 7/7 [00:00<00:00, 184.61it/s]"
     ]
    },
    {
     "name": "stdout",
     "output_type": "stream",
     "text": [
      "Loaded 7 documents\n",
      "Fitting role classifier: domain='general', intent='get_aggregate', entity_type='extreme'\n",
      "No role model configuration set. Using default.\n",
      "Importing synonym data to synonym index 'synonym_extreme'\n",
      "Elasticsearch index 'synonym_extreme' for application 'hr_assistant' already exists!\n",
      "Loading index 'synonym_extreme'\n"
     ]
    },
    {
     "name": "stderr",
     "output_type": "stream",
     "text": [
      "\n",
      "100%|██████████| 2/2 [00:00<00:00, 60.26it/s]"
     ]
    },
    {
     "name": "stdout",
     "output_type": "stream",
     "text": [
      "Loaded 2 documents\n"
     ]
    },
    {
     "name": "stderr",
     "output_type": "stream",
     "text": [
      "\n"
     ]
    },
    {
     "name": "stdout",
     "output_type": "stream",
     "text": [
      "Fitting role classifier: domain='general', intent='get_aggregate', entity_type='sys_time'\n",
      "No role model configuration set. Using default.\n",
      "Fitting role classifier: domain='general', intent='get_aggregate', entity_type='employment_status'\n",
      "No role model configuration set. Using default.\n",
      "Importing synonym data to synonym index 'synonym_employment_status'\n",
      "Elasticsearch index 'synonym_employment_status' for application 'hr_assistant' already exists!\n",
      "Loading index 'synonym_employment_status'\n"
     ]
    },
    {
     "name": "stderr",
     "output_type": "stream",
     "text": [
      "100%|██████████| 5/5 [00:00<00:00, 106.97it/s]"
     ]
    },
    {
     "name": "stdout",
     "output_type": "stream",
     "text": [
      "Loaded 5 documents\n",
      "Fitting role classifier: domain='general', intent='get_aggregate', entity_type='citizendesc'\n"
     ]
    },
    {
     "name": "stderr",
     "output_type": "stream",
     "text": [
      "\n"
     ]
    },
    {
     "name": "stdout",
     "output_type": "stream",
     "text": [
      "No role model configuration set. Using default.\n",
      "Importing synonym data to synonym index 'synonym_citizendesc'\n",
      "Elasticsearch index 'synonym_citizendesc' for application 'hr_assistant' already exists!\n",
      "Loading index 'synonym_citizendesc'\n"
     ]
    },
    {
     "name": "stderr",
     "output_type": "stream",
     "text": [
      "100%|██████████| 3/3 [00:00<00:00, 89.87it/s]"
     ]
    },
    {
     "name": "stdout",
     "output_type": "stream",
     "text": [
      "Loaded 3 documents\n",
      "Fitting role classifier: domain='general', intent='get_aggregate', entity_type='sex'\n",
      "No role model configuration set. Using default.\n"
     ]
    },
    {
     "name": "stderr",
     "output_type": "stream",
     "text": [
      "\n"
     ]
    },
    {
     "name": "stdout",
     "output_type": "stream",
     "text": [
      "Importing synonym data to synonym index 'synonym_sex'\n",
      "Elasticsearch index 'synonym_sex' for application 'hr_assistant' already exists!\n",
      "Loading index 'synonym_sex'\n"
     ]
    },
    {
     "name": "stderr",
     "output_type": "stream",
     "text": [
      "100%|██████████| 2/2 [00:00<00:00, 85.00it/s]"
     ]
    },
    {
     "name": "stdout",
     "output_type": "stream",
     "text": [
      "Loaded 2 documents\n",
      "Fitting role classifier: domain='general', intent='get_aggregate', entity_type='state'\n",
      "No role model configuration set. Using default.\n",
      "Importing synonym data to synonym index 'synonym_state'\n"
     ]
    },
    {
     "name": "stderr",
     "output_type": "stream",
     "text": [
      "\n"
     ]
    },
    {
     "name": "stdout",
     "output_type": "stream",
     "text": [
      "Elasticsearch index 'synonym_state' for application 'hr_assistant' already exists!\n",
      "Loading index 'synonym_state'\n"
     ]
    },
    {
     "name": "stderr",
     "output_type": "stream",
     "text": [
      "100%|██████████| 28/28 [00:00<00:00, 598.91it/s]"
     ]
    },
    {
     "name": "stdout",
     "output_type": "stream",
     "text": [
      "Loaded 28 documents\n",
      "Fitting role classifier: domain='general', intent='get_aggregate', entity_type='age'\n",
      "No role model configuration set. Using default.\n",
      "Importing synonym data to synonym index 'synonym_age'\n",
      "Elasticsearch index 'synonym_age' for application 'hr_assistant' already exists!\n",
      "Loading index 'synonym_age'\n"
     ]
    },
    {
     "name": "stderr",
     "output_type": "stream",
     "text": [
      "\n",
      "100%|██████████| 39/39 [00:00<00:00, 908.54it/s]"
     ]
    },
    {
     "name": "stdout",
     "output_type": "stream",
     "text": [
      "Loaded 39 documents\n",
      "Fitting role classifier: domain='general', intent='get_aggregate', entity_type='name'\n",
      "No role model configuration set. Using default.\n",
      "Importing synonym data to synonym index 'synonym_name'\n"
     ]
    },
    {
     "name": "stderr",
     "output_type": "stream",
     "text": [
      "\n"
     ]
    },
    {
     "name": "stdout",
     "output_type": "stream",
     "text": [
      "Elasticsearch index 'synonym_name' for application 'hr_assistant' already exists!\n",
      "Loading index 'synonym_name'\n"
     ]
    },
    {
     "name": "stderr",
     "output_type": "stream",
     "text": [
      "100%|██████████| 245/245 [00:00<00:00, 803.62it/s]"
     ]
    },
    {
     "name": "stdout",
     "output_type": "stream",
     "text": [
      "Loaded 245 documents\n",
      "Fitting intent classifier: domain='salary'\n"
     ]
    },
    {
     "name": "stderr",
     "output_type": "stream",
     "text": [
      "\n"
     ]
    },
    {
     "name": "stdout",
     "output_type": "stream",
     "text": [
      "Selecting hyperparameters using k-fold cross-validation with 5 splits\n",
      "Best accuracy: 97.04%, params: {'C': 100, 'class_weight': {0: 1.0, 1: 1.0, 2: 1.0}, 'fit_intercept': True}\n",
      "Fitting entity recognizer: domain='salary', intent='get_salary_employees'\n",
      "No entity model configuration set. Using default.\n",
      "Selecting hyperparameters using k-fold cross-validation with 5 splits\n",
      "Best accuracy: 93.75%, params: {'C': 100, 'penalty': 'l1'}\n",
      "No entity_resolution model configuration set. Using default.\n",
      "No entity_resolution model configuration set. Using default.\n",
      "No entity_resolution model configuration set. Using default.\n",
      "No entity_resolution model configuration set. Using default.\n",
      "No entity_resolution model configuration set. Using default.\n",
      "No entity_resolution model configuration set. Using default.\n",
      "No entity_resolution model configuration set. Using default.\n",
      "No entity_resolution model configuration set. Using default.\n",
      "No entity_resolution model configuration set. Using default.\n",
      "No entity_resolution model configuration set. Using default.\n",
      "No entity_resolution model configuration set. Using default.\n",
      "No entity_resolution model configuration set. Using default.\n",
      "No entity_resolution model configuration set. Using default.\n",
      "No entity_resolution model configuration set. Using default.\n",
      "No entity_resolution model configuration set. Using default.\n",
      "No entity_resolution model configuration set. Using default.\n",
      "No entity_resolution model configuration set. Using default.\n",
      "No entity_resolution model configuration set. Using default.\n",
      "No entity_resolution model configuration set. Using default.\n",
      "No entity_resolution model configuration set. Using default.\n",
      "Fitting role classifier: domain='salary', intent='get_salary_employees', entity_type='sys_number'\n",
      "No role model configuration set. Using default.\n",
      "Fitting role classifier: domain='salary', intent='get_salary_employees', entity_type='money'\n",
      "No role model configuration set. Using default.\n",
      "Importing synonym data to synonym index 'synonym_money'\n",
      "Elasticsearch index 'synonym_money' for application 'hr_assistant' already exists!\n",
      "Loading index 'synonym_money'\n"
     ]
    },
    {
     "name": "stderr",
     "output_type": "stream",
     "text": [
      "100%|██████████| 1/1 [00:00<00:00, 51.93it/s]"
     ]
    },
    {
     "name": "stdout",
     "output_type": "stream",
     "text": [
      "Loaded 1 document\n",
      "Fitting role classifier: domain='salary', intent='get_salary_employees', entity_type='name'\n",
      "No role model configuration set. Using default.\n",
      "Importing synonym data to synonym index 'synonym_name'\n",
      "Elasticsearch index 'synonym_name' for application 'hr_assistant' already exists!\n",
      "Loading index 'synonym_name'\n"
     ]
    },
    {
     "name": "stderr",
     "output_type": "stream",
     "text": [
      "\n",
      "100%|██████████| 245/245 [00:00<00:00, 1149.51it/s]"
     ]
    },
    {
     "name": "stdout",
     "output_type": "stream",
     "text": [
      "Loaded 245 documents\n",
      "Fitting role classifier: domain='salary', intent='get_salary_employees', entity_type='racedesc'\n",
      "No role model configuration set. Using default.\n",
      "Importing synonym data to synonym index 'synonym_racedesc'\n",
      "Elasticsearch index 'synonym_racedesc' for application 'hr_assistant' already exists!\n",
      "Loading index 'synonym_racedesc'\n"
     ]
    },
    {
     "name": "stderr",
     "output_type": "stream",
     "text": [
      "\n",
      "100%|██████████| 6/6 [00:00<00:00, 188.83it/s]"
     ]
    },
    {
     "name": "stdout",
     "output_type": "stream",
     "text": [
      "Loaded 6 documents\n",
      "Fitting role classifier: domain='salary', intent='get_salary_employees', entity_type='department'\n",
      "No role model configuration set. Using default.\n",
      "Importing synonym data to synonym index 'synonym_department'\n",
      "Elasticsearch index 'synonym_department' for application 'hr_assistant' already exists!\n",
      "Loading index 'synonym_department'\n"
     ]
    },
    {
     "name": "stderr",
     "output_type": "stream",
     "text": [
      "\n",
      "100%|██████████| 6/6 [00:00<00:00, 165.62it/s]"
     ]
    },
    {
     "name": "stdout",
     "output_type": "stream",
     "text": [
      "Loaded 6 documents\n",
      "Fitting role classifier: domain='salary', intent='get_salary_employees', entity_type='sys_duration'\n",
      "No role model configuration set. Using default.\n"
     ]
    },
    {
     "name": "stderr",
     "output_type": "stream",
     "text": [
      "\n"
     ]
    },
    {
     "name": "stdout",
     "output_type": "stream",
     "text": [
      "Fitting role classifier: domain='salary', intent='get_salary_employees', entity_type='manager'\n",
      "No role model configuration set. Using default.\n",
      "Importing synonym data to synonym index 'synonym_manager'\n",
      "Elasticsearch index 'synonym_manager' for application 'hr_assistant' already exists!\n",
      "Loading index 'synonym_manager'\n"
     ]
    },
    {
     "name": "stderr",
     "output_type": "stream",
     "text": [
      "100%|██████████| 1/1 [00:00<00:00, 55.25it/s]"
     ]
    },
    {
     "name": "stdout",
     "output_type": "stream",
     "text": [
      "Loaded 1 document\n",
      "Fitting role classifier: domain='salary', intent='get_salary_employees', entity_type='sys_amount-of-money'\n",
      "No role model configuration set. Using default.\n",
      "Fitting role classifier: domain='salary', intent='get_salary_employees', entity_type='comparator'\n",
      "No role model configuration set. Using default.\n",
      "Importing synonym data to synonym index 'synonym_comparator'\n",
      "Elasticsearch index 'synonym_comparator' for application 'hr_assistant' already exists!\n",
      "Loading index 'synonym_comparator'\n"
     ]
    },
    {
     "name": "stderr",
     "output_type": "stream",
     "text": [
      "\n",
      "100%|██████████| 4/4 [00:00<00:00, 142.35it/s]"
     ]
    },
    {
     "name": "stdout",
     "output_type": "stream",
     "text": [
      "Loaded 4 documents\n",
      "Fitting role classifier: domain='salary', intent='get_salary_employees', entity_type='extreme'\n",
      "No role model configuration set. Using default.\n",
      "Importing synonym data to synonym index 'synonym_extreme'\n",
      "Elasticsearch index 'synonym_extreme' for application 'hr_assistant' already exists!\n",
      "Loading index 'synonym_extreme'\n"
     ]
    },
    {
     "name": "stderr",
     "output_type": "stream",
     "text": [
      "\n",
      "100%|██████████| 2/2 [00:00<00:00, 71.07it/s]"
     ]
    },
    {
     "name": "stdout",
     "output_type": "stream",
     "text": [
      "Loaded 2 documents\n",
      "Fitting role classifier: domain='salary', intent='get_salary_employees', entity_type='date_compare'\n",
      "No role model configuration set. Using default.\n",
      "Importing synonym data to synonym index 'synonym_date_compare'\n",
      "Elasticsearch index 'synonym_date_compare' for application 'hr_assistant' already exists!\n",
      "Loading index 'synonym_date_compare'\n"
     ]
    },
    {
     "name": "stderr",
     "output_type": "stream",
     "text": [
      "\n",
      "100%|██████████| 2/2 [00:00<00:00, 58.65it/s]"
     ]
    },
    {
     "name": "stdout",
     "output_type": "stream",
     "text": [
      "Loaded 2 documents\n",
      "Fitting role classifier: domain='salary', intent='get_salary_employees', entity_type='sys_time'\n",
      "No role model configuration set. Using default.\n",
      "Fitting role classifier: domain='salary', intent='get_salary_employees', entity_type='employment_status'\n",
      "No role model configuration set. Using default.\n"
     ]
    },
    {
     "name": "stderr",
     "output_type": "stream",
     "text": [
      "\n"
     ]
    },
    {
     "name": "stdout",
     "output_type": "stream",
     "text": [
      "Importing synonym data to synonym index 'synonym_employment_status'\n",
      "Elasticsearch index 'synonym_employment_status' for application 'hr_assistant' already exists!\n",
      "Loading index 'synonym_employment_status'\n"
     ]
    },
    {
     "name": "stderr",
     "output_type": "stream",
     "text": [
      "100%|██████████| 5/5 [00:00<00:00, 93.27it/s]"
     ]
    },
    {
     "name": "stdout",
     "output_type": "stream",
     "text": [
      "Loaded 5 documents\n"
     ]
    },
    {
     "name": "stderr",
     "output_type": "stream",
     "text": [
      "\n"
     ]
    },
    {
     "name": "stdout",
     "output_type": "stream",
     "text": [
      "Fitting role classifier: domain='salary', intent='get_salary_employees', entity_type='time_recur'\n",
      "No role model configuration set. Using default.\n",
      "Importing synonym data to synonym index 'synonym_time_recur'\n",
      "Elasticsearch index 'synonym_time_recur' for application 'hr_assistant' already exists!\n",
      "Loading index 'synonym_time_recur'\n"
     ]
    },
    {
     "name": "stderr",
     "output_type": "stream",
     "text": [
      "100%|██████████| 5/5 [00:00<00:00, 121.15it/s]"
     ]
    },
    {
     "name": "stdout",
     "output_type": "stream",
     "text": [
      "Loaded 5 documents\n",
      "Fitting role classifier: domain='salary', intent='get_salary_employees', entity_type='employee_source'\n",
      "No role model configuration set. Using default.\n",
      "Importing synonym data to synonym index 'synonym_employee_source'\n",
      "Elasticsearch index 'synonym_employee_source' for application 'hr_assistant' already exists!\n",
      "Loading index 'synonym_employee_source'\n"
     ]
    },
    {
     "name": "stderr",
     "output_type": "stream",
     "text": [
      "\n",
      "100%|██████████| 20/20 [00:00<00:00, 437.51it/s]"
     ]
    },
    {
     "name": "stdout",
     "output_type": "stream",
     "text": [
      "Loaded 20 documents\n",
      "Fitting role classifier: domain='salary', intent='get_salary_employees', entity_type='citizendesc'\n",
      "No role model configuration set. Using default.\n"
     ]
    },
    {
     "name": "stderr",
     "output_type": "stream",
     "text": [
      "\n"
     ]
    },
    {
     "name": "stdout",
     "output_type": "stream",
     "text": [
      "Importing synonym data to synonym index 'synonym_citizendesc'\n",
      "Elasticsearch index 'synonym_citizendesc' for application 'hr_assistant' already exists!\n",
      "Loading index 'synonym_citizendesc'\n"
     ]
    },
    {
     "name": "stderr",
     "output_type": "stream",
     "text": [
      "100%|██████████| 3/3 [00:00<00:00, 89.63it/s]"
     ]
    },
    {
     "name": "stdout",
     "output_type": "stream",
     "text": [
      "Loaded 3 documents\n",
      "Fitting role classifier: domain='salary', intent='get_salary_employees', entity_type='sex'\n",
      "No role model configuration set. Using default.\n",
      "Importing synonym data to synonym index 'synonym_sex'\n"
     ]
    },
    {
     "name": "stderr",
     "output_type": "stream",
     "text": [
      "\n"
     ]
    },
    {
     "name": "stdout",
     "output_type": "stream",
     "text": [
      "Elasticsearch index 'synonym_sex' for application 'hr_assistant' already exists!\n",
      "Loading index 'synonym_sex'\n"
     ]
    },
    {
     "name": "stderr",
     "output_type": "stream",
     "text": [
      "100%|██████████| 2/2 [00:00<00:00, 67.66it/s]"
     ]
    },
    {
     "name": "stdout",
     "output_type": "stream",
     "text": [
      "Loaded 2 documents\n",
      "Fitting role classifier: domain='salary', intent='get_salary_employees', entity_type='employment_action'\n",
      "No role model configuration set. Using default.\n",
      "Importing synonym data to synonym index 'synonym_employment_action'\n",
      "Elasticsearch index 'synonym_employment_action' for application 'hr_assistant' already exists!\n",
      "Loading index 'synonym_employment_action'\n"
     ]
    },
    {
     "name": "stderr",
     "output_type": "stream",
     "text": [
      "\n",
      "100%|██████████| 2/2 [00:00<00:00, 70.25it/s]"
     ]
    },
    {
     "name": "stdout",
     "output_type": "stream",
     "text": [
      "Loaded 2 documents\n",
      "Fitting role classifier: domain='salary', intent='get_salary_employees', entity_type='function'\n",
      "No role model configuration set. Using default.\n",
      "Importing synonym data to synonym index 'synonym_function'\n",
      "Elasticsearch index 'synonym_function' for application 'hr_assistant' already exists!\n",
      "Loading index 'synonym_function'\n"
     ]
    },
    {
     "name": "stderr",
     "output_type": "stream",
     "text": [
      "\n",
      "100%|██████████| 4/4 [00:00<00:00, 99.33it/s]"
     ]
    },
    {
     "name": "stdout",
     "output_type": "stream",
     "text": [
      "Loaded 4 documents\n",
      "Fitting role classifier: domain='salary', intent='get_salary_employees', entity_type='position'\n",
      "No role model configuration set. Using default.\n",
      "Importing synonym data to synonym index 'synonym_position'\n"
     ]
    },
    {
     "name": "stderr",
     "output_type": "stream",
     "text": [
      "\n"
     ]
    },
    {
     "name": "stdout",
     "output_type": "stream",
     "text": [
      "Elasticsearch index 'synonym_position' for application 'hr_assistant' already exists!\n",
      "Loading index 'synonym_position'\n"
     ]
    },
    {
     "name": "stderr",
     "output_type": "stream",
     "text": [
      "100%|██████████| 24/24 [00:00<00:00, 590.67it/s]"
     ]
    },
    {
     "name": "stdout",
     "output_type": "stream",
     "text": [
      "Loaded 24 documents\n",
      "Fitting entity recognizer: domain='salary', intent='get_salary_aggregate'\n"
     ]
    },
    {
     "name": "stderr",
     "output_type": "stream",
     "text": [
      "\n"
     ]
    },
    {
     "name": "stdout",
     "output_type": "stream",
     "text": [
      "No entity model configuration set. Using default.\n",
      "Selecting hyperparameters using k-fold cross-validation with 5 splits\n",
      "Best accuracy: 92.47%, params: {'C': 100, 'penalty': 'l1'}\n",
      "No entity_resolution model configuration set. Using default.\n",
      "No entity_resolution model configuration set. Using default.\n",
      "No entity_resolution model configuration set. Using default.\n",
      "No entity_resolution model configuration set. Using default.\n",
      "No entity_resolution model configuration set. Using default.\n",
      "No entity_resolution model configuration set. Using default.\n",
      "No entity_resolution model configuration set. Using default.\n",
      "No entity_resolution model configuration set. Using default.\n",
      "No entity_resolution model configuration set. Using default.\n",
      "No entity_resolution model configuration set. Using default.\n",
      "No entity_resolution model configuration set. Using default.\n",
      "No entity_resolution model configuration set. Using default.\n",
      "No entity_resolution model configuration set. Using default.\n",
      "No entity_resolution model configuration set. Using default.\n",
      "No entity_resolution model configuration set. Using default.\n",
      "No entity_resolution model configuration set. Using default.\n",
      "No entity_resolution model configuration set. Using default.\n",
      "No entity_resolution model configuration set. Using default.\n",
      "No entity_resolution model configuration set. Using default.\n",
      "No entity_resolution model configuration set. Using default.\n",
      "Fitting role classifier: domain='salary', intent='get_salary_aggregate', entity_type='sys_number'\n",
      "No role model configuration set. Using default.\n",
      "Fitting role classifier: domain='salary', intent='get_salary_aggregate', entity_type='money'\n",
      "No role model configuration set. Using default.\n",
      "Importing synonym data to synonym index 'synonym_money'\n",
      "Elasticsearch index 'synonym_money' for application 'hr_assistant' already exists!\n",
      "Loading index 'synonym_money'\n"
     ]
    },
    {
     "name": "stderr",
     "output_type": "stream",
     "text": [
      "100%|██████████| 1/1 [00:00<00:00, 49.74it/s]"
     ]
    },
    {
     "name": "stdout",
     "output_type": "stream",
     "text": [
      "Loaded 1 document\n",
      "Fitting role classifier: domain='salary', intent='get_salary_aggregate', entity_type='sys_duration'\n",
      "No role model configuration set. Using default.\n",
      "Fitting role classifier: domain='salary', intent='get_salary_aggregate', entity_type='name'\n",
      "No role model configuration set. Using default.\n",
      "Importing synonym data to synonym index 'synonym_name'\n",
      "Elasticsearch index 'synonym_name' for application 'hr_assistant' already exists!\n",
      "Loading index 'synonym_name'\n"
     ]
    },
    {
     "name": "stderr",
     "output_type": "stream",
     "text": [
      "\n",
      "100%|██████████| 245/245 [00:00<00:00, 1107.31it/s]"
     ]
    },
    {
     "name": "stdout",
     "output_type": "stream",
     "text": [
      "Loaded 245 documents\n",
      "Fitting role classifier: domain='salary', intent='get_salary_aggregate', entity_type='department'\n",
      "No role model configuration set. Using default.\n",
      "Importing synonym data to synonym index 'synonym_department'\n",
      "Elasticsearch index 'synonym_department' for application 'hr_assistant' already exists!\n",
      "Loading index 'synonym_department'\n"
     ]
    },
    {
     "name": "stderr",
     "output_type": "stream",
     "text": [
      "\n",
      "100%|██████████| 6/6 [00:00<00:00, 216.33it/s]"
     ]
    },
    {
     "name": "stdout",
     "output_type": "stream",
     "text": [
      "Loaded 6 documents\n",
      "Fitting role classifier: domain='salary', intent='get_salary_aggregate', entity_type='dob'\n",
      "No role model configuration set. Using default.\n",
      "Importing synonym data to synonym index 'synonym_dob'\n",
      "Elasticsearch index 'synonym_dob' for application 'hr_assistant' already exists!\n",
      "Loading index 'synonym_dob'\n"
     ]
    },
    {
     "name": "stderr",
     "output_type": "stream",
     "text": [
      "\n",
      "100%|██████████| 1/1 [00:00<00:00, 37.90it/s]"
     ]
    },
    {
     "name": "stdout",
     "output_type": "stream",
     "text": [
      "Loaded 1 document\n",
      "Fitting role classifier: domain='salary', intent='get_salary_aggregate', entity_type='manager'\n",
      "No role model configuration set. Using default.\n",
      "Importing synonym data to synonym index 'synonym_manager'\n"
     ]
    },
    {
     "name": "stderr",
     "output_type": "stream",
     "text": [
      "\n"
     ]
    },
    {
     "name": "stdout",
     "output_type": "stream",
     "text": [
      "Elasticsearch index 'synonym_manager' for application 'hr_assistant' already exists!\n",
      "Loading index 'synonym_manager'\n"
     ]
    },
    {
     "name": "stderr",
     "output_type": "stream",
     "text": [
      "100%|██████████| 1/1 [00:00<00:00, 61.46it/s]"
     ]
    },
    {
     "name": "stdout",
     "output_type": "stream",
     "text": [
      "Loaded 1 document\n",
      "Fitting role classifier: domain='salary', intent='get_salary_aggregate', entity_type='sys_amount-of-money'\n",
      "No role model configuration set. Using default.\n",
      "Fitting role classifier: domain='salary', intent='get_salary_aggregate', entity_type='employee_source'\n",
      "No role model configuration set. Using default.\n",
      "Importing synonym data to synonym index 'synonym_employee_source'\n",
      "Elasticsearch index 'synonym_employee_source' for application 'hr_assistant' already exists!\n",
      "Loading index 'synonym_employee_source'\n"
     ]
    },
    {
     "name": "stderr",
     "output_type": "stream",
     "text": [
      "\n",
      "100%|██████████| 20/20 [00:00<00:00, 382.50it/s]"
     ]
    },
    {
     "name": "stdout",
     "output_type": "stream",
     "text": [
      "Loaded 20 documents\n",
      "Fitting role classifier: domain='salary', intent='get_salary_aggregate', entity_type='extreme'\n",
      "No role model configuration set. Using default.\n",
      "Importing synonym data to synonym index 'synonym_extreme'\n",
      "Elasticsearch index 'synonym_extreme' for application 'hr_assistant' already exists!\n",
      "Loading index 'synonym_extreme'\n"
     ]
    },
    {
     "name": "stderr",
     "output_type": "stream",
     "text": [
      "\n",
      "100%|██████████| 2/2 [00:00<00:00, 61.08it/s]"
     ]
    },
    {
     "name": "stdout",
     "output_type": "stream",
     "text": [
      "Loaded 2 documents\n",
      "Fitting role classifier: domain='salary', intent='get_salary_aggregate', entity_type='sys_time'\n",
      "No role model configuration set. Using default.\n",
      "Fitting role classifier: domain='salary', intent='get_salary_aggregate', entity_type='comparator'\n",
      "No role model configuration set. Using default.\n",
      "Importing synonym data to synonym index 'synonym_comparator'\n",
      "Elasticsearch index 'synonym_comparator' for application 'hr_assistant' already exists!\n",
      "Loading index 'synonym_comparator'\n"
     ]
    },
    {
     "name": "stderr",
     "output_type": "stream",
     "text": [
      "\n",
      "100%|██████████| 4/4 [00:00<00:00, 118.68it/s]"
     ]
    },
    {
     "name": "stdout",
     "output_type": "stream",
     "text": [
      "Loaded 4 documents\n"
     ]
    },
    {
     "name": "stderr",
     "output_type": "stream",
     "text": [
      "\n"
     ]
    },
    {
     "name": "stdout",
     "output_type": "stream",
     "text": [
      "Fitting role classifier: domain='salary', intent='get_salary_aggregate', entity_type='time_recur'\n",
      "No role model configuration set. Using default.\n",
      "Importing synonym data to synonym index 'synonym_time_recur'\n",
      "Elasticsearch index 'synonym_time_recur' for application 'hr_assistant' already exists!\n",
      "Loading index 'synonym_time_recur'\n"
     ]
    },
    {
     "name": "stderr",
     "output_type": "stream",
     "text": [
      "100%|██████████| 5/5 [00:00<00:00, 148.06it/s]"
     ]
    },
    {
     "name": "stdout",
     "output_type": "stream",
     "text": [
      "Loaded 5 documents\n",
      "Fitting role classifier: domain='salary', intent='get_salary_aggregate', entity_type='date_compare'\n",
      "No role model configuration set. Using default.\n",
      "Importing synonym data to synonym index 'synonym_date_compare'\n",
      "Elasticsearch index 'synonym_date_compare' for application 'hr_assistant' already exists!\n",
      "Loading index 'synonym_date_compare'\n"
     ]
    },
    {
     "name": "stderr",
     "output_type": "stream",
     "text": [
      "\n",
      "100%|██████████| 2/2 [00:00<00:00, 63.59it/s]"
     ]
    },
    {
     "name": "stdout",
     "output_type": "stream",
     "text": [
      "Loaded 2 documents\n",
      "Fitting role classifier: domain='salary', intent='get_salary_aggregate', entity_type='employment_action'\n",
      "No role model configuration set. Using default.\n",
      "Importing synonym data to synonym index 'synonym_employment_action'\n",
      "Elasticsearch index 'synonym_employment_action' for application 'hr_assistant' already exists!\n",
      "Loading index 'synonym_employment_action'\n"
     ]
    },
    {
     "name": "stderr",
     "output_type": "stream",
     "text": [
      "\n",
      "100%|██████████| 2/2 [00:00<00:00, 73.52it/s]"
     ]
    },
    {
     "name": "stdout",
     "output_type": "stream",
     "text": [
      "Loaded 2 documents\n",
      "Fitting role classifier: domain='salary', intent='get_salary_aggregate', entity_type='sex'\n",
      "No role model configuration set. Using default.\n",
      "Importing synonym data to synonym index 'synonym_sex'\n",
      "Elasticsearch index 'synonym_sex' for application 'hr_assistant' already exists!\n",
      "Loading index 'synonym_sex'\n"
     ]
    },
    {
     "name": "stderr",
     "output_type": "stream",
     "text": [
      "\n",
      "100%|██████████| 2/2 [00:00<00:00, 61.01it/s]"
     ]
    },
    {
     "name": "stdout",
     "output_type": "stream",
     "text": [
      "Loaded 2 documents\n",
      "Fitting role classifier: domain='salary', intent='get_salary_aggregate', entity_type='citizendesc'\n",
      "No role model configuration set. Using default.\n",
      "Importing synonym data to synonym index 'synonym_citizendesc'\n"
     ]
    },
    {
     "name": "stderr",
     "output_type": "stream",
     "text": [
      "\n"
     ]
    },
    {
     "name": "stdout",
     "output_type": "stream",
     "text": [
      "Elasticsearch index 'synonym_citizendesc' for application 'hr_assistant' already exists!\n",
      "Loading index 'synonym_citizendesc'\n"
     ]
    },
    {
     "name": "stderr",
     "output_type": "stream",
     "text": [
      "100%|██████████| 3/3 [00:00<00:00, 88.21it/s]"
     ]
    },
    {
     "name": "stdout",
     "output_type": "stream",
     "text": [
      "Loaded 3 documents\n",
      "Fitting role classifier: domain='salary', intent='get_salary_aggregate', entity_type='state'\n",
      "No role model configuration set. Using default.\n",
      "Importing synonym data to synonym index 'synonym_state'\n",
      "Elasticsearch index 'synonym_state' for application 'hr_assistant' already exists!\n",
      "Loading index 'synonym_state'\n"
     ]
    },
    {
     "name": "stderr",
     "output_type": "stream",
     "text": [
      "\n",
      "100%|██████████| 28/28 [00:00<00:00, 492.91it/s]"
     ]
    },
    {
     "name": "stdout",
     "output_type": "stream",
     "text": [
      "Loaded 28 documents\n",
      "Fitting role classifier: domain='salary', intent='get_salary_aggregate', entity_type='function'\n",
      "No role model configuration set. Using default.\n",
      "Importing synonym data to synonym index 'synonym_function'\n",
      "Elasticsearch index 'synonym_function' for application 'hr_assistant' already exists!\n"
     ]
    },
    {
     "name": "stderr",
     "output_type": "stream",
     "text": [
      "\n"
     ]
    },
    {
     "name": "stdout",
     "output_type": "stream",
     "text": [
      "Loading index 'synonym_function'\n"
     ]
    },
    {
     "name": "stderr",
     "output_type": "stream",
     "text": [
      "100%|██████████| 4/4 [00:00<00:00, 81.63it/s]"
     ]
    },
    {
     "name": "stdout",
     "output_type": "stream",
     "text": [
      "Loaded 4 documents\n"
     ]
    },
    {
     "name": "stderr",
     "output_type": "stream",
     "text": [
      "\n"
     ]
    },
    {
     "name": "stdout",
     "output_type": "stream",
     "text": [
      "Fitting role classifier: domain='salary', intent='get_salary_aggregate', entity_type='position'\n",
      "No role model configuration set. Using default.\n",
      "Importing synonym data to synonym index 'synonym_position'\n",
      "Elasticsearch index 'synonym_position' for application 'hr_assistant' already exists!\n",
      "Loading index 'synonym_position'\n"
     ]
    },
    {
     "name": "stderr",
     "output_type": "stream",
     "text": [
      "100%|██████████| 24/24 [00:00<00:00, 487.40it/s]"
     ]
    },
    {
     "name": "stdout",
     "output_type": "stream",
     "text": [
      "Loaded 24 documents\n",
      "Fitting entity recognizer: domain='salary', intent='get_salary'\n",
      "No entity model configuration set. Using default.\n"
     ]
    },
    {
     "name": "stderr",
     "output_type": "stream",
     "text": [
      "\n"
     ]
    },
    {
     "name": "stdout",
     "output_type": "stream",
     "text": [
      "Selecting hyperparameters using k-fold cross-validation with 5 splits\n",
      "Best accuracy: 97.97%, params: {'C': 1000000, 'penalty': 'l1'}\n",
      "No entity_resolution model configuration set. Using default.\n",
      "No entity_resolution model configuration set. Using default.\n",
      "No entity_resolution model configuration set. Using default.\n",
      "No entity_resolution model configuration set. Using default.\n",
      "No entity_resolution model configuration set. Using default.\n",
      "No entity_resolution model configuration set. Using default.\n",
      "No entity_resolution model configuration set. Using default.\n",
      "No entity_resolution model configuration set. Using default.\n",
      "No entity_resolution model configuration set. Using default.\n",
      "No entity_resolution model configuration set. Using default.\n",
      "Fitting role classifier: domain='salary', intent='get_salary', entity_type='sys_number'\n",
      "No role model configuration set. Using default.\n",
      "Fitting role classifier: domain='salary', intent='get_salary', entity_type='money'\n",
      "No role model configuration set. Using default.\n",
      "Importing synonym data to synonym index 'synonym_money'\n",
      "Elasticsearch index 'synonym_money' for application 'hr_assistant' already exists!\n",
      "Loading index 'synonym_money'\n"
     ]
    },
    {
     "name": "stderr",
     "output_type": "stream",
     "text": [
      "100%|██████████| 1/1 [00:00<00:00, 46.55it/s]"
     ]
    },
    {
     "name": "stdout",
     "output_type": "stream",
     "text": [
      "Loaded 1 document\n",
      "Fitting role classifier: domain='salary', intent='get_salary', entity_type='sys_duration'\n",
      "No role model configuration set. Using default.\n",
      "Fitting role classifier: domain='salary', intent='get_salary', entity_type='sys_amount-of-money'\n",
      "No role model configuration set. Using default.\n",
      "Fitting role classifier: domain='salary', intent='get_salary', entity_type='comparator'\n",
      "No role model configuration set. Using default.\n",
      "Importing synonym data to synonym index 'synonym_comparator'\n",
      "Elasticsearch index 'synonym_comparator' for application 'hr_assistant' already exists!\n",
      "Loading index 'synonym_comparator'\n"
     ]
    },
    {
     "name": "stderr",
     "output_type": "stream",
     "text": [
      "\n",
      "100%|██████████| 4/4 [00:00<00:00, 138.75it/s]"
     ]
    },
    {
     "name": "stdout",
     "output_type": "stream",
     "text": [
      "Loaded 4 documents\n",
      "Fitting role classifier: domain='salary', intent='get_salary', entity_type='extreme'\n",
      "No role model configuration set. Using default.\n",
      "Importing synonym data to synonym index 'synonym_extreme'\n",
      "Elasticsearch index 'synonym_extreme' for application 'hr_assistant' already exists!\n",
      "Loading index 'synonym_extreme'\n"
     ]
    },
    {
     "name": "stderr",
     "output_type": "stream",
     "text": [
      "\n",
      "100%|██████████| 2/2 [00:00<00:00, 65.08it/s]"
     ]
    },
    {
     "name": "stdout",
     "output_type": "stream",
     "text": [
      "Loaded 2 documents\n",
      "Fitting role classifier: domain='salary', intent='get_salary', entity_type='time_recur'\n",
      "No role model configuration set. Using default.\n",
      "Importing synonym data to synonym index 'synonym_time_recur'\n",
      "Elasticsearch index 'synonym_time_recur' for application 'hr_assistant' already exists!\n",
      "Loading index 'synonym_time_recur'\n"
     ]
    },
    {
     "name": "stderr",
     "output_type": "stream",
     "text": [
      "\n",
      "100%|██████████| 5/5 [00:00<00:00, 150.23it/s]"
     ]
    },
    {
     "name": "stdout",
     "output_type": "stream",
     "text": [
      "Loaded 5 documents\n",
      "Fitting role classifier: domain='salary', intent='get_salary', entity_type='sys_time'\n",
      "No role model configuration set. Using default.\n",
      "Fitting role classifier: domain='salary', intent='get_salary', entity_type='employment_action'\n",
      "No role model configuration set. Using default.\n",
      "Importing synonym data to synonym index 'synonym_employment_action'\n",
      "Elasticsearch index 'synonym_employment_action' for application 'hr_assistant' already exists!\n"
     ]
    },
    {
     "name": "stderr",
     "output_type": "stream",
     "text": [
      "\n"
     ]
    },
    {
     "name": "stdout",
     "output_type": "stream",
     "text": [
      "Loading index 'synonym_employment_action'\n"
     ]
    },
    {
     "name": "stderr",
     "output_type": "stream",
     "text": [
      "100%|██████████| 2/2 [00:00<00:00, 115.40it/s]\n"
     ]
    },
    {
     "name": "stdout",
     "output_type": "stream",
     "text": [
      "Loaded 2 documents\n",
      "Fitting role classifier: domain='salary', intent='get_salary', entity_type='name'\n",
      "No role model configuration set. Using default.\n",
      "Importing synonym data to synonym index 'synonym_name'\n",
      "Elasticsearch index 'synonym_name' for application 'hr_assistant' already exists!\n",
      "Loading index 'synonym_name'\n"
     ]
    },
    {
     "name": "stderr",
     "output_type": "stream",
     "text": [
      "100%|██████████| 245/245 [00:00<00:00, 914.91it/s]"
     ]
    },
    {
     "name": "stdout",
     "output_type": "stream",
     "text": [
      "Loaded 245 documents\n",
      "Fitting entity recognizer: domain='hierarchy', intent='get_hierarchy'\n",
      "No entity model configuration set. Using default.\n"
     ]
    },
    {
     "name": "stderr",
     "output_type": "stream",
     "text": [
      "\n"
     ]
    },
    {
     "name": "stdout",
     "output_type": "stream",
     "text": [
      "Selecting hyperparameters using k-fold cross-validation with 5 splits\n",
      "Best accuracy: 96.40%, params: {'C': 1, 'penalty': 'l2'}\n",
      "No entity_resolution model configuration set. Using default.\n",
      "No entity_resolution model configuration set. Using default.\n",
      "No entity_resolution model configuration set. Using default.\n",
      "Fitting role classifier: domain='hierarchy', intent='get_hierarchy', entity_type='comparator'\n",
      "No role model configuration set. Using default.\n",
      "Importing synonym data to synonym index 'synonym_comparator'\n",
      "Elasticsearch index 'synonym_comparator' for application 'hr_assistant' already exists!\n",
      "Loading index 'synonym_comparator'\n"
     ]
    },
    {
     "name": "stderr",
     "output_type": "stream",
     "text": [
      "100%|██████████| 4/4 [00:00<00:00, 147.37it/s]"
     ]
    },
    {
     "name": "stdout",
     "output_type": "stream",
     "text": [
      "Loaded 4 documents\n",
      "Fitting role classifier: domain='hierarchy', intent='get_hierarchy', entity_type='name'\n",
      "No role model configuration set. Using default.\n",
      "Importing synonym data to synonym index 'synonym_name'\n",
      "Elasticsearch index 'synonym_name' for application 'hr_assistant' already exists!\n",
      "Loading index 'synonym_name'\n"
     ]
    },
    {
     "name": "stderr",
     "output_type": "stream",
     "text": [
      "\n",
      "100%|██████████| 245/245 [00:00<00:00, 1141.45it/s]"
     ]
    },
    {
     "name": "stdout",
     "output_type": "stream",
     "text": [
      "Loaded 245 documents\n",
      "Fitting role classifier: domain='hierarchy', intent='get_hierarchy', entity_type='manager'\n",
      "No role model configuration set. Using default.\n",
      "Importing synonym data to synonym index 'synonym_manager'\n",
      "Elasticsearch index 'synonym_manager' for application 'hr_assistant' already exists!\n",
      "Loading index 'synonym_manager'\n"
     ]
    },
    {
     "name": "stderr",
     "output_type": "stream",
     "text": [
      "\n",
      "100%|██████████| 1/1 [00:00<00:00, 51.78it/s]"
     ]
    },
    {
     "name": "stdout",
     "output_type": "stream",
     "text": [
      "Loaded 1 document\n"
     ]
    },
    {
     "name": "stderr",
     "output_type": "stream",
     "text": [
      "\n"
     ]
    }
   ],
   "source": [
    "nlp.build()"
   ]
  },
  {
   "cell_type": "code",
   "execution_count": 4,
   "metadata": {
    "scrolled": true
   },
   "outputs": [
    {
     "name": "stdout",
     "output_type": "stream",
     "text": [
      "The application package hr_assistant is already imported.\n"
     ]
    },
    {
     "name": "stderr",
     "output_type": "stream",
     "text": [
      "/anaconda3/envs/mm_workspace/lib/python3.6/site-packages/mindmeld/_version.py:64: MindMeldVersionWarning: Current mindmeld (4.1.1) does not satisfy mindmeld==4.1.0 in pip requirements caused by (mindmeld 4.1.1 (/anaconda3/envs/mm_workspace/lib/python3.6/site-packages), Requirement.parse('mindmeld==4.1.0'))\n",
      "  warnings.warn(error_msg, category=MindMeldVersionWarning)\n"
     ]
    }
   ],
   "source": [
    "from mindmeld.components.dialogue import Conversation\n",
    "conv = Conversation(nlp=nlp, app_path='./hr_assistant')"
   ]
  },
  {
   "cell_type": "code",
   "execution_count": 5,
   "metadata": {},
   "outputs": [
    {
     "name": "stdout",
     "output_type": "stream",
     "text": [
      "Elasticsearch index 'user_data' for application 'hr_assistant' already exists!\n",
      "Loading index 'user_data'\n"
     ]
    },
    {
     "name": "stderr",
     "output_type": "stream",
     "text": [
      "100%|██████████| 301/301 [00:00<00:00, 1018.98it/s]"
     ]
    },
    {
     "name": "stdout",
     "output_type": "stream",
     "text": [
      "Loaded 301 documents\n"
     ]
    },
    {
     "name": "stderr",
     "output_type": "stream",
     "text": [
      "\n"
     ]
    },
    {
     "data": {
      "text/plain": [
       "['Julia Soto is Married']"
      ]
     },
     "execution_count": 5,
     "metadata": {},
     "output_type": "execute_result"
    }
   ],
   "source": [
    "conv.say(\"is julia married?\")"
   ]
  },
  {
   "cell_type": "code",
   "execution_count": null,
   "metadata": {},
   "outputs": [],
   "source": []
  },
  {
   "cell_type": "code",
   "execution_count": 6,
   "metadata": {},
   "outputs": [
    {
     "data": {
      "text/plain": [
       "['Based on your query, the average yearly is 55904.22']"
      ]
     },
     "execution_count": 6,
     "metadata": {},
     "output_type": "execute_result"
    }
   ],
   "source": [
    "conv.say(\"average yearly salary of married sales female employees\")"
   ]
  },
  {
   "cell_type": "code",
   "execution_count": 7,
   "metadata": {},
   "outputs": [
    {
     "data": {
      "text/plain": [
       "['The average based on your query is 29.12']"
      ]
     },
     "execution_count": 7,
     "metadata": {},
     "output_type": "execute_result"
    }
   ],
   "source": [
    "conv.say(\"average salary of females in the org\")"
   ]
  },
  {
   "cell_type": "code",
   "execution_count": 8,
   "metadata": {},
   "outputs": [
    {
     "data": {
      "text/plain": [
       "['What would you like to know about Daniel Davis?', 'Listening...']"
      ]
     },
     "execution_count": 8,
     "metadata": {},
     "output_type": "execute_result"
    }
   ],
   "source": [
    "conv.say(\"Can you tell me about daniel?\")"
   ]
  },
  {
   "cell_type": "code",
   "execution_count": 9,
   "metadata": {},
   "outputs": [
    {
     "data": {
      "text/plain": [
       "['I found the following details about Daniel Davis: Reason for Termination : N/A - still employed; Performance Score : 90-day meets; Citizenship Status : Eligible NonCitizen; Gender : Male; Marital Status : Single; Date of Termination : 1800-01-01; Race : Two or more races; Hourly Pay : 25.0; Date of Birth : 1979-09-14; State : MA; Employment Status : Active; Position : Production Technician II; Date of Hire : 2011-11-07; Department : Production       ; Age : 38']"
      ]
     },
     "execution_count": 9,
     "metadata": {},
     "output_type": "execute_result"
    }
   ],
   "source": [
    "conv.say(\"what's his race\")"
   ]
  },
  {
   "cell_type": "code",
   "execution_count": 10,
   "metadata": {},
   "outputs": [
    {
     "name": "stdout",
     "output_type": "stream",
     "text": [
      "Elasticsearch index 'user_data' for application 'hr_assistant' already exists!\n",
      "Loading index 'user_data'\n"
     ]
    },
    {
     "name": "stderr",
     "output_type": "stream",
     "text": [
      "100%|██████████| 301/301 [00:00<00:00, 957.84it/s]"
     ]
    },
    {
     "name": "stdout",
     "output_type": "stream",
     "text": [
      "Loaded 301 documents\n",
      "Elasticsearch index 'user_data' for application 'hr_assistant' already exists!\n",
      "Loading index 'user_data'\n"
     ]
    },
    {
     "name": "stderr",
     "output_type": "stream",
     "text": [
      "\n",
      "100%|██████████| 301/301 [00:00<00:00, 889.81it/s]"
     ]
    },
    {
     "name": "stdout",
     "output_type": "stream",
     "text": [
      "Loaded 301 documents\n"
     ]
    },
    {
     "name": "stderr",
     "output_type": "stream",
     "text": [
      "\n"
     ]
    },
    {
     "data": {
      "text/plain": [
       "[\"Brandon R. LeBlanc is Mia Brown's manager\",\n",
       " \"Eric Dougall is Julia Soto's manager\"]"
      ]
     },
     "execution_count": 10,
     "metadata": {},
     "output_type": "execute_result"
    }
   ],
   "source": [
    "conv.say(\"is mia's manager julia?\")"
   ]
  },
  {
   "cell_type": "code",
   "execution_count": 11,
   "metadata": {},
   "outputs": [],
   "source": [
    "# nlp.inspect(\"youngest employee\", domain='general')"
   ]
  },
  {
   "cell_type": "code",
   "execution_count": 12,
   "metadata": {},
   "outputs": [
    {
     "data": {
      "text/plain": [
       "['The percent based on your query is 29.0']"
      ]
     },
     "execution_count": 12,
     "metadata": {},
     "output_type": "execute_result"
    }
   ],
   "source": [
    "conv.say(\"percent of employees earning less than 20\")"
   ]
  },
  {
   "cell_type": "code",
   "execution_count": 13,
   "metadata": {},
   "outputs": [
    {
     "data": {
      "text/plain": [
       "[\"Hmmm, I didn't quite understand. Would you like to know what you can ask me?\",\n",
       " 'Listening...']"
      ]
     },
     "execution_count": 13,
     "metadata": {},
     "output_type": "execute_result"
    }
   ],
   "source": [
    "conv.say(\"is tomato a fruit?\")"
   ]
  },
  {
   "cell_type": "code",
   "execution_count": 14,
   "metadata": {},
   "outputs": [
    {
     "data": {
      "text/plain": [
       "['Did you mean yes or no?', 'Listening...']"
      ]
     },
     "execution_count": 14,
     "metadata": {},
     "output_type": "execute_result"
    }
   ],
   "source": [
    "conv.say(\"let's see\")"
   ]
  },
  {
   "cell_type": "code",
   "execution_count": 15,
   "metadata": {},
   "outputs": [
    {
     "data": {
      "text/plain": [
       "[\"Great! You can ask me about an employee's individual information (eg. Is Ivan married?),                 some employee statistic (eg. average salary of females)                 or names of employees according to your criteria (eg. give me a list of all married employees)\",\n",
       " 'Now, what would you like to know?',\n",
       " 'Listening...']"
      ]
     },
     "execution_count": 15,
     "metadata": {},
     "output_type": "execute_result"
    }
   ],
   "source": [
    "conv.say(\"yes please!\")"
   ]
  },
  {
   "cell_type": "code",
   "execution_count": 16,
   "metadata": {},
   "outputs": [
    {
     "data": {
      "text/plain": [
       "[\"Here's some employees: Lindsay Lynch, Lynn O'hare, Dheepa Nguyen, Daniel Davis, Gerry Friedman, Mike Guilianno, Jac McKinzie, Leonara Lindsay, Francesco Barone, Jacquelyn Williams, Evelyn Girifalco, Karen Mancuso, Jackie Valentin, Barbara Stanford, Desiree Tavares, Howard Mullaney, Ricardo Ruiz, Linda Bachiochi\"]"
      ]
     },
     "execution_count": 16,
     "metadata": {},
     "output_type": "execute_result"
    }
   ],
   "source": [
    "conv.say(\"are there any mixed race employees\")"
   ]
  },
  {
   "cell_type": "code",
   "execution_count": 17,
   "metadata": {},
   "outputs": [
    {
     "name": "stderr",
     "output_type": "stream",
     "text": [
      "/anaconda3/envs/mm_workspace/lib/python3.6/site-packages/numpy/core/fromnumeric.py:3118: RuntimeWarning: Mean of empty slice.\n",
      "  out=out, **kwargs)\n",
      "/anaconda3/envs/mm_workspace/lib/python3.6/site-packages/numpy/core/_methods.py:85: RuntimeWarning: invalid value encountered in double_scalars\n",
      "  ret = ret.dtype.type(ret / rcount)\n"
     ]
    },
    {
     "data": {
      "text/plain": [
       "['Hmm, looks like you want a salary statistic. You can ask me about averages, sums, counts and percentages. For eg. what is the average salary for women?',\n",
       " 'Listening...']"
      ]
     },
     "execution_count": 17,
     "metadata": {},
     "output_type": "execute_result"
    }
   ],
   "source": [
    "conv.say(\"give me the average salary of employees who are 30 years of age but hired after 2008\")"
   ]
  },
  {
   "cell_type": "code",
   "execution_count": 18,
   "metadata": {},
   "outputs": [],
   "source": [
    "# nlp.inspect(\"what percentage of employees were hired post 2012\", domain='date')"
   ]
  },
  {
   "cell_type": "code",
   "execution_count": 19,
   "metadata": {},
   "outputs": [
    {
     "data": {
      "text/plain": [
       "['The percent is 0.0']"
      ]
     },
     "execution_count": 19,
     "metadata": {},
     "output_type": "execute_result"
    }
   ],
   "source": [
    "conv.say(\"what percentage of employees were hired in this year\")"
   ]
  },
  {
   "cell_type": "code",
   "execution_count": 20,
   "metadata": {},
   "outputs": [
    {
     "data": {
      "text/plain": [
       "[\"Here's some employees: Edward True, Mike Guilianno, Charles Bozzi, Miguel Estremera, Ned Miller\"]"
      ]
     },
     "execution_count": 20,
     "metadata": {},
     "output_type": "execute_result"
    }
   ],
   "source": [
    "conv.say(\"males fired in 2014\")"
   ]
  },
  {
   "cell_type": "code",
   "execution_count": 21,
   "metadata": {},
   "outputs": [
    {
     "name": "stdout",
     "output_type": "stream",
     "text": [
      "Inspecting domain classification\n",
      "                                                                                              Feature  \\\n",
      "bag_of_words|edge:left|length:1|ngram:give                 bag_of_words|edge:left|length:1|ngram:give   \n",
      "bag_of_words|edge:left|length:2|ngram:give me           bag_of_words|edge:left|length:2|ngram:give me   \n",
      "bag_of_words|edge:right|length:1|ngram:#NUM               bag_of_words|edge:right|length:1|ngram:#NUM   \n",
      "bag_of_words|edge:right|length:2|ngram:after #NUM   bag_of_words|edge:right|length:2|ngram:after #NUM   \n",
      "bag_of_words|length:1|ngram:#NUM                                     bag_of_words|length:1|ngram:#NUM   \n",
      "bag_of_words|length:1|ngram:after                                   bag_of_words|length:1|ngram:after   \n",
      "bag_of_words|length:1|ngram:age                                       bag_of_words|length:1|ngram:age   \n",
      "bag_of_words|length:1|ngram:are                                       bag_of_words|length:1|ngram:are   \n",
      "bag_of_words|length:1|ngram:average                               bag_of_words|length:1|ngram:average   \n",
      "bag_of_words|length:1|ngram:but                                       bag_of_words|length:1|ngram:but   \n",
      "bag_of_words|length:1|ngram:employees                           bag_of_words|length:1|ngram:employees   \n",
      "bag_of_words|length:1|ngram:give                                     bag_of_words|length:1|ngram:give   \n",
      "bag_of_words|length:1|ngram:hired                                   bag_of_words|length:1|ngram:hired   \n",
      "bag_of_words|length:1|ngram:me                                         bag_of_words|length:1|ngram:me   \n",
      "bag_of_words|length:1|ngram:of                                         bag_of_words|length:1|ngram:of   \n",
      "bag_of_words|length:1|ngram:salary                                 bag_of_words|length:1|ngram:salary   \n",
      "bag_of_words|length:1|ngram:the                                       bag_of_words|length:1|ngram:the   \n",
      "bag_of_words|length:1|ngram:who                                       bag_of_words|length:1|ngram:who   \n",
      "bag_of_words|length:1|ngram:years                                   bag_of_words|length:1|ngram:years   \n",
      "bag_of_words|length:2|ngram:#NUM years                         bag_of_words|length:2|ngram:#NUM years   \n",
      "bag_of_words|length:2|ngram:after #NUM                         bag_of_words|length:2|ngram:after #NUM   \n",
      "bag_of_words|length:2|ngram:are #NUM                             bag_of_words|length:2|ngram:are #NUM   \n",
      "bag_of_words|length:2|ngram:average salary                 bag_of_words|length:2|ngram:average salary   \n",
      "bag_of_words|length:2|ngram:employees who                   bag_of_words|length:2|ngram:employees who   \n",
      "bag_of_words|length:2|ngram:give me                               bag_of_words|length:2|ngram:give me   \n",
      "bag_of_words|length:2|ngram:hired after                       bag_of_words|length:2|ngram:hired after   \n",
      "bag_of_words|length:2|ngram:me the                                 bag_of_words|length:2|ngram:me the   \n",
      "bag_of_words|length:2|ngram:of age                                 bag_of_words|length:2|ngram:of age   \n",
      "bag_of_words|length:2|ngram:of employees                     bag_of_words|length:2|ngram:of employees   \n",
      "bag_of_words|length:2|ngram:salary of                           bag_of_words|length:2|ngram:salary of   \n",
      "...                                                                                               ...   \n",
      "in_gaz|type:time_interval|gaz_freq_bin:0                     in_gaz|type:time_interval|gaz_freq_bin:0   \n",
      "in_gaz|type:time_recurr|gaz_freq_bin:1                         in_gaz|type:time_recurr|gaz_freq_bin:1   \n",
      "in_gaz|type:time_recur|gaz_freq_bin:1                           in_gaz|type:time_recur|gaz_freq_bin:1   \n",
      "in_vocab:IV|freq_bin:0                                                         in_vocab:IV|freq_bin:0   \n",
      "in_vocab:IV|freq_bin:1                                                         in_vocab:IV|freq_bin:1   \n",
      "in_vocab:IV|freq_bin:2                                                         in_vocab:IV|freq_bin:2   \n",
      "in_vocab:IV|freq_bin:4                                                         in_vocab:IV|freq_bin:4   \n",
      "in_vocab:IV|freq_bin:5                                                         in_vocab:IV|freq_bin:5   \n",
      "in_vocab:IV|in_gaz|type:age|gaz_freq_bin:0                 in_vocab:IV|in_gaz|type:age|gaz_freq_bin:0   \n",
      "in_vocab:IV|in_gaz|type:citizendesc|gaz_freq_bin:0  in_vocab:IV|in_gaz|type:citizendesc|gaz_freq_b...   \n",
      "in_vocab:IV|in_gaz|type:citizendesc|gaz_freq_bin:1  in_vocab:IV|in_gaz|type:citizendesc|gaz_freq_b...   \n",
      "in_vocab:IV|in_gaz|type:date_compare|gaz_freq_b...  in_vocab:IV|in_gaz|type:date_compare|gaz_freq_...   \n",
      "in_vocab:IV|in_gaz|type:date_time|gaz_freq_bin:0     in_vocab:IV|in_gaz|type:date_time|gaz_freq_bin:0   \n",
      "in_vocab:IV|in_gaz|type:date_time|gaz_freq_bin:1     in_vocab:IV|in_gaz|type:date_time|gaz_freq_bin:1   \n",
      "in_vocab:IV|in_gaz|type:dob|gaz_freq_bin:0                 in_vocab:IV|in_gaz|type:dob|gaz_freq_bin:0   \n",
      "in_vocab:IV|in_gaz|type:employee_source|gaz_fre...  in_vocab:IV|in_gaz|type:employee_source|gaz_fr...   \n",
      "in_vocab:IV|in_gaz|type:employment_action|gaz_f...  in_vocab:IV|in_gaz|type:employment_action|gaz_...   \n",
      "in_vocab:IV|in_gaz|type:employment_action|gaz_f...  in_vocab:IV|in_gaz|type:employment_action|gaz_...   \n",
      "in_vocab:IV|in_gaz|type:employment_status|gaz_f...  in_vocab:IV|in_gaz|type:employment_status|gaz_...   \n",
      "in_vocab:IV|in_gaz|type:function|gaz_freq_bin:0       in_vocab:IV|in_gaz|type:function|gaz_freq_bin:0   \n",
      "in_vocab:IV|in_gaz|type:money|gaz_freq_bin:0             in_vocab:IV|in_gaz|type:money|gaz_freq_bin:0   \n",
      "in_vocab:IV|in_gaz|type:performance_score|gaz_f...  in_vocab:IV|in_gaz|type:performance_score|gaz_...   \n",
      "in_vocab:IV|in_gaz|type:position|gaz_freq_bin:0       in_vocab:IV|in_gaz|type:position|gaz_freq_bin:0   \n",
      "in_vocab:IV|in_gaz|type:reason_for_termination|...  in_vocab:IV|in_gaz|type:reason_for_termination...   \n",
      "in_vocab:IV|in_gaz|type:reason_for_termination|...  in_vocab:IV|in_gaz|type:reason_for_termination...   \n",
      "in_vocab:IV|in_gaz|type:state|gaz_freq_bin:0             in_vocab:IV|in_gaz|type:state|gaz_freq_bin:0   \n",
      "in_vocab:IV|in_gaz|type:time_recurr|gaz_freq_bin:1  in_vocab:IV|in_gaz|type:time_recurr|gaz_freq_b...   \n",
      "in_vocab:IV|in_gaz|type:time_recur|gaz_freq_bin:1   in_vocab:IV|in_gaz|type:time_recur|gaz_freq_bin:1   \n",
      "in_vocab:OOV|in_gaz|type:age|gaz_freq_bin:0               in_vocab:OOV|in_gaz|type:age|gaz_freq_bin:0   \n",
      "in_vocab:OOV|in_gaz|type:time_interval|gaz_freq...  in_vocab:OOV|in_gaz|type:time_interval|gaz_fre...   \n",
      "\n",
      "                                                     Value Pred_W(salary)  \\\n",
      "bag_of_words|edge:left|length:1|ngram:give               1       [0.0619]   \n",
      "bag_of_words|edge:left|length:2|ngram:give me            1       [0.3356]   \n",
      "bag_of_words|edge:right|length:1|ngram:#NUM              1      [-0.3778]   \n",
      "bag_of_words|edge:right|length:2|ngram:after #NUM        1      [-0.0583]   \n",
      "bag_of_words|length:1|ngram:#NUM                         2       [0.3625]   \n",
      "bag_of_words|length:1|ngram:after                        1       [0.1597]   \n",
      "bag_of_words|length:1|ngram:age                          1      [-0.3551]   \n",
      "bag_of_words|length:1|ngram:are                          1       [0.1278]   \n",
      "bag_of_words|length:1|ngram:average                      1       [0.8772]   \n",
      "bag_of_words|length:1|ngram:but                          1       [0.1574]   \n",
      "bag_of_words|length:1|ngram:employees                    1       [0.8429]   \n",
      "bag_of_words|length:1|ngram:give                         1       [0.1181]   \n",
      "bag_of_words|length:1|ngram:hired                        1      [-0.0015]   \n",
      "bag_of_words|length:1|ngram:me                           1      [-0.0743]   \n",
      "bag_of_words|length:1|ngram:of                           2      [-0.1211]   \n",
      "bag_of_words|length:1|ngram:salary                       1       [0.8076]   \n",
      "bag_of_words|length:1|ngram:the                          1       [0.7872]   \n",
      "bag_of_words|length:1|ngram:who                          1      [-0.2813]   \n",
      "bag_of_words|length:1|ngram:years                        1      [-0.1041]   \n",
      "bag_of_words|length:2|ngram:#NUM years                   1       [0.3468]   \n",
      "bag_of_words|length:2|ngram:after #NUM                   1       [0.3092]   \n",
      "bag_of_words|length:2|ngram:are #NUM                     1      [-0.0187]   \n",
      "bag_of_words|length:2|ngram:average salary               1        [0.044]   \n",
      "bag_of_words|length:2|ngram:employees who                1       [0.2199]   \n",
      "bag_of_words|length:2|ngram:give me                      1       [0.3665]   \n",
      "bag_of_words|length:2|ngram:hired after                  1       [0.0753]   \n",
      "bag_of_words|length:2|ngram:me the                       1       [0.8611]   \n",
      "bag_of_words|length:2|ngram:of age                       1      [-0.0104]   \n",
      "bag_of_words|length:2|ngram:of employees                 1      [-0.2253]   \n",
      "bag_of_words|length:2|ngram:salary of                    1       [0.2178]   \n",
      "...                                                    ...            ...   \n",
      "in_gaz|type:time_interval|gaz_freq_bin:0            0.0588      [-0.0919]   \n",
      "in_gaz|type:time_recurr|gaz_freq_bin:1              0.0588      [-0.1084]   \n",
      "in_gaz|type:time_recur|gaz_freq_bin:1               0.0588      [-0.1067]   \n",
      "in_vocab:IV|freq_bin:0                              0.0932       [-0.465]   \n",
      "in_vocab:IV|freq_bin:1                              0.1521       [-0.781]   \n",
      "in_vocab:IV|freq_bin:2                              0.0932      [-0.9869]   \n",
      "in_vocab:IV|freq_bin:4                              0.0588      [-0.4223]   \n",
      "in_vocab:IV|freq_bin:5                              0.1765      [-0.3345]   \n",
      "in_vocab:IV|in_gaz|type:age|gaz_freq_bin:0          0.1366      [-0.1874]   \n",
      "in_vocab:IV|in_gaz|type:citizendesc|gaz_freq_bin:0  0.0588        [0.001]   \n",
      "in_vocab:IV|in_gaz|type:citizendesc|gaz_freq_bin:1  0.0932       [0.3422]   \n",
      "in_vocab:IV|in_gaz|type:date_compare|gaz_freq_b...  0.0588       [0.0229]   \n",
      "in_vocab:IV|in_gaz|type:date_time|gaz_freq_bin:0    0.0932      [-0.2369]   \n",
      "in_vocab:IV|in_gaz|type:date_time|gaz_freq_bin:1    0.0932      [-0.2549]   \n",
      "in_vocab:IV|in_gaz|type:dob|gaz_freq_bin:0          0.1366      [-0.2985]   \n",
      "in_vocab:IV|in_gaz|type:employee_source|gaz_fre...  0.0932       [0.1286]   \n",
      "in_vocab:IV|in_gaz|type:employment_action|gaz_f...  0.1366      [-0.5375]   \n",
      "in_vocab:IV|in_gaz|type:employment_action|gaz_f...  0.0932      [-0.2501]   \n",
      "in_vocab:IV|in_gaz|type:employment_status|gaz_f...  0.1176      [-0.4045]   \n",
      "in_vocab:IV|in_gaz|type:function|gaz_freq_bin:0     0.1176       [-0.037]   \n",
      "in_vocab:IV|in_gaz|type:money|gaz_freq_bin:0        0.0588       [0.3777]   \n",
      "in_vocab:IV|in_gaz|type:performance_score|gaz_f...  0.0588       [-0.136]   \n",
      "in_vocab:IV|in_gaz|type:position|gaz_freq_bin:0     0.1176      [-0.2844]   \n",
      "in_vocab:IV|in_gaz|type:reason_for_termination|...  0.0932      [-0.8656]   \n",
      "in_vocab:IV|in_gaz|type:reason_for_termination|...  0.0588      [-0.4457]   \n",
      "in_vocab:IV|in_gaz|type:state|gaz_freq_bin:0        0.1176      [-0.4136]   \n",
      "in_vocab:IV|in_gaz|type:time_recurr|gaz_freq_bin:1  0.0588      [-0.1084]   \n",
      "in_vocab:IV|in_gaz|type:time_recur|gaz_freq_bin:1   0.0588      [-0.1067]   \n",
      "in_vocab:OOV|in_gaz|type:age|gaz_freq_bin:0         0.0588       [0.0189]   \n",
      "in_vocab:OOV|in_gaz|type:time_interval|gaz_freq...  0.0588      [-0.0283]   \n",
      "\n",
      "                                                       Pred_P Gold_W(salary)  \\\n",
      "bag_of_words|edge:left|length:1|ngram:give           [0.0619]       [0.0619]   \n",
      "bag_of_words|edge:left|length:2|ngram:give me        [0.3356]       [0.3356]   \n",
      "bag_of_words|edge:right|length:1|ngram:#NUM         [-0.3778]      [-0.3778]   \n",
      "bag_of_words|edge:right|length:2|ngram:after #NUM   [-0.0583]      [-0.0583]   \n",
      "bag_of_words|length:1|ngram:#NUM                      [0.725]       [0.3625]   \n",
      "bag_of_words|length:1|ngram:after                    [0.1597]       [0.1597]   \n",
      "bag_of_words|length:1|ngram:age                     [-0.3551]      [-0.3551]   \n",
      "bag_of_words|length:1|ngram:are                      [0.1278]       [0.1278]   \n",
      "bag_of_words|length:1|ngram:average                  [0.8772]       [0.8772]   \n",
      "bag_of_words|length:1|ngram:but                      [0.1574]       [0.1574]   \n",
      "bag_of_words|length:1|ngram:employees                [0.8429]       [0.8429]   \n",
      "bag_of_words|length:1|ngram:give                     [0.1181]       [0.1181]   \n",
      "bag_of_words|length:1|ngram:hired                   [-0.0015]      [-0.0015]   \n",
      "bag_of_words|length:1|ngram:me                      [-0.0743]      [-0.0743]   \n",
      "bag_of_words|length:1|ngram:of                      [-0.2421]      [-0.1211]   \n",
      "bag_of_words|length:1|ngram:salary                   [0.8076]       [0.8076]   \n",
      "bag_of_words|length:1|ngram:the                      [0.7872]       [0.7872]   \n",
      "bag_of_words|length:1|ngram:who                     [-0.2813]      [-0.2813]   \n",
      "bag_of_words|length:1|ngram:years                   [-0.1041]      [-0.1041]   \n",
      "bag_of_words|length:2|ngram:#NUM years               [0.3468]       [0.3468]   \n",
      "bag_of_words|length:2|ngram:after #NUM               [0.3092]       [0.3092]   \n",
      "bag_of_words|length:2|ngram:are #NUM                [-0.0187]      [-0.0187]   \n",
      "bag_of_words|length:2|ngram:average salary            [0.044]        [0.044]   \n",
      "bag_of_words|length:2|ngram:employees who            [0.2199]       [0.2199]   \n",
      "bag_of_words|length:2|ngram:give me                  [0.3665]       [0.3665]   \n",
      "bag_of_words|length:2|ngram:hired after              [0.0753]       [0.0753]   \n",
      "bag_of_words|length:2|ngram:me the                   [0.8611]       [0.8611]   \n",
      "bag_of_words|length:2|ngram:of age                  [-0.0104]      [-0.0104]   \n",
      "bag_of_words|length:2|ngram:of employees            [-0.2253]      [-0.2253]   \n",
      "bag_of_words|length:2|ngram:salary of                [0.2178]       [0.2178]   \n",
      "...                                                       ...            ...   \n",
      "in_gaz|type:time_interval|gaz_freq_bin:0            [-0.0054]      [-0.0919]   \n",
      "in_gaz|type:time_recurr|gaz_freq_bin:1              [-0.0064]      [-0.1084]   \n",
      "in_gaz|type:time_recur|gaz_freq_bin:1               [-0.0063]      [-0.1067]   \n",
      "in_vocab:IV|freq_bin:0                              [-0.0433]       [-0.465]   \n",
      "in_vocab:IV|freq_bin:1                              [-0.1188]       [-0.781]   \n",
      "in_vocab:IV|freq_bin:2                               [-0.092]      [-0.9869]   \n",
      "in_vocab:IV|freq_bin:4                              [-0.0248]      [-0.4223]   \n",
      "in_vocab:IV|freq_bin:5                               [-0.059]      [-0.3345]   \n",
      "in_vocab:IV|in_gaz|type:age|gaz_freq_bin:0          [-0.0256]      [-0.1874]   \n",
      "in_vocab:IV|in_gaz|type:citizendesc|gaz_freq_bin:0   [0.0001]        [0.001]   \n",
      "in_vocab:IV|in_gaz|type:citizendesc|gaz_freq_bin:1   [0.0319]       [0.3422]   \n",
      "in_vocab:IV|in_gaz|type:date_compare|gaz_freq_b...   [0.0013]       [0.0229]   \n",
      "in_vocab:IV|in_gaz|type:date_time|gaz_freq_bin:0    [-0.0221]      [-0.2369]   \n",
      "in_vocab:IV|in_gaz|type:date_time|gaz_freq_bin:1    [-0.0238]      [-0.2549]   \n",
      "in_vocab:IV|in_gaz|type:dob|gaz_freq_bin:0          [-0.0408]      [-0.2985]   \n",
      "in_vocab:IV|in_gaz|type:employee_source|gaz_fre...    [0.012]       [0.1286]   \n",
      "in_vocab:IV|in_gaz|type:employment_action|gaz_f...  [-0.0734]      [-0.5375]   \n",
      "in_vocab:IV|in_gaz|type:employment_action|gaz_f...  [-0.0233]      [-0.2501]   \n",
      "in_vocab:IV|in_gaz|type:employment_status|gaz_f...  [-0.0476]      [-0.4045]   \n",
      "in_vocab:IV|in_gaz|type:function|gaz_freq_bin:0     [-0.0044]       [-0.037]   \n",
      "in_vocab:IV|in_gaz|type:money|gaz_freq_bin:0         [0.0222]       [0.3777]   \n",
      "in_vocab:IV|in_gaz|type:performance_score|gaz_f...   [-0.008]       [-0.136]   \n",
      "in_vocab:IV|in_gaz|type:position|gaz_freq_bin:0     [-0.0335]      [-0.2844]   \n",
      "in_vocab:IV|in_gaz|type:reason_for_termination|...  [-0.0807]      [-0.8656]   \n",
      "in_vocab:IV|in_gaz|type:reason_for_termination|...  [-0.0262]      [-0.4457]   \n",
      "in_vocab:IV|in_gaz|type:state|gaz_freq_bin:0        [-0.0487]      [-0.4136]   \n",
      "in_vocab:IV|in_gaz|type:time_recurr|gaz_freq_bin:1  [-0.0064]      [-0.1084]   \n",
      "in_vocab:IV|in_gaz|type:time_recur|gaz_freq_bin:1   [-0.0063]      [-0.1067]   \n",
      "in_vocab:OOV|in_gaz|type:age|gaz_freq_bin:0          [0.0011]       [0.0189]   \n",
      "in_vocab:OOV|in_gaz|type:time_interval|gaz_freq...  [-0.0017]      [-0.0283]   \n",
      "\n",
      "                                                       Gold_P   Diff  \n",
      "bag_of_words|edge:left|length:1|ngram:give           [0.0619]  [0.0]  \n",
      "bag_of_words|edge:left|length:2|ngram:give me        [0.3356]  [0.0]  \n",
      "bag_of_words|edge:right|length:1|ngram:#NUM         [-0.3778]  [0.0]  \n",
      "bag_of_words|edge:right|length:2|ngram:after #NUM   [-0.0583]  [0.0]  \n",
      "bag_of_words|length:1|ngram:#NUM                      [0.725]  [0.0]  \n",
      "bag_of_words|length:1|ngram:after                    [0.1597]  [0.0]  \n",
      "bag_of_words|length:1|ngram:age                     [-0.3551]  [0.0]  \n",
      "bag_of_words|length:1|ngram:are                      [0.1278]  [0.0]  \n",
      "bag_of_words|length:1|ngram:average                  [0.8772]  [0.0]  \n",
      "bag_of_words|length:1|ngram:but                      [0.1574]  [0.0]  \n",
      "bag_of_words|length:1|ngram:employees                [0.8429]  [0.0]  \n",
      "bag_of_words|length:1|ngram:give                     [0.1181]  [0.0]  \n",
      "bag_of_words|length:1|ngram:hired                   [-0.0015]  [0.0]  \n",
      "bag_of_words|length:1|ngram:me                      [-0.0743]  [0.0]  \n",
      "bag_of_words|length:1|ngram:of                      [-0.2421]  [0.0]  \n",
      "bag_of_words|length:1|ngram:salary                   [0.8076]  [0.0]  \n",
      "bag_of_words|length:1|ngram:the                      [0.7872]  [0.0]  \n",
      "bag_of_words|length:1|ngram:who                     [-0.2813]  [0.0]  \n",
      "bag_of_words|length:1|ngram:years                   [-0.1041]  [0.0]  \n",
      "bag_of_words|length:2|ngram:#NUM years               [0.3468]  [0.0]  \n",
      "bag_of_words|length:2|ngram:after #NUM               [0.3092]  [0.0]  \n",
      "bag_of_words|length:2|ngram:are #NUM                [-0.0187]  [0.0]  \n",
      "bag_of_words|length:2|ngram:average salary            [0.044]  [0.0]  \n",
      "bag_of_words|length:2|ngram:employees who            [0.2199]  [0.0]  \n",
      "bag_of_words|length:2|ngram:give me                  [0.3665]  [0.0]  \n",
      "bag_of_words|length:2|ngram:hired after              [0.0753]  [0.0]  \n",
      "bag_of_words|length:2|ngram:me the                   [0.8611]  [0.0]  \n",
      "bag_of_words|length:2|ngram:of age                  [-0.0104]  [0.0]  \n",
      "bag_of_words|length:2|ngram:of employees            [-0.2253]  [0.0]  \n",
      "bag_of_words|length:2|ngram:salary of                [0.2178]  [0.0]  \n",
      "...                                                       ...    ...  \n",
      "in_gaz|type:time_interval|gaz_freq_bin:0            [-0.0054]  [0.0]  \n",
      "in_gaz|type:time_recurr|gaz_freq_bin:1              [-0.0064]  [0.0]  \n",
      "in_gaz|type:time_recur|gaz_freq_bin:1               [-0.0063]  [0.0]  \n",
      "in_vocab:IV|freq_bin:0                              [-0.0433]  [0.0]  \n",
      "in_vocab:IV|freq_bin:1                              [-0.1188]  [0.0]  \n",
      "in_vocab:IV|freq_bin:2                               [-0.092]  [0.0]  \n",
      "in_vocab:IV|freq_bin:4                              [-0.0248]  [0.0]  \n",
      "in_vocab:IV|freq_bin:5                               [-0.059]  [0.0]  \n",
      "in_vocab:IV|in_gaz|type:age|gaz_freq_bin:0          [-0.0256]  [0.0]  \n",
      "in_vocab:IV|in_gaz|type:citizendesc|gaz_freq_bin:0   [0.0001]  [0.0]  \n",
      "in_vocab:IV|in_gaz|type:citizendesc|gaz_freq_bin:1   [0.0319]  [0.0]  \n",
      "in_vocab:IV|in_gaz|type:date_compare|gaz_freq_b...   [0.0013]  [0.0]  \n",
      "in_vocab:IV|in_gaz|type:date_time|gaz_freq_bin:0    [-0.0221]  [0.0]  \n",
      "in_vocab:IV|in_gaz|type:date_time|gaz_freq_bin:1    [-0.0238]  [0.0]  \n",
      "in_vocab:IV|in_gaz|type:dob|gaz_freq_bin:0          [-0.0408]  [0.0]  \n",
      "in_vocab:IV|in_gaz|type:employee_source|gaz_fre...    [0.012]  [0.0]  \n",
      "in_vocab:IV|in_gaz|type:employment_action|gaz_f...  [-0.0734]  [0.0]  \n",
      "in_vocab:IV|in_gaz|type:employment_action|gaz_f...  [-0.0233]  [0.0]  \n",
      "in_vocab:IV|in_gaz|type:employment_status|gaz_f...  [-0.0476]  [0.0]  \n",
      "in_vocab:IV|in_gaz|type:function|gaz_freq_bin:0     [-0.0044]  [0.0]  \n",
      "in_vocab:IV|in_gaz|type:money|gaz_freq_bin:0         [0.0222]  [0.0]  \n",
      "in_vocab:IV|in_gaz|type:performance_score|gaz_f...   [-0.008]  [0.0]  \n",
      "in_vocab:IV|in_gaz|type:position|gaz_freq_bin:0     [-0.0335]  [0.0]  \n",
      "in_vocab:IV|in_gaz|type:reason_for_termination|...  [-0.0807]  [0.0]  \n",
      "in_vocab:IV|in_gaz|type:reason_for_termination|...  [-0.0262]  [0.0]  \n",
      "in_vocab:IV|in_gaz|type:state|gaz_freq_bin:0        [-0.0487]  [0.0]  \n",
      "in_vocab:IV|in_gaz|type:time_recurr|gaz_freq_bin:1  [-0.0064]  [0.0]  \n",
      "in_vocab:IV|in_gaz|type:time_recur|gaz_freq_bin:1   [-0.0063]  [0.0]  \n",
      "in_vocab:OOV|in_gaz|type:age|gaz_freq_bin:0          [0.0011]  [0.0]  \n",
      "in_vocab:OOV|in_gaz|type:time_interval|gaz_freq...  [-0.0017]  [0.0]  \n",
      "\n",
      "[106 rows x 7 columns]\n",
      "\n"
     ]
    }
   ],
   "source": [
    "nlp.inspect(\"give me the average salary of employees who are 30 years of age but hired after 2008\", domain='salary')"
   ]
  },
  {
   "cell_type": "code",
   "execution_count": 22,
   "metadata": {},
   "outputs": [
    {
     "data": {
      "text/plain": [
       "[\"Here's some employees: Thomas Barbara, Alex Gilles, John Kretschmer, Sandy Mckenna, Haley Rivera, Kamrin Sander, Shana Petingill, Lenora Tejeda, Edward Buck, Kramer Simard, Neville Tredinnick, Jumil Turpin, Jyoti Lajiri, Alain Robinson, Cherly Robinson, Taylor Sparks, Timothy Sullivan, Megan Faller, Susan Good, Adrienne Homberger, Mohammed Latif, Mathew Linden, Lauren Peters, Jessica Bunbury, Ricardo Gonzales, Jac McKinzie, Xana Potts, Caitrin Strong, Leigh Smith, Amy Foster-Baker, Daniff Hernandez, Noelle Johnson, Thelma Petrowsky, Ivan Rogers, Peter Monroe, Linda Dolan, Anita Pardo, Walter Immediato, Ketsia Liebig, Kelley Spirea, Courtney Wallace, Rachael Baczenski, Elijian Clukey, Lisa Cornett, Jene'ya Darson, Carl Desimone, Marianne Eaton, Susan Ferguson, Libby Fidelia, Kathleen Kinsella, Allison Lydon, Horia Ndzi, Richard Newman, Estelle Howard, Randall Pearson, Lori Roby, Karthikeyan Ait Sidi, Trina Alagbe, Donna Brill, Nilson Fernandes, Mildred Gentry, David Gordon, Roxana Goyal, Ludwick Harrell, Alexandra Kirill, Shana Maurice, Adeel Osturnka, Nina Panjwani, Seffi Shields, Rick Stoica, Colleen Volk, Sarah Akinkuolie, Juan Gonzalez, Erasumus Monkfish, Brooke Oliver, Ermine Pelletier, Debra Houlihan, Brandon LeBlanc, Bonalyn Boutwell, Janet King, Ann Daniele, Jeremiah Semizoglou, Ebonee Peterson, Kissy Sullivan, Helen Billis, Lily DiNocco, Rex England, Joanne Handschiegl, Judy Jung, Enrico Langton, Marilyn Linares, Debbie Mangal, Barry Wilber, Jennifer Cloninger, Karen Mancuso, Adil Sahoo, Jackie Valentin, Susan Exantus, Adell Saada, Kara Harrison, George Johnson, Kayla Peterson, Hong Pham, Desiree Tavares, Kimberly Beak, Benjamin Burkett, Phil Close, Tanya Foreman, Robyn Manchester, Peter Robertson, Alfred Digitale, Jeremy Prater, Mia Brown, Sean Quinn, Julia Soto, Anthony Cisco, Tanya Morway, Jonathan Hogland, James DeGweck\"]"
      ]
     },
     "execution_count": 22,
     "metadata": {},
     "output_type": "execute_result"
    }
   ],
   "source": [
    "conv.say(\"show me all married employees\")"
   ]
  },
  {
   "cell_type": "code",
   "execution_count": 23,
   "metadata": {},
   "outputs": [
    {
     "data": {
      "text/plain": [
       "['The average based on your query is 29.12']"
      ]
     },
     "execution_count": 23,
     "metadata": {},
     "output_type": "execute_result"
    }
   ],
   "source": [
    "conv.say(\"what is the average salary for women?\")"
   ]
  },
  {
   "cell_type": "code",
   "execution_count": 24,
   "metadata": {},
   "outputs": [
    {
     "data": {
      "text/plain": [
       "[\"Hmmm, I didn't quite understand. Would you like to know what you can ask me?\",\n",
       " 'Listening...']"
      ]
     },
     "execution_count": 24,
     "metadata": {},
     "output_type": "execute_result"
    }
   ],
   "source": [
    "conv.say(\"\")"
   ]
  },
  {
   "cell_type": "code",
   "execution_count": null,
   "metadata": {},
   "outputs": [],
   "source": []
  },
  {
   "cell_type": "code",
   "execution_count": null,
   "metadata": {},
   "outputs": [],
   "source": []
  }
 ],
 "metadata": {
  "kernelspec": {
   "display_name": "Python 3",
   "language": "python",
   "name": "python3"
  },
  "language_info": {
   "codemirror_mode": {
    "name": "ipython",
    "version": 3
   },
   "file_extension": ".py",
   "mimetype": "text/x-python",
   "name": "python",
   "nbconvert_exporter": "python",
   "pygments_lexer": "ipython3",
   "version": "3.6.8"
  }
 },
 "nbformat": 4,
 "nbformat_minor": 2
}
