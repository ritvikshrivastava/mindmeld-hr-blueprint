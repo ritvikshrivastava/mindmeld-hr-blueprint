{
 "cells": [
  {
   "cell_type": "code",
   "execution_count": 1,
   "metadata": {},
   "outputs": [
    {
     "name": "stderr",
     "output_type": "stream",
     "text": [
      "/anaconda3/envs/mm_workspace/lib/python3.6/site-packages/sklearn/ensemble/weight_boosting.py:29: DeprecationWarning: numpy.core.umath_tests is an internal NumPy module and should not be imported. It will be removed in a future NumPy release.\n",
      "  from numpy.core.umath_tests import inner1d\n"
     ]
    }
   ],
   "source": [
    "from mindmeld import configure_logs; configure_logs()"
   ]
  },
  {
   "cell_type": "code",
   "execution_count": 2,
   "metadata": {
    "scrolled": true
   },
   "outputs": [
    {
     "name": "stderr",
     "output_type": "stream",
     "text": [
      "/anaconda3/envs/mm_workspace/lib/python3.6/site-packages/mindmeld/_version.py:64: MindMeldVersionWarning: Current mindmeld (4.1.1) does not satisfy mindmeld==4.1.0 in pip requirements caused by (mindmeld 4.1.1 (/anaconda3/envs/mm_workspace/lib/python3.6/site-packages), Requirement.parse('mindmeld==4.1.0'))\n",
      "  warnings.warn(error_msg, category=MindMeldVersionWarning)\n"
     ]
    },
    {
     "data": {
      "text/plain": [
       "<NaturalLanguageProcessor './hr_assistant' ready: False, dirty: False>"
      ]
     },
     "execution_count": 2,
     "metadata": {},
     "output_type": "execute_result"
    }
   ],
   "source": [
    "from mindmeld.components.nlp import NaturalLanguageProcessor\n",
    "nlp = NaturalLanguageProcessor(app_path='./hr_assistant')\n",
    "nlp"
   ]
  },
  {
   "cell_type": "code",
   "execution_count": 3,
   "metadata": {},
   "outputs": [
    {
     "name": "stdout",
     "output_type": "stream",
     "text": [
      "Fitting domain classifier\n",
      "Loading raw queries from file ./hr_assistant/domains/date/get_date/train.txt\n",
      "Loading raw queries from file ./hr_assistant/domains/date/get_date_range_aggregate/train.txt\n",
      "Loading raw queries from file ./hr_assistant/domains/date/get_date_range_employees/train.txt\n",
      "Loading raw queries from file ./hr_assistant/domains/general/get_aggregate/train.txt\n",
      "Loading raw queries from file ./hr_assistant/domains/general/get_employees/train.txt\n",
      "Loading raw queries from file ./hr_assistant/domains/general/get_info/train.txt\n",
      "Loading raw queries from file ./hr_assistant/domains/greeting/exit/train.txt\n",
      "Loading raw queries from file ./hr_assistant/domains/greeting/greet/train.txt\n",
      "Loading raw queries from file ./hr_assistant/domains/hierarchy/get_hierarchy/train.txt\n",
      "Loading raw queries from file ./hr_assistant/domains/salary/get_salary/train.txt\n",
      "Loading raw queries from file ./hr_assistant/domains/salary/get_salary_aggregate/train.txt\n",
      "Loading raw queries from file ./hr_assistant/domains/salary/get_salary_employees/train.txt\n",
      "Loading raw queries from file ./hr_assistant/domains/unsupported/unsupported/train.txt\n",
      "Loading queries from file ./hr_assistant/domains/date/get_date/train.txt\n",
      "Loading queries from file ./hr_assistant/domains/date/get_date_range_aggregate/train.txt\n",
      "Loading queries from file ./hr_assistant/domains/date/get_date_range_employees/train.txt\n",
      "Loading queries from file ./hr_assistant/domains/general/get_aggregate/train.txt\n",
      "Loading queries from file ./hr_assistant/domains/general/get_employees/train.txt\n",
      "Loading queries from file ./hr_assistant/domains/general/get_info/train.txt\n",
      "Loading queries from file ./hr_assistant/domains/greeting/exit/train.txt\n",
      "Loading queries from file ./hr_assistant/domains/greeting/greet/train.txt\n",
      "Loading queries from file ./hr_assistant/domains/hierarchy/get_hierarchy/train.txt\n",
      "Loading queries from file ./hr_assistant/domains/salary/get_salary/train.txt\n",
      "Loading queries from file ./hr_assistant/domains/salary/get_salary_aggregate/train.txt\n",
      "Loading queries from file ./hr_assistant/domains/salary/get_salary_employees/train.txt\n",
      "Loading queries from file ./hr_assistant/domains/unsupported/unsupported/train.txt\n",
      "Fitting intent classifier: domain='salary'\n",
      "Selecting hyperparameters using k-fold cross-validation with 5 splits\n",
      "Best accuracy: 96.66%, params: {'C': 100, 'class_weight': {0: 0.8289508632138114, 1: 1.114519427402863, 2: 1.1565591397849462}, 'fit_intercept': True}\n",
      "Fitting entity recognizer: domain='salary', intent='get_salary_aggregate'\n",
      "No entity model configuration set. Using default.\n",
      "Selecting hyperparameters using k-fold cross-validation with 5 splits\n",
      "Best accuracy: 93.33%, params: {'C': 10000, 'penalty': 'l2'}\n",
      "No entity_resolution model configuration set. Using default.\n",
      "No entity_resolution model configuration set. Using default.\n",
      "No entity_resolution model configuration set. Using default.\n",
      "No entity_resolution model configuration set. Using default.\n",
      "No entity_resolution model configuration set. Using default.\n",
      "No entity_resolution model configuration set. Using default.\n",
      "No entity_resolution model configuration set. Using default.\n",
      "No entity_resolution model configuration set. Using default.\n",
      "No entity_resolution model configuration set. Using default.\n",
      "No entity_resolution model configuration set. Using default.\n",
      "No entity_resolution model configuration set. Using default.\n",
      "No entity_resolution model configuration set. Using default.\n",
      "No entity_resolution model configuration set. Using default.\n",
      "No entity_resolution model configuration set. Using default.\n",
      "No entity_resolution model configuration set. Using default.\n",
      "No entity_resolution model configuration set. Using default.\n",
      "No entity_resolution model configuration set. Using default.\n",
      "No entity_resolution model configuration set. Using default.\n",
      "No entity_resolution model configuration set. Using default.\n",
      "No entity_resolution model configuration set. Using default.\n",
      "Fitting role classifier: domain='salary', intent='get_salary_aggregate', entity_type='manager'\n",
      "No role model configuration set. Using default.\n",
      "Importing synonym data to synonym index 'synonym_manager'\n",
      "Elasticsearch index 'synonym_manager' for application 'hr_assistant' already exists!\n",
      "Loading index 'synonym_manager'\n"
     ]
    },
    {
     "name": "stderr",
     "output_type": "stream",
     "text": [
      "100%|██████████| 1/1 [00:00<00:00, 10.46it/s]"
     ]
    },
    {
     "name": "stdout",
     "output_type": "stream",
     "text": [
      "Loaded 1 document\n",
      "Fitting role classifier: domain='salary', intent='get_salary_aggregate', entity_type='state'\n",
      "No role model configuration set. Using default.\n",
      "Importing synonym data to synonym index 'synonym_state'\n",
      "Elasticsearch index 'synonym_state' for application 'hr_assistant' already exists!\n",
      "Loading index 'synonym_state'\n"
     ]
    },
    {
     "name": "stderr",
     "output_type": "stream",
     "text": [
      "\n",
      "100%|██████████| 28/28 [00:00<00:00, 319.89it/s]"
     ]
    },
    {
     "name": "stdout",
     "output_type": "stream",
     "text": [
      "Loaded 28 documents\n",
      "Fitting role classifier: domain='salary', intent='get_salary_aggregate', entity_type='dob'\n",
      "No role model configuration set. Using default.\n",
      "Importing synonym data to synonym index 'synonym_dob'\n",
      "Elasticsearch index 'synonym_dob' for application 'hr_assistant' already exists!\n",
      "Loading index 'synonym_dob'\n"
     ]
    },
    {
     "name": "stderr",
     "output_type": "stream",
     "text": [
      "\n",
      "100%|██████████| 1/1 [00:00<00:00, 35.46it/s]"
     ]
    },
    {
     "name": "stdout",
     "output_type": "stream",
     "text": [
      "Loaded 1 document\n",
      "Fitting role classifier: domain='salary', intent='get_salary_aggregate', entity_type='sex'\n",
      "No role model configuration set. Using default.\n",
      "Importing synonym data to synonym index 'synonym_sex'\n"
     ]
    },
    {
     "name": "stderr",
     "output_type": "stream",
     "text": [
      "\n"
     ]
    },
    {
     "name": "stdout",
     "output_type": "stream",
     "text": [
      "Elasticsearch index 'synonym_sex' for application 'hr_assistant' already exists!\n",
      "Loading index 'synonym_sex'\n"
     ]
    },
    {
     "name": "stderr",
     "output_type": "stream",
     "text": [
      "100%|██████████| 2/2 [00:00<00:00, 58.21it/s]"
     ]
    },
    {
     "name": "stdout",
     "output_type": "stream",
     "text": [
      "Loaded 2 documents\n",
      "Fitting role classifier: domain='salary', intent='get_salary_aggregate', entity_type='comparator'\n",
      "No role model configuration set. Using default.\n",
      "Importing synonym data to synonym index 'synonym_comparator'\n",
      "Elasticsearch index 'synonym_comparator' for application 'hr_assistant' already exists!\n",
      "Loading index 'synonym_comparator'\n"
     ]
    },
    {
     "name": "stderr",
     "output_type": "stream",
     "text": [
      "\n",
      "100%|██████████| 4/4 [00:00<00:00, 104.17it/s]"
     ]
    },
    {
     "name": "stdout",
     "output_type": "stream",
     "text": [
      "Loaded 4 documents\n"
     ]
    },
    {
     "name": "stderr",
     "output_type": "stream",
     "text": [
      "\n"
     ]
    },
    {
     "name": "stdout",
     "output_type": "stream",
     "text": [
      "Fitting role classifier: domain='salary', intent='get_salary_aggregate', entity_type='sys_amount-of-money'\n",
      "No role model configuration set. Using default.\n",
      "Fitting role classifier: domain='salary', intent='get_salary_aggregate', entity_type='name'\n",
      "No role model configuration set. Using default.\n",
      "Importing synonym data to synonym index 'synonym_name'\n",
      "Elasticsearch index 'synonym_name' for application 'hr_assistant' already exists!\n",
      "Loading index 'synonym_name'\n"
     ]
    },
    {
     "name": "stderr",
     "output_type": "stream",
     "text": [
      "100%|██████████| 245/245 [00:00<00:00, 621.63it/s]"
     ]
    },
    {
     "name": "stdout",
     "output_type": "stream",
     "text": [
      "Loaded 245 documents\n",
      "Fitting role classifier: domain='salary', intent='get_salary_aggregate', entity_type='sys_duration'\n",
      "No role model configuration set. Using default.\n",
      "Fitting role classifier: domain='salary', intent='get_salary_aggregate', entity_type='function'\n",
      "No role model configuration set. Using default.\n",
      "Importing synonym data to synonym index 'synonym_function'\n",
      "Elasticsearch index 'synonym_function' for application 'hr_assistant' already exists!\n",
      "Loading index 'synonym_function'\n"
     ]
    },
    {
     "name": "stderr",
     "output_type": "stream",
     "text": [
      "\n",
      "100%|██████████| 4/4 [00:00<00:00, 91.03it/s]"
     ]
    },
    {
     "name": "stdout",
     "output_type": "stream",
     "text": [
      "Loaded 4 documents\n",
      "Fitting role classifier: domain='salary', intent='get_salary_aggregate', entity_type='employee_source'\n",
      "No role model configuration set. Using default.\n",
      "Importing synonym data to synonym index 'synonym_employee_source'\n",
      "Elasticsearch index 'synonym_employee_source' for application 'hr_assistant' already exists!\n",
      "Loading index 'synonym_employee_source'\n"
     ]
    },
    {
     "name": "stderr",
     "output_type": "stream",
     "text": [
      "\n",
      "100%|██████████| 20/20 [00:00<00:00, 390.71it/s]"
     ]
    },
    {
     "name": "stdout",
     "output_type": "stream",
     "text": [
      "Loaded 20 documents\n",
      "Fitting role classifier: domain='salary', intent='get_salary_aggregate', entity_type='extreme'\n",
      "No role model configuration set. Using default.\n",
      "Importing synonym data to synonym index 'synonym_extreme'\n"
     ]
    },
    {
     "name": "stderr",
     "output_type": "stream",
     "text": [
      "\n"
     ]
    },
    {
     "name": "stdout",
     "output_type": "stream",
     "text": [
      "Elasticsearch index 'synonym_extreme' for application 'hr_assistant' already exists!\n",
      "Loading index 'synonym_extreme'\n"
     ]
    },
    {
     "name": "stderr",
     "output_type": "stream",
     "text": [
      "100%|██████████| 2/2 [00:00<00:00, 47.90it/s]"
     ]
    },
    {
     "name": "stdout",
     "output_type": "stream",
     "text": [
      "Loaded 2 documents\n",
      "Fitting role classifier: domain='salary', intent='get_salary_aggregate', entity_type='citizendesc'\n",
      "No role model configuration set. Using default.\n",
      "Importing synonym data to synonym index 'synonym_citizendesc'\n",
      "Elasticsearch index 'synonym_citizendesc' for application 'hr_assistant' already exists!\n",
      "Loading index 'synonym_citizendesc'\n"
     ]
    },
    {
     "name": "stderr",
     "output_type": "stream",
     "text": [
      "\n",
      "100%|██████████| 3/3 [00:00<00:00, 75.21it/s]"
     ]
    },
    {
     "name": "stdout",
     "output_type": "stream",
     "text": [
      "Loaded 3 documents\n",
      "Fitting role classifier: domain='salary', intent='get_salary_aggregate', entity_type='sys_time'\n",
      "No role model configuration set. Using default.\n",
      "Fitting role classifier: domain='salary', intent='get_salary_aggregate', entity_type='date_compare'\n",
      "No role model configuration set. Using default.\n",
      "Importing synonym data to synonym index 'synonym_date_compare'\n",
      "Elasticsearch index 'synonym_date_compare' for application 'hr_assistant' already exists!\n",
      "Loading index 'synonym_date_compare'\n"
     ]
    },
    {
     "name": "stderr",
     "output_type": "stream",
     "text": [
      "\n",
      "100%|██████████| 2/2 [00:00<00:00, 56.18it/s]"
     ]
    },
    {
     "name": "stdout",
     "output_type": "stream",
     "text": [
      "Loaded 2 documents\n",
      "Fitting role classifier: domain='salary', intent='get_salary_aggregate', entity_type='department'\n"
     ]
    },
    {
     "name": "stderr",
     "output_type": "stream",
     "text": [
      "\n"
     ]
    },
    {
     "name": "stdout",
     "output_type": "stream",
     "text": [
      "No role model configuration set. Using default.\n",
      "Importing synonym data to synonym index 'synonym_department'\n",
      "Elasticsearch index 'synonym_department' for application 'hr_assistant' already exists!\n",
      "Loading index 'synonym_department'\n"
     ]
    },
    {
     "name": "stderr",
     "output_type": "stream",
     "text": [
      "100%|██████████| 6/6 [00:00<00:00, 143.18it/s]"
     ]
    },
    {
     "name": "stdout",
     "output_type": "stream",
     "text": [
      "Loaded 6 documents\n",
      "Fitting role classifier: domain='salary', intent='get_salary_aggregate', entity_type='money'\n",
      "No role model configuration set. Using default.\n",
      "Importing synonym data to synonym index 'synonym_money'\n",
      "Elasticsearch index 'synonym_money' for application 'hr_assistant' already exists!\n",
      "Loading index 'synonym_money'\n"
     ]
    },
    {
     "name": "stderr",
     "output_type": "stream",
     "text": [
      "\n",
      "100%|██████████| 1/1 [00:00<00:00, 29.80it/s]"
     ]
    },
    {
     "name": "stdout",
     "output_type": "stream",
     "text": [
      "Loaded 1 document\n",
      "Fitting role classifier: domain='salary', intent='get_salary_aggregate', entity_type='position'\n",
      "No role model configuration set. Using default.\n",
      "Importing synonym data to synonym index 'synonym_position'\n",
      "Elasticsearch index 'synonym_position' for application 'hr_assistant' already exists!\n",
      "Loading index 'synonym_position'\n"
     ]
    },
    {
     "name": "stderr",
     "output_type": "stream",
     "text": [
      "\n",
      "100%|██████████| 24/24 [00:00<00:00, 524.80it/s]"
     ]
    },
    {
     "name": "stdout",
     "output_type": "stream",
     "text": [
      "Loaded 24 documents\n",
      "Fitting role classifier: domain='salary', intent='get_salary_aggregate', entity_type='employment_action'\n",
      "No role model configuration set. Using default.\n",
      "Importing synonym data to synonym index 'synonym_employment_action'\n"
     ]
    },
    {
     "name": "stderr",
     "output_type": "stream",
     "text": [
      "\n"
     ]
    },
    {
     "name": "stdout",
     "output_type": "stream",
     "text": [
      "Elasticsearch index 'synonym_employment_action' for application 'hr_assistant' already exists!\n",
      "Loading index 'synonym_employment_action'\n"
     ]
    },
    {
     "name": "stderr",
     "output_type": "stream",
     "text": [
      "100%|██████████| 2/2 [00:00<00:00, 53.34it/s]"
     ]
    },
    {
     "name": "stdout",
     "output_type": "stream",
     "text": [
      "Loaded 2 documents\n",
      "Fitting role classifier: domain='salary', intent='get_salary_aggregate', entity_type='time_recur'\n",
      "No role model configuration set. Using default.\n",
      "Importing synonym data to synonym index 'synonym_time_recur'\n",
      "Elasticsearch index 'synonym_time_recur' for application 'hr_assistant' already exists!\n",
      "Loading index 'synonym_time_recur'\n"
     ]
    },
    {
     "name": "stderr",
     "output_type": "stream",
     "text": [
      "\n",
      "100%|██████████| 5/5 [00:00<00:00, 110.82it/s]"
     ]
    },
    {
     "name": "stdout",
     "output_type": "stream",
     "text": [
      "Loaded 5 documents\n",
      "Fitting role classifier: domain='salary', intent='get_salary_aggregate', entity_type='sys_number'\n",
      "No role model configuration set. Using default.\n",
      "Fitting entity recognizer: domain='salary', intent='get_salary'\n",
      "No entity model configuration set. Using default.\n"
     ]
    },
    {
     "name": "stderr",
     "output_type": "stream",
     "text": [
      "\n"
     ]
    },
    {
     "name": "stdout",
     "output_type": "stream",
     "text": [
      "Selecting hyperparameters using k-fold cross-validation with 5 splits\n",
      "Best accuracy: 98.46%, params: {'C': 10000, 'penalty': 'l1'}\n",
      "No entity_resolution model configuration set. Using default.\n",
      "No entity_resolution model configuration set. Using default.\n",
      "No entity_resolution model configuration set. Using default.\n",
      "No entity_resolution model configuration set. Using default.\n",
      "No entity_resolution model configuration set. Using default.\n",
      "No entity_resolution model configuration set. Using default.\n",
      "No entity_resolution model configuration set. Using default.\n",
      "No entity_resolution model configuration set. Using default.\n",
      "No entity_resolution model configuration set. Using default.\n",
      "No entity_resolution model configuration set. Using default.\n",
      "Fitting role classifier: domain='salary', intent='get_salary', entity_type='sys_amount-of-money'\n",
      "No role model configuration set. Using default.\n",
      "Fitting role classifier: domain='salary', intent='get_salary', entity_type='name'\n",
      "No role model configuration set. Using default.\n",
      "Importing synonym data to synonym index 'synonym_name'\n",
      "Elasticsearch index 'synonym_name' for application 'hr_assistant' already exists!\n",
      "Loading index 'synonym_name'\n"
     ]
    },
    {
     "name": "stderr",
     "output_type": "stream",
     "text": [
      "100%|██████████| 245/245 [00:00<00:00, 1149.54it/s]"
     ]
    },
    {
     "name": "stdout",
     "output_type": "stream",
     "text": [
      "Loaded 245 documents\n",
      "Fitting role classifier: domain='salary', intent='get_salary', entity_type='comparator'\n",
      "No role model configuration set. Using default.\n",
      "Importing synonym data to synonym index 'synonym_comparator'\n",
      "Elasticsearch index 'synonym_comparator' for application 'hr_assistant' already exists!\n",
      "Loading index 'synonym_comparator'\n"
     ]
    },
    {
     "name": "stderr",
     "output_type": "stream",
     "text": [
      "\n",
      "100%|██████████| 4/4 [00:00<00:00, 122.29it/s]"
     ]
    },
    {
     "name": "stdout",
     "output_type": "stream",
     "text": [
      "Loaded 4 documents\n",
      "Fitting role classifier: domain='salary', intent='get_salary', entity_type='sys_duration'\n",
      "No role model configuration set. Using default.\n",
      "Fitting role classifier: domain='salary', intent='get_salary', entity_type='employment_action'\n",
      "No role model configuration set. Using default.\n",
      "Importing synonym data to synonym index 'synonym_employment_action'\n",
      "Elasticsearch index 'synonym_employment_action' for application 'hr_assistant' already exists!\n",
      "Loading index 'synonym_employment_action'\n"
     ]
    },
    {
     "name": "stderr",
     "output_type": "stream",
     "text": [
      "\n",
      "100%|██████████| 2/2 [00:00<00:00, 58.85it/s]"
     ]
    },
    {
     "name": "stdout",
     "output_type": "stream",
     "text": [
      "Loaded 2 documents\n",
      "Fitting role classifier: domain='salary', intent='get_salary', entity_type='extreme'\n",
      "No role model configuration set. Using default.\n",
      "Importing synonym data to synonym index 'synonym_extreme'\n",
      "Elasticsearch index 'synonym_extreme' for application 'hr_assistant' already exists!\n",
      "Loading index 'synonym_extreme'\n"
     ]
    },
    {
     "name": "stderr",
     "output_type": "stream",
     "text": [
      "\n",
      "100%|██████████| 2/2 [00:00<00:00, 65.41it/s]"
     ]
    },
    {
     "name": "stdout",
     "output_type": "stream",
     "text": [
      "Loaded 2 documents\n",
      "Fitting role classifier: domain='salary', intent='get_salary', entity_type='sys_time'\n",
      "No role model configuration set. Using default.\n",
      "Fitting role classifier: domain='salary', intent='get_salary', entity_type='money'\n",
      "No role model configuration set. Using default.\n",
      "Importing synonym data to synonym index 'synonym_money'\n",
      "Elasticsearch index 'synonym_money' for application 'hr_assistant' already exists!\n",
      "Loading index 'synonym_money'\n"
     ]
    },
    {
     "name": "stderr",
     "output_type": "stream",
     "text": [
      "\n",
      "100%|██████████| 1/1 [00:00<00:00, 54.39it/s]"
     ]
    },
    {
     "name": "stdout",
     "output_type": "stream",
     "text": [
      "Loaded 1 document\n",
      "Fitting role classifier: domain='salary', intent='get_salary', entity_type='sys_number'\n",
      "No role model configuration set. Using default.\n",
      "Fitting role classifier: domain='salary', intent='get_salary', entity_type='time_recur'\n",
      "No role model configuration set. Using default.\n",
      "Importing synonym data to synonym index 'synonym_time_recur'\n",
      "Elasticsearch index 'synonym_time_recur' for application 'hr_assistant' already exists!\n",
      "Loading index 'synonym_time_recur'\n"
     ]
    },
    {
     "name": "stderr",
     "output_type": "stream",
     "text": [
      "\n",
      "100%|██████████| 5/5 [00:00<00:00, 104.51it/s]"
     ]
    },
    {
     "name": "stdout",
     "output_type": "stream",
     "text": [
      "Loaded 5 documents\n",
      "Fitting entity recognizer: domain='salary', intent='get_salary_employees'\n",
      "No entity model configuration set. Using default.\n"
     ]
    },
    {
     "name": "stderr",
     "output_type": "stream",
     "text": [
      "\n"
     ]
    },
    {
     "name": "stdout",
     "output_type": "stream",
     "text": [
      "Selecting hyperparameters using k-fold cross-validation with 5 splits\n",
      "Best accuracy: 94.64%, params: {'C': 100, 'penalty': 'l1'}\n",
      "No entity_resolution model configuration set. Using default.\n",
      "No entity_resolution model configuration set. Using default.\n",
      "No entity_resolution model configuration set. Using default.\n",
      "No entity_resolution model configuration set. Using default.\n",
      "No entity_resolution model configuration set. Using default.\n",
      "No entity_resolution model configuration set. Using default.\n",
      "No entity_resolution model configuration set. Using default.\n",
      "No entity_resolution model configuration set. Using default.\n",
      "No entity_resolution model configuration set. Using default.\n",
      "No entity_resolution model configuration set. Using default.\n",
      "No entity_resolution model configuration set. Using default.\n",
      "No entity_resolution model configuration set. Using default.\n",
      "No entity_resolution model configuration set. Using default.\n",
      "No entity_resolution model configuration set. Using default.\n",
      "No entity_resolution model configuration set. Using default.\n",
      "No entity_resolution model configuration set. Using default.\n",
      "No entity_resolution model configuration set. Using default.\n",
      "No entity_resolution model configuration set. Using default.\n",
      "No entity_resolution model configuration set. Using default.\n",
      "Fitting role classifier: domain='salary', intent='get_salary_employees', entity_type='manager'\n",
      "No role model configuration set. Using default.\n",
      "Importing synonym data to synonym index 'synonym_manager'\n",
      "Elasticsearch index 'synonym_manager' for application 'hr_assistant' already exists!\n",
      "Loading index 'synonym_manager'\n"
     ]
    },
    {
     "name": "stderr",
     "output_type": "stream",
     "text": [
      "100%|██████████| 1/1 [00:00<00:00, 40.22it/s]"
     ]
    },
    {
     "name": "stdout",
     "output_type": "stream",
     "text": [
      "Loaded 1 document\n",
      "Fitting role classifier: domain='salary', intent='get_salary_employees', entity_type='sex'\n",
      "No role model configuration set. Using default.\n",
      "Importing synonym data to synonym index 'synonym_sex'\n",
      "Elasticsearch index 'synonym_sex' for application 'hr_assistant' already exists!\n",
      "Loading index 'synonym_sex'\n"
     ]
    },
    {
     "name": "stderr",
     "output_type": "stream",
     "text": [
      "\n",
      "100%|██████████| 2/2 [00:00<00:00, 81.55it/s]"
     ]
    },
    {
     "name": "stdout",
     "output_type": "stream",
     "text": [
      "Loaded 2 documents\n",
      "Fitting role classifier: domain='salary', intent='get_salary_employees', entity_type='name'\n",
      "No role model configuration set. Using default.\n",
      "Importing synonym data to synonym index 'synonym_name'\n",
      "Elasticsearch index 'synonym_name' for application 'hr_assistant' already exists!\n",
      "Loading index 'synonym_name'\n"
     ]
    },
    {
     "name": "stderr",
     "output_type": "stream",
     "text": [
      "\n",
      "100%|██████████| 245/245 [00:00<00:00, 1120.10it/s]"
     ]
    },
    {
     "name": "stdout",
     "output_type": "stream",
     "text": [
      "Loaded 245 documents\n",
      "Fitting role classifier: domain='salary', intent='get_salary_employees', entity_type='comparator'\n",
      "No role model configuration set. Using default.\n",
      "Importing synonym data to synonym index 'synonym_comparator'\n",
      "Elasticsearch index 'synonym_comparator' for application 'hr_assistant' already exists!\n",
      "Loading index 'synonym_comparator'\n"
     ]
    },
    {
     "name": "stderr",
     "output_type": "stream",
     "text": [
      "\n",
      "100%|██████████| 4/4 [00:00<00:00, 141.73it/s]"
     ]
    },
    {
     "name": "stdout",
     "output_type": "stream",
     "text": [
      "Loaded 4 documents\n",
      "Fitting role classifier: domain='salary', intent='get_salary_employees', entity_type='sys_amount-of-money'\n",
      "No role model configuration set. Using default.\n",
      "Fitting role classifier: domain='salary', intent='get_salary_employees', entity_type='sys_duration'\n",
      "No role model configuration set. Using default.\n",
      "Fitting role classifier: domain='salary', intent='get_salary_employees', entity_type='function'\n",
      "No role model configuration set. Using default.\n",
      "Importing synonym data to synonym index 'synonym_function'\n",
      "Elasticsearch index 'synonym_function' for application 'hr_assistant' already exists!\n",
      "Loading index 'synonym_function'\n"
     ]
    },
    {
     "name": "stderr",
     "output_type": "stream",
     "text": [
      "\n",
      "100%|██████████| 4/4 [00:00<00:00, 131.81it/s]"
     ]
    },
    {
     "name": "stdout",
     "output_type": "stream",
     "text": [
      "Loaded 4 documents\n",
      "Fitting role classifier: domain='salary', intent='get_salary_employees', entity_type='racedesc'\n"
     ]
    },
    {
     "name": "stderr",
     "output_type": "stream",
     "text": [
      "\n"
     ]
    },
    {
     "name": "stdout",
     "output_type": "stream",
     "text": [
      "No role model configuration set. Using default.\n",
      "Importing synonym data to synonym index 'synonym_racedesc'\n",
      "Elasticsearch index 'synonym_racedesc' for application 'hr_assistant' already exists!\n",
      "Loading index 'synonym_racedesc'\n"
     ]
    },
    {
     "name": "stderr",
     "output_type": "stream",
     "text": [
      "100%|██████████| 6/6 [00:00<00:00, 181.69it/s]"
     ]
    },
    {
     "name": "stdout",
     "output_type": "stream",
     "text": [
      "Loaded 6 documents\n",
      "Fitting role classifier: domain='salary', intent='get_salary_employees', entity_type='employee_source'\n",
      "No role model configuration set. Using default.\n",
      "Importing synonym data to synonym index 'synonym_employee_source'\n",
      "Elasticsearch index 'synonym_employee_source' for application 'hr_assistant' already exists!\n",
      "Loading index 'synonym_employee_source'\n"
     ]
    },
    {
     "name": "stderr",
     "output_type": "stream",
     "text": [
      "\n",
      "100%|██████████| 20/20 [00:00<00:00, 274.87it/s]"
     ]
    },
    {
     "name": "stdout",
     "output_type": "stream",
     "text": [
      "Loaded 20 documents\n",
      "Fitting role classifier: domain='salary', intent='get_salary_employees', entity_type='extreme'\n",
      "No role model configuration set. Using default.\n",
      "Importing synonym data to synonym index 'synonym_extreme'\n",
      "Elasticsearch index 'synonym_extreme' for application 'hr_assistant' already exists!\n",
      "Loading index 'synonym_extreme'\n"
     ]
    },
    {
     "name": "stderr",
     "output_type": "stream",
     "text": [
      "\n",
      "100%|██████████| 2/2 [00:00<00:00, 67.69it/s]"
     ]
    },
    {
     "name": "stdout",
     "output_type": "stream",
     "text": [
      "Loaded 2 documents\n",
      "Fitting role classifier: domain='salary', intent='get_salary_employees', entity_type='employment_status'\n",
      "No role model configuration set. Using default.\n",
      "Importing synonym data to synonym index 'synonym_employment_status'\n"
     ]
    },
    {
     "name": "stderr",
     "output_type": "stream",
     "text": [
      "\n"
     ]
    },
    {
     "name": "stdout",
     "output_type": "stream",
     "text": [
      "Elasticsearch index 'synonym_employment_status' for application 'hr_assistant' already exists!\n",
      "Loading index 'synonym_employment_status'\n"
     ]
    },
    {
     "name": "stderr",
     "output_type": "stream",
     "text": [
      "100%|██████████| 5/5 [00:00<00:00, 131.28it/s]"
     ]
    },
    {
     "name": "stdout",
     "output_type": "stream",
     "text": [
      "Loaded 5 documents\n",
      "Fitting role classifier: domain='salary', intent='get_salary_employees', entity_type='citizendesc'\n",
      "No role model configuration set. Using default.\n"
     ]
    },
    {
     "name": "stderr",
     "output_type": "stream",
     "text": [
      "\n"
     ]
    },
    {
     "name": "stdout",
     "output_type": "stream",
     "text": [
      "Importing synonym data to synonym index 'synonym_citizendesc'\n",
      "Elasticsearch index 'synonym_citizendesc' for application 'hr_assistant' already exists!\n",
      "Loading index 'synonym_citizendesc'\n"
     ]
    },
    {
     "name": "stderr",
     "output_type": "stream",
     "text": [
      "100%|██████████| 3/3 [00:00<00:00, 92.40it/s]"
     ]
    },
    {
     "name": "stdout",
     "output_type": "stream",
     "text": [
      "Loaded 3 documents\n",
      "Fitting role classifier: domain='salary', intent='get_salary_employees', entity_type='department'\n",
      "No role model configuration set. Using default.\n",
      "Importing synonym data to synonym index 'synonym_department'\n",
      "Elasticsearch index 'synonym_department' for application 'hr_assistant' already exists!\n",
      "Loading index 'synonym_department'\n"
     ]
    },
    {
     "name": "stderr",
     "output_type": "stream",
     "text": [
      "\n",
      "100%|██████████| 6/6 [00:00<00:00, 90.82it/s]"
     ]
    },
    {
     "name": "stdout",
     "output_type": "stream",
     "text": [
      "Loaded 6 documents\n",
      "Fitting role classifier: domain='salary', intent='get_salary_employees', entity_type='date_compare'\n",
      "No role model configuration set. Using default.\n",
      "Importing synonym data to synonym index 'synonym_date_compare'\n"
     ]
    },
    {
     "name": "stderr",
     "output_type": "stream",
     "text": [
      "\n"
     ]
    },
    {
     "name": "stdout",
     "output_type": "stream",
     "text": [
      "Elasticsearch index 'synonym_date_compare' for application 'hr_assistant' already exists!\n",
      "Loading index 'synonym_date_compare'\n"
     ]
    },
    {
     "name": "stderr",
     "output_type": "stream",
     "text": [
      "100%|██████████| 2/2 [00:00<00:00, 46.91it/s]"
     ]
    },
    {
     "name": "stdout",
     "output_type": "stream",
     "text": [
      "Loaded 2 documents\n",
      "Fitting role classifier: domain='salary', intent='get_salary_employees', entity_type='money'\n",
      "No role model configuration set. Using default.\n",
      "Importing synonym data to synonym index 'synonym_money'\n",
      "Elasticsearch index 'synonym_money' for application 'hr_assistant' already exists!\n",
      "Loading index 'synonym_money'\n"
     ]
    },
    {
     "name": "stderr",
     "output_type": "stream",
     "text": [
      "\n",
      "100%|██████████| 1/1 [00:00<00:00, 49.22it/s]"
     ]
    },
    {
     "name": "stdout",
     "output_type": "stream",
     "text": [
      "Loaded 1 document\n",
      "Fitting role classifier: domain='salary', intent='get_salary_employees', entity_type='position'\n",
      "No role model configuration set. Using default.\n",
      "Importing synonym data to synonym index 'synonym_position'\n",
      "Elasticsearch index 'synonym_position' for application 'hr_assistant' already exists!\n",
      "Loading index 'synonym_position'\n"
     ]
    },
    {
     "name": "stderr",
     "output_type": "stream",
     "text": [
      "\n",
      "100%|██████████| 24/24 [00:00<00:00, 449.68it/s]"
     ]
    },
    {
     "name": "stdout",
     "output_type": "stream",
     "text": [
      "Loaded 24 documents\n",
      "Fitting role classifier: domain='salary', intent='get_salary_employees', entity_type='employment_action'\n",
      "No role model configuration set. Using default.\n",
      "Importing synonym data to synonym index 'synonym_employment_action'\n"
     ]
    },
    {
     "name": "stderr",
     "output_type": "stream",
     "text": [
      "\n"
     ]
    },
    {
     "name": "stdout",
     "output_type": "stream",
     "text": [
      "Elasticsearch index 'synonym_employment_action' for application 'hr_assistant' already exists!\n",
      "Loading index 'synonym_employment_action'\n"
     ]
    },
    {
     "name": "stderr",
     "output_type": "stream",
     "text": [
      "100%|██████████| 2/2 [00:00<00:00, 47.07it/s]"
     ]
    },
    {
     "name": "stdout",
     "output_type": "stream",
     "text": [
      "Loaded 2 documents\n",
      "Fitting role classifier: domain='salary', intent='get_salary_employees', entity_type='time_recur'\n",
      "No role model configuration set. Using default.\n",
      "Importing synonym data to synonym index 'synonym_time_recur'\n"
     ]
    },
    {
     "name": "stderr",
     "output_type": "stream",
     "text": [
      "\n"
     ]
    },
    {
     "name": "stdout",
     "output_type": "stream",
     "text": [
      "Elasticsearch index 'synonym_time_recur' for application 'hr_assistant' already exists!\n",
      "Loading index 'synonym_time_recur'\n"
     ]
    },
    {
     "name": "stderr",
     "output_type": "stream",
     "text": [
      "100%|██████████| 5/5 [00:00<00:00, 130.33it/s]"
     ]
    },
    {
     "name": "stdout",
     "output_type": "stream",
     "text": [
      "Loaded 5 documents\n",
      "Fitting role classifier: domain='salary', intent='get_salary_employees', entity_type='sys_number'\n",
      "No role model configuration set. Using default.\n",
      "Fitting entity recognizer: domain='hierarchy', intent='get_hierarchy'\n",
      "No entity model configuration set. Using default.\n"
     ]
    },
    {
     "name": "stderr",
     "output_type": "stream",
     "text": [
      "\n"
     ]
    },
    {
     "name": "stdout",
     "output_type": "stream",
     "text": [
      "Selecting hyperparameters using k-fold cross-validation with 5 splits\n",
      "Best accuracy: 97.17%, params: {'C': 1, 'penalty': 'l2'}\n",
      "No entity_resolution model configuration set. Using default.\n",
      "No entity_resolution model configuration set. Using default.\n",
      "No entity_resolution model configuration set. Using default.\n",
      "Fitting role classifier: domain='hierarchy', intent='get_hierarchy', entity_type='manager'\n",
      "No role model configuration set. Using default.\n",
      "Importing synonym data to synonym index 'synonym_manager'\n",
      "Elasticsearch index 'synonym_manager' for application 'hr_assistant' already exists!\n",
      "Loading index 'synonym_manager'\n"
     ]
    },
    {
     "name": "stderr",
     "output_type": "stream",
     "text": [
      "100%|██████████| 1/1 [00:00<00:00, 48.63it/s]"
     ]
    },
    {
     "name": "stdout",
     "output_type": "stream",
     "text": [
      "Loaded 1 document\n",
      "Fitting role classifier: domain='hierarchy', intent='get_hierarchy', entity_type='comparator'\n",
      "No role model configuration set. Using default.\n",
      "Importing synonym data to synonym index 'synonym_comparator'\n",
      "Elasticsearch index 'synonym_comparator' for application 'hr_assistant' already exists!\n",
      "Loading index 'synonym_comparator'\n"
     ]
    },
    {
     "name": "stderr",
     "output_type": "stream",
     "text": [
      "\n",
      "100%|██████████| 4/4 [00:00<00:00, 149.85it/s]"
     ]
    },
    {
     "name": "stdout",
     "output_type": "stream",
     "text": [
      "Loaded 4 documents\n",
      "Fitting role classifier: domain='hierarchy', intent='get_hierarchy', entity_type='name'\n",
      "No role model configuration set. Using default.\n",
      "Importing synonym data to synonym index 'synonym_name'\n",
      "Elasticsearch index 'synonym_name' for application 'hr_assistant' already exists!\n",
      "Loading index 'synonym_name'\n"
     ]
    },
    {
     "name": "stderr",
     "output_type": "stream",
     "text": [
      "\n",
      "100%|██████████| 245/245 [00:00<00:00, 1022.37it/s]"
     ]
    },
    {
     "name": "stdout",
     "output_type": "stream",
     "text": [
      "Loaded 245 documents\n",
      "Fitting intent classifier: domain='greeting'\n"
     ]
    },
    {
     "name": "stderr",
     "output_type": "stream",
     "text": [
      "\n"
     ]
    },
    {
     "name": "stdout",
     "output_type": "stream",
     "text": [
      "Selecting hyperparameters using k-fold cross-validation with 5 splits\n",
      "Best accuracy: 99.59%, params: {'C': 1, 'class_weight': {0: 2.24828897338403, 1: 0.7266444629475437}, 'fit_intercept': False}\n",
      "Fitting entity recognizer: domain='greeting', intent='exit'\n",
      "No entity model configuration set. Using default.\n",
      "There are no labels in this label set, so we don't fit the model.\n",
      "Fitting entity recognizer: domain='greeting', intent='greet'\n",
      "No entity model configuration set. Using default.\n",
      "There are no labels in this label set, so we don't fit the model.\n",
      "Fitting entity recognizer: domain='unsupported', intent='unsupported'\n",
      "No entity model configuration set. Using default.\n",
      "There are no labels in this label set, so we don't fit the model.\n",
      "Fitting intent classifier: domain='date'\n",
      "Selecting hyperparameters using k-fold cross-validation with 5 splits\n",
      "Best accuracy: 98.30%, params: {'C': 100, 'class_weight': {0: 0.8128342245989305, 1: 1.9254237288135594, 2: 0.8812121212121212}, 'fit_intercept': True}\n",
      "Fitting entity recognizer: domain='date', intent='get_date'\n",
      "No entity model configuration set. Using default.\n",
      "Selecting hyperparameters using k-fold cross-validation with 5 splits\n",
      "Best accuracy: 96.14%, params: {'C': 100, 'penalty': 'l1'}\n",
      "No entity_resolution model configuration set. Using default.\n",
      "No entity_resolution model configuration set. Using default.\n",
      "No entity_resolution model configuration set. Using default.\n",
      "No entity_resolution model configuration set. Using default.\n",
      "No entity_resolution model configuration set. Using default.\n",
      "Fitting role classifier: domain='date', intent='get_date', entity_type='dob'\n",
      "No role model configuration set. Using default.\n",
      "Importing synonym data to synonym index 'synonym_dob'\n",
      "Elasticsearch index 'synonym_dob' for application 'hr_assistant' already exists!\n",
      "Loading index 'synonym_dob'\n"
     ]
    },
    {
     "name": "stderr",
     "output_type": "stream",
     "text": [
      "100%|██████████| 1/1 [00:00<00:00, 58.65it/s]"
     ]
    },
    {
     "name": "stdout",
     "output_type": "stream",
     "text": [
      "Loaded 1 document\n",
      "Fitting role classifier: domain='date', intent='get_date', entity_type='name'\n",
      "No role model configuration set. Using default.\n",
      "Importing synonym data to synonym index 'synonym_name'\n",
      "Elasticsearch index 'synonym_name' for application 'hr_assistant' already exists!\n",
      "Loading index 'synonym_name'\n"
     ]
    },
    {
     "name": "stderr",
     "output_type": "stream",
     "text": [
      "\n",
      "100%|██████████| 245/245 [00:00<00:00, 1218.58it/s]"
     ]
    },
    {
     "name": "stdout",
     "output_type": "stream",
     "text": [
      "Loaded 245 documents\n",
      "Fitting role classifier: domain='date', intent='get_date', entity_type='sys_duration'\n",
      "No role model configuration set. Using default.\n",
      "Fitting role classifier: domain='date', intent='get_date', entity_type='sys_time'\n",
      "No role model configuration set. Using default.\n",
      "Fitting role classifier: domain='date', intent='get_date', entity_type='employment_action'\n",
      "No role model configuration set. Using default.\n",
      "Importing synonym data to synonym index 'synonym_employment_action'\n",
      "Elasticsearch index 'synonym_employment_action' for application 'hr_assistant' already exists!\n",
      "Loading index 'synonym_employment_action'\n"
     ]
    },
    {
     "name": "stderr",
     "output_type": "stream",
     "text": [
      "\n",
      "100%|██████████| 2/2 [00:00<00:00, 62.35it/s]"
     ]
    },
    {
     "name": "stdout",
     "output_type": "stream",
     "text": [
      "Loaded 2 documents\n",
      "Fitting entity recognizer: domain='date', intent='get_date_range_employees'\n",
      "No entity model configuration set. Using default.\n"
     ]
    },
    {
     "name": "stderr",
     "output_type": "stream",
     "text": [
      "\n"
     ]
    },
    {
     "name": "stdout",
     "output_type": "stream",
     "text": [
      "Selecting hyperparameters using k-fold cross-validation with 5 splits\n",
      "Best accuracy: 94.17%, params: {'C': 100, 'penalty': 'l1'}\n",
      "No entity_resolution model configuration set. Using default.\n",
      "No entity_resolution model configuration set. Using default.\n",
      "No entity_resolution model configuration set. Using default.\n",
      "No entity_resolution model configuration set. Using default.\n",
      "No entity_resolution model configuration set. Using default.\n",
      "No entity_resolution model configuration set. Using default.\n",
      "No entity_resolution model configuration set. Using default.\n",
      "No entity_resolution model configuration set. Using default.\n",
      "No entity_resolution model configuration set. Using default.\n",
      "No entity_resolution model configuration set. Using default.\n",
      "No entity_resolution model configuration set. Using default.\n",
      "No entity_resolution model configuration set. Using default.\n",
      "No entity_resolution model configuration set. Using default.\n",
      "No entity_resolution model configuration set. Using default.\n",
      "No entity_resolution model configuration set. Using default.\n",
      "No entity_resolution model configuration set. Using default.\n",
      "No entity_resolution model configuration set. Using default.\n",
      "Fitting role classifier: domain='date', intent='get_date_range_employees', entity_type='state'\n",
      "No role model configuration set. Using default.\n",
      "Importing synonym data to synonym index 'synonym_state'\n",
      "Elasticsearch index 'synonym_state' for application 'hr_assistant' already exists!\n",
      "Loading index 'synonym_state'\n"
     ]
    },
    {
     "name": "stderr",
     "output_type": "stream",
     "text": [
      "100%|██████████| 28/28 [00:00<00:00, 724.17it/s]"
     ]
    },
    {
     "name": "stdout",
     "output_type": "stream",
     "text": [
      "Loaded 28 documents\n",
      "Fitting role classifier: domain='date', intent='get_date_range_employees', entity_type='dob'\n",
      "No role model configuration set. Using default.\n",
      "Importing synonym data to synonym index 'synonym_dob'\n",
      "Elasticsearch index 'synonym_dob' for application 'hr_assistant' already exists!\n",
      "Loading index 'synonym_dob'\n"
     ]
    },
    {
     "name": "stderr",
     "output_type": "stream",
     "text": [
      "\n",
      "100%|██████████| 1/1 [00:00<00:00, 52.17it/s]"
     ]
    },
    {
     "name": "stdout",
     "output_type": "stream",
     "text": [
      "Loaded 1 document\n",
      "Fitting role classifier: domain='date', intent='get_date_range_employees', entity_type='maritaldesc'\n",
      "No role model configuration set. Using default.\n",
      "Importing synonym data to synonym index 'synonym_maritaldesc'\n",
      "Elasticsearch index 'synonym_maritaldesc' for application 'hr_assistant' already exists!\n",
      "Loading index 'synonym_maritaldesc'\n"
     ]
    },
    {
     "name": "stderr",
     "output_type": "stream",
     "text": [
      "\n",
      "100%|██████████| 5/5 [00:00<00:00, 132.83it/s]"
     ]
    },
    {
     "name": "stdout",
     "output_type": "stream",
     "text": [
      "Loaded 5 documents\n",
      "Fitting role classifier: domain='date', intent='get_date_range_employees', entity_type='sex'\n",
      "No role model configuration set. Using default.\n",
      "Importing synonym data to synonym index 'synonym_sex'\n",
      "Elasticsearch index 'synonym_sex' for application 'hr_assistant' already exists!\n",
      "Loading index 'synonym_sex'\n"
     ]
    },
    {
     "name": "stderr",
     "output_type": "stream",
     "text": [
      "\n",
      "100%|██████████| 2/2 [00:00<00:00, 74.07it/s]"
     ]
    },
    {
     "name": "stdout",
     "output_type": "stream",
     "text": [
      "Loaded 2 documents\n",
      "Fitting role classifier: domain='date', intent='get_date_range_employees', entity_type='comparator'\n",
      "No role model configuration set. Using default.\n",
      "Importing synonym data to synonym index 'synonym_comparator'\n",
      "Elasticsearch index 'synonym_comparator' for application 'hr_assistant' already exists!\n",
      "Loading index 'synonym_comparator'\n"
     ]
    },
    {
     "name": "stderr",
     "output_type": "stream",
     "text": [
      "\n",
      "100%|██████████| 4/4 [00:00<00:00, 191.73it/s]"
     ]
    },
    {
     "name": "stdout",
     "output_type": "stream",
     "text": [
      "Loaded 4 documents\n",
      "Fitting role classifier: domain='date', intent='get_date_range_employees', entity_type='sys_interval'\n",
      "No role model configuration set. Using default.\n",
      "Fitting role classifier: domain='date', intent='get_date_range_employees', entity_type='sys_duration'\n",
      "No role model configuration set. Using default.\n",
      "Fitting role classifier: domain='date', intent='get_date_range_employees', entity_type='sys_time'\n",
      "No role model configuration set. Using default.\n",
      "Fitting role classifier: domain='date', intent='get_date_range_employees', entity_type='racedesc'\n",
      "No role model configuration set. Using default.\n",
      "Importing synonym data to synonym index 'synonym_racedesc'\n"
     ]
    },
    {
     "name": "stderr",
     "output_type": "stream",
     "text": [
      "\n"
     ]
    },
    {
     "name": "stdout",
     "output_type": "stream",
     "text": [
      "Elasticsearch index 'synonym_racedesc' for application 'hr_assistant' already exists!\n",
      "Loading index 'synonym_racedesc'\n"
     ]
    },
    {
     "name": "stderr",
     "output_type": "stream",
     "text": [
      "100%|██████████| 6/6 [00:00<00:00, 159.43it/s]"
     ]
    },
    {
     "name": "stdout",
     "output_type": "stream",
     "text": [
      "Loaded 6 documents\n",
      "Fitting role classifier: domain='date', intent='get_date_range_employees', entity_type='time_interval'\n",
      "No role model configuration set. Using default.\n",
      "Importing synonym data to synonym index 'synonym_time_interval'\n",
      "Elasticsearch index 'synonym_time_interval' for application 'hr_assistant' already exists!\n",
      "Loading index 'synonym_time_interval'\n"
     ]
    },
    {
     "name": "stderr",
     "output_type": "stream",
     "text": [
      "\n",
      "100%|██████████| 10/10 [00:00<00:00, 299.86it/s]"
     ]
    },
    {
     "name": "stdout",
     "output_type": "stream",
     "text": [
      "Loaded 10 documents\n",
      "Fitting role classifier: domain='date', intent='get_date_range_employees', entity_type='extreme'\n",
      "No role model configuration set. Using default.\n",
      "Importing synonym data to synonym index 'synonym_extreme'\n",
      "Elasticsearch index 'synonym_extreme' for application 'hr_assistant' already exists!\n",
      "Loading index 'synonym_extreme'\n"
     ]
    },
    {
     "name": "stderr",
     "output_type": "stream",
     "text": [
      "\n",
      "100%|██████████| 2/2 [00:00<00:00, 74.61it/s]"
     ]
    },
    {
     "name": "stdout",
     "output_type": "stream",
     "text": [
      "Loaded 2 documents\n",
      "Fitting role classifier: domain='date', intent='get_date_range_employees', entity_type='citizendesc'\n",
      "No role model configuration set. Using default.\n",
      "Importing synonym data to synonym index 'synonym_citizendesc'\n",
      "Elasticsearch index 'synonym_citizendesc' for application 'hr_assistant' already exists!\n",
      "Loading index 'synonym_citizendesc'\n"
     ]
    },
    {
     "name": "stderr",
     "output_type": "stream",
     "text": [
      "\n",
      "100%|██████████| 3/3 [00:00<00:00, 80.85it/s]"
     ]
    },
    {
     "name": "stdout",
     "output_type": "stream",
     "text": [
      "Loaded 3 documents\n",
      "Fitting role classifier: domain='date', intent='get_date_range_employees', entity_type='department'\n",
      "No role model configuration set. Using default.\n"
     ]
    },
    {
     "name": "stderr",
     "output_type": "stream",
     "text": [
      "\n"
     ]
    },
    {
     "name": "stdout",
     "output_type": "stream",
     "text": [
      "Importing synonym data to synonym index 'synonym_department'\n",
      "Elasticsearch index 'synonym_department' for application 'hr_assistant' already exists!\n",
      "Loading index 'synonym_department'\n"
     ]
    },
    {
     "name": "stderr",
     "output_type": "stream",
     "text": [
      "100%|██████████| 6/6 [00:00<00:00, 97.91it/s]"
     ]
    },
    {
     "name": "stdout",
     "output_type": "stream",
     "text": [
      "Loaded 6 documents\n",
      "Fitting role classifier: domain='date', intent='get_date_range_employees', entity_type='date_compare'\n",
      "No role model configuration set. Using default.\n"
     ]
    },
    {
     "name": "stderr",
     "output_type": "stream",
     "text": [
      "\n"
     ]
    },
    {
     "name": "stdout",
     "output_type": "stream",
     "text": [
      "Importing synonym data to synonym index 'synonym_date_compare'\n",
      "Elasticsearch index 'synonym_date_compare' for application 'hr_assistant' already exists!\n",
      "Loading index 'synonym_date_compare'\n"
     ]
    },
    {
     "name": "stderr",
     "output_type": "stream",
     "text": [
      "100%|██████████| 2/2 [00:00<00:00, 49.47it/s]"
     ]
    },
    {
     "name": "stdout",
     "output_type": "stream",
     "text": [
      "Loaded 2 documents\n",
      "Fitting role classifier: domain='date', intent='get_date_range_employees', entity_type='position'\n",
      "No role model configuration set. Using default.\n",
      "Importing synonym data to synonym index 'synonym_position'\n",
      "Elasticsearch index 'synonym_position' for application 'hr_assistant' already exists!\n",
      "Loading index 'synonym_position'\n"
     ]
    },
    {
     "name": "stderr",
     "output_type": "stream",
     "text": [
      "\n",
      "100%|██████████| 24/24 [00:00<00:00, 519.93it/s]"
     ]
    },
    {
     "name": "stdout",
     "output_type": "stream",
     "text": [
      "Loaded 24 documents\n",
      "Fitting role classifier: domain='date', intent='get_date_range_employees', entity_type='employment_action'\n",
      "No role model configuration set. Using default.\n"
     ]
    },
    {
     "name": "stderr",
     "output_type": "stream",
     "text": [
      "\n"
     ]
    },
    {
     "name": "stdout",
     "output_type": "stream",
     "text": [
      "Importing synonym data to synonym index 'synonym_employment_action'\n",
      "Elasticsearch index 'synonym_employment_action' for application 'hr_assistant' already exists!\n",
      "Loading index 'synonym_employment_action'\n"
     ]
    },
    {
     "name": "stderr",
     "output_type": "stream",
     "text": [
      "100%|██████████| 2/2 [00:00<00:00, 68.58it/s]"
     ]
    },
    {
     "name": "stdout",
     "output_type": "stream",
     "text": [
      "Loaded 2 documents\n",
      "Fitting role classifier: domain='date', intent='get_date_range_employees', entity_type='sys_number'\n",
      "No role model configuration set. Using default.\n",
      "Fitting entity recognizer: domain='date', intent='get_date_range_aggregate'\n",
      "No entity model configuration set. Using default.\n"
     ]
    },
    {
     "name": "stderr",
     "output_type": "stream",
     "text": [
      "\n"
     ]
    },
    {
     "name": "stdout",
     "output_type": "stream",
     "text": [
      "Selecting hyperparameters using k-fold cross-validation with 5 splits\n",
      "Best accuracy: 94.82%, params: {'C': 10000, 'penalty': 'l1'}\n",
      "No entity_resolution model configuration set. Using default.\n",
      "No entity_resolution model configuration set. Using default.\n",
      "No entity_resolution model configuration set. Using default.\n",
      "No entity_resolution model configuration set. Using default.\n",
      "No entity_resolution model configuration set. Using default.\n",
      "No entity_resolution model configuration set. Using default.\n",
      "No entity_resolution model configuration set. Using default.\n",
      "No entity_resolution model configuration set. Using default.\n",
      "No entity_resolution model configuration set. Using default.\n",
      "No entity_resolution model configuration set. Using default.\n",
      "Fitting role classifier: domain='date', intent='get_date_range_aggregate', entity_type='state'\n",
      "No role model configuration set. Using default.\n",
      "Importing synonym data to synonym index 'synonym_state'\n",
      "Elasticsearch index 'synonym_state' for application 'hr_assistant' already exists!\n",
      "Loading index 'synonym_state'\n"
     ]
    },
    {
     "name": "stderr",
     "output_type": "stream",
     "text": [
      "100%|██████████| 28/28 [00:00<00:00, 613.53it/s]"
     ]
    },
    {
     "name": "stdout",
     "output_type": "stream",
     "text": [
      "Loaded 28 documents\n",
      "Fitting role classifier: domain='date', intent='get_date_range_aggregate', entity_type='dob'\n",
      "No role model configuration set. Using default.\n",
      "Importing synonym data to synonym index 'synonym_dob'\n",
      "Elasticsearch index 'synonym_dob' for application 'hr_assistant' already exists!\n",
      "Loading index 'synonym_dob'\n"
     ]
    },
    {
     "name": "stderr",
     "output_type": "stream",
     "text": [
      "\n",
      "100%|██████████| 1/1 [00:00<00:00, 52.65it/s]"
     ]
    },
    {
     "name": "stdout",
     "output_type": "stream",
     "text": [
      "Loaded 1 document\n",
      "Fitting role classifier: domain='date', intent='get_date_range_aggregate', entity_type='comparator'\n",
      "No role model configuration set. Using default.\n",
      "Importing synonym data to synonym index 'synonym_comparator'\n",
      "Elasticsearch index 'synonym_comparator' for application 'hr_assistant' already exists!\n",
      "Loading index 'synonym_comparator'\n"
     ]
    },
    {
     "name": "stderr",
     "output_type": "stream",
     "text": [
      "\n",
      "100%|██████████| 4/4 [00:00<00:00, 137.54it/s]"
     ]
    },
    {
     "name": "stdout",
     "output_type": "stream",
     "text": [
      "Loaded 4 documents\n",
      "Fitting role classifier: domain='date', intent='get_date_range_aggregate', entity_type='sys_duration'\n",
      "No role model configuration set. Using default.\n",
      "Fitting role classifier: domain='date', intent='get_date_range_aggregate', entity_type='function'\n",
      "No role model configuration set. Using default.\n",
      "Importing synonym data to synonym index 'synonym_function'\n",
      "Elasticsearch index 'synonym_function' for application 'hr_assistant' already exists!\n",
      "Loading index 'synonym_function'\n"
     ]
    },
    {
     "name": "stderr",
     "output_type": "stream",
     "text": [
      "\n",
      "100%|██████████| 4/4 [00:00<00:00, 134.07it/s]"
     ]
    },
    {
     "name": "stdout",
     "output_type": "stream",
     "text": [
      "Loaded 4 documents\n",
      "Fitting role classifier: domain='date', intent='get_date_range_aggregate', entity_type='time_interval'\n",
      "No role model configuration set. Using default.\n",
      "Importing synonym data to synonym index 'synonym_time_interval'\n",
      "Elasticsearch index 'synonym_time_interval' for application 'hr_assistant' already exists!\n",
      "Loading index 'synonym_time_interval'\n"
     ]
    },
    {
     "name": "stderr",
     "output_type": "stream",
     "text": [
      "\n",
      "100%|██████████| 10/10 [00:00<00:00, 362.49it/s]"
     ]
    },
    {
     "name": "stdout",
     "output_type": "stream",
     "text": [
      "Loaded 10 documents\n",
      "Fitting role classifier: domain='date', intent='get_date_range_aggregate', entity_type='sys_time'\n",
      "No role model configuration set. Using default.\n",
      "Fitting role classifier: domain='date', intent='get_date_range_aggregate', entity_type='date_compare'\n",
      "No role model configuration set. Using default.\n",
      "Importing synonym data to synonym index 'synonym_date_compare'\n"
     ]
    },
    {
     "name": "stderr",
     "output_type": "stream",
     "text": [
      "\n"
     ]
    },
    {
     "name": "stdout",
     "output_type": "stream",
     "text": [
      "Elasticsearch index 'synonym_date_compare' for application 'hr_assistant' already exists!\n",
      "Loading index 'synonym_date_compare'\n"
     ]
    },
    {
     "name": "stderr",
     "output_type": "stream",
     "text": [
      "100%|██████████| 2/2 [00:00<00:00, 66.08it/s]"
     ]
    },
    {
     "name": "stdout",
     "output_type": "stream",
     "text": [
      "Loaded 2 documents\n"
     ]
    },
    {
     "name": "stderr",
     "output_type": "stream",
     "text": [
      "\n"
     ]
    },
    {
     "name": "stdout",
     "output_type": "stream",
     "text": [
      "Fitting role classifier: domain='date', intent='get_date_range_aggregate', entity_type='employment_action'\n",
      "No role model configuration set. Using default.\n",
      "Importing synonym data to synonym index 'synonym_employment_action'\n",
      "Elasticsearch index 'synonym_employment_action' for application 'hr_assistant' already exists!\n",
      "Loading index 'synonym_employment_action'\n"
     ]
    },
    {
     "name": "stderr",
     "output_type": "stream",
     "text": [
      "100%|██████████| 2/2 [00:00<00:00, 55.57it/s]"
     ]
    },
    {
     "name": "stdout",
     "output_type": "stream",
     "text": [
      "Loaded 2 documents\n",
      "Fitting role classifier: domain='date', intent='get_date_range_aggregate', entity_type='sys_number'\n",
      "No role model configuration set. Using default.\n",
      "Fitting intent classifier: domain='general'\n"
     ]
    },
    {
     "name": "stderr",
     "output_type": "stream",
     "text": [
      "\n"
     ]
    },
    {
     "name": "stdout",
     "output_type": "stream",
     "text": [
      "Selecting hyperparameters using k-fold cross-validation with 5 splits\n",
      "Best accuracy: 98.57%, params: {'C': 1, 'class_weight': {0: 1.1045977011494252, 1: 0.9117353308364544, 2: 1.010144927536232}, 'fit_intercept': True}\n",
      "Fitting entity recognizer: domain='general', intent='get_aggregate'\n",
      "No entity model configuration set. Using default.\n",
      "Selecting hyperparameters using k-fold cross-validation with 5 splits\n",
      "Best accuracy: 93.35%, params: {'C': 100, 'penalty': 'l2'}\n",
      "No entity_resolution model configuration set. Using default.\n",
      "No entity_resolution model configuration set. Using default.\n",
      "No entity_resolution model configuration set. Using default.\n",
      "No entity_resolution model configuration set. Using default.\n",
      "No entity_resolution model configuration set. Using default.\n",
      "No entity_resolution model configuration set. Using default.\n",
      "No entity_resolution model configuration set. Using default.\n",
      "No entity_resolution model configuration set. Using default.\n",
      "No entity_resolution model configuration set. Using default.\n",
      "No entity_resolution model configuration set. Using default.\n",
      "No entity_resolution model configuration set. Using default.\n",
      "No entity_resolution model configuration set. Using default.\n",
      "No entity_resolution model configuration set. Using default.\n",
      "No entity_resolution model configuration set. Using default.\n",
      "No entity_resolution model configuration set. Using default.\n",
      "No entity_resolution model configuration set. Using default.\n",
      "No entity_resolution model configuration set. Using default.\n",
      "No entity_resolution model configuration set. Using default.\n",
      "No entity_resolution model configuration set. Using default.\n",
      "No entity_resolution model configuration set. Using default.\n",
      "No entity_resolution model configuration set. Using default.\n",
      "No entity_resolution model configuration set. Using default.\n",
      "Fitting role classifier: domain='general', intent='get_aggregate', entity_type='comparator'\n",
      "No role model configuration set. Using default.\n",
      "Importing synonym data to synonym index 'synonym_comparator'\n",
      "Elasticsearch index 'synonym_comparator' for application 'hr_assistant' already exists!\n",
      "Loading index 'synonym_comparator'\n"
     ]
    },
    {
     "name": "stderr",
     "output_type": "stream",
     "text": [
      "100%|██████████| 4/4 [00:00<00:00, 122.17it/s]"
     ]
    },
    {
     "name": "stdout",
     "output_type": "stream",
     "text": [
      "Loaded 4 documents\n",
      "Fitting role classifier: domain='general', intent='get_aggregate', entity_type='citizendesc'\n",
      "No role model configuration set. Using default.\n",
      "Importing synonym data to synonym index 'synonym_citizendesc'\n",
      "Elasticsearch index 'synonym_citizendesc' for application 'hr_assistant' already exists!\n",
      "Loading index 'synonym_citizendesc'\n"
     ]
    },
    {
     "name": "stderr",
     "output_type": "stream",
     "text": [
      "\n",
      "100%|██████████| 3/3 [00:00<00:00, 97.38it/s]"
     ]
    },
    {
     "name": "stdout",
     "output_type": "stream",
     "text": [
      "Loaded 3 documents\n",
      "Fitting role classifier: domain='general', intent='get_aggregate', entity_type='sys_time'\n",
      "No role model configuration set. Using default.\n",
      "Fitting role classifier: domain='general', intent='get_aggregate', entity_type='employee_source'\n",
      "No role model configuration set. Using default.\n",
      "Importing synonym data to synonym index 'synonym_employee_source'\n",
      "Elasticsearch index 'synonym_employee_source' for application 'hr_assistant' already exists!\n",
      "Loading index 'synonym_employee_source'\n"
     ]
    },
    {
     "name": "stderr",
     "output_type": "stream",
     "text": [
      "\n",
      "100%|██████████| 20/20 [00:00<00:00, 463.72it/s]"
     ]
    },
    {
     "name": "stdout",
     "output_type": "stream",
     "text": [
      "Loaded 20 documents\n",
      "Fitting role classifier: domain='general', intent='get_aggregate', entity_type='position'\n",
      "No role model configuration set. Using default.\n",
      "Importing synonym data to synonym index 'synonym_position'\n",
      "Elasticsearch index 'synonym_position' for application 'hr_assistant' already exists!\n",
      "Loading index 'synonym_position'\n"
     ]
    },
    {
     "name": "stderr",
     "output_type": "stream",
     "text": [
      "\n",
      "100%|██████████| 24/24 [00:00<00:00, 567.44it/s]"
     ]
    },
    {
     "name": "stdout",
     "output_type": "stream",
     "text": [
      "Loaded 24 documents\n",
      "Fitting role classifier: domain='general', intent='get_aggregate', entity_type='dob'\n",
      "No role model configuration set. Using default.\n",
      "Importing synonym data to synonym index 'synonym_dob'\n",
      "Elasticsearch index 'synonym_dob' for application 'hr_assistant' already exists!\n",
      "Loading index 'synonym_dob'\n"
     ]
    },
    {
     "name": "stderr",
     "output_type": "stream",
     "text": [
      "\n",
      "100%|██████████| 1/1 [00:00<00:00, 61.24it/s]"
     ]
    },
    {
     "name": "stdout",
     "output_type": "stream",
     "text": [
      "Loaded 1 document\n",
      "Fitting role classifier: domain='general', intent='get_aggregate', entity_type='maritaldesc'\n",
      "No role model configuration set. Using default.\n",
      "Importing synonym data to synonym index 'synonym_maritaldesc'\n",
      "Elasticsearch index 'synonym_maritaldesc' for application 'hr_assistant' already exists!\n",
      "Loading index 'synonym_maritaldesc'\n"
     ]
    },
    {
     "name": "stderr",
     "output_type": "stream",
     "text": [
      "\n",
      "100%|██████████| 5/5 [00:00<00:00, 149.38it/s]"
     ]
    },
    {
     "name": "stdout",
     "output_type": "stream",
     "text": [
      "Loaded 5 documents\n",
      "Fitting role classifier: domain='general', intent='get_aggregate', entity_type='racedesc'\n",
      "No role model configuration set. Using default.\n",
      "Importing synonym data to synonym index 'synonym_racedesc'\n",
      "Elasticsearch index 'synonym_racedesc' for application 'hr_assistant' already exists!\n",
      "Loading index 'synonym_racedesc'\n"
     ]
    },
    {
     "name": "stderr",
     "output_type": "stream",
     "text": [
      "\n",
      "100%|██████████| 6/6 [00:00<00:00, 159.81it/s]"
     ]
    },
    {
     "name": "stdout",
     "output_type": "stream",
     "text": [
      "Loaded 6 documents\n",
      "Fitting role classifier: domain='general', intent='get_aggregate', entity_type='department'\n",
      "No role model configuration set. Using default.\n",
      "Importing synonym data to synonym index 'synonym_department'\n",
      "Elasticsearch index 'synonym_department' for application 'hr_assistant' already exists!\n",
      "Loading index 'synonym_department'\n"
     ]
    },
    {
     "name": "stderr",
     "output_type": "stream",
     "text": [
      "\n",
      "100%|██████████| 6/6 [00:00<00:00, 139.10it/s]"
     ]
    },
    {
     "name": "stdout",
     "output_type": "stream",
     "text": [
      "Loaded 6 documents\n",
      "Fitting role classifier: domain='general', intent='get_aggregate', entity_type='sys_number'\n",
      "No role model configuration set. Using default.\n",
      "Fitting role classifier: domain='general', intent='get_aggregate', entity_type='state'\n",
      "No role model configuration set. Using default.\n",
      "Importing synonym data to synonym index 'synonym_state'\n"
     ]
    },
    {
     "name": "stderr",
     "output_type": "stream",
     "text": [
      "\n"
     ]
    },
    {
     "name": "stdout",
     "output_type": "stream",
     "text": [
      "Elasticsearch index 'synonym_state' for application 'hr_assistant' already exists!\n",
      "Loading index 'synonym_state'\n"
     ]
    },
    {
     "name": "stderr",
     "output_type": "stream",
     "text": [
      "100%|██████████| 28/28 [00:00<00:00, 613.31it/s]"
     ]
    },
    {
     "name": "stdout",
     "output_type": "stream",
     "text": [
      "Loaded 28 documents\n",
      "Fitting role classifier: domain='general', intent='get_aggregate', entity_type='sex'\n",
      "No role model configuration set. Using default.\n",
      "Importing synonym data to synonym index 'synonym_sex'\n",
      "Elasticsearch index 'synonym_sex' for application 'hr_assistant' already exists!\n",
      "Loading index 'synonym_sex'\n"
     ]
    },
    {
     "name": "stderr",
     "output_type": "stream",
     "text": [
      "\n",
      "100%|██████████| 2/2 [00:00<00:00, 59.01it/s]"
     ]
    },
    {
     "name": "stdout",
     "output_type": "stream",
     "text": [
      "Loaded 2 documents\n",
      "Fitting role classifier: domain='general', intent='get_aggregate', entity_type='extreme'\n",
      "No role model configuration set. Using default.\n",
      "Importing synonym data to synonym index 'synonym_extreme'\n",
      "Elasticsearch index 'synonym_extreme' for application 'hr_assistant' already exists!\n",
      "Loading index 'synonym_extreme'\n"
     ]
    },
    {
     "name": "stderr",
     "output_type": "stream",
     "text": [
      "\n",
      "100%|██████████| 2/2 [00:00<00:00, 60.23it/s]"
     ]
    },
    {
     "name": "stdout",
     "output_type": "stream",
     "text": [
      "Loaded 2 documents\n",
      "Fitting role classifier: domain='general', intent='get_aggregate', entity_type='performance_score'\n",
      "No role model configuration set. Using default.\n",
      "Importing synonym data to synonym index 'synonym_performance_score'\n",
      "Elasticsearch index 'synonym_performance_score' for application 'hr_assistant' already exists!\n",
      "Loading index 'synonym_performance_score'\n"
     ]
    },
    {
     "name": "stderr",
     "output_type": "stream",
     "text": [
      "\n",
      "100%|██████████| 7/7 [00:00<00:00, 147.46it/s]"
     ]
    },
    {
     "name": "stdout",
     "output_type": "stream",
     "text": [
      "Loaded 7 documents\n",
      "Fitting role classifier: domain='general', intent='get_aggregate', entity_type='age'\n",
      "No role model configuration set. Using default.\n"
     ]
    },
    {
     "name": "stderr",
     "output_type": "stream",
     "text": [
      "\n"
     ]
    },
    {
     "name": "stdout",
     "output_type": "stream",
     "text": [
      "Importing synonym data to synonym index 'synonym_age'\n",
      "Elasticsearch index 'synonym_age' for application 'hr_assistant' already exists!\n",
      "Loading index 'synonym_age'\n"
     ]
    },
    {
     "name": "stderr",
     "output_type": "stream",
     "text": [
      "100%|██████████| 39/39 [00:00<00:00, 1019.77it/s]"
     ]
    },
    {
     "name": "stdout",
     "output_type": "stream",
     "text": [
      "Loaded 39 documents\n"
     ]
    },
    {
     "name": "stderr",
     "output_type": "stream",
     "text": [
      "\n"
     ]
    },
    {
     "name": "stdout",
     "output_type": "stream",
     "text": [
      "Fitting role classifier: domain='general', intent='get_aggregate', entity_type='manager'\n",
      "No role model configuration set. Using default.\n",
      "Importing synonym data to synonym index 'synonym_manager'\n",
      "Elasticsearch index 'synonym_manager' for application 'hr_assistant' already exists!\n",
      "Loading index 'synonym_manager'\n"
     ]
    },
    {
     "name": "stderr",
     "output_type": "stream",
     "text": [
      "100%|██████████| 1/1 [00:00<00:00, 49.74it/s]"
     ]
    },
    {
     "name": "stdout",
     "output_type": "stream",
     "text": [
      "Loaded 1 document\n",
      "Fitting role classifier: domain='general', intent='get_aggregate', entity_type='reason_for_termination'\n",
      "No role model configuration set. Using default.\n",
      "Importing synonym data to synonym index 'synonym_reason_for_termination'\n"
     ]
    },
    {
     "name": "stderr",
     "output_type": "stream",
     "text": [
      "\n"
     ]
    },
    {
     "name": "stdout",
     "output_type": "stream",
     "text": [
      "Elasticsearch index 'synonym_reason_for_termination' for application 'hr_assistant' already exists!\n",
      "Loading index 'synonym_reason_for_termination'\n"
     ]
    },
    {
     "name": "stderr",
     "output_type": "stream",
     "text": [
      "100%|██████████| 17/17 [00:00<00:00, 463.28it/s]"
     ]
    },
    {
     "name": "stdout",
     "output_type": "stream",
     "text": [
      "Loaded 17 documents\n",
      "Fitting role classifier: domain='general', intent='get_aggregate', entity_type='name'\n",
      "No role model configuration set. Using default.\n",
      "Importing synonym data to synonym index 'synonym_name'\n",
      "Elasticsearch index 'synonym_name' for application 'hr_assistant' already exists!\n",
      "Loading index 'synonym_name'\n"
     ]
    },
    {
     "name": "stderr",
     "output_type": "stream",
     "text": [
      "\n",
      "100%|██████████| 245/245 [00:00<00:00, 1000.28it/s]"
     ]
    },
    {
     "name": "stdout",
     "output_type": "stream",
     "text": [
      "Loaded 245 documents\n",
      "Fitting role classifier: domain='general', intent='get_aggregate', entity_type='sys_duration'\n",
      "No role model configuration set. Using default.\n",
      "Fitting role classifier: domain='general', intent='get_aggregate', entity_type='function'\n",
      "No role model configuration set. Using default.\n",
      "Importing synonym data to synonym index 'synonym_function'\n",
      "Elasticsearch index 'synonym_function' for application 'hr_assistant' already exists!\n",
      "Loading index 'synonym_function'\n"
     ]
    },
    {
     "name": "stderr",
     "output_type": "stream",
     "text": [
      "\n",
      "100%|██████████| 4/4 [00:00<00:00, 73.25it/s]"
     ]
    },
    {
     "name": "stdout",
     "output_type": "stream",
     "text": [
      "Loaded 4 documents\n",
      "Fitting role classifier: domain='general', intent='get_aggregate', entity_type='employment_status'\n",
      "No role model configuration set. Using default.\n",
      "Importing synonym data to synonym index 'synonym_employment_status'\n",
      "Elasticsearch index 'synonym_employment_status' for application 'hr_assistant' already exists!\n",
      "Loading index 'synonym_employment_status'\n"
     ]
    },
    {
     "name": "stderr",
     "output_type": "stream",
     "text": [
      "\n",
      "100%|██████████| 5/5 [00:00<00:00, 125.42it/s]"
     ]
    },
    {
     "name": "stdout",
     "output_type": "stream",
     "text": [
      "Loaded 5 documents\n",
      "Fitting role classifier: domain='general', intent='get_aggregate', entity_type='employment_action'\n",
      "No role model configuration set. Using default.\n",
      "Importing synonym data to synonym index 'synonym_employment_action'\n",
      "Elasticsearch index 'synonym_employment_action' for application 'hr_assistant' already exists!\n",
      "Loading index 'synonym_employment_action'\n"
     ]
    },
    {
     "name": "stderr",
     "output_type": "stream",
     "text": [
      "\n",
      "100%|██████████| 2/2 [00:00<00:00, 62.06it/s]"
     ]
    },
    {
     "name": "stdout",
     "output_type": "stream",
     "text": [
      "Loaded 2 documents\n",
      "Fitting entity recognizer: domain='general', intent='get_info'\n",
      "No entity model configuration set. Using default.\n"
     ]
    },
    {
     "name": "stderr",
     "output_type": "stream",
     "text": [
      "\n"
     ]
    },
    {
     "name": "stdout",
     "output_type": "stream",
     "text": [
      "Selecting hyperparameters using k-fold cross-validation with 5 splits\n",
      "Best accuracy: 96.25%, params: {'C': 100, 'penalty': 'l2'}\n",
      "No entity_resolution model configuration set. Using default.\n",
      "No entity_resolution model configuration set. Using default.\n",
      "No entity_resolution model configuration set. Using default.\n",
      "No entity_resolution model configuration set. Using default.\n",
      "No entity_resolution model configuration set. Using default.\n",
      "No entity_resolution model configuration set. Using default.\n",
      "No entity_resolution model configuration set. Using default.\n",
      "No entity_resolution model configuration set. Using default.\n",
      "No entity_resolution model configuration set. Using default.\n",
      "No entity_resolution model configuration set. Using default.\n",
      "No entity_resolution model configuration set. Using default.\n",
      "No entity_resolution model configuration set. Using default.\n",
      "No entity_resolution model configuration set. Using default.\n",
      "No entity_resolution model configuration set. Using default.\n",
      "Fitting role classifier: domain='general', intent='get_info', entity_type='state'\n",
      "No role model configuration set. Using default.\n",
      "Importing synonym data to synonym index 'synonym_state'\n",
      "Elasticsearch index 'synonym_state' for application 'hr_assistant' already exists!\n",
      "Loading index 'synonym_state'\n"
     ]
    },
    {
     "name": "stderr",
     "output_type": "stream",
     "text": [
      "100%|██████████| 28/28 [00:00<00:00, 708.00it/s]"
     ]
    },
    {
     "name": "stdout",
     "output_type": "stream",
     "text": [
      "Loaded 28 documents\n",
      "Fitting role classifier: domain='general', intent='get_info', entity_type='reason_for_termination'\n",
      "No role model configuration set. Using default.\n",
      "Importing synonym data to synonym index 'synonym_reason_for_termination'\n",
      "Elasticsearch index 'synonym_reason_for_termination' for application 'hr_assistant' already exists!\n",
      "Loading index 'synonym_reason_for_termination'\n"
     ]
    },
    {
     "name": "stderr",
     "output_type": "stream",
     "text": [
      "\n",
      "100%|██████████| 17/17 [00:00<00:00, 459.44it/s]"
     ]
    },
    {
     "name": "stdout",
     "output_type": "stream",
     "text": [
      "Loaded 17 documents\n",
      "Fitting role classifier: domain='general', intent='get_info', entity_type='maritaldesc'\n",
      "No role model configuration set. Using default.\n",
      "Importing synonym data to synonym index 'synonym_maritaldesc'\n",
      "Elasticsearch index 'synonym_maritaldesc' for application 'hr_assistant' already exists!\n",
      "Loading index 'synonym_maritaldesc'\n"
     ]
    },
    {
     "name": "stderr",
     "output_type": "stream",
     "text": [
      "\n",
      "100%|██████████| 5/5 [00:00<00:00, 143.88it/s]"
     ]
    },
    {
     "name": "stdout",
     "output_type": "stream",
     "text": [
      "Loaded 5 documents\n",
      "Fitting role classifier: domain='general', intent='get_info', entity_type='sex'\n",
      "No role model configuration set. Using default.\n",
      "Importing synonym data to synonym index 'synonym_sex'\n",
      "Elasticsearch index 'synonym_sex' for application 'hr_assistant' already exists!\n",
      "Loading index 'synonym_sex'\n"
     ]
    },
    {
     "name": "stderr",
     "output_type": "stream",
     "text": [
      "\n",
      "100%|██████████| 2/2 [00:00<00:00, 70.40it/s]"
     ]
    },
    {
     "name": "stdout",
     "output_type": "stream",
     "text": [
      "Loaded 2 documents\n",
      "Fitting role classifier: domain='general', intent='get_info', entity_type='name'\n",
      "No role model configuration set. Using default.\n"
     ]
    },
    {
     "name": "stderr",
     "output_type": "stream",
     "text": [
      "\n"
     ]
    },
    {
     "name": "stdout",
     "output_type": "stream",
     "text": [
      "Importing synonym data to synonym index 'synonym_name'\n",
      "Elasticsearch index 'synonym_name' for application 'hr_assistant' already exists!\n",
      "Loading index 'synonym_name'\n"
     ]
    },
    {
     "name": "stderr",
     "output_type": "stream",
     "text": [
      "100%|██████████| 245/245 [00:00<00:00, 1327.91it/s]"
     ]
    },
    {
     "name": "stdout",
     "output_type": "stream",
     "text": [
      "Loaded 245 documents\n",
      "Fitting role classifier: domain='general', intent='get_info', entity_type='racedesc'\n",
      "No role model configuration set. Using default.\n",
      "Importing synonym data to synonym index 'synonym_racedesc'\n"
     ]
    },
    {
     "name": "stderr",
     "output_type": "stream",
     "text": [
      "\n"
     ]
    },
    {
     "name": "stdout",
     "output_type": "stream",
     "text": [
      "Elasticsearch index 'synonym_racedesc' for application 'hr_assistant' already exists!\n",
      "Loading index 'synonym_racedesc'\n"
     ]
    },
    {
     "name": "stderr",
     "output_type": "stream",
     "text": [
      "100%|██████████| 6/6 [00:00<00:00, 196.46it/s]"
     ]
    },
    {
     "name": "stdout",
     "output_type": "stream",
     "text": [
      "Loaded 6 documents\n",
      "Fitting role classifier: domain='general', intent='get_info', entity_type='employee_source'\n",
      "No role model configuration set. Using default.\n",
      "Importing synonym data to synonym index 'synonym_employee_source'\n",
      "Elasticsearch index 'synonym_employee_source' for application 'hr_assistant' already exists!\n",
      "Loading index 'synonym_employee_source'\n"
     ]
    },
    {
     "name": "stderr",
     "output_type": "stream",
     "text": [
      "\n",
      "100%|██████████| 20/20 [00:00<00:00, 515.80it/s]"
     ]
    },
    {
     "name": "stdout",
     "output_type": "stream",
     "text": [
      "Loaded 20 documents\n",
      "Fitting role classifier: domain='general', intent='get_info', entity_type='performance_score'\n",
      "No role model configuration set. Using default.\n",
      "Importing synonym data to synonym index 'synonym_performance_score'\n",
      "Elasticsearch index 'synonym_performance_score' for application 'hr_assistant' already exists!\n",
      "Loading index 'synonym_performance_score'\n"
     ]
    },
    {
     "name": "stderr",
     "output_type": "stream",
     "text": [
      "\n",
      "100%|██████████| 7/7 [00:00<00:00, 158.44it/s]"
     ]
    },
    {
     "name": "stdout",
     "output_type": "stream",
     "text": [
      "Loaded 7 documents\n",
      "Fitting role classifier: domain='general', intent='get_info', entity_type='employment_status'\n",
      "No role model configuration set. Using default.\n",
      "Importing synonym data to synonym index 'synonym_employment_status'\n",
      "Elasticsearch index 'synonym_employment_status' for application 'hr_assistant' already exists!\n",
      "Loading index 'synonym_employment_status'\n"
     ]
    },
    {
     "name": "stderr",
     "output_type": "stream",
     "text": [
      "\n",
      "100%|██████████| 5/5 [00:00<00:00, 122.33it/s]"
     ]
    },
    {
     "name": "stdout",
     "output_type": "stream",
     "text": [
      "Loaded 5 documents\n",
      "Fitting role classifier: domain='general', intent='get_info', entity_type='citizendesc'\n",
      "No role model configuration set. Using default.\n",
      "Importing synonym data to synonym index 'synonym_citizendesc'\n"
     ]
    },
    {
     "name": "stderr",
     "output_type": "stream",
     "text": [
      "\n"
     ]
    },
    {
     "name": "stdout",
     "output_type": "stream",
     "text": [
      "Elasticsearch index 'synonym_citizendesc' for application 'hr_assistant' already exists!\n",
      "Loading index 'synonym_citizendesc'\n"
     ]
    },
    {
     "name": "stderr",
     "output_type": "stream",
     "text": [
      "100%|██████████| 3/3 [00:00<00:00, 97.82it/s]"
     ]
    },
    {
     "name": "stdout",
     "output_type": "stream",
     "text": [
      "Loaded 3 documents\n",
      "Fitting role classifier: domain='general', intent='get_info', entity_type='department'\n",
      "No role model configuration set. Using default.\n",
      "Importing synonym data to synonym index 'synonym_department'\n"
     ]
    },
    {
     "name": "stderr",
     "output_type": "stream",
     "text": [
      "\n"
     ]
    },
    {
     "name": "stdout",
     "output_type": "stream",
     "text": [
      "Elasticsearch index 'synonym_department' for application 'hr_assistant' already exists!\n",
      "Loading index 'synonym_department'\n"
     ]
    },
    {
     "name": "stderr",
     "output_type": "stream",
     "text": [
      "100%|██████████| 6/6 [00:00<00:00, 137.82it/s]"
     ]
    },
    {
     "name": "stdout",
     "output_type": "stream",
     "text": [
      "Loaded 6 documents\n",
      "Fitting role classifier: domain='general', intent='get_info', entity_type='position'\n",
      "No role model configuration set. Using default.\n"
     ]
    },
    {
     "name": "stderr",
     "output_type": "stream",
     "text": [
      "\n"
     ]
    },
    {
     "name": "stdout",
     "output_type": "stream",
     "text": [
      "Importing synonym data to synonym index 'synonym_position'\n",
      "Elasticsearch index 'synonym_position' for application 'hr_assistant' already exists!\n",
      "Loading index 'synonym_position'\n"
     ]
    },
    {
     "name": "stderr",
     "output_type": "stream",
     "text": [
      "100%|██████████| 24/24 [00:00<00:00, 487.12it/s]"
     ]
    },
    {
     "name": "stdout",
     "output_type": "stream",
     "text": [
      "Loaded 24 documents\n",
      "Fitting role classifier: domain='general', intent='get_info', entity_type='employment_action'\n",
      "No role model configuration set. Using default.\n",
      "Importing synonym data to synonym index 'synonym_employment_action'\n",
      "Elasticsearch index 'synonym_employment_action' for application 'hr_assistant' already exists!\n",
      "Loading index 'synonym_employment_action'\n"
     ]
    },
    {
     "name": "stderr",
     "output_type": "stream",
     "text": [
      "\n",
      "100%|██████████| 2/2 [00:00<00:00, 64.67it/s]"
     ]
    },
    {
     "name": "stdout",
     "output_type": "stream",
     "text": [
      "Loaded 2 documents\n",
      "Fitting role classifier: domain='general', intent='get_info', entity_type='age'\n",
      "No role model configuration set. Using default.\n",
      "Importing synonym data to synonym index 'synonym_age'\n"
     ]
    },
    {
     "name": "stderr",
     "output_type": "stream",
     "text": [
      "\n"
     ]
    },
    {
     "name": "stdout",
     "output_type": "stream",
     "text": [
      "Elasticsearch index 'synonym_age' for application 'hr_assistant' already exists!\n",
      "Loading index 'synonym_age'\n"
     ]
    },
    {
     "name": "stderr",
     "output_type": "stream",
     "text": [
      "100%|██████████| 39/39 [00:00<00:00, 833.85it/s]"
     ]
    },
    {
     "name": "stdout",
     "output_type": "stream",
     "text": [
      "Loaded 39 documents\n",
      "Fitting entity recognizer: domain='general', intent='get_employees'\n",
      "No entity model configuration set. Using default.\n"
     ]
    },
    {
     "name": "stderr",
     "output_type": "stream",
     "text": [
      "\n"
     ]
    },
    {
     "name": "stdout",
     "output_type": "stream",
     "text": [
      "Selecting hyperparameters using k-fold cross-validation with 5 splits\n",
      "Best accuracy: 95.34%, params: {'C': 100, 'penalty': 'l1'}\n",
      "No entity_resolution model configuration set. Using default.\n",
      "No entity_resolution model configuration set. Using default.\n",
      "No entity_resolution model configuration set. Using default.\n",
      "No entity_resolution model configuration set. Using default.\n",
      "No entity_resolution model configuration set. Using default.\n",
      "No entity_resolution model configuration set. Using default.\n",
      "No entity_resolution model configuration set. Using default.\n",
      "No entity_resolution model configuration set. Using default.\n",
      "No entity_resolution model configuration set. Using default.\n",
      "No entity_resolution model configuration set. Using default.\n",
      "No entity_resolution model configuration set. Using default.\n",
      "No entity_resolution model configuration set. Using default.\n",
      "No entity_resolution model configuration set. Using default.\n",
      "No entity_resolution model configuration set. Using default.\n",
      "No entity_resolution model configuration set. Using default.\n",
      "No entity_resolution model configuration set. Using default.\n",
      "No entity_resolution model configuration set. Using default.\n",
      "No entity_resolution model configuration set. Using default.\n",
      "No entity_resolution model configuration set. Using default.\n",
      "No entity_resolution model configuration set. Using default.\n",
      "No entity_resolution model configuration set. Using default.\n",
      "No entity_resolution model configuration set. Using default.\n",
      "No entity_resolution model configuration set. Using default.\n",
      "Fitting role classifier: domain='general', intent='get_employees', entity_type='comparator'\n",
      "No role model configuration set. Using default.\n",
      "Importing synonym data to synonym index 'synonym_comparator'\n",
      "Elasticsearch index 'synonym_comparator' for application 'hr_assistant' already exists!\n",
      "Loading index 'synonym_comparator'\n"
     ]
    },
    {
     "name": "stderr",
     "output_type": "stream",
     "text": [
      "100%|██████████| 4/4 [00:00<00:00, 178.41it/s]"
     ]
    },
    {
     "name": "stdout",
     "output_type": "stream",
     "text": [
      "Loaded 4 documents\n",
      "Fitting role classifier: domain='general', intent='get_employees', entity_type='citizendesc'\n",
      "No role model configuration set. Using default.\n",
      "Importing synonym data to synonym index 'synonym_citizendesc'\n",
      "Elasticsearch index 'synonym_citizendesc' for application 'hr_assistant' already exists!\n",
      "Loading index 'synonym_citizendesc'\n"
     ]
    },
    {
     "name": "stderr",
     "output_type": "stream",
     "text": [
      "\n",
      "100%|██████████| 3/3 [00:00<00:00, 117.84it/s]"
     ]
    },
    {
     "name": "stdout",
     "output_type": "stream",
     "text": [
      "Loaded 3 documents\n",
      "Fitting role classifier: domain='general', intent='get_employees', entity_type='sys_time'\n",
      "No role model configuration set. Using default.\n",
      "Fitting role classifier: domain='general', intent='get_employees', entity_type='employee_source'\n",
      "No role model configuration set. Using default.\n",
      "Importing synonym data to synonym index 'synonym_employee_source'\n",
      "Elasticsearch index 'synonym_employee_source' for application 'hr_assistant' already exists!\n",
      "Loading index 'synonym_employee_source'\n"
     ]
    },
    {
     "name": "stderr",
     "output_type": "stream",
     "text": [
      "\n",
      "100%|██████████| 20/20 [00:00<00:00, 511.83it/s]"
     ]
    },
    {
     "name": "stdout",
     "output_type": "stream",
     "text": [
      "Loaded 20 documents\n",
      "Fitting role classifier: domain='general', intent='get_employees', entity_type='sys_ordinal'\n",
      "No role model configuration set. Using default.\n",
      "Fitting role classifier: domain='general', intent='get_employees', entity_type='position'\n",
      "No role model configuration set. Using default.\n",
      "Importing synonym data to synonym index 'synonym_position'\n",
      "Elasticsearch index 'synonym_position' for application 'hr_assistant' already exists!\n",
      "Loading index 'synonym_position'\n"
     ]
    },
    {
     "name": "stderr",
     "output_type": "stream",
     "text": [
      "\n",
      "100%|██████████| 24/24 [00:00<00:00, 582.19it/s]"
     ]
    },
    {
     "name": "stdout",
     "output_type": "stream",
     "text": [
      "Loaded 24 documents\n",
      "Fitting role classifier: domain='general', intent='get_employees', entity_type='dob'\n"
     ]
    },
    {
     "name": "stderr",
     "output_type": "stream",
     "text": [
      "\n"
     ]
    },
    {
     "name": "stdout",
     "output_type": "stream",
     "text": [
      "No role model configuration set. Using default.\n",
      "Importing synonym data to synonym index 'synonym_dob'\n",
      "Elasticsearch index 'synonym_dob' for application 'hr_assistant' already exists!\n",
      "Loading index 'synonym_dob'\n"
     ]
    },
    {
     "name": "stderr",
     "output_type": "stream",
     "text": [
      "100%|██████████| 1/1 [00:00<00:00, 23.79it/s]"
     ]
    },
    {
     "name": "stdout",
     "output_type": "stream",
     "text": [
      "Loaded 1 document\n",
      "Fitting role classifier: domain='general', intent='get_employees', entity_type='maritaldesc'\n"
     ]
    },
    {
     "name": "stderr",
     "output_type": "stream",
     "text": [
      "\n"
     ]
    },
    {
     "name": "stdout",
     "output_type": "stream",
     "text": [
      "No role model configuration set. Using default.\n",
      "Importing synonym data to synonym index 'synonym_maritaldesc'\n",
      "Elasticsearch index 'synonym_maritaldesc' for application 'hr_assistant' already exists!\n",
      "Loading index 'synonym_maritaldesc'\n"
     ]
    },
    {
     "name": "stderr",
     "output_type": "stream",
     "text": [
      "100%|██████████| 5/5 [00:00<00:00, 132.76it/s]"
     ]
    },
    {
     "name": "stdout",
     "output_type": "stream",
     "text": [
      "Loaded 5 documents\n",
      "Fitting role classifier: domain='general', intent='get_employees', entity_type='racedesc'\n",
      "No role model configuration set. Using default.\n",
      "Importing synonym data to synonym index 'synonym_racedesc'\n"
     ]
    },
    {
     "name": "stderr",
     "output_type": "stream",
     "text": [
      "\n"
     ]
    },
    {
     "name": "stdout",
     "output_type": "stream",
     "text": [
      "Elasticsearch index 'synonym_racedesc' for application 'hr_assistant' already exists!\n",
      "Loading index 'synonym_racedesc'\n"
     ]
    },
    {
     "name": "stderr",
     "output_type": "stream",
     "text": [
      "100%|██████████| 6/6 [00:00<00:00, 150.57it/s]"
     ]
    },
    {
     "name": "stdout",
     "output_type": "stream",
     "text": [
      "Loaded 6 documents\n",
      "Fitting role classifier: domain='general', intent='get_employees', entity_type='department'\n",
      "No role model configuration set. Using default.\n",
      "Importing synonym data to synonym index 'synonym_department'\n",
      "Elasticsearch index 'synonym_department' for application 'hr_assistant' already exists!\n",
      "Loading index 'synonym_department'\n"
     ]
    },
    {
     "name": "stderr",
     "output_type": "stream",
     "text": [
      "\n",
      "100%|██████████| 6/6 [00:00<00:00, 182.43it/s]"
     ]
    },
    {
     "name": "stdout",
     "output_type": "stream",
     "text": [
      "Loaded 6 documents\n",
      "Fitting role classifier: domain='general', intent='get_employees', entity_type='sys_number'\n",
      "No role model configuration set. Using default.\n",
      "Fitting role classifier: domain='general', intent='get_employees', entity_type='state'\n",
      "No role model configuration set. Using default.\n",
      "Importing synonym data to synonym index 'synonym_state'\n",
      "Elasticsearch index 'synonym_state' for application 'hr_assistant' already exists!\n",
      "Loading index 'synonym_state'\n"
     ]
    },
    {
     "name": "stderr",
     "output_type": "stream",
     "text": [
      "\n",
      "100%|██████████| 28/28 [00:00<00:00, 723.59it/s]"
     ]
    },
    {
     "name": "stdout",
     "output_type": "stream",
     "text": [
      "Loaded 28 documents\n",
      "Fitting role classifier: domain='general', intent='get_employees', entity_type='sex'\n",
      "No role model configuration set. Using default.\n",
      "Importing synonym data to synonym index 'synonym_sex'\n",
      "Elasticsearch index 'synonym_sex' for application 'hr_assistant' already exists!\n",
      "Loading index 'synonym_sex'\n"
     ]
    },
    {
     "name": "stderr",
     "output_type": "stream",
     "text": [
      "\n",
      "100%|██████████| 2/2 [00:00<00:00, 65.18it/s]"
     ]
    },
    {
     "name": "stdout",
     "output_type": "stream",
     "text": [
      "Loaded 2 documents\n",
      "Fitting role classifier: domain='general', intent='get_employees', entity_type='extreme'\n",
      "No role model configuration set. Using default.\n",
      "Importing synonym data to synonym index 'synonym_extreme'\n",
      "Elasticsearch index 'synonym_extreme' for application 'hr_assistant' already exists!\n",
      "Loading index 'synonym_extreme'\n"
     ]
    },
    {
     "name": "stderr",
     "output_type": "stream",
     "text": [
      "\n",
      "100%|██████████| 2/2 [00:00<00:00, 71.82it/s]"
     ]
    },
    {
     "name": "stdout",
     "output_type": "stream",
     "text": [
      "Loaded 2 documents\n",
      "Fitting role classifier: domain='general', intent='get_employees', entity_type='performance_score'\n",
      "No role model configuration set. Using default.\n",
      "Importing synonym data to synonym index 'synonym_performance_score'\n"
     ]
    },
    {
     "name": "stderr",
     "output_type": "stream",
     "text": [
      "\n"
     ]
    },
    {
     "name": "stdout",
     "output_type": "stream",
     "text": [
      "Elasticsearch index 'synonym_performance_score' for application 'hr_assistant' already exists!\n",
      "Loading index 'synonym_performance_score'\n"
     ]
    },
    {
     "name": "stderr",
     "output_type": "stream",
     "text": [
      "100%|██████████| 7/7 [00:00<00:00, 209.79it/s]"
     ]
    },
    {
     "name": "stdout",
     "output_type": "stream",
     "text": [
      "Loaded 7 documents\n",
      "Fitting role classifier: domain='general', intent='get_employees', entity_type='date_compare'\n",
      "No role model configuration set. Using default.\n",
      "Importing synonym data to synonym index 'synonym_date_compare'\n",
      "Elasticsearch index 'synonym_date_compare' for application 'hr_assistant' already exists!\n",
      "Loading index 'synonym_date_compare'\n"
     ]
    },
    {
     "name": "stderr",
     "output_type": "stream",
     "text": [
      "\n",
      "100%|██████████| 2/2 [00:00<00:00, 72.17it/s]"
     ]
    },
    {
     "name": "stdout",
     "output_type": "stream",
     "text": [
      "Loaded 2 documents\n",
      "Fitting role classifier: domain='general', intent='get_employees', entity_type='age'\n",
      "No role model configuration set. Using default.\n",
      "Importing synonym data to synonym index 'synonym_age'\n",
      "Elasticsearch index 'synonym_age' for application 'hr_assistant' already exists!\n",
      "Loading index 'synonym_age'\n"
     ]
    },
    {
     "name": "stderr",
     "output_type": "stream",
     "text": [
      "\n",
      "100%|██████████| 39/39 [00:00<00:00, 849.40it/s]"
     ]
    },
    {
     "name": "stdout",
     "output_type": "stream",
     "text": [
      "Loaded 39 documents\n",
      "Fitting role classifier: domain='general', intent='get_employees', entity_type='manager'\n",
      "No role model configuration set. Using default.\n",
      "Importing synonym data to synonym index 'synonym_manager'\n",
      "Elasticsearch index 'synonym_manager' for application 'hr_assistant' already exists!\n",
      "Loading index 'synonym_manager'\n"
     ]
    },
    {
     "name": "stderr",
     "output_type": "stream",
     "text": [
      "\n",
      "100%|██████████| 1/1 [00:00<00:00, 46.86it/s]"
     ]
    },
    {
     "name": "stdout",
     "output_type": "stream",
     "text": [
      "Loaded 1 document\n",
      "Fitting role classifier: domain='general', intent='get_employees', entity_type='reason_for_termination'\n"
     ]
    },
    {
     "name": "stderr",
     "output_type": "stream",
     "text": [
      "\n"
     ]
    },
    {
     "name": "stdout",
     "output_type": "stream",
     "text": [
      "No role model configuration set. Using default.\n",
      "Importing synonym data to synonym index 'synonym_reason_for_termination'\n",
      "Elasticsearch index 'synonym_reason_for_termination' for application 'hr_assistant' already exists!\n",
      "Loading index 'synonym_reason_for_termination'\n"
     ]
    },
    {
     "name": "stderr",
     "output_type": "stream",
     "text": [
      "100%|██████████| 17/17 [00:00<00:00, 487.28it/s]"
     ]
    },
    {
     "name": "stdout",
     "output_type": "stream",
     "text": [
      "Loaded 17 documents\n",
      "Fitting role classifier: domain='general', intent='get_employees', entity_type='sys_duration'\n",
      "No role model configuration set. Using default.\n",
      "Fitting role classifier: domain='general', intent='get_employees', entity_type='function'\n",
      "No role model configuration set. Using default.\n",
      "Importing synonym data to synonym index 'synonym_function'\n",
      "Elasticsearch index 'synonym_function' for application 'hr_assistant' already exists!\n",
      "Loading index 'synonym_function'\n"
     ]
    },
    {
     "name": "stderr",
     "output_type": "stream",
     "text": [
      "\n",
      "100%|██████████| 4/4 [00:00<00:00, 98.63it/s]"
     ]
    },
    {
     "name": "stdout",
     "output_type": "stream",
     "text": [
      "Loaded 4 documents\n",
      "Fitting role classifier: domain='general', intent='get_employees', entity_type='employment_status'\n",
      "No role model configuration set. Using default.\n",
      "Importing synonym data to synonym index 'synonym_employment_status'\n",
      "Elasticsearch index 'synonym_employment_status' for application 'hr_assistant' already exists!\n",
      "Loading index 'synonym_employment_status'\n"
     ]
    },
    {
     "name": "stderr",
     "output_type": "stream",
     "text": [
      "\n",
      "100%|██████████| 5/5 [00:00<00:00, 108.94it/s]"
     ]
    },
    {
     "name": "stdout",
     "output_type": "stream",
     "text": [
      "Loaded 5 documents\n",
      "Fitting role classifier: domain='general', intent='get_employees', entity_type='employment_action'\n",
      "No role model configuration set. Using default.\n",
      "Importing synonym data to synonym index 'synonym_employment_action'\n"
     ]
    },
    {
     "name": "stderr",
     "output_type": "stream",
     "text": [
      "\n"
     ]
    },
    {
     "name": "stdout",
     "output_type": "stream",
     "text": [
      "Elasticsearch index 'synonym_employment_action' for application 'hr_assistant' already exists!\n",
      "Loading index 'synonym_employment_action'\n"
     ]
    },
    {
     "name": "stderr",
     "output_type": "stream",
     "text": [
      "100%|██████████| 2/2 [00:00<00:00, 59.52it/s]"
     ]
    },
    {
     "name": "stdout",
     "output_type": "stream",
     "text": [
      "Loaded 2 documents\n"
     ]
    },
    {
     "name": "stderr",
     "output_type": "stream",
     "text": [
      "\n"
     ]
    }
   ],
   "source": [
    "nlp.build()"
   ]
  },
  {
   "cell_type": "code",
   "execution_count": 4,
   "metadata": {
    "scrolled": true
   },
   "outputs": [
    {
     "name": "stdout",
     "output_type": "stream",
     "text": [
      "The application package hr_assistant is already imported.\n"
     ]
    },
    {
     "name": "stderr",
     "output_type": "stream",
     "text": [
      "/anaconda3/envs/mm_workspace/lib/python3.6/site-packages/mindmeld/_version.py:64: MindMeldVersionWarning: Current mindmeld (4.1.1) does not satisfy mindmeld==4.1.0 in pip requirements caused by (mindmeld 4.1.1 (/anaconda3/envs/mm_workspace/lib/python3.6/site-packages), Requirement.parse('mindmeld==4.1.0'))\n",
      "  warnings.warn(error_msg, category=MindMeldVersionWarning)\n"
     ]
    }
   ],
   "source": [
    "from mindmeld.components.dialogue import Conversation\n",
    "conv = Conversation(nlp=nlp, app_path='./hr_assistant')"
   ]
  },
  {
   "cell_type": "code",
   "execution_count": 5,
   "metadata": {},
   "outputs": [
    {
     "data": {
      "text/plain": [
       "['Julia Soto is Married']"
      ]
     },
     "execution_count": 5,
     "metadata": {},
     "output_type": "execute_result"
    }
   ],
   "source": [
    "conv.say(\"is julia married?\")"
   ]
  },
  {
   "cell_type": "code",
   "execution_count": 6,
   "metadata": {},
   "outputs": [
    {
     "data": {
      "text/plain": [
       "['the average yearly salary, based on your criteria, is $55910.4']"
      ]
     },
     "execution_count": 6,
     "metadata": {},
     "output_type": "execute_result"
    }
   ],
   "source": [
    "conv.say(\"average yearly salary of married sales female employees\")"
   ]
  },
  {
   "cell_type": "code",
   "execution_count": 7,
   "metadata": {},
   "outputs": [
    {
     "data": {
      "text/plain": [
       "['Based on your criteria, the average salary is $29.12']"
      ]
     },
     "execution_count": 7,
     "metadata": {},
     "output_type": "execute_result"
    }
   ],
   "source": [
    "conv.say(\"average salary of females in the org\")"
   ]
  },
  {
   "cell_type": "code",
   "execution_count": 8,
   "metadata": {},
   "outputs": [
    {
     "data": {
      "text/plain": [
       "['What would you like to know about Daniel Davis?', 'Listening...']"
      ]
     },
     "execution_count": 8,
     "metadata": {},
     "output_type": "execute_result"
    }
   ],
   "source": [
    "conv.say(\"Can you tell me about daniel?\")"
   ]
  },
  {
   "cell_type": "code",
   "execution_count": 9,
   "metadata": {},
   "outputs": [
    {
     "data": {
      "text/plain": [
       "['I found the following details about Daniel Davis: Reason for Termination : N/A - still employed; Performance Score : 90-day meets; Citizenship Status : Eligible NonCitizen; Gender : Male; Marital Status : Single; Date of Termination : 1800-01-01; Race : Two or more races; Hourly Pay : 25.0; Date of Birth : 1979-09-14; State : MA; Employment Status : Active; Position : Production Technician II; Date of Hire : 2011-11-07; Department : Production       ; Age : 38']"
      ]
     },
     "execution_count": 9,
     "metadata": {},
     "output_type": "execute_result"
    }
   ],
   "source": [
    "conv.say(\"what's his race\")"
   ]
  },
  {
   "cell_type": "code",
   "execution_count": 10,
   "metadata": {},
   "outputs": [
    {
     "data": {
      "text/plain": [
       "[\"Brandon R. LeBlanc is Mia Brown's manager\",\n",
       " \"Eric Dougall is Julia Soto's manager\"]"
      ]
     },
     "execution_count": 10,
     "metadata": {},
     "output_type": "execute_result"
    }
   ],
   "source": [
    "conv.say(\"is mia's manager julia?\")"
   ]
  },
  {
   "cell_type": "code",
   "execution_count": 11,
   "metadata": {},
   "outputs": [
    {
     "data": {
      "text/plain": [
       "['Here are some employees that match your criteria: Rosalie Hutter']"
      ]
     },
     "execution_count": 11,
     "metadata": {},
     "output_type": "execute_result"
    }
   ],
   "source": [
    "conv.say(\"youngest employee\")"
   ]
  },
  {
   "cell_type": "code",
   "execution_count": 12,
   "metadata": {},
   "outputs": [
    {
     "data": {
      "text/plain": [
       "['Based on your criteria, the percentage salary is $29.0']"
      ]
     },
     "execution_count": 12,
     "metadata": {},
     "output_type": "execute_result"
    }
   ],
   "source": [
    "conv.say(\"percent of employees earning less than 20\")"
   ]
  },
  {
   "cell_type": "code",
   "execution_count": 13,
   "metadata": {},
   "outputs": [
    {
     "data": {
      "text/plain": [
       "[\"Hmmm, I don't quite understand, you can ask me something like 'is john's salary more than 6k'\",\n",
       " 'Listening...']"
      ]
     },
     "execution_count": 13,
     "metadata": {},
     "output_type": "execute_result"
    }
   ],
   "source": [
    "conv.say(\"is tomato a fruit?\")"
   ]
  },
  {
   "cell_type": "code",
   "execution_count": 14,
   "metadata": {},
   "outputs": [
    {
     "data": {
      "text/plain": [
       "[\"Here are some employees that match your criteria: Lindsay Lynch, Lynn O'hare, Dheepa Nguyen, Leonara Lindsay, Francesco Barone, Daniel Davis, Gerry Friedman, Mike Guilianno, Jac McKinzie, Jacquelyn Williams, Evelyn Girifalco, Karen Mancuso, Jackie Valentin, Ricardo Ruiz, Linda Bachiochi, Barbara Stanford, Desiree Tavares, Howard Mullaney\"]"
      ]
     },
     "execution_count": 14,
     "metadata": {},
     "output_type": "execute_result"
    }
   ],
   "source": [
    "conv.say(\"are there any mixed race employees\")"
   ]
  },
  {
   "cell_type": "code",
   "execution_count": 15,
   "metadata": {},
   "outputs": [
    {
     "name": "stderr",
     "output_type": "stream",
     "text": [
      "/anaconda3/envs/mm_workspace/lib/python3.6/site-packages/numpy/core/fromnumeric.py:3118: RuntimeWarning: Mean of empty slice.\n",
      "  out=out, **kwargs)\n",
      "/anaconda3/envs/mm_workspace/lib/python3.6/site-packages/numpy/core/_methods.py:85: RuntimeWarning: invalid value encountered in double_scalars\n",
      "  ret = ret.dtype.type(ret / rcount)\n"
     ]
    },
    {
     "data": {
      "text/plain": [
       "['Hmm, looks like you want a salary statistic. You can ask me about averages, sums, counts and percentages. For eg. what is the average salary for women?',\n",
       " 'Listening...']"
      ]
     },
     "execution_count": 15,
     "metadata": {},
     "output_type": "execute_result"
    }
   ],
   "source": [
    "conv.say(\"give me the average salary of employees who are 30 years of age but hired after 2008\")"
   ]
  },
  {
   "cell_type": "code",
   "execution_count": 16,
   "metadata": {},
   "outputs": [],
   "source": [
    "# nlp.inspect(\"what percentage of employees were hired post 2012\", domain='date')"
   ]
  },
  {
   "cell_type": "code",
   "execution_count": 17,
   "metadata": {},
   "outputs": [
    {
     "data": {
      "text/plain": [
       "['The percentage is 0.0']"
      ]
     },
     "execution_count": 17,
     "metadata": {},
     "output_type": "execute_result"
    }
   ],
   "source": [
    "conv.say(\"what percentage of employees were hired in this year\")"
   ]
  },
  {
   "cell_type": "code",
   "execution_count": 18,
   "metadata": {},
   "outputs": [
    {
     "data": {
      "text/plain": [
       "['Here are some employees: Edward True, Mike Guilianno, Charles Bozzi, Miguel Estremera, Ned Miller']"
      ]
     },
     "execution_count": 18,
     "metadata": {},
     "output_type": "execute_result"
    }
   ],
   "source": [
    "conv.say(\"males fired in 2014\")"
   ]
  },
  {
   "cell_type": "code",
   "execution_count": 19,
   "metadata": {},
   "outputs": [
    {
     "name": "stdout",
     "output_type": "stream",
     "text": [
      "Inspecting domain classification\n",
      "                                                                                              Feature  \\\n",
      "bag_of_words|edge:left|length:1|ngram:give                 bag_of_words|edge:left|length:1|ngram:give   \n",
      "bag_of_words|edge:left|length:2|ngram:give me           bag_of_words|edge:left|length:2|ngram:give me   \n",
      "bag_of_words|edge:right|length:1|ngram:#NUM               bag_of_words|edge:right|length:1|ngram:#NUM   \n",
      "bag_of_words|edge:right|length:2|ngram:after #NUM   bag_of_words|edge:right|length:2|ngram:after #NUM   \n",
      "bag_of_words|length:1|ngram:#NUM                                     bag_of_words|length:1|ngram:#NUM   \n",
      "bag_of_words|length:1|ngram:after                                   bag_of_words|length:1|ngram:after   \n",
      "bag_of_words|length:1|ngram:age                                       bag_of_words|length:1|ngram:age   \n",
      "bag_of_words|length:1|ngram:are                                       bag_of_words|length:1|ngram:are   \n",
      "bag_of_words|length:1|ngram:average                               bag_of_words|length:1|ngram:average   \n",
      "bag_of_words|length:1|ngram:but                                       bag_of_words|length:1|ngram:but   \n",
      "bag_of_words|length:1|ngram:employees                           bag_of_words|length:1|ngram:employees   \n",
      "bag_of_words|length:1|ngram:give                                     bag_of_words|length:1|ngram:give   \n",
      "bag_of_words|length:1|ngram:hired                                   bag_of_words|length:1|ngram:hired   \n",
      "bag_of_words|length:1|ngram:me                                         bag_of_words|length:1|ngram:me   \n",
      "bag_of_words|length:1|ngram:of                                         bag_of_words|length:1|ngram:of   \n",
      "bag_of_words|length:1|ngram:salary                                 bag_of_words|length:1|ngram:salary   \n",
      "bag_of_words|length:1|ngram:the                                       bag_of_words|length:1|ngram:the   \n",
      "bag_of_words|length:1|ngram:who                                       bag_of_words|length:1|ngram:who   \n",
      "bag_of_words|length:1|ngram:years                                   bag_of_words|length:1|ngram:years   \n",
      "bag_of_words|length:2|ngram:#NUM years                         bag_of_words|length:2|ngram:#NUM years   \n",
      "bag_of_words|length:2|ngram:after #NUM                         bag_of_words|length:2|ngram:after #NUM   \n",
      "bag_of_words|length:2|ngram:are #NUM                             bag_of_words|length:2|ngram:are #NUM   \n",
      "bag_of_words|length:2|ngram:average salary                 bag_of_words|length:2|ngram:average salary   \n",
      "bag_of_words|length:2|ngram:employees who                   bag_of_words|length:2|ngram:employees who   \n",
      "bag_of_words|length:2|ngram:give me                               bag_of_words|length:2|ngram:give me   \n",
      "bag_of_words|length:2|ngram:hired after                       bag_of_words|length:2|ngram:hired after   \n",
      "bag_of_words|length:2|ngram:me the                                 bag_of_words|length:2|ngram:me the   \n",
      "bag_of_words|length:2|ngram:of age                                 bag_of_words|length:2|ngram:of age   \n",
      "bag_of_words|length:2|ngram:of employees                     bag_of_words|length:2|ngram:of employees   \n",
      "bag_of_words|length:2|ngram:salary of                           bag_of_words|length:2|ngram:salary of   \n",
      "...                                                                                               ...   \n",
      "in_gaz|type:state|pop                                                           in_gaz|type:state|pop   \n",
      "in_gaz|type:state|ratio                                                       in_gaz|type:state|ratio   \n",
      "in_gaz|type:state|ratio_pop                                               in_gaz|type:state|ratio_pop   \n",
      "in_gaz|type:time_interval|gaz_freq_bin:0                     in_gaz|type:time_interval|gaz_freq_bin:0   \n",
      "in_gaz|type:time_recur|gaz_freq_bin:1                           in_gaz|type:time_recur|gaz_freq_bin:1   \n",
      "in_vocab:IV|freq_bin:0                                                         in_vocab:IV|freq_bin:0   \n",
      "in_vocab:IV|freq_bin:1                                                         in_vocab:IV|freq_bin:1   \n",
      "in_vocab:IV|freq_bin:2                                                         in_vocab:IV|freq_bin:2   \n",
      "in_vocab:IV|freq_bin:4                                                         in_vocab:IV|freq_bin:4   \n",
      "in_vocab:IV|freq_bin:5                                                         in_vocab:IV|freq_bin:5   \n",
      "in_vocab:IV|in_gaz|type:age|gaz_freq_bin:0                 in_vocab:IV|in_gaz|type:age|gaz_freq_bin:0   \n",
      "in_vocab:IV|in_gaz|type:citizendesc|gaz_freq_bin:0  in_vocab:IV|in_gaz|type:citizendesc|gaz_freq_b...   \n",
      "in_vocab:IV|in_gaz|type:citizendesc|gaz_freq_bin:1  in_vocab:IV|in_gaz|type:citizendesc|gaz_freq_b...   \n",
      "in_vocab:IV|in_gaz|type:date_compare|gaz_freq_b...  in_vocab:IV|in_gaz|type:date_compare|gaz_freq_...   \n",
      "in_vocab:IV|in_gaz|type:department|gaz_freq_bin:0   in_vocab:IV|in_gaz|type:department|gaz_freq_bin:0   \n",
      "in_vocab:IV|in_gaz|type:dob|gaz_freq_bin:0                 in_vocab:IV|in_gaz|type:dob|gaz_freq_bin:0   \n",
      "in_vocab:IV|in_gaz|type:employee_source|gaz_fre...  in_vocab:IV|in_gaz|type:employee_source|gaz_fr...   \n",
      "in_vocab:IV|in_gaz|type:employment_action|gaz_f...  in_vocab:IV|in_gaz|type:employment_action|gaz_...   \n",
      "in_vocab:IV|in_gaz|type:employment_action|gaz_f...  in_vocab:IV|in_gaz|type:employment_action|gaz_...   \n",
      "in_vocab:IV|in_gaz|type:employment_status|gaz_f...  in_vocab:IV|in_gaz|type:employment_status|gaz_...   \n",
      "in_vocab:IV|in_gaz|type:function|gaz_freq_bin:0       in_vocab:IV|in_gaz|type:function|gaz_freq_bin:0   \n",
      "in_vocab:IV|in_gaz|type:money|gaz_freq_bin:0             in_vocab:IV|in_gaz|type:money|gaz_freq_bin:0   \n",
      "in_vocab:IV|in_gaz|type:performance_score|gaz_f...  in_vocab:IV|in_gaz|type:performance_score|gaz_...   \n",
      "in_vocab:IV|in_gaz|type:position|gaz_freq_bin:0       in_vocab:IV|in_gaz|type:position|gaz_freq_bin:0   \n",
      "in_vocab:IV|in_gaz|type:reason_for_termination|...  in_vocab:IV|in_gaz|type:reason_for_termination...   \n",
      "in_vocab:IV|in_gaz|type:reason_for_termination|...  in_vocab:IV|in_gaz|type:reason_for_termination...   \n",
      "in_vocab:IV|in_gaz|type:state|gaz_freq_bin:0             in_vocab:IV|in_gaz|type:state|gaz_freq_bin:0   \n",
      "in_vocab:IV|in_gaz|type:time_recur|gaz_freq_bin:1   in_vocab:IV|in_gaz|type:time_recur|gaz_freq_bin:1   \n",
      "in_vocab:OOV|in_gaz|type:age|gaz_freq_bin:0               in_vocab:OOV|in_gaz|type:age|gaz_freq_bin:0   \n",
      "in_vocab:OOV|in_gaz|type:time_interval|gaz_freq...  in_vocab:OOV|in_gaz|type:time_interval|gaz_fre...   \n",
      "\n",
      "                                                     Value Pred_W(salary)  \\\n",
      "bag_of_words|edge:left|length:1|ngram:give               1       [0.3119]   \n",
      "bag_of_words|edge:left|length:2|ngram:give me            1       [0.6192]   \n",
      "bag_of_words|edge:right|length:1|ngram:#NUM              1        [-0.43]   \n",
      "bag_of_words|edge:right|length:2|ngram:after #NUM        1       [0.0177]   \n",
      "bag_of_words|length:1|ngram:#NUM                         2       [0.2362]   \n",
      "bag_of_words|length:1|ngram:after                        1       [0.0904]   \n",
      "bag_of_words|length:1|ngram:age                          1      [-0.4324]   \n",
      "bag_of_words|length:1|ngram:are                          1       [0.1347]   \n",
      "bag_of_words|length:1|ngram:average                      1        [0.681]   \n",
      "bag_of_words|length:1|ngram:but                          1       [0.0898]   \n",
      "bag_of_words|length:1|ngram:employees                    1       [0.7159]   \n",
      "bag_of_words|length:1|ngram:give                         1       [0.3059]   \n",
      "bag_of_words|length:1|ngram:hired                        1       [0.2222]   \n",
      "bag_of_words|length:1|ngram:me                           1      [-0.0167]   \n",
      "bag_of_words|length:1|ngram:of                           2      [-0.4164]   \n",
      "bag_of_words|length:1|ngram:salary                       1       [0.7148]   \n",
      "bag_of_words|length:1|ngram:the                          1       [0.6677]   \n",
      "bag_of_words|length:1|ngram:who                          1      [-0.2291]   \n",
      "bag_of_words|length:1|ngram:years                        1      [-0.0679]   \n",
      "bag_of_words|length:2|ngram:#NUM years                   1       [0.3411]   \n",
      "bag_of_words|length:2|ngram:after #NUM                   1       [0.1908]   \n",
      "bag_of_words|length:2|ngram:are #NUM                     1      [-0.0131]   \n",
      "bag_of_words|length:2|ngram:average salary               1       [0.0305]   \n",
      "bag_of_words|length:2|ngram:employees who                1       [0.0637]   \n",
      "bag_of_words|length:2|ngram:give me                      1       [0.6012]   \n",
      "bag_of_words|length:2|ngram:hired after                  1       [0.0649]   \n",
      "bag_of_words|length:2|ngram:me the                       1       [0.9824]   \n",
      "bag_of_words|length:2|ngram:of age                       1      [-0.0113]   \n",
      "bag_of_words|length:2|ngram:of employees                 1        [-0.48]   \n",
      "bag_of_words|length:2|ngram:salary of                    1       [0.2124]   \n",
      "...                                                    ...            ...   \n",
      "in_gaz|type:state|pop                                    1      [-0.6361]   \n",
      "in_gaz|type:state|ratio                             0.0238      [-0.1702]   \n",
      "in_gaz|type:state|ratio_pop                         0.0238      [-0.1702]   \n",
      "in_gaz|type:time_interval|gaz_freq_bin:0            0.0588      [-0.1174]   \n",
      "in_gaz|type:time_recur|gaz_freq_bin:1               0.0588      [-0.0373]   \n",
      "in_vocab:IV|freq_bin:0                              0.0932      [-0.5966]   \n",
      "in_vocab:IV|freq_bin:1                              0.1651      [-1.1298]   \n",
      "in_vocab:IV|freq_bin:2                              0.0588      [-0.4872]   \n",
      "in_vocab:IV|freq_bin:4                              0.0588       [-0.631]   \n",
      "in_vocab:IV|freq_bin:5                              0.1765      [-0.8431]   \n",
      "in_vocab:IV|in_gaz|type:age|gaz_freq_bin:0          0.1366      [-0.1295]   \n",
      "in_vocab:IV|in_gaz|type:citizendesc|gaz_freq_bin:0  0.0588       [-0.021]   \n",
      "in_vocab:IV|in_gaz|type:citizendesc|gaz_freq_bin:1  0.0932       [0.3717]   \n",
      "in_vocab:IV|in_gaz|type:date_compare|gaz_freq_b...  0.0588      [-0.0593]   \n",
      "in_vocab:IV|in_gaz|type:department|gaz_freq_bin:0   0.0932       [0.0746]   \n",
      "in_vocab:IV|in_gaz|type:dob|gaz_freq_bin:0          0.1366      [-0.2591]   \n",
      "in_vocab:IV|in_gaz|type:employee_source|gaz_fre...  0.0932       [0.1868]   \n",
      "in_vocab:IV|in_gaz|type:employment_action|gaz_f...  0.1366      [-0.6022]   \n",
      "in_vocab:IV|in_gaz|type:employment_action|gaz_f...  0.0932       [-0.308]   \n",
      "in_vocab:IV|in_gaz|type:employment_status|gaz_f...  0.1176      [-0.3305]   \n",
      "in_vocab:IV|in_gaz|type:function|gaz_freq_bin:0     0.1176       [0.0605]   \n",
      "in_vocab:IV|in_gaz|type:money|gaz_freq_bin:0        0.0588       [0.3869]   \n",
      "in_vocab:IV|in_gaz|type:performance_score|gaz_f...  0.0588      [-0.2062]   \n",
      "in_vocab:IV|in_gaz|type:position|gaz_freq_bin:0     0.1176      [-0.2171]   \n",
      "in_vocab:IV|in_gaz|type:reason_for_termination|...  0.0932      [-0.8604]   \n",
      "in_vocab:IV|in_gaz|type:reason_for_termination|...  0.0588      [-0.3627]   \n",
      "in_vocab:IV|in_gaz|type:state|gaz_freq_bin:0        0.1176      [-0.4219]   \n",
      "in_vocab:IV|in_gaz|type:time_recur|gaz_freq_bin:1   0.0588      [-0.0373]   \n",
      "in_vocab:OOV|in_gaz|type:age|gaz_freq_bin:0         0.0588        [0.032]   \n",
      "in_vocab:OOV|in_gaz|type:time_interval|gaz_freq...  0.0588       [-0.053]   \n",
      "\n",
      "                                                       Pred_P Gold_W(salary)  \\\n",
      "bag_of_words|edge:left|length:1|ngram:give           [0.3119]       [0.3119]   \n",
      "bag_of_words|edge:left|length:2|ngram:give me        [0.6192]       [0.6192]   \n",
      "bag_of_words|edge:right|length:1|ngram:#NUM           [-0.43]        [-0.43]   \n",
      "bag_of_words|edge:right|length:2|ngram:after #NUM    [0.0177]       [0.0177]   \n",
      "bag_of_words|length:1|ngram:#NUM                     [0.4724]       [0.2362]   \n",
      "bag_of_words|length:1|ngram:after                    [0.0904]       [0.0904]   \n",
      "bag_of_words|length:1|ngram:age                     [-0.4324]      [-0.4324]   \n",
      "bag_of_words|length:1|ngram:are                      [0.1347]       [0.1347]   \n",
      "bag_of_words|length:1|ngram:average                   [0.681]        [0.681]   \n",
      "bag_of_words|length:1|ngram:but                      [0.0898]       [0.0898]   \n",
      "bag_of_words|length:1|ngram:employees                [0.7159]       [0.7159]   \n",
      "bag_of_words|length:1|ngram:give                     [0.3059]       [0.3059]   \n",
      "bag_of_words|length:1|ngram:hired                    [0.2222]       [0.2222]   \n",
      "bag_of_words|length:1|ngram:me                      [-0.0167]      [-0.0167]   \n",
      "bag_of_words|length:1|ngram:of                      [-0.8329]      [-0.4164]   \n",
      "bag_of_words|length:1|ngram:salary                   [0.7148]       [0.7148]   \n",
      "bag_of_words|length:1|ngram:the                      [0.6677]       [0.6677]   \n",
      "bag_of_words|length:1|ngram:who                     [-0.2291]      [-0.2291]   \n",
      "bag_of_words|length:1|ngram:years                   [-0.0679]      [-0.0679]   \n",
      "bag_of_words|length:2|ngram:#NUM years               [0.3411]       [0.3411]   \n",
      "bag_of_words|length:2|ngram:after #NUM               [0.1908]       [0.1908]   \n",
      "bag_of_words|length:2|ngram:are #NUM                [-0.0131]      [-0.0131]   \n",
      "bag_of_words|length:2|ngram:average salary           [0.0305]       [0.0305]   \n",
      "bag_of_words|length:2|ngram:employees who            [0.0637]       [0.0637]   \n",
      "bag_of_words|length:2|ngram:give me                  [0.6012]       [0.6012]   \n",
      "bag_of_words|length:2|ngram:hired after              [0.0649]       [0.0649]   \n",
      "bag_of_words|length:2|ngram:me the                   [0.9824]       [0.9824]   \n",
      "bag_of_words|length:2|ngram:of age                  [-0.0113]      [-0.0113]   \n",
      "bag_of_words|length:2|ngram:of employees              [-0.48]        [-0.48]   \n",
      "bag_of_words|length:2|ngram:salary of                [0.2124]       [0.2124]   \n",
      "...                                                       ...            ...   \n",
      "in_gaz|type:state|pop                               [-0.6361]      [-0.6361]   \n",
      "in_gaz|type:state|ratio                             [-0.0041]      [-0.1702]   \n",
      "in_gaz|type:state|ratio_pop                         [-0.0041]      [-0.1702]   \n",
      "in_gaz|type:time_interval|gaz_freq_bin:0            [-0.0069]      [-0.1174]   \n",
      "in_gaz|type:time_recur|gaz_freq_bin:1               [-0.0022]      [-0.0373]   \n",
      "in_vocab:IV|freq_bin:0                              [-0.0556]      [-0.5966]   \n",
      "in_vocab:IV|freq_bin:1                              [-0.1866]      [-1.1298]   \n",
      "in_vocab:IV|freq_bin:2                              [-0.0287]      [-0.4872]   \n",
      "in_vocab:IV|freq_bin:4                              [-0.0371]       [-0.631]   \n",
      "in_vocab:IV|freq_bin:5                              [-0.1488]      [-0.8431]   \n",
      "in_vocab:IV|in_gaz|type:age|gaz_freq_bin:0          [-0.0177]      [-0.1295]   \n",
      "in_vocab:IV|in_gaz|type:citizendesc|gaz_freq_bin:0  [-0.0012]       [-0.021]   \n",
      "in_vocab:IV|in_gaz|type:citizendesc|gaz_freq_bin:1   [0.0347]       [0.3717]   \n",
      "in_vocab:IV|in_gaz|type:date_compare|gaz_freq_b...  [-0.0035]      [-0.0593]   \n",
      "in_vocab:IV|in_gaz|type:department|gaz_freq_bin:0     [0.007]       [0.0746]   \n",
      "in_vocab:IV|in_gaz|type:dob|gaz_freq_bin:0          [-0.0354]      [-0.2591]   \n",
      "in_vocab:IV|in_gaz|type:employee_source|gaz_fre...   [0.0174]       [0.1868]   \n",
      "in_vocab:IV|in_gaz|type:employment_action|gaz_f...  [-0.0823]      [-0.6022]   \n",
      "in_vocab:IV|in_gaz|type:employment_action|gaz_f...  [-0.0287]       [-0.308]   \n",
      "in_vocab:IV|in_gaz|type:employment_status|gaz_f...  [-0.0389]      [-0.3305]   \n",
      "in_vocab:IV|in_gaz|type:function|gaz_freq_bin:0      [0.0071]       [0.0605]   \n",
      "in_vocab:IV|in_gaz|type:money|gaz_freq_bin:0         [0.0228]       [0.3869]   \n",
      "in_vocab:IV|in_gaz|type:performance_score|gaz_f...  [-0.0121]      [-0.2062]   \n",
      "in_vocab:IV|in_gaz|type:position|gaz_freq_bin:0     [-0.0255]      [-0.2171]   \n",
      "in_vocab:IV|in_gaz|type:reason_for_termination|...  [-0.0802]      [-0.8604]   \n",
      "in_vocab:IV|in_gaz|type:reason_for_termination|...  [-0.0213]      [-0.3627]   \n",
      "in_vocab:IV|in_gaz|type:state|gaz_freq_bin:0        [-0.0496]      [-0.4219]   \n",
      "in_vocab:IV|in_gaz|type:time_recur|gaz_freq_bin:1   [-0.0022]      [-0.0373]   \n",
      "in_vocab:OOV|in_gaz|type:age|gaz_freq_bin:0          [0.0019]        [0.032]   \n",
      "in_vocab:OOV|in_gaz|type:time_interval|gaz_freq...  [-0.0031]       [-0.053]   \n",
      "\n",
      "                                                       Gold_P   Diff  \n",
      "bag_of_words|edge:left|length:1|ngram:give           [0.3119]  [0.0]  \n",
      "bag_of_words|edge:left|length:2|ngram:give me        [0.6192]  [0.0]  \n",
      "bag_of_words|edge:right|length:1|ngram:#NUM           [-0.43]  [0.0]  \n",
      "bag_of_words|edge:right|length:2|ngram:after #NUM    [0.0177]  [0.0]  \n",
      "bag_of_words|length:1|ngram:#NUM                     [0.4724]  [0.0]  \n",
      "bag_of_words|length:1|ngram:after                    [0.0904]  [0.0]  \n",
      "bag_of_words|length:1|ngram:age                     [-0.4324]  [0.0]  \n",
      "bag_of_words|length:1|ngram:are                      [0.1347]  [0.0]  \n",
      "bag_of_words|length:1|ngram:average                   [0.681]  [0.0]  \n",
      "bag_of_words|length:1|ngram:but                      [0.0898]  [0.0]  \n",
      "bag_of_words|length:1|ngram:employees                [0.7159]  [0.0]  \n",
      "bag_of_words|length:1|ngram:give                     [0.3059]  [0.0]  \n",
      "bag_of_words|length:1|ngram:hired                    [0.2222]  [0.0]  \n",
      "bag_of_words|length:1|ngram:me                      [-0.0167]  [0.0]  \n",
      "bag_of_words|length:1|ngram:of                      [-0.8329]  [0.0]  \n",
      "bag_of_words|length:1|ngram:salary                   [0.7148]  [0.0]  \n",
      "bag_of_words|length:1|ngram:the                      [0.6677]  [0.0]  \n",
      "bag_of_words|length:1|ngram:who                     [-0.2291]  [0.0]  \n",
      "bag_of_words|length:1|ngram:years                   [-0.0679]  [0.0]  \n",
      "bag_of_words|length:2|ngram:#NUM years               [0.3411]  [0.0]  \n",
      "bag_of_words|length:2|ngram:after #NUM               [0.1908]  [0.0]  \n",
      "bag_of_words|length:2|ngram:are #NUM                [-0.0131]  [0.0]  \n",
      "bag_of_words|length:2|ngram:average salary           [0.0305]  [0.0]  \n",
      "bag_of_words|length:2|ngram:employees who            [0.0637]  [0.0]  \n",
      "bag_of_words|length:2|ngram:give me                  [0.6012]  [0.0]  \n",
      "bag_of_words|length:2|ngram:hired after              [0.0649]  [0.0]  \n",
      "bag_of_words|length:2|ngram:me the                   [0.9824]  [0.0]  \n",
      "bag_of_words|length:2|ngram:of age                  [-0.0113]  [0.0]  \n",
      "bag_of_words|length:2|ngram:of employees              [-0.48]  [0.0]  \n",
      "bag_of_words|length:2|ngram:salary of                [0.2124]  [0.0]  \n",
      "...                                                       ...    ...  \n",
      "in_gaz|type:state|pop                               [-0.6361]  [0.0]  \n",
      "in_gaz|type:state|ratio                             [-0.0041]  [0.0]  \n",
      "in_gaz|type:state|ratio_pop                         [-0.0041]  [0.0]  \n",
      "in_gaz|type:time_interval|gaz_freq_bin:0            [-0.0069]  [0.0]  \n",
      "in_gaz|type:time_recur|gaz_freq_bin:1               [-0.0022]  [0.0]  \n",
      "in_vocab:IV|freq_bin:0                              [-0.0556]  [0.0]  \n",
      "in_vocab:IV|freq_bin:1                              [-0.1866]  [0.0]  \n",
      "in_vocab:IV|freq_bin:2                              [-0.0287]  [0.0]  \n",
      "in_vocab:IV|freq_bin:4                              [-0.0371]  [0.0]  \n",
      "in_vocab:IV|freq_bin:5                              [-0.1488]  [0.0]  \n",
      "in_vocab:IV|in_gaz|type:age|gaz_freq_bin:0          [-0.0177]  [0.0]  \n",
      "in_vocab:IV|in_gaz|type:citizendesc|gaz_freq_bin:0  [-0.0012]  [0.0]  \n",
      "in_vocab:IV|in_gaz|type:citizendesc|gaz_freq_bin:1   [0.0347]  [0.0]  \n",
      "in_vocab:IV|in_gaz|type:date_compare|gaz_freq_b...  [-0.0035]  [0.0]  \n",
      "in_vocab:IV|in_gaz|type:department|gaz_freq_bin:0     [0.007]  [0.0]  \n",
      "in_vocab:IV|in_gaz|type:dob|gaz_freq_bin:0          [-0.0354]  [0.0]  \n",
      "in_vocab:IV|in_gaz|type:employee_source|gaz_fre...   [0.0174]  [0.0]  \n",
      "in_vocab:IV|in_gaz|type:employment_action|gaz_f...  [-0.0823]  [0.0]  \n",
      "in_vocab:IV|in_gaz|type:employment_action|gaz_f...  [-0.0287]  [0.0]  \n",
      "in_vocab:IV|in_gaz|type:employment_status|gaz_f...  [-0.0389]  [0.0]  \n",
      "in_vocab:IV|in_gaz|type:function|gaz_freq_bin:0      [0.0071]  [0.0]  \n",
      "in_vocab:IV|in_gaz|type:money|gaz_freq_bin:0         [0.0228]  [0.0]  \n",
      "in_vocab:IV|in_gaz|type:performance_score|gaz_f...  [-0.0121]  [0.0]  \n",
      "in_vocab:IV|in_gaz|type:position|gaz_freq_bin:0     [-0.0255]  [0.0]  \n",
      "in_vocab:IV|in_gaz|type:reason_for_termination|...  [-0.0802]  [0.0]  \n",
      "in_vocab:IV|in_gaz|type:reason_for_termination|...  [-0.0213]  [0.0]  \n",
      "in_vocab:IV|in_gaz|type:state|gaz_freq_bin:0        [-0.0496]  [0.0]  \n",
      "in_vocab:IV|in_gaz|type:time_recur|gaz_freq_bin:1   [-0.0022]  [0.0]  \n",
      "in_vocab:OOV|in_gaz|type:age|gaz_freq_bin:0          [0.0019]  [0.0]  \n",
      "in_vocab:OOV|in_gaz|type:time_interval|gaz_freq...  [-0.0031]  [0.0]  \n",
      "\n",
      "[102 rows x 7 columns]\n",
      "\n"
     ]
    }
   ],
   "source": [
    "nlp.inspect(\"give me the average salary of employees who are 30 years of age but hired after 2008\", domain='salary')"
   ]
  },
  {
   "cell_type": "code",
   "execution_count": 20,
   "metadata": {},
   "outputs": [
    {
     "data": {
      "text/plain": [
       "[\"Here are some employees that match your criteria: Kramer Simard, Neville Tredinnick, Jumil Turpin, Jyoti Lajiri, Thomas Barbara, Alex Gilles, John Kretschmer, Sandy Mckenna, Haley Rivera, Kamrin Sander, Shana Petingill, Lenora Tejeda, Edward Buck, Leigh Smith, Amy Foster-Baker, Daniff Hernandez, Noelle Johnson, Thelma Petrowsky, Ivan Rogers, Peter Monroe, Linda Dolan, Anita Pardo, Walter Immediato, Ketsia Liebig, Kelley Spirea, Courtney Wallace, Rachael Baczenski, Elijian Clukey, Lisa Cornett, Jene'ya Darson, Carl Desimone, Marianne Eaton, Susan Ferguson, Libby Fidelia, Kathleen Kinsella, Allison Lydon, Horia Ndzi, Richard Newman, Alain Robinson, Cherly Robinson, Taylor Sparks, Timothy Sullivan, Megan Faller, Susan Good, Adrienne Homberger, Mohammed Latif, Mathew Linden, Lauren Peters, Jessica Bunbury, Ricardo Gonzales, Jac McKinzie, Xana Potts, Caitrin Strong, Estelle Howard, Randall Pearson, Lori Roby, Karthikeyan Ait Sidi, Trina Alagbe, Donna Brill, Nilson Fernandes, Mildred Gentry, David Gordon, Roxana Goyal, Ludwick Harrell, Alexandra Kirill, Shana Maurice, Adeel Osturnka, Nina Panjwani, Seffi Shields, Rick Stoica, Colleen Volk, Sarah Akinkuolie, Juan Gonzalez, Erasumus Monkfish, Brooke Oliver, Ermine Pelletier, Debra Houlihan, Brandon LeBlanc, Bonalyn Boutwell, Janet King, Ann Daniele, Jeremiah Semizoglou, Ebonee Peterson, Kissy Sullivan, Helen Billis, Lily DiNocco, Rex England, Joanne Handschiegl, Judy Jung, Enrico Langton, Marilyn Linares, Debbie Mangal, Barry Wilber, Jennifer Cloninger, Karen Mancuso, Adil Sahoo, Jackie Valentin, Susan Exantus, Adell Saada, Mia Brown, Sean Quinn, Julia Soto, Anthony Cisco, Tanya Morway, Jonathan Hogland, James DeGweck, Kara Harrison, George Johnson, Kayla Peterson, Hong Pham, Desiree Tavares, Kimberly Beak, Benjamin Burkett, Phil Close, Tanya Foreman, Robyn Manchester, Peter Robertson, Alfred Digitale, Jeremy Prater\"]"
      ]
     },
     "execution_count": 20,
     "metadata": {},
     "output_type": "execute_result"
    }
   ],
   "source": [
    "conv.say(\"show me all married employees\")"
   ]
  },
  {
   "cell_type": "code",
   "execution_count": 21,
   "metadata": {},
   "outputs": [
    {
     "data": {
      "text/plain": [
       "['Based on your criteria, the average salary is $29.12']"
      ]
     },
     "execution_count": 21,
     "metadata": {},
     "output_type": "execute_result"
    }
   ],
   "source": [
    "conv.say(\"what is the average salary for women?\")"
   ]
  },
  {
   "cell_type": "code",
   "execution_count": 22,
   "metadata": {},
   "outputs": [
    {
     "data": {
      "text/plain": [
       "['Based on your criteria, the average salary is $30.76']"
      ]
     },
     "execution_count": 22,
     "metadata": {},
     "output_type": "execute_result"
    }
   ],
   "source": [
    "conv.say(\"Please tell me the average salary for employees\")"
   ]
  },
  {
   "cell_type": "code",
   "execution_count": 23,
   "metadata": {},
   "outputs": [
    {
     "data": {
      "text/plain": [
       "['The percentage is 83.67']"
      ]
     },
     "execution_count": 23,
     "metadata": {},
     "output_type": "execute_result"
    }
   ],
   "source": [
    "conv.say(\"What percentage of employees were born post 1970\")"
   ]
  },
  {
   "cell_type": "code",
   "execution_count": 24,
   "metadata": {},
   "outputs": [
    {
     "data": {
      "text/plain": [
       "{'text': 'is there anyone older than 50 months of age',\n",
       " 'domain': 'general',\n",
       " 'intent': 'get_employees',\n",
       " 'entities': [{'text': 'older than',\n",
       "   'type': 'comparator',\n",
       "   'role': None,\n",
       "   'value': [{'cname': 'more than',\n",
       "     'score': 22.023102,\n",
       "     'top_synonym': 'older than'},\n",
       "    {'cname': 'less than', 'score': 4.95921, 'top_synonym': 'under'}],\n",
       "   'span': {'start': 16, 'end': 25}},\n",
       "  {'text': '50 months',\n",
       "   'type': 'sys_duration',\n",
       "   'role': None,\n",
       "   'value': [{'value': 50, 'unit': 'month'}],\n",
       "   'span': {'start': 27, 'end': 35}},\n",
       "  {'text': 'age',\n",
       "   'type': 'age',\n",
       "   'role': None,\n",
       "   'value': [],\n",
       "   'span': {'start': 40, 'end': 42}}]}"
      ]
     },
     "execution_count": 24,
     "metadata": {},
     "output_type": "execute_result"
    }
   ],
   "source": [
    "nlp.process(\"is there anyone older than 50 months of age\")"
   ]
  },
  {
   "cell_type": "code",
   "execution_count": 25,
   "metadata": {},
   "outputs": [
    {
     "data": {
      "text/plain": [
       "[\"Hmmm, I don't quite understand, you can ask me something like 'is john's salary more than 6k'\",\n",
       " 'Listening...']"
      ]
     },
     "execution_count": 25,
     "metadata": {},
     "output_type": "execute_result"
    }
   ],
   "source": [
    "conv.say(\"trapped\")"
   ]
  },
  {
   "cell_type": "code",
   "execution_count": 26,
   "metadata": {},
   "outputs": [
    {
     "data": {
      "text/plain": [
       "[\"Hmmm, I don't quite understand, you can ask me something like 'give me the youngest five percent of employees'\",\n",
       " 'Listening...']"
      ]
     },
     "execution_count": 26,
     "metadata": {},
     "output_type": "execute_result"
    }
   ],
   "source": [
    "conv.say('maybe')"
   ]
  },
  {
   "cell_type": "code",
   "execution_count": 27,
   "metadata": {},
   "outputs": [
    {
     "data": {
      "text/plain": [
       "[\"Hmmm, I don't quite understand, you can ask me something like 'show me all married employees'\",\n",
       " 'Listening...']"
      ]
     },
     "execution_count": 27,
     "metadata": {},
     "output_type": "execute_result"
    }
   ],
   "source": [
    "conv.say('yes')"
   ]
  },
  {
   "cell_type": "code",
   "execution_count": 28,
   "metadata": {},
   "outputs": [
    {
     "data": {
      "text/plain": [
       "[\"John Kretschmer's hourly salary is 21.0\"]"
      ]
     },
     "execution_count": 28,
     "metadata": {},
     "output_type": "execute_result"
    }
   ],
   "source": [
    "conv.say(\"is john's salary more than 6k\")"
   ]
  },
  {
   "cell_type": "code",
   "execution_count": 29,
   "metadata": {},
   "outputs": [
    {
     "data": {
      "text/plain": [
       "[\"Here are some employees that match your criteria: Nan Singh, Kramer Simard, Rick Clayton, Neville Tredinnick, Bianca Roehrich, Jyoti Lajiri, Sarah Warfield, Elisa Bramante, Wilson Adinolfi, Thomas Barbara, Lin Chan, Hamish Garneau, Alex Gilles, Cayo Gonzalez, Rose Ivey, John Kretschmer, Lindsay Lynch, Sandy Mckenna, Jennifer Medeiros, Lynn O'hare, Clinton Owad, Brad Pitt, Haley Rivera, Ashley Rose, Kamrin Sander, Sade Smith, Betsy Bondwell, Rosalie Hutter, Yen Johnston, Lisa Lunquist, Lenora Tejeda, Cybil Trzeciak, Edward Buck, Bartholemew Khemmich, Dheepa Nguyen, Donysha Kampew, Luke Patronick, Leigh Smith, Amy Foster-Baker, Daniff Hernandez, Noelle Johnson, Thelma Petrowsky, Ivan Rogers, Lisa Galia, Leonara Lindsay, Linda Dolan, Carlos Merlos, Anita Pardo, Donald Favis, Walter Immediato, Ketsia Liebig, Kelley Spirea, Courtney Wallace, Carol Anderson, Rachael Baczenski, Francesco Barone, Josephine Bugali, Donovan Chang, Enola Chivukula, Elijian Clukey, Spencer Cole, Lisa Cornett, Jean Crimmings, Jene'ya Darson, Carl Desimone, Marianne Eaton, Jean Engdahl, April Evensen, Susan Ferguson, Libby Fidelia, Melisa Gerke, Shenice Gold, Christie Harrington, Anthony Heitzman, Maryellen Jackson, Hannah Jacobi, Kramer Keatts, Kathleen Kinsella, Dallas Leach, Jonathan LeBel, Allison Lydon, Elizabeth Meads, Horia Ndzi, Richard Newman, Shakira Perry, Thomas Rhoads, Alain Robinson, Cherly Robinson, Elias Robinson, Bruno Rossetti, Melinda Saar-Beckles, Taylor Sparks, Timothy Sullivan, Jeanette Tippett, Dianna Blount, Megan Faller, Susan Good, Mohammed Latif, Mathew Linden, Brigit McCarthy, Luisa Monterro, Maliki Moumanil, Lauren Peters, Latia Costa, Gerry Friedman, Ricardo Gonzales, Mike Guilianno, Giovanni Leruth, Jac McKinzie, Jasmine Onque, Xana Potts, Caitrin Strong, Sandra Martin, Tyrone Steans, Estelle Howard, Jennifer Zamora, Randall Pearson, Lori Roby, Karthikeyan Ait Sidi, Michael Albert, Brannon Miller, David Stanley, Trina Alagbe, Scott Becker, Donna Brill, Michael Carey, James Cockel, Geoff Dickinson, Denisa Dobrin, Nilson Fernandes, Raul Garcia, Barbara Gaul, Mildred Gentry, David Gordon, Roxana Goyal, Paula Gross, Ludwick Harrell, Sneha Jhaveri, Alexandra Kirill, Bradley Knapp, Shana Maurice, Adeel Osturnka, Nina Panjwani, Quinn Rarrick, Nori Sewkumar, Seffi Shields, Rick Stoica, Colleen Volk, Anna Von Massenbach, Jacquelyn Williams, Sarah Akinkuolie, Carla Demita, Angela Erilus, Nicole Fancett, Michael Fitzpatrick, Juan Gonzalez, Trina Hendrickson, Erasumus Monkfish, Patrick Moran, Brooke Oliver, Ermine Pelletier, Joe Smith, Kenneth Thibaud, Jordan Winthrop, Jenna Dietrich, Debra Houlihan, Judith Carabbio, Keyla Del Bosque, Brandon LeBlanc, Bonalyn Boutwell, Janet King, Renee Becker, Jayne Horton, Eric Dougall, Maria Gonzalez, Ann Daniele, Jeremiah Semizoglou, Joe South, Charles Bozzi, Webster Butler, Amy Dunn, Elijiah Gray, Ebonee Peterson, Kissy Sullivan, Sean Bernstein, Lowan Biden, Helen Billis, Lily DiNocco, Rex England, Miguel Estremera, Evelyn Girifalco, Joanne Handschiegl, Judy Jung, Enrico Langton, Marilyn Linares, Debbie Mangal, Emil Pelech, Louis Punjabhi, Nore Sadki, Kristen Squatrito, Mei Trang, Theresa Wallace, Colleen Zima, Joseph Buccheri, Jennifer Cloninger, Phylicia Gosciminski, Ming Huynh, Tayana Jeannite, Karen Mancuso, Adil Sahoo, Constance Sloan, Roger Walker, Hang Wolk, Jason Woodson, Michelle Carter, Travis Ozark, Sharlene Terry, Jackie Valentin, Noah Villanueva, Susan Exantus, Adell Saada, Andrew Szabo, Mia Brown, William LaRotonda, Taisha Goble, Thomas Murray, Jason Salter, Julia Zhou, Jason Foss, Simon Roup, Ricardo Ruiz, Julia Soto, Alejandro Bacong, Anthony Cisco, Tanya Morway, Claudia Carr, Jonathan Hogland, Linda Anderson, Sam Athwal, Linda Bachiochi, Nader Barton, Beatrice Chace, James DeGweck, Violeta Ferreira, Kara Harrison, George Johnson, Samuel MacLennan, Lauren Mahoney, Dawn Motlagh, Shari Ngodup, Lei-Ming Nguyen, Kayla Peterson, Hong Pham, Janine Purinton, Barbara Stanford, Sophia Theamstern, Theresa Tinto, Abdellah Veera, Scott Whittier, Catherine Ybarra, Kimberly Beak, Joelle Burke, Benjamin Burkett, Phil Close, Tanya Foreman, Earnest Hankard, Julissa Hunts, Lindsey Langford, Susan Lundy, Robyn Manchester, Ned Miller, Kristie Nowlan, Peter Robertson, Alfred Digitale, Maruk Fraval, Whitney Gill, Myriam Givens, Jeremy Prater, Howard Mullaney, Michael Riordan, Lynn Daneault, John Smith, Colby Andreola, Alex Sweetwater\"]"
      ]
     },
     "execution_count": 29,
     "metadata": {},
     "output_type": "execute_result"
    }
   ],
   "source": [
    "conv.say(\"which employees are citizens\")"
   ]
  },
  {
   "cell_type": "code",
   "execution_count": 30,
   "metadata": {},
   "outputs": [
    {
     "data": {
      "text/plain": [
       "[\"Here are some employees that match your criteria: Nan Singh, Kramer Simard, Rick Clayton, Neville Tredinnick, Bianca Roehrich, Jyoti Lajiri, Sarah Warfield, Elisa Bramante, Wilson Adinolfi, Thomas Barbara, Lin Chan, Hamish Garneau, Alex Gilles, Cayo Gonzalez, Rose Ivey, John Kretschmer, Lindsay Lynch, Sandy Mckenna, Jennifer Medeiros, Lynn O'hare, Clinton Owad, Brad Pitt, Haley Rivera, Ashley Rose, Kamrin Sander, Sade Smith, Betsy Bondwell, Rosalie Hutter, Yen Johnston, Lisa Lunquist, Lenora Tejeda, Cybil Trzeciak, Edward Buck, Bartholemew Khemmich, Dheepa Nguyen, Donysha Kampew, Luke Patronick, Leigh Smith, Amy Foster-Baker, Daniff Hernandez, Noelle Johnson, Thelma Petrowsky, Ivan Rogers, Lisa Galia, Leonara Lindsay, Linda Dolan, Carlos Merlos, Anita Pardo, Donald Favis, Walter Immediato, Ketsia Liebig, Kelley Spirea, Courtney Wallace, Carol Anderson, Rachael Baczenski, Francesco Barone, Josephine Bugali, Donovan Chang, Enola Chivukula, Elijian Clukey, Spencer Cole, Lisa Cornett, Jean Crimmings, Jene'ya Darson, Carl Desimone, Marianne Eaton, Jean Engdahl, April Evensen, Susan Ferguson, Libby Fidelia, Melisa Gerke, Shenice Gold, Christie Harrington, Anthony Heitzman, Maryellen Jackson, Hannah Jacobi, Kramer Keatts, Kathleen Kinsella, Dallas Leach, Jonathan LeBel, Allison Lydon, Elizabeth Meads, Horia Ndzi, Richard Newman, Shakira Perry, Thomas Rhoads, Alain Robinson, Cherly Robinson, Elias Robinson, Bruno Rossetti, Melinda Saar-Beckles, Taylor Sparks, Timothy Sullivan, Jeanette Tippett, Dianna Blount, Megan Faller, Susan Good, Mohammed Latif, Mathew Linden, Brigit McCarthy, Luisa Monterro, Maliki Moumanil, Lauren Peters, Latia Costa, Gerry Friedman, Ricardo Gonzales, Mike Guilianno, Giovanni Leruth, Jac McKinzie, Jasmine Onque, Xana Potts, Caitrin Strong, Sandra Martin, Tyrone Steans, Estelle Howard, Jennifer Zamora, Randall Pearson, Lori Roby, Karthikeyan Ait Sidi, Michael Albert, Brannon Miller, David Stanley, Trina Alagbe, Scott Becker, Donna Brill, Michael Carey, James Cockel, Geoff Dickinson, Denisa Dobrin, Nilson Fernandes, Raul Garcia, Barbara Gaul, Mildred Gentry, David Gordon, Roxana Goyal, Paula Gross, Ludwick Harrell, Sneha Jhaveri, Alexandra Kirill, Bradley Knapp, Shana Maurice, Adeel Osturnka, Nina Panjwani, Quinn Rarrick, Nori Sewkumar, Seffi Shields, Rick Stoica, Colleen Volk, Anna Von Massenbach, Jacquelyn Williams, Sarah Akinkuolie, Carla Demita, Angela Erilus, Nicole Fancett, Michael Fitzpatrick, Juan Gonzalez, Trina Hendrickson, Erasumus Monkfish, Patrick Moran, Brooke Oliver, Ermine Pelletier, Joe Smith, Kenneth Thibaud, Jordan Winthrop, Jenna Dietrich, Debra Houlihan, Judith Carabbio, Keyla Del Bosque, Brandon LeBlanc, Bonalyn Boutwell, Janet King, Renee Becker, Jayne Horton, Eric Dougall, Maria Gonzalez, Ann Daniele, Jeremiah Semizoglou, Joe South, Charles Bozzi, Webster Butler, Amy Dunn, Elijiah Gray, Ebonee Peterson, Kissy Sullivan, Sean Bernstein, Lowan Biden, Helen Billis, Lily DiNocco, Rex England, Miguel Estremera, Evelyn Girifalco, Joanne Handschiegl, Judy Jung, Enrico Langton, Marilyn Linares, Debbie Mangal, Emil Pelech, Louis Punjabhi, Nore Sadki, Kristen Squatrito, Mei Trang, Theresa Wallace, Colleen Zima, Joseph Buccheri, Jennifer Cloninger, Phylicia Gosciminski, Ming Huynh, Tayana Jeannite, Karen Mancuso, Adil Sahoo, Constance Sloan, Roger Walker, Hang Wolk, Jason Woodson, Michelle Carter, Travis Ozark, Sharlene Terry, Jackie Valentin, Noah Villanueva, Susan Exantus, Adell Saada, Andrew Szabo, Mia Brown, William LaRotonda, Taisha Goble, Thomas Murray, Jason Salter, Julia Zhou, Jason Foss, Simon Roup, Ricardo Ruiz, Julia Soto, Alejandro Bacong, Anthony Cisco, Tanya Morway, Claudia Carr, Jonathan Hogland, Linda Anderson, Sam Athwal, Linda Bachiochi, Nader Barton, Beatrice Chace, James DeGweck, Violeta Ferreira, Kara Harrison, George Johnson, Samuel MacLennan, Lauren Mahoney, Dawn Motlagh, Shari Ngodup, Lei-Ming Nguyen, Kayla Peterson, Hong Pham, Janine Purinton, Barbara Stanford, Sophia Theamstern, Theresa Tinto, Abdellah Veera, Scott Whittier, Catherine Ybarra, Kimberly Beak, Joelle Burke, Benjamin Burkett, Phil Close, Tanya Foreman, Earnest Hankard, Julissa Hunts, Lindsey Langford, Susan Lundy, Robyn Manchester, Ned Miller, Kristie Nowlan, Peter Robertson, Alfred Digitale, Maruk Fraval, Whitney Gill, Myriam Givens, Jeremy Prater, Howard Mullaney, Michael Riordan, Lynn Daneault, John Smith, Colby Andreola, Alex Sweetwater\"]"
      ]
     },
     "execution_count": 30,
     "metadata": {},
     "output_type": "execute_result"
    }
   ],
   "source": [
    "conv.say(\"citizens\")"
   ]
  },
  {
   "cell_type": "code",
   "execution_count": 31,
   "metadata": {},
   "outputs": [
    {
     "data": {
      "text/plain": [
       "[\"The fired employees are based on your criteria are: Neville Tredinnick, Bianca Roehrich, Thomas Barbara, Alex Gilles, Lindsay Lynch, Lynn O'hare, Betsy Bondwell, Lenora Tejeda, Cybil Trzeciak, Donysha Kampew, Luke Patronick, Edward True, Leigh Smith, Daniff Hernandez, Donald Favis, Walter Immediato, Courtney Wallace, Carol Anderson, Rachael Baczenski, Enola Chivukula, Spencer Cole, Marianne Eaton, April Evensen, Susan Ferguson, Melisa Gerke, Christie Harrington, Kathleen Kinsella, Dallas Leach, Jonathan LeBel, Elizabeth Meads, Horia Ndzi, Shakira Perry, Morissa Power, Thomas Rhoads, Alain Robinson, Cherly Robinson, Bruno Rossetti, Adrienne Homberger, Mohammed Latif, Lauren Peters, Jessica Bunbury, Mike Guilianno, Estelle Howard, Randall Pearson, Karthikeyan Ait Sidi, Donna Brill, Paula Gross, Alexandra Kirill, Nina Panjwani, Quinn Rarrick, Colleen Volk, Jacquelyn Williams, Sarah Akinkuolie, Carla Demita, Michael Fitzpatrick, Juan Gonzalez, Trina Hendrickson, Brooke Oliver, Ermine Pelletier, Kenneth Thibaud, Jordan Winthrop, Renee Becker, Charles Bozzi, Ebonee Peterson, Miguel Estremera, Judy Jung, Marilyn Linares, Emil Pelech, Nore Sadki, Kristen Squatrito, Theresa Wallace, Barry Wilber, Jennifer Cloninger, Ming Huynh, Karen Mancuso, May Roberson, Constance Sloan, Susan Exantus, Sean Quinn, Taisha Goble, Jason Salter, Ricardo Ruiz, Jonathan Hogland, Nader Barton, James DeGweck, George Johnson, Samuel MacLennan, Hong Pham, Janine Purinton, Desiree Tavares, Sophia Theamstern, Theresa Tinto, Abdellah Veera, Scott Whittier, Catherine Ybarra, Phil Close, Tanya Foreman, Lindsey Langford, Susan Lundy, Ned Miller, Peter Robertson, Whitney Gill\"]"
      ]
     },
     "execution_count": 31,
     "metadata": {},
     "output_type": "execute_result"
    }
   ],
   "source": [
    "conv.say(\"tell me fired employees\")"
   ]
  },
  {
   "cell_type": "code",
   "execution_count": 32,
   "metadata": {},
   "outputs": [
    {
     "data": {
      "text/plain": [
       "['The hired employees are based on your criteria are: Kamrin Sander, Richard Newman, Maliki Moumanil, Roxana Goyal, Sneha Jhaveri, Bradley Knapp, Adeel Osturnka, Rick Stoica, Jeremiah Semizoglou, Debbie Mangal, Colleen Zima, Susan Lundy']"
      ]
     },
     "execution_count": 32,
     "metadata": {},
     "output_type": "execute_result"
    }
   ],
   "source": [
    "conv.say(\"tell me hired employees from career fair\")"
   ]
  },
  {
   "cell_type": "code",
   "execution_count": 33,
   "metadata": {},
   "outputs": [
    {
     "data": {
      "text/plain": [
       "[\"Here are some employees: Nan Singh, Kramer Simard, Rick Clayton, Neville Tredinnick, Jumil Turpin, Bianca Roehrich, Jyoti Lajiri, Sarah Warfield, Elisa Bramante, Wilson Adinolfi, Thomas Barbara, Lin Chan, Hamish Garneau, Alex Gilles, Cayo Gonzalez, Rose Ivey, John Kretschmer, Lindsay Lynch, Sandy Mckenna, Jennifer Medeiros, Lynn O'hare, Clinton Owad, Brad Pitt, Haley Rivera, Ashley Rose, Kamrin Sander, Sade Smith, Betsy Bondwell, Rosalie Hutter, Yen Johnston, Lisa Lunquist, Shana Petingill, Lenora Tejeda, Cybil Trzeciak, Edward Buck, Bartholemew Khemmich, Joseph Martins, Dheepa Nguyen, Donysha Kampew, Luke Patronick, Edward True, Leigh Smith, Amy Foster-Baker, Daniff Hernandez, Noelle Johnson, Thelma Petrowsky, Ivan Rogers, Peter Monroe, Lisa Galia, Leonara Lindsay, Linda Dolan, Carlos Merlos, Anita Pardo, Donald Favis, Walter Immediato, Ketsia Liebig, Kelley Spirea, Courtney Wallace, Carol Anderson, Rachael Baczenski, Francesco Barone, Josephine Bugali, Donovan Chang, Enola Chivukula, Caroline Cierpiszewski, Elijian Clukey, Spencer Cole, Lisa Cornett, Jean Crimmings, Jene'ya Darson, Carl Desimone, Marianne Eaton, Jean Engdahl, April Evensen, Susan Ferguson, Libby Fidelia, Melisa Gerke, Shenice Gold, Christie Harrington, Anthony Heitzman, Maryellen Jackson, Hannah Jacobi, Kramer Keatts, Kathleen Kinsella, Dallas Leach, Jonathan LeBel, Allison Lydon, Elizabeth Meads, Horia Ndzi, Richard Newman, Shakira Perry, Morissa Power, Thomas Rhoads, Alain Robinson, Cherly Robinson, Elias Robinson, Bruno Rossetti, Melinda Saar-Beckles, Taylor Sparks, Timothy Sullivan, Barbara Sutwell, Jeanette Tippett, Dianna Blount, Daniel Davis, Megan Faller, Susan Good, Adrienne Homberger, Mohammed Latif, Mathew Linden, Brigit McCarthy, Luisa Monterro, Maliki Moumanil, Lauren Peters, Jessica Bunbury, Latia Costa, Gerry Friedman, Ricardo Gonzales, Mike Guilianno, Giovanni Leruth, Jac McKinzie, Jasmine Onque, Xana Potts, Caitrin Strong, Sandra Martin, Tyrone Steans, Estelle Howard, Jennifer Zamora, Randall Pearson, Lori Roby, Karthikeyan Ait Sidi, Michael Albert, Brannon Miller, David Stanley, Trina Alagbe, Scott Becker, Donna Brill, Michael Carey, James Cockel, Geoff Dickinson, Denisa Dobrin, Nilson Fernandes, Raul Garcia, Barbara Gaul, Mildred Gentry, David Gordon, Roxana Goyal, Paula Gross, Ludwick Harrell, Sneha Jhaveri, Alexandra Kirill, Bradley Knapp, Shana Maurice, Adeel Osturnka, Nina Panjwani, Quinn Rarrick, Nori Sewkumar, Seffi Shields, Rick Stoica, Colleen Volk, Anna Von Massenbach, Jacquelyn Williams, Sarah Akinkuolie, Carla Demita, Angela Erilus, Nicole Fancett, Michael Fitzpatrick, Juan Gonzalez, Trina Hendrickson, Erasumus Monkfish, Patrick Moran, Brooke Oliver, Ermine Pelletier, Joe Smith, Kenneth Thibaud, Jordan Winthrop, Jenna Dietrich, Debra Houlihan, Judith Carabbio, Keyla Del Bosque, Brandon LeBlanc, Bonalyn Boutwell, Janet King, Renee Becker, Jayne Horton, Eric Dougall, Maria Gonzalez, Ann Daniele, Jeremiah Semizoglou, Joe South, Charles Bozzi, Webster Butler, Amy Dunn, Elijiah Gray, Ebonee Peterson, Kissy Sullivan, Courtney Beatrice, Sean Bernstein, Lowan Biden, Helen Billis, Lily DiNocco, Rex England, Miguel Estremera, Evelyn Girifalco, Joanne Handschiegl, Judy Jung, Enrico Langton, Marilyn Linares, Debbie Mangal, Emil Pelech, Louis Punjabhi, Nore Sadki, Kristen Squatrito, Mei Trang, Theresa Wallace, Barry Wilber, Colleen Zima, Joseph Buccheri, Jennifer Cloninger, Phylicia Gosciminski, Ming Huynh, Tayana Jeannite, Karen Mancuso, May Roberson, Adil Sahoo, Constance Sloan, Roger Walker, Hang Wolk, Jason Woodson, Michelle Carter, Travis Ozark, Sharlene Terry, Jackie Valentin, Noah Villanueva, Susan Exantus, Adell Saada, Andrew Szabo, Mia Brown, William LaRotonda, Sean Quinn, Taisha Goble, Thomas Murray, Jason Salter, Julia Zhou, Jason Foss, Simon Roup, Ricardo Ruiz, Julia Soto, Alejandro Bacong, Anthony Cisco, Tanya Morway, Claudia Carr, Jonathan Hogland, Linda Anderson, Sam Athwal, Linda Bachiochi, Nader Barton, Beatrice Chace, James DeGweck, Violeta Ferreira, Kara Harrison, George Johnson, Samuel MacLennan, Lauren Mahoney, Dawn Motlagh, Shari Ngodup, Lei-Ming Nguyen, Kayla Peterson, Hong Pham, Janine Purinton, Barbara Stanford, Desiree Tavares, Sophia Theamstern, Theresa Tinto, Abdellah Veera, Scott Whittier, Catherine Ybarra, Kimberly Beak, Joelle Burke, Benjamin Burkett, Phil Close, Tanya Foreman, Earnest Hankard, Julissa Hunts, Lindsey Langford, Susan Lundy, Robyn Manchester, Ned Miller, Kristie Nowlan, Peter Robertson, Alfred Digitale, Maruk Fraval, Whitney Gill, Myriam Givens, Jeremy Prater, Howard Mullaney, Michael Riordan, Lynn Daneault, John Smith, Colby Andreola, Alex Sweetwater\"]"
      ]
     },
     "execution_count": 33,
     "metadata": {},
     "output_type": "execute_result"
    }
   ],
   "source": [
    "conv.say(\"tell me hired employees\")"
   ]
  },
  {
   "cell_type": "code",
   "execution_count": 34,
   "metadata": {},
   "outputs": [
    {
     "data": {
      "text/plain": [
       "{'text': 'How many people have worked here since 2016',\n",
       " 'domain': 'general',\n",
       " 'intent': 'get_aggregate',\n",
       " 'entities': [{'text': 'How many',\n",
       "   'type': 'function',\n",
       "   'role': None,\n",
       "   'value': [{'cname': 'count',\n",
       "     'score': 34.841515,\n",
       "     'top_synonym': 'how many'}],\n",
       "   'span': {'start': 0, 'end': 7}},\n",
       "  {'text': 'worked here',\n",
       "   'type': 'employment_action',\n",
       "   'role': None,\n",
       "   'value': [{'cname': 'hired',\n",
       "     'score': 40.484894,\n",
       "     'top_synonym': 'worked here'},\n",
       "    {'cname': 'fired',\n",
       "     'score': 2.7594914,\n",
       "     'top_synonym': 'end her employment'}],\n",
       "   'span': {'start': 21, 'end': 31}},\n",
       "  {'text': '2016',\n",
       "   'type': 'sys_time',\n",
       "   'role': None,\n",
       "   'value': [{'value': '2016-01-01T00:00:00.000-08:00', 'grain': 'year'}],\n",
       "   'span': {'start': 39, 'end': 42}}]}"
      ]
     },
     "execution_count": 34,
     "metadata": {},
     "output_type": "execute_result"
    }
   ],
   "source": [
    "nlp.process(\"How many people have worked here since 2016\")"
   ]
  },
  {
   "cell_type": "code",
   "execution_count": 35,
   "metadata": {},
   "outputs": [
    {
     "data": {
      "text/plain": [
       "['Based on your query, the percentage is 100.0']"
      ]
     },
     "execution_count": 35,
     "metadata": {},
     "output_type": "execute_result"
    }
   ],
   "source": [
    "conv.say(\"give me the youngest five percent of employees\")"
   ]
  },
  {
   "cell_type": "code",
   "execution_count": 36,
   "metadata": {},
   "outputs": [
    {
     "data": {
      "text/plain": [
       "['Based on your query, the percentage is 5.33']"
      ]
     },
     "execution_count": 36,
     "metadata": {},
     "output_type": "execute_result"
    }
   ],
   "source": [
    "conv.say(\"what's the pct of 29 year old employees that work with us?\")"
   ]
  },
  {
   "cell_type": "code",
   "execution_count": 37,
   "metadata": {},
   "outputs": [
    {
     "data": {
      "text/plain": [
       "{'text': 'pct of our employees who are non-citizen',\n",
       " 'domain': 'general',\n",
       " 'intent': 'get_aggregate',\n",
       " 'entities': [{'text': 'pct',\n",
       "   'type': 'function',\n",
       "   'role': None,\n",
       "   'value': [{'cname': 'percent', 'score': 29.095093, 'top_synonym': 'pct'}],\n",
       "   'span': {'start': 0, 'end': 2}},\n",
       "  {'text': 'non-citizen',\n",
       "   'type': 'citizendesc',\n",
       "   'role': None,\n",
       "   'value': [{'cname': 'non-citizen',\n",
       "     'score': 36.91012,\n",
       "     'top_synonym': 'non-citizen'},\n",
       "    {'cname': 'eligible noncitizen',\n",
       "     'score': 17.934347,\n",
       "     'top_synonym': 'non citizen'},\n",
       "    {'cname': 'us citizen', 'score': 0.7288594, 'top_synonym': 'citizen'}],\n",
       "   'span': {'start': 29, 'end': 39}}]}"
      ]
     },
     "execution_count": 37,
     "metadata": {},
     "output_type": "execute_result"
    }
   ],
   "source": [
    "nlp.process(\"pct of our employees who are non-citizen\")"
   ]
  },
  {
   "cell_type": "code",
   "execution_count": 38,
   "metadata": {},
   "outputs": [
    {
     "data": {
      "text/plain": [
       "[\"Hmmm, I don't quite understand, you can ask me something like 'what does Ivan make?'\",\n",
       " 'Listening...']"
      ]
     },
     "execution_count": 38,
     "metadata": {},
     "output_type": "execute_result"
    }
   ],
   "source": [
    "conv.say(\"who has been at the company longest\")"
   ]
  },
  {
   "cell_type": "code",
   "execution_count": 39,
   "metadata": {},
   "outputs": [
    {
     "data": {
      "text/plain": [
       "[\"Hi, I am your HR assistant. You can ask me about an employee's individual information (eg. Is Mia married?), some employee statistic (eg. average salary of females) or names of employees according to your criteria (eg. give me a list of all married employees)\"]"
      ]
     },
     "execution_count": 39,
     "metadata": {},
     "output_type": "execute_result"
    }
   ],
   "source": [
    "conv.say(\"hello!\")"
   ]
  },
  {
   "cell_type": "code",
   "execution_count": 40,
   "metadata": {},
   "outputs": [
    {
     "data": {
      "text/plain": [
       "['Bye!']"
      ]
     },
     "execution_count": 40,
     "metadata": {},
     "output_type": "execute_result"
    }
   ],
   "source": [
    "conv.say(\"see you!\")"
   ]
  },
  {
   "cell_type": "code",
   "execution_count": 41,
   "metadata": {},
   "outputs": [
    {
     "data": {
      "text/plain": [
       "['Please repeat your query with a valid date format (YYYY-MM-DD)',\n",
       " 'Listening...']"
      ]
     },
     "execution_count": 41,
     "metadata": {},
     "output_type": "execute_result"
    }
   ],
   "source": [
    "conv.say(\"employees born in november\")"
   ]
  },
  {
   "cell_type": "code",
   "execution_count": 42,
   "metadata": {},
   "outputs": [
    {
     "data": {
      "text/plain": [
       "[\"Ivan Rogers's hourly salary is 42.2\"]"
      ]
     },
     "execution_count": 42,
     "metadata": {},
     "output_type": "execute_result"
    }
   ],
   "source": [
    "conv.say(\"what does ivan make\")"
   ]
  },
  {
   "cell_type": "code",
   "execution_count": 43,
   "metadata": {},
   "outputs": [
    {
     "data": {
      "text/plain": [
       "['Here are some employees with their hourly pay: Luke Patronick: 52.25, Edward True: 45.42, Sandra Martin: 55.51, Judith Carabbio: 56.0, Keyla Del Bosque: 57.12, Susan Exantus: 48.5, Adell Saada: 49.25, Andrew Szabo: 48.0, Colby Andreola: 47.6']"
      ]
     },
     "execution_count": 43,
     "metadata": {},
     "output_type": "execute_result"
    }
   ],
   "source": [
    "conv.say(\"Which software engineers are paid less than $90k\")"
   ]
  },
  {
   "cell_type": "code",
   "execution_count": 44,
   "metadata": {},
   "outputs": [
    {
     "data": {
      "text/plain": [
       "['What would you like to know about Nan Singh?', 'Listening...']"
      ]
     },
     "execution_count": 44,
     "metadata": {},
     "output_type": "execute_result"
    }
   ],
   "source": [
    "conv.say(\"what is the age of nan singh\")"
   ]
  },
  {
   "cell_type": "code",
   "execution_count": 45,
   "metadata": {},
   "outputs": [
    {
     "data": {
      "text/plain": [
       "[\"Nan Singh's hourly salary is 16.56\"]"
      ]
     },
     "execution_count": 45,
     "metadata": {},
     "output_type": "execute_result"
    }
   ],
   "source": [
    "conv.say(\"Get me the lowest $60k earners in the software engineering department\")"
   ]
  },
  {
   "cell_type": "code",
   "execution_count": 46,
   "metadata": {},
   "outputs": [
    {
     "data": {
      "text/plain": [
       "['What would you like to know about Nan Singh?', 'Listening...']"
      ]
     },
     "execution_count": 46,
     "metadata": {},
     "output_type": "execute_result"
    }
   ],
   "source": [
    "conv.say(\"What is Nan Singh's\")"
   ]
  },
  {
   "cell_type": "code",
   "execution_count": 47,
   "metadata": {},
   "outputs": [
    {
     "data": {
      "text/plain": [
       "['Nan Singh is still employed.']"
      ]
     },
     "execution_count": 47,
     "metadata": {},
     "output_type": "execute_result"
    }
   ],
   "source": [
    "conv.say(\"firing date\")"
   ]
  },
  {
   "cell_type": "code",
   "execution_count": 48,
   "metadata": {},
   "outputs": [
    {
     "data": {
      "text/plain": [
       "[\"Here are some employees with their hourly pay: Nan Singh: 16.56, Kramer Simard: 30.2, Rick Clayton: 28.99, Neville Tredinnick: 28.0, Jumil Turpin: 49.1, Bianca Roehrich: 58.5, Jyoti Lajiri: 56.2, Sarah Warfield: 55.2, Elisa Bramante: 60.0, Wilson Adinolfi: 20.0, Thomas Barbara: 22.0, Lin Chan: 19.5, Hamish Garneau: 18.0, Alex Gilles: 15.0, Cayo Gonzalez: 16.0, Rose Ivey: 16.0, John Kretschmer: 21.0, Lindsay Lynch: 19.0, Sandy Mckenna: 24.0, Jennifer Medeiros: 20.0, Lynn O'hare: 18.5, Clinton Owad: 22.0, Brad Pitt: 17.0, Haley Rivera: 22.0, Ashley Rose: 17.0, Kamrin Sander: 21.0, Sade Smith: 24.5, Betsy Bondwell: 26.0, Rosalie Hutter: 28.0, Yen Johnston: 25.0, Lisa Lunquist: 26.1, Shana Petingill: 26.0, Lenora Tejeda: 28.75, Cybil Trzeciak: 22.0, Edward Buck: 55.0, Bartholemew Khemmich: 55.0, Joseph Martins: 56.0, Dheepa Nguyen: 55.0, Donysha Kampew: 60.25, Luke Patronick: 52.25, Edward True: 45.42, Leigh Smith: 20.5, Amy Foster-Baker: 34.95, Daniff Hernandez: 40.1, Noelle Johnson: 40.0, Thelma Petrowsky: 42.75, Ivan Rogers: 42.2, Peter Monroe: 63.0, Lisa Galia: 31.4, Leonara Lindsay: 26.0, Linda Dolan: 37.0, Carlos Merlos: 43.0, Anita Pardo: 47.0, Donald Favis: 58.2, Walter Immediato: 42.0, Ketsia Liebig: 55.0, Kelley Spirea: 52.0, Courtney Wallace: 33.5, Carol Anderson: 16.0, Rachael Baczenski: 17.0, Francesco Barone: 16.76, Josephine Bugali: 20.0, Donovan Chang: 22.0, Enola Chivukula: 21.0, Caroline Cierpiszewski: 22.0, Elijian Clukey: 24.75, Spencer Cole: 15.0, Lisa Cornett: 15.75, Jean Crimmings: 19.75, Jene'ya Darson: 15.0, Carl Desimone: 20.0, Marianne Eaton: 17.0, Jean Engdahl: 21.25, April Evensen: 18.0, Susan Ferguson: 20.0, Libby Fidelia: 24.0, Melisa Gerke: 22.0, Shenice Gold: 17.0, Christie Harrington: 19.75, Anthony Heitzman: 19.0, Maryellen Jackson: 20.0, Hannah Jacobi: 21.0, Kramer Keatts: 19.0, Kathleen Kinsella: 22.0, Dallas Leach: 19.0, Jonathan LeBel: 15.0, Allison Lydon: 20.0, Elizabeth Meads: 14.0, Horia Ndzi: 22.0, Richard Newman: 21.0, Shakira Perry: 22.0, Morissa Power: 19.0, Thomas Rhoads: 20.0, Alain Robinson: 24.0, Cherly Robinson: 16.0, Elias Robinson: 17.0, Bruno Rossetti: 18.0, Melinda Saar-Beckles: 20.0, Taylor Sparks: 16.0, Timothy Sullivan: 19.0, Barbara Sutwell: 14.0, Jeanette Tippett: 24.0, Dianna Blount: 27.0, Daniel Davis: 25.0, Megan Faller: 27.0, Susan Good: 24.25, Adrienne Homberger: 28.0, Mohammed Latif: 28.0, Mathew Linden: 22.0, Brigit McCarthy: 26.0, Luisa Monterro: 25.0, Maliki Moumanil: 29.0, Lauren Peters: 29.0, Jessica Bunbury: 55.0, Latia Costa: 55.0, Gerry Friedman: 55.5, Ricardo Gonzales: 55.5, Mike Guilianno: 55.0, Giovanni Leruth: 55.0, Jac McKinzie: 55.0, Jasmine Onque: 57.0, Xana Potts: 55.0, Caitrin Strong: 54.0, Sandra Martin: 55.51, Tyrone Steans: 29.0, Estelle Howard: 21.5, Jennifer Zamora: 65.0, Randall Pearson: 41.0, Lori Roby: 39.55, Karthikeyan Ait Sidi: 62.0, Michael Albert: 54.5, Brannon Miller: 53.0, David Stanley: 53.0, Trina Alagbe: 21.0, Scott Becker: 17.0, Donna Brill: 20.0, Michael Carey: 20.0, James Cockel: 15.0, Geoff Dickinson: 21.0, Denisa Dobrin: 16.75, Nilson Fernandes: 18.0, Raul Garcia: 19.0, Barbara Gaul: 24.0, Mildred Gentry: 19.0, David Gordon: 15.0, Roxana Goyal: 24.0, Paula Gross: 14.0, Ludwick Harrell: 21.0, Sneha Jhaveri: 19.0, Alexandra Kirill: 24.0, Bradley Knapp: 14.0, Shana Maurice: 20.0, Adeel Osturnka: 16.0, Nina Panjwani: 18.0, Quinn Rarrick: 21.0, Nori Sewkumar: 15.2, Seffi Shields: 15.0, Rick Stoica: 22.0, Colleen Volk: 21.0, Anna Von Massenbach: 20.0, Jacquelyn Williams: 16.0, Sarah Akinkuolie: 29.0, Carla Demita: 29.0, Angela Erilus: 24.0, Nicole Fancett: 24.0, Michael Fitzpatrick: 29.0, Juan Gonzalez: 29.0, Trina Hendrickson: 24.0, Erasumus Monkfish: 27.0, Patrick Moran: 26.0, Brooke Oliver: 25.0, Ermine Pelletier: 28.0, Joe Smith: 22.0, Kenneth Thibaud: 23.0, Jordan Winthrop: 29.0, Jenna Dietrich: 55.0, Debra Houlihan: 60.0, Judith Carabbio: 56.0, Keyla Del Bosque: 57.12, Brandon LeBlanc: 55.0, Bonalyn Boutwell: 34.95, Janet King: 80.0, Renee Becker: 43.0, Jayne Horton: 34.0, Eric Dougall: 64.0, Maria Gonzalez: 39.0, Ann Daniele: 54.1, Jeremiah Semizoglou: 53.8, Joe South: 53.0, Charles Bozzi: 50.5, Webster Butler: 55.0, Amy Dunn: 51.0, Elijiah Gray: 54.0, Ebonee Peterson: 38.5, Kissy Sullivan: 55.0, Courtney Beatrice: 22.0, Sean Bernstein: 16.0, Lowan Biden: 22.0, Helen Billis: 16.0, Lily DiNocco: 22.0, Rex England: 21.0, Miguel Estremera: 17.0, Evelyn Girifalco: 16.0, Joanne Handschiegl: 24.0, Judy Jung: 21.0, Enrico Langton: 17.0, Marilyn Linares: 15.25, Debbie Mangal: 23.0, Emil Pelech: 24.0, Louis Punjabhi: 16.0, Nore Sadki: 21.0, Kristen Squatrito: 21.0, Mei Trang: 22.0, Theresa Wallace: 15.0, Barry Wilber: 21.0, Colleen Zima: 15.0, Joseph Buccheri: 22.0, Jennifer Cloninger: 25.0, Phylicia Gosciminski: 27.0, Ming Huynh: 23.0, Tayana Jeannite: 22.5, Karen Mancuso: 23.0, May Roberson: 26.0, Adil Sahoo: 29.0, Constance Sloan: 23.0, Roger Walker: 22.0, Hang Wolk: 22.0, Jason Woodson: 24.25, Michelle Carter: 55.0, Travis Ozark: 55.0, Sharlene Terry: 55.0, Jackie Valentin: 55.0, Noah Villanueva: 56.0, Susan Exantus: 48.5, Adell Saada: 49.25, Andrew Szabo: 48.0, Mia Brown: 28.5, William LaRotonda: 23.0, Sean Quinn: 55.0, Taisha Goble: 48.5, Thomas Murray: 35.5, Jason Salter: 45.0, Julia Zhou: 31.4, Jason Foss: 65.0, Simon Roup: 62.0, Ricardo Ruiz: 21.0, Julia Soto: 27.49, Alejandro Bacong: 45.0, Anthony Cisco: 42.0, Tanya Morway: 27.0, Claudia Carr: 61.3, Jonathan Hogland: 48.5, Linda Anderson: 23.0, Sam Athwal: 22.0, Linda Bachiochi: 22.0, Nader Barton: 18.0, Beatrice Chace: 16.0, James DeGweck: 23.5, Violeta Ferreira: 23.0, Kara Harrison: 20.0, George Johnson: 17.0, Samuel MacLennan: 15.0, Lauren Mahoney: 17.0, Dawn Motlagh: 15.0, Shari Ngodup: 15.0, Lei-Ming Nguyen: 19.0, Kayla Peterson: 17.0, Hong Pham: 18.0, Janine Purinton: 16.0, Barbara Stanford: 14.0, Desiree Tavares: 15.0, Sophia Theamstern: 20.0, Theresa Tinto: 20.0, Abdellah Veera: 19.0, Scott Whittier: 23.0, Catherine Ybarra: 22.0, Kimberly Beak: 27.0, Joelle Burke: 25.0, Benjamin Burkett: 26.0, Phil Close: 26.0, Tanya Foreman: 24.0, Earnest Hankard: 24.0, Julissa Hunts: 25.0, Lindsey Langford: 22.0, Susan Lundy: 24.0, Robyn Manchester: 23.0, Ned Miller: 25.0, Kristie Nowlan: 26.39, Peter Robertson: 22.0, Alfred Digitale: 56.0, Maruk Fraval: 55.0, Whitney Gill: 55.0, Myriam Givens: 55.0, Jeremy Prater: 56.0, Howard Mullaney: 55.0, Michael Riordan: 55.0, Lynn Daneault: 54.0, John Smith: 56.0, Colby Andreola: 47.6, Alex Sweetwater: 27.0\"]"
      ]
     },
     "execution_count": 48,
     "metadata": {},
     "output_type": "execute_result"
    }
   ],
   "source": [
    "conv.say(\"For employees hired between 3 to 6 years ago, which employees earn the least\")"
   ]
  },
  {
   "cell_type": "code",
   "execution_count": 49,
   "metadata": {},
   "outputs": [
    {
     "data": {
      "text/plain": [
       "['Here are some employees with their hourly pay: Keyla Del Bosque: 57.12, Judith Carabbio: 56.0, Sandra Martin: 55.51, Luke Patronick: 52.25, Adell Saada: 49.25, Susan Exantus: 48.5, Andrew Szabo: 48.0, Colby Andreola: 47.6, Edward True: 45.42, Alex Sweetwater: 27.0']"
      ]
     },
     "execution_count": 49,
     "metadata": {},
     "output_type": "execute_result"
    }
   ],
   "source": [
    "conv.say(\"list of top twenty earners in the Production department\")"
   ]
  },
  {
   "cell_type": "code",
   "execution_count": 50,
   "metadata": {},
   "outputs": [
    {
     "data": {
      "text/plain": [
       "['Based on your query, the count is 10']"
      ]
     },
     "execution_count": 50,
     "metadata": {},
     "output_type": "execute_result"
    }
   ],
   "source": [
    "conv.say(\"How many employees in the production department\")"
   ]
  },
  {
   "cell_type": "code",
   "execution_count": 51,
   "metadata": {},
   "outputs": [
    {
     "data": {
      "text/plain": [
       "['Based on your query, the percentage is 1.33']"
      ]
     },
     "execution_count": 51,
     "metadata": {},
     "output_type": "execute_result"
    }
   ],
   "source": [
    "conv.say(\"What fraction of terminations were due to sexual harrassment\")"
   ]
  },
  {
   "cell_type": "code",
   "execution_count": 52,
   "metadata": {},
   "outputs": [
    {
     "data": {
      "text/plain": [
       "['Based on your query, the count is 41']"
      ]
     },
     "execution_count": 52,
     "metadata": {},
     "output_type": "execute_result"
    }
   ],
   "source": [
    "conv.say(\"How many employees in the IT/IS department\")"
   ]
  },
  {
   "cell_type": "code",
   "execution_count": 53,
   "metadata": {},
   "outputs": [
    {
     "data": {
      "text/plain": [
       "['Here are some employees that match your criteria: Nan Singh, Neville Tredinnick, Rose Ivey, Kamrin Sander, Rosalie Hutter, Dheepa Nguyen, Donysha Kampew, Leigh Smith, Leonara Lindsay, Linda Dolan, Carlos Merlos, Carol Anderson, Caroline Cierpiszewski, Jean Crimmings, Marianne Eaton, April Evensen, Shenice Gold, Bruno Rossetti, Dianna Blount, Brigit McCarthy, Latia Costa, Giovanni Leruth, Jasmine Onque, Xana Potts, Caitrin Strong, Sandra Martin, Trina Alagbe, Donna Brill, Nilson Fernandes, Mildred Gentry, Sarah Akinkuolie, Angela Erilus, Nicole Fancett, Erasumus Monkfish, Ermine Pelletier, Jenna Dietrich, Judith Carabbio, Bonalyn Boutwell, Helen Billis, Emil Pelech, Constance Sloan, Jackie Valentin, Noah Villanueva, Susan Exantus, Thomas Murray, Jason Salter, Alejandro Bacong, Anthony Cisco, Hong Pham, Abdellah Veera, Scott Whittier, Earnest Hankard, Alfred Digitale, Myriam Givens, Lynn Daneault']"
      ]
     },
     "execution_count": 53,
     "metadata": {},
     "output_type": "execute_result"
    }
   ],
   "source": [
    "conv.say(\"list employees under 30\")"
   ]
  },
  {
   "cell_type": "code",
   "execution_count": 54,
   "metadata": {},
   "outputs": [
    {
     "data": {
      "text/plain": [
       "['The fired employees are based on your criteria are: Estelle Howard']"
      ]
     },
     "execution_count": 54,
     "metadata": {},
     "output_type": "execute_result"
    }
   ],
   "source": [
    "conv.say(\"which employees were let go for failure to complete compliance training?\")"
   ]
  },
  {
   "cell_type": "code",
   "execution_count": 55,
   "metadata": {},
   "outputs": [
    {
     "data": {
      "text/plain": [
       "['Here are some employees that match your criteria: Kramer Simard, Jumil Turpin, Jyoti Lajiri, Sarah Warfield, Sade Smith, Edward Buck, Joseph Martins, Daniff Hernandez, Thelma Petrowsky, Linda Dolan, Elijian Clukey, Hannah Jacobi, Horia Ndzi, Elias Robinson, Jennifer Zamora, Randall Pearson, Lori Roby, Michael Albert, James Cockel, Raul Garcia, Maria Gonzalez, Joe South, Elijiah Gray, Rex England, Louis Punjabhi, Roger Walker, Julia Zhou, Jonathan Hogland, Sam Athwal, Kimberly Beak, Joelle Burke']"
      ]
     },
     "execution_count": 55,
     "metadata": {},
     "output_type": "execute_result"
    }
   ],
   "source": [
    "conv.say(\"Which employees were found via referrals\")"
   ]
  },
  {
   "cell_type": "code",
   "execution_count": 56,
   "metadata": {},
   "outputs": [
    {
     "data": {
      "text/plain": [
       "[\"Hmmm, I don't quite understand, you can ask me something like 'is Mia married?'\",\n",
       " 'Listening...']"
      ]
     },
     "execution_count": 56,
     "metadata": {},
     "output_type": "execute_result"
    }
   ],
   "source": [
    "conv.say(\"who are the 10 youngest employees\")"
   ]
  },
  {
   "cell_type": "code",
   "execution_count": 57,
   "metadata": {},
   "outputs": [
    {
     "data": {
      "text/plain": [
       "[\"Nan Singh's hourly salary is 16.56\"]"
      ]
     },
     "execution_count": 57,
     "metadata": {},
     "output_type": "execute_result"
    }
   ],
   "source": [
    "conv.say(\"tell me who earned the least that was hired this year\")"
   ]
  },
  {
   "cell_type": "code",
   "execution_count": 58,
   "metadata": {},
   "outputs": [
    {
     "data": {
      "text/plain": [
       "[\"Hmmm, I don't quite understand, you can ask me something like 'males fired in 2014'\",\n",
       " 'Listening...']"
      ]
     },
     "execution_count": 58,
     "metadata": {},
     "output_type": "execute_result"
    }
   ],
   "source": [
    "conv.say(\"who is the manager for me\")"
   ]
  },
  {
   "cell_type": "code",
   "execution_count": 59,
   "metadata": {},
   "outputs": [
    {
     "data": {
      "text/plain": [
       "['Based on your criteria, the average salary is $39.68']"
      ]
     },
     "execution_count": 59,
     "metadata": {},
     "output_type": "execute_result"
    }
   ],
   "source": [
    "conv.say(\"compensation avg amt for network engineers\")"
   ]
  },
  {
   "cell_type": "code",
   "execution_count": 60,
   "metadata": {},
   "outputs": [
    {
     "data": {
      "text/plain": [
       "[\"Anna Von Massenbach's date of hire was 2015-07-05\"]"
      ]
     },
     "execution_count": 60,
     "metadata": {},
     "output_type": "execute_result"
    }
   ],
   "source": [
    "conv.say(\"What was the date when Anna Von Massenbach was starting her experience\")"
   ]
  },
  {
   "cell_type": "code",
   "execution_count": 61,
   "metadata": {},
   "outputs": [
    {
     "data": {
      "text/plain": [
       "[\"Allison Lydon's date of hire was 2015-02-16\"]"
      ]
     },
     "execution_count": 61,
     "metadata": {},
     "output_type": "execute_result"
    }
   ],
   "source": [
    "conv.say(\"The date was what when Allison Lydon began her experience at the company\")"
   ]
  },
  {
   "cell_type": "code",
   "execution_count": 62,
   "metadata": {},
   "outputs": [
    {
     "data": {
      "text/plain": [
       "['Based on your criteria, the average salary is $35.04']"
      ]
     },
     "execution_count": 62,
     "metadata": {},
     "output_type": "execute_result"
    }
   ],
   "source": [
    "conv.say(\"among all of the employees that found their job from an internet search, what is the average salary?\")"
   ]
  },
  {
   "cell_type": "code",
   "execution_count": 63,
   "metadata": {},
   "outputs": [
    {
     "data": {
      "text/plain": [
       "['Here are some employees that match your criteria: Rosalie Hutter']"
      ]
     },
     "execution_count": 63,
     "metadata": {},
     "output_type": "execute_result"
    }
   ],
   "source": [
    "conv.say(\"youngest employee\")"
   ]
  },
  {
   "cell_type": "code",
   "execution_count": 64,
   "metadata": {},
   "outputs": [
    {
     "data": {
      "text/plain": [
       "['Based on your criteria, the average salary is $31.0']"
      ]
     },
     "execution_count": 64,
     "metadata": {},
     "output_type": "execute_result"
    }
   ],
   "source": [
    "conv.say(\"What is the typical compensation for company employees born after 1980 but before 1990\")"
   ]
  },
  {
   "cell_type": "code",
   "execution_count": 68,
   "metadata": {},
   "outputs": [
    {
     "data": {
      "text/plain": [
       "{'text': 'What are workers born before 1985 typically paid',\n",
       " 'domain': 'salary',\n",
       " 'intent': 'get_salary_aggregate',\n",
       " 'entities': [{'text': 'born',\n",
       "   'type': 'dob',\n",
       "   'role': None,\n",
       "   'value': [{'cname': 'dob', 'score': 2.5007246, 'top_synonym': 'born on'}],\n",
       "   'span': {'start': 17, 'end': 20}},\n",
       "  {'text': 'before',\n",
       "   'type': 'date_compare',\n",
       "   'role': None,\n",
       "   'value': [{'cname': 'prev', 'score': 15.707399, 'top_synonym': 'before'}],\n",
       "   'span': {'start': 22, 'end': 27}},\n",
       "  {'text': '1985',\n",
       "   'type': 'sys_time',\n",
       "   'role': None,\n",
       "   'value': [{'value': '1985-01-01T00:00:00.000-08:00', 'grain': 'year'}],\n",
       "   'span': {'start': 29, 'end': 32}},\n",
       "  {'text': 'typically',\n",
       "   'type': 'function',\n",
       "   'role': None,\n",
       "   'value': [{'cname': 'average',\n",
       "     'score': 20.79151,\n",
       "     'top_synonym': 'typically'},\n",
       "    {'cname': 'sum', 'score': 2.7957556, 'top_synonym': 'totalled'}],\n",
       "   'span': {'start': 34, 'end': 42}},\n",
       "  {'text': 'paid',\n",
       "   'type': 'money',\n",
       "   'role': None,\n",
       "   'value': [],\n",
       "   'span': {'start': 44, 'end': 47}}]}"
      ]
     },
     "execution_count": 68,
     "metadata": {},
     "output_type": "execute_result"
    }
   ],
   "source": [
    "nlp.process(\"What are workers born before 1985 typically paid\")"
   ]
  },
  {
   "cell_type": "code",
   "execution_count": 66,
   "metadata": {},
   "outputs": [
    {
     "data": {
      "text/plain": [
       "['Based on your criteria, the average salary is $32.55']"
      ]
     },
     "execution_count": 66,
     "metadata": {},
     "output_type": "execute_result"
    }
   ],
   "source": [
    "conv.say(\"Of the employees born before 1970, what is the average pay\")"
   ]
  },
  {
   "cell_type": "code",
   "execution_count": 67,
   "metadata": {},
   "outputs": [
    {
     "data": {
      "text/plain": [
       "['Hmm, looks like you want a salary statistic. You can ask me about averages, sums, counts and percentages. For eg. what is the average salary for women?',\n",
       " 'Listening...']"
      ]
     },
     "execution_count": 67,
     "metadata": {},
     "output_type": "execute_result"
    }
   ],
   "source": [
    "conv.say(\"What is the average salary of employees hired last year\")"
   ]
  },
  {
   "cell_type": "code",
   "execution_count": null,
   "metadata": {},
   "outputs": [],
   "source": []
  }
 ],
 "metadata": {
  "kernelspec": {
   "display_name": "Python 3",
   "language": "python",
   "name": "python3"
  },
  "language_info": {
   "codemirror_mode": {
    "name": "ipython",
    "version": 3
   },
   "file_extension": ".py",
   "mimetype": "text/x-python",
   "name": "python",
   "nbconvert_exporter": "python",
   "pygments_lexer": "ipython3",
   "version": "3.6.8"
  }
 },
 "nbformat": 4,
 "nbformat_minor": 2
}
