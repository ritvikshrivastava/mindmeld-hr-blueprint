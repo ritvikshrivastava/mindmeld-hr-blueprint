{
 "cells": [
  {
   "cell_type": "code",
   "execution_count": 1,
   "metadata": {},
   "outputs": [
    {
     "name": "stderr",
     "output_type": "stream",
     "text": [
      "/anaconda3/envs/mindmeld2/lib/python3.6/site-packages/sklearn/ensemble/weight_boosting.py:29: DeprecationWarning: numpy.core.umath_tests is an internal NumPy module and should not be imported. It will be removed in a future NumPy release.\n",
      "  from numpy.core.umath_tests import inner1d\n"
     ]
    }
   ],
   "source": [
    "from mindmeld import configure_logs; configure_logs()"
   ]
  },
  {
   "cell_type": "code",
   "execution_count": 2,
   "metadata": {},
   "outputs": [
    {
     "name": "stderr",
     "output_type": "stream",
     "text": [
      "/anaconda3/envs/mindmeld2/lib/python3.6/site-packages/mindmeld/_version.py:64: MindMeldVersionWarning: Current mindmeld (4.1.1) does not satisfy mindmeld==4.1.0 in pip requirements caused by (mindmeld 4.1.1 (/anaconda3/envs/mindmeld2/lib/python3.6/site-packages), Requirement.parse('mindmeld==4.1.0'))\n",
      "  warnings.warn(error_msg, category=MindMeldVersionWarning)\n"
     ]
    },
    {
     "data": {
      "text/plain": [
       "<NaturalLanguageProcessor './hr_assistant' ready: False, dirty: False>"
      ]
     },
     "execution_count": 2,
     "metadata": {},
     "output_type": "execute_result"
    }
   ],
   "source": [
    "from mindmeld.components.nlp import NaturalLanguageProcessor\n",
    "nlp = NaturalLanguageProcessor(app_path='./hr_assistant')\n",
    "nlp"
   ]
  },
  {
   "cell_type": "code",
   "execution_count": 3,
   "metadata": {},
   "outputs": [
    {
     "name": "stdout",
     "output_type": "stream",
     "text": [
      "Fitting domain classifier\n",
      "Loading raw queries from file ./hr_assistant/domains/date/get_date/train.txt\n",
      "Loading raw queries from file ./hr_assistant/domains/date/get_date_range_aggregate/train.txt\n",
      "Loading raw queries from file ./hr_assistant/domains/date/get_date_range_employees/train.txt\n",
      "Loading raw queries from file ./hr_assistant/domains/general/get_aggregate/train.txt\n",
      "Loading raw queries from file ./hr_assistant/domains/general/get_employees/train.txt\n",
      "Loading raw queries from file ./hr_assistant/domains/general/get_info/train.txt\n",
      "Loading raw queries from file ./hr_assistant/domains/hierarchy/get_hierarchy/train.txt\n",
      "Loading raw queries from file ./hr_assistant/domains/salary/get_salary/train.txt\n",
      "Loading raw queries from file ./hr_assistant/domains/salary/get_salary_aggregate/train.txt\n",
      "Loading raw queries from file ./hr_assistant/domains/salary/get_salary_employees/train.txt\n",
      "Loading raw queries from file ./hr_assistant/domains/unsupported/unsupported/train.txt\n",
      "Loading queries from file ./hr_assistant/domains/date/get_date/train.txt\n",
      "Loading queries from file ./hr_assistant/domains/date/get_date_range_aggregate/train.txt\n",
      "Loading queries from file ./hr_assistant/domains/date/get_date_range_employees/train.txt\n",
      "Loading queries from file ./hr_assistant/domains/general/get_aggregate/train.txt\n",
      "Loading queries from file ./hr_assistant/domains/general/get_employees/train.txt\n",
      "Unknown entity 'race' found in query 'show me multi-racial employees'\n",
      "Loading queries from file ./hr_assistant/domains/general/get_info/train.txt\n",
      "Loading queries from file ./hr_assistant/domains/hierarchy/get_hierarchy/train.txt\n",
      "Loading queries from file ./hr_assistant/domains/salary/get_salary/train.txt\n",
      "Loading queries from file ./hr_assistant/domains/salary/get_salary_aggregate/train.txt\n",
      "Loading queries from file ./hr_assistant/domains/salary/get_salary_employees/train.txt\n",
      "Loading queries from file ./hr_assistant/domains/unsupported/unsupported/train.txt\n",
      "Fitting intent classifier: domain='salary'\n",
      "Selecting hyperparameters using k-fold cross-validation with 5 splits\n",
      "Best accuracy: 96.84%, params: {'C': 100, 'class_weight': {0: 0.8294469357249626, 1: 1.1142528735632182, 2: 1.1555555555555554}, 'fit_intercept': True}\n",
      "Fitting entity recognizer: domain='salary', intent='get_salary'\n",
      "No entity model configuration set. Using default.\n",
      "Selecting hyperparameters using k-fold cross-validation with 5 splits\n",
      "Best accuracy: 98.30%, params: {'C': 1000000, 'penalty': 'l2'}\n",
      "No entity_resolution model configuration set. Using default.\n",
      "No entity_resolution model configuration set. Using default.\n",
      "No entity_resolution model configuration set. Using default.\n",
      "No entity_resolution model configuration set. Using default.\n",
      "No entity_resolution model configuration set. Using default.\n",
      "No entity_resolution model configuration set. Using default.\n",
      "No entity_resolution model configuration set. Using default.\n",
      "No entity_resolution model configuration set. Using default.\n",
      "No entity_resolution model configuration set. Using default.\n",
      "No entity_resolution model configuration set. Using default.\n",
      "Fitting role classifier: domain='salary', intent='get_salary', entity_type='sys_duration'\n",
      "No role model configuration set. Using default.\n",
      "Fitting role classifier: domain='salary', intent='get_salary', entity_type='sys_time'\n",
      "No role model configuration set. Using default.\n",
      "Fitting role classifier: domain='salary', intent='get_salary', entity_type='employment_action'\n",
      "No role model configuration set. Using default.\n",
      "Importing synonym data to synonym index 'synonym_employment_action'\n",
      "Elasticsearch index 'synonym_employment_action' for application 'hr_assistant' already exists!\n",
      "Loading index 'synonym_employment_action'\n"
     ]
    },
    {
     "name": "stderr",
     "output_type": "stream",
     "text": [
      "100%|██████████| 2/2 [00:00<00:00, 47.05it/s]"
     ]
    },
    {
     "name": "stdout",
     "output_type": "stream",
     "text": [
      "Loaded 2 documents\n",
      "Fitting role classifier: domain='salary', intent='get_salary', entity_type='time_recur'\n",
      "No role model configuration set. Using default.\n",
      "Importing synonym data to synonym index 'synonym_time_recur'\n",
      "Elasticsearch index 'synonym_time_recur' for application 'hr_assistant' already exists!\n",
      "Loading index 'synonym_time_recur'\n"
     ]
    },
    {
     "name": "stderr",
     "output_type": "stream",
     "text": [
      "\n",
      "100%|██████████| 5/5 [00:00<00:00, 96.70it/s]"
     ]
    },
    {
     "name": "stdout",
     "output_type": "stream",
     "text": [
      "Loaded 5 documents\n",
      "Fitting role classifier: domain='salary', intent='get_salary', entity_type='name'\n",
      "No role model configuration set. Using default.\n",
      "Importing synonym data to synonym index 'synonym_name'\n",
      "Elasticsearch index 'synonym_name' for application 'hr_assistant' already exists!\n",
      "Loading index 'synonym_name'\n"
     ]
    },
    {
     "name": "stderr",
     "output_type": "stream",
     "text": [
      "\n",
      "100%|██████████| 245/245 [00:00<00:00, 997.62it/s]"
     ]
    },
    {
     "name": "stdout",
     "output_type": "stream",
     "text": [
      "Loaded 245 documents\n",
      "Fitting role classifier: domain='salary', intent='get_salary', entity_type='comparator'\n",
      "No role model configuration set. Using default.\n",
      "Importing synonym data to synonym index 'synonym_comparator'\n",
      "Elasticsearch index 'synonym_comparator' for application 'hr_assistant' already exists!\n",
      "Loading index 'synonym_comparator'\n"
     ]
    },
    {
     "name": "stderr",
     "output_type": "stream",
     "text": [
      "\n",
      "100%|██████████| 4/4 [00:00<00:00, 120.82it/s]"
     ]
    },
    {
     "name": "stdout",
     "output_type": "stream",
     "text": [
      "Loaded 4 documents\n",
      "Fitting role classifier: domain='salary', intent='get_salary', entity_type='sys_amount-of-money'\n",
      "No role model configuration set. Using default.\n",
      "Fitting role classifier: domain='salary', intent='get_salary', entity_type='sys_number'\n",
      "No role model configuration set. Using default.\n",
      "Fitting role classifier: domain='salary', intent='get_salary', entity_type='extreme'\n",
      "No role model configuration set. Using default.\n"
     ]
    },
    {
     "name": "stderr",
     "output_type": "stream",
     "text": [
      "\n"
     ]
    },
    {
     "name": "stdout",
     "output_type": "stream",
     "text": [
      "Importing synonym data to synonym index 'synonym_extreme'\n",
      "Elasticsearch index 'synonym_extreme' for application 'hr_assistant' already exists!\n",
      "Loading index 'synonym_extreme'\n"
     ]
    },
    {
     "name": "stderr",
     "output_type": "stream",
     "text": [
      "100%|██████████| 2/2 [00:00<00:00, 52.67it/s]"
     ]
    },
    {
     "name": "stdout",
     "output_type": "stream",
     "text": [
      "Loaded 2 documents\n",
      "Fitting role classifier: domain='salary', intent='get_salary', entity_type='money'\n",
      "No role model configuration set. Using default.\n",
      "Importing synonym data to synonym index 'synonym_money'\n",
      "Elasticsearch index 'synonym_money' for application 'hr_assistant' already exists!\n",
      "Loading index 'synonym_money'\n"
     ]
    },
    {
     "name": "stderr",
     "output_type": "stream",
     "text": [
      "\n",
      "100%|██████████| 1/1 [00:00<00:00, 48.20it/s]"
     ]
    },
    {
     "name": "stdout",
     "output_type": "stream",
     "text": [
      "Loaded 1 document\n",
      "Fitting entity recognizer: domain='salary', intent='get_salary_employees'\n",
      "No entity model configuration set. Using default.\n"
     ]
    },
    {
     "name": "stderr",
     "output_type": "stream",
     "text": [
      "\n"
     ]
    },
    {
     "name": "stdout",
     "output_type": "stream",
     "text": [
      "Selecting hyperparameters using k-fold cross-validation with 5 splits\n",
      "Best accuracy: 92.71%, params: {'C': 100, 'penalty': 'l1'}\n",
      "No entity_resolution model configuration set. Using default.\n",
      "No entity_resolution model configuration set. Using default.\n",
      "No entity_resolution model configuration set. Using default.\n",
      "No entity_resolution model configuration set. Using default.\n",
      "No entity_resolution model configuration set. Using default.\n",
      "No entity_resolution model configuration set. Using default.\n",
      "No entity_resolution model configuration set. Using default.\n",
      "No entity_resolution model configuration set. Using default.\n",
      "No entity_resolution model configuration set. Using default.\n",
      "No entity_resolution model configuration set. Using default.\n",
      "No entity_resolution model configuration set. Using default.\n",
      "No entity_resolution model configuration set. Using default.\n",
      "No entity_resolution model configuration set. Using default.\n",
      "No entity_resolution model configuration set. Using default.\n",
      "No entity_resolution model configuration set. Using default.\n",
      "No entity_resolution model configuration set. Using default.\n",
      "No entity_resolution model configuration set. Using default.\n",
      "No entity_resolution model configuration set. Using default.\n",
      "No entity_resolution model configuration set. Using default.\n",
      "No entity_resolution model configuration set. Using default.\n",
      "Fitting role classifier: domain='salary', intent='get_salary_employees', entity_type='function'\n",
      "No role model configuration set. Using default.\n",
      "Importing synonym data to synonym index 'synonym_function'\n",
      "Elasticsearch index 'synonym_function' for application 'hr_assistant' already exists!\n",
      "Loading index 'synonym_function'\n"
     ]
    },
    {
     "name": "stderr",
     "output_type": "stream",
     "text": [
      "100%|██████████| 4/4 [00:00<00:00, 137.72it/s]"
     ]
    },
    {
     "name": "stdout",
     "output_type": "stream",
     "text": [
      "Loaded 4 documents\n",
      "Fitting role classifier: domain='salary', intent='get_salary_employees', entity_type='sys_time'\n",
      "No role model configuration set. Using default.\n",
      "Fitting role classifier: domain='salary', intent='get_salary_employees', entity_type='sex'\n",
      "No role model configuration set. Using default.\n",
      "Importing synonym data to synonym index 'synonym_sex'\n",
      "Elasticsearch index 'synonym_sex' for application 'hr_assistant' already exists!\n",
      "Loading index 'synonym_sex'\n"
     ]
    },
    {
     "name": "stderr",
     "output_type": "stream",
     "text": [
      "\n",
      "100%|██████████| 2/2 [00:00<00:00, 87.05it/s]"
     ]
    },
    {
     "name": "stdout",
     "output_type": "stream",
     "text": [
      "Loaded 2 documents\n",
      "Fitting role classifier: domain='salary', intent='get_salary_employees', entity_type='sys_duration'\n",
      "No role model configuration set. Using default.\n",
      "Fitting role classifier: domain='salary', intent='get_salary_employees', entity_type='department'\n",
      "No role model configuration set. Using default.\n",
      "Importing synonym data to synonym index 'synonym_department'\n",
      "Elasticsearch index 'synonym_department' for application 'hr_assistant' already exists!\n",
      "Loading index 'synonym_department'\n"
     ]
    },
    {
     "name": "stderr",
     "output_type": "stream",
     "text": [
      "\n",
      "100%|██████████| 6/6 [00:00<00:00, 230.22it/s]"
     ]
    },
    {
     "name": "stdout",
     "output_type": "stream",
     "text": [
      "Loaded 6 documents\n",
      "Fitting role classifier: domain='salary', intent='get_salary_employees', entity_type='date_compare'\n",
      "No role model configuration set. Using default.\n",
      "Importing synonym data to synonym index 'synonym_date_compare'\n",
      "Elasticsearch index 'synonym_date_compare' for application 'hr_assistant' already exists!\n",
      "Loading index 'synonym_date_compare'\n"
     ]
    },
    {
     "name": "stderr",
     "output_type": "stream",
     "text": [
      "\n",
      "100%|██████████| 2/2 [00:00<00:00, 54.19it/s]"
     ]
    },
    {
     "name": "stdout",
     "output_type": "stream",
     "text": [
      "Loaded 2 documents\n",
      "Fitting role classifier: domain='salary', intent='get_salary_employees', entity_type='employment_action'\n",
      "No role model configuration set. Using default.\n"
     ]
    },
    {
     "name": "stderr",
     "output_type": "stream",
     "text": [
      "\n"
     ]
    },
    {
     "name": "stdout",
     "output_type": "stream",
     "text": [
      "Importing synonym data to synonym index 'synonym_employment_action'\n",
      "Elasticsearch index 'synonym_employment_action' for application 'hr_assistant' already exists!\n",
      "Loading index 'synonym_employment_action'\n"
     ]
    },
    {
     "name": "stderr",
     "output_type": "stream",
     "text": [
      "100%|██████████| 2/2 [00:00<00:00, 58.11it/s]"
     ]
    },
    {
     "name": "stdout",
     "output_type": "stream",
     "text": [
      "Loaded 2 documents\n",
      "Fitting role classifier: domain='salary', intent='get_salary_employees', entity_type='employment_status'\n",
      "No role model configuration set. Using default.\n",
      "Importing synonym data to synonym index 'synonym_employment_status'\n",
      "Elasticsearch index 'synonym_employment_status' for application 'hr_assistant' already exists!\n",
      "Loading index 'synonym_employment_status'\n"
     ]
    },
    {
     "name": "stderr",
     "output_type": "stream",
     "text": [
      "\n",
      "100%|██████████| 5/5 [00:00<00:00, 132.39it/s]"
     ]
    },
    {
     "name": "stdout",
     "output_type": "stream",
     "text": [
      "Loaded 5 documents\n",
      "Fitting role classifier: domain='salary', intent='get_salary_employees', entity_type='citizendesc'\n",
      "No role model configuration set. Using default.\n",
      "Importing synonym data to synonym index 'synonym_citizendesc'\n",
      "Elasticsearch index 'synonym_citizendesc' for application 'hr_assistant' already exists!\n",
      "Loading index 'synonym_citizendesc'\n"
     ]
    },
    {
     "name": "stderr",
     "output_type": "stream",
     "text": [
      "\n",
      "100%|██████████| 3/3 [00:00<00:00, 88.00it/s]"
     ]
    },
    {
     "name": "stdout",
     "output_type": "stream",
     "text": [
      "Loaded 3 documents\n",
      "Fitting role classifier: domain='salary', intent='get_salary_employees', entity_type='sys_amount-of-money'\n",
      "No role model configuration set. Using default.\n",
      "Fitting role classifier: domain='salary', intent='get_salary_employees', entity_type='position'\n",
      "No role model configuration set. Using default.\n",
      "Importing synonym data to synonym index 'synonym_position'\n"
     ]
    },
    {
     "name": "stderr",
     "output_type": "stream",
     "text": [
      "\n"
     ]
    },
    {
     "name": "stdout",
     "output_type": "stream",
     "text": [
      "Elasticsearch index 'synonym_position' for application 'hr_assistant' already exists!\n",
      "Loading index 'synonym_position'\n"
     ]
    },
    {
     "name": "stderr",
     "output_type": "stream",
     "text": [
      "100%|██████████| 24/24 [00:00<00:00, 371.29it/s]"
     ]
    },
    {
     "name": "stdout",
     "output_type": "stream",
     "text": [
      "Loaded 24 documents\n",
      "Fitting role classifier: domain='salary', intent='get_salary_employees', entity_type='comparator'\n",
      "No role model configuration set. Using default.\n",
      "Importing synonym data to synonym index 'synonym_comparator'\n",
      "Elasticsearch index 'synonym_comparator' for application 'hr_assistant' already exists!\n",
      "Loading index 'synonym_comparator'\n"
     ]
    },
    {
     "name": "stderr",
     "output_type": "stream",
     "text": [
      "\n",
      "100%|██████████| 4/4 [00:00<00:00, 103.67it/s]"
     ]
    },
    {
     "name": "stdout",
     "output_type": "stream",
     "text": [
      "Loaded 4 documents\n",
      "Fitting role classifier: domain='salary', intent='get_salary_employees', entity_type='name'\n",
      "No role model configuration set. Using default.\n",
      "Importing synonym data to synonym index 'synonym_name'\n",
      "Elasticsearch index 'synonym_name' for application 'hr_assistant' already exists!\n",
      "Loading index 'synonym_name'\n"
     ]
    },
    {
     "name": "stderr",
     "output_type": "stream",
     "text": [
      "\n",
      "100%|██████████| 245/245 [00:00<00:00, 950.30it/s]"
     ]
    },
    {
     "name": "stdout",
     "output_type": "stream",
     "text": [
      "Loaded 245 documents\n",
      "Fitting role classifier: domain='salary', intent='get_salary_employees', entity_type='time_recur'\n",
      "No role model configuration set. Using default.\n",
      "Importing synonym data to synonym index 'synonym_time_recur'\n",
      "Elasticsearch index 'synonym_time_recur' for application 'hr_assistant' already exists!\n",
      "Loading index 'synonym_time_recur'\n"
     ]
    },
    {
     "name": "stderr",
     "output_type": "stream",
     "text": [
      "\n",
      "100%|██████████| 5/5 [00:00<00:00, 124.34it/s]"
     ]
    },
    {
     "name": "stdout",
     "output_type": "stream",
     "text": [
      "Loaded 5 documents\n",
      "Fitting role classifier: domain='salary', intent='get_salary_employees', entity_type='extreme'\n",
      "No role model configuration set. Using default.\n",
      "Importing synonym data to synonym index 'synonym_extreme'\n",
      "Elasticsearch index 'synonym_extreme' for application 'hr_assistant' already exists!\n",
      "Loading index 'synonym_extreme'\n"
     ]
    },
    {
     "name": "stderr",
     "output_type": "stream",
     "text": [
      "\n",
      "100%|██████████| 2/2 [00:00<00:00, 101.56it/s]"
     ]
    },
    {
     "name": "stdout",
     "output_type": "stream",
     "text": [
      "Loaded 2 documents\n",
      "Fitting role classifier: domain='salary', intent='get_salary_employees', entity_type='sys_number'\n",
      "No role model configuration set. Using default.\n",
      "Fitting role classifier: domain='salary', intent='get_salary_employees', entity_type='employee_source'\n",
      "No role model configuration set. Using default.\n",
      "Importing synonym data to synonym index 'synonym_employee_source'\n",
      "Elasticsearch index 'synonym_employee_source' for application 'hr_assistant' already exists!\n",
      "Loading index 'synonym_employee_source'\n"
     ]
    },
    {
     "name": "stderr",
     "output_type": "stream",
     "text": [
      "\n",
      "100%|██████████| 20/20 [00:00<00:00, 405.80it/s]"
     ]
    },
    {
     "name": "stdout",
     "output_type": "stream",
     "text": [
      "Loaded 20 documents\n",
      "Fitting role classifier: domain='salary', intent='get_salary_employees', entity_type='manager'\n",
      "No role model configuration set. Using default.\n",
      "Importing synonym data to synonym index 'synonym_manager'\n",
      "Elasticsearch index 'synonym_manager' for application 'hr_assistant' already exists!\n",
      "Loading index 'synonym_manager'\n"
     ]
    },
    {
     "name": "stderr",
     "output_type": "stream",
     "text": [
      "\n",
      "100%|██████████| 1/1 [00:00<00:00, 54.24it/s]"
     ]
    },
    {
     "name": "stdout",
     "output_type": "stream",
     "text": [
      "Loaded 1 document\n",
      "Fitting role classifier: domain='salary', intent='get_salary_employees', entity_type='racedesc'\n",
      "No role model configuration set. Using default.\n",
      "Importing synonym data to synonym index 'synonym_racedesc'\n",
      "Elasticsearch index 'synonym_racedesc' for application 'hr_assistant' already exists!\n",
      "Loading index 'synonym_racedesc'\n"
     ]
    },
    {
     "name": "stderr",
     "output_type": "stream",
     "text": [
      "\n",
      "100%|██████████| 6/6 [00:00<00:00, 72.36it/s]"
     ]
    },
    {
     "name": "stdout",
     "output_type": "stream",
     "text": [
      "Loaded 6 documents\n",
      "Fitting role classifier: domain='salary', intent='get_salary_employees', entity_type='money'\n",
      "No role model configuration set. Using default.\n",
      "Importing synonym data to synonym index 'synonym_money'\n",
      "Elasticsearch index 'synonym_money' for application 'hr_assistant' already exists!\n",
      "Loading index 'synonym_money'\n"
     ]
    },
    {
     "name": "stderr",
     "output_type": "stream",
     "text": [
      "\n",
      "100%|██████████| 1/1 [00:00<00:00, 41.95it/s]"
     ]
    },
    {
     "name": "stdout",
     "output_type": "stream",
     "text": [
      "Loaded 1 document\n",
      "Fitting entity recognizer: domain='salary', intent='get_salary_aggregate'\n",
      "No entity model configuration set. Using default.\n"
     ]
    },
    {
     "name": "stderr",
     "output_type": "stream",
     "text": [
      "\n"
     ]
    },
    {
     "name": "stdout",
     "output_type": "stream",
     "text": [
      "Selecting hyperparameters using k-fold cross-validation with 5 splits\n",
      "Best accuracy: 92.40%, params: {'C': 100, 'penalty': 'l1'}\n",
      "No entity_resolution model configuration set. Using default.\n",
      "No entity_resolution model configuration set. Using default.\n",
      "No entity_resolution model configuration set. Using default.\n",
      "No entity_resolution model configuration set. Using default.\n",
      "No entity_resolution model configuration set. Using default.\n",
      "No entity_resolution model configuration set. Using default.\n",
      "No entity_resolution model configuration set. Using default.\n",
      "No entity_resolution model configuration set. Using default.\n",
      "No entity_resolution model configuration set. Using default.\n",
      "No entity_resolution model configuration set. Using default.\n",
      "No entity_resolution model configuration set. Using default.\n",
      "No entity_resolution model configuration set. Using default.\n",
      "No entity_resolution model configuration set. Using default.\n",
      "No entity_resolution model configuration set. Using default.\n",
      "No entity_resolution model configuration set. Using default.\n",
      "No entity_resolution model configuration set. Using default.\n",
      "No entity_resolution model configuration set. Using default.\n",
      "No entity_resolution model configuration set. Using default.\n",
      "No entity_resolution model configuration set. Using default.\n",
      "No entity_resolution model configuration set. Using default.\n",
      "Fitting role classifier: domain='salary', intent='get_salary_aggregate', entity_type='function'\n",
      "No role model configuration set. Using default.\n",
      "Importing synonym data to synonym index 'synonym_function'\n",
      "Elasticsearch index 'synonym_function' for application 'hr_assistant' already exists!\n",
      "Loading index 'synonym_function'\n"
     ]
    },
    {
     "name": "stderr",
     "output_type": "stream",
     "text": [
      "100%|██████████| 4/4 [00:00<00:00, 127.30it/s]"
     ]
    },
    {
     "name": "stdout",
     "output_type": "stream",
     "text": [
      "Loaded 4 documents\n",
      "Fitting role classifier: domain='salary', intent='get_salary_aggregate', entity_type='sys_time'\n",
      "No role model configuration set. Using default.\n",
      "Fitting role classifier: domain='salary', intent='get_salary_aggregate', entity_type='sex'\n",
      "No role model configuration set. Using default.\n",
      "Importing synonym data to synonym index 'synonym_sex'\n",
      "Elasticsearch index 'synonym_sex' for application 'hr_assistant' already exists!\n",
      "Loading index 'synonym_sex'\n"
     ]
    },
    {
     "name": "stderr",
     "output_type": "stream",
     "text": [
      "\n",
      "100%|██████████| 2/2 [00:00<00:00, 88.11it/s]"
     ]
    },
    {
     "name": "stdout",
     "output_type": "stream",
     "text": [
      "Loaded 2 documents\n",
      "Fitting role classifier: domain='salary', intent='get_salary_aggregate', entity_type='sys_duration'\n",
      "No role model configuration set. Using default.\n",
      "Fitting role classifier: domain='salary', intent='get_salary_aggregate', entity_type='department'\n",
      "No role model configuration set. Using default.\n",
      "Importing synonym data to synonym index 'synonym_department'\n",
      "Elasticsearch index 'synonym_department' for application 'hr_assistant' already exists!\n",
      "Loading index 'synonym_department'\n"
     ]
    },
    {
     "name": "stderr",
     "output_type": "stream",
     "text": [
      "\n",
      "100%|██████████| 6/6 [00:00<00:00, 192.75it/s]"
     ]
    },
    {
     "name": "stdout",
     "output_type": "stream",
     "text": [
      "Loaded 6 documents\n",
      "Fitting role classifier: domain='salary', intent='get_salary_aggregate', entity_type='date_compare'\n",
      "No role model configuration set. Using default.\n",
      "Importing synonym data to synonym index 'synonym_date_compare'\n",
      "Elasticsearch index 'synonym_date_compare' for application 'hr_assistant' already exists!\n",
      "Loading index 'synonym_date_compare'\n"
     ]
    },
    {
     "name": "stderr",
     "output_type": "stream",
     "text": [
      "\n",
      "100%|██████████| 2/2 [00:00<00:00, 92.87it/s]"
     ]
    },
    {
     "name": "stdout",
     "output_type": "stream",
     "text": [
      "Loaded 2 documents\n",
      "Fitting role classifier: domain='salary', intent='get_salary_aggregate', entity_type='dob'\n",
      "No role model configuration set. Using default.\n",
      "Importing synonym data to synonym index 'synonym_dob'\n",
      "Elasticsearch index 'synonym_dob' for application 'hr_assistant' already exists!\n",
      "Loading index 'synonym_dob'\n"
     ]
    },
    {
     "name": "stderr",
     "output_type": "stream",
     "text": [
      "\n",
      "100%|██████████| 1/1 [00:00<00:00, 57.85it/s]"
     ]
    },
    {
     "name": "stdout",
     "output_type": "stream",
     "text": [
      "Loaded 1 document\n",
      "Fitting role classifier: domain='salary', intent='get_salary_aggregate', entity_type='employment_action'\n",
      "No role model configuration set. Using default.\n",
      "Importing synonym data to synonym index 'synonym_employment_action'\n",
      "Elasticsearch index 'synonym_employment_action' for application 'hr_assistant' already exists!\n",
      "Loading index 'synonym_employment_action'\n"
     ]
    },
    {
     "name": "stderr",
     "output_type": "stream",
     "text": [
      "\n",
      "100%|██████████| 2/2 [00:00<00:00, 77.52it/s]"
     ]
    },
    {
     "name": "stdout",
     "output_type": "stream",
     "text": [
      "Loaded 2 documents\n",
      "Fitting role classifier: domain='salary', intent='get_salary_aggregate', entity_type='citizendesc'\n",
      "No role model configuration set. Using default.\n",
      "Importing synonym data to synonym index 'synonym_citizendesc'\n",
      "Elasticsearch index 'synonym_citizendesc' for application 'hr_assistant' already exists!\n",
      "Loading index 'synonym_citizendesc'\n"
     ]
    },
    {
     "name": "stderr",
     "output_type": "stream",
     "text": [
      "\n",
      "100%|██████████| 3/3 [00:00<00:00, 99.87it/s]"
     ]
    },
    {
     "name": "stdout",
     "output_type": "stream",
     "text": [
      "Loaded 3 documents\n",
      "Fitting role classifier: domain='salary', intent='get_salary_aggregate', entity_type='time_recur'\n",
      "No role model configuration set. Using default.\n",
      "Importing synonym data to synonym index 'synonym_time_recur'\n",
      "Elasticsearch index 'synonym_time_recur' for application 'hr_assistant' already exists!\n",
      "Loading index 'synonym_time_recur'\n"
     ]
    },
    {
     "name": "stderr",
     "output_type": "stream",
     "text": [
      "\n",
      "100%|██████████| 5/5 [00:00<00:00, 116.87it/s]"
     ]
    },
    {
     "name": "stdout",
     "output_type": "stream",
     "text": [
      "Loaded 5 documents\n",
      "Fitting role classifier: domain='salary', intent='get_salary_aggregate', entity_type='position'\n",
      "No role model configuration set. Using default.\n",
      "Importing synonym data to synonym index 'synonym_position'\n"
     ]
    },
    {
     "name": "stderr",
     "output_type": "stream",
     "text": [
      "\n"
     ]
    },
    {
     "name": "stdout",
     "output_type": "stream",
     "text": [
      "Elasticsearch index 'synonym_position' for application 'hr_assistant' already exists!\n",
      "Loading index 'synonym_position'\n"
     ]
    },
    {
     "name": "stderr",
     "output_type": "stream",
     "text": [
      "100%|██████████| 24/24 [00:00<00:00, 458.25it/s]"
     ]
    },
    {
     "name": "stdout",
     "output_type": "stream",
     "text": [
      "Loaded 24 documents\n",
      "Fitting role classifier: domain='salary', intent='get_salary_aggregate', entity_type='comparator'\n",
      "No role model configuration set. Using default.\n",
      "Importing synonym data to synonym index 'synonym_comparator'\n"
     ]
    },
    {
     "name": "stderr",
     "output_type": "stream",
     "text": [
      "\n"
     ]
    },
    {
     "name": "stdout",
     "output_type": "stream",
     "text": [
      "Elasticsearch index 'synonym_comparator' for application 'hr_assistant' already exists!\n",
      "Loading index 'synonym_comparator'\n"
     ]
    },
    {
     "name": "stderr",
     "output_type": "stream",
     "text": [
      "100%|██████████| 4/4 [00:00<00:00, 118.41it/s]"
     ]
    },
    {
     "name": "stdout",
     "output_type": "stream",
     "text": [
      "Loaded 4 documents\n",
      "Fitting role classifier: domain='salary', intent='get_salary_aggregate', entity_type='name'\n",
      "No role model configuration set. Using default.\n"
     ]
    },
    {
     "name": "stderr",
     "output_type": "stream",
     "text": [
      "\n"
     ]
    },
    {
     "name": "stdout",
     "output_type": "stream",
     "text": [
      "Importing synonym data to synonym index 'synonym_name'\n",
      "Elasticsearch index 'synonym_name' for application 'hr_assistant' already exists!\n",
      "Loading index 'synonym_name'\n"
     ]
    },
    {
     "name": "stderr",
     "output_type": "stream",
     "text": [
      "100%|██████████| 245/245 [00:00<00:00, 1039.85it/s]"
     ]
    },
    {
     "name": "stdout",
     "output_type": "stream",
     "text": [
      "Loaded 245 documents\n",
      "Fitting role classifier: domain='salary', intent='get_salary_aggregate', entity_type='sys_amount-of-money'\n",
      "No role model configuration set. Using default.\n",
      "Fitting role classifier: domain='salary', intent='get_salary_aggregate', entity_type='extreme'\n",
      "No role model configuration set. Using default.\n",
      "Importing synonym data to synonym index 'synonym_extreme'\n",
      "Elasticsearch index 'synonym_extreme' for application 'hr_assistant' already exists!\n",
      "Loading index 'synonym_extreme'\n"
     ]
    },
    {
     "name": "stderr",
     "output_type": "stream",
     "text": [
      "\n",
      "100%|██████████| 2/2 [00:00<00:00, 84.90it/s]"
     ]
    },
    {
     "name": "stdout",
     "output_type": "stream",
     "text": [
      "Loaded 2 documents\n",
      "Fitting role classifier: domain='salary', intent='get_salary_aggregate', entity_type='sys_number'\n",
      "No role model configuration set. Using default.\n",
      "Fitting role classifier: domain='salary', intent='get_salary_aggregate', entity_type='employee_source'\n",
      "No role model configuration set. Using default.\n",
      "Importing synonym data to synonym index 'synonym_employee_source'\n"
     ]
    },
    {
     "name": "stderr",
     "output_type": "stream",
     "text": [
      "\n"
     ]
    },
    {
     "name": "stdout",
     "output_type": "stream",
     "text": [
      "Elasticsearch index 'synonym_employee_source' for application 'hr_assistant' already exists!\n",
      "Loading index 'synonym_employee_source'\n"
     ]
    },
    {
     "name": "stderr",
     "output_type": "stream",
     "text": [
      "100%|██████████| 20/20 [00:00<00:00, 269.79it/s]"
     ]
    },
    {
     "name": "stdout",
     "output_type": "stream",
     "text": [
      "Loaded 20 documents\n",
      "Fitting role classifier: domain='salary', intent='get_salary_aggregate', entity_type='state'\n",
      "No role model configuration set. Using default.\n",
      "Importing synonym data to synonym index 'synonym_state'\n",
      "Elasticsearch index 'synonym_state' for application 'hr_assistant' already exists!\n",
      "Loading index 'synonym_state'\n"
     ]
    },
    {
     "name": "stderr",
     "output_type": "stream",
     "text": [
      "\n",
      "100%|██████████| 28/28 [00:00<00:00, 755.28it/s]"
     ]
    },
    {
     "name": "stdout",
     "output_type": "stream",
     "text": [
      "Loaded 28 documents\n",
      "Fitting role classifier: domain='salary', intent='get_salary_aggregate', entity_type='manager'\n",
      "No role model configuration set. Using default.\n",
      "Importing synonym data to synonym index 'synonym_manager'\n",
      "Elasticsearch index 'synonym_manager' for application 'hr_assistant' already exists!\n",
      "Loading index 'synonym_manager'\n"
     ]
    },
    {
     "name": "stderr",
     "output_type": "stream",
     "text": [
      "\n",
      "100%|██████████| 1/1 [00:00<00:00, 46.63it/s]"
     ]
    },
    {
     "name": "stdout",
     "output_type": "stream",
     "text": [
      "Loaded 1 document\n",
      "Fitting role classifier: domain='salary', intent='get_salary_aggregate', entity_type='money'\n",
      "No role model configuration set. Using default.\n"
     ]
    },
    {
     "name": "stderr",
     "output_type": "stream",
     "text": [
      "\n"
     ]
    },
    {
     "name": "stdout",
     "output_type": "stream",
     "text": [
      "Importing synonym data to synonym index 'synonym_money'\n",
      "Elasticsearch index 'synonym_money' for application 'hr_assistant' already exists!\n",
      "Loading index 'synonym_money'\n"
     ]
    },
    {
     "name": "stderr",
     "output_type": "stream",
     "text": [
      "100%|██████████| 1/1 [00:00<00:00, 49.36it/s]"
     ]
    },
    {
     "name": "stdout",
     "output_type": "stream",
     "text": [
      "Loaded 1 document\n",
      "Fitting entity recognizer: domain='unsupported', intent='unsupported'\n",
      "No entity model configuration set. Using default.\n",
      "There are no labels in this label set, so we don't fit the model.\n",
      "Fitting intent classifier: domain='date'\n"
     ]
    },
    {
     "name": "stderr",
     "output_type": "stream",
     "text": [
      "\n"
     ]
    },
    {
     "name": "stdout",
     "output_type": "stream",
     "text": [
      "Selecting hyperparameters using k-fold cross-validation with 5 splits\n",
      "Best accuracy: 98.36%, params: {'C': 1, 'class_weight': {0: 0.8130522088353414, 1: 1.9378205128205128, 2: 0.8793650793650793}, 'fit_intercept': True}\n",
      "Fitting entity recognizer: domain='date', intent='get_date_range_employees'\n",
      "No entity model configuration set. Using default.\n",
      "Selecting hyperparameters using k-fold cross-validation with 5 splits\n",
      "Best accuracy: 93.04%, params: {'C': 1000000, 'penalty': 'l2'}\n",
      "No entity_resolution model configuration set. Using default.\n",
      "No entity_resolution model configuration set. Using default.\n",
      "No entity_resolution model configuration set. Using default.\n",
      "No entity_resolution model configuration set. Using default.\n",
      "No entity_resolution model configuration set. Using default.\n",
      "No entity_resolution model configuration set. Using default.\n",
      "No entity_resolution model configuration set. Using default.\n",
      "No entity_resolution model configuration set. Using default.\n",
      "No entity_resolution model configuration set. Using default.\n",
      "No entity_resolution model configuration set. Using default.\n",
      "No entity_resolution model configuration set. Using default.\n",
      "No entity_resolution model configuration set. Using default.\n",
      "No entity_resolution model configuration set. Using default.\n",
      "No entity_resolution model configuration set. Using default.\n",
      "No entity_resolution model configuration set. Using default.\n",
      "No entity_resolution model configuration set. Using default.\n",
      "No entity_resolution model configuration set. Using default.\n",
      "Fitting role classifier: domain='date', intent='get_date_range_employees', entity_type='dob'\n",
      "No role model configuration set. Using default.\n",
      "Importing synonym data to synonym index 'synonym_dob'\n",
      "Elasticsearch index 'synonym_dob' for application 'hr_assistant' already exists!\n",
      "Loading index 'synonym_dob'\n"
     ]
    },
    {
     "name": "stderr",
     "output_type": "stream",
     "text": [
      "100%|██████████| 1/1 [00:00<00:00, 43.73it/s]"
     ]
    },
    {
     "name": "stdout",
     "output_type": "stream",
     "text": [
      "Loaded 1 document\n",
      "Fitting role classifier: domain='date', intent='get_date_range_employees', entity_type='sex'\n",
      "No role model configuration set. Using default.\n",
      "Importing synonym data to synonym index 'synonym_sex'\n",
      "Elasticsearch index 'synonym_sex' for application 'hr_assistant' already exists!\n",
      "Loading index 'synonym_sex'\n"
     ]
    },
    {
     "name": "stderr",
     "output_type": "stream",
     "text": [
      "\n",
      "100%|██████████| 2/2 [00:00<00:00, 98.20it/s]"
     ]
    },
    {
     "name": "stdout",
     "output_type": "stream",
     "text": [
      "Loaded 2 documents\n",
      "Fitting role classifier: domain='date', intent='get_date_range_employees', entity_type='sys_time'\n",
      "No role model configuration set. Using default.\n",
      "Fitting role classifier: domain='date', intent='get_date_range_employees', entity_type='date_compare'\n",
      "No role model configuration set. Using default.\n",
      "Importing synonym data to synonym index 'synonym_date_compare'\n",
      "Elasticsearch index 'synonym_date_compare' for application 'hr_assistant' already exists!\n",
      "Loading index 'synonym_date_compare'\n"
     ]
    },
    {
     "name": "stderr",
     "output_type": "stream",
     "text": [
      "\n",
      "100%|██████████| 2/2 [00:00<00:00, 76.56it/s]"
     ]
    },
    {
     "name": "stdout",
     "output_type": "stream",
     "text": [
      "Loaded 2 documents\n",
      "Fitting role classifier: domain='date', intent='get_date_range_employees', entity_type='sys_duration'\n",
      "No role model configuration set. Using default.\n",
      "Fitting role classifier: domain='date', intent='get_date_range_employees', entity_type='department'\n",
      "No role model configuration set. Using default.\n",
      "Importing synonym data to synonym index 'synonym_department'\n",
      "Elasticsearch index 'synonym_department' for application 'hr_assistant' already exists!\n",
      "Loading index 'synonym_department'\n"
     ]
    },
    {
     "name": "stderr",
     "output_type": "stream",
     "text": [
      "\n",
      "100%|██████████| 6/6 [00:00<00:00, 189.29it/s]"
     ]
    },
    {
     "name": "stdout",
     "output_type": "stream",
     "text": [
      "Loaded 6 documents\n",
      "Fitting role classifier: domain='date', intent='get_date_range_employees', entity_type='employment_action'\n",
      "No role model configuration set. Using default.\n",
      "Importing synonym data to synonym index 'synonym_employment_action'\n",
      "Elasticsearch index 'synonym_employment_action' for application 'hr_assistant' already exists!\n",
      "Loading index 'synonym_employment_action'\n"
     ]
    },
    {
     "name": "stderr",
     "output_type": "stream",
     "text": [
      "\n",
      "100%|██████████| 2/2 [00:00<00:00, 77.51it/s]"
     ]
    },
    {
     "name": "stdout",
     "output_type": "stream",
     "text": [
      "Loaded 2 documents\n",
      "Fitting role classifier: domain='date', intent='get_date_range_employees', entity_type='time_interval'\n",
      "No role model configuration set. Using default.\n"
     ]
    },
    {
     "name": "stderr",
     "output_type": "stream",
     "text": [
      "\n"
     ]
    },
    {
     "name": "stdout",
     "output_type": "stream",
     "text": [
      "Importing synonym data to synonym index 'synonym_time_interval'\n",
      "Elasticsearch index 'synonym_time_interval' for application 'hr_assistant' already exists!\n",
      "Loading index 'synonym_time_interval'\n"
     ]
    },
    {
     "name": "stderr",
     "output_type": "stream",
     "text": [
      "100%|██████████| 10/10 [00:00<00:00, 211.48it/s]"
     ]
    },
    {
     "name": "stdout",
     "output_type": "stream",
     "text": [
      "Loaded 10 documents\n",
      "Fitting role classifier: domain='date', intent='get_date_range_employees', entity_type='citizendesc'\n",
      "No role model configuration set. Using default.\n",
      "Importing synonym data to synonym index 'synonym_citizendesc'\n",
      "Elasticsearch index 'synonym_citizendesc' for application 'hr_assistant' already exists!\n",
      "Loading index 'synonym_citizendesc'\n"
     ]
    },
    {
     "name": "stderr",
     "output_type": "stream",
     "text": [
      "\n",
      "100%|██████████| 3/3 [00:00<00:00, 118.21it/s]"
     ]
    },
    {
     "name": "stdout",
     "output_type": "stream",
     "text": [
      "Loaded 3 documents\n",
      "Fitting role classifier: domain='date', intent='get_date_range_employees', entity_type='position'\n",
      "No role model configuration set. Using default.\n",
      "Importing synonym data to synonym index 'synonym_position'\n",
      "Elasticsearch index 'synonym_position' for application 'hr_assistant' already exists!\n",
      "Loading index 'synonym_position'\n"
     ]
    },
    {
     "name": "stderr",
     "output_type": "stream",
     "text": [
      "\n",
      "100%|██████████| 24/24 [00:00<00:00, 644.35it/s]"
     ]
    },
    {
     "name": "stdout",
     "output_type": "stream",
     "text": [
      "Loaded 24 documents\n",
      "Fitting role classifier: domain='date', intent='get_date_range_employees', entity_type='comparator'\n",
      "No role model configuration set. Using default.\n",
      "Importing synonym data to synonym index 'synonym_comparator'\n",
      "Elasticsearch index 'synonym_comparator' for application 'hr_assistant' already exists!\n",
      "Loading index 'synonym_comparator'\n"
     ]
    },
    {
     "name": "stderr",
     "output_type": "stream",
     "text": [
      "\n",
      "100%|██████████| 4/4 [00:00<00:00, 198.96it/s]"
     ]
    },
    {
     "name": "stdout",
     "output_type": "stream",
     "text": [
      "Loaded 4 documents\n",
      "Fitting role classifier: domain='date', intent='get_date_range_employees', entity_type='sys_interval'\n",
      "No role model configuration set. Using default.\n",
      "Fitting role classifier: domain='date', intent='get_date_range_employees', entity_type='sys_number'\n",
      "No role model configuration set. Using default.\n"
     ]
    },
    {
     "name": "stderr",
     "output_type": "stream",
     "text": [
      "\n"
     ]
    },
    {
     "name": "stdout",
     "output_type": "stream",
     "text": [
      "Fitting role classifier: domain='date', intent='get_date_range_employees', entity_type='extreme'\n",
      "No role model configuration set. Using default.\n",
      "Importing synonym data to synonym index 'synonym_extreme'\n",
      "Elasticsearch index 'synonym_extreme' for application 'hr_assistant' already exists!\n",
      "Loading index 'synonym_extreme'\n"
     ]
    },
    {
     "name": "stderr",
     "output_type": "stream",
     "text": [
      "100%|██████████| 2/2 [00:00<00:00, 77.92it/s]"
     ]
    },
    {
     "name": "stdout",
     "output_type": "stream",
     "text": [
      "Loaded 2 documents\n",
      "Fitting role classifier: domain='date', intent='get_date_range_employees', entity_type='state'\n",
      "No role model configuration set. Using default.\n"
     ]
    },
    {
     "name": "stderr",
     "output_type": "stream",
     "text": [
      "\n"
     ]
    },
    {
     "name": "stdout",
     "output_type": "stream",
     "text": [
      "Importing synonym data to synonym index 'synonym_state'\n",
      "Elasticsearch index 'synonym_state' for application 'hr_assistant' already exists!\n",
      "Loading index 'synonym_state'\n"
     ]
    },
    {
     "name": "stderr",
     "output_type": "stream",
     "text": [
      "100%|██████████| 28/28 [00:00<00:00, 595.13it/s]"
     ]
    },
    {
     "name": "stdout",
     "output_type": "stream",
     "text": [
      "Loaded 28 documents\n",
      "Fitting role classifier: domain='date', intent='get_date_range_employees', entity_type='maritaldesc'\n",
      "No role model configuration set. Using default.\n",
      "Importing synonym data to synonym index 'synonym_maritaldesc'\n",
      "Elasticsearch index 'synonym_maritaldesc' for application 'hr_assistant' already exists!\n",
      "Loading index 'synonym_maritaldesc'\n"
     ]
    },
    {
     "name": "stderr",
     "output_type": "stream",
     "text": [
      "\n",
      "100%|██████████| 5/5 [00:00<00:00, 140.36it/s]"
     ]
    },
    {
     "name": "stdout",
     "output_type": "stream",
     "text": [
      "Loaded 5 documents\n",
      "Fitting role classifier: domain='date', intent='get_date_range_employees', entity_type='racedesc'\n",
      "No role model configuration set. Using default.\n",
      "Importing synonym data to synonym index 'synonym_racedesc'\n",
      "Elasticsearch index 'synonym_racedesc' for application 'hr_assistant' already exists!\n",
      "Loading index 'synonym_racedesc'\n"
     ]
    },
    {
     "name": "stderr",
     "output_type": "stream",
     "text": [
      "\n",
      "100%|██████████| 6/6 [00:00<00:00, 181.09it/s]"
     ]
    },
    {
     "name": "stdout",
     "output_type": "stream",
     "text": [
      "Loaded 6 documents\n"
     ]
    },
    {
     "name": "stderr",
     "output_type": "stream",
     "text": [
      "\n"
     ]
    },
    {
     "name": "stdout",
     "output_type": "stream",
     "text": [
      "Fitting entity recognizer: domain='date', intent='get_date'\n",
      "No entity model configuration set. Using default.\n",
      "Selecting hyperparameters using k-fold cross-validation with 5 splits\n",
      "Best accuracy: 95.57%, params: {'C': 100, 'penalty': 'l2'}\n",
      "No entity_resolution model configuration set. Using default.\n",
      "No entity_resolution model configuration set. Using default.\n",
      "No entity_resolution model configuration set. Using default.\n",
      "No entity_resolution model configuration set. Using default.\n",
      "No entity_resolution model configuration set. Using default.\n",
      "Fitting role classifier: domain='date', intent='get_date', entity_type='sys_time'\n",
      "No role model configuration set. Using default.\n",
      "Fitting role classifier: domain='date', intent='get_date', entity_type='sys_duration'\n",
      "No role model configuration set. Using default.\n",
      "Fitting role classifier: domain='date', intent='get_date', entity_type='dob'\n",
      "No role model configuration set. Using default.\n",
      "Importing synonym data to synonym index 'synonym_dob'\n",
      "Elasticsearch index 'synonym_dob' for application 'hr_assistant' already exists!\n",
      "Loading index 'synonym_dob'\n"
     ]
    },
    {
     "name": "stderr",
     "output_type": "stream",
     "text": [
      "100%|██████████| 1/1 [00:00<00:00, 45.43it/s]"
     ]
    },
    {
     "name": "stdout",
     "output_type": "stream",
     "text": [
      "Loaded 1 document\n",
      "Fitting role classifier: domain='date', intent='get_date', entity_type='employment_action'\n",
      "No role model configuration set. Using default.\n",
      "Importing synonym data to synonym index 'synonym_employment_action'\n",
      "Elasticsearch index 'synonym_employment_action' for application 'hr_assistant' already exists!\n",
      "Loading index 'synonym_employment_action'\n"
     ]
    },
    {
     "name": "stderr",
     "output_type": "stream",
     "text": [
      "\n",
      "100%|██████████| 2/2 [00:00<00:00, 77.81it/s]"
     ]
    },
    {
     "name": "stdout",
     "output_type": "stream",
     "text": [
      "Loaded 2 documents\n",
      "Fitting role classifier: domain='date', intent='get_date', entity_type='name'\n",
      "No role model configuration set. Using default.\n",
      "Importing synonym data to synonym index 'synonym_name'\n",
      "Elasticsearch index 'synonym_name' for application 'hr_assistant' already exists!\n",
      "Loading index 'synonym_name'\n"
     ]
    },
    {
     "name": "stderr",
     "output_type": "stream",
     "text": [
      "\n",
      "100%|██████████| 245/245 [00:00<00:00, 886.75it/s]"
     ]
    },
    {
     "name": "stdout",
     "output_type": "stream",
     "text": [
      "Loaded 245 documents\n",
      "Fitting entity recognizer: domain='date', intent='get_date_range_aggregate'\n",
      "No entity model configuration set. Using default.\n"
     ]
    },
    {
     "name": "stderr",
     "output_type": "stream",
     "text": [
      "\n"
     ]
    },
    {
     "name": "stdout",
     "output_type": "stream",
     "text": [
      "Selecting hyperparameters using k-fold cross-validation with 5 splits\n",
      "Best accuracy: 92.59%, params: {'C': 1000000, 'penalty': 'l1'}\n",
      "No entity_resolution model configuration set. Using default.\n",
      "No entity_resolution model configuration set. Using default.\n",
      "No entity_resolution model configuration set. Using default.\n",
      "No entity_resolution model configuration set. Using default.\n",
      "No entity_resolution model configuration set. Using default.\n",
      "No entity_resolution model configuration set. Using default.\n",
      "No entity_resolution model configuration set. Using default.\n",
      "No entity_resolution model configuration set. Using default.\n",
      "No entity_resolution model configuration set. Using default.\n",
      "No entity_resolution model configuration set. Using default.\n",
      "No entity_resolution model configuration set. Using default.\n",
      "Fitting role classifier: domain='date', intent='get_date_range_aggregate', entity_type='function'\n",
      "No role model configuration set. Using default.\n",
      "Importing synonym data to synonym index 'synonym_function'\n",
      "Elasticsearch index 'synonym_function' for application 'hr_assistant' already exists!\n",
      "Loading index 'synonym_function'\n"
     ]
    },
    {
     "name": "stderr",
     "output_type": "stream",
     "text": [
      "100%|██████████| 4/4 [00:00<00:00, 143.56it/s]"
     ]
    },
    {
     "name": "stdout",
     "output_type": "stream",
     "text": [
      "Loaded 4 documents\n",
      "Fitting role classifier: domain='date', intent='get_date_range_aggregate', entity_type='sys_time'\n",
      "No role model configuration set. Using default.\n",
      "Fitting role classifier: domain='date', intent='get_date_range_aggregate', entity_type='dob'\n",
      "No role model configuration set. Using default.\n",
      "Importing synonym data to synonym index 'synonym_dob'\n",
      "Elasticsearch index 'synonym_dob' for application 'hr_assistant' already exists!\n",
      "Loading index 'synonym_dob'\n"
     ]
    },
    {
     "name": "stderr",
     "output_type": "stream",
     "text": [
      "\n",
      "100%|██████████| 1/1 [00:00<00:00, 62.53it/s]"
     ]
    },
    {
     "name": "stdout",
     "output_type": "stream",
     "text": [
      "Loaded 1 document\n",
      "Fitting role classifier: domain='date', intent='get_date_range_aggregate', entity_type='sys_duration'\n",
      "No role model configuration set. Using default.\n",
      "Fitting role classifier: domain='date', intent='get_date_range_aggregate', entity_type='date_compare'\n",
      "No role model configuration set. Using default.\n",
      "Importing synonym data to synonym index 'synonym_date_compare'\n",
      "Elasticsearch index 'synonym_date_compare' for application 'hr_assistant' already exists!\n",
      "Loading index 'synonym_date_compare'\n"
     ]
    },
    {
     "name": "stderr",
     "output_type": "stream",
     "text": [
      "\n",
      "100%|██████████| 2/2 [00:00<00:00, 80.93it/s]"
     ]
    },
    {
     "name": "stdout",
     "output_type": "stream",
     "text": [
      "Loaded 2 documents\n",
      "Fitting role classifier: domain='date', intent='get_date_range_aggregate', entity_type='sex'\n",
      "No role model configuration set. Using default.\n",
      "Importing synonym data to synonym index 'synonym_sex'\n",
      "Elasticsearch index 'synonym_sex' for application 'hr_assistant' already exists!\n",
      "Loading index 'synonym_sex'\n"
     ]
    },
    {
     "name": "stderr",
     "output_type": "stream",
     "text": [
      "\n",
      "100%|██████████| 2/2 [00:00<00:00, 77.84it/s]"
     ]
    },
    {
     "name": "stdout",
     "output_type": "stream",
     "text": [
      "Loaded 2 documents\n",
      "Fitting role classifier: domain='date', intent='get_date_range_aggregate', entity_type='employment_action'\n",
      "No role model configuration set. Using default.\n",
      "Importing synonym data to synonym index 'synonym_employment_action'\n",
      "Elasticsearch index 'synonym_employment_action' for application 'hr_assistant' already exists!\n",
      "Loading index 'synonym_employment_action'\n"
     ]
    },
    {
     "name": "stderr",
     "output_type": "stream",
     "text": [
      "\n",
      "100%|██████████| 2/2 [00:00<00:00, 79.78it/s]"
     ]
    },
    {
     "name": "stdout",
     "output_type": "stream",
     "text": [
      "Loaded 2 documents\n",
      "Fitting role classifier: domain='date', intent='get_date_range_aggregate', entity_type='time_interval'\n",
      "No role model configuration set. Using default.\n",
      "Importing synonym data to synonym index 'synonym_time_interval'\n",
      "Elasticsearch index 'synonym_time_interval' for application 'hr_assistant' already exists!\n",
      "Loading index 'synonym_time_interval'\n"
     ]
    },
    {
     "name": "stderr",
     "output_type": "stream",
     "text": [
      "\n",
      "100%|██████████| 10/10 [00:00<00:00, 242.40it/s]"
     ]
    },
    {
     "name": "stdout",
     "output_type": "stream",
     "text": [
      "Loaded 10 documents\n"
     ]
    },
    {
     "name": "stderr",
     "output_type": "stream",
     "text": [
      "\n"
     ]
    },
    {
     "name": "stdout",
     "output_type": "stream",
     "text": [
      "Fitting role classifier: domain='date', intent='get_date_range_aggregate', entity_type='comparator'\n",
      "No role model configuration set. Using default.\n",
      "Importing synonym data to synonym index 'synonym_comparator'\n",
      "Elasticsearch index 'synonym_comparator' for application 'hr_assistant' already exists!\n",
      "Loading index 'synonym_comparator'\n"
     ]
    },
    {
     "name": "stderr",
     "output_type": "stream",
     "text": [
      "100%|██████████| 4/4 [00:00<00:00, 112.18it/s]"
     ]
    },
    {
     "name": "stdout",
     "output_type": "stream",
     "text": [
      "Loaded 4 documents\n",
      "Fitting role classifier: domain='date', intent='get_date_range_aggregate', entity_type='sys_number'\n",
      "No role model configuration set. Using default.\n",
      "Fitting role classifier: domain='date', intent='get_date_range_aggregate', entity_type='state'\n",
      "No role model configuration set. Using default.\n",
      "Importing synonym data to synonym index 'synonym_state'\n",
      "Elasticsearch index 'synonym_state' for application 'hr_assistant' already exists!\n",
      "Loading index 'synonym_state'\n"
     ]
    },
    {
     "name": "stderr",
     "output_type": "stream",
     "text": [
      "\n",
      "100%|██████████| 28/28 [00:00<00:00, 641.94it/s]"
     ]
    },
    {
     "name": "stdout",
     "output_type": "stream",
     "text": [
      "Loaded 28 documents\n",
      "Fitting entity recognizer: domain='hierarchy', intent='get_hierarchy'\n",
      "No entity model configuration set. Using default.\n"
     ]
    },
    {
     "name": "stderr",
     "output_type": "stream",
     "text": [
      "\n"
     ]
    },
    {
     "name": "stdout",
     "output_type": "stream",
     "text": [
      "Selecting hyperparameters using k-fold cross-validation with 5 splits\n",
      "Best accuracy: 96.60%, params: {'C': 1000000, 'penalty': 'l2'}\n",
      "No entity_resolution model configuration set. Using default.\n",
      "No entity_resolution model configuration set. Using default.\n",
      "No entity_resolution model configuration set. Using default.\n",
      "Fitting role classifier: domain='hierarchy', intent='get_hierarchy', entity_type='manager'\n",
      "No role model configuration set. Using default.\n",
      "Importing synonym data to synonym index 'synonym_manager'\n",
      "Elasticsearch index 'synonym_manager' for application 'hr_assistant' already exists!\n",
      "Loading index 'synonym_manager'\n"
     ]
    },
    {
     "name": "stderr",
     "output_type": "stream",
     "text": [
      "100%|██████████| 1/1 [00:00<00:00, 48.81it/s]"
     ]
    },
    {
     "name": "stdout",
     "output_type": "stream",
     "text": [
      "Loaded 1 document\n",
      "Fitting role classifier: domain='hierarchy', intent='get_hierarchy', entity_type='name'\n",
      "No role model configuration set. Using default.\n",
      "Importing synonym data to synonym index 'synonym_name'\n",
      "Elasticsearch index 'synonym_name' for application 'hr_assistant' already exists!\n",
      "Loading index 'synonym_name'\n"
     ]
    },
    {
     "name": "stderr",
     "output_type": "stream",
     "text": [
      "\n",
      "100%|██████████| 245/245 [00:00<00:00, 1165.57it/s]"
     ]
    },
    {
     "name": "stdout",
     "output_type": "stream",
     "text": [
      "Loaded 245 documents\n",
      "Fitting role classifier: domain='hierarchy', intent='get_hierarchy', entity_type='comparator'\n",
      "No role model configuration set. Using default.\n",
      "Importing synonym data to synonym index 'synonym_comparator'\n",
      "Elasticsearch index 'synonym_comparator' for application 'hr_assistant' already exists!\n",
      "Loading index 'synonym_comparator'\n"
     ]
    },
    {
     "name": "stderr",
     "output_type": "stream",
     "text": [
      "\n",
      "100%|██████████| 4/4 [00:00<00:00, 111.73it/s]"
     ]
    },
    {
     "name": "stdout",
     "output_type": "stream",
     "text": [
      "Loaded 4 documents\n",
      "Fitting intent classifier: domain='general'\n"
     ]
    },
    {
     "name": "stderr",
     "output_type": "stream",
     "text": [
      "\n"
     ]
    },
    {
     "name": "stdout",
     "output_type": "stream",
     "text": [
      "Selecting hyperparameters using k-fold cross-validation with 5 splits\n",
      "Best accuracy: 98.87%, params: {'C': 100, 'class_weight': {0: 1.105, 1: 0.906276150627615, 2: 1.0173267326732673}, 'fit_intercept': True}\n",
      "Fitting entity recognizer: domain='general', intent='get_info'\n",
      "No entity model configuration set. Using default.\n",
      "Selecting hyperparameters using k-fold cross-validation with 5 splits\n",
      "Best accuracy: 95.01%, params: {'C': 100, 'penalty': 'l2'}\n",
      "No entity_resolution model configuration set. Using default.\n",
      "No entity_resolution model configuration set. Using default.\n",
      "No entity_resolution model configuration set. Using default.\n",
      "No entity_resolution model configuration set. Using default.\n",
      "No entity_resolution model configuration set. Using default.\n",
      "No entity_resolution model configuration set. Using default.\n",
      "No entity_resolution model configuration set. Using default.\n",
      "No entity_resolution model configuration set. Using default.\n",
      "No entity_resolution model configuration set. Using default.\n",
      "No entity_resolution model configuration set. Using default.\n",
      "No entity_resolution model configuration set. Using default.\n",
      "No entity_resolution model configuration set. Using default.\n",
      "No entity_resolution model configuration set. Using default.\n",
      "No entity_resolution model configuration set. Using default.\n",
      "Fitting role classifier: domain='general', intent='get_info', entity_type='performance_score'\n",
      "No role model configuration set. Using default.\n",
      "Importing synonym data to synonym index 'synonym_performance_score'\n",
      "Elasticsearch index 'synonym_performance_score' for application 'hr_assistant' already exists!\n",
      "Loading index 'synonym_performance_score'\n"
     ]
    },
    {
     "name": "stderr",
     "output_type": "stream",
     "text": [
      "100%|██████████| 7/7 [00:00<00:00, 163.52it/s]"
     ]
    },
    {
     "name": "stdout",
     "output_type": "stream",
     "text": [
      "Loaded 7 documents\n",
      "Fitting role classifier: domain='general', intent='get_info', entity_type='sex'\n",
      "No role model configuration set. Using default.\n",
      "Importing synonym data to synonym index 'synonym_sex'\n",
      "Elasticsearch index 'synonym_sex' for application 'hr_assistant' already exists!\n",
      "Loading index 'synonym_sex'\n"
     ]
    },
    {
     "name": "stderr",
     "output_type": "stream",
     "text": [
      "\n",
      "100%|██████████| 2/2 [00:00<00:00, 85.79it/s]"
     ]
    },
    {
     "name": "stdout",
     "output_type": "stream",
     "text": [
      "Loaded 2 documents\n",
      "Fitting role classifier: domain='general', intent='get_info', entity_type='age'\n",
      "No role model configuration set. Using default.\n",
      "Importing synonym data to synonym index 'synonym_age'\n",
      "Elasticsearch index 'synonym_age' for application 'hr_assistant' already exists!\n",
      "Loading index 'synonym_age'\n"
     ]
    },
    {
     "name": "stderr",
     "output_type": "stream",
     "text": [
      "\n",
      "100%|██████████| 39/39 [00:00<00:00, 987.77it/s]"
     ]
    },
    {
     "name": "stdout",
     "output_type": "stream",
     "text": [
      "Loaded 39 documents\n",
      "Fitting role classifier: domain='general', intent='get_info', entity_type='department'\n",
      "No role model configuration set. Using default.\n",
      "Importing synonym data to synonym index 'synonym_department'\n",
      "Elasticsearch index 'synonym_department' for application 'hr_assistant' already exists!\n",
      "Loading index 'synonym_department'\n"
     ]
    },
    {
     "name": "stderr",
     "output_type": "stream",
     "text": [
      "\n",
      "100%|██████████| 6/6 [00:00<00:00, 229.76it/s]"
     ]
    },
    {
     "name": "stdout",
     "output_type": "stream",
     "text": [
      "Loaded 6 documents\n",
      "Fitting role classifier: domain='general', intent='get_info', entity_type='employment_status'\n",
      "No role model configuration set. Using default.\n",
      "Importing synonym data to synonym index 'synonym_employment_status'\n"
     ]
    },
    {
     "name": "stderr",
     "output_type": "stream",
     "text": [
      "\n"
     ]
    },
    {
     "name": "stdout",
     "output_type": "stream",
     "text": [
      "Elasticsearch index 'synonym_employment_status' for application 'hr_assistant' already exists!\n",
      "Loading index 'synonym_employment_status'\n"
     ]
    },
    {
     "name": "stderr",
     "output_type": "stream",
     "text": [
      "100%|██████████| 5/5 [00:00<00:00, 126.15it/s]"
     ]
    },
    {
     "name": "stdout",
     "output_type": "stream",
     "text": [
      "Loaded 5 documents\n",
      "Fitting role classifier: domain='general', intent='get_info', entity_type='employment_action'\n",
      "No role model configuration set. Using default.\n",
      "Importing synonym data to synonym index 'synonym_employment_action'\n",
      "Elasticsearch index 'synonym_employment_action' for application 'hr_assistant' already exists!\n",
      "Loading index 'synonym_employment_action'\n"
     ]
    },
    {
     "name": "stderr",
     "output_type": "stream",
     "text": [
      "\n",
      "100%|██████████| 2/2 [00:00<00:00, 74.80it/s]"
     ]
    },
    {
     "name": "stdout",
     "output_type": "stream",
     "text": [
      "Loaded 2 documents\n",
      "Fitting role classifier: domain='general', intent='get_info', entity_type='citizendesc'\n",
      "No role model configuration set. Using default.\n",
      "Importing synonym data to synonym index 'synonym_citizendesc'\n",
      "Elasticsearch index 'synonym_citizendesc' for application 'hr_assistant' already exists!\n",
      "Loading index 'synonym_citizendesc'\n"
     ]
    },
    {
     "name": "stderr",
     "output_type": "stream",
     "text": [
      "\n",
      "100%|██████████| 3/3 [00:00<00:00, 84.97it/s]"
     ]
    },
    {
     "name": "stdout",
     "output_type": "stream",
     "text": [
      "Loaded 3 documents\n",
      "Fitting role classifier: domain='general', intent='get_info', entity_type='name'\n",
      "No role model configuration set. Using default.\n",
      "Importing synonym data to synonym index 'synonym_name'\n",
      "Elasticsearch index 'synonym_name' for application 'hr_assistant' already exists!\n",
      "Loading index 'synonym_name'\n"
     ]
    },
    {
     "name": "stderr",
     "output_type": "stream",
     "text": [
      "\n",
      "100%|██████████| 245/245 [00:00<00:00, 986.72it/s]"
     ]
    },
    {
     "name": "stdout",
     "output_type": "stream",
     "text": [
      "Loaded 245 documents\n",
      "Fitting role classifier: domain='general', intent='get_info', entity_type='position'\n",
      "No role model configuration set. Using default.\n",
      "Importing synonym data to synonym index 'synonym_position'\n",
      "Elasticsearch index 'synonym_position' for application 'hr_assistant' already exists!\n",
      "Loading index 'synonym_position'\n"
     ]
    },
    {
     "name": "stderr",
     "output_type": "stream",
     "text": [
      "\n",
      "100%|██████████| 24/24 [00:00<00:00, 350.63it/s]"
     ]
    },
    {
     "name": "stdout",
     "output_type": "stream",
     "text": [
      "Loaded 24 documents\n",
      "Fitting role classifier: domain='general', intent='get_info', entity_type='state'\n",
      "No role model configuration set. Using default.\n",
      "Importing synonym data to synonym index 'synonym_state'\n",
      "Elasticsearch index 'synonym_state' for application 'hr_assistant' already exists!\n",
      "Loading index 'synonym_state'\n"
     ]
    },
    {
     "name": "stderr",
     "output_type": "stream",
     "text": [
      "\n",
      "100%|██████████| 28/28 [00:00<00:00, 395.30it/s]"
     ]
    },
    {
     "name": "stdout",
     "output_type": "stream",
     "text": [
      "Loaded 28 documents\n",
      "Fitting role classifier: domain='general', intent='get_info', entity_type='reason_for_termination'\n",
      "No role model configuration set. Using default.\n"
     ]
    },
    {
     "name": "stderr",
     "output_type": "stream",
     "text": [
      "\n"
     ]
    },
    {
     "name": "stdout",
     "output_type": "stream",
     "text": [
      "Importing synonym data to synonym index 'synonym_reason_for_termination'\n",
      "Elasticsearch index 'synonym_reason_for_termination' for application 'hr_assistant' already exists!\n",
      "Loading index 'synonym_reason_for_termination'\n"
     ]
    },
    {
     "name": "stderr",
     "output_type": "stream",
     "text": [
      "100%|██████████| 17/17 [00:00<00:00, 259.56it/s]"
     ]
    },
    {
     "name": "stdout",
     "output_type": "stream",
     "text": [
      "Loaded 17 documents\n",
      "Fitting role classifier: domain='general', intent='get_info', entity_type='maritaldesc'\n",
      "No role model configuration set. Using default.\n",
      "Importing synonym data to synonym index 'synonym_maritaldesc'\n"
     ]
    },
    {
     "name": "stderr",
     "output_type": "stream",
     "text": [
      "\n"
     ]
    },
    {
     "name": "stdout",
     "output_type": "stream",
     "text": [
      "Elasticsearch index 'synonym_maritaldesc' for application 'hr_assistant' already exists!\n",
      "Loading index 'synonym_maritaldesc'\n"
     ]
    },
    {
     "name": "stderr",
     "output_type": "stream",
     "text": [
      "100%|██████████| 5/5 [00:00<00:00, 117.32it/s]"
     ]
    },
    {
     "name": "stdout",
     "output_type": "stream",
     "text": [
      "Loaded 5 documents\n",
      "Fitting role classifier: domain='general', intent='get_info', entity_type='racedesc'\n",
      "No role model configuration set. Using default.\n",
      "Importing synonym data to synonym index 'synonym_racedesc'\n",
      "Elasticsearch index 'synonym_racedesc' for application 'hr_assistant' already exists!\n",
      "Loading index 'synonym_racedesc'\n"
     ]
    },
    {
     "name": "stderr",
     "output_type": "stream",
     "text": [
      "\n",
      "100%|██████████| 6/6 [00:00<00:00, 156.71it/s]"
     ]
    },
    {
     "name": "stdout",
     "output_type": "stream",
     "text": [
      "Loaded 6 documents\n",
      "Fitting role classifier: domain='general', intent='get_info', entity_type='employee_source'\n",
      "No role model configuration set. Using default.\n"
     ]
    },
    {
     "name": "stderr",
     "output_type": "stream",
     "text": [
      "\n"
     ]
    },
    {
     "name": "stdout",
     "output_type": "stream",
     "text": [
      "Importing synonym data to synonym index 'synonym_employee_source'\n",
      "Elasticsearch index 'synonym_employee_source' for application 'hr_assistant' already exists!\n",
      "Loading index 'synonym_employee_source'\n"
     ]
    },
    {
     "name": "stderr",
     "output_type": "stream",
     "text": [
      "100%|██████████| 20/20 [00:00<00:00, 281.76it/s]"
     ]
    },
    {
     "name": "stdout",
     "output_type": "stream",
     "text": [
      "Loaded 20 documents\n",
      "Fitting entity recognizer: domain='general', intent='get_employees'\n",
      "No entity model configuration set. Using default.\n"
     ]
    },
    {
     "name": "stderr",
     "output_type": "stream",
     "text": [
      "\n"
     ]
    },
    {
     "name": "stdout",
     "output_type": "stream",
     "text": [
      "Selecting hyperparameters using k-fold cross-validation with 5 splits\n",
      "Best accuracy: 94.15%, params: {'C': 1000000, 'penalty': 'l2'}\n",
      "No entity_resolution model configuration set. Using default.\n",
      "No entity_resolution model configuration set. Using default.\n",
      "No entity_resolution model configuration set. Using default.\n",
      "No entity_resolution model configuration set. Using default.\n",
      "No entity_resolution model configuration set. Using default.\n",
      "No entity_resolution model configuration set. Using default.\n",
      "No entity_resolution model configuration set. Using default.\n",
      "No entity_resolution model configuration set. Using default.\n",
      "No entity_resolution model configuration set. Using default.\n",
      "No entity_resolution model configuration set. Using default.\n",
      "No entity_resolution model configuration set. Using default.\n",
      "No entity_resolution model configuration set. Using default.\n",
      "No entity_resolution model configuration set. Using default.\n",
      "No entity_resolution model configuration set. Using default.\n",
      "No entity_resolution model configuration set. Using default.\n",
      "No entity_resolution model configuration set. Using default.\n",
      "No entity_resolution model configuration set. Using default.\n",
      "No entity_resolution model configuration set. Using default.\n",
      "No entity_resolution model configuration set. Using default.\n",
      "No entity_resolution model configuration set. Using default.\n",
      "No entity_resolution model configuration set. Using default.\n",
      "No entity_resolution model configuration set. Using default.\n",
      "No entity_resolution model configuration set. Using default.\n",
      "No entity_resolution model configuration set. Using default.\n",
      "Fitting role classifier: domain='general', intent='get_employees', entity_type='dob'\n",
      "No role model configuration set. Using default.\n",
      "Importing synonym data to synonym index 'synonym_dob'\n",
      "Elasticsearch index 'synonym_dob' for application 'hr_assistant' already exists!\n",
      "Loading index 'synonym_dob'\n"
     ]
    },
    {
     "name": "stderr",
     "output_type": "stream",
     "text": [
      "100%|██████████| 1/1 [00:00<00:00, 43.43it/s]"
     ]
    },
    {
     "name": "stdout",
     "output_type": "stream",
     "text": [
      "Loaded 1 document\n",
      "Fitting role classifier: domain='general', intent='get_employees', entity_type='sex'\n",
      "No role model configuration set. Using default.\n",
      "Importing synonym data to synonym index 'synonym_sex'\n",
      "Elasticsearch index 'synonym_sex' for application 'hr_assistant' already exists!\n",
      "Loading index 'synonym_sex'\n"
     ]
    },
    {
     "name": "stderr",
     "output_type": "stream",
     "text": [
      "\n",
      "100%|██████████| 2/2 [00:00<00:00, 62.72it/s]"
     ]
    },
    {
     "name": "stdout",
     "output_type": "stream",
     "text": [
      "Loaded 2 documents\n",
      "Fitting role classifier: domain='general', intent='get_employees', entity_type='citizendesc'\n",
      "No role model configuration set. Using default.\n",
      "Importing synonym data to synonym index 'synonym_citizendesc'\n",
      "Elasticsearch index 'synonym_citizendesc' for application 'hr_assistant' already exists!\n",
      "Loading index 'synonym_citizendesc'\n"
     ]
    },
    {
     "name": "stderr",
     "output_type": "stream",
     "text": [
      "\n",
      "100%|██████████| 3/3 [00:00<00:00, 130.30it/s]"
     ]
    },
    {
     "name": "stdout",
     "output_type": "stream",
     "text": [
      "Loaded 3 documents\n",
      "Fitting role classifier: domain='general', intent='get_employees', entity_type='manager'\n",
      "No role model configuration set. Using default.\n",
      "Importing synonym data to synonym index 'synonym_manager'\n",
      "Elasticsearch index 'synonym_manager' for application 'hr_assistant' already exists!\n",
      "Loading index 'synonym_manager'\n"
     ]
    },
    {
     "name": "stderr",
     "output_type": "stream",
     "text": [
      "\n",
      "100%|██████████| 1/1 [00:00<00:00, 52.70it/s]"
     ]
    },
    {
     "name": "stdout",
     "output_type": "stream",
     "text": [
      "Loaded 1 document\n",
      "Fitting role classifier: domain='general', intent='get_employees', entity_type='function'\n",
      "No role model configuration set. Using default.\n",
      "Importing synonym data to synonym index 'synonym_function'\n"
     ]
    },
    {
     "name": "stderr",
     "output_type": "stream",
     "text": [
      "\n"
     ]
    },
    {
     "name": "stdout",
     "output_type": "stream",
     "text": [
      "Elasticsearch index 'synonym_function' for application 'hr_assistant' already exists!\n",
      "Loading index 'synonym_function'\n"
     ]
    },
    {
     "name": "stderr",
     "output_type": "stream",
     "text": [
      "100%|██████████| 4/4 [00:00<00:00, 115.91it/s]"
     ]
    },
    {
     "name": "stdout",
     "output_type": "stream",
     "text": [
      "Loaded 4 documents\n",
      "Fitting role classifier: domain='general', intent='get_employees', entity_type='department'\n",
      "No role model configuration set. Using default.\n",
      "Importing synonym data to synonym index 'synonym_department'\n",
      "Elasticsearch index 'synonym_department' for application 'hr_assistant' already exists!\n",
      "Loading index 'synonym_department'\n"
     ]
    },
    {
     "name": "stderr",
     "output_type": "stream",
     "text": [
      "\n",
      "100%|██████████| 6/6 [00:00<00:00, 117.02it/s]"
     ]
    },
    {
     "name": "stdout",
     "output_type": "stream",
     "text": [
      "Loaded 6 documents\n",
      "Fitting role classifier: domain='general', intent='get_employees', entity_type='employment_action'\n",
      "No role model configuration set. Using default.\n"
     ]
    },
    {
     "name": "stderr",
     "output_type": "stream",
     "text": [
      "\n"
     ]
    },
    {
     "name": "stdout",
     "output_type": "stream",
     "text": [
      "Importing synonym data to synonym index 'synonym_employment_action'\n",
      "Elasticsearch index 'synonym_employment_action' for application 'hr_assistant' already exists!\n",
      "Loading index 'synonym_employment_action'\n"
     ]
    },
    {
     "name": "stderr",
     "output_type": "stream",
     "text": [
      "100%|██████████| 2/2 [00:00<00:00, 58.47it/s]"
     ]
    },
    {
     "name": "stdout",
     "output_type": "stream",
     "text": [
      "Loaded 2 documents\n",
      "Fitting role classifier: domain='general', intent='get_employees', entity_type='employment_status'\n",
      "No role model configuration set. Using default.\n",
      "Importing synonym data to synonym index 'synonym_employment_status'\n"
     ]
    },
    {
     "name": "stderr",
     "output_type": "stream",
     "text": [
      "\n"
     ]
    },
    {
     "name": "stdout",
     "output_type": "stream",
     "text": [
      "Elasticsearch index 'synonym_employment_status' for application 'hr_assistant' already exists!\n",
      "Loading index 'synonym_employment_status'\n"
     ]
    },
    {
     "name": "stderr",
     "output_type": "stream",
     "text": [
      "100%|██████████| 5/5 [00:00<00:00, 122.64it/s]"
     ]
    },
    {
     "name": "stdout",
     "output_type": "stream",
     "text": [
      "Loaded 5 documents\n",
      "Fitting role classifier: domain='general', intent='get_employees', entity_type='sys_ordinal'\n",
      "No role model configuration set. Using default.\n",
      "Fitting role classifier: domain='general', intent='get_employees', entity_type='race'\n",
      "No role model configuration set. Using default.\n",
      "Entity data file not found at './hr_assistant/entities/race/gazetteer.txt'. Proceeding with empty entity data.\n",
      "Entity mapping file not found at './hr_assistant/entities/race/mapping.json'. Proceeding with empty entity data.\n",
      "Entity map file not found at ./hr_assistant/entities/race/mapping.json\n",
      "Importing synonym data to synonym index 'synonym_race'\n",
      "Elasticsearch index 'synonym_race' for application 'hr_assistant' already exists!\n",
      "Loading index 'synonym_race'\n"
     ]
    },
    {
     "name": "stderr",
     "output_type": "stream",
     "text": [
      "\n",
      "\r",
      "0it [00:00, ?it/s]"
     ]
    },
    {
     "name": "stdout",
     "output_type": "stream",
     "text": [
      "Loaded 0 documents\n",
      "Fitting role classifier: domain='general', intent='get_employees', entity_type='date_compare'\n",
      "No role model configuration set. Using default.\n",
      "Importing synonym data to synonym index 'synonym_date_compare'\n"
     ]
    },
    {
     "name": "stderr",
     "output_type": "stream",
     "text": [
      "\n"
     ]
    },
    {
     "name": "stdout",
     "output_type": "stream",
     "text": [
      "Elasticsearch index 'synonym_date_compare' for application 'hr_assistant' already exists!\n",
      "Loading index 'synonym_date_compare'\n"
     ]
    },
    {
     "name": "stderr",
     "output_type": "stream",
     "text": [
      "100%|██████████| 2/2 [00:00<00:00, 56.22it/s]"
     ]
    },
    {
     "name": "stdout",
     "output_type": "stream",
     "text": [
      "Loaded 2 documents\n",
      "Fitting role classifier: domain='general', intent='get_employees', entity_type='comparator'\n",
      "No role model configuration set. Using default.\n",
      "Importing synonym data to synonym index 'synonym_comparator'\n"
     ]
    },
    {
     "name": "stderr",
     "output_type": "stream",
     "text": [
      "\n"
     ]
    },
    {
     "name": "stdout",
     "output_type": "stream",
     "text": [
      "Elasticsearch index 'synonym_comparator' for application 'hr_assistant' already exists!\n",
      "Loading index 'synonym_comparator'\n"
     ]
    },
    {
     "name": "stderr",
     "output_type": "stream",
     "text": [
      "100%|██████████| 4/4 [00:00<00:00, 120.62it/s]"
     ]
    },
    {
     "name": "stdout",
     "output_type": "stream",
     "text": [
      "Loaded 4 documents\n",
      "Fitting role classifier: domain='general', intent='get_employees', entity_type='extreme'\n",
      "No role model configuration set. Using default.\n",
      "Importing synonym data to synonym index 'synonym_extreme'\n",
      "Elasticsearch index 'synonym_extreme' for application 'hr_assistant' already exists!\n",
      "Loading index 'synonym_extreme'\n"
     ]
    },
    {
     "name": "stderr",
     "output_type": "stream",
     "text": [
      "\n",
      "100%|██████████| 2/2 [00:00<00:00, 88.19it/s]"
     ]
    },
    {
     "name": "stdout",
     "output_type": "stream",
     "text": [
      "Loaded 2 documents\n",
      "Fitting role classifier: domain='general', intent='get_employees', entity_type='state'\n",
      "No role model configuration set. Using default.\n",
      "Importing synonym data to synonym index 'synonym_state'\n"
     ]
    },
    {
     "name": "stderr",
     "output_type": "stream",
     "text": [
      "\n"
     ]
    },
    {
     "name": "stdout",
     "output_type": "stream",
     "text": [
      "Elasticsearch index 'synonym_state' for application 'hr_assistant' already exists!\n",
      "Loading index 'synonym_state'\n"
     ]
    },
    {
     "name": "stderr",
     "output_type": "stream",
     "text": [
      "100%|██████████| 28/28 [00:00<00:00, 595.59it/s]"
     ]
    },
    {
     "name": "stdout",
     "output_type": "stream",
     "text": [
      "Loaded 28 documents\n",
      "Fitting role classifier: domain='general', intent='get_employees', entity_type='reason_for_termination'\n",
      "No role model configuration set. Using default.\n"
     ]
    },
    {
     "name": "stderr",
     "output_type": "stream",
     "text": [
      "\n"
     ]
    },
    {
     "name": "stdout",
     "output_type": "stream",
     "text": [
      "Importing synonym data to synonym index 'synonym_reason_for_termination'\n",
      "Elasticsearch index 'synonym_reason_for_termination' for application 'hr_assistant' already exists!\n",
      "Loading index 'synonym_reason_for_termination'\n"
     ]
    },
    {
     "name": "stderr",
     "output_type": "stream",
     "text": [
      "100%|██████████| 17/17 [00:00<00:00, 309.47it/s]"
     ]
    },
    {
     "name": "stdout",
     "output_type": "stream",
     "text": [
      "Loaded 17 documents\n",
      "Fitting role classifier: domain='general', intent='get_employees', entity_type='racedesc'\n",
      "No role model configuration set. Using default.\n",
      "Importing synonym data to synonym index 'synonym_racedesc'\n",
      "Elasticsearch index 'synonym_racedesc' for application 'hr_assistant' already exists!\n",
      "Loading index 'synonym_racedesc'\n"
     ]
    },
    {
     "name": "stderr",
     "output_type": "stream",
     "text": [
      "\n",
      "100%|██████████| 6/6 [00:00<00:00, 141.65it/s]"
     ]
    },
    {
     "name": "stdout",
     "output_type": "stream",
     "text": [
      "Loaded 6 documents\n",
      "Fitting role classifier: domain='general', intent='get_employees', entity_type='employee_source'\n",
      "No role model configuration set. Using default.\n",
      "Importing synonym data to synonym index 'synonym_employee_source'\n",
      "Elasticsearch index 'synonym_employee_source' for application 'hr_assistant' already exists!\n",
      "Loading index 'synonym_employee_source'\n"
     ]
    },
    {
     "name": "stderr",
     "output_type": "stream",
     "text": [
      "\n",
      "100%|██████████| 20/20 [00:00<00:00, 341.48it/s]"
     ]
    },
    {
     "name": "stdout",
     "output_type": "stream",
     "text": [
      "Loaded 20 documents\n",
      "Fitting role classifier: domain='general', intent='get_employees', entity_type='performance_score'\n",
      "No role model configuration set. Using default.\n",
      "Importing synonym data to synonym index 'synonym_performance_score'\n"
     ]
    },
    {
     "name": "stderr",
     "output_type": "stream",
     "text": [
      "\n"
     ]
    },
    {
     "name": "stdout",
     "output_type": "stream",
     "text": [
      "Elasticsearch index 'synonym_performance_score' for application 'hr_assistant' already exists!\n",
      "Loading index 'synonym_performance_score'\n"
     ]
    },
    {
     "name": "stderr",
     "output_type": "stream",
     "text": [
      "100%|██████████| 7/7 [00:00<00:00, 130.55it/s]"
     ]
    },
    {
     "name": "stdout",
     "output_type": "stream",
     "text": [
      "Loaded 7 documents\n",
      "Fitting role classifier: domain='general', intent='get_employees', entity_type='sys_time'\n",
      "No role model configuration set. Using default.\n"
     ]
    },
    {
     "name": "stderr",
     "output_type": "stream",
     "text": [
      "\n"
     ]
    },
    {
     "name": "stdout",
     "output_type": "stream",
     "text": [
      "Fitting role classifier: domain='general', intent='get_employees', entity_type='sys_duration'\n",
      "No role model configuration set. Using default.\n",
      "Fitting role classifier: domain='general', intent='get_employees', entity_type='age'\n",
      "No role model configuration set. Using default.\n",
      "Importing synonym data to synonym index 'synonym_age'\n",
      "Elasticsearch index 'synonym_age' for application 'hr_assistant' already exists!\n",
      "Loading index 'synonym_age'\n"
     ]
    },
    {
     "name": "stderr",
     "output_type": "stream",
     "text": [
      "100%|██████████| 39/39 [00:00<00:00, 645.86it/s]"
     ]
    },
    {
     "name": "stdout",
     "output_type": "stream",
     "text": [
      "Loaded 39 documents\n",
      "Fitting role classifier: domain='general', intent='get_employees', entity_type='position'\n",
      "No role model configuration set. Using default.\n",
      "Importing synonym data to synonym index 'synonym_position'\n"
     ]
    },
    {
     "name": "stderr",
     "output_type": "stream",
     "text": [
      "\n"
     ]
    },
    {
     "name": "stdout",
     "output_type": "stream",
     "text": [
      "Elasticsearch index 'synonym_position' for application 'hr_assistant' already exists!\n",
      "Loading index 'synonym_position'\n"
     ]
    },
    {
     "name": "stderr",
     "output_type": "stream",
     "text": [
      "100%|██████████| 24/24 [00:00<00:00, 445.96it/s]"
     ]
    },
    {
     "name": "stdout",
     "output_type": "stream",
     "text": [
      "Loaded 24 documents\n",
      "Fitting role classifier: domain='general', intent='get_employees', entity_type='sys_number'\n",
      "No role model configuration set. Using default.\n",
      "Fitting role classifier: domain='general', intent='get_employees', entity_type='maritaldesc'\n",
      "No role model configuration set. Using default.\n",
      "Importing synonym data to synonym index 'synonym_maritaldesc'\n",
      "Elasticsearch index 'synonym_maritaldesc' for application 'hr_assistant' already exists!\n",
      "Loading index 'synonym_maritaldesc'\n"
     ]
    },
    {
     "name": "stderr",
     "output_type": "stream",
     "text": [
      "\n",
      "100%|██████████| 5/5 [00:00<00:00, 101.29it/s]"
     ]
    },
    {
     "name": "stdout",
     "output_type": "stream",
     "text": [
      "Loaded 5 documents\n",
      "Fitting entity recognizer: domain='general', intent='get_aggregate'\n",
      "No entity model configuration set. Using default.\n"
     ]
    },
    {
     "name": "stderr",
     "output_type": "stream",
     "text": [
      "\n"
     ]
    },
    {
     "name": "stdout",
     "output_type": "stream",
     "text": [
      "Selecting hyperparameters using k-fold cross-validation with 5 splits\n",
      "Best accuracy: 93.16%, params: {'C': 100, 'penalty': 'l2'}\n",
      "No entity_resolution model configuration set. Using default.\n",
      "No entity_resolution model configuration set. Using default.\n",
      "No entity_resolution model configuration set. Using default.\n",
      "No entity_resolution model configuration set. Using default.\n",
      "No entity_resolution model configuration set. Using default.\n",
      "No entity_resolution model configuration set. Using default.\n",
      "No entity_resolution model configuration set. Using default.\n",
      "No entity_resolution model configuration set. Using default.\n",
      "No entity_resolution model configuration set. Using default.\n",
      "No entity_resolution model configuration set. Using default.\n",
      "No entity_resolution model configuration set. Using default.\n",
      "No entity_resolution model configuration set. Using default.\n",
      "No entity_resolution model configuration set. Using default.\n",
      "No entity_resolution model configuration set. Using default.\n",
      "No entity_resolution model configuration set. Using default.\n",
      "No entity_resolution model configuration set. Using default.\n",
      "No entity_resolution model configuration set. Using default.\n",
      "No entity_resolution model configuration set. Using default.\n",
      "No entity_resolution model configuration set. Using default.\n",
      "No entity_resolution model configuration set. Using default.\n",
      "No entity_resolution model configuration set. Using default.\n",
      "Fitting role classifier: domain='general', intent='get_aggregate', entity_type='dob'\n",
      "No role model configuration set. Using default.\n",
      "Importing synonym data to synonym index 'synonym_dob'\n",
      "Elasticsearch index 'synonym_dob' for application 'hr_assistant' already exists!\n",
      "Loading index 'synonym_dob'\n"
     ]
    },
    {
     "name": "stderr",
     "output_type": "stream",
     "text": [
      "100%|██████████| 1/1 [00:00<00:00, 40.48it/s]"
     ]
    },
    {
     "name": "stdout",
     "output_type": "stream",
     "text": [
      "Loaded 1 document\n",
      "Fitting role classifier: domain='general', intent='get_aggregate', entity_type='sex'\n",
      "No role model configuration set. Using default.\n",
      "Importing synonym data to synonym index 'synonym_sex'\n",
      "Elasticsearch index 'synonym_sex' for application 'hr_assistant' already exists!\n",
      "Loading index 'synonym_sex'\n"
     ]
    },
    {
     "name": "stderr",
     "output_type": "stream",
     "text": [
      "\n",
      "100%|██████████| 2/2 [00:00<00:00, 78.31it/s]"
     ]
    },
    {
     "name": "stdout",
     "output_type": "stream",
     "text": [
      "Loaded 2 documents\n",
      "Fitting role classifier: domain='general', intent='get_aggregate', entity_type='citizendesc'\n",
      "No role model configuration set. Using default.\n",
      "Importing synonym data to synonym index 'synonym_citizendesc'\n",
      "Elasticsearch index 'synonym_citizendesc' for application 'hr_assistant' already exists!\n",
      "Loading index 'synonym_citizendesc'\n"
     ]
    },
    {
     "name": "stderr",
     "output_type": "stream",
     "text": [
      "\n",
      "100%|██████████| 3/3 [00:00<00:00, 129.75it/s]"
     ]
    },
    {
     "name": "stdout",
     "output_type": "stream",
     "text": [
      "Loaded 3 documents\n",
      "Fitting role classifier: domain='general', intent='get_aggregate', entity_type='name'\n",
      "No role model configuration set. Using default.\n",
      "Importing synonym data to synonym index 'synonym_name'\n",
      "Elasticsearch index 'synonym_name' for application 'hr_assistant' already exists!\n",
      "Loading index 'synonym_name'\n"
     ]
    },
    {
     "name": "stderr",
     "output_type": "stream",
     "text": [
      "\n",
      "100%|██████████| 245/245 [00:00<00:00, 992.14it/s]"
     ]
    },
    {
     "name": "stdout",
     "output_type": "stream",
     "text": [
      "Loaded 245 documents\n",
      "Fitting role classifier: domain='general', intent='get_aggregate', entity_type='manager'\n",
      "No role model configuration set. Using default.\n",
      "Importing synonym data to synonym index 'synonym_manager'\n",
      "Elasticsearch index 'synonym_manager' for application 'hr_assistant' already exists!\n",
      "Loading index 'synonym_manager'\n"
     ]
    },
    {
     "name": "stderr",
     "output_type": "stream",
     "text": [
      "\n",
      "100%|██████████| 1/1 [00:00<00:00, 55.06it/s]"
     ]
    },
    {
     "name": "stdout",
     "output_type": "stream",
     "text": [
      "Loaded 1 document\n",
      "Fitting role classifier: domain='general', intent='get_aggregate', entity_type='function'\n",
      "No role model configuration set. Using default.\n"
     ]
    },
    {
     "name": "stderr",
     "output_type": "stream",
     "text": [
      "\n"
     ]
    },
    {
     "name": "stdout",
     "output_type": "stream",
     "text": [
      "Importing synonym data to synonym index 'synonym_function'\n",
      "Elasticsearch index 'synonym_function' for application 'hr_assistant' already exists!\n",
      "Loading index 'synonym_function'\n"
     ]
    },
    {
     "name": "stderr",
     "output_type": "stream",
     "text": [
      "100%|██████████| 4/4 [00:00<00:00, 117.46it/s]"
     ]
    },
    {
     "name": "stdout",
     "output_type": "stream",
     "text": [
      "Loaded 4 documents\n",
      "Fitting role classifier: domain='general', intent='get_aggregate', entity_type='department'\n",
      "No role model configuration set. Using default.\n",
      "Importing synonym data to synonym index 'synonym_department'\n",
      "Elasticsearch index 'synonym_department' for application 'hr_assistant' already exists!\n",
      "Loading index 'synonym_department'\n"
     ]
    },
    {
     "name": "stderr",
     "output_type": "stream",
     "text": [
      "\n",
      "100%|██████████| 6/6 [00:00<00:00, 133.08it/s]"
     ]
    },
    {
     "name": "stdout",
     "output_type": "stream",
     "text": [
      "Loaded 6 documents\n",
      "Fitting role classifier: domain='general', intent='get_aggregate', entity_type='employment_action'\n",
      "No role model configuration set. Using default.\n",
      "Importing synonym data to synonym index 'synonym_employment_action'\n"
     ]
    },
    {
     "name": "stderr",
     "output_type": "stream",
     "text": [
      "\n"
     ]
    },
    {
     "name": "stdout",
     "output_type": "stream",
     "text": [
      "Elasticsearch index 'synonym_employment_action' for application 'hr_assistant' already exists!\n",
      "Loading index 'synonym_employment_action'\n"
     ]
    },
    {
     "name": "stderr",
     "output_type": "stream",
     "text": [
      "100%|██████████| 2/2 [00:00<00:00, 69.46it/s]"
     ]
    },
    {
     "name": "stdout",
     "output_type": "stream",
     "text": [
      "Loaded 2 documents\n",
      "Fitting role classifier: domain='general', intent='get_aggregate', entity_type='employment_status'\n",
      "No role model configuration set. Using default.\n"
     ]
    },
    {
     "name": "stderr",
     "output_type": "stream",
     "text": [
      "\n"
     ]
    },
    {
     "name": "stdout",
     "output_type": "stream",
     "text": [
      "Importing synonym data to synonym index 'synonym_employment_status'\n",
      "Elasticsearch index 'synonym_employment_status' for application 'hr_assistant' already exists!\n",
      "Loading index 'synonym_employment_status'\n"
     ]
    },
    {
     "name": "stderr",
     "output_type": "stream",
     "text": [
      "100%|██████████| 5/5 [00:00<00:00, 153.99it/s]"
     ]
    },
    {
     "name": "stdout",
     "output_type": "stream",
     "text": [
      "Loaded 5 documents\n",
      "Fitting role classifier: domain='general', intent='get_aggregate', entity_type='comparator'\n",
      "No role model configuration set. Using default.\n",
      "Importing synonym data to synonym index 'synonym_comparator'\n"
     ]
    },
    {
     "name": "stderr",
     "output_type": "stream",
     "text": [
      "\n"
     ]
    },
    {
     "name": "stdout",
     "output_type": "stream",
     "text": [
      "Elasticsearch index 'synonym_comparator' for application 'hr_assistant' already exists!\n",
      "Loading index 'synonym_comparator'\n"
     ]
    },
    {
     "name": "stderr",
     "output_type": "stream",
     "text": [
      "100%|██████████| 4/4 [00:00<00:00, 147.73it/s]"
     ]
    },
    {
     "name": "stdout",
     "output_type": "stream",
     "text": [
      "Loaded 4 documents\n",
      "Fitting role classifier: domain='general', intent='get_aggregate', entity_type='extreme'\n",
      "No role model configuration set. Using default.\n",
      "Importing synonym data to synonym index 'synonym_extreme'\n",
      "Elasticsearch index 'synonym_extreme' for application 'hr_assistant' already exists!\n",
      "Loading index 'synonym_extreme'\n"
     ]
    },
    {
     "name": "stderr",
     "output_type": "stream",
     "text": [
      "\n",
      "100%|██████████| 2/2 [00:00<00:00, 60.90it/s]"
     ]
    },
    {
     "name": "stdout",
     "output_type": "stream",
     "text": [
      "Loaded 2 documents\n",
      "Fitting role classifier: domain='general', intent='get_aggregate', entity_type='state'\n",
      "No role model configuration set. Using default.\n"
     ]
    },
    {
     "name": "stderr",
     "output_type": "stream",
     "text": [
      "\n"
     ]
    },
    {
     "name": "stdout",
     "output_type": "stream",
     "text": [
      "Importing synonym data to synonym index 'synonym_state'\n",
      "Elasticsearch index 'synonym_state' for application 'hr_assistant' already exists!\n",
      "Loading index 'synonym_state'\n"
     ]
    },
    {
     "name": "stderr",
     "output_type": "stream",
     "text": [
      "100%|██████████| 28/28 [00:00<00:00, 505.22it/s]"
     ]
    },
    {
     "name": "stdout",
     "output_type": "stream",
     "text": [
      "Loaded 28 documents\n",
      "Fitting role classifier: domain='general', intent='get_aggregate', entity_type='reason_for_termination'\n",
      "No role model configuration set. Using default.\n"
     ]
    },
    {
     "name": "stderr",
     "output_type": "stream",
     "text": [
      "\n"
     ]
    },
    {
     "name": "stdout",
     "output_type": "stream",
     "text": [
      "Importing synonym data to synonym index 'synonym_reason_for_termination'\n",
      "Elasticsearch index 'synonym_reason_for_termination' for application 'hr_assistant' already exists!\n",
      "Loading index 'synonym_reason_for_termination'\n"
     ]
    },
    {
     "name": "stderr",
     "output_type": "stream",
     "text": [
      "100%|██████████| 17/17 [00:00<00:00, 373.63it/s]"
     ]
    },
    {
     "name": "stdout",
     "output_type": "stream",
     "text": [
      "Loaded 17 documents\n",
      "Fitting role classifier: domain='general', intent='get_aggregate', entity_type='racedesc'\n",
      "No role model configuration set. Using default.\n",
      "Importing synonym data to synonym index 'synonym_racedesc'\n",
      "Elasticsearch index 'synonym_racedesc' for application 'hr_assistant' already exists!\n",
      "Loading index 'synonym_racedesc'\n"
     ]
    },
    {
     "name": "stderr",
     "output_type": "stream",
     "text": [
      "\n",
      "100%|██████████| 6/6 [00:00<00:00, 166.18it/s]"
     ]
    },
    {
     "name": "stdout",
     "output_type": "stream",
     "text": [
      "Loaded 6 documents\n",
      "Fitting role classifier: domain='general', intent='get_aggregate', entity_type='employee_source'\n"
     ]
    },
    {
     "name": "stderr",
     "output_type": "stream",
     "text": [
      "\n"
     ]
    },
    {
     "name": "stdout",
     "output_type": "stream",
     "text": [
      "No role model configuration set. Using default.\n",
      "Importing synonym data to synonym index 'synonym_employee_source'\n",
      "Elasticsearch index 'synonym_employee_source' for application 'hr_assistant' already exists!\n",
      "Loading index 'synonym_employee_source'\n"
     ]
    },
    {
     "name": "stderr",
     "output_type": "stream",
     "text": [
      "100%|██████████| 20/20 [00:00<00:00, 402.85it/s]"
     ]
    },
    {
     "name": "stdout",
     "output_type": "stream",
     "text": [
      "Loaded 20 documents\n",
      "Fitting role classifier: domain='general', intent='get_aggregate', entity_type='performance_score'\n",
      "No role model configuration set. Using default.\n"
     ]
    },
    {
     "name": "stderr",
     "output_type": "stream",
     "text": [
      "\n"
     ]
    },
    {
     "name": "stdout",
     "output_type": "stream",
     "text": [
      "Importing synonym data to synonym index 'synonym_performance_score'\n",
      "Elasticsearch index 'synonym_performance_score' for application 'hr_assistant' already exists!\n",
      "Loading index 'synonym_performance_score'\n"
     ]
    },
    {
     "name": "stderr",
     "output_type": "stream",
     "text": [
      "100%|██████████| 7/7 [00:00<00:00, 165.18it/s]"
     ]
    },
    {
     "name": "stdout",
     "output_type": "stream",
     "text": [
      "Loaded 7 documents\n",
      "Fitting role classifier: domain='general', intent='get_aggregate', entity_type='sys_time'\n",
      "No role model configuration set. Using default.\n",
      "Fitting role classifier: domain='general', intent='get_aggregate', entity_type='age'\n",
      "No role model configuration set. Using default.\n",
      "Importing synonym data to synonym index 'synonym_age'\n",
      "Elasticsearch index 'synonym_age' for application 'hr_assistant' already exists!\n",
      "Loading index 'synonym_age'\n"
     ]
    },
    {
     "name": "stderr",
     "output_type": "stream",
     "text": [
      "\n",
      "100%|██████████| 39/39 [00:00<00:00, 641.97it/s]"
     ]
    },
    {
     "name": "stdout",
     "output_type": "stream",
     "text": [
      "Loaded 39 documents\n",
      "Fitting role classifier: domain='general', intent='get_aggregate', entity_type='position'\n",
      "No role model configuration set. Using default.\n",
      "Importing synonym data to synonym index 'synonym_position'\n"
     ]
    },
    {
     "name": "stderr",
     "output_type": "stream",
     "text": [
      "\n"
     ]
    },
    {
     "name": "stdout",
     "output_type": "stream",
     "text": [
      "Elasticsearch index 'synonym_position' for application 'hr_assistant' already exists!\n",
      "Loading index 'synonym_position'\n"
     ]
    },
    {
     "name": "stderr",
     "output_type": "stream",
     "text": [
      "100%|██████████| 24/24 [00:00<00:00, 408.93it/s]"
     ]
    },
    {
     "name": "stdout",
     "output_type": "stream",
     "text": [
      "Loaded 24 documents\n",
      "Fitting role classifier: domain='general', intent='get_aggregate', entity_type='sys_number'\n",
      "No role model configuration set. Using default.\n",
      "Fitting role classifier: domain='general', intent='get_aggregate', entity_type='maritaldesc'\n",
      "No role model configuration set. Using default.\n",
      "Importing synonym data to synonym index 'synonym_maritaldesc'\n",
      "Elasticsearch index 'synonym_maritaldesc' for application 'hr_assistant' already exists!\n",
      "Loading index 'synonym_maritaldesc'\n"
     ]
    },
    {
     "name": "stderr",
     "output_type": "stream",
     "text": [
      "\n",
      "100%|██████████| 5/5 [00:00<00:00, 117.33it/s]"
     ]
    },
    {
     "name": "stdout",
     "output_type": "stream",
     "text": [
      "Loaded 5 documents\n"
     ]
    },
    {
     "name": "stderr",
     "output_type": "stream",
     "text": [
      "\n"
     ]
    }
   ],
   "source": [
    "nlp.build()"
   ]
  },
  {
   "cell_type": "code",
   "execution_count": 4,
   "metadata": {
    "scrolled": true
   },
   "outputs": [
    {
     "name": "stdout",
     "output_type": "stream",
     "text": [
      "The application package hr_assistant is already imported.\n"
     ]
    },
    {
     "name": "stderr",
     "output_type": "stream",
     "text": [
      "/anaconda3/envs/mindmeld2/lib/python3.6/site-packages/mindmeld/_version.py:64: MindMeldVersionWarning: Current mindmeld (4.1.1) does not satisfy mindmeld==4.1.0 in pip requirements caused by (mindmeld 4.1.1 (/anaconda3/envs/mindmeld2/lib/python3.6/site-packages), Requirement.parse('mindmeld==4.1.0'))\n",
      "  warnings.warn(error_msg, category=MindMeldVersionWarning)\n"
     ]
    }
   ],
   "source": [
    "from mindmeld.components.dialogue import Conversation\n",
    "conv = Conversation(nlp=nlp, app_path='./hr_assistant')"
   ]
  },
  {
   "cell_type": "code",
   "execution_count": 5,
   "metadata": {},
   "outputs": [
    {
     "name": "stdout",
     "output_type": "stream",
     "text": [
      "Elasticsearch index 'user_data' for application 'hr_assistant' already exists!\n",
      "Loading index 'user_data'\n"
     ]
    },
    {
     "name": "stderr",
     "output_type": "stream",
     "text": [
      "100%|██████████| 301/301 [00:00<00:00, 678.75it/s]"
     ]
    },
    {
     "name": "stdout",
     "output_type": "stream",
     "text": [
      "Loaded 301 documents\n"
     ]
    },
    {
     "name": "stderr",
     "output_type": "stream",
     "text": [
      "\n"
     ]
    },
    {
     "data": {
      "text/plain": [
       "['Julia Soto is Married']"
      ]
     },
     "execution_count": 5,
     "metadata": {},
     "output_type": "execute_result"
    }
   ],
   "source": [
    "conv.say(\"is julia married?\")"
   ]
  },
  {
   "cell_type": "code",
   "execution_count": null,
   "metadata": {},
   "outputs": [],
   "source": []
  },
  {
   "cell_type": "code",
   "execution_count": 6,
   "metadata": {},
   "outputs": [
    {
     "data": {
      "text/plain": [
       "['Based on your query, the average yearly is 55904.22']"
      ]
     },
     "execution_count": 6,
     "metadata": {},
     "output_type": "execute_result"
    }
   ],
   "source": [
    "conv.say(\"average yearly salary of married sales female employees\")"
   ]
  },
  {
   "cell_type": "code",
   "execution_count": 7,
   "metadata": {},
   "outputs": [
    {
     "data": {
      "text/plain": [
       "['The average based on your query is 29.12']"
      ]
     },
     "execution_count": 7,
     "metadata": {},
     "output_type": "execute_result"
    }
   ],
   "source": [
    "conv.say(\"average salary of females in the org\")"
   ]
  },
  {
   "cell_type": "code",
   "execution_count": 8,
   "metadata": {},
   "outputs": [
    {
     "data": {
      "text/plain": [
       "['What would you like to know about Daniel Davis?', 'Listening...']"
      ]
     },
     "execution_count": 8,
     "metadata": {},
     "output_type": "execute_result"
    }
   ],
   "source": [
    "conv.say(\"Can you tell me about daniel?\")"
   ]
  },
  {
   "cell_type": "code",
   "execution_count": 9,
   "metadata": {},
   "outputs": [
    {
     "data": {
      "text/plain": [
       "['I found the following details about Daniel Davis: Reason for Termination : N/A - still employed; Performance Score : 90-day meets; Citizenship Status : Eligible NonCitizen; Gender : Male; Marital Status : Single; Date of Termination : 1800-01-01; Race : Two or more races; Hourly Pay : 25.0; Date of Birth : 1979-09-14; State : MA; Employment Status : Active; Position : Production Technician II; Date of Hire : 2011-11-07; Department : Production       ; Age : 38']"
      ]
     },
     "execution_count": 9,
     "metadata": {},
     "output_type": "execute_result"
    }
   ],
   "source": [
    "conv.say(\"what's his race\")"
   ]
  },
  {
   "cell_type": "code",
   "execution_count": 10,
   "metadata": {},
   "outputs": [
    {
     "name": "stdout",
     "output_type": "stream",
     "text": [
      "Elasticsearch index 'user_data' for application 'hr_assistant' already exists!\n",
      "Loading index 'user_data'\n"
     ]
    },
    {
     "name": "stderr",
     "output_type": "stream",
     "text": [
      "100%|██████████| 301/301 [00:00<00:00, 717.29it/s]"
     ]
    },
    {
     "name": "stdout",
     "output_type": "stream",
     "text": [
      "Loaded 301 documents\n",
      "Elasticsearch index 'user_data' for application 'hr_assistant' already exists!\n",
      "Loading index 'user_data'\n"
     ]
    },
    {
     "name": "stderr",
     "output_type": "stream",
     "text": [
      "\n",
      "100%|██████████| 301/301 [00:00<00:00, 563.94it/s]"
     ]
    },
    {
     "name": "stdout",
     "output_type": "stream",
     "text": [
      "Loaded 301 documents\n"
     ]
    },
    {
     "name": "stderr",
     "output_type": "stream",
     "text": [
      "\n"
     ]
    },
    {
     "data": {
      "text/plain": [
       "[\"Brandon R. LeBlanc is Mia Brown's manager\",\n",
       " \"Eric Dougall is Julia Soto's manager\"]"
      ]
     },
     "execution_count": 10,
     "metadata": {},
     "output_type": "execute_result"
    }
   ],
   "source": [
    "conv.say(\"is mia's manager julia?\")"
   ]
  },
  {
   "cell_type": "code",
   "execution_count": 11,
   "metadata": {},
   "outputs": [],
   "source": [
    "# nlp.inspect(\"youngest employee\", domain='general')"
   ]
  },
  {
   "cell_type": "code",
   "execution_count": 12,
   "metadata": {},
   "outputs": [
    {
     "data": {
      "text/plain": [
       "['The percent based on your query is 29.0']"
      ]
     },
     "execution_count": 12,
     "metadata": {},
     "output_type": "execute_result"
    }
   ],
   "source": [
    "conv.say(\"percent of employees earning less than 20\")"
   ]
  },
  {
   "cell_type": "code",
   "execution_count": 13,
   "metadata": {},
   "outputs": [
    {
     "data": {
      "text/plain": [
       "[\"Hmmm, I didn't quite understand. Would you like to know what you can ask me?\",\n",
       " 'Listening...']"
      ]
     },
     "execution_count": 13,
     "metadata": {},
     "output_type": "execute_result"
    }
   ],
   "source": [
    "conv.say(\"is tomato a fruit?\")"
   ]
  },
  {
   "cell_type": "code",
   "execution_count": 14,
   "metadata": {},
   "outputs": [
    {
     "data": {
      "text/plain": [
       "['Did you mean yes or no?', 'Listening...']"
      ]
     },
     "execution_count": 14,
     "metadata": {},
     "output_type": "execute_result"
    }
   ],
   "source": [
    "conv.say(\"let's see\")"
   ]
  },
  {
   "cell_type": "code",
   "execution_count": 15,
   "metadata": {},
   "outputs": [
    {
     "data": {
      "text/plain": [
       "[\"Great! You can ask me about an employee's individual information (eg. Is Ivan married?), some employee statistic (eg. average salary of females) or names of employees according to your criteria (eg. give me a list of all married employees)\",\n",
       " 'Now, what would you like to know?',\n",
       " 'Listening...']"
      ]
     },
     "execution_count": 15,
     "metadata": {},
     "output_type": "execute_result"
    }
   ],
   "source": [
    "conv.say(\"yes please!\")"
   ]
  },
  {
   "cell_type": "code",
   "execution_count": 16,
   "metadata": {},
   "outputs": [
    {
     "data": {
      "text/plain": [
       "[\"Here's some employees: Lindsay Lynch, Lynn O'hare, Dheepa Nguyen, Leonara Lindsay, Francesco Barone, Daniel Davis, Gerry Friedman, Mike Guilianno, Jac McKinzie, Jacquelyn Williams, Evelyn Girifalco, Karen Mancuso, Jackie Valentin, Ricardo Ruiz, Linda Bachiochi, Barbara Stanford, Desiree Tavares, Howard Mullaney\"]"
      ]
     },
     "execution_count": 16,
     "metadata": {},
     "output_type": "execute_result"
    }
   ],
   "source": [
    "conv.say(\"are there any mixed race employees\")"
   ]
  },
  {
   "cell_type": "code",
   "execution_count": 17,
   "metadata": {},
   "outputs": [
    {
     "name": "stderr",
     "output_type": "stream",
     "text": [
      "/anaconda3/envs/mindmeld2/lib/python3.6/site-packages/numpy/core/fromnumeric.py:3118: RuntimeWarning: Mean of empty slice.\n",
      "  out=out, **kwargs)\n",
      "/anaconda3/envs/mindmeld2/lib/python3.6/site-packages/numpy/core/_methods.py:85: RuntimeWarning: invalid value encountered in double_scalars\n",
      "  ret = ret.dtype.type(ret / rcount)\n"
     ]
    },
    {
     "data": {
      "text/plain": [
       "['Hmm, looks like you want a salary statistic. You can ask me about averages, sums, counts and percentages. For eg. what is the average salary for women?',\n",
       " 'Listening...']"
      ]
     },
     "execution_count": 17,
     "metadata": {},
     "output_type": "execute_result"
    }
   ],
   "source": [
    "conv.say(\"give me the average salary of employees who are 30 years of age but hired after 2008\")"
   ]
  },
  {
   "cell_type": "code",
   "execution_count": 18,
   "metadata": {},
   "outputs": [],
   "source": [
    "# nlp.inspect(\"what percentage of employees were hired post 2012\", domain='date')"
   ]
  },
  {
   "cell_type": "code",
   "execution_count": 19,
   "metadata": {},
   "outputs": [
    {
     "ename": "ValueError",
     "evalue": "Range filter can only be defined for number or date field.",
     "output_type": "error",
     "traceback": [
      "\u001b[0;31m---------------------------------------------------------------------------\u001b[0m",
      "\u001b[0;31mValueError\u001b[0m                                Traceback (most recent call last)",
      "\u001b[0;32m<ipython-input-19-f45cf08d820f>\u001b[0m in \u001b[0;36m<module>\u001b[0;34m\u001b[0m\n\u001b[0;32m----> 1\u001b[0;31m \u001b[0mconv\u001b[0m\u001b[0;34m.\u001b[0m\u001b[0msay\u001b[0m\u001b[0;34m(\u001b[0m\u001b[0;34m\"what percentage of employees were hired in this year\"\u001b[0m\u001b[0;34m)\u001b[0m\u001b[0;34m\u001b[0m\u001b[0;34m\u001b[0m\u001b[0m\n\u001b[0m",
      "\u001b[0;32m/anaconda3/envs/mindmeld2/lib/python3.6/site-packages/mindmeld/components/dialogue.py\u001b[0m in \u001b[0;36msay\u001b[0;34m(self, text, params, force_sync)\u001b[0m\n\u001b[1;32m    767\u001b[0m             \u001b[0;32mreturn\u001b[0m \u001b[0mres\u001b[0m\u001b[0;34m\u001b[0m\u001b[0;34m\u001b[0m\u001b[0m\n\u001b[1;32m    768\u001b[0m \u001b[0;34m\u001b[0m\u001b[0m\n\u001b[0;32m--> 769\u001b[0;31m         \u001b[0mresponse\u001b[0m \u001b[0;34m=\u001b[0m \u001b[0mself\u001b[0m\u001b[0;34m.\u001b[0m\u001b[0mprocess\u001b[0m\u001b[0;34m(\u001b[0m\u001b[0mtext\u001b[0m\u001b[0;34m,\u001b[0m \u001b[0mparams\u001b[0m\u001b[0;34m=\u001b[0m\u001b[0mparams\u001b[0m\u001b[0;34m)\u001b[0m\u001b[0;34m\u001b[0m\u001b[0;34m\u001b[0m\u001b[0m\n\u001b[0m\u001b[1;32m    770\u001b[0m \u001b[0;34m\u001b[0m\u001b[0m\n\u001b[1;32m    771\u001b[0m         \u001b[0;31m# handle directives\u001b[0m\u001b[0;34m\u001b[0m\u001b[0;34m\u001b[0m\u001b[0;34m\u001b[0m\u001b[0m\n",
      "\u001b[0;32m/anaconda3/envs/mindmeld2/lib/python3.6/site-packages/mindmeld/components/dialogue.py\u001b[0m in \u001b[0;36mprocess\u001b[0;34m(self, text, params, force_sync)\u001b[0m\n\u001b[1;32m    830\u001b[0m \u001b[0;34m\u001b[0m\u001b[0m\n\u001b[1;32m    831\u001b[0m         response = self._app_manager.parse(text, params=internal_params, context=self.context,\n\u001b[0;32m--> 832\u001b[0;31m                                            frame=self.frame, history=self.history)\n\u001b[0m\u001b[1;32m    833\u001b[0m         \u001b[0mself\u001b[0m\u001b[0;34m.\u001b[0m\u001b[0mhistory\u001b[0m \u001b[0;34m=\u001b[0m \u001b[0mresponse\u001b[0m\u001b[0;34m.\u001b[0m\u001b[0mhistory\u001b[0m\u001b[0;34m\u001b[0m\u001b[0;34m\u001b[0m\u001b[0m\n\u001b[1;32m    834\u001b[0m         \u001b[0mself\u001b[0m\u001b[0;34m.\u001b[0m\u001b[0mframe\u001b[0m \u001b[0;34m=\u001b[0m \u001b[0mresponse\u001b[0m\u001b[0;34m.\u001b[0m\u001b[0mframe\u001b[0m\u001b[0;34m\u001b[0m\u001b[0;34m\u001b[0m\u001b[0m\n",
      "\u001b[0;32m/anaconda3/envs/mindmeld2/lib/python3.6/site-packages/mindmeld/app_manager.py\u001b[0m in \u001b[0;36mparse\u001b[0;34m(self, text, params, context, frame, history, verbose)\u001b[0m\n\u001b[1;32m    171\u001b[0m                                          frame=frame, params=params)\n\u001b[1;32m    172\u001b[0m \u001b[0;34m\u001b[0m\u001b[0m\n\u001b[0;32m--> 173\u001b[0;31m         \u001b[0mdm_response\u001b[0m \u001b[0;34m=\u001b[0m \u001b[0mself\u001b[0m\u001b[0;34m.\u001b[0m\u001b[0mdialogue_manager\u001b[0m\u001b[0;34m.\u001b[0m\u001b[0mapply_handler\u001b[0m\u001b[0;34m(\u001b[0m\u001b[0mrequest\u001b[0m\u001b[0;34m,\u001b[0m \u001b[0mresponse\u001b[0m\u001b[0;34m,\u001b[0m \u001b[0;34m**\u001b[0m\u001b[0mdm_params\u001b[0m\u001b[0;34m)\u001b[0m\u001b[0;34m\u001b[0m\u001b[0;34m\u001b[0m\u001b[0m\n\u001b[0m\u001b[1;32m    174\u001b[0m         \u001b[0mresponse\u001b[0m \u001b[0;34m=\u001b[0m \u001b[0mself\u001b[0m\u001b[0;34m.\u001b[0m\u001b[0m_post_dm\u001b[0m\u001b[0;34m(\u001b[0m\u001b[0mrequest\u001b[0m\u001b[0;34m,\u001b[0m \u001b[0mdm_response\u001b[0m\u001b[0;34m)\u001b[0m\u001b[0;34m\u001b[0m\u001b[0;34m\u001b[0m\u001b[0m\n\u001b[1;32m    175\u001b[0m         \u001b[0;32mreturn\u001b[0m \u001b[0mresponse\u001b[0m\u001b[0;34m\u001b[0m\u001b[0;34m\u001b[0m\u001b[0m\n",
      "\u001b[0;32m/anaconda3/envs/mindmeld2/lib/python3.6/site-packages/mindmeld/components/dialogue.py\u001b[0m in \u001b[0;36mapply_handler\u001b[0;34m(self, request, responder, target_dialogue_state)\u001b[0m\n\u001b[1;32m    327\u001b[0m         \u001b[0mhandler\u001b[0m \u001b[0;34m=\u001b[0m \u001b[0mself\u001b[0m\u001b[0;34m.\u001b[0m\u001b[0m_get_dialogue_handler\u001b[0m\u001b[0;34m(\u001b[0m\u001b[0mdialogue_state\u001b[0m\u001b[0;34m)\u001b[0m\u001b[0;34m\u001b[0m\u001b[0;34m\u001b[0m\u001b[0m\n\u001b[1;32m    328\u001b[0m         \u001b[0mresponder\u001b[0m\u001b[0;34m.\u001b[0m\u001b[0mdialogue_state\u001b[0m \u001b[0;34m=\u001b[0m \u001b[0mdialogue_state\u001b[0m\u001b[0;34m\u001b[0m\u001b[0;34m\u001b[0m\u001b[0m\n\u001b[0;32m--> 329\u001b[0;31m         \u001b[0mhandler\u001b[0m\u001b[0;34m(\u001b[0m\u001b[0mrequest\u001b[0m\u001b[0;34m,\u001b[0m \u001b[0mresponder\u001b[0m\u001b[0;34m)\u001b[0m\u001b[0;34m\u001b[0m\u001b[0;34m\u001b[0m\u001b[0m\n\u001b[0m\u001b[1;32m    330\u001b[0m         \u001b[0;32mreturn\u001b[0m \u001b[0mresponder\u001b[0m\u001b[0;34m\u001b[0m\u001b[0;34m\u001b[0m\u001b[0m\n\u001b[1;32m    331\u001b[0m \u001b[0;34m\u001b[0m\u001b[0m\n",
      "\u001b[0;32m~/Documents/MindMeld/hr_blueprint_3/mindmeld-hr-blueprint/hr_assistant/date.py\u001b[0m in \u001b[0;36mget_date_range_aggregate\u001b[0;34m(request, responder)\u001b[0m\n\u001b[1;32m     78\u001b[0m                 \u001b[0mqa\u001b[0m\u001b[0;34m,\u001b[0m \u001b[0msize\u001b[0m \u001b[0;34m=\u001b[0m \u001b[0m_resolve_categorical_entities\u001b[0m\u001b[0;34m(\u001b[0m\u001b[0mrequest\u001b[0m\u001b[0;34m,\u001b[0m \u001b[0mresponder\u001b[0m\u001b[0;34m)\u001b[0m\u001b[0;34m\u001b[0m\u001b[0;34m\u001b[0m\u001b[0m\n\u001b[1;32m     79\u001b[0m \u001b[0;34m\u001b[0m\u001b[0m\n\u001b[0;32m---> 80\u001b[0;31m                 \u001b[0mqa_out\u001b[0m \u001b[0;34m=\u001b[0m \u001b[0m_resolve_time\u001b[0m\u001b[0;34m(\u001b[0m\u001b[0mrequest\u001b[0m\u001b[0;34m,\u001b[0m \u001b[0mresponder\u001b[0m\u001b[0;34m,\u001b[0m \u001b[0mqa\u001b[0m\u001b[0;34m,\u001b[0m \u001b[0msize\u001b[0m\u001b[0;34m)\u001b[0m\u001b[0;34m\u001b[0m\u001b[0;34m\u001b[0m\u001b[0m\n\u001b[0m\u001b[1;32m     81\u001b[0m \u001b[0;34m\u001b[0m\u001b[0m\n\u001b[1;32m     82\u001b[0m                 \u001b[0mresponder\u001b[0m\u001b[0;34m.\u001b[0m\u001b[0mslots\u001b[0m\u001b[0;34m[\u001b[0m\u001b[0;34m'value'\u001b[0m\u001b[0;34m]\u001b[0m \u001b[0;34m=\u001b[0m \u001b[0m_agg_function\u001b[0m\u001b[0;34m(\u001b[0m\u001b[0mqa_out\u001b[0m\u001b[0;34m,\u001b[0m \u001b[0mfunc\u001b[0m\u001b[0;34m=\u001b[0m\u001b[0mfunction\u001b[0m\u001b[0;34m)\u001b[0m\u001b[0;34m\u001b[0m\u001b[0;34m\u001b[0m\u001b[0m\n",
      "\u001b[0;32m~/Documents/MindMeld/hr_blueprint_3/mindmeld-hr-blueprint/hr_assistant/date.py\u001b[0m in \u001b[0;36m_resolve_time\u001b[0;34m(request, responder, qa, size)\u001b[0m\n\u001b[1;32m    194\u001b[0m                 \u001b[0;31m# Two time entities specify an exact time period to filter\u001b[0m\u001b[0;34m\u001b[0m\u001b[0;34m\u001b[0m\u001b[0;34m\u001b[0m\u001b[0m\n\u001b[1;32m    195\u001b[0m                 \u001b[0;32mif\u001b[0m \u001b[0mlen\u001b[0m\u001b[0;34m(\u001b[0m\u001b[0mtime_ent\u001b[0m\u001b[0;34m)\u001b[0m\u001b[0;34m==\u001b[0m\u001b[0;36m2\u001b[0m\u001b[0;34m:\u001b[0m\u001b[0;34m\u001b[0m\u001b[0;34m\u001b[0m\u001b[0m\n\u001b[0;32m--> 196\u001b[0;31m                         \u001b[0mqa\u001b[0m \u001b[0;34m=\u001b[0m \u001b[0mqa\u001b[0m\u001b[0;34m.\u001b[0m\u001b[0mfilter\u001b[0m\u001b[0;34m(\u001b[0m\u001b[0mfield\u001b[0m\u001b[0;34m=\u001b[0m\u001b[0mfield\u001b[0m\u001b[0;34m,\u001b[0m \u001b[0mgte\u001b[0m\u001b[0;34m=\u001b[0m\u001b[0mtime_ent\u001b[0m\u001b[0;34m[\u001b[0m\u001b[0;36m0\u001b[0m\u001b[0;34m]\u001b[0m\u001b[0;34m,\u001b[0m \u001b[0mlte\u001b[0m\u001b[0;34m=\u001b[0m\u001b[0mtime_ent\u001b[0m\u001b[0;34m[\u001b[0m\u001b[0;36m1\u001b[0m\u001b[0;34m]\u001b[0m\u001b[0;34m)\u001b[0m\u001b[0;34m\u001b[0m\u001b[0;34m\u001b[0m\u001b[0m\n\u001b[0m\u001b[1;32m    197\u001b[0m \u001b[0;34m\u001b[0m\u001b[0m\n\u001b[1;32m    198\u001b[0m \u001b[0;34m\u001b[0m\u001b[0m\n",
      "\u001b[0;32m/anaconda3/envs/mindmeld2/lib/python3.6/site-packages/mindmeld/components/question_answerer.py\u001b[0m in \u001b[0;36mfilter\u001b[0;34m(self, **kwargs)\u001b[0m\n\u001b[1;32m    484\u001b[0m         \"\"\"\n\u001b[1;32m    485\u001b[0m         \u001b[0mnew_search\u001b[0m \u001b[0;34m=\u001b[0m \u001b[0mself\u001b[0m\u001b[0;34m.\u001b[0m\u001b[0m_clone\u001b[0m\u001b[0;34m(\u001b[0m\u001b[0;34m)\u001b[0m\u001b[0;34m\u001b[0m\u001b[0;34m\u001b[0m\u001b[0m\n\u001b[0;32m--> 486\u001b[0;31m         \u001b[0mnew_search\u001b[0m\u001b[0;34m.\u001b[0m\u001b[0m_build_clause\u001b[0m\u001b[0;34m(\u001b[0m\u001b[0;34m\"filter\"\u001b[0m\u001b[0;34m,\u001b[0m \u001b[0;34m**\u001b[0m\u001b[0mkwargs\u001b[0m\u001b[0;34m)\u001b[0m\u001b[0;34m\u001b[0m\u001b[0;34m\u001b[0m\u001b[0m\n\u001b[0m\u001b[1;32m    487\u001b[0m \u001b[0;34m\u001b[0m\u001b[0m\n\u001b[1;32m    488\u001b[0m         \u001b[0;32mreturn\u001b[0m \u001b[0mnew_search\u001b[0m\u001b[0;34m\u001b[0m\u001b[0;34m\u001b[0m\u001b[0m\n",
      "\u001b[0;32m/anaconda3/envs/mindmeld2/lib/python3.6/site-packages/mindmeld/components/question_answerer.py\u001b[0m in \u001b[0;36m_build_clause\u001b[0;34m(self, clause_type, **kwargs)\u001b[0m\n\u001b[1;32m    417\u001b[0m             \u001b[0mself\u001b[0m\u001b[0;34m.\u001b[0m\u001b[0m_build_query_clause\u001b[0m\u001b[0;34m(\u001b[0m\u001b[0;34m**\u001b[0m\u001b[0mkwargs\u001b[0m\u001b[0;34m)\u001b[0m\u001b[0;34m\u001b[0m\u001b[0;34m\u001b[0m\u001b[0m\n\u001b[1;32m    418\u001b[0m         \u001b[0;32melif\u001b[0m \u001b[0mclause_type\u001b[0m \u001b[0;34m==\u001b[0m \u001b[0;34m\"filter\"\u001b[0m\u001b[0;34m:\u001b[0m\u001b[0;34m\u001b[0m\u001b[0;34m\u001b[0m\u001b[0m\n\u001b[0;32m--> 419\u001b[0;31m             \u001b[0mself\u001b[0m\u001b[0;34m.\u001b[0m\u001b[0m_build_filter_clause\u001b[0m\u001b[0;34m(\u001b[0m\u001b[0;34m**\u001b[0m\u001b[0mkwargs\u001b[0m\u001b[0;34m)\u001b[0m\u001b[0;34m\u001b[0m\u001b[0;34m\u001b[0m\u001b[0m\n\u001b[0m\u001b[1;32m    420\u001b[0m         \u001b[0;32melif\u001b[0m \u001b[0mclause_type\u001b[0m \u001b[0;34m==\u001b[0m \u001b[0;34m\"sort\"\u001b[0m\u001b[0;34m:\u001b[0m\u001b[0;34m\u001b[0m\u001b[0;34m\u001b[0m\u001b[0m\n\u001b[1;32m    421\u001b[0m             \u001b[0mself\u001b[0m\u001b[0;34m.\u001b[0m\u001b[0m_build_sort_clause\u001b[0m\u001b[0;34m(\u001b[0m\u001b[0;34m**\u001b[0m\u001b[0mkwargs\u001b[0m\u001b[0;34m)\u001b[0m\u001b[0;34m\u001b[0m\u001b[0;34m\u001b[0m\u001b[0m\n",
      "\u001b[0;32m/anaconda3/envs/mindmeld2/lib/python3.6/site-packages/mindmeld/components/question_answerer.py\u001b[0m in \u001b[0;36m_build_filter_clause\u001b[0;34m(self, **kwargs)\u001b[0m\n\u001b[1;32m    383\u001b[0m                 \u001b[0;32mraise\u001b[0m \u001b[0mValueError\u001b[0m\u001b[0;34m(\u001b[0m\u001b[0;34m'Invalid knowledge base field \\'{}\\''\u001b[0m\u001b[0;34m.\u001b[0m\u001b[0mformat\u001b[0m\u001b[0;34m(\u001b[0m\u001b[0mkey\u001b[0m\u001b[0;34m)\u001b[0m\u001b[0;34m)\u001b[0m\u001b[0;34m\u001b[0m\u001b[0;34m\u001b[0m\u001b[0m\n\u001b[1;32m    384\u001b[0m             \u001b[0mclause\u001b[0m \u001b[0;34m=\u001b[0m \u001b[0mSearch\u001b[0m\u001b[0;34m.\u001b[0m\u001b[0mFilterClause\u001b[0m\u001b[0;34m(\u001b[0m\u001b[0mfield\u001b[0m\u001b[0;34m=\u001b[0m\u001b[0mkey\u001b[0m\u001b[0;34m,\u001b[0m \u001b[0mvalue\u001b[0m\u001b[0;34m=\u001b[0m\u001b[0mvalue\u001b[0m\u001b[0;34m)\u001b[0m\u001b[0;34m\u001b[0m\u001b[0;34m\u001b[0m\u001b[0m\n\u001b[0;32m--> 385\u001b[0;31m         \u001b[0mclause\u001b[0m\u001b[0;34m.\u001b[0m\u001b[0mvalidate\u001b[0m\u001b[0;34m(\u001b[0m\u001b[0;34m)\u001b[0m\u001b[0;34m\u001b[0m\u001b[0;34m\u001b[0m\u001b[0m\n\u001b[0m\u001b[1;32m    386\u001b[0m         \u001b[0mself\u001b[0m\u001b[0;34m.\u001b[0m\u001b[0m_clauses\u001b[0m\u001b[0;34m[\u001b[0m\u001b[0mclause\u001b[0m\u001b[0;34m.\u001b[0m\u001b[0mget_type\u001b[0m\u001b[0;34m(\u001b[0m\u001b[0;34m)\u001b[0m\u001b[0;34m]\u001b[0m\u001b[0;34m.\u001b[0m\u001b[0mappend\u001b[0m\u001b[0;34m(\u001b[0m\u001b[0mclause\u001b[0m\u001b[0;34m)\u001b[0m\u001b[0;34m\u001b[0m\u001b[0;34m\u001b[0m\u001b[0m\n\u001b[1;32m    387\u001b[0m \u001b[0;34m\u001b[0m\u001b[0m\n",
      "\u001b[0;32m/anaconda3/envs/mindmeld2/lib/python3.6/site-packages/mindmeld/components/question_answerer.py\u001b[0m in \u001b[0;36mvalidate\u001b[0;34m(self)\u001b[0m\n\u001b[1;32m    847\u001b[0m                 \u001b[0;32melif\u001b[0m \u001b[0;32mnot\u001b[0m \u001b[0mself\u001b[0m\u001b[0;34m.\u001b[0m\u001b[0mfield_info\u001b[0m\u001b[0;34m.\u001b[0m\u001b[0mis_number_field\u001b[0m\u001b[0;34m(\u001b[0m\u001b[0;34m)\u001b[0m \u001b[0;32mand\u001b[0m \u001b[0;32mnot\u001b[0m \u001b[0mself\u001b[0m\u001b[0;34m.\u001b[0m\u001b[0mfield_info\u001b[0m\u001b[0;34m.\u001b[0m\u001b[0mis_date_field\u001b[0m\u001b[0;34m(\u001b[0m\u001b[0;34m)\u001b[0m\u001b[0;34m:\u001b[0m\u001b[0;34m\u001b[0m\u001b[0;34m\u001b[0m\u001b[0m\n\u001b[1;32m    848\u001b[0m                     raise ValueError(\n\u001b[0;32m--> 849\u001b[0;31m                         'Range filter can only be defined for number or date field.')\n\u001b[0m\u001b[1;32m    850\u001b[0m \u001b[0;34m\u001b[0m\u001b[0m\n\u001b[1;32m    851\u001b[0m     \u001b[0;32mclass\u001b[0m \u001b[0mSortClause\u001b[0m\u001b[0;34m(\u001b[0m\u001b[0mClause\u001b[0m\u001b[0;34m)\u001b[0m\u001b[0;34m:\u001b[0m\u001b[0;34m\u001b[0m\u001b[0;34m\u001b[0m\u001b[0m\n",
      "\u001b[0;31mValueError\u001b[0m: Range filter can only be defined for number or date field."
     ]
    }
   ],
   "source": [
    "conv.say(\"what percentage of employees were hired in this year\")"
   ]
  },
  {
   "cell_type": "code",
   "execution_count": null,
   "metadata": {},
   "outputs": [],
   "source": [
    "conv.say(\"males fired in 2014\")"
   ]
  },
  {
   "cell_type": "code",
   "execution_count": null,
   "metadata": {},
   "outputs": [],
   "source": [
    "nlp.inspect(\"give me the average salary of employees who are 30 years of age but hired after 2008\", domain='salary')"
   ]
  },
  {
   "cell_type": "code",
   "execution_count": null,
   "metadata": {},
   "outputs": [],
   "source": [
    "conv.say(\"show me all married employees\")"
   ]
  },
  {
   "cell_type": "code",
   "execution_count": null,
   "metadata": {},
   "outputs": [],
   "source": [
    "conv.say(\"what is the average salary for women?\")"
   ]
  },
  {
   "cell_type": "code",
   "execution_count": null,
   "metadata": {},
   "outputs": [],
   "source": []
  },
  {
   "cell_type": "code",
   "execution_count": null,
   "metadata": {},
   "outputs": [],
   "source": []
  }
 ],
 "metadata": {
  "kernelspec": {
   "display_name": "Python 3",
   "language": "python",
   "name": "python3"
  },
  "language_info": {
   "codemirror_mode": {
    "name": "ipython",
    "version": 3
   },
   "file_extension": ".py",
   "mimetype": "text/x-python",
   "name": "python",
   "nbconvert_exporter": "python",
   "pygments_lexer": "ipython3",
   "version": "3.6.8"
  }
 },
 "nbformat": 4,
 "nbformat_minor": 2
}
