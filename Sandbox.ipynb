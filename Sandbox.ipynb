{
 "cells": [
  {
   "cell_type": "code",
   "execution_count": 1,
   "metadata": {
    "scrolled": true
   },
   "outputs": [
    {
     "name": "stderr",
     "output_type": "stream",
     "text": [
      "/anaconda3/envs/mindmeld2/lib/python3.6/site-packages/sklearn/ensemble/weight_boosting.py:29: DeprecationWarning: numpy.core.umath_tests is an internal NumPy module and should not be imported. It will be removed in a future NumPy release.\n",
      "  from numpy.core.umath_tests import inner1d\n"
     ]
    },
    {
     "name": "stdout",
     "output_type": "stream",
     "text": [
      "Fetching app archive from 'https://devcenter.mindmeld.com/bp/home_assistant/app.tar.gz'\n",
      "Created 'home_assistant' app at '/Users/kunshar2/Documents/MindMeld/hr_blueprint/mindmeld-hr-blueprint/home_assistant'\n"
     ]
    },
    {
     "data": {
      "text/plain": [
       "'/Users/kunshar2/Documents/MindMeld/hr_blueprint/mindmeld-hr-blueprint/home_assistant'"
      ]
     },
     "execution_count": 1,
     "metadata": {},
     "output_type": "execute_result"
    }
   ],
   "source": [
    "import mindmeld as mm\n",
    "mm.configure_logs()\n",
    "mm.blueprint('home_assistant')"
   ]
  },
  {
   "cell_type": "code",
   "execution_count": 5,
   "metadata": {
    "scrolled": true
   },
   "outputs": [
    {
     "name": "stdout",
     "output_type": "stream",
     "text": [
      "The application package home_assistant is already imported.\n"
     ]
    },
    {
     "name": "stderr",
     "output_type": "stream",
     "text": [
      "/anaconda3/envs/mindmeld2/lib/python3.6/site-packages/mindmeld/_version.py:64: MindMeldVersionWarning: Current mindmeld (4.1.1) does not satisfy mindmeld==4.1.0 in pip requirements caused by (mindmeld 4.1.1 (/anaconda3/envs/mindmeld2/lib/python3.6/site-packages), Requirement.parse('mindmeld==4.1.0'))\n",
      "  warnings.warn(error_msg, category=MindMeldVersionWarning)\n"
     ]
    }
   ],
   "source": [
    "from mindmeld.components.nlp import NaturalLanguageProcessor\n",
    "nlp = NaturalLanguageProcessor('home_assistant')"
   ]
  },
  {
   "cell_type": "code",
   "execution_count": 4,
   "metadata": {},
   "outputs": [
    {
     "name": "stdout",
     "output_type": "stream",
     "text": [
      "Fitting domain classifier\n",
      "Selecting hyperparameters using k-fold cross-validation with 10 splits\n",
      "Best accuracy: 99.58%, params: {'C': 10, 'fit_intercept': True}\n"
     ]
    }
   ],
   "source": [
    "nlp.domain_classifier.fit(model_settings={'classifier_type': 'logreg'})"
   ]
  },
  {
   "cell_type": "markdown",
   "metadata": {},
   "source": [
    "# Knowledge Base"
   ]
  },
  {
   "cell_type": "code",
   "execution_count": 18,
   "metadata": {
    "scrolled": false
   },
   "outputs": [
    {
     "name": "stderr",
     "output_type": "stream",
     "text": [
      "100%|██████████| 301/301 [00:00<00:00, 959.19it/s]\n"
     ]
    }
   ],
   "source": [
    "from mindmeld.components import QuestionAnswerer\n",
    "qa = QuestionAnswerer(app_path='hr_assistant')\n",
    "qa.load_kb('hr_assistant', 'user_data_3', './hr_assistant/data/user_data.json')"
   ]
  },
  {
   "cell_type": "code",
   "execution_count": 19,
   "metadata": {},
   "outputs": [],
   "source": [
    "users = qa.get(index='user_data_3')"
   ]
  },
  {
   "cell_type": "code",
   "execution_count": 20,
   "metadata": {
    "scrolled": true
   },
   "outputs": [
    {
     "data": {
      "text/plain": [
       "{'rft': 'N/A - still employed',\n",
       " 'performance_score': 'N/A- too early to review',\n",
       " 'citizendesc': 'US Citizen',\n",
       " 'sex': 'Female',\n",
       " 'maritaldesc': 'Single',\n",
       " 'emp_name': 'Singh, Nan ',\n",
       " 'dot': '-1',\n",
       " 'man_name': 'Brandon R. LeBlanc',\n",
       " 'racedesc': 'White',\n",
       " 'money': 16.56,\n",
       " 'dob': '5/19/88',\n",
       " 'employee_source': 'Website Banner Ads',\n",
       " 'id': 1307059817,\n",
       " 'state': 'MA',\n",
       " 'employment_status': 'Active',\n",
       " 'position': 'Administrative Assistant',\n",
       " 'doh': '5/1/15',\n",
       " 'department': 'Admin Offices',\n",
       " 'age': 29}"
      ]
     },
     "execution_count": 20,
     "metadata": {},
     "output_type": "execute_result"
    }
   ],
   "source": [
    "users[0]"
   ]
  },
  {
   "cell_type": "code",
   "execution_count": 27,
   "metadata": {},
   "outputs": [
    {
     "data": {
      "text/plain": [
       "[{'rft': 'N/A - still employed',\n",
       "  'performance_score': 'Fully Meets',\n",
       "  'citizendesc': 'US Citizen',\n",
       "  'sex': 'Female',\n",
       "  'maritaldesc': 'Married',\n",
       "  'emp_name': 'Brown, Mia',\n",
       "  'dot': -1,\n",
       "  'man_name': 'Brandon R. LeBlanc',\n",
       "  'racedesc': 'Black or African American',\n",
       "  'money': 28.5,\n",
       "  'dob': '11/24/85',\n",
       "  'employee_source': 'Diversity Job Fair',\n",
       "  'id': 1103024456,\n",
       "  'state': 'MA',\n",
       "  'employment_status': 'Active',\n",
       "  'position': 'Accountant I',\n",
       "  'doh': '10/27/08',\n",
       "  'department': 'Admin Offices',\n",
       "  'age': 32},\n",
       " {'rft': 'no-call, no-show',\n",
       "  'performance_score': 'Fully Meets',\n",
       "  'citizendesc': 'US Citizen',\n",
       "  'sex': 'Female',\n",
       "  'maritaldesc': 'Single',\n",
       "  'emp_name': 'Goble, Taisha',\n",
       "  'dot': '3/15/15',\n",
       "  'man_name': 'Simon Roup',\n",
       "  'racedesc': 'White',\n",
       "  'money': 48.5,\n",
       "  'dob': '10/23/71',\n",
       "  'employee_source': 'Glassdoor',\n",
       "  'id': 905013738,\n",
       "  'state': 'MA',\n",
       "  'employment_status': 'Terminated for Cause',\n",
       "  'position': 'Database Administrator',\n",
       "  'doh': '2/16/15',\n",
       "  'department': 'IT/IS',\n",
       "  'age': 46},\n",
       " {'rft': 'N/A - still employed',\n",
       "  'performance_score': '90-day meets',\n",
       "  'citizendesc': 'US Citizen',\n",
       "  'sex': 'Female',\n",
       "  'maritaldesc': 'Single',\n",
       "  'emp_name': 'Zhou, Julia',\n",
       "  'dot': -1,\n",
       "  'man_name': 'Simon Roup',\n",
       "  'racedesc': 'White',\n",
       "  'money': 31.4,\n",
       "  'dob': '2/24/79',\n",
       "  'employee_source': 'Employee Referral',\n",
       "  'id': 1110029732,\n",
       "  'state': 'MA',\n",
       "  'employment_status': 'Active',\n",
       "  'position': 'Database Administrator',\n",
       "  'doh': '3/30/15',\n",
       "  'department': 'IT/IS',\n",
       "  'age': 38},\n",
       " {'rft': 'N/A - still employed',\n",
       "  'performance_score': 'Fully Meets',\n",
       "  'citizendesc': 'US Citizen',\n",
       "  'sex': 'Female',\n",
       "  'maritaldesc': 'Married',\n",
       "  'emp_name': 'Soto, Julia ',\n",
       "  'dot': -1,\n",
       "  'man_name': 'Eric Dougall',\n",
       "  'racedesc': 'Black or African American',\n",
       "  'money': 27.49,\n",
       "  'dob': '3/12/73',\n",
       "  'employee_source': 'Information Session',\n",
       "  'id': 1203032263,\n",
       "  'state': 'MA',\n",
       "  'employment_status': 'Active',\n",
       "  'position': 'IT Support',\n",
       "  'doh': '6/10/11',\n",
       "  'department': 'IT/IS',\n",
       "  'age': 44},\n",
       " {'rft': 'N/A - still employed',\n",
       "  'performance_score': 'Fully Meets',\n",
       "  'citizendesc': 'US Citizen',\n",
       "  'sex': 'Female',\n",
       "  'maritaldesc': 'Married',\n",
       "  'emp_name': 'Morway, Tanya',\n",
       "  'dot': -1,\n",
       "  'man_name': 'Peter Monroe',\n",
       "  'racedesc': 'White',\n",
       "  'money': 27.0,\n",
       "  'dob': '4/4/79',\n",
       "  'employee_source': 'Monster.com',\n",
       "  'id': 1001956578,\n",
       "  'state': 'MA',\n",
       "  'employment_status': 'Active',\n",
       "  'position': 'Network Engineer',\n",
       "  'doh': '2/16/15',\n",
       "  'department': 'IT/IS',\n",
       "  'age': 38},\n",
       " {'rft': 'N/A - Has not started yet',\n",
       "  'performance_score': 'N/A- too early to review',\n",
       "  'citizendesc': 'US Citizen',\n",
       "  'sex': 'Female',\n",
       "  'maritaldesc': 'Single',\n",
       "  'emp_name': 'Carr, Claudia  N',\n",
       "  'dot': -1,\n",
       "  'man_name': 'Simon Roup',\n",
       "  'racedesc': 'Black or African American',\n",
       "  'money': 61.3,\n",
       "  'dob': '6/6/86',\n",
       "  'employee_source': 'Vendor Referral',\n",
       "  'id': 1010022337,\n",
       "  'state': 'MA',\n",
       "  'employment_status': 'Future Start',\n",
       "  'position': 'Sr. DBA',\n",
       "  'doh': '6/30/16',\n",
       "  'department': 'IT/IS',\n",
       "  'age': 31},\n",
       " {'rft': 'N/A - still employed',\n",
       "  'performance_score': 'Exceptional',\n",
       "  'citizendesc': 'US Citizen',\n",
       "  'sex': 'Female',\n",
       "  'maritaldesc': 'Single',\n",
       "  'emp_name': 'Anderson, Linda  ',\n",
       "  'dot': -1,\n",
       "  'man_name': 'Amy Dunn',\n",
       "  'racedesc': 'White',\n",
       "  'money': 23.0,\n",
       "  'dob': '5/22/77',\n",
       "  'employee_source': 'MBTA ads',\n",
       "  'id': 1304055947,\n",
       "  'state': 'MA',\n",
       "  'employment_status': 'Active',\n",
       "  'position': 'Production Technician I',\n",
       "  'doh': '1/9/12',\n",
       "  'department': 'Production       ',\n",
       "  'age': 40},\n",
       " {'rft': 'N/A - still employed',\n",
       "  'performance_score': 'Fully Meets',\n",
       "  'citizendesc': 'US Citizen',\n",
       "  'sex': 'Female',\n",
       "  'maritaldesc': 'Single',\n",
       "  'emp_name': 'Bachiochi, Linda',\n",
       "  'dot': -1,\n",
       "  'man_name': 'Brannon Miller',\n",
       "  'racedesc': 'Two or more races',\n",
       "  'money': 22.0,\n",
       "  'dob': '2/11/70',\n",
       "  'employee_source': 'Diversity Job Fair',\n",
       "  'id': 1212051409,\n",
       "  'state': 'MA',\n",
       "  'employment_status': 'Leave of Absence',\n",
       "  'position': 'Production Technician I',\n",
       "  'doh': '7/6/09',\n",
       "  'department': 'Production       ',\n",
       "  'age': 47},\n",
       " {'rft': 'N/A - still employed',\n",
       "  'performance_score': 'Fully Meets',\n",
       "  'citizendesc': 'US Citizen',\n",
       "  'sex': 'Female',\n",
       "  'maritaldesc': 'Single',\n",
       "  'emp_name': 'Chace, Beatrice ',\n",
       "  'dot': -1,\n",
       "  'man_name': 'Michael Albert',\n",
       "  'racedesc': 'White',\n",
       "  'money': 16.0,\n",
       "  'dob': '1/2/51',\n",
       "  'employee_source': 'Search Engine - Google Bing Yahoo',\n",
       "  'id': 1208048062,\n",
       "  'state': 'MA',\n",
       "  'employment_status': 'Active',\n",
       "  'position': 'Production Technician I',\n",
       "  'doh': '9/29/14',\n",
       "  'department': 'Production       ',\n",
       "  'age': 67},\n",
       " {'rft': 'N/A - still employed',\n",
       "  'performance_score': 'Fully Meets',\n",
       "  'citizendesc': 'US Citizen',\n",
       "  'sex': 'Female',\n",
       "  'maritaldesc': 'Single',\n",
       "  'emp_name': 'Ferreira, Violeta',\n",
       "  'dot': -1,\n",
       "  'man_name': 'Ketsia Liebig',\n",
       "  'racedesc': 'White',\n",
       "  'money': 23.0,\n",
       "  'dob': '6/10/86',\n",
       "  'employee_source': 'Newspager/Magazine',\n",
       "  'id': 803009012,\n",
       "  'state': 'MA',\n",
       "  'employment_status': 'Active',\n",
       "  'position': 'Production Technician I',\n",
       "  'doh': '2/20/12',\n",
       "  'department': 'Production       ',\n",
       "  'age': 31}]"
      ]
     },
     "execution_count": 27,
     "metadata": {},
     "output_type": "execute_result"
    }
   ],
   "source": [
    "qa.get(index='user_data', sex='Female')"
   ]
  },
  {
   "cell_type": "code",
   "execution_count": null,
   "metadata": {},
   "outputs": [],
   "source": [
    "\n",
    "def print"
   ]
  }
 ],
 "metadata": {
  "kernelspec": {
   "display_name": "Python 3",
   "language": "python",
   "name": "python3"
  },
  "language_info": {
   "codemirror_mode": {
    "name": "ipython",
    "version": 3
   },
   "file_extension": ".py",
   "mimetype": "text/x-python",
   "name": "python",
   "nbconvert_exporter": "python",
   "pygments_lexer": "ipython3",
   "version": "3.6.8"
  }
 },
 "nbformat": 4,
 "nbformat_minor": 2
}
